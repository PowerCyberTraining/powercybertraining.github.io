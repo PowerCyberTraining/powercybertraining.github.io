{
 "cells": [
  {
   "cell_type": "markdown",
   "metadata": {
    "editable": true,
    "slideshow": {
     "slide_type": ""
    },
    "tags": []
   },
   "source": [
    "# Python Fundamentals\n",
    "\n",
    "| Information | Details |\n",
    "|----------|---------|\n",
    "| Learning Objectives | • Write Python programs using core language features<br>• Transition smoothly from MATLAB to Python<br>• Apply programming concepts to engineering calculations<br>• Debug common errors in Python scripts<br>• Create reusable functions and simple classes |\n",
    "| Prerequisites | Basic programming experience (MATLAB preferred) |\n",
    "| Estimated Time | 2 hours |\n",
    "| Topics | Variables, data types, conditional statements, loops, functions, simple classes, error handling |"
   ]
  },
  {
   "cell_type": "markdown",
   "metadata": {
    "editable": true,
    "slideshow": {
     "slide_type": ""
    },
    "tags": []
   },
   "source": [
    "## Introduction\n",
    "\n",
    "Python has become a dominant programming language in engineering and scientific computing. This lesson teaches Python fundamentals with a focus on helping MATLAB users transition smoothly. We'll start with basic Python concepts and gradually introduce engineering applications.\n",
    "\n",
    "It is our goal that, by the end of this lesson, you will be comfortable writing Python programs for engineering calculations. But just like learning other programming languages, practice is key.\n",
    "\n",
    "```{admonition} For MATLAB Users\n",
    ":class: note\n",
    "This lesson includes explicit comparisons to MATLAB throughout. Look for the \"MATLAB Comparison\" boxes to understand key differences and similarities.\n",
    "```"
   ]
  },
  {
   "cell_type": "markdown",
   "metadata": {
    "editable": true,
    "slideshow": {
     "slide_type": ""
    },
    "tags": []
   },
   "source": [
    "## MATLAB to Python Quick Reference\n",
    "\n",
    "If you're coming from MATLAB, here are the critical differences you need to know:\n",
    "\n",
    "| Concept | MATLAB | Python | Key Difference |\n",
    "|---------|--------|--------|----------------|\n",
    "| Indexing | 1-based | 0-based | First element is `a[0]` not `a[1]` |\n",
    "| Code blocks | `end` statement | Indentation | Python uses indentation, not `end` |\n",
    "| Arrays | Everything is matrix | Lists vs NumPy | Use lists for general data, NumPy for math |\n",
    "| Comments | `%` | `#` | Python uses `#` for comments |\n",
    "| Power | `^` | `**` | `2**3` equals 8, not `2^3` |\n",
    "| Output | Semicolon suppresses | No semicolon needed | Python doesn't auto-display results |\n",
    "| Division | `/` always float | `/` vs `//` | `/` gives float, `//` gives \"floor\" integer division |\n",
    "\n",
    "```{admonition} Critical Warning: Zero-Based Indexing\n",
    ":class: warning\n",
    "The single biggest source of errors for MATLAB users is forgetting that Python uses 0-based indexing. The first element of a list is `list[0]`, not `list[1]`.\n",
    "```"
   ]
  },
  {
   "cell_type": "markdown",
   "metadata": {
    "editable": true,
    "slideshow": {
     "slide_type": ""
    },
    "tags": []
   },
   "source": [
    "## Getting Started with Simple Calculations\n",
    "\n",
    "Let's start with a basic calculation that you might do in any engineering context. This will introduce Python's syntax for variables, operations, and output."
   ]
  },
  {
   "cell_type": "markdown",
   "metadata": {
    "editable": true,
    "slideshow": {
     "slide_type": ""
    },
    "tags": []
   },
   "source": [
    "### Basic Arithmetic"
   ]
  },
  {
   "cell_type": "code",
   "execution_count": 1,
   "metadata": {
    "editable": true,
    "slideshow": {
     "slide_type": ""
    },
    "tags": []
   },
   "outputs": [
    {
     "name": "stdout",
     "output_type": "stream",
     "text": [
      "Power: 1200 W\n"
     ]
    }
   ],
   "source": [
    "# Calculate electrical power\n",
    "voltage = 120  # Volts\n",
    "current = 10   # Amperes\n",
    "power = voltage * current  # Watts\n",
    "\n",
    "print(f\"Power: {power} W\")"
   ]
  },
  {
   "cell_type": "markdown",
   "metadata": {
    "editable": true,
    "slideshow": {
     "slide_type": ""
    },
    "tags": []
   },
   "source": [
    "Notice that:\n",
    "- Python doesn't require variable type declarations\n",
    "- Comments use `#` instead of MATLAB's `%`\n",
    "- We must explicitly `print()` to see output (no automatic display for assignment statements)"
   ]
  },
  {
   "cell_type": "markdown",
   "metadata": {
    "editable": true,
    "slideshow": {
     "slide_type": ""
    },
    "tags": []
   },
   "source": [
    "### Using the Math Module"
   ]
  },
  {
   "cell_type": "code",
   "execution_count": 2,
   "metadata": {
    "editable": true,
    "slideshow": {
     "slide_type": ""
    },
    "tags": []
   },
   "outputs": [
    {
     "name": "stdout",
     "output_type": "stream",
     "text": [
      "Real power: 1039.2 W\n",
      "Power factor: 0.866\n"
     ]
    }
   ],
   "source": [
    "import math\n",
    "\n",
    "# Calculate power in AC circuit\n",
    "voltage_rms = 120\n",
    "current_rms = 10\n",
    "phase_angle_deg = 30  # degrees\n",
    "\n",
    "# Convert to radians and calculate\n",
    "phase_angle_rad = math.radians(phase_angle_deg)\n",
    "real_power = voltage_rms * current_rms * math.cos(phase_angle_rad)\n",
    "\n",
    "print(f\"Real power: {real_power:.1f} W\")\n",
    "print(f\"Power factor: {math.cos(phase_angle_rad):.3f}\")"
   ]
  },
  {
   "cell_type": "markdown",
   "metadata": {
    "editable": true,
    "slideshow": {
     "slide_type": ""
    },
    "tags": []
   },
   "source": [
    "```{admonition} Tip: F-strings for Formatting\n",
    ":class: tip\n",
    "Python's f-strings (the `f\"...\"` syntax) are the most readable way to format output. Use `{variable:.Nf}` to display N decimal places.\n",
    "```"
   ]
  },
  {
   "cell_type": "markdown",
   "metadata": {
    "editable": true,
    "slideshow": {
     "slide_type": ""
    },
    "tags": []
   },
   "source": [
    "## Variables and Data Types\n",
    "\n",
    "Python provides several built-in data types for different kinds of information. Let's explore the most common ones you'll use in engineering calculations."
   ]
  },
  {
   "cell_type": "markdown",
   "metadata": {
    "editable": true,
    "slideshow": {
     "slide_type": ""
    },
    "tags": []
   },
   "source": [
    "### Numbers: Integers and Floats\n",
    "\n",
    "Python distinguishes between integers (whole numbers) and floating-point numbers (decimals)."
   ]
  },
  {
   "cell_type": "code",
   "execution_count": 3,
   "metadata": {
    "editable": true,
    "slideshow": {
     "slide_type": ""
    },
    "tags": []
   },
   "outputs": [],
   "source": [
    "# Integer values\n",
    "num_components = 5\n",
    "rated_voltage = 230  # V\n",
    "\n",
    "# Floating-point values\n",
    "resistance = 10.5  # Ohms\n",
    "temperature = 25.3  # Celsius"
   ]
  },
  {
   "cell_type": "code",
   "execution_count": 4,
   "metadata": {
    "editable": true,
    "slideshow": {
     "slide_type": ""
    },
    "tags": []
   },
   "outputs": [
    {
     "name": "stdout",
     "output_type": "stream",
     "text": [
      "Type of num_components: <class 'int'>\n",
      "Type of resistance: <class 'float'>\n"
     ]
    }
   ],
   "source": [
    "# Check types\n",
    "print(f\"Type of num_components: {type(num_components)}\")\n",
    "print(f\"Type of resistance: {type(resistance)}\")"
   ]
  },
  {
   "cell_type": "markdown",
   "metadata": {
    "editable": true,
    "slideshow": {
     "slide_type": ""
    },
    "tags": []
   },
   "source": [
    "### Type Conversion"
   ]
  },
  {
   "cell_type": "code",
   "execution_count": 5,
   "metadata": {
    "editable": true,
    "slideshow": {
     "slide_type": ""
    },
    "tags": []
   },
   "outputs": [
    {
     "name": "stdout",
     "output_type": "stream",
     "text": [
      "String: 240 (type: <class 'str'>)\n",
      "Integer: 240 (type: <class 'int'>)\n",
      "Float: 240.0 (type: <class 'float'>)\n"
     ]
    }
   ],
   "source": [
    "# Converting between types\n",
    "voltage_string = \"240\"\n",
    "voltage_int = int(voltage_string)\n",
    "voltage_float = float(voltage_string)\n",
    "\n",
    "print(f\"String: {voltage_string} (type: {type(voltage_string)})\")\n",
    "print(f\"Integer: {voltage_int} (type: {type(voltage_int)})\")\n",
    "print(f\"Float: {voltage_float} (type: {type(voltage_float)})\")"
   ]
  },
  {
   "cell_type": "markdown",
   "metadata": {
    "editable": true,
    "slideshow": {
     "slide_type": ""
    },
    "tags": []
   },
   "source": [
    "```{admonition} MATLAB Comparison: Variable Types\n",
    ":class: note\n",
    "Unlike MATLAB where everything is a matrix by default, Python has distinct types for integers, floats, and strings. Python is dynamically typed - you don't declare types, but they matter for operations.\n",
    "```"
   ]
  },
  {
   "cell_type": "markdown",
   "metadata": {
    "editable": true,
    "slideshow": {
     "slide_type": ""
    },
    "tags": []
   },
   "source": [
    "### Strings for Labels and Names"
   ]
  },
  {
   "cell_type": "code",
   "execution_count": 6,
   "metadata": {
    "editable": true,
    "slideshow": {
     "slide_type": ""
    },
    "tags": []
   },
   "outputs": [
    {
     "name": "stdout",
     "output_type": "stream",
     "text": [
      "Resistor_R1 (10kW)\n"
     ]
    }
   ],
   "source": [
    "# String variables\n",
    "component_name = \"Resistor_R1\"\n",
    "unit_label = \"kW\"\n",
    "\n",
    "# String operations\n",
    "full_label = component_name + \" (10\" + unit_label + \")\"\n",
    "print(full_label)"
   ]
  },
  {
   "cell_type": "code",
   "execution_count": 7,
   "metadata": {
    "editable": true,
    "slideshow": {
     "slide_type": ""
    },
    "tags": []
   },
   "outputs": [
    {
     "name": "stdout",
     "output_type": "stream",
     "text": [
      "Lowercase: gen_001_active\n",
      "Contains 'GEN': True\n",
      "First 7 characters: GEN_001\n"
     ]
    }
   ],
   "source": [
    "# String methods\n",
    "equipment_id = \"GEN_001_ACTIVE\"\n",
    "print(f\"Lowercase: {equipment_id.lower()}\")\n",
    "print(f\"Contains 'GEN': {'GEN' in equipment_id}\")\n",
    "print(f\"First 7 characters: {equipment_id[:7]}\")"
   ]
  },
  {
   "cell_type": "markdown",
   "metadata": {
    "editable": true,
    "slideshow": {
     "slide_type": ""
    },
    "tags": []
   },
   "source": [
    "### Lists: Collections of Values\n",
    "\n",
    "Lists are Python's most versatile data structure for storing collections."
   ]
  },
  {
   "cell_type": "code",
   "execution_count": 8,
   "metadata": {},
   "outputs": [
    {
     "name": "stdout",
     "output_type": "stream",
     "text": [
      "Measurements: [23.5, 24.1, 23.8, 24.3, 23.9]\n",
      "Number of measurements: 5\n"
     ]
    }
   ],
   "source": [
    "# Creating lists\n",
    "measurements = [23.5, 24.1, 23.8, 24.3, 23.9]  # Temperature readings\n",
    "components = [\"R1\", \"R2\", \"C1\", \"L1\"]  # Component names\n",
    "\n",
    "print(f\"Measurements: {measurements}\")\n",
    "print(f\"Number of measurements: {len(measurements)}\")"
   ]
  },
  {
   "cell_type": "markdown",
   "metadata": {},
   "source": [
    "### List Operations"
   ]
  },
  {
   "cell_type": "code",
   "execution_count": 9,
   "metadata": {},
   "outputs": [
    {
     "name": "stdout",
     "output_type": "stream",
     "text": [
      "Average: 23.92°C\n",
      "Range: 23.5°C to 24.3°C\n"
     ]
    }
   ],
   "source": [
    "# Basic operations\n",
    "avg_temp = sum(measurements) / len(measurements)\n",
    "max_temp = max(measurements)\n",
    "min_temp = min(measurements)\n",
    "\n",
    "print(f\"Average: {avg_temp:.2f}°C\")\n",
    "print(f\"Range: {min_temp}°C to {max_temp}°C\")"
   ]
  },
  {
   "cell_type": "code",
   "execution_count": 10,
   "metadata": {},
   "outputs": [
    {
     "name": "stdout",
     "output_type": "stream",
     "text": [
      "First measurement: 23.5\n",
      "Last measurement: 23.9\n",
      "Middle three: [24.1, 23.8, 24.3]\n"
     ]
    }
   ],
   "source": [
    "# Accessing elements (remember: 0-based indexing!)\n",
    "print(f\"First measurement: {measurements[0]}\")\n",
    "print(f\"Last measurement: {measurements[-1]}\")\n",
    "print(f\"Middle three: {measurements[1:4]}\")"
   ]
  },
  {
   "cell_type": "markdown",
   "metadata": {},
   "source": [
    "```{admonition} Warning: Zero-Based Indexing\n",
    ":class: warning\n",
    "Remember: Python uses 0-based indexing. The first element is at index 0, not 1. Negative indices count from the end: -1 is the last element.\n",
    "```"
   ]
  },
  {
   "cell_type": "markdown",
   "metadata": {},
   "source": [
    "### Modifying Lists"
   ]
  },
  {
   "cell_type": "code",
   "execution_count": 11,
   "metadata": {},
   "outputs": [
    {
     "name": "stdout",
     "output_type": "stream",
     "text": [
      "After append: [23.5, 24.1, 23.8, 24.3, 23.9, 24.5]\n",
      "After pop: [23.5, 24.1, 23.8, 24.3, 23.9]\n"
     ]
    }
   ],
   "source": [
    "# Adding elements\n",
    "measurements.append(24.5)  # Add to end\n",
    "print(f\"After append: {measurements}\")\n",
    "\n",
    "# Removing elements\n",
    "measurements.pop()  # Remove last\n",
    "print(f\"After pop: {measurements}\")"
   ]
  },
  {
   "cell_type": "markdown",
   "metadata": {},
   "source": [
    "### Dictionaries: Named Values\n",
    "\n",
    "Dictionaries store data with named keys, similar to MATLAB structures."
   ]
  },
  {
   "cell_type": "code",
   "execution_count": 12,
   "metadata": {},
   "outputs": [
    {
     "name": "stdout",
     "output_type": "stream",
     "text": [
      "Voltage: 12 V\n",
      "Current: 2.5 A\n"
     ]
    }
   ],
   "source": [
    "# Creating a dictionary\n",
    "circuit = {\n",
    "    \"voltage\": 12,\n",
    "    \"current\": 2.5,\n",
    "    \"resistance\": 4.8,\n",
    "    \"power\": 30\n",
    "}\n",
    "\n",
    "print(f\"Voltage: {circuit['voltage']} V\")\n",
    "print(f\"Current: {circuit['current']} A\")"
   ]
  },
  {
   "cell_type": "code",
   "execution_count": 13,
   "metadata": {},
   "outputs": [
    {
     "name": "stdout",
     "output_type": "stream",
     "text": [
      "Updated power: 30.0 W\n",
      "All keys: ['voltage', 'current', 'resistance', 'power', 'frequency']\n"
     ]
    }
   ],
   "source": [
    "# Adding and modifying values\n",
    "circuit[\"frequency\"] = 60  # Add new key\n",
    "circuit[\"power\"] = circuit[\"voltage\"] * circuit[\"current\"]  # Update\n",
    "\n",
    "print(f\"Updated power: {circuit['power']} W\")\n",
    "print(f\"All keys: {list(circuit.keys())}\")"
   ]
  },
  {
   "cell_type": "markdown",
   "metadata": {},
   "source": [
    "```{admonition} MATLAB Comparison: Dictionaries vs Structures\n",
    ":class: note\n",
    "Python dictionaries are like MATLAB structures but use bracket notation (`dict['key']`) instead of dot notation (`struct.field`). Keys must be strings (or other immutable types).\n",
    "```"
   ]
  },
  {
   "cell_type": "markdown",
   "metadata": {},
   "source": [
    "### Exercise 1: Working with Data Types\n",
    "\n",
    "Create a dictionary called `component` to represent an electrical component with these properties:\n",
    "- Key `\"name\"` with value `\"R1\"` \n",
    "- Key `\"resistance\"` with value `47` (ohms)\n",
    "- Key `\"tolerance\"` with value `5` (%)\n",
    "- Key `\"temp_coefficients\"` with value `[0.002, 0.003, 0.0025]`\n",
    "\n",
    "Calculate the resistance range based on tolerance:\n",
    "- Store the nominal resistance in a variable `r`\n",
    "- Store the tolerance percentage in a variable `tol`\n",
    "- Calculate `r_min` as the minimum resistance (r × (1 - tol/100))\n",
    "- Calculate `r_max` as the maximum resistance (r × (1 + tol/100))\n",
    "- Print the component name and resistance range\n",
    "\n",
    "Finally, calculate the average temperature coefficient from the list and print it with 4 decimal places.\n",
    "\n",
    "```{admonition} Hint\n",
    ":class: hint\n",
    "Access dictionary values using `component[\"key_name\"]`. Use `sum()` and `len()` to calculate the average of a list.\n",
    "```"
   ]
  },
  {
   "cell_type": "code",
   "execution_count": 14,
   "metadata": {
    "editable": true,
    "slideshow": {
     "slide_type": ""
    },
    "tags": [
     "hide-cell"
    ]
   },
   "outputs": [
    {
     "name": "stdout",
     "output_type": "stream",
     "text": [
      "Component: R1\n",
      "Resistance range: 44.6 - 49.4 Ω\n",
      "Average temp coefficient: 0.0025\n"
     ]
    }
   ],
   "source": [
    "# Solution\n",
    "component = {\n",
    "    \"name\": \"R1\",\n",
    "    \"resistance\": 47,\n",
    "    \"tolerance\": 5,\n",
    "    \"temp_coefficients\": [0.002, 0.003, 0.0025]\n",
    "}\n",
    "\n",
    "# Solution\n",
    "component = {\n",
    "    \"name\": \"R1\",\n",
    "    \"resistance\": 47,\n",
    "    \"tolerance\": 5,\n",
    "    \"temp_coefficients\": [0.002, 0.003, 0.0025]\n",
    "}\n",
    "\n",
    "# Calculate resistance range\n",
    "r = component[\"resistance\"]\n",
    "tol = component[\"tolerance\"]\n",
    "r_min = r * (1 - tol/100)\n",
    "r_max = r * (1 + tol/100)\n",
    "\n",
    "print(f\"Component: {component['name']}\")\n",
    "print(f\"Resistance range: {r_min:.1f} - {r_max:.1f} Ω\")\n",
    "\n",
    "# Average temperature coefficient\n",
    "avg_coeff = sum(component[\"temp_coefficients\"]) / len(component[\"temp_coefficients\"])\n",
    "print(f\"Average temp coefficient: {avg_coeff:.4f}\")"
   ]
  },
  {
   "cell_type": "markdown",
   "metadata": {
    "editable": true,
    "slideshow": {
     "slide_type": ""
    },
    "tags": []
   },
   "source": [
    "## Conditional Statements and Loops\n",
    "\n",
    "Programs need to make decisions and repeat operations. Python provides several constructs for program flow control."
   ]
  },
  {
   "cell_type": "markdown",
   "metadata": {
    "editable": true,
    "slideshow": {
     "slide_type": ""
    },
    "tags": []
   },
   "source": [
    "### If-Elif-Else Statements\n",
    "\n",
    "Conditional statements allow different code to run based on conditions.\n",
    "\n",
    "```{admonition} Important: Indentation\n",
    ":class: important\n",
    "Python uses indentation to define code blocks. Always use 4 spaces for each indentation level. Most editors handle this automatically.\n",
    "```"
   ]
  },
  {
   "cell_type": "code",
   "execution_count": 15,
   "metadata": {},
   "outputs": [
    {
     "name": "stdout",
     "output_type": "stream",
     "text": [
      "Voltage within acceptable range\n"
     ]
    }
   ],
   "source": [
    "# Simple voltage check\n",
    "voltage = 118\n",
    "\n",
    "if voltage < 110:\n",
    "    print(\"Voltage too low\")\n",
    "elif voltage > 125:\n",
    "    print(\"Voltage too high\")\n",
    "else:\n",
    "    print(\"Voltage within acceptable range\")"
   ]
  },
  {
   "cell_type": "markdown",
   "metadata": {},
   "source": [
    "### Multiple Conditions"
   ]
  },
  {
   "cell_type": "code",
   "execution_count": 16,
   "metadata": {},
   "outputs": [
    {
     "name": "stdout",
     "output_type": "stream",
     "text": [
      "Operating conditions normal\n"
     ]
    }
   ],
   "source": [
    "# Temperature and humidity check\n",
    "temperature = 28\n",
    "humidity = 65\n",
    "\n",
    "if temperature > 30 and humidity > 70:\n",
    "    print(\"High temperature and humidity - cooling required\")\n",
    "elif temperature > 30 or humidity > 70:\n",
    "    print(\"Either temperature or humidity high - monitor closely\")\n",
    "else:\n",
    "    print(\"Operating conditions normal\")"
   ]
  },
  {
   "cell_type": "markdown",
   "metadata": {},
   "source": [
    "```{admonition} MATLAB Comparison: if-elif-else\n",
    ":class: note\n",
    "Python uses `elif` instead of MATLAB's `elseif`. Conditions must end with a colon (`:`), and the code block must be indented. No `end` statement is needed.\n",
    "```"
   ]
  },
  {
   "cell_type": "markdown",
   "metadata": {},
   "source": [
    "### For Loops\n",
    "\n",
    "For loops iterate over sequences (lists, ranges, etc.)."
   ]
  },
  {
   "cell_type": "code",
   "execution_count": 17,
   "metadata": {},
   "outputs": [
    {
     "name": "stdout",
     "output_type": "stream",
     "text": [
      "Resistance values:\n",
      "  R = 10 Ω, G = 0.1000 S\n",
      "  R = 22 Ω, G = 0.0455 S\n",
      "  R = 47 Ω, G = 0.0213 S\n",
      "  R = 100 Ω, G = 0.0100 S\n",
      "  R = 220 Ω, G = 0.0045 S\n"
     ]
    }
   ],
   "source": [
    "# Loop through a list\n",
    "resistances = [10, 22, 47, 100, 220]\n",
    "\n",
    "print(\"Resistance values:\")\n",
    "for r in resistances:\n",
    "    conductance = 1 / r\n",
    "    print(f\"  R = {r} Ω, G = {conductance:.4f} S\")"
   ]
  },
  {
   "cell_type": "markdown",
   "metadata": {},
   "source": [
    "### Using range() for Counting"
   ]
  },
  {
   "cell_type": "code",
   "execution_count": 18,
   "metadata": {},
   "outputs": [
    {
     "name": "stdout",
     "output_type": "stream",
     "text": [
      "Counting from 0 to 4:\n",
      "  Index 0\n",
      "  Index 1\n",
      "  Index 2\n",
      "  Index 3\n",
      "  Index 4\n"
     ]
    }
   ],
   "source": [
    "# Generate sequence of numbers\n",
    "print(\"Counting from 0 to 4:\")\n",
    "for i in range(5):\n",
    "    print(f\"  Index {i}\")"
   ]
  },
  {
   "cell_type": "code",
   "execution_count": 19,
   "metadata": {},
   "outputs": [
    {
     "name": "stdout",
     "output_type": "stream",
     "text": [
      "\n",
      "Voltage steps from 100V to 130V:\n",
      "  100 V\n",
      "  110 V\n",
      "  120 V\n",
      "  130 V\n"
     ]
    }
   ],
   "source": [
    "# Using range with start, stop, step\n",
    "print(\"\\nVoltage steps from 100V to 130V:\")\n",
    "for v in range(100, 131, 10):\n",
    "    print(f\"  {v} V\")"
   ]
  },
  {
   "cell_type": "markdown",
   "metadata": {},
   "source": [
    "### While Loops\n",
    "\n",
    "While loops continue as long as a condition is true."
   ]
  },
  {
   "cell_type": "code",
   "execution_count": 20,
   "metadata": {},
   "outputs": [
    {
     "name": "stdout",
     "output_type": "stream",
     "text": [
      "Halving until below 10:\n",
      "  Iteration 1: value = 50.00\n",
      "  Iteration 2: value = 25.00\n",
      "  Iteration 3: value = 12.50\n",
      "  Iteration 4: value = 6.25\n",
      "Final value: 6.25 after 4 iterations\n"
     ]
    }
   ],
   "source": [
    "# Iterative calculation\n",
    "value = 100\n",
    "iterations = 0\n",
    "\n",
    "print(\"Halving until below 10:\")\n",
    "while value > 10:\n",
    "    value = value / 2\n",
    "    iterations += 1\n",
    "    print(f\"  Iteration {iterations}: value = {value:.2f}\")\n",
    "\n",
    "print(f\"Final value: {value:.2f} after {iterations} iterations\")"
   ]
  },
  {
   "cell_type": "markdown",
   "metadata": {},
   "source": [
    "```{admonition} Tip: enumerate() and zip()\n",
    ":class: tip\n",
    "Use `enumerate()` when you need both index and value. Use `zip()` to iterate over multiple lists together.\n",
    "```"
   ]
  },
  {
   "cell_type": "code",
   "execution_count": 21,
   "metadata": {},
   "outputs": [
    {
     "name": "stdout",
     "output_type": "stream",
     "text": [
      "Component 0: R1\n",
      "Component 1: R2\n",
      "Component 2: C1\n"
     ]
    }
   ],
   "source": [
    "# Using enumerate for index and value\n",
    "components = [\"R1\", \"R2\", \"C1\"]\n",
    "for i, name in enumerate(components):\n",
    "    print(f\"Component {i}: {name}\")"
   ]
  },
  {
   "cell_type": "code",
   "execution_count": 22,
   "metadata": {},
   "outputs": [
    {
     "name": "stdout",
     "output_type": "stream",
     "text": [
      "R1: 10 Ω\n",
      "R2: 22 Ω\n",
      "R3: 47 Ω\n"
     ]
    }
   ],
   "source": [
    "# Using zip to combine lists\n",
    "names = [\"R1\", \"R2\", \"R3\"]\n",
    "values = [10, 22, 47]\n",
    "for name, value in zip(names, values):\n",
    "    print(f\"{name}: {value} Ω\")"
   ]
  },
  {
   "cell_type": "markdown",
   "metadata": {
    "editable": true,
    "slideshow": {
     "slide_type": ""
    },
    "tags": []
   },
   "source": [
    "### Exercise 2: Temperature Monitoring\n",
    "\n",
    "Given a list of hourly temperature readings, write code that counts how many readings exceed 25°C and identifies the hours when temperature was highest.\n",
    "\n",
    "Use this data: `temps = [22, 23, 24, 26, 28, 27, 26, 24, 23, 22]` (representing hours 0-9)\n",
    "\n",
    "```{admonition} Hint\n",
    ":class: hint\n",
    "Use a for loop with enumerate to get both index (hour) and temperature. Keep track of the maximum temperature and its hour.\n",
    "```"
   ]
  },
  {
   "cell_type": "code",
   "execution_count": 23,
   "metadata": {
    "editable": true,
    "slideshow": {
     "slide_type": ""
    },
    "tags": [
     "hide-cell"
    ]
   },
   "outputs": [
    {
     "name": "stdout",
     "output_type": "stream",
     "text": [
      "Readings above 25°C: 4\n",
      "Maximum temperature: 28°C at hour 4\n"
     ]
    }
   ],
   "source": [
    "# Solution\n",
    "temps = [22, 23, 24, 26, 28, 27, 26, 24, 23, 22]\n",
    "\n",
    "# Count readings above 25°C\n",
    "count_high = 0\n",
    "max_temp = temps[0]\n",
    "max_hour = 0\n",
    "\n",
    "for hour, temp in enumerate(temps):\n",
    "    if temp > 25:\n",
    "        count_high += 1\n",
    "    if temp > max_temp:\n",
    "        max_temp = temp\n",
    "        max_hour = hour\n",
    "\n",
    "print(f\"Readings above 25°C: {count_high}\")\n",
    "print(f\"Maximum temperature: {max_temp}°C at hour {max_hour}\")"
   ]
  },
  {
   "cell_type": "markdown",
   "metadata": {
    "editable": true,
    "slideshow": {
     "slide_type": ""
    },
    "tags": []
   },
   "source": [
    "## Functions\n",
    "\n",
    "Functions allow you to organize code into reusable blocks. They make programs more modular and easier to test."
   ]
  },
  {
   "cell_type": "markdown",
   "metadata": {
    "editable": true,
    "slideshow": {
     "slide_type": ""
    },
    "tags": []
   },
   "source": [
    "### Defining Functions\n",
    "\n",
    "```{admonition} Best Practice: Docstrings\n",
    ":class: tip\n",
    "Always include a docstring (triple-quoted string) after the function definition to describe what it does.\n",
    "```"
   ]
  },
  {
   "cell_type": "code",
   "execution_count": 24,
   "metadata": {
    "editable": true,
    "slideshow": {
     "slide_type": ""
    },
    "tags": []
   },
   "outputs": [],
   "source": [
    "def calculate_power(voltage, current):\n",
    "    \"\"\"\n",
    "    Calculate electrical power.\n",
    "    \n",
    "    Parameters:\n",
    "    -----------\n",
    "        voltage: Voltage in volts\n",
    "        current: Current in amperes\n",
    "    \n",
    "    Returns:\n",
    "    --------\n",
    "        Power in watts\n",
    "    \"\"\"\n",
    "    power = voltage * current\n",
    "    return power"
   ]
  },
  {
   "cell_type": "code",
   "execution_count": 25,
   "metadata": {
    "editable": true,
    "slideshow": {
     "slide_type": ""
    },
    "tags": []
   },
   "outputs": [
    {
     "name": "stdout",
     "output_type": "stream",
     "text": [
      "Power: 300.0 W\n"
     ]
    }
   ],
   "source": [
    "# Using the function\n",
    "p = calculate_power(120, 2.5)\n",
    "print(f\"Power: {p} W\")"
   ]
  },
  {
   "cell_type": "markdown",
   "metadata": {},
   "source": [
    "### Functions with Default Parameters"
   ]
  },
  {
   "cell_type": "code",
   "execution_count": 26,
   "metadata": {
    "editable": true,
    "slideshow": {
     "slide_type": ""
    },
    "tags": []
   },
   "outputs": [],
   "source": [
    "def calculate_resistance(voltage, current, safety_factor=1.0):\n",
    "    \"\"\"\n",
    "    Calculate resistance using Ohm's law.\n",
    "    \n",
    "    Parameters:\n",
    "    -----------\n",
    "        voltage: Voltage in volts\n",
    "        current: Current in amperes\n",
    "        safety_factor: Optional multiplier (default 1.0)\n",
    "    \"\"\"\n",
    "    if current == 0:\n",
    "        return float('inf')  # Infinite resistance\n",
    "    \n",
    "    resistance = (voltage / current) * safety_factor\n",
    "    return resistance"
   ]
  },
  {
   "cell_type": "code",
   "execution_count": 27,
   "metadata": {
    "editable": true,
    "slideshow": {
     "slide_type": ""
    },
    "tags": []
   },
   "outputs": [
    {
     "name": "stdout",
     "output_type": "stream",
     "text": [
      "Standard: 24.0 Ω\n",
      "With safety factor: 28.799999999999997 Ω\n"
     ]
    }
   ],
   "source": [
    "# Using with and without default parameter\n",
    "r1 = calculate_resistance(12, 0.5)  # Uses default safety_factor=1.0\n",
    "r2 = calculate_resistance(12, 0.5, safety_factor=1.2)\n",
    "\n",
    "print(f\"Standard: {r1} Ω\")\n",
    "print(f\"With safety factor: {r2} Ω\")"
   ]
  },
  {
   "cell_type": "markdown",
   "metadata": {},
   "source": [
    "### Returning Multiple Values"
   ]
  },
  {
   "cell_type": "code",
   "execution_count": 28,
   "metadata": {
    "editable": true,
    "slideshow": {
     "slide_type": ""
    },
    "tags": []
   },
   "outputs": [],
   "source": [
    "def analyze_measurements(data):\n",
    "    \"\"\"\n",
    "    Calculate statistics for a list of measurements.\n",
    "    \n",
    "    Returns:\n",
    "    --------\n",
    "        (mean, minimum, maximum)\n",
    "    \"\"\"\n",
    "    mean_val = sum(data) / len(data)\n",
    "    min_val = min(data)\n",
    "    max_val = max(data)\n",
    "    \n",
    "    return mean_val, min_val, max_val"
   ]
  },
  {
   "cell_type": "code",
   "execution_count": 29,
   "metadata": {
    "editable": true,
    "slideshow": {
     "slide_type": ""
    },
    "tags": []
   },
   "outputs": [
    {
     "name": "stdout",
     "output_type": "stream",
     "text": [
      "Average: 23.92\n",
      "Range: 23.5 to 24.3\n"
     ]
    }
   ],
   "source": [
    "# Get multiple return values\n",
    "readings = [23.5, 24.1, 23.8, 24.3, 23.9]\n",
    "avg, min_r, max_r = analyze_measurements(readings)\n",
    "\n",
    "print(f\"Average: {avg:.2f}\")\n",
    "print(f\"Range: {min_r} to {max_r}\")"
   ]
  },
  {
   "cell_type": "markdown",
   "metadata": {},
   "source": [
    "```{admonition} MATLAB Comparison: Functions\n",
    ":class: note\n",
    "Python functions use `def` instead of `function`. They don't need an `end` statement. Multiple return values are automatically packed into a tuple.\n",
    "```"
   ]
  },
  {
   "cell_type": "markdown",
   "metadata": {},
   "source": [
    "### Exercise 3: Temperature Conversion Function\n",
    "\n",
    "Write a function that converts temperature between Celsius and Fahrenheit. The function should take a temperature value and a unit ('C' or 'F'), and return the converted temperature.\n",
    "\n",
    "Formulas: F = C × 9/5 + 32, C = (F - 32) × 5/9\n",
    "\n",
    "```{admonition} Hint\n",
    ":class: hint\n",
    "Use an if-elif statement to check the unit parameter. Consider what to return if an invalid unit is provided.\n",
    "```"
   ]
  },
  {
   "cell_type": "code",
   "execution_count": 30,
   "metadata": {
    "editable": true,
    "slideshow": {
     "slide_type": ""
    },
    "tags": [
     "hide-cell"
    ]
   },
   "outputs": [
    {
     "name": "stdout",
     "output_type": "stream",
     "text": [
      "25°C = 77.0°F\n",
      "77°F = 25.0°C\n"
     ]
    }
   ],
   "source": [
    "# Solution\n",
    "def convert_temperature(temp, unit):\n",
    "    \"\"\"\n",
    "    Convert temperature between Celsius and Fahrenheit.\n",
    "    \n",
    "    Parameters:\n",
    "    -----------\n",
    "        temp: Temperature value\n",
    "        unit: 'C' for Celsius, 'F' for Fahrenheit\n",
    "    \n",
    "    Returns:\n",
    "    --------\n",
    "        Converted temperature\n",
    "    \"\"\"\n",
    "    if unit.upper() == 'C':\n",
    "        # Convert Celsius to Fahrenheit\n",
    "        return temp * 9/5 + 32\n",
    "    elif unit.upper() == 'F':\n",
    "        # Convert Fahrenheit to Celsius\n",
    "        return (temp - 32) * 5/9\n",
    "    else:\n",
    "        return None  # Invalid unit\n",
    "\n",
    "# Test the function\n",
    "print(f\"25°C = {convert_temperature(25, 'C'):.1f}°F\")\n",
    "print(f\"77°F = {convert_temperature(77, 'F'):.1f}°C\")"
   ]
  },
  {
   "cell_type": "markdown",
   "metadata": {
    "editable": true,
    "slideshow": {
     "slide_type": ""
    },
    "tags": []
   },
   "source": [
    "## Error Handling\n",
    "\n",
    "Real programs need to handle unexpected inputs and errors gracefully. Python provides exception handling mechanisms for this.\n",
    "\n",
    "```{admonition} Important: When to Use Try-Except\n",
    ":class: important\n",
    "Use try-except for exceptional conditions, not normal program flow. It's better to check conditions explicitly when possible.\n",
    "```"
   ]
  },
  {
   "cell_type": "markdown",
   "metadata": {
    "editable": true,
    "slideshow": {
     "slide_type": ""
    },
    "tags": []
   },
   "source": [
    "### Basic Exception Handling"
   ]
  },
  {
   "cell_type": "code",
   "execution_count": 31,
   "metadata": {},
   "outputs": [],
   "source": [
    "def safe_divide(a, b):\n",
    "    \"\"\"\n",
    "    Safely divide two numbers.\n",
    "    \"\"\"\n",
    "    try:\n",
    "        result = a / b\n",
    "        return result\n",
    "    except ZeroDivisionError:\n",
    "        print(\"Error: Division by zero\")\n",
    "        return None"
   ]
  },
  {
   "cell_type": "code",
   "execution_count": 32,
   "metadata": {},
   "outputs": [
    {
     "name": "stdout",
     "output_type": "stream",
     "text": [
      "10 / 2 = 5.0\n",
      "Error: Division by zero\n",
      "10 / 0 = None\n"
     ]
    }
   ],
   "source": [
    "# Test with different inputs\n",
    "print(f\"10 / 2 = {safe_divide(10, 2)}\")\n",
    "print(f\"10 / 0 = {safe_divide(10, 0)}\")"
   ]
  },
  {
   "cell_type": "markdown",
   "metadata": {},
   "source": [
    "### Input Validation"
   ]
  },
  {
   "cell_type": "code",
   "execution_count": 33,
   "metadata": {},
   "outputs": [],
   "source": [
    "def calculate_current(voltage, resistance):\n",
    "    \"\"\"\n",
    "    Calculate current using Ohm's law with validation.\n",
    "    \"\"\"\n",
    "    # Validate inputs\n",
    "    if resistance <= 0:\n",
    "        raise ValueError(\"Resistance must be positive\")\n",
    "    \n",
    "    if voltage < 0:\n",
    "        raise ValueError(\"Voltage cannot be negative\")\n",
    "    \n",
    "    return voltage / resistance"
   ]
  },
  {
   "cell_type": "code",
   "execution_count": 34,
   "metadata": {},
   "outputs": [
    {
     "name": "stdout",
     "output_type": "stream",
     "text": [
      "V=12, R=4: I = 3.00 A\n",
      "V=12, R=0: Error - Resistance must be positive\n",
      "V=-5, R=10: Error - Voltage cannot be negative\n"
     ]
    }
   ],
   "source": [
    "# Test with various inputs\n",
    "test_cases = [(12, 4), (12, 0), (-5, 10)]\n",
    "\n",
    "for v, r in test_cases:\n",
    "    try:\n",
    "        i = calculate_current(v, r)\n",
    "        print(f\"V={v}, R={r}: I = {i:.2f} A\")\n",
    "    except ValueError as e:\n",
    "        print(f\"V={v}, R={r}: Error - {e}\")"
   ]
  },
  {
   "cell_type": "markdown",
   "metadata": {},
   "source": [
    "```{admonition} Warning: Specific Exceptions\n",
    ":class: warning\n",
    "Always catch specific exception types (like `ValueError` or `ZeroDivisionError`) rather than using bare `except:` clauses. This helps identify real errors.\n",
    "```"
   ]
  },
  {
   "cell_type": "markdown",
   "metadata": {},
   "source": [
    "### Handling Missing Data"
   ]
  },
  {
   "cell_type": "code",
   "execution_count": 35,
   "metadata": {},
   "outputs": [],
   "source": [
    "def process_sensor_data(data_dict):\n",
    "    \"\"\"\n",
    "    Process sensor data with missing value handling.\n",
    "    \"\"\"\n",
    "    # Required fields\n",
    "    required = ['temperature', 'pressure']\n",
    "    \n",
    "    # Check for missing fields\n",
    "    for field in required:\n",
    "        if field not in data_dict:\n",
    "            print(f\"Warning: Missing {field}, using default\")\n",
    "            # Set defaults\n",
    "            if field == 'temperature':\n",
    "                data_dict[field] = 25.0\n",
    "            elif field == 'pressure':\n",
    "                data_dict[field] = 101.3\n",
    "    \n",
    "    return data_dict"
   ]
  },
  {
   "cell_type": "code",
   "execution_count": 36,
   "metadata": {},
   "outputs": [
    {
     "name": "stdout",
     "output_type": "stream",
     "text": [
      "Sensor 1: {'temperature': 23.5, 'pressure': 102.1}\n",
      "Warning: Missing pressure, using default\n",
      "Sensor 2: {'temperature': 24.0, 'pressure': 101.3}\n"
     ]
    }
   ],
   "source": [
    "# Test with incomplete data\n",
    "sensor1 = {'temperature': 23.5, 'pressure': 102.1}\n",
    "sensor2 = {'temperature': 24.0}  # Missing pressure\n",
    "\n",
    "print(\"Sensor 1:\", process_sensor_data(sensor1))\n",
    "print(\"Sensor 2:\", process_sensor_data(sensor2))"
   ]
  },
  {
   "cell_type": "markdown",
   "metadata": {
    "editable": true,
    "slideshow": {
     "slide_type": ""
    },
    "tags": []
   },
   "source": [
    "## Introduction to Classes\n",
    "\n",
    "Classes allow you to bundle data and functions together into objects. This is useful when you want to model real-world entities with both properties and behaviors.\n",
    "\n",
    "```{admonition} What is a Class?\n",
    ":class: note\n",
    "A class is like a blueprint. When you create a class, you're defining what properties and behaviors objects of that type should have. An \"instance\" is a specific object created from that blueprint.\n",
    "```"
   ]
  },
  {
   "cell_type": "markdown",
   "metadata": {
    "editable": true,
    "slideshow": {
     "slide_type": ""
    },
    "tags": []
   },
   "source": [
    "### Simple Sensor Class"
   ]
  },
  {
   "cell_type": "code",
   "execution_count": 37,
   "metadata": {},
   "outputs": [],
   "source": [
    "class Sensor:\n",
    "    \"\"\"A simple sensor class.\"\"\"\n",
    "    \n",
    "    def __init__(self, name, unit):\n",
    "        \"\"\"Initialize the sensor.\"\"\"\n",
    "        self.name = name\n",
    "        self.unit = unit\n",
    "        self.readings = []\n",
    "    \n",
    "    def add_reading(self, value):\n",
    "        \"\"\"Add a new reading.\"\"\"\n",
    "        self.readings.append(value)\n",
    "    \n",
    "    def get_average(self):\n",
    "        \"\"\"Calculate average of readings.\"\"\"\n",
    "        if self.readings:\n",
    "            return sum(self.readings) / len(self.readings)\n",
    "        return 0\n",
    "    \n",
    "    def get_latest(self):\n",
    "        \"\"\"Get the most recent reading.\"\"\"\n",
    "        if self.readings:\n",
    "            return self.readings[-1]\n",
    "        return None"
   ]
  },
  {
   "cell_type": "markdown",
   "metadata": {},
   "source": [
    "### Using the Sensor Class"
   ]
  },
  {
   "cell_type": "code",
   "execution_count": 38,
   "metadata": {},
   "outputs": [
    {
     "name": "stdout",
     "output_type": "stream",
     "text": [
      "Temperature sensor:\n",
      "  Latest: 23.8°C\n",
      "  Average: 23.80°C\n"
     ]
    }
   ],
   "source": [
    "# Create sensor instances\n",
    "temp_sensor = Sensor(\"Temperature\", \"°C\")\n",
    "pressure_sensor = Sensor(\"Pressure\", \"kPa\")\n",
    "\n",
    "# Add readings\n",
    "temp_sensor.add_reading(23.5)\n",
    "temp_sensor.add_reading(24.1)\n",
    "temp_sensor.add_reading(23.8)\n",
    "\n",
    "# Use methods\n",
    "print(f\"{temp_sensor.name} sensor:\")\n",
    "print(f\"  Latest: {temp_sensor.get_latest()}{temp_sensor.unit}\")\n",
    "print(f\"  Average: {temp_sensor.get_average():.2f}{temp_sensor.unit}\")"
   ]
  },
  {
   "cell_type": "markdown",
   "metadata": {},
   "source": [
    "```{admonition} Important: The self Parameter\n",
    ":class: important\n",
    "Every method in a class must have `self` as its first parameter. This refers to the specific instance. Python passes it automatically when you call methods.\n",
    "```"
   ]
  },
  {
   "cell_type": "markdown",
   "metadata": {},
   "source": [
    "### Equipment Class with Status"
   ]
  },
  {
   "cell_type": "code",
   "execution_count": 39,
   "metadata": {
    "editable": true,
    "slideshow": {
     "slide_type": ""
    },
    "tags": []
   },
   "outputs": [],
   "source": [
    "class Equipment:\n",
    "    \"\"\"Represents a piece of equipment.\"\"\"\n",
    "    \n",
    "    def __init__(self, equipment_id, rated_power):\n",
    "        \"\"\"Initialize equipment.\"\"\"\n",
    "        self.id = equipment_id\n",
    "        self.rated_power = rated_power  # in kW\n",
    "        self.is_running = False\n",
    "        self.current_power = 0\n",
    "        self.hours_run = 0\n",
    "    \n",
    "    def start(self):\n",
    "        \"\"\"Start the equipment.\"\"\"\n",
    "        if not self.is_running:\n",
    "            self.is_running = True\n",
    "            self.current_power = self.rated_power * 0.8  # 80% load\n",
    "            print(f\"{self.id} started\")\n",
    "        else:\n",
    "            print(f\"{self.id} already running\")\n",
    "    \n",
    "    def stop(self):\n",
    "        \"\"\"Stop the equipment.\"\"\"\n",
    "        if self.is_running:\n",
    "            self.is_running = False\n",
    "            self.current_power = 0\n",
    "            print(f\"{self.id} stopped\")\n",
    "        else:\n",
    "            print(f\"{self.id} already stopped\")\n",
    "    \n",
    "    def run_hours(self, hours):\n",
    "        \"\"\"Log running hours.\"\"\"\n",
    "        if self.is_running:\n",
    "            self.hours_run += hours\n",
    "            energy = self.current_power * hours\n",
    "            return energy\n",
    "        return 0\n",
    "    \n",
    "    def get_status(self):\n",
    "        \"\"\"Get equipment status.\"\"\"\n",
    "        status = \"Running\" if self.is_running else \"Stopped\"\n",
    "        return f\"{self.id}: {status}, {self.current_power:.1f}/{self.rated_power} kW, {self.hours_run} hours total\""
   ]
  },
  {
   "cell_type": "code",
   "execution_count": 40,
   "metadata": {
    "editable": true,
    "slideshow": {
     "slide_type": ""
    },
    "tags": []
   },
   "outputs": [
    {
     "name": "stdout",
     "output_type": "stream",
     "text": [
      "PUMP_01 started\n",
      "FAN_01 started\n",
      "\n",
      "Energy consumed:\n",
      "  Pump: 160.0 kWh\n",
      "  Fan: 80.0 kWh\n",
      "\n",
      "Status:\n",
      "  PUMP_01: Running, 40.0/50 kW, 4 hours total\n",
      "  FAN_01: Running, 20.0/25 kW, 4 hours total\n"
     ]
    }
   ],
   "source": [
    "# Create and use equipment\n",
    "pump = Equipment(\"PUMP_01\", 50)\n",
    "fan = Equipment(\"FAN_01\", 25)\n",
    "\n",
    "# Operate equipment\n",
    "pump.start()\n",
    "fan.start()\n",
    "\n",
    "# Run for some hours\n",
    "energy_pump = pump.run_hours(4)\n",
    "energy_fan = fan.run_hours(4)\n",
    "\n",
    "print(f\"\\nEnergy consumed:\")\n",
    "print(f\"  Pump: {energy_pump} kWh\")\n",
    "print(f\"  Fan: {energy_fan} kWh\")\n",
    "\n",
    "# Check status\n",
    "print(f\"\\nStatus:\")\n",
    "print(f\"  {pump.get_status()}\")\n",
    "print(f\"  {fan.get_status()}\")"
   ]
  },
  {
   "cell_type": "markdown",
   "metadata": {
    "editable": true,
    "slideshow": {
     "slide_type": ""
    },
    "tags": []
   },
   "source": [
    "```{admonition} MATLAB Comparison: Classes\n",
    ":class: note\n",
    "Python classes are simpler than MATLAB classes. The `__init__` method is like MATLAB's constructor. No need for separate property or method blocks - everything is defined together.\n",
    "```"
   ]
  },
  {
   "cell_type": "markdown",
   "metadata": {},
   "source": [
    "### Data Logger Class"
   ]
  },
  {
   "cell_type": "code",
   "execution_count": 41,
   "metadata": {
    "editable": true,
    "slideshow": {
     "slide_type": ""
    },
    "tags": []
   },
   "outputs": [],
   "source": [
    "class DataLogger:\n",
    "    \"\"\"Logs and analyzes data points.\"\"\"\n",
    "    \n",
    "    def __init__(self, logger_name, max_points=100):\n",
    "        \"\"\"Initialize logger.\"\"\"\n",
    "        self.name = logger_name\n",
    "        self.max_points = max_points\n",
    "        self.data = []\n",
    "        self.timestamps = []\n",
    "    \n",
    "    def log(self, value, timestamp=None):\n",
    "        \"\"\"Log a data point.\"\"\"\n",
    "        # Add the value\n",
    "        self.data.append(value)\n",
    "        self.timestamps.append(timestamp)\n",
    "        \n",
    "        # Keep only max_points most recent\n",
    "        if len(self.data) > self.max_points:\n",
    "            self.data.pop(0)\n",
    "            self.timestamps.pop(0)\n",
    "    \n",
    "    def get_statistics(self):\n",
    "        \"\"\"Get statistics of logged data.\"\"\"\n",
    "        if not self.data:\n",
    "            return None\n",
    "        \n",
    "        return {\n",
    "            'count': len(self.data),\n",
    "            'mean': sum(self.data) / len(self.data),\n",
    "            'min': min(self.data),\n",
    "            'max': max(self.data)\n",
    "        }\n",
    "    \n",
    "    def clear(self):\n",
    "        \"\"\"Clear all logged data.\"\"\"\n",
    "        self.data = []\n",
    "        self.timestamps = []"
   ]
  },
  {
   "cell_type": "code",
   "execution_count": 42,
   "metadata": {
    "editable": true,
    "slideshow": {
     "slide_type": ""
    },
    "tags": []
   },
   "outputs": [
    {
     "name": "stdout",
     "output_type": "stream",
     "text": [
      "{'count': 10, 'mean': 119.7, 'min': 118, 'max': 122}\n"
     ]
    }
   ],
   "source": [
    "# Use the data logger\n",
    "voltage_logger = DataLogger(\"Voltage Monitor\", max_points=10)\n",
    "\n",
    "# Log some readings\n",
    "readings = [118, 119, 120, 122, 121, 119, 118, 120, 121, 119]\n",
    "for v in readings:\n",
    "    voltage_logger.log(v)\n",
    "\n",
    "# Get statistics\n",
    "stats = voltage_logger.get_statistics()\n",
    "print(stats)"
   ]
  },
  {
   "cell_type": "markdown",
   "metadata": {
    "editable": true,
    "slideshow": {
     "slide_type": ""
    },
    "tags": [
     "hide-cell"
    ]
   },
   "source": [
    "### Final Exercise: Create a Simple Calculator Class\n",
    "\n",
    "\n",
    "Create a `Calculator` class with the following specifications:\n",
    "\n",
    "**Initialization:**\n",
    "- Define an `__init__` method that initializes `self.value` to 0\n",
    "\n",
    "**Methods to implement:**\n",
    "- `add(self, x)`: Add x to the current value, update self.value, and return the new value\n",
    "- `subtract(self, x)`: Subtract x from the current value, update self.value, and return the new value  \n",
    "- `multiply(self, x)`: Multiply the current value by x, update self.value, and return the new value\n",
    "- `divide(self, x)`: Divide the current value by x, update self.value, and return the new value\n",
    "  - Check if x is not zero before dividing\n",
    "  - If x is zero, print \"Error: Division by zero\" and don't modify the value\n",
    "  - Always return self.value\n",
    "- `clear(self)`: Reset self.value to 0 and return 0\n",
    "- `get_value(self)`: Return the current value without modifying it\n",
    "\n",
    "Each method should include a docstring describing what it does.\n",
    "\n",
    "```{admonition} Hint\n",
    ":class: hint\n",
    "All operation methods follow the pattern: modify `self.value` using the appropriate operator (+=, -=, *=, /=) and then return `self.value`. The divide method needs an if statement to handle division by zero.\n",
    "```"
   ]
  },
  {
   "cell_type": "code",
   "execution_count": 43,
   "metadata": {
    "editable": true,
    "slideshow": {
     "slide_type": ""
    },
    "tags": [
     "hide-cell"
    ]
   },
   "outputs": [],
   "source": [
    "# Solution\n",
    "class Calculator:\n",
    "    \"\"\"Simple calculator with memory.\"\"\"\n",
    "    \n",
    "    def __init__(self):\n",
    "        \"\"\"Initialize with zero.\"\"\"\n",
    "        self.value = 0\n",
    "    \n",
    "    def add(self, x):\n",
    "        \"\"\"Add to current value.\"\"\"\n",
    "        self.value += x\n",
    "        return self.value\n",
    "    \n",
    "    def subtract(self, x):\n",
    "        \"\"\"Subtract from current value.\"\"\"\n",
    "        self.value -= x\n",
    "        return self.value\n",
    "    \n",
    "    def multiply(self, x):\n",
    "        \"\"\"Multiply current value.\"\"\"\n",
    "        self.value *= x\n",
    "        return self.value\n",
    "    \n",
    "    def divide(self, x):\n",
    "        \"\"\"Divide current value.\"\"\"\n",
    "        if x != 0:\n",
    "            self.value /= x\n",
    "        else:\n",
    "            print(\"Error: Division by zero\")\n",
    "        return self.value\n",
    "    \n",
    "    def clear(self):\n",
    "        \"\"\"Reset to zero.\"\"\"\n",
    "        self.value = 0\n",
    "        return self.value\n",
    "    \n",
    "    def get_value(self):\n",
    "        \"\"\"Get current value.\"\"\"\n",
    "        return self.value"
   ]
  },
  {
   "cell_type": "code",
   "execution_count": 45,
   "metadata": {
    "editable": true,
    "slideshow": {
     "slide_type": ""
    },
    "tags": []
   },
   "outputs": [
    {
     "name": "stdout",
     "output_type": "stream",
     "text": [
      "Initial: 0\n",
      "Add 10: 10\n",
      "Multiply by 3: 30\n",
      "Subtract 5: 25\n",
      "Divide by 5: 5.0\n",
      "Clear: 0\n"
     ]
    }
   ],
   "source": [
    "# Your class should work with the following test code\n",
    "calc = Calculator()\n",
    "print(f\"Initial: {calc.get_value()}\")\n",
    "print(f\"Add 10: {calc.add(10)}\")\n",
    "print(f\"Multiply by 3: {calc.multiply(3)}\")\n",
    "print(f\"Subtract 5: {calc.subtract(5)}\")\n",
    "print(f\"Divide by 5: {calc.divide(5)}\")\n",
    "print(f\"Clear: {calc.clear()}\")"
   ]
  },
  {
   "cell_type": "markdown",
   "metadata": {
    "editable": true,
    "slideshow": {
     "slide_type": ""
    },
    "tags": []
   },
   "source": [
    "## Summary\n",
    "\n",
    "You've learned Python fundamentals that form the foundation for engineering programming:\n",
    "\n",
    "**Data Types**: Numbers, strings, lists, and dictionaries for storing different kinds of information.\n",
    "\n",
    "**Program Flow**: Conditional statements (if-elif-else) and loops (for, while) for controlling program execution.\n",
    "\n",
    "**Functions**: Creating reusable code blocks with parameters and return values.\n",
    "\n",
    "**Error Handling**: Using try-except blocks and validation to handle errors gracefully.\n",
    "\n",
    "**Classes**: Organizing related data and functions into objects.\n",
    "\n",
    "**MATLAB Transitions**: Key differences like zero-based indexing, indentation for blocks, and Python's simpler syntax.\n",
    "\n",
    "These fundamentals prepare you for more advanced topics like NumPy for numerical computing and specialized libraries for power system analysis.\n",
    "\n",
    "```{admonition} Next Steps\n",
    ":class: tip\n",
    "Practice these concepts by:\n",
    "- Writing functions for common engineering calculations\n",
    "- Creating classes to model system components\n",
    "- Reading data from files and processing it\n",
    "- Building small programs that combine multiple concepts\n",
    "```"
   ]
  }
 ],
 "metadata": {
  "kernelspec": {
   "display_name": "Python 3 (ipykernel)",
   "language": "python",
   "name": "python3"
  },
  "language_info": {
   "codemirror_mode": {
    "name": "ipython",
    "version": 3
   },
   "file_extension": ".py",
   "mimetype": "text/x-python",
   "name": "python",
   "nbconvert_exporter": "python",
   "pygments_lexer": "ipython3",
   "version": "3.11.10"
  }
 },
 "nbformat": 4,
 "nbformat_minor": 4
}
