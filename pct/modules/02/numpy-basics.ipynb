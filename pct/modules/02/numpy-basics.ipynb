{
 "cells": [
  {
   "cell_type": "markdown",
   "metadata": {},
   "source": [
    "# NumPy for Numerical Computing\n",
    "\n",
    "```{admonition} Information\n",
    ":class: info\n",
    "\n",
    "**Prerequisites:** Module 02 Lesson 1 (Python Fundamentals)  \n",
    "**Learning Objectives:**\n",
    "- Create and manipulate NumPy arrays for engineering data\n",
    "- Perform vectorized operations for efficient calculations\n",
    "- Apply statistical analysis to measurement data\n",
    "- Work with multi-dimensional arrays and matrices\n",
    "- Understand performance benefits of NumPy over pure Python\n",
    "\n",
    "**Estimated Time:** 2 hours\n",
    "```"
   ]
  },
  {
   "cell_type": "markdown",
   "metadata": {},
   "source": [
    "## Introduction\n",
    "\n",
    "NumPy is the foundation of scientific computing in Python, providing efficient array operations that are essential for engineering analysis. Unlike Python lists, NumPy arrays enable vectorized operations that make mathematical computations both faster and clearer. This lesson demonstrates NumPy fundamentals using power system data as context, focusing on measurement processing, statistical analysis, and basic calculations.\n",
    "\n",
    "Let's begin by comparing a simple electrical calculation using pure Python versus NumPy to understand the performance and clarity benefits."
   ]
  },
  {
   "cell_type": "code",
   "execution_count": 1,
   "metadata": {},
   "outputs": [
    {
     "name": "stdout",
     "output_type": "stream",
     "text": [
      "Pure Python time: 0.17 ms\n",
      "NumPy time: 0.09 ms\n",
      "Speed improvement: 1.9x\n",
      "\n",
      "Results match: True\n"
     ]
    }
   ],
   "source": [
    "import numpy as np\n",
    "import time\n",
    "\n",
    "# Power calculation for multiple loads (P = V * I * cos(φ))\n",
    "# Pure Python approach\n",
    "def power_calculation_python(voltage_list, current_list, pf_list):\n",
    "    \"\"\"Calculate power using pure Python\"\"\"\n",
    "    powers = []\n",
    "    for i in range(len(voltage_list)):\n",
    "        power = voltage_list[i] * current_list[i] * pf_list[i]\n",
    "        powers.append(power)\n",
    "    return powers\n",
    "\n",
    "# NumPy approach\n",
    "def power_calculation_numpy(voltage, current, pf):\n",
    "    \"\"\"Calculate power using NumPy\"\"\"\n",
    "    return voltage * current * pf\n",
    "\n",
    "# Create test data for 1000 electrical loads\n",
    "n_loads = 1000\n",
    "voltage = np.random.uniform(0.95, 1.05, n_loads) * 230  # Voltage in V\n",
    "current = np.random.uniform(10, 100, n_loads)  # Current in A\n",
    "pf = np.random.uniform(0.8, 0.95, n_loads)  # Power factor\n",
    "\n",
    "# Convert to lists for Python version\n",
    "voltage_list = voltage.tolist()\n",
    "current_list = current.tolist()\n",
    "pf_list = pf.tolist()\n",
    "\n",
    "# Time comparison\n",
    "start = time.time()\n",
    "powers_python = power_calculation_python(voltage_list, current_list, pf_list)\n",
    "python_time = time.time() - start\n",
    "\n",
    "start = time.time()\n",
    "powers_numpy = power_calculation_numpy(voltage, current, pf)\n",
    "numpy_time = time.time() - start\n",
    "\n",
    "print(f\"Pure Python time: {python_time*1000:.2f} ms\")\n",
    "print(f\"NumPy time: {numpy_time*1000:.2f} ms\")\n",
    "print(f\"Speed improvement: {python_time/numpy_time:.1f}x\")\n",
    "print(f\"\\nResults match: {np.allclose(powers_python, powers_numpy)}\")"
   ]
  },
  {
   "cell_type": "markdown",
   "metadata": {},
   "source": [
    "## 1. NumPy Arrays and Power System Data\n",
    "\n",
    "NumPy arrays are the natural representation for power system measurements and data. Sensor readings, time series data, and measurement matrices all map directly to NumPy's n-dimensional arrays."
   ]
  },
  {
   "cell_type": "markdown",
   "metadata": {},
   "source": [
    "### Creating Arrays for Measurements"
   ]
  },
  {
   "cell_type": "code",
   "execution_count": 2,
   "metadata": {},
   "outputs": [
    {
     "name": "stdout",
     "output_type": "stream",
     "text": [
      "Voltage Measurement Data:\n",
      "Readings (kV): [232.5 228.9 231.2 229.8 233.1]\n",
      "\n",
      "Array properties:\n",
      "Shape: (5,)\n",
      "Data type: float64\n",
      "Memory usage: 40 bytes\n",
      "\n",
      "Per-unit values: [1.01086957 0.99521739 1.00521739 0.99913043 1.01347826]\n",
      "Average: 1.0048 pu\n",
      "Standard deviation: 0.0069 pu\n",
      "Range: 0.9952 - 1.0135 pu\n",
      "\n",
      "Voltages within limits: [ True  True  True  True  True]\n",
      "All voltages acceptable: True\n"
     ]
    }
   ],
   "source": [
    "# Voltage measurement data from 5 monitoring points\n",
    "monitor_names = ['Station_A', 'Station_B', 'Station_C', 'Station_D', 'Station_E']\n",
    "# Voltage measurements in kV (nominal 230 kV)\n",
    "voltage_readings = np.array([232.5, 228.9, 231.2, 229.8, 233.1])\n",
    "\n",
    "print(\"Voltage Measurement Data:\")\n",
    "print(f\"Readings (kV): {voltage_readings}\")\n",
    "print(f\"\\nArray properties:\")\n",
    "print(f\"Shape: {voltage_readings.shape}\")\n",
    "print(f\"Data type: {voltage_readings.dtype}\")\n",
    "print(f\"Memory usage: {voltage_readings.nbytes} bytes\")\n",
    "\n",
    "# Convert to per-unit (base = 230 kV)\n",
    "base_voltage = 230.0\n",
    "voltage_pu = voltage_readings / base_voltage\n",
    "print(f\"\\nPer-unit values: {voltage_pu}\")\n",
    "print(f\"Average: {voltage_pu.mean():.4f} pu\")\n",
    "print(f\"Standard deviation: {voltage_pu.std():.4f} pu\")\n",
    "print(f\"Range: {voltage_pu.min():.4f} - {voltage_pu.max():.4f} pu\")\n",
    "\n",
    "# Check if voltages are within acceptable limits (±5%)\n",
    "within_limits = (voltage_pu >= 0.95) & (voltage_pu <= 1.05)\n",
    "print(f\"\\nVoltages within limits: {within_limits}\")\n",
    "print(f\"All voltages acceptable: {within_limits.all()}\")"
   ]
  },
  {
   "cell_type": "markdown",
   "metadata": {},
   "source": [
    "### Working with Time Series Data"
   ]
  },
  {
   "cell_type": "code",
   "execution_count": 3,
   "metadata": {},
   "outputs": [
    {
     "name": "stdout",
     "output_type": "stream",
     "text": [
      "Daily Load Profile:\n",
      "Hour  Load (MW)\n",
      "====================\n",
      "   0     103.0\n",
      "   1     106.2\n",
      "   2     101.5\n",
      "   3     118.7\n",
      "   4     125.9\n",
      "   5     141.6\n",
      "...\n",
      "\n",
      "Daily Statistics:\n",
      "Average load: 148.9 MW\n",
      "Peak load: 198.4 MW at hour 12\n",
      "Minimum load: 101.5 MW at hour 2\n",
      "Load factor: 0.751\n",
      "\n",
      "Total daily energy: 3574 MWh\n"
     ]
    }
   ],
   "source": [
    "# Load data for 24 hours (hourly readings)\n",
    "hours = np.arange(24)\n",
    "\n",
    "# Simulate daily load pattern\n",
    "base_load = 150  # MW\n",
    "daily_pattern = base_load * (1 + 0.3 * np.sin((hours - 6) * np.pi / 12))\n",
    "# Add some random variation\n",
    "load_data = daily_pattern + np.random.normal(0, 5, 24)\n",
    "\n",
    "print(\"Daily Load Profile:\")\n",
    "print(f\"Hour  Load (MW)\")\n",
    "print(\"=\" * 20)\n",
    "for h, load in enumerate(load_data[:6]):  # Show first 6 hours\n",
    "    print(f\"{h:4d}  {load:8.1f}\")\n",
    "print(\"...\\n\")\n",
    "\n",
    "# Statistical analysis\n",
    "print(\"Daily Statistics:\")\n",
    "print(f\"Average load: {load_data.mean():.1f} MW\")\n",
    "print(f\"Peak load: {load_data.max():.1f} MW at hour {load_data.argmax()}\")\n",
    "print(f\"Minimum load: {load_data.min():.1f} MW at hour {load_data.argmin()}\")\n",
    "print(f\"Load factor: {load_data.mean() / load_data.max():.3f}\")\n",
    "\n",
    "# Calculate energy consumed\n",
    "energy = load_data.sum()  # MWh (since hourly data)\n",
    "print(f\"\\nTotal daily energy: {energy:.0f} MWh\")"
   ]
  },
  {
   "cell_type": "markdown",
   "metadata": {},
   "source": [
    "### Multi-dimensional Arrays"
   ]
  },
  {
   "cell_type": "code",
   "execution_count": 4,
   "metadata": {},
   "outputs": [
    {
     "name": "stdout",
     "output_type": "stream",
     "text": [
      "Weekly load data shape: (7, 24)\n",
      "Total size: 168 elements\n",
      "\n",
      "Average load by day:\n",
      "Mon:  150.2 MW\n",
      "Tue:  149.1 MW\n",
      "Wed:  148.9 MW\n",
      "Thu:  149.0 MW\n",
      "Fri:  149.8 MW\n",
      "Sat:  120.5 MW\n",
      "Sun:  120.2 MW\n",
      "\n",
      "Peak hour analysis:\n",
      "Peak typically occurs at hour 13\n",
      "Average peak value: 183.8 MW\n"
     ]
    }
   ],
   "source": [
    "# Create a 2D array: 7 days × 24 hours of load data\n",
    "# Each row is one day, each column is one hour\n",
    "weekly_load = np.zeros((7, 24))\n",
    "\n",
    "# Generate weekly pattern\n",
    "for day in range(7):\n",
    "    # Weekday vs weekend\n",
    "    if day < 5:  # Monday-Friday\n",
    "        base = 150\n",
    "    else:  # Weekend\n",
    "        base = 120\n",
    "    \n",
    "    daily = base * (1 + 0.3 * np.sin((hours - 6) * np.pi / 12))\n",
    "    weekly_load[day] = daily + np.random.normal(0, 5, 24)\n",
    "\n",
    "print(f\"Weekly load data shape: {weekly_load.shape}\")\n",
    "print(f\"Total size: {weekly_load.size} elements\\n\")\n",
    "\n",
    "# Analysis by dimension\n",
    "daily_average = weekly_load.mean(axis=1)  # Average across hours\n",
    "hourly_average = weekly_load.mean(axis=0)  # Average across days\n",
    "\n",
    "print(\"Average load by day:\")\n",
    "days = ['Mon', 'Tue', 'Wed', 'Thu', 'Fri', 'Sat', 'Sun']\n",
    "for day, avg in zip(days, daily_average):\n",
    "    print(f\"{day}: {avg:6.1f} MW\")\n",
    "\n",
    "print(\"\\nPeak hour analysis:\")\n",
    "peak_hour_avg = hourly_average.argmax()\n",
    "print(f\"Peak typically occurs at hour {peak_hour_avg}\")\n",
    "print(f\"Average peak value: {hourly_average[peak_hour_avg]:.1f} MW\")"
   ]
  },
  {
   "cell_type": "markdown",
   "metadata": {},
   "source": [
    "```{admonition} Exercise 1: Array Creation and Basic Operations\n",
    ":class: dropdown\n",
    "\n",
    "Create NumPy arrays for power system measurements:\n",
    "- Voltage readings: [11.2, 10.9, 11.1, 10.8, 11.3] kV (nominal 11 kV)\n",
    "- Current readings: [250, 180, 220, 195, 240] A\n",
    "- Power factor: [0.85, 0.90, 0.88, 0.92, 0.86]\n",
    "\n",
    "Calculate:\n",
    "1. Convert voltages to per-unit (base = 11 kV)\n",
    "2. Calculate apparent power S = V × I for each measurement\n",
    "3. Calculate active power P = S × PF\n",
    "4. Find the total active power and average power factor\n",
    "\n",
    "```"
   ]
  },
  {
   "cell_type": "code",
   "execution_count": 5,
   "metadata": {
    "tags": [
     "hide-cell"
    ]
   },
   "outputs": [
    {
     "name": "stdout",
     "output_type": "stream",
     "text": [
      "Voltages in per-unit: [1.01818182 0.99090909 1.00909091 0.98181818 1.02727273]\n",
      "Voltage range: 0.982 - 1.027 pu\n",
      "\n",
      "Apparent power (MVA): [2.8   1.962 2.442 2.106 2.712]\n",
      "\n",
      "Active power (MW): [2.38    1.7658  2.14896 1.93752 2.33232]\n",
      "\n",
      "Total active power: 10.56 MW\n",
      "Average power factor: 0.879\n",
      "\n",
      "Reactive power (MVAR): [1.47499153 0.85521597 1.15988574 0.82538006 1.38391742]\n",
      "Total reactive power: 5.70 MVAR\n"
     ]
    }
   ],
   "source": [
    "# Solution to Exercise 1\n",
    "# Measurement data\n",
    "voltage_kv = np.array([11.2, 10.9, 11.1, 10.8, 11.3])  # kV\n",
    "current_a = np.array([250, 180, 220, 195, 240])  # A\n",
    "power_factor = np.array([0.85, 0.90, 0.88, 0.92, 0.86])\n",
    "\n",
    "# 1. Convert to per-unit\n",
    "base_kv = 11.0\n",
    "voltage_pu = voltage_kv / base_kv\n",
    "print(f\"Voltages in per-unit: {voltage_pu}\")\n",
    "print(f\"Voltage range: {voltage_pu.min():.3f} - {voltage_pu.max():.3f} pu\")\n",
    "\n",
    "# 2. Calculate apparent power S = V × I\n",
    "apparent_power_kva = voltage_kv * current_a  # kVA\n",
    "apparent_power_mva = apparent_power_kva / 1000  # MVA\n",
    "print(f\"\\nApparent power (MVA): {apparent_power_mva}\")\n",
    "\n",
    "# 3. Calculate active power P = S × PF\n",
    "active_power_mw = apparent_power_mva * power_factor\n",
    "print(f\"\\nActive power (MW): {active_power_mw}\")\n",
    "\n",
    "# 4. Total and average\n",
    "total_active_power = active_power_mw.sum()\n",
    "avg_power_factor = (active_power_mw.sum()) / (apparent_power_mva.sum())\n",
    "\n",
    "print(f\"\\nTotal active power: {total_active_power:.2f} MW\")\n",
    "print(f\"Average power factor: {avg_power_factor:.3f}\")\n",
    "\n",
    "# Additional: Calculate reactive power\n",
    "reactive_power_mvar = apparent_power_mva * np.sqrt(1 - power_factor**2)\n",
    "print(f\"\\nReactive power (MVAR): {reactive_power_mvar}\")\n",
    "print(f\"Total reactive power: {reactive_power_mvar.sum():.2f} MVAR\")"
   ]
  },
  {
   "cell_type": "markdown",
   "metadata": {},
   "source": [
    "## 2. Array Operations and Broadcasting\n",
    "\n",
    "NumPy's strength lies in its ability to perform operations on entire arrays without explicit loops. Broadcasting allows operations between arrays of different shapes."
   ]
  },
  {
   "cell_type": "markdown",
   "metadata": {},
   "source": [
    "### Vectorized Operations"
   ]
  },
  {
   "cell_type": "code",
   "execution_count": 6,
   "metadata": {},
   "outputs": [
    {
     "name": "stdout",
     "output_type": "stream",
     "text": [
      "Resistance variation with temperature:\n",
      "Temp(°C): [15 18 22 28 35 32 25 20]\n",
      "\n",
      "Resistance values (Ohms):\n",
      "R0=0.5: [0.49  0.496 0.504 0.516 0.53  0.524 0.51  0.5  ]\n",
      "R0=0.8: [0.784  0.7936 0.8064 0.8256 0.848  0.8384 0.816  0.8   ]\n",
      "R0=0.6: [0.588  0.5952 0.6048 0.6192 0.636  0.6288 0.612  0.6   ]\n",
      "R0=0.7: [0.686  0.6944 0.7056 0.7224 0.742  0.7336 0.714  0.7   ]\n",
      "R0=0.9: [0.882  0.8928 0.9072 0.9288 0.954  0.9432 0.918  0.9   ]\n",
      "\n",
      "Average resistance: [0.50875 0.814   0.6105  0.71225 0.91575]\n",
      "Maximum resistance increase: [6. 6. 6. 6. 6.]%\n"
     ]
    }
   ],
   "source": [
    "# Temperature effect on resistance\n",
    "# R(T) = R0 * (1 + α * (T - T0))\n",
    "base_resistance = np.array([0.5, 0.8, 0.6, 0.7, 0.9])  # Ohms at 20°C\n",
    "alpha = 0.004  # Temperature coefficient (1/°C)\n",
    "base_temp = 20  # °C\n",
    "\n",
    "# Temperature readings throughout the day\n",
    "temperatures = np.array([15, 18, 22, 28, 35, 32, 25, 20])  # °C\n",
    "\n",
    "# Calculate resistance at each temperature for all conductors\n",
    "# Using broadcasting: (5,1) × (8,) -> (5,8)\n",
    "resistance_matrix = base_resistance[:, np.newaxis] * (1 + alpha * (temperatures - base_temp))\n",
    "\n",
    "print(\"Resistance variation with temperature:\")\n",
    "print(\"Temp(°C):\", temperatures)\n",
    "print(\"\\nResistance values (Ohms):\")\n",
    "for i, r0 in enumerate(base_resistance):\n",
    "    print(f\"R0={r0:.1f}: {resistance_matrix[i]}\")\n",
    "\n",
    "# Calculate average resistance for each conductor\n",
    "avg_resistance = resistance_matrix.mean(axis=1)\n",
    "print(f\"\\nAverage resistance: {avg_resistance}\")\n",
    "\n",
    "# Find maximum resistance increase\n",
    "max_increase = (resistance_matrix.max(axis=1) - base_resistance) / base_resistance * 100\n",
    "print(f\"Maximum resistance increase: {max_increase}%\")"
   ]
  },
  {
   "cell_type": "markdown",
   "metadata": {},
   "source": [
    "### Conditional Operations"
   ]
  },
  {
   "cell_type": "code",
   "execution_count": 7,
   "metadata": {},
   "outputs": [
    {
     "name": "stdout",
     "output_type": "stream",
     "text": [
      "Original data: [230.5 228.9 231.2 195.  233.1 229.8 280.  230.2 231.5 228.7]\n",
      "\n",
      "Outlier mask: [False False False  True False False  True False False False]\n",
      "Outlier values: [195. 280.]\n",
      "Outlier indices: [3 6]\n",
      "\n",
      "Median of good values: 230.3 kV\n",
      "Cleaned data: [230.5  228.9  231.2  230.35 233.1  229.8  230.35 230.2  231.5  228.7 ]\n",
      "\n",
      "Original mean: 231.9 kV\n",
      "Cleaned mean: 230.5 kV\n",
      "Original std: 19.3 kV\n",
      "Cleaned std: 1.2 kV\n"
     ]
    }
   ],
   "source": [
    "# Power quality analysis: identify and correct outliers\n",
    "# Voltage measurements with some bad data\n",
    "voltage_samples = np.array([230.5, 228.9, 231.2, 195.0, 233.1, 229.8, \n",
    "                           280.0, 230.2, 231.5, 228.7])  # kV\n",
    "\n",
    "print(f\"Original data: {voltage_samples}\")\n",
    "\n",
    "# Identify outliers (more than 10% from nominal)\n",
    "nominal = 230.0\n",
    "lower_limit = nominal * 0.9\n",
    "upper_limit = nominal * 1.1\n",
    "\n",
    "outliers = (voltage_samples < lower_limit) | (voltage_samples > upper_limit)\n",
    "print(f\"\\nOutlier mask: {outliers}\")\n",
    "print(f\"Outlier values: {voltage_samples[outliers]}\")\n",
    "print(f\"Outlier indices: {np.where(outliers)[0]}\")\n",
    "\n",
    "# Replace outliers with median of good values\n",
    "good_values = voltage_samples[~outliers]\n",
    "median_value = np.median(good_values)\n",
    "print(f\"\\nMedian of good values: {median_value:.1f} kV\")\n",
    "\n",
    "# Create cleaned data\n",
    "cleaned_data = np.where(outliers, median_value, voltage_samples)\n",
    "print(f\"Cleaned data: {cleaned_data}\")\n",
    "\n",
    "# Statistics comparison\n",
    "print(f\"\\nOriginal mean: {voltage_samples.mean():.1f} kV\")\n",
    "print(f\"Cleaned mean: {cleaned_data.mean():.1f} kV\")\n",
    "print(f\"Original std: {voltage_samples.std():.1f} kV\")\n",
    "print(f\"Cleaned std: {cleaned_data.std():.1f} kV\")"
   ]
  },
  {
   "cell_type": "markdown",
   "metadata": {},
   "source": [
    "```{admonition} Exercise 2: Array Operations and Analysis\n",
    ":class: dropdown\n",
    "\n",
    "Given hourly energy consumption data for 5 buildings over 24 hours:\n",
    "1. Create a 5×24 array with random consumption between 50-200 kWh\n",
    "2. Calculate total daily consumption for each building\n",
    "3. Find the peak hour for the entire system\n",
    "4. Calculate the load factor for each building\n",
    "5. Identify hours when total system load exceeds 600 kWh\n",
    "\n",
    "```"
   ]
  },
  {
   "cell_type": "code",
   "execution_count": 8,
   "metadata": {
    "tags": [
     "hide-cell"
    ]
   },
   "outputs": [
    {
     "name": "stdout",
     "output_type": "stream",
     "text": [
      "Consumption data shape: (5, 24)\n",
      "First building, first 6 hours: [106.18101783 192.60714596 159.79909127 139.79877263  73.40279607\n",
      "  73.39917805]\n",
      "\n",
      "Daily consumption by building (kWh):\n",
      "Building 1: 2,785\n",
      "Building 2: 2,850\n",
      "Building 3: 3,020\n",
      "Building 4: 3,036\n",
      "Building 5: 2,898\n",
      "\n",
      "System peak: 788 kWh at hour 19\n",
      "\n",
      "Load factors by building:\n",
      "Building 1: 0.594\n",
      "Building 2: 0.609\n",
      "Building 3: 0.635\n",
      "Building 4: 0.691\n",
      "Building 5: 0.637\n",
      "\n",
      "Hours with system load > 600 kWh: [ 1  2  3  4  7  8  9 11 14 16 17 19 20 21 22]\n",
      "Number of high load hours: 15\n",
      "\n",
      "System statistics:\n",
      "Average hourly load: 608 kWh\n",
      "System load factor: 0.771\n"
     ]
    }
   ],
   "source": [
    "# Solution to Exercise 2\n",
    "np.random.seed(42)  # For reproducibility\n",
    "\n",
    "# 1. Create consumption data\n",
    "buildings = 5\n",
    "hours = 24\n",
    "consumption = np.random.uniform(50, 200, (buildings, hours))  # kWh\n",
    "\n",
    "print(f\"Consumption data shape: {consumption.shape}\")\n",
    "print(f\"First building, first 6 hours: {consumption[0, :6]}\")\n",
    "\n",
    "# 2. Total daily consumption per building\n",
    "daily_total = consumption.sum(axis=1)\n",
    "print(f\"\\nDaily consumption by building (kWh):\")\n",
    "for i, total in enumerate(daily_total):\n",
    "    print(f\"Building {i+1}: {total:,.0f}\")\n",
    "\n",
    "# 3. Find peak hour for system\n",
    "hourly_system_total = consumption.sum(axis=0)\n",
    "peak_hour = hourly_system_total.argmax()\n",
    "peak_load = hourly_system_total[peak_hour]\n",
    "\n",
    "print(f\"\\nSystem peak: {peak_load:.0f} kWh at hour {peak_hour}\")\n",
    "\n",
    "# 4. Load factor for each building\n",
    "# Load factor = average load / peak load\n",
    "building_peaks = consumption.max(axis=1)\n",
    "building_average = consumption.mean(axis=1)\n",
    "load_factors = building_average / building_peaks\n",
    "\n",
    "print(f\"\\nLoad factors by building:\")\n",
    "for i, lf in enumerate(load_factors):\n",
    "    print(f\"Building {i+1}: {lf:.3f}\")\n",
    "\n",
    "# 5. Hours exceeding 600 kWh\n",
    "high_load_hours = np.where(hourly_system_total > 600)[0]\n",
    "print(f\"\\nHours with system load > 600 kWh: {high_load_hours}\")\n",
    "print(f\"Number of high load hours: {len(high_load_hours)}\")\n",
    "\n",
    "# Additional analysis\n",
    "print(f\"\\nSystem statistics:\")\n",
    "print(f\"Average hourly load: {hourly_system_total.mean():.0f} kWh\")\n",
    "print(f\"System load factor: {hourly_system_total.mean() / peak_load:.3f}\")"
   ]
  },
  {
   "cell_type": "markdown",
   "metadata": {},
   "source": [
    "## 3. Working with Complex Numbers\n",
    "\n",
    "Complex numbers are essential for AC circuit analysis. NumPy provides native support for complex arithmetic."
   ]
  },
  {
   "cell_type": "code",
   "execution_count": 9,
   "metadata": {},
   "outputs": [
    {
     "name": "stdout",
     "output_type": "stream",
     "text": [
      "Complex Power Analysis:\n",
      "Location  P(MW)  Q(MVAR)  |S|(MVA)  PF     Angle(°)\n",
      "=======================================================\n",
      "   1        100       50     111.8   0.894    26.6\n",
      "   2        150       30     153.0   0.981    11.3\n",
      "   3         80       60     100.0   0.800    36.9\n",
      "   4        120       40     126.5   0.949    18.4\n",
      "   5         90       45     100.6   0.894    26.6\n",
      "\n",
      "Total: S = (540+225j) MVA\n",
      "       = 585.0∠22.6° MVA\n",
      "\n",
      "Power Factor Correction to 0.95:\n",
      "Location 1:   17.1 MVAR capacitor needed\n",
      "Location 2:  -19.3 MVAR capacitor needed\n",
      "Location 3:   33.7 MVAR capacitor needed\n",
      "Location 4:    0.6 MVAR capacitor needed\n",
      "Location 5:   15.4 MVAR capacitor needed\n"
     ]
    }
   ],
   "source": [
    "# Complex power calculations\n",
    "# S = P + jQ (apparent power = active + j*reactive)\n",
    "\n",
    "# Power measurements at different locations\n",
    "active_power = np.array([100, 150, 80, 120, 90])  # MW\n",
    "reactive_power = np.array([50, 30, 60, 40, 45])   # MVAR\n",
    "\n",
    "# Create complex power\n",
    "complex_power = active_power + 1j * reactive_power\n",
    "\n",
    "print(\"Complex Power Analysis:\")\n",
    "print(\"Location  P(MW)  Q(MVAR)  |S|(MVA)  PF     Angle(°)\")\n",
    "print(\"=\" * 55)\n",
    "\n",
    "for i in range(len(complex_power)):\n",
    "    s = complex_power[i]\n",
    "    magnitude = abs(s)\n",
    "    angle = np.angle(s, deg=True)\n",
    "    pf = active_power[i] / magnitude\n",
    "    \n",
    "    print(f\"   {i+1}      {s.real:5.0f}    {s.imag:5.0f}    {magnitude:6.1f}   \"\n",
    "          f\"{pf:.3f}   {angle:5.1f}\")\n",
    "\n",
    "# Total system power\n",
    "total_complex = complex_power.sum()\n",
    "print(f\"\\nTotal: S = {total_complex} MVA\")\n",
    "print(f\"       = {abs(total_complex):.1f}∠{np.angle(total_complex, deg=True):.1f}° MVA\")\n",
    "\n",
    "# Power factor correction calculation\n",
    "# To improve PF to 0.95 lagging\n",
    "target_pf = 0.95\n",
    "target_angle = np.arccos(target_pf)\n",
    "target_q = active_power * np.tan(target_angle)\n",
    "q_compensation = reactive_power - target_q\n",
    "\n",
    "print(\"\\nPower Factor Correction to 0.95:\")\n",
    "for i in range(len(active_power)):\n",
    "    print(f\"Location {i+1}: {q_compensation[i]:6.1f} MVAR capacitor needed\")"
   ]
  },
  {
   "cell_type": "markdown",
   "metadata": {},
   "source": [
    "## 4. Matrix Operations\n",
    "\n",
    "Matrix operations are fundamental to many engineering calculations. NumPy provides efficient implementations of linear algebra operations."
   ]
  },
  {
   "cell_type": "markdown",
   "metadata": {},
   "source": [
    "### Basic Matrix Operations"
   ]
  },
  {
   "cell_type": "code",
   "execution_count": 10,
   "metadata": {},
   "outputs": [
    {
     "name": "stdout",
     "output_type": "stream",
     "text": [
      "Resistance matrix (Ω):\n",
      "[[0.1  0.02 0.01]\n",
      " [0.02 0.15 0.03]\n",
      " [0.01 0.03 0.12]]\n",
      "\n",
      "Current vector (A): [10 15 12]\n",
      "Voltage drops (V): [1.42 2.81 1.99]\n",
      "\n",
      "Total power dissipation: 80.2 W\n",
      "Power by element: [14.2  42.15 23.88] W\n",
      "\n",
      "Matrix properties:\n",
      "Determinant: 0.0017\n",
      "Condition number: 1.88\n",
      "Symmetric: True\n"
     ]
    }
   ],
   "source": [
    "# Resistance matrix for a network (simplified)\n",
    "# Diagonal: self-resistance, Off-diagonal: mutual resistance\n",
    "R = np.array([\n",
    "    [0.1, 0.02, 0.01],\n",
    "    [0.02, 0.15, 0.03],\n",
    "    [0.01, 0.03, 0.12]\n",
    "])\n",
    "\n",
    "print(\"Resistance matrix (Ω):\")\n",
    "print(R)\n",
    "\n",
    "# Current vector\n",
    "I = np.array([10, 15, 12])  # Amperes\n",
    "\n",
    "# Calculate voltage drops: V = R × I\n",
    "V = R @ I  # Matrix multiplication\n",
    "print(f\"\\nCurrent vector (A): {I}\")\n",
    "print(f\"Voltage drops (V): {V}\")\n",
    "\n",
    "# Power dissipation: P = I^T × V\n",
    "P_total = I @ V  # Dot product\n",
    "print(f\"\\nTotal power dissipation: {P_total:.1f} W\")\n",
    "\n",
    "# Individual power dissipation\n",
    "P_individual = I * V\n",
    "print(f\"Power by element: {P_individual} W\")\n",
    "\n",
    "# Matrix properties\n",
    "print(f\"\\nMatrix properties:\")\n",
    "print(f\"Determinant: {np.linalg.det(R):.4f}\")\n",
    "print(f\"Condition number: {np.linalg.cond(R):.2f}\")\n",
    "print(f\"Symmetric: {np.allclose(R, R.T)}\")"
   ]
  },
  {
   "cell_type": "markdown",
   "metadata": {},
   "source": [
    "### Solving Linear Systems"
   ]
  },
  {
   "cell_type": "code",
   "execution_count": 11,
   "metadata": {},
   "outputs": [
    {
     "name": "stdout",
     "output_type": "stream",
     "text": [
      "Network Solution:\n",
      "Node  Voltage (V)           Current (A)           |I| (A)\n",
      "============================================================\n",
      " 1        (230+0j)     (187.25165835757147-514.5030217577109j)      547.5\n",
      " 2        (225-5j)     (115.54561509922269-271.9104162864128j)      295.4\n",
      " 3       (220-10j)     (118.93113921084279-431.53964938220633j)      447.6\n",
      "\n",
      "Verification (should match source voltages):\n",
      "V_check: [230.-1.95399252e-14j 225.-5.00000000e+00j 220.-1.00000000e+01j]\n",
      "Error: 1.95e-14\n",
      "\n",
      "Complex power at each node:\n",
      "Node 1: P = 43067.9 W, Q = 118335.7 VAR\n",
      "Node 2: P = 27357.3 W, Q = 60602.1 VAR\n",
      "Node 3: P = 30480.2 W, Q = 93749.4 VAR\n"
     ]
    }
   ],
   "source": [
    "# Solve for currents given voltages and impedances\n",
    "# V = Z × I, solve for I\n",
    "\n",
    "# Impedance matrix (simplified 3-node network)\n",
    "Z = np.array([\n",
    "    [0.1+0.3j, 0.05+0.1j, 0.02+0.05j],\n",
    "    [0.05+0.1j, 0.15+0.4j, 0.03+0.08j],\n",
    "    [0.02+0.05j, 0.03+0.08j, 0.12+0.35j]\n",
    "], dtype=complex)\n",
    "\n",
    "# Voltage sources\n",
    "V_sources = np.array([230+0j, 225-5j, 220-10j], dtype=complex)  # V\n",
    "\n",
    "# Solve for currents\n",
    "I_solved = np.linalg.solve(Z, V_sources)\n",
    "\n",
    "print(\"Network Solution:\")\n",
    "print(\"Node  Voltage (V)           Current (A)           |I| (A)\")\n",
    "print(\"=\" * 60)\n",
    "for i in range(3):\n",
    "    print(f\" {i+1}    {V_sources[i]:12}     {I_solved[i]:12}     {abs(I_solved[i]):6.1f}\")\n",
    "\n",
    "# Verify solution: V_check = Z × I\n",
    "V_check = Z @ I_solved\n",
    "print(f\"\\nVerification (should match source voltages):\")\n",
    "print(f\"V_check: {V_check}\")\n",
    "print(f\"Error: {np.max(np.abs(V_check - V_sources)):.2e}\")\n",
    "\n",
    "# Power calculation\n",
    "S = V_sources * np.conj(I_solved)\n",
    "print(f\"\\nComplex power at each node:\")\n",
    "for i in range(3):\n",
    "    print(f\"Node {i+1}: P = {S[i].real:6.1f} W, Q = {S[i].imag:6.1f} VAR\")"
   ]
  },
  {
   "cell_type": "markdown",
   "metadata": {},
   "source": [
    "```{admonition} Exercise 3: Matrix Operations\n",
    ":class: dropdown\n",
    "\n",
    "A simple DC circuit has the following conductance matrix G (in Siemens):\n",
    "```\n",
    "G = [[5, -2, -1],\n",
    "     [-2, 6, -3],\n",
    "     [-1, -3, 7]]\n",
    "```\n",
    "Current injections at each node are: I = [10, -5, -5] A\n",
    "\n",
    "1. Calculate the node voltages using V = G^(-1) × I\n",
    "2. Verify the solution by computing I_check = G × V\n",
    "3. Calculate power at each node P = V × I\n",
    "4. Check power balance (sum should be zero)\n",
    "\n",
    "```"
   ]
  },
  {
   "cell_type": "code",
   "execution_count": 12,
   "metadata": {
    "tags": [
     "hide-cell"
    ]
   },
   "outputs": [
    {
     "name": "stdout",
     "output_type": "stream",
     "text": [
      "Given:\n",
      "Conductance matrix G (S):\n",
      "[[ 5 -2 -1]\n",
      " [-2  6 -3]\n",
      " [-1 -3  7]]\n",
      "Current injections I (A): [10 -5 -5]\n",
      "\n",
      "1. Node voltages V (V): [ 1.55462185 -0.71428571 -0.79831933]\n",
      "\n",
      "2. Verification I_check = G × V: [10. -5. -5.]\n",
      "   Error: 8.88e-16\n",
      "\n",
      "3. Power at each node (W):\n",
      "   Node 1:    15.55 W (injected)\n",
      "   Node 2:     3.57 W (injected)\n",
      "   Node 3:     3.99 W (injected)\n",
      "\n",
      "4. Total power: 23.109244 W\n",
      "   Power balance ERROR!\n",
      "\n",
      "Resistance matrix R = G^(-1) (Ω):\n",
      "[[0.27731092 0.14285714 0.10084034]\n",
      " [0.14285714 0.28571429 0.14285714]\n",
      " [0.10084034 0.14285714 0.21848739]]\n"
     ]
    }
   ],
   "source": [
    "# Solution to Exercise 3\n",
    "# Conductance matrix\n",
    "G = np.array([\n",
    "    [5, -2, -1],\n",
    "    [-2, 6, -3],\n",
    "    [-1, -3, 7]\n",
    "])\n",
    "\n",
    "# Current injections\n",
    "I = np.array([10, -5, -5])\n",
    "\n",
    "print(\"Given:\")\n",
    "print(f\"Conductance matrix G (S):\\n{G}\")\n",
    "print(f\"Current injections I (A): {I}\")\n",
    "\n",
    "# 1. Solve for voltages\n",
    "V = np.linalg.solve(G, I)\n",
    "print(f\"\\n1. Node voltages V (V): {V}\")\n",
    "\n",
    "# 2. Verify solution\n",
    "I_check = G @ V\n",
    "print(f\"\\n2. Verification I_check = G × V: {I_check}\")\n",
    "print(f\"   Error: {np.max(np.abs(I_check - I)):.2e}\")\n",
    "\n",
    "# 3. Calculate power\n",
    "P = V * I\n",
    "print(f\"\\n3. Power at each node (W):\")\n",
    "for i in range(3):\n",
    "    print(f\"   Node {i+1}: {P[i]:8.2f} W {'(injected)' if P[i] > 0 else '(absorbed)'}\")\n",
    "\n",
    "# 4. Power balance\n",
    "P_total = P.sum()\n",
    "print(f\"\\n4. Total power: {P_total:.6f} W\")\n",
    "print(f\"   Power balance {'OK' if abs(P_total) < 1e-10 else 'ERROR'}!\")\n",
    "\n",
    "# Additional: Calculate resistance matrix R = G^(-1)\n",
    "R = np.linalg.inv(G)\n",
    "print(f\"\\nResistance matrix R = G^(-1) (Ω):\")\n",
    "print(R)"
   ]
  },
  {
   "cell_type": "markdown",
   "metadata": {},
   "source": [
    "## 5. Data Processing and Analysis\n",
    "\n",
    "NumPy provides powerful tools for processing and analyzing large datasets efficiently."
   ]
  },
  {
   "cell_type": "markdown",
   "metadata": {},
   "source": [
    "### Signal Processing Basics"
   ]
  },
  {
   "cell_type": "code",
   "execution_count": 13,
   "metadata": {},
   "outputs": [
    {
     "name": "stdout",
     "output_type": "stream",
     "text": [
      "Harmonic Analysis:\n",
      "Fundamental: 230 V RMS\n",
      "3rd harmonic: 10 V RMS (4.3%)\n",
      "5th harmonic: 7 V RMS (3.0%)\n",
      "\n",
      "Total RMS (direct): 230.2 V\n",
      "Total RMS (calculated): 230.3 V\n",
      "\n",
      "Total Harmonic Distortion: 5.3%\n",
      "\n",
      "Measured frequency: 50.10 Hz\n"
     ]
    }
   ],
   "source": [
    "# Analyze harmonic content in a voltage signal\n",
    "# Generate a distorted voltage signal\n",
    "t = np.linspace(0, 0.1, 1000)  # 0.1 seconds, 1000 samples\n",
    "f_fundamental = 50  # Hz\n",
    "\n",
    "# Voltage with harmonics\n",
    "v_fundamental = 230 * np.sqrt(2) * np.sin(2 * np.pi * f_fundamental * t)\n",
    "v_3rd = 10 * np.sqrt(2) * np.sin(2 * np.pi * 3 * f_fundamental * t)\n",
    "v_5th = 7 * np.sqrt(2) * np.sin(2 * np.pi * 5 * f_fundamental * t)\n",
    "v_total = v_fundamental + v_3rd + v_5th\n",
    "\n",
    "# Calculate RMS values using different methods\n",
    "# Method 1: Direct calculation\n",
    "v_rms_direct = np.sqrt(np.mean(v_total**2))\n",
    "\n",
    "# Method 2: Using individual harmonics\n",
    "v_rms_fund = 230\n",
    "v_rms_3rd = 10\n",
    "v_rms_5th = 7\n",
    "v_rms_calc = np.sqrt(v_rms_fund**2 + v_rms_3rd**2 + v_rms_5th**2)\n",
    "\n",
    "print(\"Harmonic Analysis:\")\n",
    "print(f\"Fundamental: {v_rms_fund} V RMS\")\n",
    "print(f\"3rd harmonic: {v_rms_3rd} V RMS ({v_rms_3rd/v_rms_fund*100:.1f}%)\")\n",
    "print(f\"5th harmonic: {v_rms_5th} V RMS ({v_rms_5th/v_rms_fund*100:.1f}%)\")\n",
    "print(f\"\\nTotal RMS (direct): {v_rms_direct:.1f} V\")\n",
    "print(f\"Total RMS (calculated): {v_rms_calc:.1f} V\")\n",
    "\n",
    "# Calculate THD\n",
    "thd = np.sqrt(v_rms_3rd**2 + v_rms_5th**2) / v_rms_fund * 100\n",
    "print(f\"\\nTotal Harmonic Distortion: {thd:.1f}%\")\n",
    "\n",
    "# Find peaks and zero crossings\n",
    "# Positive zero crossings\n",
    "zero_crossings = np.where(np.diff(np.sign(v_total)))[0]\n",
    "positive_crossings = zero_crossings[::2]  # Every other one\n",
    "period_samples = np.diff(positive_crossings)\n",
    "frequency_measured = 1 / (period_samples.mean() / 1000 * 0.1)  # Sampling rate consideration\n",
    "\n",
    "print(f\"\\nMeasured frequency: {frequency_measured:.2f} Hz\")"
   ]
  },
  {
   "cell_type": "markdown",
   "metadata": {},
   "source": [
    "### Data Aggregation and Grouping"
   ]
  },
  {
   "cell_type": "code",
   "execution_count": 14,
   "metadata": {},
   "outputs": [
    {
     "name": "stdout",
     "output_type": "stream",
     "text": [
      "Monthly Energy Consumption (GWh):\n",
      "Month\tResi\tComm\tIndu\tTran\tTotal\n",
      "==================================================\n",
      " 1\t353\t298\t480\t181\t1312\n",
      " 2\t342\t292\t448\t167\t1249\n",
      " 3\t296\t269\t411\t134\t1111\n",
      " 4\t255\t227\t368\t136\t985\n",
      " 5\t243\t203\t328\t109\t883\n",
      " 6\t258\t212\t331\t132\t933\n",
      " 7\t270\t206\t374\t126\t976\n",
      " 8\t283\t237\t366\t158\t1044\n",
      " 9\t241\t213\t346\t120\t919\n",
      "10\t266\t250\t382\t132\t1029\n",
      "11\t297\t248\t390\t158\t1093\n",
      "12\t322\t278\t434\t153\t1187\n",
      "\n",
      "Annual Summary:\n",
      "Residential: 3425 GWh (26.9%)\n",
      "Commercial: 2932 GWh (23.0%)\n",
      "Industrial: 4658 GWh (36.6%)\n",
      "Transportation: 1706 GWh (13.4%)\n",
      "\n",
      "Total annual consumption: 12721 GWh\n",
      "\n",
      "Peak consumption months:\n",
      "Residential: Jan (353 GWh)\n",
      "Commercial: Jan (298 GWh)\n",
      "Industrial: Jan (480 GWh)\n",
      "Transportation: Jan (181 GWh)\n"
     ]
    }
   ],
   "source": [
    "# Analyze energy consumption by category\n",
    "# Simulate monthly consumption data for different sectors\n",
    "months = 12\n",
    "sectors = ['Residential', 'Commercial', 'Industrial', 'Transportation']\n",
    "\n",
    "# Base consumption patterns (GWh)\n",
    "base_consumption = np.array([300, 250, 400, 150])\n",
    "\n",
    "# Seasonal variations\n",
    "seasonal_factors = np.array([\n",
    "    1.2, 1.15, 1.0, 0.9, 0.8, 0.85, 0.9, 0.95, 0.85, 0.9, 1.0, 1.1  # Monthly factors\n",
    "])\n",
    "\n",
    "# Generate consumption matrix\n",
    "consumption_data = base_consumption[:, np.newaxis] * seasonal_factors\n",
    "# Add random variation\n",
    "consumption_data += np.random.normal(0, 10, (4, 12))\n",
    "\n",
    "print(\"Monthly Energy Consumption (GWh):\")\n",
    "print(\"Month\", end=\"\")\n",
    "for s in sectors:\n",
    "    print(f\"\\t{s[:4]}\", end=\"\")\n",
    "print(\"\\tTotal\")\n",
    "print(\"=\" * 50)\n",
    "\n",
    "monthly_totals = consumption_data.sum(axis=0)\n",
    "for m in range(months):\n",
    "    print(f\"{m+1:2d}\", end=\"\")\n",
    "    for s in range(4):\n",
    "        print(f\"\\t{consumption_data[s, m]:.0f}\", end=\"\")\n",
    "    print(f\"\\t{monthly_totals[m]:.0f}\")\n",
    "\n",
    "# Annual statistics\n",
    "print(\"\\nAnnual Summary:\")\n",
    "annual_by_sector = consumption_data.sum(axis=1)\n",
    "for s, sector in enumerate(sectors):\n",
    "    percentage = annual_by_sector[s] / annual_by_sector.sum() * 100\n",
    "    print(f\"{sector}: {annual_by_sector[s]:.0f} GWh ({percentage:.1f}%)\")\n",
    "\n",
    "print(f\"\\nTotal annual consumption: {annual_by_sector.sum():.0f} GWh\")\n",
    "\n",
    "# Find peak months by sector\n",
    "print(\"\\nPeak consumption months:\")\n",
    "month_names = ['Jan', 'Feb', 'Mar', 'Apr', 'May', 'Jun', \n",
    "               'Jul', 'Aug', 'Sep', 'Oct', 'Nov', 'Dec']\n",
    "for s, sector in enumerate(sectors):\n",
    "    peak_month = consumption_data[s].argmax()\n",
    "    print(f\"{sector}: {month_names[peak_month]} ({consumption_data[s, peak_month]:.0f} GWh)\")"
   ]
  },
  {
   "cell_type": "markdown",
   "metadata": {},
   "source": [
    "```{admonition} Exercise 4: Comprehensive Analysis\n",
    ":class: dropdown\n",
    "\n",
    "A monitoring system records voltage and current at 5-minute intervals for 24 hours.\n",
    "Generate synthetic data and perform the following analysis:\n",
    "\n",
    "1. Create voltage data: 230V nominal with ±2% random variation\n",
    "2. Create current data: base pattern with morning and evening peaks\n",
    "3. Calculate instantaneous power for each interval\n",
    "4. Find total energy consumed (kWh)\n",
    "5. Identify periods where power exceeds 50 kW\n",
    "6. Calculate the cost at $0.12/kWh\n",
    "\n",
    "```"
   ]
  },
  {
   "cell_type": "code",
   "execution_count": 15,
   "metadata": {
    "tags": [
     "hide-cell"
    ]
   },
   "outputs": [
    {
     "name": "stdout",
     "output_type": "stream",
     "text": [
      "Power System Monitoring Analysis\n",
      "========================================\n",
      "Monitoring period: 24 hours\n",
      "Sample interval: 5 minutes\n",
      "Total samples: 288\n",
      "\n",
      "Total energy consumed: 597.4 kWh\n",
      "Average power: 24.9 kW\n",
      "Peak power: 53.9 kW at hour 18.1\n",
      "\n",
      "Periods exceeding 50 kW: 25 intervals\n",
      "Time range: 18.1 - 21.0 hours\n",
      "\n",
      "Electricity cost at $0.12/kWh: $71.69\n",
      "\n",
      "Load profile summary:\n",
      "Hour  0:   14.2 kW\n",
      "Hour  6:   21.1 kW\n",
      "Hour  8:   40.4 kW\n",
      "Hour 12:   23.2 kW\n",
      "Hour 19:   52.1 kW\n",
      "Hour 22:   12.0 kW\n"
     ]
    }
   ],
   "source": [
    "# Solution to Exercise 4\n",
    "# Time points: 24 hours × 12 intervals/hour = 288 points\n",
    "n_points = 24 * 12\n",
    "time_hours = np.linspace(0, 24, n_points)\n",
    "\n",
    "# 1. Generate voltage data\n",
    "v_nominal = 230\n",
    "voltage = v_nominal * (1 + np.random.uniform(-0.02, 0.02, n_points))\n",
    "\n",
    "# 2. Generate current with daily pattern\n",
    "# Base load + morning peak (7-9) + evening peak (18-21)\n",
    "base_current = 100  # A\n",
    "current = base_current * np.ones(n_points)\n",
    "\n",
    "# Add peaks\n",
    "for i, t in enumerate(time_hours):\n",
    "    if 7 <= t <= 9:  # Morning peak\n",
    "        current[i] *= 1.8\n",
    "    elif 18 <= t <= 21:  # Evening peak\n",
    "        current[i] *= 2.2\n",
    "    elif 0 <= t <= 6 or t >= 22:  # Night time\n",
    "        current[i] *= 0.6\n",
    "\n",
    "# Add random variation\n",
    "current += np.random.normal(0, 5, n_points)\n",
    "\n",
    "# 3. Calculate power (assuming unity power factor)\n",
    "power_w = voltage * current  # Watts\n",
    "power_kw = power_w / 1000   # kW\n",
    "\n",
    "print(\"Power System Monitoring Analysis\")\n",
    "print(\"=\" * 40)\n",
    "print(f\"Monitoring period: 24 hours\")\n",
    "print(f\"Sample interval: 5 minutes\")\n",
    "print(f\"Total samples: {n_points}\")\n",
    "\n",
    "# 4. Calculate energy\n",
    "# Energy = Power × Time (5 minutes = 1/12 hour)\n",
    "energy_kwh = power_kw * (1/12)  # kWh for each interval\n",
    "total_energy = energy_kwh.sum()\n",
    "\n",
    "print(f\"\\nTotal energy consumed: {total_energy:.1f} kWh\")\n",
    "print(f\"Average power: {power_kw.mean():.1f} kW\")\n",
    "print(f\"Peak power: {power_kw.max():.1f} kW at hour {time_hours[power_kw.argmax()]:.1f}\")\n",
    "\n",
    "# 5. Identify high power periods\n",
    "high_power_mask = power_kw > 50\n",
    "high_power_indices = np.where(high_power_mask)[0]\n",
    "high_power_hours = time_hours[high_power_indices]\n",
    "\n",
    "print(f\"\\nPeriods exceeding 50 kW: {len(high_power_indices)} intervals\")\n",
    "if len(high_power_indices) > 0:\n",
    "    print(f\"Time range: {high_power_hours[0]:.1f} - {high_power_hours[-1]:.1f} hours\")\n",
    "\n",
    "# 6. Calculate cost\n",
    "rate = 0.12  # $/kWh\n",
    "total_cost = total_energy * rate\n",
    "\n",
    "print(f\"\\nElectricity cost at ${rate}/kWh: ${total_cost:.2f}\")\n",
    "\n",
    "# Additional analysis\n",
    "print(\"\\nLoad profile summary:\")\n",
    "for hour in [0, 6, 8, 12, 19, 22]:\n",
    "    idx = int(hour * 12)\n",
    "    print(f\"Hour {hour:2d}: {power_kw[idx]:6.1f} kW\")"
   ]
  },
  {
   "cell_type": "markdown",
   "metadata": {},
   "source": [
    "## Summary\n",
    "\n",
    "This lesson has covered fundamental NumPy concepts essential for power system data analysis:\n",
    "\n",
    "**Array Creation and Manipulation**: We learned how to create arrays from measurements, perform unit conversions, and work with multi-dimensional data structures that represent time series and spatial data.\n",
    "\n",
    "**Vectorized Operations**: NumPy's ability to operate on entire arrays eliminates loops and provides significant performance improvements. Broadcasting enables operations between arrays of different shapes.\n",
    "\n",
    "**Statistical Analysis**: Built-in functions for mean, standard deviation, and other statistics make it easy to analyze power system measurements and identify patterns or anomalies.\n",
    "\n",
    "**Complex Numbers**: Native support for complex arithmetic is essential for AC circuit analysis, power calculations, and impedance computations.\n",
    "\n",
    "**Matrix Operations**: Linear algebra operations provide the foundation for solving circuit equations and analyzing network relationships.\n",
    "\n",
    "These NumPy skills form the foundation for more advanced topics in data analysis, optimization, and numerical methods that you'll encounter in subsequent modules.\n",
    "\n",
    "```{admonition} Next Steps\n",
    ":class: tip\n",
    "\n",
    "To reinforce these concepts:\n",
    "1. Practice with real measurement data from power system sensors\n",
    "2. Explore NumPy's documentation for additional functions\n",
    "3. Combine NumPy with matplotlib for data visualization\n",
    "4. Apply these techniques to your own power system analysis problems\n",
    "```"
   ]
  }
 ],
 "metadata": {
  "kernelspec": {
   "display_name": "Python 3 (ipykernel)",
   "language": "python",
   "name": "python3"
  },
  "language_info": {
   "codemirror_mode": {
    "name": "ipython",
    "version": 3
   },
   "file_extension": ".py",
   "mimetype": "text/x-python",
   "name": "python",
   "nbconvert_exporter": "python",
   "pygments_lexer": "ipython3",
   "version": "3.11.13"
  }
 },
 "nbformat": 4,
 "nbformat_minor": 4
}
