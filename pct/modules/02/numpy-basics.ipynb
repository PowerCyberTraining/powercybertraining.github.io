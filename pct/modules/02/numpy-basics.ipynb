{
 "cells": [
  {
   "cell_type": "markdown",
   "metadata": {
    "editable": true,
    "slideshow": {
     "slide_type": ""
    },
    "tags": []
   },
   "source": [
    "# NumPy for Scientific Computing"
   ]
  },
  {
   "cell_type": "markdown",
   "metadata": {
    "editable": true,
    "slideshow": {
     "slide_type": ""
    },
    "tags": []
   },
   "source": [
    "| Information | Details |\n",
    "|----------|---------|\n",
    "| Learning Objectives | • Create and manipulate NumPy arrays efficiently<br>• Perform vectorized operations instead of loops<br>• Apply statistical analysis to datasets<br>• Work with matrices and linear algebra<br>• Handle complex numbers for engineering calculations<br>• Transition smoothly from MATLAB to Python |\n",
    "| Prerequisites | Python fundamentals, basic linear algebra |\n",
    "| Estimated Time | 90 minutes |\n",
    "| Topics | Arrays, vectorization, broadcasting, linear algebra, complex numbers, performance optimization |"
   ]
  },
  {
   "cell_type": "markdown",
   "metadata": {
    "editable": true,
    "slideshow": {
     "slide_type": ""
    },
    "tags": []
   },
   "source": [
    "## Introduction\n",
    "\n",
    "NumPy is the foundation of scientific computing in Python. While Python lists are flexible and easy to use, they're inefficient for numerical calculations. NumPy provides powerful N-dimensional arrays that enable fast, vectorized operations essential for scientific and engineering applications.\n",
    "\n",
    "This lesson introduces NumPy through practical examples, starting with basic array operations and progressing to advanced topics like linear algebra and signal processing. You'll learn not just the syntax, but also the performance benefits and best practices that make NumPy indispensable for numerical computing.\n",
    "\n",
    "```{admonition} Why NumPy Matters\n",
    ":class: info\n",
    "NumPy arrays use contiguous memory and optimized C implementations, making them 10-100x faster than pure Python for numerical operations. This performance is crucial when processing large datasets or performing complex calculations.\n",
    "```"
   ]
  },
  {
   "cell_type": "markdown",
   "metadata": {
    "editable": true,
    "slideshow": {
     "slide_type": ""
    },
    "tags": []
   },
   "source": [
    "## Setting Up"
   ]
  },
  {
   "cell_type": "code",
   "execution_count": 1,
   "metadata": {
    "editable": true,
    "slideshow": {
     "slide_type": ""
    },
    "tags": []
   },
   "outputs": [
    {
     "name": "stdout",
     "output_type": "stream",
     "text": [
      "NumPy version: 2.0.2\n"
     ]
    }
   ],
   "source": [
    "import numpy as np\n",
    "import time\n",
    "import matplotlib.pyplot as plt\n",
    "\n",
    "# Set display precision for cleaner output\n",
    "np.set_printoptions(precision=2, suppress=True)\n",
    "\n",
    "print(f\"NumPy version: {np.__version__}\")"
   ]
  },
  {
   "cell_type": "markdown",
   "metadata": {
    "editable": true,
    "slideshow": {
     "slide_type": ""
    },
    "tags": []
   },
   "source": [
    "## Performance Motivation\n",
    "\n",
    "Before diving into NumPy's features, let's see why it's essential for scientific computing. We'll compare calculating the sum of squares for a large dataset using pure Python versus NumPy."
   ]
  },
  {
   "cell_type": "code",
   "execution_count": 2,
   "metadata": {
    "editable": true,
    "slideshow": {
     "slide_type": ""
    },
    "tags": []
   },
   "outputs": [],
   "source": [
    "# Create test data\n",
    "n = 1_000_000\n",
    "python_list = list(range(n))\n",
    "numpy_array = np.arange(n)"
   ]
  },
  {
   "cell_type": "code",
   "execution_count": 3,
   "metadata": {
    "editable": true,
    "slideshow": {
     "slide_type": ""
    },
    "tags": []
   },
   "outputs": [
    {
     "name": "stdout",
     "output_type": "stream",
     "text": [
      "Python time: 21.2 ms\n"
     ]
    }
   ],
   "source": [
    "# Pure Python approach\n",
    "start = time.time()\n",
    "python_sum = sum(x**2 for x in python_list)\n",
    "python_time = time.time() - start\n",
    "\n",
    "print(f\"Python time: {python_time*1000:.1f} ms\")"
   ]
  },
  {
   "cell_type": "code",
   "execution_count": 4,
   "metadata": {},
   "outputs": [
    {
     "name": "stdout",
     "output_type": "stream",
     "text": [
      "NumPy time: 4.9 ms\n",
      "Speed improvement: 4x faster\n"
     ]
    }
   ],
   "source": [
    "# NumPy approach\n",
    "start = time.time()\n",
    "numpy_sum = np.sum(numpy_array**2)\n",
    "numpy_time = time.time() - start\n",
    "\n",
    "print(f\"NumPy time: {numpy_time*1000:.1f} ms\")\n",
    "print(f\"Speed improvement: {python_time/numpy_time:.0f}x faster\")"
   ]
  },
  {
   "cell_type": "markdown",
   "metadata": {},
   "source": [
    "This dramatic speed improvement comes from NumPy's vectorized operations and efficient memory layout. Now let's learn how to harness this power."
   ]
  },
  {
   "cell_type": "markdown",
   "metadata": {},
   "source": [
    "## MATLAB to NumPy Transition Guide\n",
    "\n",
    "If you're coming from MATLAB, this guide will help you transition to NumPy. While the concepts are similar, the syntax and some behaviors differ significantly.\n",
    "\n",
    "```{admonition} Critical Difference: Indexing\n",
    ":class: warning\n",
    "The biggest adjustment for MATLAB users is zero-based indexing. In NumPy, the first element is at index 0, not 1. This affects all array operations and slicing.\n",
    "```"
   ]
  },
  {
   "cell_type": "markdown",
   "metadata": {},
   "source": [
    "### Quick Reference Table\n",
    "\n",
    "| Operation | MATLAB | NumPy | Notes |\n",
    "|-----------|--------|-------|-------|\n",
    "| Create row vector | `a = [1 2 3]` | `a = np.array([1, 2, 3])` | NumPy requires explicit array creation |\n",
    "| Create column vector | `a = [1; 2; 3]` | `a = np.array([[1], [2], [3]])` | Use nested lists for 2D |\n",
    "| Matrix multiply | `A * B` | `A @ B` or `np.dot(A, B)` | @ operator (Python 3.5+) |\n",
    "| Element-wise multiply | `A .* B` | `A * B` | NumPy defaults to element-wise |\n",
    "| Matrix transpose | `A'` | `A.T` or `np.transpose(A)` | Use .T attribute |\n",
    "| Matrix inverse | `inv(A)` | `np.linalg.inv(A)` | In linalg submodule |\n",
    "| First element | `A(1)` | `A[0]` | Zero-based indexing |\n",
    "| Last element | `A(end)` | `A[-1]` | Negative indexing from end |\n",
    "| Slice rows 1-3 | `A(1:3, :)` | `A[0:3, :]` or `A[:3, :]` | End index is exclusive |\n",
    "| Size of array | `size(A)` | `A.shape` | Returns tuple |\n",
    "| Length of vector | `length(v)` | `len(v)` or `v.size` | Use size for total elements |\n",
    "| Concatenate | `[A B]` or `[A; B]` | `np.hstack()` or `np.vstack()` | Specify axis explicitly |\n",
    "| Zeros | `zeros(3, 4)` | `np.zeros((3, 4))` | Shape as tuple |\n",
    "| Identity matrix | `eye(n)` | `np.eye(n)` | Same name |\n",
    "| Random matrix | `rand(3, 4)` | `np.random.rand(3, 4)` | No parentheses for shape |\n",
    "| Find indices | `find(A > 5)` | `np.where(A > 5)` | Returns tuple of arrays |\n",
    "| Reshape | `reshape(A, 3, 4)` | `A.reshape(3, 4)` | Method on array |\n",
    "| Max value | `max(A)` | `np.max(A)` or `A.max()` | Function or method |"
   ]
  },
  {
   "cell_type": "markdown",
   "metadata": {},
   "source": [
    "### Key Behavioral Differences\n",
    "\n",
    "Beyond syntax, there are important conceptual differences between MATLAB and NumPy that affect how you write code."
   ]
  },
  {
   "cell_type": "markdown",
   "metadata": {},
   "source": [
    "#### 1. Array Creation Defaults"
   ]
  },
  {
   "cell_type": "code",
   "execution_count": 5,
   "metadata": {},
   "outputs": [
    {
     "name": "stdout",
     "output_type": "stream",
     "text": [
      "1D array shape: (3,)\n"
     ]
    }
   ],
   "source": [
    "# MATLAB: [1 2 3] creates a row vector\n",
    "# NumPy: creates 1D array (neither row nor column)\n",
    "a = np.array([1, 2, 3])\n",
    "print(f\"1D array shape: {a.shape}\")  # (3,) not (1,3) or (3,1)"
   ]
  },
  {
   "cell_type": "code",
   "execution_count": 6,
   "metadata": {},
   "outputs": [
    {
     "name": "stdout",
     "output_type": "stream",
     "text": [
      "Row vector shape: (1, 3)\n",
      "Column vector shape: (3, 1)\n"
     ]
    }
   ],
   "source": [
    "# To create explicit row or column vectors:\n",
    "row_vector = np.array([[1, 2, 3]])  # Shape (1, 3)\n",
    "col_vector = np.array([[1], [2], [3]])  # Shape (3, 1)\n",
    "\n",
    "print(f\"Row vector shape: {row_vector.shape}\")\n",
    "print(f\"Column vector shape: {col_vector.shape}\")"
   ]
  },
  {
   "cell_type": "markdown",
   "metadata": {},
   "source": [
    "#### 2. Copy vs View Behavior"
   ]
  },
  {
   "cell_type": "code",
   "execution_count": 7,
   "metadata": {},
   "outputs": [
    {
     "name": "stdout",
     "output_type": "stream",
     "text": [
      "Original array: [ 1 99  3  4  5]\n",
      "Slice is a view: [99  3  4]\n"
     ]
    }
   ],
   "source": [
    "# NumPy slices are views, not copies!\n",
    "original = np.array([1, 2, 3, 4, 5])\n",
    "slice_view = original[1:4]\n",
    "slice_view[0] = 99  # This modifies the original!\n",
    "\n",
    "print(f\"Original array: {original}\")\n",
    "print(f\"Slice is a view: {slice_view}\")"
   ]
  },
  {
   "cell_type": "code",
   "execution_count": 8,
   "metadata": {},
   "outputs": [
    {
     "name": "stdout",
     "output_type": "stream",
     "text": [
      "Original array: [1 2 3 4 5]\n",
      "Independent copy: [99  3  4]\n"
     ]
    }
   ],
   "source": [
    "# Use copy() to create independent arrays\n",
    "original = np.array([1, 2, 3, 4, 5])\n",
    "slice_copy = original[1:4].copy()\n",
    "slice_copy[0] = 99  # Original is unchanged\n",
    "\n",
    "print(f\"Original array: {original}\")\n",
    "print(f\"Independent copy: {slice_copy}\")"
   ]
  },
  {
   "cell_type": "markdown",
   "metadata": {},
   "source": [
    "```{admonition} MATLAB Note: Automatic Copying\n",
    ":class: note\n",
    "MATLAB automatically creates copies when you slice arrays. NumPy creates views for efficiency. Always use `.copy()` if you need an independent array.\n",
    "```"
   ]
  },
  {
   "cell_type": "markdown",
   "metadata": {},
   "source": [
    "## NumPy Fundamentals\n",
    "\n",
    "Now let's explore the core concepts of NumPy, starting with array creation and basic operations. We'll use simple examples first, then gradually introduce more complex scenarios."
   ]
  },
  {
   "cell_type": "markdown",
   "metadata": {},
   "source": [
    "### Creating Arrays\n",
    "\n",
    "NumPy provides multiple ways to create arrays, each suited for different purposes."
   ]
  },
  {
   "cell_type": "code",
   "execution_count": 9,
   "metadata": {},
   "outputs": [
    {
     "name": "stdout",
     "output_type": "stream",
     "text": [
      "From list: [1 2 3 4 5]\n",
      "\n",
      "2D array:\n",
      "[[1 2 3]\n",
      " [4 5 6]]\n"
     ]
    }
   ],
   "source": [
    "# From Python lists\n",
    "from_list = np.array([1, 2, 3, 4, 5])\n",
    "print(f\"From list: {from_list}\")\n",
    "\n",
    "# From nested lists (2D array)\n",
    "matrix = np.array([[1, 2, 3],\n",
    "                   [4, 5, 6]])\n",
    "print(f\"\\n2D array:\\n{matrix}\")"
   ]
  },
  {
   "cell_type": "code",
   "execution_count": 10,
   "metadata": {},
   "outputs": [
    {
     "name": "stdout",
     "output_type": "stream",
     "text": [
      "Zeros: [0. 0. 0. 0. 0.]\n",
      "\n",
      "Ones:\n",
      "[[1. 1. 1.]\n",
      " [1. 1. 1.]]\n",
      "\n",
      "Identity:\n",
      "[[1. 0. 0.]\n",
      " [0. 1. 0.]\n",
      " [0. 0. 1.]]\n"
     ]
    }
   ],
   "source": [
    "# Using built-in functions\n",
    "zeros = np.zeros(5)  # 1D array of zeros\n",
    "ones = np.ones((2, 3))  # 2D array of ones\n",
    "identity = np.eye(3)  # Identity matrix\n",
    "\n",
    "print(f\"Zeros: {zeros}\")\n",
    "print(f\"\\nOnes:\\n{ones}\")\n",
    "print(f\"\\nIdentity:\\n{identity}\")"
   ]
  },
  {
   "cell_type": "code",
   "execution_count": 11,
   "metadata": {},
   "outputs": [
    {
     "name": "stdout",
     "output_type": "stream",
     "text": [
      "Sequence (arange): [0 2 4 6 8]\n",
      "Linear space: [0.   0.25 0.5  0.75 1.  ]\n"
     ]
    }
   ],
   "source": [
    "# Sequences and ranges\n",
    "sequence = np.arange(0, 10, 2)  # Start, stop, step\n",
    "linear_space = np.linspace(0, 1, 5)  # 5 points from 0 to 1\n",
    "\n",
    "print(f\"Sequence (arange): {sequence}\")\n",
    "print(f\"Linear space: {linear_space}\")"
   ]
  },
  {
   "cell_type": "markdown",
   "metadata": {},
   "source": [
    "### Array Properties\n",
    "\n",
    "Understanding array properties is crucial for debugging and optimization."
   ]
  },
  {
   "cell_type": "code",
   "execution_count": 12,
   "metadata": {},
   "outputs": [
    {
     "name": "stdout",
     "output_type": "stream",
     "text": [
      "Shape: (3, 4)\n",
      "Size: 12\n",
      "Dimensions: 2\n",
      "Data type: int64\n",
      "Item size: 8 bytes\n",
      "Total memory: 96 bytes\n"
     ]
    }
   ],
   "source": [
    "arr = np.array([[1, 2, 3, 4],\n",
    "                [5, 6, 7, 8],\n",
    "                [9, 10, 11, 12]])\n",
    "\n",
    "print(f\"Shape: {arr.shape}\")  # (rows, columns)\n",
    "print(f\"Size: {arr.size}\")  # Total elements\n",
    "print(f\"Dimensions: {arr.ndim}\")  # Number of dimensions\n",
    "print(f\"Data type: {arr.dtype}\")  # Element type\n",
    "print(f\"Item size: {arr.itemsize} bytes\")  # Bytes per element\n",
    "print(f\"Total memory: {arr.nbytes} bytes\")  # Total memory usage"
   ]
  },
  {
   "cell_type": "markdown",
   "metadata": {},
   "source": [
    "```{admonition} Tip: Memory Efficiency\n",
    ":class: tip\n",
    "Choose appropriate data types to save memory. Use `float32` instead of `float64` when high precision isn't needed, or `int8` for small integers.\n",
    "```"
   ]
  },
  {
   "cell_type": "markdown",
   "metadata": {},
   "source": [
    "### Basic Operations\n",
    "\n",
    "NumPy operations are element-wise by default, making mathematical expressions natural and efficient."
   ]
  },
  {
   "cell_type": "code",
   "execution_count": 13,
   "metadata": {},
   "outputs": [
    {
     "name": "stdout",
     "output_type": "stream",
     "text": [
      "Addition: [ 6  8 10 12]\n",
      "Multiplication: [ 5 12 21 32]\n",
      "Power: [ 1  4  9 16]\n"
     ]
    }
   ],
   "source": [
    "a = np.array([1, 2, 3, 4])\n",
    "b = np.array([5, 6, 7, 8])\n",
    "\n",
    "# Arithmetic operations\n",
    "print(f\"Addition: {a + b}\")\n",
    "print(f\"Multiplication: {a * b}\")  # Element-wise!\n",
    "print(f\"Power: {a ** 2}\")"
   ]
  },
  {
   "cell_type": "code",
   "execution_count": 14,
   "metadata": {},
   "outputs": [
    {
     "name": "stdout",
     "output_type": "stream",
     "text": [
      "Sine: [0.   0.71 1.   0.  ]\n",
      "Exponential: [1.   2.72 7.39]\n",
      "Square root: [1. 2. 3. 4.]\n"
     ]
    }
   ],
   "source": [
    "# Mathematical functions\n",
    "angles = np.array([0, np.pi/4, np.pi/2, np.pi])\n",
    "\n",
    "print(f\"Sine: {np.sin(angles)}\")\n",
    "print(f\"Exponential: {np.exp([0, 1, 2])}\")\n",
    "print(f\"Square root: {np.sqrt([1, 4, 9, 16])}\")"
   ]
  },
  {
   "cell_type": "code",
   "execution_count": 15,
   "metadata": {},
   "outputs": [
    {
     "name": "stdout",
     "output_type": "stream",
     "text": [
      "Sum: 27\n",
      "Mean: 4.5\n",
      "Standard deviation: 2.81\n",
      "Maximum: 9\n",
      "Argmax (index of max): 3\n"
     ]
    }
   ],
   "source": [
    "# Aggregation functions\n",
    "data = np.array([3, 7, 1, 9, 2, 5])\n",
    "\n",
    "print(f\"Sum: {np.sum(data)}\")\n",
    "print(f\"Mean: {np.mean(data)}\")\n",
    "print(f\"Standard deviation: {np.std(data):.2f}\")\n",
    "print(f\"Maximum: {np.max(data)}\")\n",
    "print(f\"Argmax (index of max): {np.argmax(data)}\")"
   ]
  },
  {
   "cell_type": "markdown",
   "metadata": {
    "editable": true,
    "slideshow": {
     "slide_type": ""
    },
    "tags": []
   },
   "source": [
    "### Exercise 1: Array Creation and Operations\n",
    "\n",
    "Real sensor measurements always contain noise from electrical interference or thermal effects. In this exercise, you'll create a synthetic noisy signal that mimics real-world data acquisition by combining a clean periodic signal with random noise.\n",
    "\n",
    "Create a time array of 100 points spanning 1 second using `np.linspace(0, 1, 100)`. This gives you a 100 Hz sampling rate. Generate a sine wave with frequency 5 Hz and amplitude 2 using the formula A*sin(2πft). Then add Gaussian noise with zero mean and standard deviation 0.1 using `np.random.normal()` to simulate measurement errors.\n",
    "\n",
    "Calculate three statistics for your noisy signal: the mean (reveals DC offset), standard deviation (quantifies spread), and peak-to-peak amplitude using `np.ptp()` (shows the signal's full range). These metrics help you understand how noise affects your measurements.\n",
    "\n",
    "**Hint:** Set `np.random.seed(42)` for reproducible noise. Structure your code logically: create time array, generate clean signal with `2 * np.sin(2 * np.pi * 5 * t)`, add noise, calculate statistics, then plot."
   ]
  },
  {
   "cell_type": "code",
   "execution_count": 16,
   "metadata": {},
   "outputs": [],
   "source": [
    "# Exercise 1: Your code here"
   ]
  },
  {
   "cell_type": "markdown",
   "metadata": {},
   "source": [
    "### Solution to Exercise 1"
   ]
  },
  {
   "cell_type": "code",
   "execution_count": 17,
   "metadata": {
    "editable": true,
    "slideshow": {
     "slide_type": ""
    },
    "tags": [
     "hide-cell"
    ]
   },
   "outputs": [
    {
     "name": "stdout",
     "output_type": "stream",
     "text": [
      "Mean: -0.010\n",
      "Standard deviation: 1.421\n",
      "Peak-to-peak: 4.349\n"
     ]
    }
   ],
   "source": [
    "# Create time array\n",
    "t = np.linspace(0, 1, 100)  # 100 points over 1 second\n",
    "frequency = 5  # Hz\n",
    "amplitude = 2\n",
    "\n",
    "# Generate clean sine wave\n",
    "clean_signal = amplitude * np.sin(2 * np.pi * frequency * t)\n",
    "\n",
    "# Add noise\n",
    "np.random.seed(42)  # For reproducibility\n",
    "noise = np.random.normal(0, 0.1, len(t))\n",
    "noisy_signal = clean_signal + noise\n",
    "\n",
    "# Calculate statistics\n",
    "print(f\"Mean: {np.mean(noisy_signal):.3f}\")\n",
    "print(f\"Standard deviation: {np.std(noisy_signal):.3f}\")\n",
    "print(f\"Peak-to-peak: {np.ptp(noisy_signal):.3f}\")"
   ]
  },
  {
   "cell_type": "code",
   "execution_count": 18,
   "metadata": {
    "editable": true,
    "slideshow": {
     "slide_type": ""
    },
    "tags": [
     "hide-cell"
    ]
   },
   "outputs": [
    {
     "data": {
      "image/png": "[encoded data removed]",
      "text/plain": [
       "<Figure size 1000x400 with 1 Axes>"
      ]
     },
     "metadata": {},
     "output_type": "display_data"
    }
   ],
   "source": [
    "# Visualization\n",
    "plt.figure(figsize=(10, 4))\n",
    "plt.plot(t, clean_signal, 'b-', label='Clean signal', alpha=0.7)\n",
    "plt.plot(t, noisy_signal, 'r-', label='Noisy signal', alpha=0.5)\n",
    "plt.xlabel('Time (s)')\n",
    "plt.ylabel('Amplitude')\n",
    "plt.title('Signal with Noise')\n",
    "plt.legend()\n",
    "plt.grid(True, alpha=0.3)\n",
    "plt.show()"
   ]
  },
  {
   "cell_type": "markdown",
   "metadata": {},
   "source": [
    "## Array Indexing and Slicing\n",
    "\n",
    "Efficient data access is fundamental to NumPy programming. Understanding indexing and slicing allows you to extract and modify specific parts of arrays without loops."
   ]
  },
  {
   "cell_type": "markdown",
   "metadata": {},
   "source": [
    "### Basic Indexing\n",
    "\n",
    "NumPy supports multiple indexing methods, each with specific use cases."
   ]
  },
  {
   "cell_type": "code",
   "execution_count": 19,
   "metadata": {},
   "outputs": [
    {
     "name": "stdout",
     "output_type": "stream",
     "text": [
      "First element: 10\n",
      "Last element: 50\n",
      "Middle elements: [20 30 40]\n"
     ]
    }
   ],
   "source": [
    "# 1D array indexing\n",
    "arr_1d = np.array([10, 20, 30, 40, 50])\n",
    "\n",
    "print(f\"First element: {arr_1d[0]}\")\n",
    "print(f\"Last element: {arr_1d[-1]}\")\n",
    "print(f\"Middle elements: {arr_1d[1:4]}\")"
   ]
  },
  {
   "cell_type": "code",
   "execution_count": 20,
   "metadata": {},
   "outputs": [
    {
     "name": "stdout",
     "output_type": "stream",
     "text": [
      "Element at (0,0): 1\n",
      "First row: [1 2 3]\n",
      "First column: [1 4 7]\n",
      "Sub-matrix:\n",
      "[[2 3]\n",
      " [5 6]]\n"
     ]
    }
   ],
   "source": [
    "# 2D array indexing\n",
    "arr_2d = np.array([[1, 2, 3],\n",
    "                   [4, 5, 6],\n",
    "                   [7, 8, 9]])\n",
    "\n",
    "print(f\"Element at (0,0): {arr_2d[0, 0]}\")\n",
    "print(f\"First row: {arr_2d[0]}\")\n",
    "print(f\"First column: {arr_2d[:, 0]}\")\n",
    "print(f\"Sub-matrix:\\n{arr_2d[0:2, 1:3]}\")"
   ]
  },
  {
   "cell_type": "markdown",
   "metadata": {},
   "source": [
    "```{admonition} Warning: Exclusive End Index\n",
    ":class: warning\n",
    "Unlike MATLAB, NumPy's slice notation `[start:end]` excludes the end index. So `arr[1:4]` returns elements at indices 1, 2, and 3, but not 4.\n",
    "```"
   ]
  },
  {
   "cell_type": "markdown",
   "metadata": {},
   "source": [
    "### Boolean Indexing\n",
    "\n",
    "Boolean masks allow you to select elements based on conditions, perfect for filtering data."
   ]
  },
  {
   "cell_type": "code",
   "execution_count": 21,
   "metadata": {},
   "outputs": [
    {
     "name": "stdout",
     "output_type": "stream",
     "text": [
      "Boolean mask: [False  True False  True  True  True False]\n",
      "Values > 30: [45 67 34 89]\n"
     ]
    }
   ],
   "source": [
    "data = np.array([23, 45, 12, 67, 34, 89, 21])\n",
    "\n",
    "# Create boolean mask\n",
    "mask = data > 30\n",
    "print(f\"Boolean mask: {mask}\")\n",
    "print(f\"Values > 30: {data[mask]}\")"
   ]
  },
  {
   "cell_type": "code",
   "execution_count": 22,
   "metadata": {},
   "outputs": [
    {
     "name": "stdout",
     "output_type": "stream",
     "text": [
      "Values between 20 and 50: [23 45 34 21]\n",
      "Capped array: [23 45 12 50 34 50 21]\n"
     ]
    }
   ],
   "source": [
    "# Multiple conditions\n",
    "complex_mask = (data > 20) & (data < 50)\n",
    "print(f\"Values between 20 and 50: {data[complex_mask]}\")\n",
    "\n",
    "# Modify values using mask\n",
    "data_copy = data.copy()\n",
    "data_copy[data_copy > 50] = 50  # Cap values at 50\n",
    "print(f\"Capped array: {data_copy}\")"
   ]
  },
  {
   "cell_type": "markdown",
   "metadata": {},
   "source": [
    "### Fancy Indexing\n",
    "\n",
    "You can use arrays of indices to select specific elements in any order."
   ]
  },
  {
   "cell_type": "code",
   "execution_count": 23,
   "metadata": {},
   "outputs": [
    {
     "name": "stdout",
     "output_type": "stream",
     "text": [
      "Original array: [10 20 30 40 50 60]\n",
      "Elements at indices [0 2 5]: [10 30 60]\n",
      "Reordered: [60 40 20 10 30 50]\n"
     ]
    }
   ],
   "source": [
    "arr = np.array([10, 20, 30, 40, 50, 60])\n",
    "indices = np.array([0, 2, 5])\n",
    "\n",
    "print(f\"Original array: {arr}\")\n",
    "print(f\"Elements at indices {indices}: {arr[indices]}\")\n",
    "\n",
    "# Reorder elements\n",
    "reordered = arr[[5, 3, 1, 0, 2, 4]]\n",
    "print(f\"Reordered: {reordered}\")"
   ]
  },
  {
   "cell_type": "markdown",
   "metadata": {},
   "source": [
    "## Broadcasting and Vectorization\n",
    "\n",
    "Broadcasting is NumPy's powerful mechanism for performing operations on arrays of different shapes. It eliminates the need for explicit loops and makes code both faster and more readable."
   ]
  },
  {
   "cell_type": "markdown",
   "metadata": {},
   "source": [
    "### Broadcasting Rules\n",
    "\n",
    "NumPy compares array shapes element-wise from right to left. Two dimensions are compatible when they are equal or one of them is 1."
   ]
  },
  {
   "cell_type": "code",
   "execution_count": 24,
   "metadata": {},
   "outputs": [
    {
     "name": "stdout",
     "output_type": "stream",
     "text": [
      "Array + scalar: [11 12 13 14]\n"
     ]
    }
   ],
   "source": [
    "# Scalar and array\n",
    "arr = np.array([1, 2, 3, 4])\n",
    "result = arr + 10  # Scalar is broadcast to array shape\n",
    "print(f\"Array + scalar: {result}\")"
   ]
  },
  {
   "cell_type": "code",
   "execution_count": 25,
   "metadata": {},
   "outputs": [
    {
     "name": "stdout",
     "output_type": "stream",
     "text": [
      "Matrix + row vector:\n",
      "[[11 22 33]\n",
      " [14 25 36]\n",
      " [17 28 39]]\n"
     ]
    }
   ],
   "source": [
    "# 1D and 2D arrays\n",
    "matrix = np.array([[1, 2, 3],\n",
    "                   [4, 5, 6],\n",
    "                   [7, 8, 9]])\n",
    "row_vector = np.array([10, 20, 30])\n",
    "\n",
    "# Row vector is broadcast to each row\n",
    "result = matrix + row_vector\n",
    "print(f\"Matrix + row vector:\\n{result}\")"
   ]
  },
  {
   "cell_type": "code",
   "execution_count": 26,
   "metadata": {},
   "outputs": [
    {
     "name": "stdout",
     "output_type": "stream",
     "text": [
      "Matrix + column vector:\n",
      "[[101 102 103]\n",
      " [204 205 206]\n",
      " [307 308 309]]\n"
     ]
    }
   ],
   "source": [
    "# Column vector broadcasting\n",
    "col_vector = np.array([[100], [200], [300]])\n",
    "result = matrix + col_vector\n",
    "print(f\"Matrix + column vector:\\n{result}\")"
   ]
  },
  {
   "cell_type": "markdown",
   "metadata": {},
   "source": [
    "```{admonition} Broadcasting Visualization\n",
    ":class: tip\n",
    "Think of broadcasting as \"stretching\" smaller arrays to match larger ones. A scalar stretches to fill any shape, a 1D array stretches along new dimensions, and dimensions of size 1 stretch to match corresponding dimensions.\n",
    "```"
   ]
  },
  {
   "cell_type": "markdown",
   "metadata": {},
   "source": [
    "### Vectorization Benefits\n",
    "\n",
    "Vectorized operations are not just more concise—they're significantly faster than loops."
   ]
  },
  {
   "cell_type": "code",
   "execution_count": 27,
   "metadata": {},
   "outputs": [],
   "source": [
    "# Temperature conversion example\n",
    "celsius = np.random.uniform(15, 35, 10000)  # 10000 temperature readings"
   ]
  },
  {
   "cell_type": "code",
   "execution_count": 28,
   "metadata": {},
   "outputs": [],
   "source": [
    "# Loop approach (slow)\n",
    "def convert_loop(celsius_arr):\n",
    "    fahrenheit = []\n",
    "    for c in celsius_arr:\n",
    "        fahrenheit.append(c * 9/5 + 32)\n",
    "    return np.array(fahrenheit)\n",
    "\n",
    "start = time.time()\n",
    "f_loop = convert_loop(celsius)\n",
    "loop_time = time.time() - start"
   ]
  },
  {
   "cell_type": "code",
   "execution_count": 29,
   "metadata": {},
   "outputs": [
    {
     "name": "stdout",
     "output_type": "stream",
     "text": [
      "Loop time: 1.21 ms\n",
      "Vectorized time: 0.31 ms\n",
      "Speedup: 4x\n"
     ]
    }
   ],
   "source": [
    "# Vectorized approach (fast)\n",
    "start = time.time()\n",
    "f_vector = celsius * 9/5 + 32\n",
    "vector_time = time.time() - start\n",
    "\n",
    "print(f\"Loop time: {loop_time*1000:.2f} ms\")\n",
    "print(f\"Vectorized time: {vector_time*1000:.2f} ms\")\n",
    "print(f\"Speedup: {loop_time/vector_time:.0f}x\")"
   ]
  },
  {
   "cell_type": "markdown",
   "metadata": {},
   "source": [
    "### Practical Broadcasting Example\n",
    "\n",
    "Let's normalize data by subtracting the mean and dividing by the standard deviation for each feature."
   ]
  },
  {
   "cell_type": "code",
   "execution_count": 30,
   "metadata": {},
   "outputs": [
    {
     "name": "stdout",
     "output_type": "stream",
     "text": [
      "Means: [ 28.4 107.6   1.7]\n",
      "Stds: [2.42 5.   0.14]\n"
     ]
    }
   ],
   "source": [
    "# Sample data: 5 measurements, 3 features\n",
    "data = np.array([[25, 100, 1.5],\n",
    "                 [30, 110, 1.8],\n",
    "                 [28, 105, 1.6],\n",
    "                 [32, 115, 1.9],\n",
    "                 [27, 108, 1.7]])\n",
    "\n",
    "# Calculate statistics for each column\n",
    "means = data.mean(axis=0)  # Mean of each column\n",
    "stds = data.std(axis=0)    # Std of each column\n",
    "\n",
    "print(f\"Means: {means}\")\n",
    "print(f\"Stds: {stds}\")"
   ]
  },
  {
   "cell_type": "code",
   "execution_count": 31,
   "metadata": {},
   "outputs": [
    {
     "name": "stdout",
     "output_type": "stream",
     "text": [
      "Normalized data:\n",
      "[[-1.41 -1.52 -1.41]\n",
      " [ 0.66  0.48  0.71]\n",
      " [-0.17 -0.52 -0.71]\n",
      " [ 1.49  1.48  1.41]\n",
      " [-0.58  0.08  0.  ]]\n",
      "\n",
      "Verify: new means ≈ 0: [0. 0. 0.]\n",
      "Verify: new stds ≈ 1: [1. 1. 1.]\n"
     ]
    }
   ],
   "source": [
    "# Normalize using broadcasting\n",
    "normalized = (data - means) / stds\n",
    "\n",
    "print(f\"Normalized data:\\n{normalized}\")\n",
    "print(f\"\\nVerify: new means ≈ 0: {normalized.mean(axis=0)}\")\n",
    "print(f\"Verify: new stds ≈ 1: {normalized.std(axis=0)}\")"
   ]
  },
  {
   "cell_type": "markdown",
   "metadata": {},
   "source": [
    "## Working with Data\n",
    "\n",
    "Real-world data requires cleaning, analysis, and transformation. NumPy provides comprehensive tools for these tasks, especially when dealing with numerical measurements and sensor data."
   ]
  },
  {
   "cell_type": "markdown",
   "metadata": {},
   "source": [
    "### Statistical Operations\n",
    "\n",
    "NumPy includes a rich set of statistical functions for data analysis."
   ]
  },
  {
   "cell_type": "code",
   "execution_count": 32,
   "metadata": {},
   "outputs": [
    {
     "name": "stdout",
     "output_type": "stream",
     "text": [
      "Mean: 100.29\n",
      "Median: 100.38\n",
      "Standard deviation: 14.68\n",
      "Variance: 215.53\n"
     ]
    }
   ],
   "source": [
    "# Generate sample measurement data\n",
    "np.random.seed(42)\n",
    "measurements = np.random.normal(100, 15, 1000)  # Mean=100, std=15\n",
    "\n",
    "# Basic statistics\n",
    "print(f\"Mean: {np.mean(measurements):.2f}\")\n",
    "print(f\"Median: {np.median(measurements):.2f}\")\n",
    "print(f\"Standard deviation: {np.std(measurements):.2f}\")\n",
    "print(f\"Variance: {np.var(measurements):.2f}\")"
   ]
  },
  {
   "cell_type": "code",
   "execution_count": 33,
   "metadata": {},
   "outputs": [
    {
     "name": "stdout",
     "output_type": "stream",
     "text": [
      "Quartiles: [ 90.29 100.38 109.72]\n",
      "\n",
      "Number of outliers: 3\n",
      "Outlier percentage: 0.3%\n"
     ]
    }
   ],
   "source": [
    "# Percentiles and quantiles\n",
    "percentiles = np.percentile(measurements, [25, 50, 75])\n",
    "print(f\"Quartiles: {percentiles}\")\n",
    "\n",
    "# Identify outliers (values beyond 3 standard deviations)\n",
    "mean = np.mean(measurements)\n",
    "std = np.std(measurements)\n",
    "outliers = np.abs(measurements - mean) > 3 * std\n",
    "print(f\"\\nNumber of outliers: {np.sum(outliers)}\")\n",
    "print(f\"Outlier percentage: {np.sum(outliers)/len(measurements)*100:.1f}%\")"
   ]
  },
  {
   "cell_type": "markdown",
   "metadata": {},
   "source": [
    "### Handling Missing Data\n",
    "\n",
    "Sensor failures and communication errors often result in missing data. NumPy provides tools to handle these situations."
   ]
  },
  {
   "cell_type": "code",
   "execution_count": 34,
   "metadata": {},
   "outputs": [
    {
     "name": "stdout",
     "output_type": "stream",
     "text": [
      "Raw data: [23.5 24.1  nan 23.8 24.3  nan 23.9]\n",
      "Contains NaN: True\n",
      "NaN locations: [2 5]\n"
     ]
    }
   ],
   "source": [
    "# Create data with missing values (NaN)\n",
    "sensor_data = np.array([23.5, 24.1, np.nan, 23.8, 24.3, np.nan, 23.9])\n",
    "\n",
    "print(f\"Raw data: {sensor_data}\")\n",
    "print(f\"Contains NaN: {np.isnan(sensor_data).any()}\")\n",
    "print(f\"NaN locations: {np.where(np.isnan(sensor_data))[0]}\")"
   ]
  },
  {
   "cell_type": "code",
   "execution_count": 35,
   "metadata": {},
   "outputs": [
    {
     "name": "stdout",
     "output_type": "stream",
     "text": [
      "After removing NaN: [23.5 24.1 23.8 24.3 23.9]\n",
      "After replacing with mean: [23.5  24.1  23.92 23.8  24.3  23.92 23.9 ]\n"
     ]
    }
   ],
   "source": [
    "# Handle missing values\n",
    "# Option 1: Remove NaN values\n",
    "clean_data = sensor_data[~np.isnan(sensor_data)]\n",
    "print(f\"After removing NaN: {clean_data}\")\n",
    "\n",
    "# Option 2: Replace with mean\n",
    "data_copy = sensor_data.copy()\n",
    "mean_value = np.nanmean(data_copy)  # Mean ignoring NaN\n",
    "data_copy[np.isnan(data_copy)] = mean_value\n",
    "print(f\"After replacing with mean: {data_copy}\")"
   ]
  },
  {
   "cell_type": "markdown",
   "metadata": {},
   "source": [
    "```{admonition} Tip: NaN-aware Functions\n",
    ":class: tip\n",
    "Use NumPy's NaN-aware functions like `np.nanmean()`, `np.nanstd()`, and `np.nansum()` to perform calculations while ignoring missing values.\n",
    "```"
   ]
  },
  {
   "cell_type": "markdown",
   "metadata": {},
   "source": [
    "### Data Transformation\n",
    "\n",
    "Engineering data often requires transformation for analysis or visualization."
   ]
  },
  {
   "cell_type": "code",
   "execution_count": 36,
   "metadata": {},
   "outputs": [
    {
     "name": "stdout",
     "output_type": "stream",
     "text": [
      "Linear scale: [    10    100   1000  10000 100000]\n",
      "Log scale: [1. 2. 3. 4. 5.]\n"
     ]
    }
   ],
   "source": [
    "# Logarithmic scaling for wide-range data\n",
    "resistance = np.array([10, 100, 1000, 10000, 100000])  # Ohms\n",
    "log_resistance = np.log10(resistance)\n",
    "\n",
    "print(f\"Linear scale: {resistance}\")\n",
    "print(f\"Log scale: {log_resistance}\")"
   ]
  },
  {
   "cell_type": "code",
   "execution_count": 37,
   "metadata": {
    "editable": true,
    "slideshow": {
     "slide_type": ""
    },
    "tags": []
   },
   "outputs": [
    {
     "name": "stdout",
     "output_type": "stream",
     "text": [
      "Power (W): [ 0.    0.01  0.1   1.   10.  ]\n",
      "Power (dBm): [ 0. 10. 20. 30. 40.]\n"
     ]
    }
   ],
   "source": [
    "# Decibel conversion for signal processing\n",
    "power_watts = np.array([0.001, 0.01, 0.1, 1, 10])\n",
    "power_dbm = 10 * np.log10(power_watts * 1000)  # Convert to dBm\n",
    "\n",
    "print(f\"Power (W): {power_watts}\")\n",
    "print(f\"Power (dBm): {power_dbm}\")"
   ]
  },
  {
   "cell_type": "markdown",
   "metadata": {
    "editable": true,
    "slideshow": {
     "slide_type": ""
    },
    "tags": []
   },
   "source": [
    "### Exercise 2: Data Analysis and Cleaning\n",
    "\n",
    "Temperature sensors in industrial monitoring systems can fail or report erroneous values due to electrical interference, communication errors, or hardware malfunctions. In this exercise, you'll detect and correct these errors using validation rules and interpolation.\n",
    "\n",
    "**Hint:** Use `np.random.seed(42)` before generating noise to make your results reproducible."
   ]
  },
  {
   "cell_type": "markdown",
   "metadata": {
    "editable": true,
    "slideshow": {
     "slide_type": ""
    },
    "tags": []
   },
   "source": [
    "Create 24 hours of temperature data that follows a realistic daily pattern using a sine wave. Start with `np.arange(24)` for hours and generate base temperatures using `20 + 10*np.sin((hours - 6) * np.pi / 12)` to simulate cooler nights and warmer afternoons. Add small random noise with `np.random.normal(0, 1, 24)`. Then inject three types of errors: set index 5 to 100°C and index 10 to -50°C to simulate sensor failures, and at index 15, add 8°C to the previous value to create a sudden jump."
   ]
  },
  {
   "cell_type": "code",
   "execution_count": 39,
   "metadata": {
    "editable": true,
    "slideshow": {
     "slide_type": ""
    },
    "tags": [
     "hide-cell"
    ]
   },
   "outputs": [
    {
     "name": "stdout",
     "output_type": "stream",
     "text": [
      "Raw data: [ 10.5   10.2   11.99  14.45  14.77 100.    21.58  23.36  24.53  27.61\n",
      " -50.    29.19]...\n"
     ]
    }
   ],
   "source": [
    "# Create sample data with errors\n",
    "np.random.seed(42)\n",
    "hours = np.arange(24)\n",
    "# Normal temperatures with daily pattern\n",
    "temps = 20 + 10*np.sin((hours - 6) * np.pi / 12) + np.random.normal(0, 1, 24)\n",
    "\n",
    "# Inject errors\n",
    "temps[5] = 100  # Sensor error\n",
    "temps[10] = -50  # Sensor error\n",
    "temps[15] = temps[14] + 8  # Sudden jump\n",
    "\n",
    "print(f\"Raw data: {temps[:12]}...\")  # Show first half"
   ]
  },
  {
   "cell_type": "markdown",
   "metadata": {
    "editable": true,
    "slideshow": {
     "slide_type": ""
    },
    "tags": []
   },
   "source": [
    "Detect two types of problems in the temperature data. First, find out-of-range values by checking where temperatures fall below -10°C or above 45°C. Second, identify sudden changes by calculating the absolute difference between consecutive values using `np.abs(np.diff(temps))` and finding where this exceeds 5°C. Since `diff()` returns an array one element shorter, create a boolean array for sudden changes that matches the original length, marking both the jumping point and the point after it as problematic.\n",
    "\n",
    "**Hint:** Combine both problem types using the `|` (OR) operator to create a single mask of all problematic indices."
   ]
  },
  {
   "cell_type": "code",
   "execution_count": 40,
   "metadata": {
    "editable": true,
    "slideshow": {
     "slide_type": ""
    },
    "tags": [
     "hide-cell"
    ]
   },
   "outputs": [
    {
     "name": "stdout",
     "output_type": "stream",
     "text": [
      "Problematic indices: [ 5  6 10 11 15 16]\n"
     ]
    }
   ],
   "source": [
    "# Identify problems\n",
    "# Check range\n",
    "out_of_range = (temps < -10) | (temps > 45)\n",
    "\n",
    "# Check rate of change\n",
    "rate_of_change = np.abs(np.diff(temps))\n",
    "sudden_changes = np.zeros(24, dtype=bool)\n",
    "sudden_changes[1:] = rate_of_change > 5\n",
    "\n",
    "# Combine problems\n",
    "problematic = out_of_range | sudden_changes\n",
    "\n",
    "print(f\"Problematic indices: {np.where(problematic)[0]}\")"
   ]
  },
  {
   "cell_type": "markdown",
   "metadata": {
    "editable": true,
    "slideshow": {
     "slide_type": ""
    },
    "tags": []
   },
   "source": [
    "Create a cleaned copy of your temperature array. Use `np.interp()` to replace problematic values with linearly interpolated values from the surrounding valid data points. You'll need three arrays for interpolation: the x-coordinates of points to interpolate (problematic indices), the x-coordinates of known good points (valid indices), and the y-values at those good points (valid temperatures). Compare the mean and standard deviation of the raw and cleaned data to see how outliers affected the statistics.\n",
    "\n",
    "**Hint:** Use `np.where()` to get indices: `valid_indices = np.where(~problematic)[0]` and `invalid_indices = np.where(problematic)[0]`."
   ]
  },
  {
   "cell_type": "code",
   "execution_count": 41,
   "metadata": {
    "editable": true,
    "slideshow": {
     "slide_type": ""
    },
    "tags": [
     "hide-cell"
    ]
   },
   "outputs": [
    {
     "name": "stdout",
     "output_type": "stream",
     "text": [
      "Raw data - Mean: 20.4, Std: 22.8\n",
      "Cleaned - Mean: 19.8, Std: 6.8\n"
     ]
    }
   ],
   "source": [
    "# Clean data using interpolation\n",
    "cleaned = temps.copy()\n",
    "valid_indices = np.where(~problematic)[0]\n",
    "invalid_indices = np.where(problematic)[0]\n",
    "\n",
    "# Interpolate invalid values\n",
    "cleaned[invalid_indices] = np.interp(invalid_indices, \n",
    "                                     valid_indices, \n",
    "                                     temps[valid_indices])\n",
    "\n",
    "# Compare statistics\n",
    "print(f\"Raw data - Mean: {np.mean(temps):.1f}, Std: {np.std(temps):.1f}\")\n",
    "print(f\"Cleaned - Mean: {np.mean(cleaned):.1f}, Std: {np.std(cleaned):.1f}\")"
   ]
  },
  {
   "cell_type": "markdown",
   "metadata": {
    "editable": true,
    "slideshow": {
     "slide_type": ""
    },
    "tags": []
   },
   "source": [
    "Optional: Create a plot that clearly shows the data cleaning effect. Plot the raw data with markers and lines in one color with reduced opacity, then overlay the cleaned data in another color. Mark the problematic values with large 'X' markers to highlight which points were corrected. Add a legend distinguishing between raw data, cleaned data, and identified errors. This visualization should make it immediately clear where errors occurred and how interpolation smoothed them out.\n",
    "\n",
    "**Hint:** Use `plt.scatter()` to mark the problematic points."
   ]
  },
  {
   "cell_type": "code",
   "execution_count": 42,
   "metadata": {
    "editable": true,
    "slideshow": {
     "slide_type": ""
    },
    "tags": [
     "hide-cell"
    ]
   },
   "outputs": [
    {
     "data": {
      "image/png": "[encoded data removed]",
      "text/plain": [
       "<Figure size 1000x400 with 1 Axes>"
      ]
     },
     "metadata": {},
     "output_type": "display_data"
    }
   ],
   "source": [
    "# Visualize\n",
    "plt.figure(figsize=(10, 4))\n",
    "plt.plot(hours, temps, 'ro-', label='Raw data', alpha=0.5)\n",
    "plt.plot(hours, cleaned, 'b-', label='Cleaned data')\n",
    "plt.scatter(invalid_indices, temps[invalid_indices], \n",
    "           c='red', s=100, marker='x', label='Errors')\n",
    "plt.xlabel('Hour')\n",
    "plt.ylabel('Temperature (°C)')\n",
    "plt.legend()\n",
    "plt.grid(True, alpha=0.3)\n",
    "plt.show()"
   ]
  },
  {
   "cell_type": "markdown",
   "metadata": {
    "editable": true,
    "slideshow": {
     "slide_type": ""
    },
    "tags": []
   },
   "source": [
    "## Linear Algebra\n",
    "\n",
    "Linear algebra is fundamental to engineering computations, from solving systems of equations to analyzing circuits and control systems. NumPy provides comprehensive linear algebra capabilities through its `linalg` module."
   ]
  },
  {
   "cell_type": "markdown",
   "metadata": {},
   "source": [
    "### Matrix Operations\n",
    "\n",
    "Understanding the difference between element-wise and matrix operations is crucial."
   ]
  },
  {
   "cell_type": "code",
   "execution_count": 43,
   "metadata": {},
   "outputs": [
    {
     "name": "stdout",
     "output_type": "stream",
     "text": [
      "Element-wise multiplication:\n",
      "[[ 5 12]\n",
      " [21 32]]\n",
      "\n",
      "Matrix multiplication:\n",
      "[[19 22]\n",
      " [43 50]]\n"
     ]
    }
   ],
   "source": [
    "A = np.array([[1, 2], \n",
    "              [3, 4]])\n",
    "B = np.array([[5, 6], \n",
    "              [7, 8]])\n",
    "\n",
    "# Element-wise multiplication\n",
    "elementwise = A * B\n",
    "print(f\"Element-wise multiplication:\\n{elementwise}\")\n",
    "\n",
    "# Matrix multiplication\n",
    "matrix_mult = A @ B  # or np.dot(A, B)\n",
    "print(f\"\\nMatrix multiplication:\\n{matrix_mult}\")"
   ]
  },
  {
   "cell_type": "code",
   "execution_count": 44,
   "metadata": {},
   "outputs": [
    {
     "name": "stdout",
     "output_type": "stream",
     "text": [
      "Transpose:\n",
      "[[1 3]\n",
      " [2 4]]\n",
      "\n",
      "Determinant: -2.00\n",
      "\n",
      "Inverse:\n",
      "[[-2.   1. ]\n",
      " [ 1.5 -0.5]]\n"
     ]
    }
   ],
   "source": [
    "# Matrix properties\n",
    "print(f\"Transpose:\\n{A.T}\")\n",
    "print(f\"\\nDeterminant: {np.linalg.det(A):.2f}\")\n",
    "print(f\"\\nInverse:\\n{np.linalg.inv(A)}\")"
   ]
  },
  {
   "cell_type": "code",
   "execution_count": 45,
   "metadata": {},
   "outputs": [
    {
     "name": "stdout",
     "output_type": "stream",
     "text": [
      "A @ A^(-1) =\n",
      "[[1. 0.]\n",
      " [0. 1.]]\n",
      "\n",
      "Is identity? True\n"
     ]
    }
   ],
   "source": [
    "# Verify inverse property: A @ A^(-1) = I\n",
    "A_inv = np.linalg.inv(A)\n",
    "identity = A @ A_inv\n",
    "print(f\"A @ A^(-1) =\\n{identity}\")\n",
    "print(f\"\\nIs identity? {np.allclose(identity, np.eye(2))}\")"
   ]
  },
  {
   "cell_type": "markdown",
   "metadata": {},
   "source": [
    "### Solving Linear Systems\n",
    "\n",
    "Many engineering problems reduce to solving systems of linear equations: Ax = b"
   ]
  },
  {
   "cell_type": "code",
   "execution_count": 46,
   "metadata": {},
   "outputs": [
    {
     "name": "stdout",
     "output_type": "stream",
     "text": [
      "Currents: [ 0.5  0.  -0.5]\n"
     ]
    }
   ],
   "source": [
    "# Example: Circuit analysis with Kirchhoff's laws\n",
    "# 3 equations, 3 unknowns (currents)\n",
    "# Coefficient matrix (from circuit equations)\n",
    "A = np.array([[2, -1, 0],\n",
    "              [-1, 3, -1],\n",
    "              [0, -1, 2]])\n",
    "\n",
    "# Right-hand side (voltage sources)\n",
    "b = np.array([1, 0, -1])\n",
    "\n",
    "# Solve for currents\n",
    "currents = np.linalg.solve(A, b)\n",
    "print(f\"Currents: {currents}\")"
   ]
  },
  {
   "cell_type": "code",
   "execution_count": 47,
   "metadata": {},
   "outputs": [
    {
     "name": "stdout",
     "output_type": "stream",
     "text": [
      "A @ x = [ 1.  0. -1.]\n",
      "b = [ 1  0 -1]\n",
      "Solution correct? True\n"
     ]
    }
   ],
   "source": [
    "# Verify solution\n",
    "verification = A @ currents\n",
    "print(f\"A @ x = {verification}\")\n",
    "print(f\"b = {b}\")\n",
    "print(f\"Solution correct? {np.allclose(verification, b)}\")"
   ]
  },
  {
   "cell_type": "markdown",
   "metadata": {},
   "source": [
    "```{admonition} Performance Note\n",
    ":class: note\n",
    "`np.linalg.solve()` is more efficient and numerically stable than computing the inverse and multiplying: `x = inv(A) @ b`. Always prefer `solve()` for linear systems.\n",
    "```"
   ]
  },
  {
   "cell_type": "markdown",
   "metadata": {},
   "source": [
    "### Eigenvalues and Eigenvectors\n",
    "\n",
    "Eigenanalysis is crucial for stability analysis, principal component analysis, and vibration problems."
   ]
  },
  {
   "cell_type": "code",
   "execution_count": 48,
   "metadata": {},
   "outputs": [
    {
     "name": "stdout",
     "output_type": "stream",
     "text": [
      "Eigenvalues: [3. 2.]\n",
      "\n",
      "Eigenvectors:\n",
      "[[0.89 0.71]\n",
      " [0.45 0.71]]\n"
     ]
    }
   ],
   "source": [
    "# System matrix (e.g., from state-space representation)\n",
    "M = np.array([[4, -2],\n",
    "              [1, 1]])\n",
    "\n",
    "# Compute eigenvalues and eigenvectors\n",
    "eigenvalues, eigenvectors = np.linalg.eig(M)\n",
    "\n",
    "print(f\"Eigenvalues: {eigenvalues}\")\n",
    "print(f\"\\nEigenvectors:\\n{eigenvectors}\")"
   ]
  },
  {
   "cell_type": "code",
   "execution_count": 49,
   "metadata": {},
   "outputs": [
    {
     "name": "stdout",
     "output_type": "stream",
     "text": [
      "Eigenvalue 1: 3.00\n",
      "  M @ v = [2.68 1.34]\n",
      "  λ * v = [2.68 1.34]\n",
      "  Match? True\n",
      "Eigenvalue 2: 2.00\n",
      "  M @ v = [1.41 1.41]\n",
      "  λ * v = [1.41 1.41]\n",
      "  Match? True\n"
     ]
    }
   ],
   "source": [
    "# Verify eigenvalue equation: M @ v = λ @ v\n",
    "for i in range(len(eigenvalues)):\n",
    "    λ = eigenvalues[i]\n",
    "    v = eigenvectors[:, i]\n",
    "    \n",
    "    lhs = M @ v\n",
    "    rhs = λ * v\n",
    "    \n",
    "    print(f\"Eigenvalue {i+1}: {λ:.2f}\")\n",
    "    print(f\"  M @ v = {lhs}\")\n",
    "    print(f\"  λ * v = {rhs}\")\n",
    "    print(f\"  Match? {np.allclose(lhs, rhs)}\")"
   ]
  },
  {
   "cell_type": "markdown",
   "metadata": {},
   "source": [
    "## Complex Numbers for Engineering\n",
    "\n",
    "Complex numbers are essential for AC circuit analysis, signal processing, and control systems. NumPy provides native support for complex arithmetic, making phasor calculations and frequency domain analysis straightforward."
   ]
  },
  {
   "cell_type": "markdown",
   "metadata": {},
   "source": [
    "### Complex Arithmetic Basics"
   ]
  },
  {
   "cell_type": "code",
   "execution_count": 50,
   "metadata": {},
   "outputs": [
    {
     "name": "stdout",
     "output_type": "stream",
     "text": [
      "z1 = (3+4j)\n",
      "z2 = (3+4j)\n",
      "z3 = 0.707+0.707j\n"
     ]
    }
   ],
   "source": [
    "# Creating complex numbers\n",
    "z1 = 3 + 4j  # Rectangular form\n",
    "z2 = complex(3, 4)  # Using complex()\n",
    "z3 = np.exp(1j * np.pi/4)  # From Euler's formula\n",
    "\n",
    "print(f\"z1 = {z1}\")\n",
    "print(f\"z2 = {z2}\")\n",
    "print(f\"z3 = {z3:.3f}\")"
   ]
  },
  {
   "cell_type": "code",
   "execution_count": 51,
   "metadata": {},
   "outputs": [
    {
     "name": "stdout",
     "output_type": "stream",
     "text": [
      "Real part: 3.0\n",
      "Imaginary part: 4.0\n",
      "Magnitude: 5.0\n",
      "Phase (radians): 0.927\n",
      "Phase (degrees): 53.1\n",
      "Conjugate: (3-4j)\n"
     ]
    }
   ],
   "source": [
    "# Complex number properties\n",
    "z = 3 + 4j\n",
    "\n",
    "print(f\"Real part: {z.real}\")\n",
    "print(f\"Imaginary part: {z.imag}\")\n",
    "print(f\"Magnitude: {np.abs(z)}\")\n",
    "print(f\"Phase (radians): {np.angle(z):.3f}\")\n",
    "print(f\"Phase (degrees): {np.angle(z, deg=True):.1f}\")\n",
    "print(f\"Conjugate: {np.conj(z)}\")"
   ]
  },
  {
   "cell_type": "markdown",
   "metadata": {},
   "source": [
    "### AC Circuit Analysis\n",
    "\n",
    "Complex numbers simplify AC circuit calculations by representing impedances and phasors."
   ]
  },
  {
   "cell_type": "code",
   "execution_count": 52,
   "metadata": {},
   "outputs": [
    {
     "name": "stdout",
     "output_type": "stream",
     "text": [
      "Resistor: 100.0 Ω\n",
      "Inductor: 0.0+37.7j Ω\n",
      "Capacitor: -0.0-265.3j Ω\n"
     ]
    }
   ],
   "source": [
    "# Circuit components at 60 Hz\n",
    "f = 60  # Hz\n",
    "ω = 2 * np.pi * f  # Angular frequency\n",
    "\n",
    "# Component values\n",
    "R = 100  # Ohms\n",
    "L = 0.1  # Henries\n",
    "C = 10e-6  # Farads\n",
    "\n",
    "# Complex impedances\n",
    "Z_R = R  # Resistor\n",
    "Z_L = 1j * ω * L  # Inductor\n",
    "Z_C = -1j / (ω * C)  # Capacitor\n",
    "\n",
    "print(f\"Resistor: {Z_R:.1f} Ω\")\n",
    "print(f\"Inductor: {Z_L:.1f} Ω\")\n",
    "print(f\"Capacitor: {Z_C:.1f} Ω\")"
   ]
  },
  {
   "cell_type": "code",
   "execution_count": 53,
   "metadata": {},
   "outputs": [
    {
     "name": "stdout",
     "output_type": "stream",
     "text": [
      "Total impedance: 100.0-227.6j Ω\n",
      "Magnitude: 248.6 Ω\n",
      "Phase angle: -66.3°\n",
      "\n",
      "Current: 0.483 A at 66.3°\n"
     ]
    }
   ],
   "source": [
    "# Series RLC circuit\n",
    "Z_total = Z_R + Z_L + Z_C\n",
    "\n",
    "print(f\"Total impedance: {Z_total:.1f} Ω\")\n",
    "print(f\"Magnitude: {np.abs(Z_total):.1f} Ω\")\n",
    "print(f\"Phase angle: {np.angle(Z_total, deg=True):.1f}°\")\n",
    "\n",
    "# Current calculation with voltage source\n",
    "V = 120  # Volts RMS\n",
    "I = V / Z_total\n",
    "print(f\"\\nCurrent: {np.abs(I):.3f} A at {np.angle(I, deg=True):.1f}°\")"
   ]
  },
  {
   "cell_type": "markdown",
   "metadata": {},
   "source": [
    "### Power Calculations\n",
    "\n",
    "Complex power elegantly represents the relationship between real and reactive power."
   ]
  },
  {
   "cell_type": "code",
   "execution_count": 54,
   "metadata": {},
   "outputs": [
    {
     "name": "stdout",
     "output_type": "stream",
     "text": [
      "Complex power: 1991.9+1150.0j VA\n",
      "Real power (P): 1991.9 W\n",
      "Reactive power (Q): 1150.0 VAR\n",
      "Apparent power (|S|): 2300.0 VA\n",
      "Power factor: 0.866\n"
     ]
    }
   ],
   "source": [
    "# Voltage and current phasors\n",
    "V_phasor = 230 * np.exp(1j * 0)  # Reference angle\n",
    "I_phasor = 10 * np.exp(1j * np.radians(-30))  # 30° lagging\n",
    "\n",
    "# Complex power S = V * I*\n",
    "S = V_phasor * np.conj(I_phasor)\n",
    "\n",
    "print(f\"Complex power: {S:.1f} VA\")\n",
    "print(f\"Real power (P): {S.real:.1f} W\")\n",
    "print(f\"Reactive power (Q): {S.imag:.1f} VAR\")\n",
    "print(f\"Apparent power (|S|): {np.abs(S):.1f} VA\")\n",
    "print(f\"Power factor: {S.real/np.abs(S):.3f}\")"
   ]
  },
  {
   "cell_type": "markdown",
   "metadata": {},
   "source": [
    "```{admonition} MATLAB Note: Complex Numbers\n",
    ":class: note\n",
    "Python uses `j` for the imaginary unit (following electrical engineering convention), while MATLAB uses `i`. Both `3+4j` and `complex(3,4)` create complex numbers in Python.\n",
    "```"
   ]
  },
  {
   "cell_type": "markdown",
   "metadata": {},
   "source": [
    "### Exercise 3: Three-Phase Power Analysis\n",
    "\n",
    "A balanced three-phase system has line voltage of 400V and supplies a load with impedance Z = 10 + 5j Ω per phase. Calculate the line currents, phase currents, and total three-phase power. Assume a Y-connected load.\n",
    "\n",
    "Display the three phase currents as phasors (magnitude and angle) and calculate the total real and reactive power consumed.\n",
    "\n",
    "**Hint:** In a balanced Y-connection, phase voltage = line voltage / √3, and the three phases are 120° apart."
   ]
  },
  {
   "cell_type": "code",
   "execution_count": 55,
   "metadata": {},
   "outputs": [],
   "source": [
    "# Exercise 3: Your code here"
   ]
  },
  {
   "cell_type": "markdown",
   "metadata": {},
   "source": [
    "### Solution to Exercise 3"
   ]
  },
  {
   "cell_type": "code",
   "execution_count": 56,
   "metadata": {},
   "outputs": [
    {
     "name": "stdout",
     "output_type": "stream",
     "text": [
      "Phase voltages (V):\n",
      "  V_a: 230.9 ∠ 0.0°\n",
      "  V_b: 230.9 ∠ -120.0°\n",
      "  V_c: 230.9 ∠ 120.0°\n"
     ]
    }
   ],
   "source": [
    "# System parameters\n",
    "V_line = 400  # Line voltage (V)\n",
    "Z_load = 10 + 5j  # Load impedance per phase (Ω)\n",
    "\n",
    "# Calculate phase voltage (Y-connection)\n",
    "V_phase = V_line / np.sqrt(3)\n",
    "\n",
    "# Create three-phase voltage phasors (120° apart)\n",
    "V_a = V_phase * np.exp(1j * 0)  # Phase A reference\n",
    "V_b = V_phase * np.exp(1j * np.radians(-120))  # Phase B\n",
    "V_c = V_phase * np.exp(1j * np.radians(120))   # Phase C\n",
    "\n",
    "print(f\"Phase voltages (V):\")\n",
    "print(f\"  V_a: {np.abs(V_a):.1f} ∠ {np.angle(V_a, deg=True):.1f}°\")\n",
    "print(f\"  V_b: {np.abs(V_b):.1f} ∠ {np.angle(V_b, deg=True):.1f}°\")\n",
    "print(f\"  V_c: {np.abs(V_c):.1f} ∠ {np.angle(V_c, deg=True):.1f}°\")"
   ]
  },
  {
   "cell_type": "code",
   "execution_count": 57,
   "metadata": {},
   "outputs": [
    {
     "name": "stdout",
     "output_type": "stream",
     "text": [
      "\n",
      "Phase currents (A):\n",
      "  I_a: 20.66 ∠ -26.6°\n",
      "  I_b: 20.66 ∠ -146.6°\n",
      "  I_c: 20.66 ∠ 93.4°\n",
      "\n",
      "Note: Line currents equal phase currents in Y-connection\n"
     ]
    }
   ],
   "source": [
    "# Calculate phase currents (I = V/Z)\n",
    "I_a = V_a / Z_load\n",
    "I_b = V_b / Z_load\n",
    "I_c = V_c / Z_load\n",
    "\n",
    "print(f\"\\nPhase currents (A):\")\n",
    "print(f\"  I_a: {np.abs(I_a):.2f} ∠ {np.angle(I_a, deg=True):.1f}°\")\n",
    "print(f\"  I_b: {np.abs(I_b):.2f} ∠ {np.angle(I_b, deg=True):.1f}°\")\n",
    "print(f\"  I_c: {np.abs(I_c):.2f} ∠ {np.angle(I_c, deg=True):.1f}°\")\n",
    "\n",
    "# In Y-connection, line current = phase current\n",
    "print(f\"\\nNote: Line currents equal phase currents in Y-connection\")"
   ]
  },
  {
   "cell_type": "code",
   "execution_count": 58,
   "metadata": {
    "editable": true,
    "slideshow": {
     "slide_type": ""
    },
    "tags": []
   },
   "outputs": [
    {
     "name": "stdout",
     "output_type": "stream",
     "text": [
      "\n",
      "Power per phase:\n",
      "  Phase A: P=4266.7 W, Q=2133.3 VAR\n",
      "\n",
      "Total three-phase power:\n",
      "  Real power: 12800.0 W\n",
      "  Reactive power: 6400.0 VAR\n",
      "  Apparent power: 14310.8 VA\n",
      "  Power factor: 0.894\n"
     ]
    }
   ],
   "source": [
    "# Calculate power per phase\n",
    "S_a = V_a * np.conj(I_a)\n",
    "S_b = V_b * np.conj(I_b)\n",
    "S_c = V_c * np.conj(I_c)\n",
    "\n",
    "# Total three-phase power\n",
    "S_total = S_a + S_b + S_c\n",
    "\n",
    "print(f\"\\nPower per phase:\")\n",
    "print(f\"  Phase A: P={S_a.real:.1f} W, Q={S_a.imag:.1f} VAR\")\n",
    "print(f\"\\nTotal three-phase power:\")\n",
    "print(f\"  Real power: {S_total.real:.1f} W\")\n",
    "print(f\"  Reactive power: {S_total.imag:.1f} VAR\")\n",
    "print(f\"  Apparent power: {np.abs(S_total):.1f} VA\")\n",
    "print(f\"  Power factor: {S_total.real/np.abs(S_total):.3f}\")"
   ]
  },
  {
   "cell_type": "markdown",
   "metadata": {},
   "source": [
    "## Power Systems Applications\n",
    "\n",
    "Now let's apply everything we've learned to solve realistic power system problems. These examples demonstrate how NumPy's capabilities come together for practical engineering analysis."
   ]
  },
  {
   "cell_type": "markdown",
   "metadata": {},
   "source": [
    "### Power Flow Calculation\n",
    "\n",
    "A simplified DC power flow demonstrates matrix operations and system solving."
   ]
  },
  {
   "cell_type": "code",
   "execution_count": 59,
   "metadata": {},
   "outputs": [
    {
     "name": "stdout",
     "output_type": "stream",
     "text": [
      "Bus voltage angles (radians):\n",
      "  Bus 0: 0.0000 rad (0.00°)\n",
      "  Bus 1: 2.0000 rad (114.59°)\n",
      "  Bus 2: -0.0000 rad (-0.00°)\n"
     ]
    }
   ],
   "source": [
    "# 3-bus system susceptance matrix (simplified)\n",
    "B = np.array([[-20, 10, 10],\n",
    "              [10, -25, 15],\n",
    "              [10, 15, -25]])\n",
    "\n",
    "# Remove slack bus (bus 0) for calculation\n",
    "B_reduced = B[1:, 1:]\n",
    "\n",
    "# Power injections at buses 1 and 2 (MW)\n",
    "P = np.array([-50, 30])  # Negative = load, Positive = generation\n",
    "\n",
    "# Solve for voltage angles: B * θ = P\n",
    "theta = np.linalg.solve(B_reduced, P)\n",
    "\n",
    "# Include slack bus (reference angle = 0)\n",
    "theta_all = np.insert(theta, 0, 0)\n",
    "\n",
    "print(f\"Bus voltage angles (radians):\")\n",
    "for i, angle in enumerate(theta_all):\n",
    "    print(f\"  Bus {i}: {angle:.4f} rad ({np.degrees(angle):.2f}°)\")"
   ]
  },
  {
   "cell_type": "code",
   "execution_count": 60,
   "metadata": {},
   "outputs": [
    {
     "name": "stdout",
     "output_type": "stream",
     "text": [
      "\n",
      "Line flows (MW):\n",
      "  Line 0-1: 20.00 MW\n",
      "  Line 0-2: -0.00 MW\n",
      "  Line 1-2: -30.00 MW\n"
     ]
    }
   ],
   "source": [
    "# Calculate line flows\n",
    "# Flow from bus i to j: P_ij = B_ij * (θ_i - θ_j)\n",
    "flows = {}\n",
    "for i in range(3):\n",
    "    for j in range(i+1, 3):\n",
    "        if B[i, j] != 0:\n",
    "            flow = -B[i, j] * (theta_all[i] - theta_all[j])\n",
    "            flows[f\"Line {i}-{j}\"] = flow\n",
    "\n",
    "print(f\"\\nLine flows (MW):\")\n",
    "for line, flow in flows.items():\n",
    "    print(f\"  {line}: {flow:.2f} MW\")"
   ]
  },
  {
   "cell_type": "markdown",
   "metadata": {},
   "source": [
    "### Harmonic Analysis\n",
    "\n",
    "Analyzing harmonic content in power systems using FFT."
   ]
  },
  {
   "cell_type": "code",
   "execution_count": 61,
   "metadata": {},
   "outputs": [],
   "source": [
    "# Generate distorted current waveform\n",
    "t = np.linspace(0, 0.1, 1000)  # 0.1 seconds, 1000 samples\n",
    "f0 = 50  # Fundamental frequency (Hz)\n",
    "\n",
    "# Current with harmonics (typical for nonlinear load)\n",
    "i_fundamental = 100 * np.sin(2*np.pi*f0*t)\n",
    "i_3rd = 30 * np.sin(2*np.pi*3*f0*t)  # 3rd harmonic\n",
    "i_5th = 20 * np.sin(2*np.pi*5*f0*t)  # 5th harmonic\n",
    "i_7th = 10 * np.sin(2*np.pi*7*f0*t)  # 7th harmonic\n",
    "\n",
    "i_total = i_fundamental + i_3rd + i_5th + i_7th"
   ]
  },
  {
   "cell_type": "code",
   "execution_count": 62,
   "metadata": {},
   "outputs": [
    {
     "name": "stdout",
     "output_type": "stream",
     "text": [
      "Harmonic content:\n",
      "  1th harmonic: 100.0 A (100.0%)\n",
      "  3th harmonic: 29.9 A (30.0%)\n",
      "  5th harmonic: 19.9 A (19.9%)\n",
      "  7th harmonic: 9.9 A (9.9%)\n"
     ]
    }
   ],
   "source": [
    "# Perform FFT\n",
    "fft_result = np.fft.fft(i_total)\n",
    "frequencies = np.fft.fftfreq(len(t), t[1] - t[0])\n",
    "\n",
    "# Get positive frequencies only\n",
    "positive_freq_idx = frequencies > 0\n",
    "frequencies = frequencies[positive_freq_idx]\n",
    "magnitudes = np.abs(fft_result[positive_freq_idx]) * 2 / len(t)\n",
    "\n",
    "# Find harmonics\n",
    "harmonic_indices = []\n",
    "for h in [1, 3, 5, 7]:\n",
    "    idx = np.argmin(np.abs(frequencies - h*f0))\n",
    "    harmonic_indices.append(idx)\n",
    "\n",
    "print(f\"Harmonic content:\")\n",
    "for h, idx in zip([1, 3, 5, 7], harmonic_indices):\n",
    "    magnitude = magnitudes[idx]\n",
    "    percentage = magnitude / magnitudes[harmonic_indices[0]] * 100\n",
    "    print(f\"  {h}th harmonic: {magnitude:.1f} A ({percentage:.1f}%)\")"
   ]
  },
  {
   "cell_type": "code",
   "execution_count": 70,
   "metadata": {
    "editable": true,
    "slideshow": {
     "slide_type": ""
    },
    "tags": []
   },
   "outputs": [
    {
     "name": "stdout",
     "output_type": "stream",
     "text": [
      "\n",
      "Total Harmonic Distortion: 37.3%\n"
     ]
    }
   ],
   "source": [
    "# Calculate Total Harmonic Distortion (THD)\n",
    "fundamental = magnitudes[harmonic_indices[0]]\n",
    "harmonics = magnitudes[harmonic_indices[1:]]\n",
    "THD = np.sqrt(np.sum(harmonics**2)) / fundamental * 100\n",
    "\n",
    "print(f\"\\nTotal Harmonic Distortion: {THD:.1f}%\")"
   ]
  },
  {
   "cell_type": "markdown",
   "metadata": {
    "editable": true,
    "slideshow": {
     "slide_type": ""
    },
    "tags": []
   },
   "source": [
    "### Load Forecasting Data Preparation\n",
    "\n",
    "Preparing time-series data for machine learning models."
   ]
  },
  {
   "cell_type": "code",
   "execution_count": 71,
   "metadata": {
    "editable": true,
    "slideshow": {
     "slide_type": ""
    },
    "tags": []
   },
   "outputs": [],
   "source": [
    "# Generate synthetic load data\n",
    "np.random.seed(42)\n",
    "days = 30\n",
    "hours_per_day = 24\n",
    "total_hours = days * hours_per_day\n",
    "\n",
    "# Base load with daily and weekly patterns\n",
    "time = np.arange(total_hours)\n",
    "daily_pattern = 500 + 200*np.sin(2*np.pi*time/24 - np.pi/2)\n",
    "weekly_pattern = 50*np.sin(2*np.pi*time/(24*7))\n",
    "noise = np.random.normal(0, 30, total_hours)\n",
    "\n",
    "load = daily_pattern + weekly_pattern + noise\n",
    "load = np.maximum(load, 300)  # Minimum load constraint"
   ]
  },
  {
   "cell_type": "code",
   "execution_count": 72,
   "metadata": {
    "editable": true,
    "slideshow": {
     "slide_type": ""
    },
    "tags": []
   },
   "outputs": [
    {
     "name": "stdout",
     "output_type": "stream",
     "text": [
      "Feature matrix shape: (552, 6)\n",
      "Features: lag_1h, lag_24h, lag_168h, hour, day, ma_24h\n",
      "\n",
      "First sample:\n",
      "  Features: [361.85 300.   314.9    0.     0.   510.78]\n",
      "  Target: 300.0 MW\n"
     ]
    }
   ],
   "source": [
    "# Create features for forecasting\n",
    "# Lag features\n",
    "lag_1h = np.roll(load, 1)\n",
    "lag_24h = np.roll(load, 24)\n",
    "lag_168h = np.roll(load, 168)  # 1 week\n",
    "\n",
    "# Time features\n",
    "hour_of_day = time % 24\n",
    "day_of_week = (time // 24) % 7\n",
    "\n",
    "# Moving averages\n",
    "ma_24h = np.convolve(load, np.ones(24)/24, mode='same')\n",
    "\n",
    "# Combine features (skip first week to avoid edge effects)\n",
    "start_idx = 168\n",
    "features = np.column_stack([\n",
    "    lag_1h[start_idx:],\n",
    "    lag_24h[start_idx:],\n",
    "    lag_168h[start_idx:],\n",
    "    hour_of_day[start_idx:],\n",
    "    day_of_week[start_idx:],\n",
    "    ma_24h[start_idx:]\n",
    "])\n",
    "target = load[start_idx:]\n",
    "\n",
    "print(f\"Feature matrix shape: {features.shape}\")\n",
    "print(f\"Features: lag_1h, lag_24h, lag_168h, hour, day, ma_24h\")\n",
    "print(f\"\\nFirst sample:\")\n",
    "print(f\"  Features: {features[0]}\")\n",
    "print(f\"  Target: {target[0]:.1f} MW\")"
   ]
  },
  {
   "cell_type": "markdown",
   "metadata": {
    "editable": true,
    "slideshow": {
     "slide_type": ""
    },
    "tags": []
   },
   "source": [
    "## Troubleshooting and Best Practices\n",
    "\n",
    "Understanding common errors and best practices will save you debugging time and improve code performance."
   ]
  },
  {
   "cell_type": "markdown",
   "metadata": {
    "editable": true,
    "slideshow": {
     "slide_type": ""
    },
    "tags": []
   },
   "source": [
    "### Common Errors and Solutions\n",
    "\n",
    "```{admonition} Common NumPy Errors\n",
    ":class: warning\n",
    "1. **Shape mismatch**: Arrays must have compatible shapes for operations\n",
    "2. **Type errors**: Mixing incompatible data types\n",
    "3. **Memory errors**: Creating arrays too large for available RAM\n",
    "4. **Indexing errors**: Using out-of-bounds indices\n",
    "5. **Broadcasting errors**: Incompatible dimensions for broadcasting\n",
    "```"
   ]
  },
  {
   "cell_type": "code",
   "execution_count": 73,
   "metadata": {
    "editable": true,
    "slideshow": {
     "slide_type": ""
    },
    "tags": []
   },
   "outputs": [
    {
     "name": "stdout",
     "output_type": "stream",
     "text": [
      "a shape: (1, 3) (1×3)\n",
      "b shape: (3, 1) (3×1)\n",
      "\n",
      "Result shape: (3, 3)\n",
      "Result:\n",
      "[[5 6 7]\n",
      " [6 7 8]\n",
      " [7 8 9]]\n"
     ]
    }
   ],
   "source": [
    "# Shape mismatch example and solution\n",
    "a = np.array([[1, 2, 3]])\n",
    "b = np.array([[4], [5], [6]])\n",
    "\n",
    "print(f\"a shape: {a.shape} (1×3)\")\n",
    "print(f\"b shape: {b.shape} (3×1)\")\n",
    "\n",
    "# This would error: a + b.T (shapes (1,3) and (1,3) don't broadcast)\n",
    "# Solution: Use proper shapes\n",
    "result = a + b  # Broadcasting works: (1,3) + (3,1) → (3,3)\n",
    "print(f\"\\nResult shape: {result.shape}\")\n",
    "print(f\"Result:\\n{result}\")"
   ]
  },
  {
   "cell_type": "code",
   "execution_count": 74,
   "metadata": {
    "editable": true,
    "slideshow": {
     "slide_type": ""
    },
    "tags": []
   },
   "outputs": [
    {
     "name": "stdout",
     "output_type": "stream",
     "text": [
      "Result dtype: float64\n",
      "Result: [2.5 4.5 6.5]\n"
     ]
    }
   ],
   "source": [
    "# Type compatibility\n",
    "int_array = np.array([1, 2, 3], dtype=np.int32)\n",
    "float_array = np.array([1.5, 2.5, 3.5])\n",
    "\n",
    "# Mixed operations convert to higher precision\n",
    "result = int_array + float_array\n",
    "print(f\"Result dtype: {result.dtype}\")\n",
    "print(f\"Result: {result}\")"
   ]
  },
  {
   "cell_type": "markdown",
   "metadata": {
    "editable": true,
    "slideshow": {
     "slide_type": ""
    },
    "tags": []
   },
   "source": [
    "### Memory Optimization"
   ]
  },
  {
   "cell_type": "code",
   "execution_count": 75,
   "metadata": {
    "editable": true,
    "slideshow": {
     "slide_type": ""
    },
    "tags": []
   },
   "outputs": [
    {
     "name": "stdout",
     "output_type": "stream",
     "text": [
      "Default (float64): 8.0 MB\n",
      "Float32: 4.0 MB\n",
      "\n",
      "Int8 range: -128 to 127\n"
     ]
    }
   ],
   "source": [
    "# Choose appropriate data types\n",
    "# Default float64 (8 bytes per element)\n",
    "large_default = np.ones((1000, 1000))\n",
    "print(f\"Default (float64): {large_default.nbytes / 1e6:.1f} MB\")\n",
    "\n",
    "# Using float32 (4 bytes per element)\n",
    "large_float32 = np.ones((1000, 1000), dtype=np.float32)\n",
    "print(f\"Float32: {large_float32.nbytes / 1e6:.1f} MB\")\n",
    "\n",
    "# For integers with limited range\n",
    "small_ints = np.array([1, 2, 3, 4, 5], dtype=np.int8)\n",
    "print(f\"\\nInt8 range: {np.iinfo(np.int8).min} to {np.iinfo(np.int8).max}\")"
   ]
  },
  {
   "cell_type": "markdown",
   "metadata": {
    "editable": true,
    "slideshow": {
     "slide_type": ""
    },
    "tags": []
   },
   "source": [
    "### Performance Tips"
   ]
  },
  {
   "cell_type": "code",
   "execution_count": 76,
   "metadata": {
    "editable": true,
    "slideshow": {
     "slide_type": ""
    },
    "tags": []
   },
   "outputs": [
    {
     "name": "stdout",
     "output_type": "stream",
     "text": [
      "Growing array: 15.6 ms\n",
      "Preallocated: 0.6 ms\n",
      "Vectorized: 0.1 ms\n"
     ]
    }
   ],
   "source": [
    "import time \n",
    "\n",
    "# Preallocate arrays instead of growing them\n",
    "n = 10000\n",
    "\n",
    "# Slow: Growing array\n",
    "start = time.time()\n",
    "result_slow = np.array([])\n",
    "for i in range(n):\n",
    "    result_slow = np.append(result_slow, i**2)\n",
    "slow_time = time.time() - start\n",
    "\n",
    "# Fast: Preallocated\n",
    "start = time.time()\n",
    "result_fast = np.zeros(n)\n",
    "for i in range(n):\n",
    "    result_fast[i] = i**2\n",
    "fast_time = time.time() - start\n",
    "\n",
    "# Fastest: Vectorized\n",
    "start = time.time()\n",
    "result_fastest = np.arange(n)**2\n",
    "fastest_time = time.time() - start\n",
    "\n",
    "print(f\"Growing array: {slow_time*1000:.1f} ms\")\n",
    "print(f\"Preallocated: {fast_time*1000:.1f} ms\")\n",
    "print(f\"Vectorized: {fastest_time*1000:.1f} ms\")"
   ]
  },
  {
   "cell_type": "markdown",
   "metadata": {
    "editable": true,
    "slideshow": {
     "slide_type": ""
    },
    "tags": []
   },
   "source": [
    "```{admonition} Best Practices Summary\n",
    ":class: tip\n",
    "1. **Vectorize operations** - Avoid loops when possible\n",
    "2. **Preallocate arrays** - Don't grow arrays incrementally\n",
    "3. **Use appropriate dtypes** - Save memory with smaller types\n",
    "4. **Profile before optimizing** - Measure to find bottlenecks\n",
    "5. **Use views carefully** - Remember slices are views, not copies\n",
    "6. **Check shapes** - Use `.shape` liberally when debugging\n",
    "7. **Handle NaN explicitly** - Use nan-aware functions\n",
    "8. **Document array dimensions** - Comment expected shapes\n",
    "```"
   ]
  },
  {
   "cell_type": "markdown",
   "metadata": {
    "editable": true,
    "slideshow": {
     "slide_type": ""
    },
    "tags": []
   },
   "source": [
    "## Summary\n",
    "\n",
    "You've mastered NumPy's essential capabilities for scientific and engineering computing. From basic array operations to complex linear algebra and signal processing, you now have the tools to tackle numerical problems efficiently.\n",
    "\n",
    "Key concepts covered include array creation and manipulation, broadcasting for efficient operations without loops, statistical analysis and data cleaning, linear algebra for system solving, complex numbers for AC analysis, and practical applications to power systems. You've also learned crucial performance optimizations and common pitfalls to avoid.\n",
    "\n",
    "NumPy forms the foundation for scientific Python. The skills you've developed here directly transfer to specialized libraries like SciPy for advanced mathematics, Pandas for data analysis, and scikit-learn for machine learning. Whether you're analyzing measurement data, solving circuit equations, or processing signals, NumPy provides the computational power you need.\n",
    "\n",
    "```{admonition} Next Steps\n",
    ":class: tip\n",
    "Practice these concepts with your own data and explore NumPy's extensive documentation for specialized functions. Consider learning SciPy for advanced scientific computing and Pandas for structured data analysis.\n",
    "```"
   ]
  }
 ],
 "metadata": {
  "kernelspec": {
   "display_name": "Python 3 (ipykernel)",
   "language": "python",
   "name": "python3"
  },
  "language_info": {
   "codemirror_mode": {
    "name": "ipython",
    "version": 3
   },
   "file_extension": ".py",
   "mimetype": "text/x-python",
   "name": "python",
   "nbconvert_exporter": "python",
   "pygments_lexer": "ipython3",
   "version": "3.11.10"
  }
 },
 "nbformat": 4,
 "nbformat_minor": 4
}
