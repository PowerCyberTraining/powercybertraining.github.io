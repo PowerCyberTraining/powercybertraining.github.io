{
 "cells": [
  {
   "cell_type": "markdown",
   "id": "76dfb805-2b2a-431f-bf13-56356a550be3",
   "metadata": {},
   "source": [
    "# Time Series Data Visualization\n",
    "\n",
    "## Overview\n",
    "### Objective\n",
    "The goal of this notebook training module is to visualize the historical time series data through conducting a comprehensive analysis of historical time series data pertaining to the power grid frequency in Great Britain over the years 2016 to 2018.\n",
    "\n",
    "In power system operation, the time series data analysis has been used in many applications. For example, the historical frequency data analysis can help grid operators to identify the potential operation risk, such as the reserve deficiencies.\n",
    "\n",
    "Grid frequency is a critical parameter in power systems, reflecting the balance between electricity supply and demand. Maintaining the frequency close to its nominal value (50 Hz in Europe and China, 60 Hz in the USA) is essential for the stable operation of the grid. Grid operators continuously monitor frequency to ensure real-time reliability and to prevent blackouts or equipment damage. This analysis will utilize powerful data analysis and visualization tools such as pandas, matplotlib, and seaborn to explore and visualize the frequency data. The objectives include identifying trends, patterns, and anomalies, as well as computing key statistical metrics. This will provide valuable insights into the grid's performance and help in understanding the underlying dynamics of frequency variations over different time periods. \n",
    "Source of data: https://www.neso.energy/industry-information/balancing-services/frequency-response-services/historic-frequency-data"
   ]
  },
  {
   "cell_type": "markdown",
   "id": "ccaecf78-ace3-4a7b-ad92-1503b277fe72",
   "metadata": {},
   "source": [
    "### Purpose\n",
    "1. Statistical Exploration\n",
    "   - Compute key metrics like mean, standard deviation, skewness, and custom frequency reliability metrics (e.g., CPS1) to understand data behavior.\n",
    "   - Identify patterns and anomalies over time.\n",
    "2. Visualization:\n",
    "   - Create time-series plots, histograms, kernel density plots, and boxplots to visually represent data trends and distributions.\n",
    "3. Anomaly and Outlier Detection:\n",
    "    - Detect and quantify deviations from expected values using threshold probabilities and outlier analysis based on the interquartile range (IQR).\n",
    "5. Granular and Aggregated Analysis:\n",
    "    - Analyze data for specific months (detailed analysis).\n",
    "    - Compare data across multiple years and months (aggregated analysis).\n",
    "7. User Interactivity:\n",
    "   - Allow users to input a specific year and month for tailored analysis, making the notebook flexible and reusable for different datasets."
   ]
  },
  {
   "cell_type": "markdown",
   "id": "e7322244-68f4-4223-86f4-163f11e4ee7b",
   "metadata": {},
   "source": [
    "### Who would benefit from this notebook?\n",
    "- Data Analysts: Seeking to understand trends and anomalies in frequency-based time-series data.\n",
    "- Researchers: Investigating seasonal or yearly variations in frequency data for scientific studies.\n",
    "- Decision Makers: Looking to interpret metrics like CPS1 for operational insights or system performance.\n",
    "- Engineers/Scientists: Analyzing time-sensitive processes where frequency trends are critical for optimization or anomaly detection."
   ]
  },
  {
   "cell_type": "markdown",
   "id": "1460ecd9-8d4f-428e-bca9-68807b319d2d",
   "metadata": {},
   "source": [
    "### Applications\n",
    "1. System Monitoring:\n",
    "   - Analyze how a monitored system's frequency behaves under normal or abnormal conditions.\n",
    "3. Seasonal Trend Analysis:\n",
    "   - Identify how frequency data changes over months and years, useful for industries like energy, telecommunications, or climate monitoring.\n",
    "5. Anomaly and Performance Analysis:\n",
    "   - Detect periods of unusual activity or performance deviations using custom metrics (CPS1) and statistical thresholds.\n",
    "7. Granular Insights:\n",
    "   - Leverage 10-minute resampling to uncover trends that daily or monthly summaries might miss."
   ]
  },
  {
   "cell_type": "code",
   "execution_count": 1,
   "id": "caed10fd-3ad5-4b86-87b4-641ab3e37012",
   "metadata": {},
   "outputs": [
    {
     "name": "stdout",
     "output_type": "stream",
     "text": [
      "Requirement already satisfied: seaborn in /home/hacui/mambaforge/envs/pct/lib/python3.11/site-packages (0.13.2)\n",
      "Requirement already satisfied: numpy!=1.24.0,>=1.20 in /home/hacui/mambaforge/envs/pct/lib/python3.11/site-packages (from seaborn) (2.2.6)\n",
      "Requirement already satisfied: pandas>=1.2 in /home/hacui/mambaforge/envs/pct/lib/python3.11/site-packages (from seaborn) (2.3.1)\n",
      "Requirement already satisfied: matplotlib!=3.6.1,>=3.4 in /home/hacui/mambaforge/envs/pct/lib/python3.11/site-packages (from seaborn) (3.10.3)\n",
      "Requirement already satisfied: contourpy>=1.0.1 in /home/hacui/mambaforge/envs/pct/lib/python3.11/site-packages (from matplotlib!=3.6.1,>=3.4->seaborn) (1.3.2)\n",
      "Requirement already satisfied: cycler>=0.10 in /home/hacui/mambaforge/envs/pct/lib/python3.11/site-packages (from matplotlib!=3.6.1,>=3.4->seaborn) (0.12.1)\n",
      "Requirement already satisfied: fonttools>=4.22.0 in /home/hacui/mambaforge/envs/pct/lib/python3.11/site-packages (from matplotlib!=3.6.1,>=3.4->seaborn) (4.59.0)\n",
      "Requirement already satisfied: kiwisolver>=1.3.1 in /home/hacui/mambaforge/envs/pct/lib/python3.11/site-packages (from matplotlib!=3.6.1,>=3.4->seaborn) (1.4.8)\n",
      "Requirement already satisfied: packaging>=20.0 in /home/hacui/mambaforge/envs/pct/lib/python3.11/site-packages (from matplotlib!=3.6.1,>=3.4->seaborn) (25.0)\n",
      "Requirement already satisfied: pillow>=8 in /home/hacui/mambaforge/envs/pct/lib/python3.11/site-packages (from matplotlib!=3.6.1,>=3.4->seaborn) (11.3.0)\n",
      "Requirement already satisfied: pyparsing>=2.3.1 in /home/hacui/mambaforge/envs/pct/lib/python3.11/site-packages (from matplotlib!=3.6.1,>=3.4->seaborn) (3.2.3)\n",
      "Requirement already satisfied: python-dateutil>=2.7 in /home/hacui/mambaforge/envs/pct/lib/python3.11/site-packages (from matplotlib!=3.6.1,>=3.4->seaborn) (2.9.0.post0)\n",
      "Requirement already satisfied: pytz>=2020.1 in /home/hacui/mambaforge/envs/pct/lib/python3.11/site-packages (from pandas>=1.2->seaborn) (2025.2)\n",
      "Requirement already satisfied: tzdata>=2022.7 in /home/hacui/mambaforge/envs/pct/lib/python3.11/site-packages (from pandas>=1.2->seaborn) (2025.2)\n",
      "Requirement already satisfied: six>=1.5 in /home/hacui/mambaforge/envs/pct/lib/python3.11/site-packages (from python-dateutil>=2.7->matplotlib!=3.6.1,>=3.4->seaborn) (1.17.0)\n"
     ]
    }
   ],
   "source": [
    "import sys\n",
    "!{sys.executable} -m pip install seaborn\n",
    "import pandas as pd\n",
    "import matplotlib.pyplot as plt\n",
    "import seaborn as sns\n",
    "import numpy as np\n",
    "\n",
    "!git submodule update --init --recursive"
   ]
  },
  {
   "cell_type": "markdown",
   "id": "9a605ccb-73e2-4f18-a154-6bb83010ef03",
   "metadata": {},
   "source": [
    "### Data Loading\n",
    "Dynamically select and load CSV files based on user input for year and month.\n",
    "Data for individual months or years is loaded into dataframes for further processing."
   ]
  },
  {
   "cell_type": "code",
   "execution_count": 2,
   "id": "c10e9ef4-bd6d-43d7-a613-7d7227dad773",
   "metadata": {},
   "outputs": [],
   "source": [
    "# An xample, you can enter other yer and month among 2016-2018. To be compatible for html rendering.\n",
    "year = 16\n",
    "month = 6"
   ]
  },
  {
   "cell_type": "code",
   "execution_count": 3,
   "id": "b48042b3-3de5-47c8-9f32-0850a822b214",
   "metadata": {},
   "outputs": [
    {
     "data": {
      "text/plain": [
       "'f 2016 6.csv'"
      ]
     },
     "execution_count": 3,
     "metadata": {},
     "output_type": "execute_result"
    }
   ],
   "source": [
    "csv_path = f\"f 20{year} {month}.csv\"\n",
    "csv_path"
   ]
  },
  {
   "cell_type": "code",
   "execution_count": 4,
   "id": "4b650a5b-12a1-4dd2-8188-28ee8b0f271c",
   "metadata": {},
   "outputs": [
    {
     "ename": "FileNotFoundError",
     "evalue": "[Errno 2] No such file or directory: '/home/hacui/repos/powercybertraining.github.io/pct/modules/02/solar-data/pv-data/f 2016 6.csv'",
     "output_type": "error",
     "traceback": [
      "\u001b[31m---------------------------------------------------------------------------\u001b[39m",
      "\u001b[31mFileNotFoundError\u001b[39m                         Traceback (most recent call last)",
      "\u001b[36mCell\u001b[39m\u001b[36m \u001b[39m\u001b[32mIn[4]\u001b[39m\u001b[32m, line 6\u001b[39m\n\u001b[32m      3\u001b[39m data_path = \u001b[33m\"\u001b[39m\u001b[33msolar-data/pv-data\u001b[39m\u001b[33m\"\u001b[39m\n\u001b[32m      4\u001b[39m csv_fullpath = os.path.join(current_dir, data_path, csv_path)\n\u001b[32m----> \u001b[39m\u001b[32m6\u001b[39m df = \u001b[43mpd\u001b[49m\u001b[43m.\u001b[49m\u001b[43mread_csv\u001b[49m\u001b[43m(\u001b[49m\u001b[43mcsv_fullpath\u001b[49m\u001b[43m)\u001b[49m\n\u001b[32m      7\u001b[39m df\n",
      "\u001b[36mFile \u001b[39m\u001b[32m~/mambaforge/envs/pct/lib/python3.11/site-packages/pandas/io/parsers/readers.py:1026\u001b[39m, in \u001b[36mread_csv\u001b[39m\u001b[34m(filepath_or_buffer, sep, delimiter, header, names, index_col, usecols, dtype, engine, converters, true_values, false_values, skipinitialspace, skiprows, skipfooter, nrows, na_values, keep_default_na, na_filter, verbose, skip_blank_lines, parse_dates, infer_datetime_format, keep_date_col, date_parser, date_format, dayfirst, cache_dates, iterator, chunksize, compression, thousands, decimal, lineterminator, quotechar, quoting, doublequote, escapechar, comment, encoding, encoding_errors, dialect, on_bad_lines, delim_whitespace, low_memory, memory_map, float_precision, storage_options, dtype_backend)\u001b[39m\n\u001b[32m   1013\u001b[39m kwds_defaults = _refine_defaults_read(\n\u001b[32m   1014\u001b[39m     dialect,\n\u001b[32m   1015\u001b[39m     delimiter,\n\u001b[32m   (...)\u001b[39m\u001b[32m   1022\u001b[39m     dtype_backend=dtype_backend,\n\u001b[32m   1023\u001b[39m )\n\u001b[32m   1024\u001b[39m kwds.update(kwds_defaults)\n\u001b[32m-> \u001b[39m\u001b[32m1026\u001b[39m \u001b[38;5;28;01mreturn\u001b[39;00m \u001b[43m_read\u001b[49m\u001b[43m(\u001b[49m\u001b[43mfilepath_or_buffer\u001b[49m\u001b[43m,\u001b[49m\u001b[43m \u001b[49m\u001b[43mkwds\u001b[49m\u001b[43m)\u001b[49m\n",
      "\u001b[36mFile \u001b[39m\u001b[32m~/mambaforge/envs/pct/lib/python3.11/site-packages/pandas/io/parsers/readers.py:620\u001b[39m, in \u001b[36m_read\u001b[39m\u001b[34m(filepath_or_buffer, kwds)\u001b[39m\n\u001b[32m    617\u001b[39m _validate_names(kwds.get(\u001b[33m\"\u001b[39m\u001b[33mnames\u001b[39m\u001b[33m\"\u001b[39m, \u001b[38;5;28;01mNone\u001b[39;00m))\n\u001b[32m    619\u001b[39m \u001b[38;5;66;03m# Create the parser.\u001b[39;00m\n\u001b[32m--> \u001b[39m\u001b[32m620\u001b[39m parser = \u001b[43mTextFileReader\u001b[49m\u001b[43m(\u001b[49m\u001b[43mfilepath_or_buffer\u001b[49m\u001b[43m,\u001b[49m\u001b[43m \u001b[49m\u001b[43m*\u001b[49m\u001b[43m*\u001b[49m\u001b[43mkwds\u001b[49m\u001b[43m)\u001b[49m\n\u001b[32m    622\u001b[39m \u001b[38;5;28;01mif\u001b[39;00m chunksize \u001b[38;5;129;01mor\u001b[39;00m iterator:\n\u001b[32m    623\u001b[39m     \u001b[38;5;28;01mreturn\u001b[39;00m parser\n",
      "\u001b[36mFile \u001b[39m\u001b[32m~/mambaforge/envs/pct/lib/python3.11/site-packages/pandas/io/parsers/readers.py:1620\u001b[39m, in \u001b[36mTextFileReader.__init__\u001b[39m\u001b[34m(self, f, engine, **kwds)\u001b[39m\n\u001b[32m   1617\u001b[39m     \u001b[38;5;28mself\u001b[39m.options[\u001b[33m\"\u001b[39m\u001b[33mhas_index_names\u001b[39m\u001b[33m\"\u001b[39m] = kwds[\u001b[33m\"\u001b[39m\u001b[33mhas_index_names\u001b[39m\u001b[33m\"\u001b[39m]\n\u001b[32m   1619\u001b[39m \u001b[38;5;28mself\u001b[39m.handles: IOHandles | \u001b[38;5;28;01mNone\u001b[39;00m = \u001b[38;5;28;01mNone\u001b[39;00m\n\u001b[32m-> \u001b[39m\u001b[32m1620\u001b[39m \u001b[38;5;28mself\u001b[39m._engine = \u001b[38;5;28;43mself\u001b[39;49m\u001b[43m.\u001b[49m\u001b[43m_make_engine\u001b[49m\u001b[43m(\u001b[49m\u001b[43mf\u001b[49m\u001b[43m,\u001b[49m\u001b[43m \u001b[49m\u001b[38;5;28;43mself\u001b[39;49m\u001b[43m.\u001b[49m\u001b[43mengine\u001b[49m\u001b[43m)\u001b[49m\n",
      "\u001b[36mFile \u001b[39m\u001b[32m~/mambaforge/envs/pct/lib/python3.11/site-packages/pandas/io/parsers/readers.py:1880\u001b[39m, in \u001b[36mTextFileReader._make_engine\u001b[39m\u001b[34m(self, f, engine)\u001b[39m\n\u001b[32m   1878\u001b[39m     \u001b[38;5;28;01mif\u001b[39;00m \u001b[33m\"\u001b[39m\u001b[33mb\u001b[39m\u001b[33m\"\u001b[39m \u001b[38;5;129;01mnot\u001b[39;00m \u001b[38;5;129;01min\u001b[39;00m mode:\n\u001b[32m   1879\u001b[39m         mode += \u001b[33m\"\u001b[39m\u001b[33mb\u001b[39m\u001b[33m\"\u001b[39m\n\u001b[32m-> \u001b[39m\u001b[32m1880\u001b[39m \u001b[38;5;28mself\u001b[39m.handles = \u001b[43mget_handle\u001b[49m\u001b[43m(\u001b[49m\n\u001b[32m   1881\u001b[39m \u001b[43m    \u001b[49m\u001b[43mf\u001b[49m\u001b[43m,\u001b[49m\n\u001b[32m   1882\u001b[39m \u001b[43m    \u001b[49m\u001b[43mmode\u001b[49m\u001b[43m,\u001b[49m\n\u001b[32m   1883\u001b[39m \u001b[43m    \u001b[49m\u001b[43mencoding\u001b[49m\u001b[43m=\u001b[49m\u001b[38;5;28;43mself\u001b[39;49m\u001b[43m.\u001b[49m\u001b[43moptions\u001b[49m\u001b[43m.\u001b[49m\u001b[43mget\u001b[49m\u001b[43m(\u001b[49m\u001b[33;43m\"\u001b[39;49m\u001b[33;43mencoding\u001b[39;49m\u001b[33;43m\"\u001b[39;49m\u001b[43m,\u001b[49m\u001b[43m \u001b[49m\u001b[38;5;28;43;01mNone\u001b[39;49;00m\u001b[43m)\u001b[49m\u001b[43m,\u001b[49m\n\u001b[32m   1884\u001b[39m \u001b[43m    \u001b[49m\u001b[43mcompression\u001b[49m\u001b[43m=\u001b[49m\u001b[38;5;28;43mself\u001b[39;49m\u001b[43m.\u001b[49m\u001b[43moptions\u001b[49m\u001b[43m.\u001b[49m\u001b[43mget\u001b[49m\u001b[43m(\u001b[49m\u001b[33;43m\"\u001b[39;49m\u001b[33;43mcompression\u001b[39;49m\u001b[33;43m\"\u001b[39;49m\u001b[43m,\u001b[49m\u001b[43m \u001b[49m\u001b[38;5;28;43;01mNone\u001b[39;49;00m\u001b[43m)\u001b[49m\u001b[43m,\u001b[49m\n\u001b[32m   1885\u001b[39m \u001b[43m    \u001b[49m\u001b[43mmemory_map\u001b[49m\u001b[43m=\u001b[49m\u001b[38;5;28;43mself\u001b[39;49m\u001b[43m.\u001b[49m\u001b[43moptions\u001b[49m\u001b[43m.\u001b[49m\u001b[43mget\u001b[49m\u001b[43m(\u001b[49m\u001b[33;43m\"\u001b[39;49m\u001b[33;43mmemory_map\u001b[39;49m\u001b[33;43m\"\u001b[39;49m\u001b[43m,\u001b[49m\u001b[43m \u001b[49m\u001b[38;5;28;43;01mFalse\u001b[39;49;00m\u001b[43m)\u001b[49m\u001b[43m,\u001b[49m\n\u001b[32m   1886\u001b[39m \u001b[43m    \u001b[49m\u001b[43mis_text\u001b[49m\u001b[43m=\u001b[49m\u001b[43mis_text\u001b[49m\u001b[43m,\u001b[49m\n\u001b[32m   1887\u001b[39m \u001b[43m    \u001b[49m\u001b[43merrors\u001b[49m\u001b[43m=\u001b[49m\u001b[38;5;28;43mself\u001b[39;49m\u001b[43m.\u001b[49m\u001b[43moptions\u001b[49m\u001b[43m.\u001b[49m\u001b[43mget\u001b[49m\u001b[43m(\u001b[49m\u001b[33;43m\"\u001b[39;49m\u001b[33;43mencoding_errors\u001b[39;49m\u001b[33;43m\"\u001b[39;49m\u001b[43m,\u001b[49m\u001b[43m \u001b[49m\u001b[33;43m\"\u001b[39;49m\u001b[33;43mstrict\u001b[39;49m\u001b[33;43m\"\u001b[39;49m\u001b[43m)\u001b[49m\u001b[43m,\u001b[49m\n\u001b[32m   1888\u001b[39m \u001b[43m    \u001b[49m\u001b[43mstorage_options\u001b[49m\u001b[43m=\u001b[49m\u001b[38;5;28;43mself\u001b[39;49m\u001b[43m.\u001b[49m\u001b[43moptions\u001b[49m\u001b[43m.\u001b[49m\u001b[43mget\u001b[49m\u001b[43m(\u001b[49m\u001b[33;43m\"\u001b[39;49m\u001b[33;43mstorage_options\u001b[39;49m\u001b[33;43m\"\u001b[39;49m\u001b[43m,\u001b[49m\u001b[43m \u001b[49m\u001b[38;5;28;43;01mNone\u001b[39;49;00m\u001b[43m)\u001b[49m\u001b[43m,\u001b[49m\n\u001b[32m   1889\u001b[39m \u001b[43m\u001b[49m\u001b[43m)\u001b[49m\n\u001b[32m   1890\u001b[39m \u001b[38;5;28;01massert\u001b[39;00m \u001b[38;5;28mself\u001b[39m.handles \u001b[38;5;129;01mis\u001b[39;00m \u001b[38;5;129;01mnot\u001b[39;00m \u001b[38;5;28;01mNone\u001b[39;00m\n\u001b[32m   1891\u001b[39m f = \u001b[38;5;28mself\u001b[39m.handles.handle\n",
      "\u001b[36mFile \u001b[39m\u001b[32m~/mambaforge/envs/pct/lib/python3.11/site-packages/pandas/io/common.py:873\u001b[39m, in \u001b[36mget_handle\u001b[39m\u001b[34m(path_or_buf, mode, encoding, compression, memory_map, is_text, errors, storage_options)\u001b[39m\n\u001b[32m    868\u001b[39m \u001b[38;5;28;01melif\u001b[39;00m \u001b[38;5;28misinstance\u001b[39m(handle, \u001b[38;5;28mstr\u001b[39m):\n\u001b[32m    869\u001b[39m     \u001b[38;5;66;03m# Check whether the filename is to be opened in binary mode.\u001b[39;00m\n\u001b[32m    870\u001b[39m     \u001b[38;5;66;03m# Binary mode does not support 'encoding' and 'newline'.\u001b[39;00m\n\u001b[32m    871\u001b[39m     \u001b[38;5;28;01mif\u001b[39;00m ioargs.encoding \u001b[38;5;129;01mand\u001b[39;00m \u001b[33m\"\u001b[39m\u001b[33mb\u001b[39m\u001b[33m\"\u001b[39m \u001b[38;5;129;01mnot\u001b[39;00m \u001b[38;5;129;01min\u001b[39;00m ioargs.mode:\n\u001b[32m    872\u001b[39m         \u001b[38;5;66;03m# Encoding\u001b[39;00m\n\u001b[32m--> \u001b[39m\u001b[32m873\u001b[39m         handle = \u001b[38;5;28;43mopen\u001b[39;49m\u001b[43m(\u001b[49m\n\u001b[32m    874\u001b[39m \u001b[43m            \u001b[49m\u001b[43mhandle\u001b[49m\u001b[43m,\u001b[49m\n\u001b[32m    875\u001b[39m \u001b[43m            \u001b[49m\u001b[43mioargs\u001b[49m\u001b[43m.\u001b[49m\u001b[43mmode\u001b[49m\u001b[43m,\u001b[49m\n\u001b[32m    876\u001b[39m \u001b[43m            \u001b[49m\u001b[43mencoding\u001b[49m\u001b[43m=\u001b[49m\u001b[43mioargs\u001b[49m\u001b[43m.\u001b[49m\u001b[43mencoding\u001b[49m\u001b[43m,\u001b[49m\n\u001b[32m    877\u001b[39m \u001b[43m            \u001b[49m\u001b[43merrors\u001b[49m\u001b[43m=\u001b[49m\u001b[43merrors\u001b[49m\u001b[43m,\u001b[49m\n\u001b[32m    878\u001b[39m \u001b[43m            \u001b[49m\u001b[43mnewline\u001b[49m\u001b[43m=\u001b[49m\u001b[33;43m\"\u001b[39;49m\u001b[33;43m\"\u001b[39;49m\u001b[43m,\u001b[49m\n\u001b[32m    879\u001b[39m \u001b[43m        \u001b[49m\u001b[43m)\u001b[49m\n\u001b[32m    880\u001b[39m     \u001b[38;5;28;01melse\u001b[39;00m:\n\u001b[32m    881\u001b[39m         \u001b[38;5;66;03m# Binary mode\u001b[39;00m\n\u001b[32m    882\u001b[39m         handle = \u001b[38;5;28mopen\u001b[39m(handle, ioargs.mode)\n",
      "\u001b[31mFileNotFoundError\u001b[39m: [Errno 2] No such file or directory: '/home/hacui/repos/powercybertraining.github.io/pct/modules/02/solar-data/pv-data/f 2016 6.csv'"
     ]
    }
   ],
   "source": [
    "import os\n",
    "current_dir = os.getcwd()\n",
    "data_path = \"solar-data/pv-data\"\n",
    "csv_fullpath = os.path.join(current_dir, data_path, csv_path)\n",
    "\n",
    "df = pd.read_csv(csv_fullpath)\n",
    "df"
   ]
  },
  {
   "cell_type": "markdown",
   "id": "66a11f13-89a2-4456-8014-ec69576b2ec2",
   "metadata": {},
   "source": [
    "## Analysis\n",
    "Compute the statistical measures such as mean, standard deviation and skewness"
   ]
  },
  {
   "cell_type": "code",
   "execution_count": null,
   "id": "dc3eac2f-0f02-4be2-a0cb-6dea63ff9891",
   "metadata": {},
   "outputs": [],
   "source": [
    "mean_value = df['f'].mean()\n",
    "std_dev = df['f'].std()\n",
    "skew_ness = df['f'].skew()\n",
    "print(mean_value)\n",
    "print(std_dev)\n",
    "print(skew_ness)"
   ]
  },
  {
   "cell_type": "markdown",
   "id": "1e2749ee-898b-44bf-8b8e-2bf3bd593c81",
   "metadata": {},
   "source": [
    "## Data Visualization\n",
    "Generate various plots to visualize trends and distributions, including:\n",
    "1. Time-Series Plots: Show how frequency changes over days or months.\n",
    "2. Histograms and KDE Plots: Reveal the frequency distribution and probabilities of threshold crossings.\n",
    "3. Boxplots: Identify outliers and summarize data spread.\n",
    "4. Trend Analysis: Compare statistical metrics (mean, standard deviation, skewness) across months and years. "
   ]
  },
  {
   "cell_type": "code",
   "execution_count": null,
   "id": "b9eb88ac-6fa4-4100-a987-fe5aade0daa0",
   "metadata": {},
   "outputs": [],
   "source": [
    "plt.figure(figsize=(18, 6))\n",
    "plt.plot(df['f'])\n",
    "plt.xticks(ticks=[i*86400 for i in range(31)], labels=[str(i) for i in range(1, 32)])\n",
    "plt.title(f'Frequency Time Series of {month}/{year}')\n",
    "plt.xlabel(f'Time in days of {month}/20{year}')\n",
    "plt.ylabel('Frequency')"
   ]
  },
  {
   "cell_type": "markdown",
   "id": "bab43c84-3dae-4c75-8e3b-638bfb97bcae",
   "metadata": {},
   "source": [
    "Drawing a frequency distribution graph, also evaluating the probabilities of frequency values falling below or above 49.1 and 50.1 to search for outliers."
   ]
  },
  {
   "cell_type": "code",
   "execution_count": null,
   "id": "28f7a6ec-f6ad-456f-9b19-af49f416a901",
   "metadata": {},
   "outputs": [],
   "source": [
    "prob_49_9 = (df['f'] < 49.9).mean()\n",
    "prob_50_1 = (df['f'] > 50.1).mean()"
   ]
  },
  {
   "cell_type": "code",
   "execution_count": null,
   "id": "53fdd4e2-6be9-45f8-b12e-c96ec738c4e9",
   "metadata": {},
   "outputs": [],
   "source": [
    "plt.figure(figsize=(10, 5))\n",
    "sns.histplot(df['f'], kde=True, label='Histogram', color='blue')\n",
    "sns.kdeplot(df['f'], color='blue', label='KDE')\n",
    "\n",
    "plt.axvline(x=49.9, color='red', linestyle='--', label=f'P(f < 49.9) = {prob_49_9:.2%}')\n",
    "plt.axvline(x=50.1, color='green', linestyle='--', label=f'P(f > 50.1) = {prob_50_1:.2%}')\n",
    "\n",
    "plt.fill_between(df['f'], 0, 1, where=(df['f'] < 49.9), color='red', alpha=0.2)\n",
    "plt.fill_between(df['f'], 0, 1, where=(df['f'] > 50.1), color='green', alpha=0.2)\n",
    "\n",
    "plt.text(x=0.01, y=0.94, s=f'Mean:                        {mean_value:.10f}', transform=plt.gca().transAxes, fontsize=10)\n",
    "plt.text(x=0.01, y=0.90, s=f'Standard Deviation:    {std_dev:.10f}', transform=plt.gca().transAxes, fontsize=10)\n",
    "plt.text(x=0.01, y=0.86, s=f'Skewness:                   {skew_ness:.10f}', transform=plt.gca().transAxes, fontsize=10)\n",
    "\n",
    "plt.title(f'Distribution of Frequencies of {month}/{year}')\n",
    "plt.legend()\n",
    "plt.tight_layout()\n",
    "plt.show()"
   ]
  },
  {
   "cell_type": "markdown",
   "id": "ceafebb1-50da-4646-8fc3-fe86bd2d03cd",
   "metadata": {},
   "source": [
    "Drawing a boxplot for better visualization and outlier detection.  \n",
    "Use of the interquartile range (IQR) method to detect outliers."
   ]
  },
  {
   "cell_type": "code",
   "execution_count": null,
   "id": "2bfa3042-03fa-4391-8bdc-bbb4ae6f4efb",
   "metadata": {},
   "outputs": [],
   "source": [
    "Q1 = np.percentile(df['f'], 25)\n",
    "Q3 = np.percentile(df['f'], 75)\n",
    "IQR = Q3 - Q1\n",
    "lower_whisker = Q1 - 1.5 * IQR\n",
    "upper_whisker = Q3 + 1.5 * IQR\n",
    "up_outliers = df[df['f'] > upper_whisker]\n",
    "low_outliers = df[df['f'] < lower_whisker]\n",
    "prob_up = len(up_outliers)/len(df)\n",
    "prob_low = len(low_outliers)/len(df)"
   ]
  },
  {
   "cell_type": "code",
   "execution_count": null,
   "id": "ef93c411-5527-481e-8936-101f5c651054",
   "metadata": {},
   "outputs": [],
   "source": [
    "plt.figure(figsize=(15, 5))\n",
    "sns.boxplot(x=df['f'])\n",
    "plt.title(f'Boxplot of Frequencies of {month}/{year}')\n",
    "plt.text(df['f'].min(),0.4, f'Probability of upper outliers {prob_up}', fontsize=10)\n",
    "plt.text(df['f'].min(),0.45, f'Probability of lower outliers {prob_low}', fontsize=10)\n",
    "plt.show()"
   ]
  },
  {
   "cell_type": "markdown",
   "id": "886d4437-98c0-40c9-bb4d-1c005c3e055a",
   "metadata": {},
   "source": [
    "## Resampling and Aggregation\n",
    "The data is resampled into 10-minute intervals for finer-grained analysis.\n",
    "Similar calculations and visualizations are applied to the resampled data."
   ]
  },
  {
   "cell_type": "code",
   "execution_count": null,
   "id": "1c16d90f-566c-4512-a35e-83a0ac5a74d6",
   "metadata": {},
   "outputs": [],
   "source": [
    "df['dtm'] = pd.to_datetime(df['dtm'], utc=True)\n",
    "df_10min = df.resample('10min', on='dtm').mean()"
   ]
  },
  {
   "cell_type": "code",
   "execution_count": null,
   "id": "8c6d6e21-4eee-4e7a-9a10-b3d335a75f5e",
   "metadata": {},
   "outputs": [],
   "source": [
    "plt.figure(figsize=(18, 6))\n",
    "plt.plot(df_10min)\n",
    "plt.title(f'Frequency Time Series of 10 min intervals of {month}/{year}')\n",
    "plt.xlabel(f'Time in days of {month}/20{year}')\n",
    "plt.ylabel('Average frequency of 10 minute intervals')"
   ]
  },
  {
   "cell_type": "code",
   "execution_count": null,
   "id": "0b6b1b56-08be-45e8-a9fd-ba9ffa12dbc2",
   "metadata": {},
   "outputs": [],
   "source": [
    "prob_49_9_10min = (df_10min < 49.9).mean()\n",
    "prob_50_1_10min = (df_10min > 50.1).mean()"
   ]
  },
  {
   "cell_type": "code",
   "execution_count": null,
   "id": "ead10000-e21b-4227-8cbf-0fdfbde74025",
   "metadata": {},
   "outputs": [],
   "source": [
    "plt.figure(figsize=(10, 5))\n",
    "prob_49_9_10min = prob_49_9_10min.iloc[0] if isinstance(prob_49_9_10min, pd.Series) else prob_49_9_10min\n",
    "prob_50_1_10min = prob_50_1_10min.iloc[0] if isinstance(prob_50_1_10min, pd.Series) else prob_50_1_10min\n",
    "\n",
    "sns.histplot(df_10min['f'], kde=True, label='Histogram', color='blue')\n",
    "sns.kdeplot(df_10min['f'], color='blue', label='KDE')\n",
    "\n",
    "plt.axvline(x=49.9, color='red', linestyle='--', label=f'P(f < 49.9) = {prob_49_9_10min:.2%}')\n",
    "plt.axvline(x=50.1, color='green', linestyle='--', label=f'P(f > 50.1) = {prob_50_1_10min:.2%}')\n",
    "\n",
    "plt.fill_between(df_10min['f'], 0, 1, where=(df_10min['f'] < 49.9), color='red', alpha=0.2)\n",
    "plt.fill_between(df_10min['f'], 0, 1, where=(df_10min['f'] > 50.1), color='green', alpha=0.2)\n",
    "\n",
    "plt.title(f'Distribution of Frequencies of 10 min intervals of {month}/{year}')\n",
    "plt.legend()\n",
    "plt.tight_layout()\n",
    "plt.show()"
   ]
  },
  {
   "cell_type": "code",
   "execution_count": null,
   "id": "c2180dcf-2360-4aa3-a5e0-d5ed5739edae",
   "metadata": {},
   "outputs": [],
   "source": [
    "Q1 = np.percentile(df_10min['f'], 25)\n",
    "Q3 = np.percentile(df_10min['f'], 75)\n",
    "IQR = Q3 - Q1\n",
    "lower_whisker = Q1 - 1.5 * IQR\n",
    "upper_whisker = Q3 + 1.5 * IQR\n",
    "\n",
    "up_outliers = df_10min[df_10min['f'] > upper_whisker]\n",
    "low_outliers = df_10min[df_10min['f'] < lower_whisker]\n",
    "\n",
    "prob_up = len(up_outliers) / len(df_10min)\n",
    "prob_low = len(low_outliers) / len(df_10min)"
   ]
  },
  {
   "cell_type": "code",
   "execution_count": null,
   "id": "ceb6aa52-a9de-487b-907f-1341c9e3365d",
   "metadata": {},
   "outputs": [],
   "source": [
    "plt.figure(figsize=(15, 5))\n",
    "sns.boxplot(x=df_10min['f'])\n",
    "plt.title(f'Boxplot of Frequencies of 10 min intervals of {month}/{year}')\n",
    "plt.text(df_10min['f'].min(),0.45, f'Probability of upper outliers {prob_up}', fontsize=10)\n",
    "plt.text(df_10min['f'].min(),0.49, f'Probability of lower outliers {prob_low}', fontsize=10)\n",
    "plt.show()"
   ]
  },
  {
   "cell_type": "markdown",
   "id": "2ddf2c58-2e53-4207-a0ce-222abd865662",
   "metadata": {},
   "source": [
    "The resampled data reduces outliers greatly and gives the entire distribution a smoother shape."
   ]
  },
  {
   "cell_type": "markdown",
   "id": "9875f435-0dc8-47e1-bdba-feccca3890de",
   "metadata": {},
   "source": [
    "## Custom Metric (CPS1) Calculation\n",
    "\n",
    "A custom metric, Control Performance Score(CPS1) is calculated based on the deviation of frequencies from 50, normalized by a fixed parameter (e1).  \n",
    "It is calculated as:\n",
    "\n",
    "CPS_ratio = Average<sub>10 minute</sub> [(Δf × Δf)] / ε₁²  \n",
    "CPS₁ = (2 - CPS_ratio) × 100%  \n",
    "Δf = f - 50  \n",
    "ε₁ = 0.12\n",
    "\n",
    "The CPS1 metric is visualized, and its statistical properties like mean, standard deviation and skewness are analyzed.\n"
   ]
  },
  {
   "cell_type": "code",
   "execution_count": null,
   "id": "641de966-4a8a-4293-80be-28a42ffc36f7",
   "metadata": {},
   "outputs": [],
   "source": [
    "df_10min['del_f'] = df_10min['f'] - 50"
   ]
  },
  {
   "cell_type": "code",
   "execution_count": null,
   "id": "c1893ce5-08c7-4ef7-a9c2-0c82e62658ee",
   "metadata": {},
   "outputs": [],
   "source": [
    "df1_10min = df_10min\n",
    "e1 = 0.12\n",
    "cps_ratio = df1_10min['del_f'] * df1_10min['del_f'] / (e1 ** 2)\n",
    "cps1 = (2 - cps_ratio)*100\n",
    "cps1 = cps1.to_frame(name='cps')"
   ]
  },
  {
   "cell_type": "code",
   "execution_count": null,
   "id": "cd0a2bca-9242-4e2a-b294-bd67b0b22a3c",
   "metadata": {},
   "outputs": [],
   "source": [
    "plt.figure(figsize=(14, 6))\n",
    "plt.plot(cps1.index, cps1, label='CPS1')\n",
    "plt.title(f'Time Series of CPS1 for {month}/{year} ')\n",
    "plt.xlabel('Time')\n",
    "plt.ylabel('CPS1 Value')\n",
    "plt.grid(True)\n",
    "plt.legend()\n",
    "plt.xticks(rotation=45)\n",
    "plt.tight_layout()\n",
    "plt.show()"
   ]
  },
  {
   "cell_type": "code",
   "execution_count": null,
   "id": "71a53eff-a050-40dd-90d6-4d26da3e7550",
   "metadata": {},
   "outputs": [],
   "source": [
    "skew_cps1 = cps1['cps'].skew()\n",
    "mean_cps1 = cps1['cps'].mean()\n",
    "std_cps1 = cps1['cps'].std()"
   ]
  },
  {
   "cell_type": "code",
   "execution_count": null,
   "id": "5c26ac27-5e4c-4e46-b117-c60b82f649b5",
   "metadata": {},
   "outputs": [],
   "source": [
    "plt.figure(figsize=(10, 6))\n",
    "sns.histplot(cps1, kde=True, bins=30, color='blue')\n",
    "plt.title(f'Distribution of CPS1 for {month}/{year}')\n",
    "plt.xlabel('CPS1 Value')\n",
    "plt.ylabel('Frequency')\n",
    "plt.grid(True)\n",
    "plt.text(x=0.16, y=0.94, s=f'Mean:                         {mean_cps1}', transform=plt.gca().transAxes, fontsize=12)\n",
    "plt.text(x=0.16, y=0.90, s=f'Standard Deviation:   {std_cps1}', transform=plt.gca().transAxes, fontsize=12)\n",
    "plt.text(x=0.16, y=0.86, s=f'Skewness:                 {skew_cps1}', transform=plt.gca().transAxes, fontsize=12)\n",
    "plt.tight_layout()\n",
    "plt.show()"
   ]
  },
  {
   "cell_type": "code",
   "execution_count": null,
   "id": "97abb18f-d3fc-40b0-8c28-42b6a7e1e932",
   "metadata": {},
   "outputs": [],
   "source": [
    "Q1 = np.percentile(cps1['cps'], 25)\n",
    "Q3 = np.percentile(cps1['cps'], 75)\n",
    "IQR = Q3 - Q1\n",
    "lower_whisker = Q1 - 1.5 * IQR\n",
    "upper_whisker = Q3 + 1.5 * IQR\n",
    "\n",
    "up_outliers = cps1[cps1['cps'] > upper_whisker]\n",
    "low_outliers = cps1[cps1['cps'] < lower_whisker]\n",
    "\n",
    "prob_up = len(up_outliers) / len(cps1)\n",
    "prob_low = len(low_outliers) / len(cps1)"
   ]
  },
  {
   "cell_type": "code",
   "execution_count": null,
   "id": "7dc06d18-bd15-4691-a054-6239c61a1142",
   "metadata": {},
   "outputs": [],
   "source": [
    "plt.figure(figsize=(15, 5))\n",
    "sns.boxplot(x=cps1['cps'])\n",
    "plt.title(f'Boxplot of CPS score for {month}/{year}')\n",
    "plt.text(cps1['cps'].min(),0.45, f'Probability of upper outliers {prob_up}', fontsize=10)\n",
    "plt.text(cps1['cps'].min(),0.49, f'Probability of lower outliers {prob_low}', fontsize=10)\n",
    "plt.show()"
   ]
  }
 ],
 "metadata": {
  "kernelspec": {
   "display_name": "Python 3 (ipykernel)",
   "language": "python",
   "name": "python3"
  },
  "language_info": {
   "codemirror_mode": {
    "name": "ipython",
    "version": 3
   },
   "file_extension": ".py",
   "mimetype": "text/x-python",
   "name": "python",
   "nbconvert_exporter": "python",
   "pygments_lexer": "ipython3",
   "version": "3.11.13"
  }
 },
 "nbformat": 4,
 "nbformat_minor": 5
}
