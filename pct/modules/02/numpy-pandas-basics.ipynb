{
 "cells": [
  {
   "cell_type": "markdown",
   "id": "1b2e0b46-6287-4010-a64f-bb5562a64239",
   "metadata": {},
   "source": [
    "# NumPy-Pandas-Basics\n",
    "### **1.1 Objective**\n",
    "\n",
    "This module provides a comprehensive introduction to numerical computing and optimization using **NumPy**, **Pandas**, and **Linear Programming**. These three foundational tools are essential for data science, engineering, and operational research, forming the computational backbone for large-scale numerical analysis and decision-making problems. The primary goal is to equip learners with the ability to manipulate structured data efficiently, perform high-speed numerical computations, and model real-world optimization problems using **Python**.\n",
    "\n",
    "1. **NumPy**: Introduces array-based computing for efficient numerical operations.\n",
    "2. **Pandas**: Focuses on structured data manipulation and analysis.\n",
    "3. **Linear Programming (LP)**: Explores mathematical optimization techniques using **GurobiPy**.\n",
    "\n",
    "This module integrates theoretical concepts with hands-on programming using **Python**, **Jupyter Notebook**, **NumPy**, **Pandas**, and **GurobiPy**, allowing learners to transition from fundamental numerical analysis to real-world optimization applications.\n",
    "\n",
    "---\n",
    "\n",
    "### **1.2 Key Components**\n",
    "\n",
    "#### **1. NumPy Fundamentals**\n",
    "- **Creating NumPy Arrays**\n",
    "  - Creating a 1D Array\n",
    "  - Creating a 2D Array\n",
    "  - Creating Arrays with specific Values\n",
    "- **Array Attributes**\n",
    "  - Array Shape\n",
    "  - Number of Dimensions\n",
    "  - Number of Elements\n",
    "  - Data Type of Elements\n",
    "- **Indexing and Slicing**\n",
    "  - Accessing Elements\n",
    "  - Slicing\n",
    "- **Mathematical Operations**\n",
    "  - element-wise operations\n",
    "- **Reshaping and Transposing Arrays**\n",
    "  - Reshaping Arrays\n",
    "  - Transposing Arrays\n",
    "- **Statistical Functions**\n",
    "  - Basic statistics functions\n",
    "- **Stacking and Concatenation**\n",
    "  - Horizontal Stacking\n",
    "  - Vertical Stacking\n",
    "  - Concatenation\n",
    "  \n",
    "#### **2. Pandas for Data Analysis**\n",
    "- **Creating Data Structures**\n",
    "  - Creating a Pandas Series\n",
    "  - Creating a Pandas DataFrame\n",
    "- **Reading and Writing Data**\n",
    "  - Reading from a CSV File\n",
    "  - Writing to a CSV File\n",
    "- **Data Inspection and Manipulation**\n",
    "  - Using of head( ), tail( ), info( ), describe( )\n",
    "  - Select specific columns, rows, and filtering\n",
    "- **Data Cleaning**\n",
    "  - Using of dropna( ) to handle missing data\n",
    "  - Changing Data Types\n",
    "- **Modifying Data**\n",
    "  - Adding New Columns\n",
    "  - Renaming Columns\n",
    "  - Sorting Data\n",
    "- **Merging and Joining Data**\n",
    "  - Merging DataFrames\n",
    "  - Concatenating DataFrames\n",
    "- **Pivot Tables and Crosstabs**\n",
    "  - Creating a Pivot Table\n",
    "  - Creating a Crosstab\n",
    "  \n",
    "#### **3. Linear Programming basics**\n",
    "- **Introduction to LP Optimization Models**\n",
    "  - Understanding the **objective functions** in LP\n",
    "  - Understanding the **constraints** in LP\n",
    "- **Using Gurobi for Linear Programming**\n",
    "  - Installing Gurobi\n",
    "  - Defining decision variables\n",
    "  - Set objective function\n",
    "  - Add constraints\n",
    "- **Solving Optimization Models**\n",
    "  - Implementing an LP solver using **GurobiPy**\n",
    "  - Extracting and interpreting optimal solutions\n",
    "\n",
    "---\n",
    "\n",
    "### **1.3 Module Impact**\n",
    "\n",
    "This module provides a structured approach to mastering **numerical computing**, **data handling**, and **optimization modeling**, making it highly relevant for engineers.\n",
    "\n",
    "1. **Efficient Data Processing**: Participants develop proficiency in handling structured datasets with **NumPy** and **Pandas**, leveraging optimized numerical operations.\n",
    "2. **Analytical Thinking**: By working with structured data manipulation, learners enhance their ability to **extract insights and analyze trends**.\n",
    "3. **Optimization Modeling**: The integration of **Linear Programming** equips learners with tools to tackle **decision-making** problems in industry applications.\n",
    "4. **Hands-on Coding**: The practical implementations in **Jupyter Notebook** reinforce learning through interactive problem-solving.\n"
   ]
  },
  {
   "cell_type": "markdown",
   "id": "0aacd7df-ea99-4acb-bd9f-a0b8532ebf53",
   "metadata": {},
   "source": [
    "# 2. NumPy basics\n",
    "NumPy (Numerical Python) is a fundamental library for numerical computing in Python. It is widely used in scientific computing, machine learning, and data analysis."
   ]
  },
  {
   "cell_type": "markdown",
   "id": "1b334731-4ff2-4dc8-9279-72e026f954ca",
   "metadata": {},
   "source": [
    "If you haven't installed NumPy, you can do so using:\n",
    "```bash\n",
    "pip install numpy\n",
    "```"
   ]
  },
  {
   "cell_type": "markdown",
   "id": "06af182b-40c3-4dd6-9b31-a1e473c2157e",
   "metadata": {},
   "source": [
    "Then, import it in your Python script:"
   ]
  },
  {
   "cell_type": "code",
   "execution_count": 1,
   "id": "a263ee1a-7810-4560-9204-44cca6582d28",
   "metadata": {},
   "outputs": [],
   "source": [
    "import numpy as np"
   ]
  },
  {
   "cell_type": "markdown",
   "id": "21931b46-ee3c-4c40-bead-509c6ac0959a",
   "metadata": {},
   "source": [
    "### 2.1 Creating NumPy Arrays\n",
    "#### Creating a 1D Array\n",
    "A NumPy array, called `ndarray`, can be created from a Python list using `np.array()`."
   ]
  },
  {
   "cell_type": "code",
   "execution_count": 2,
   "id": "55fd6087-47b5-4f5d-bda7-992e99f23dec",
   "metadata": {},
   "outputs": [
    {
     "name": "stdout",
     "output_type": "stream",
     "text": [
      "One-dimensional array:\n",
      " [1 2 3 4 5]\n"
     ]
    }
   ],
   "source": [
    "# Creating a one-dimensional array\n",
    "a = np.array([1, 2, 3, 4, 5])\n",
    "print(\"One-dimensional array:\\n\", a)"
   ]
  },
  {
   "cell_type": "markdown",
   "id": "6ff8f39d-91eb-4804-a014-938f3b6bc754",
   "metadata": {},
   "source": [
    "#### Creating a 2D Array\n",
    "A two-dimensional array (matrix) can be created by passing a list of lists."
   ]
  },
  {
   "cell_type": "code",
   "execution_count": 3,
   "id": "a91fda3d-8099-4963-9384-89a07abb0999",
   "metadata": {},
   "outputs": [
    {
     "name": "stdout",
     "output_type": "stream",
     "text": [
      "Two-dimensional array:\n",
      " [[1 2 3]\n",
      " [4 5 6]]\n"
     ]
    }
   ],
   "source": [
    "# Creating a two-dimensional array\n",
    "b = np.array([[1, 2, 3], [4, 5, 6]])\n",
    "print(\"Two-dimensional array:\\n\", b)"
   ]
  },
  {
   "cell_type": "markdown",
   "id": "cc4216d8-17d4-42b6-8e03-80aedfa3d5c9",
   "metadata": {},
   "source": [
    "#### Creating Arrays with specific Values\n",
    "NumPy provides functions to create special arrays."
   ]
  },
  {
   "cell_type": "code",
   "execution_count": 4,
   "id": "536a477a-f42c-4db8-9412-e504e9e63ad7",
   "metadata": {},
   "outputs": [
    {
     "name": "stdout",
     "output_type": "stream",
     "text": [
      "Zeros:\n",
      " [[0. 0. 0.]\n",
      " [0. 0. 0.]]\n"
     ]
    }
   ],
   "source": [
    "A = np.zeros((2, 3))  # 2x3 array of zeros\n",
    "print(\"Zeros:\\n\", A)"
   ]
  },
  {
   "cell_type": "code",
   "execution_count": 5,
   "id": "61c142ba-1def-466a-9507-42bc3d26a6e0",
   "metadata": {},
   "outputs": [
    {
     "name": "stdout",
     "output_type": "stream",
     "text": [
      "Ones:\n",
      " [[1. 1. 1.]\n",
      " [1. 1. 1.]\n",
      " [1. 1. 1.]]\n"
     ]
    }
   ],
   "source": [
    "B = np.ones((3, 3))  # 3x3 array of ones\n",
    "print(\"Ones:\\n\", B)"
   ]
  },
  {
   "cell_type": "code",
   "execution_count": 6,
   "id": "cf1a00d5-24dd-4355-b482-6e23b576dc3a",
   "metadata": {},
   "outputs": [
    {
     "name": "stdout",
     "output_type": "stream",
     "text": [
      "Identity Matrix:\n",
      " [[1. 0. 0.]\n",
      " [0. 1. 0.]\n",
      " [0. 0. 1.]]\n"
     ]
    }
   ],
   "source": [
    "C = np.eye(3)  # 3x3 identity matrix\n",
    "print(\"Identity Matrix:\\n\", C)"
   ]
  },
  {
   "cell_type": "code",
   "execution_count": 7,
   "id": "7400bc76-e1db-4a72-836d-0fe4a8314a6f",
   "metadata": {},
   "outputs": [
    {
     "name": "stdout",
     "output_type": "stream",
     "text": [
      "Random Array:\n",
      " [[5.03565237e-04 9.83687540e-01]\n",
      " [3.86743054e-01 7.33784820e-01]]\n"
     ]
    }
   ],
   "source": [
    "D = np.random.rand(2, 2)  # 2x2 array of random numbers\n",
    "print(\"Random Array:\\n\", D)"
   ]
  },
  {
   "cell_type": "markdown",
   "id": "040c279e-cb5e-459b-b4a4-a2488622b78a",
   "metadata": {},
   "source": [
    "### 2.2 Array Attributes\n",
    "NumPy arrays have some important attributes that can help you understand their structure."
   ]
  },
  {
   "cell_type": "code",
   "execution_count": 8,
   "id": "2648554a-d1ad-4e8d-870f-f9d899ec85b3",
   "metadata": {},
   "outputs": [
    {
     "name": "stdout",
     "output_type": "stream",
     "text": [
      "Array Shape: (2, 2)\n"
     ]
    }
   ],
   "source": [
    "print(\"Array Shape:\", D.shape) "
   ]
  },
  {
   "cell_type": "code",
   "execution_count": 9,
   "id": "c1d28194-ce62-4426-964b-d8e65aafe577",
   "metadata": {},
   "outputs": [
    {
     "name": "stdout",
     "output_type": "stream",
     "text": [
      "Number of Dimensions: 2\n"
     ]
    }
   ],
   "source": [
    "print(\"Number of Dimensions:\", D.ndim)"
   ]
  },
  {
   "cell_type": "code",
   "execution_count": 10,
   "id": "7cae14da-f60a-4c20-a339-9ad2b0a1180e",
   "metadata": {},
   "outputs": [
    {
     "name": "stdout",
     "output_type": "stream",
     "text": [
      "Number of Elements: 4\n"
     ]
    }
   ],
   "source": [
    "print(\"Number of Elements:\", D.size) "
   ]
  },
  {
   "cell_type": "code",
   "execution_count": 11,
   "id": "b5be522a-fb15-4b95-97c0-e8a084325cc9",
   "metadata": {},
   "outputs": [
    {
     "name": "stdout",
     "output_type": "stream",
     "text": [
      "Data Type of Elements: float64\n"
     ]
    }
   ],
   "source": [
    "print(\"Data Type of Elements:\",D.dtype)"
   ]
  },
  {
   "cell_type": "markdown",
   "id": "e5d90854-0ab8-40e8-869e-3d1fd469ec02",
   "metadata": {},
   "source": [
    "### 2.3 Indexing and Slicing\n",
    "NumPy allows you to access elements and slices of arrays easily."
   ]
  },
  {
   "cell_type": "code",
   "execution_count": 12,
   "id": "c3a0c565-d0b4-41ea-ac98-e9a2629f709e",
   "metadata": {},
   "outputs": [
    {
     "name": "stdout",
     "output_type": "stream",
     "text": [
      "Element at (1,2): 9\n"
     ]
    }
   ],
   "source": [
    "### Accessing Elements\n",
    "E = np.array([[1, 2, 3], [4, 5, 6], [7, 8, 9]])\n",
    "print(\"Element at (1,2):\", E[2, 2])  # Acess the third row, third column"
   ]
  },
  {
   "cell_type": "code",
   "execution_count": 13,
   "id": "f3c7990f-1d66-4cc1-bd33-a465034bafec",
   "metadata": {},
   "outputs": [
    {
     "name": "stdout",
     "output_type": "stream",
     "text": [
      "Second column: [2 5 8]\n"
     ]
    }
   ],
   "source": [
    "### Slicing\n",
    "print(\"Second column:\", E[:, 1])  # Select second column"
   ]
  },
  {
   "cell_type": "code",
   "execution_count": 14,
   "id": "cc0ba29c-0c17-4579-b32a-2f6a93847b45",
   "metadata": {},
   "outputs": [
    {
     "name": "stdout",
     "output_type": "stream",
     "text": [
      "Sub-matrix:\n",
      " [[3]\n",
      " [6]]\n"
     ]
    }
   ],
   "source": [
    "print(\"Sub-matrix:\\n\", E[0:2, 2:3])  # Select sub-matrix"
   ]
  },
  {
   "cell_type": "markdown",
   "id": "fb25e5cb-6a1b-466d-a77b-f7b043f29c1f",
   "metadata": {},
   "source": [
    "### 2.4  Mathematical Operations\n",
    "NumPy supports element-wise operations."
   ]
  },
  {
   "cell_type": "code",
   "execution_count": 15,
   "id": "81f4e611-71e9-49f3-a500-d12dd7175abf",
   "metadata": {},
   "outputs": [
    {
     "name": "stdout",
     "output_type": "stream",
     "text": [
      "Addition: [5 7 9]\n"
     ]
    }
   ],
   "source": [
    "a = np.array([1, 2, 3])\n",
    "b = np.array([4, 5, 6])\n",
    "print(\"Addition:\", a+ b)"
   ]
  },
  {
   "cell_type": "code",
   "execution_count": 16,
   "id": "48a36425-edd6-4ad5-9dee-adf9c5087b0b",
   "metadata": {},
   "outputs": [
    {
     "name": "stdout",
     "output_type": "stream",
     "text": [
      "Multiplication: [ 4 10 18]\n"
     ]
    }
   ],
   "source": [
    "print(\"Multiplication:\", a * b)"
   ]
  },
  {
   "cell_type": "markdown",
   "id": "3c928399-dc90-458c-8589-43903cc34625",
   "metadata": {},
   "source": [
    "### 2.5  Reshaping and Transposing Arrays\n",
    "NumPy allows changing the shape of arrays without modifying data."
   ]
  },
  {
   "cell_type": "code",
   "execution_count": 17,
   "id": "0e766948-7072-40ad-b673-69dcc3cbe083",
   "metadata": {},
   "outputs": [
    {
     "name": "stdout",
     "output_type": "stream",
     "text": [
      "Original Array:\n",
      " [1 2 3 4 5 6 7 8 9]\n",
      "Reshaped Array:\n",
      " [[1 2 3]\n",
      " [4 5 6]\n",
      " [7 8 9]]\n"
     ]
    }
   ],
   "source": [
    "### Reshaping Arrays\n",
    "F = np.arange(1, 10)\n",
    "G = np.arange(1, 10).reshape(3, 3)\n",
    "print(\"Original Array:\\n\", F)\n",
    "print(\"Reshaped Array:\\n\", G)"
   ]
  },
  {
   "cell_type": "code",
   "execution_count": 18,
   "id": "fea1d83e-42ae-4bed-aa12-f38abdb29a04",
   "metadata": {},
   "outputs": [
    {
     "name": "stdout",
     "output_type": "stream",
     "text": [
      "Transposed Array:\n",
      " [[1 4 7]\n",
      " [2 5 8]\n",
      " [3 6 9]]\n"
     ]
    }
   ],
   "source": [
    "### Transposing Arrays\n",
    "print(\"Transposed Array:\\n\", G.T)"
   ]
  },
  {
   "cell_type": "markdown",
   "id": "d520dfd3-d413-49c8-b47b-5cc221cfb737",
   "metadata": {},
   "source": [
    "### 2.6  Statistical Functions\n",
    "NumPy provides functions for basic statistics."
   ]
  },
  {
   "cell_type": "code",
   "execution_count": 19,
   "id": "48543195-5d82-409e-97f6-a1606ffac232",
   "metadata": {},
   "outputs": [
    {
     "name": "stdout",
     "output_type": "stream",
     "text": [
      "Maximum Value: 9\n"
     ]
    }
   ],
   "source": [
    "print(\"Maximum Value:\", G.max())"
   ]
  },
  {
   "cell_type": "code",
   "execution_count": 20,
   "id": "b18e7051-f519-430d-91e5-8c2f12926774",
   "metadata": {},
   "outputs": [
    {
     "name": "stdout",
     "output_type": "stream",
     "text": [
      "Minimum Value: 1\n"
     ]
    }
   ],
   "source": [
    "print(\"Minimum Value:\", G.min())"
   ]
  },
  {
   "cell_type": "code",
   "execution_count": 21,
   "id": "6c6ebf57-857c-49b6-b695-b905f6fa7128",
   "metadata": {},
   "outputs": [
    {
     "name": "stdout",
     "output_type": "stream",
     "text": [
      "Mean Value: 5.0\n"
     ]
    }
   ],
   "source": [
    "print(\"Mean Value:\", G.mean())"
   ]
  },
  {
   "cell_type": "code",
   "execution_count": 22,
   "id": "1afc3dd0-3fff-475c-9472-79156a3c4d7e",
   "metadata": {},
   "outputs": [
    {
     "name": "stdout",
     "output_type": "stream",
     "text": [
      "Sum of Elements: 45\n"
     ]
    }
   ],
   "source": [
    "print(\"Sum of Elements:\", G.sum())"
   ]
  },
  {
   "cell_type": "code",
   "execution_count": 23,
   "id": "43540559-b929-4885-aafd-73c3d0befe61",
   "metadata": {},
   "outputs": [
    {
     "name": "stdout",
     "output_type": "stream",
     "text": [
      "Column-wise Sum: [12 15 18]\n"
     ]
    }
   ],
   "source": [
    "print(\"Column-wise Sum:\", G.sum(axis=0))"
   ]
  },
  {
   "cell_type": "code",
   "execution_count": 24,
   "id": "25b50aaf-bbcc-4458-9746-caf4be1e6c31",
   "metadata": {},
   "outputs": [
    {
     "name": "stdout",
     "output_type": "stream",
     "text": [
      "Row-wise Sum: [ 6 15 24]\n"
     ]
    }
   ],
   "source": [
    "print(\"Row-wise Sum:\", G.sum(axis=1))"
   ]
  },
  {
   "cell_type": "markdown",
   "id": "07c0409b-ad8d-43cb-bee8-8addf0d4dd64",
   "metadata": {},
   "source": [
    "### 2.7  Stacking and Concatenation\n",
    "NumPy allows combining multiple arrays in different ways."
   ]
  },
  {
   "cell_type": "code",
   "execution_count": 25,
   "id": "06fd8e5e-094b-44d8-b86d-ae84c2473d81",
   "metadata": {},
   "outputs": [
    {
     "name": "stdout",
     "output_type": "stream",
     "text": [
      "Horizontally Stacked:\n",
      " [[1 2 5 6]\n",
      " [3 4 7 8]]\n"
     ]
    }
   ],
   "source": [
    "### Horizontal Stacking\n",
    "a = np.array([[1, 2], [3, 4]])\n",
    "b = np.array([[5, 6], [7, 8]])\n",
    "hstacked = np.hstack((a, b))\n",
    "print(\"Horizontally Stacked:\\n\", hstacked)"
   ]
  },
  {
   "cell_type": "code",
   "execution_count": 26,
   "id": "7efae27f-403b-4bb5-a4f4-48868a9de573",
   "metadata": {},
   "outputs": [
    {
     "name": "stdout",
     "output_type": "stream",
     "text": [
      "Vertically Stacked:\n",
      " [[1 2]\n",
      " [3 4]\n",
      " [5 6]\n",
      " [7 8]]\n"
     ]
    }
   ],
   "source": [
    "### Vertical Stacking\n",
    "a = np.array([[1, 2], [3, 4]])\n",
    "b = np.array([[5, 6], [7, 8]])\n",
    "vstacked = np.vstack((a, b))\n",
    "print(\"Vertically Stacked:\\n\", vstacked)"
   ]
  },
  {
   "cell_type": "code",
   "execution_count": 27,
   "id": "fea86747-e2fd-45df-bc35-10572b3a1135",
   "metadata": {},
   "outputs": [
    {
     "name": "stdout",
     "output_type": "stream",
     "text": [
      "Concatenated:\n",
      " [[1 2]\n",
      " [3 4]\n",
      " [5 6]\n",
      " [7 8]]\n"
     ]
    }
   ],
   "source": [
    "### Concatenation\n",
    "a = np.array([[1, 2], [3, 4]])\n",
    "b = np.array([[5, 6], [7, 8]])\n",
    "concatenated = np.concatenate((a, b), axis=0)  # Concatenate along rows\n",
    "print(\"Concatenated:\\n\", concatenated)"
   ]
  },
  {
   "cell_type": "markdown",
   "id": "0fc27ee3-7c2a-412c-9523-adf73be50fec",
   "metadata": {},
   "source": [
    "### Conclusion\n",
    "Mastering NumPy is essential for data science, machine learning, and numerical computing, providing an efficient way to handle large datasets.\n"
   ]
  },
  {
   "cell_type": "markdown",
   "id": "45fa64d1-0bae-4f41-a169-861b8f2df1f9",
   "metadata": {},
   "source": [
    "# 3. Pandas basics\n",
    "Pandas is a powerful and flexible data analysis and manipulation library for Python. It is widely used in data science and any scenario where structured data processing is needed."
   ]
  },
  {
   "cell_type": "markdown",
   "id": "680e296d-7e3b-46b1-a779-9c39131f4a59",
   "metadata": {},
   "source": [
    "### Installing Pandas\n",
    "If you haven't installed Pandas yet, you can do so using:\n",
    "```bash\n",
    "pip install pandas\n",
    "```"
   ]
  },
  {
   "cell_type": "markdown",
   "id": "bcbd464b-2514-4150-af53-34cc68eaa85c",
   "metadata": {},
   "source": [
    "Then, import it in your Python script:"
   ]
  },
  {
   "cell_type": "code",
   "execution_count": 28,
   "id": "70f41bb4-f7dc-4b6a-b81a-2a76b4c7543f",
   "metadata": {},
   "outputs": [],
   "source": [
    "import pandas as pd"
   ]
  },
  {
   "cell_type": "markdown",
   "id": "cc6ed6bb-bba2-4d00-9582-abe1da11beab",
   "metadata": {},
   "source": [
    "### 3.1 Creating Data Structures\n",
    "#### Creating a Pandas Series\n",
    "The two primary data structures in Pandas are:\n",
    "\n",
    "- **Series**: A one-dimensional labeled array.\n",
    "- **DataFrame**: A two-dimensional table-like structure with labeled rows and columns."
   ]
  },
  {
   "cell_type": "markdown",
   "id": "7af8682a-7c41-4c3e-bfb4-9944ddea66f0",
   "metadata": {},
   "source": [
    "A Pandas **Series** is similar to a column in an Excel spreadsheet. It consists of an array of data with an associated index."
   ]
  },
  {
   "cell_type": "code",
   "execution_count": 29,
   "id": "a3867ac0-2c4d-4ed0-a521-199a890f2847",
   "metadata": {},
   "outputs": [
    {
     "name": "stdout",
     "output_type": "stream",
     "text": [
      "a    10\n",
      "b    20\n",
      "c    30\n",
      "d    40\n",
      "dtype: int64\n"
     ]
    }
   ],
   "source": [
    "# Creating a pandas Series\n",
    "data = [10, 20, 30, 40]\n",
    "series = pd.Series(data, index=['a', 'b', 'c', 'd'])\n",
    "print(series)"
   ]
  },
  {
   "cell_type": "markdown",
   "id": "a1b22a23-6c25-4880-ba27-d67c9e5e4d03",
   "metadata": {},
   "source": [
    "#### Creating a Pandas DataFrame\n",
    "A **DataFrame** is a two-dimensional table with labeled rows and columns."
   ]
  },
  {
   "cell_type": "code",
   "execution_count": 30,
   "id": "333abbf9-93cb-42ca-834c-67086d650901",
   "metadata": {},
   "outputs": [
    {
     "name": "stdout",
     "output_type": "stream",
     "text": [
      "      Name  Age  Salary\n",
      "0    Alice   25   50000\n",
      "1      Bob   30   60000\n",
      "2  Charlie   35   70000\n"
     ]
    }
   ],
   "source": [
    "# Creating a pandas DataFrame\n",
    "data = {\n",
    "    'Name': ['Alice', 'Bob', 'Charlie'],\n",
    "    'Age': [25, 30, 35],\n",
    "    'Salary': [50000, 60000, 70000]\n",
    "}\n",
    "df = pd.DataFrame(data)\n",
    "print(df)"
   ]
  },
  {
   "cell_type": "markdown",
   "id": "1ef818f0-4a6f-41e9-8e8f-f46362035362",
   "metadata": {},
   "source": [
    "### 3.2 Reading and Writing Data\n",
    "Pandas can read from and write to various file formats such as CSV, Excel, etc."
   ]
  },
  {
   "cell_type": "code",
   "execution_count": 31,
   "id": "291bc15c-5db5-4131-a4f8-e5a4195e56f9",
   "metadata": {},
   "outputs": [
    {
     "name": "stdout",
     "output_type": "stream",
     "text": [
      "  Name   Age    Salary\n",
      "0    A  25.0   50000.0\n",
      "1    B  30.0   60000.0\n",
      "2    C  25.0   70000.0\n",
      "3    D  40.0   80000.0\n",
      "4    E  30.0   55000.0\n",
      "5    F  45.0   65000.0\n",
      "6    G  45.0   90000.0\n",
      "7    H  50.0  100000.0\n",
      "8    I   NaN       NaN\n"
     ]
    }
   ],
   "source": [
    "### Reading from a CSV File\n",
    "import os\n",
    "current_dir = os.getcwd()\n",
    "csv_path = os.path.join(current_dir, \"numpy-pandas-basics-data\", \"data.csv\")\n",
    "\n",
    "df = pd.read_csv(csv_path)\n",
    "print(df)  "
   ]
  },
  {
   "cell_type": "code",
   "execution_count": 32,
   "id": "7bd8971e-0277-4b14-973a-49e7b471b583",
   "metadata": {},
   "outputs": [
    {
     "name": "stdout",
     "output_type": "stream",
     "text": [
      "  Name   Age\n",
      "0    A  25.0\n",
      "1    B  30.0\n",
      "2    C  25.0\n",
      "3    D  40.0\n",
      "4    E  30.0\n",
      "5    F  45.0\n",
      "6    G  45.0\n",
      "7    H  50.0\n",
      "8    I   NaN\n"
     ]
    }
   ],
   "source": [
    "### Writing to a CSV File\n",
    "df = df.drop(columns=['Salary']) #Delete the last column\n",
    "output_path = os.path.join(current_dir, \"numpy-pandas-basics-data\", \"output.csv\")\n",
    "df.to_csv(output_path, index=False) \n",
    "df = pd.read_csv(output_path)\n",
    "print(df)  "
   ]
  },
  {
   "cell_type": "markdown",
   "id": "f9e42976-39aa-407e-af65-6d615f0742eb",
   "metadata": {},
   "source": [
    "### 3.3 Data Inspection and Manipulation"
   ]
  },
  {
   "cell_type": "markdown",
   "id": "06cb549c-b65d-4ea8-9bfe-e0e4c00f1f4e",
   "metadata": {},
   "source": [
    "You can use head( ), tail( ), info( ), describe( ) to show the First 5 rows, Last 5 rows, Summary of DataFrame, and Statistical summary."
   ]
  },
  {
   "cell_type": "code",
   "execution_count": 33,
   "id": "f64026fc-0ffd-4d54-829c-36caa29f42dc",
   "metadata": {},
   "outputs": [
    {
     "name": "stdout",
     "output_type": "stream",
     "text": [
      "  Name   Age\n",
      "0    A  25.0\n",
      "1    B  30.0\n",
      "2    C  25.0\n",
      "3    D  40.0\n",
      "4    E  30.0\n"
     ]
    }
   ],
   "source": [
    "print(df.head())   # First 5 rows"
   ]
  },
  {
   "cell_type": "code",
   "execution_count": 34,
   "id": "b318c992-c8da-4ee9-8977-65651d36b1b7",
   "metadata": {},
   "outputs": [
    {
     "name": "stdout",
     "output_type": "stream",
     "text": [
      "  Name   Age\n",
      "4    E  30.0\n",
      "5    F  45.0\n",
      "6    G  45.0\n",
      "7    H  50.0\n",
      "8    I   NaN\n"
     ]
    }
   ],
   "source": [
    "print(df.tail())   # Last 5 rows"
   ]
  },
  {
   "cell_type": "code",
   "execution_count": 35,
   "id": "288c3265-830d-4dcd-a7fb-f57428824e02",
   "metadata": {},
   "outputs": [
    {
     "name": "stdout",
     "output_type": "stream",
     "text": [
      "<class 'pandas.core.frame.DataFrame'>\n",
      "RangeIndex: 9 entries, 0 to 8\n",
      "Data columns (total 2 columns):\n",
      " #   Column  Non-Null Count  Dtype  \n",
      "---  ------  --------------  -----  \n",
      " 0   Name    9 non-null      object \n",
      " 1   Age     8 non-null      float64\n",
      "dtypes: float64(1), object(1)\n",
      "memory usage: 272.0+ bytes\n",
      "None\n"
     ]
    }
   ],
   "source": [
    "print(df.info())   # Summary of DataFrame"
   ]
  },
  {
   "cell_type": "code",
   "execution_count": 36,
   "id": "00cbd221-3b08-4cdc-ab52-e3088eeb823a",
   "metadata": {},
   "outputs": [
    {
     "name": "stdout",
     "output_type": "stream",
     "text": [
      "             Age\n",
      "count   8.000000\n",
      "mean   36.250000\n",
      "std     9.910312\n",
      "min    25.000000\n",
      "25%    28.750000\n",
      "50%    35.000000\n",
      "75%    45.000000\n",
      "max    50.000000\n"
     ]
    }
   ],
   "source": [
    "print(df.describe())  # Statistical summary"
   ]
  },
  {
   "cell_type": "markdown",
   "id": "012da0ce-fb3a-42bd-bbe6-0c9c7af012cb",
   "metadata": {},
   "source": [
    "You can select specific data:"
   ]
  },
  {
   "cell_type": "code",
   "execution_count": 37,
   "id": "0cafad4e-8cc3-4e76-8c55-d88918b3372a",
   "metadata": {},
   "outputs": [
    {
     "name": "stdout",
     "output_type": "stream",
     "text": [
      "0    A\n",
      "1    B\n",
      "2    C\n",
      "3    D\n",
      "4    E\n",
      "5    F\n",
      "6    G\n",
      "7    H\n",
      "8    I\n",
      "Name: Name, dtype: object\n"
     ]
    }
   ],
   "source": [
    "print(df['Name'])  # Select a column"
   ]
  },
  {
   "cell_type": "code",
   "execution_count": 38,
   "id": "686bdde7-dcfb-4811-876d-8dd7b956f4b0",
   "metadata": {},
   "outputs": [
    {
     "name": "stdout",
     "output_type": "stream",
     "text": [
      "  Name   Age\n",
      "0    A  25.0\n",
      "1    B  30.0\n",
      "2    C  25.0\n",
      "3    D  40.0\n",
      "4    E  30.0\n",
      "5    F  45.0\n",
      "6    G  45.0\n",
      "7    H  50.0\n",
      "8    I   NaN\n"
     ]
    }
   ],
   "source": [
    "print(df[['Name', 'Age']])  # Select multiple columns"
   ]
  },
  {
   "cell_type": "code",
   "execution_count": 39,
   "id": "d95c6a8a-4153-4e43-87b9-c9ae1f14a9b5",
   "metadata": {},
   "outputs": [
    {
     "name": "stdout",
     "output_type": "stream",
     "text": [
      "Name       A\n",
      "Age     25.0\n",
      "Name: 0, dtype: object\n"
     ]
    }
   ],
   "source": [
    "print(df.loc[0])  # Select a row by index"
   ]
  },
  {
   "cell_type": "code",
   "execution_count": 40,
   "id": "0d0ca320-2a22-491b-9e77-790a6e60c0d7",
   "metadata": {},
   "outputs": [
    {
     "name": "stdout",
     "output_type": "stream",
     "text": [
      "Name       B\n",
      "Age     30.0\n",
      "Name: 1, dtype: object\n"
     ]
    }
   ],
   "source": [
    "print(df.iloc[1])  # Select a row by numerical position"
   ]
  },
  {
   "cell_type": "markdown",
   "id": "1a2afe3e-3702-4205-9db4-e3fe81be9ba4",
   "metadata": {},
   "source": [
    "You can also filter data easily:"
   ]
  },
  {
   "cell_type": "code",
   "execution_count": 41,
   "id": "d39fed3e-bfcf-4990-b9f8-487c4f900691",
   "metadata": {},
   "outputs": [
    {
     "name": "stdout",
     "output_type": "stream",
     "text": [
      "  Name   Age\n",
      "3    D  40.0\n",
      "5    F  45.0\n",
      "6    G  45.0\n",
      "7    H  50.0\n"
     ]
    }
   ],
   "source": [
    "filtered_df = df[df['Age'] > 30]  # Select rows where Age > 30\n",
    "print(filtered_df)"
   ]
  },
  {
   "cell_type": "markdown",
   "id": "dc591fed-5349-4afa-bd05-e8dd6ac82774",
   "metadata": {},
   "source": [
    "### 3.4 Data Cleaning"
   ]
  },
  {
   "cell_type": "markdown",
   "id": "7a3d6fa2-8b79-446b-b3e5-fc05a8e33efc",
   "metadata": {},
   "source": [
    "Pandas has useful functions to clean data, such as Handling Missing data, Changing Data Types, etc."
   ]
  },
  {
   "cell_type": "code",
   "execution_count": 42,
   "id": "698fb731-748b-4432-8461-5654421be94d",
   "metadata": {},
   "outputs": [
    {
     "name": "stdout",
     "output_type": "stream",
     "text": [
      "  Name   Age\n",
      "0    A  25.0\n",
      "1    B  30.0\n",
      "2    C  25.0\n",
      "3    D  40.0\n",
      "4    E  30.0\n",
      "5    F  45.0\n",
      "6    G  45.0\n",
      "7    H  50.0\n"
     ]
    }
   ],
   "source": [
    "### Handling Missing Values\n",
    "df.dropna(inplace=True)  # Remove rows with NaN values\n",
    "print(df)"
   ]
  },
  {
   "cell_type": "code",
   "execution_count": 43,
   "id": "9ce4ff32-20c8-4d33-847c-25c630ca60a0",
   "metadata": {},
   "outputs": [
    {
     "name": "stdout",
     "output_type": "stream",
     "text": [
      "  Name  Age\n",
      "0    A   25\n",
      "1    B   30\n",
      "2    C   25\n",
      "3    D   40\n",
      "4    E   30\n",
      "5    F   45\n",
      "6    G   45\n",
      "7    H   50\n"
     ]
    }
   ],
   "source": [
    "### Changing Data Types\n",
    "df['Age'] = df['Age'].astype(int)  # Convert Age column to integer\n",
    "print(df)"
   ]
  },
  {
   "cell_type": "markdown",
   "id": "630dac87-32ce-4bcc-88d6-0f855bfd6f40",
   "metadata": {},
   "source": [
    "### 3.5 Modifying Data"
   ]
  },
  {
   "cell_type": "markdown",
   "id": "5d67d7d6-b08f-4623-a17a-23ab4006a399",
   "metadata": {},
   "source": [
    "By leveraging Pandas, you can easily add new columns, rename colums, sort data, etc."
   ]
  },
  {
   "cell_type": "code",
   "execution_count": 44,
   "id": "16a548c0-1015-432e-b9cf-a24ac28432ac",
   "metadata": {},
   "outputs": [
    {
     "name": "stdout",
     "output_type": "stream",
     "text": [
      "  Name   Age    Salary    Bonus\n",
      "0    A  25.0   50000.0   5000.0\n",
      "1    B  30.0   60000.0   6000.0\n",
      "2    C  25.0   70000.0   7000.0\n",
      "3    D  40.0   80000.0   8000.0\n",
      "4    E  30.0   55000.0   5500.0\n",
      "5    F  45.0   65000.0   6500.0\n",
      "6    G  45.0   90000.0   9000.0\n",
      "7    H  50.0  100000.0  10000.0\n",
      "8    I   NaN       NaN      NaN\n"
     ]
    }
   ],
   "source": [
    "### Adding a New Column\n",
    "import os\n",
    "current_dir = os.getcwd()\n",
    "csv_path = os.path.join(current_dir, \"numpy-pandas-basics-data\", \"data.csv\")\n",
    "df = pd.read_csv(csv_path)\n",
    "\n",
    "df['Bonus'] = df['Salary'] * 0.10  # Add a new column\n",
    "print(df)"
   ]
  },
  {
   "cell_type": "code",
   "execution_count": 45,
   "id": "f743654f-4f24-4418-80d8-365c3faddc43",
   "metadata": {},
   "outputs": [
    {
     "name": "stdout",
     "output_type": "stream",
     "text": [
      "  Employee Name   Age    Salary    Bonus\n",
      "0             A  25.0   50000.0   5000.0\n",
      "1             B  30.0   60000.0   6000.0\n",
      "2             C  25.0   70000.0   7000.0\n",
      "3             D  40.0   80000.0   8000.0\n",
      "4             E  30.0   55000.0   5500.0\n",
      "5             F  45.0   65000.0   6500.0\n",
      "6             G  45.0   90000.0   9000.0\n",
      "7             H  50.0  100000.0  10000.0\n",
      "8             I   NaN       NaN      NaN\n"
     ]
    }
   ],
   "source": [
    "### Renaming Columns\n",
    "df.rename(columns={'Name': 'Employee Name'}, inplace=True)\n",
    "print(df)"
   ]
  },
  {
   "cell_type": "code",
   "execution_count": 46,
   "id": "f1cc393b-238c-4a4d-bf36-7e4af68b5bc0",
   "metadata": {},
   "outputs": [
    {
     "name": "stdout",
     "output_type": "stream",
     "text": [
      "  Employee Name   Age    Salary    Bonus\n",
      "7             H  50.0  100000.0  10000.0\n",
      "5             F  45.0   65000.0   6500.0\n",
      "6             G  45.0   90000.0   9000.0\n",
      "3             D  40.0   80000.0   8000.0\n",
      "1             B  30.0   60000.0   6000.0\n",
      "4             E  30.0   55000.0   5500.0\n",
      "0             A  25.0   50000.0   5000.0\n",
      "2             C  25.0   70000.0   7000.0\n",
      "8             I   NaN       NaN      NaN\n"
     ]
    }
   ],
   "source": [
    "### Sorting Data\n",
    "df.sort_values(by='Age', ascending=False, inplace=True)\n",
    "print(df)"
   ]
  },
  {
   "cell_type": "markdown",
   "id": "a262d82c-9371-492b-8c4e-7f159201d4e7",
   "metadata": {},
   "source": [
    "### 3.6 Merging and Joining Data"
   ]
  },
  {
   "cell_type": "markdown",
   "id": "12a6dcae-2552-486c-abce-d09be9522699",
   "metadata": {},
   "source": [
    "Pandas allows you to combine data from multiple DataFrames."
   ]
  },
  {
   "cell_type": "code",
   "execution_count": 47,
   "id": "367b4e34-1930-4693-b544-bc047deb4754",
   "metadata": {},
   "outputs": [
    {
     "name": "stdout",
     "output_type": "stream",
     "text": [
      "   ID     Name  Salary\n",
      "0   1    Alice   50000\n",
      "1   2      Bob   60000\n",
      "2   3  Charlie   70000\n"
     ]
    }
   ],
   "source": [
    "### Merging DataFrames\n",
    "df1 = pd.DataFrame({'ID': [1, 2, 3], 'Name': ['Alice', 'Bob', 'Charlie']})\n",
    "df2 = pd.DataFrame({'ID': [1, 2, 3], 'Salary': [50000, 60000, 70000]})\n",
    "merged_df = pd.merge(df1, df2, on='ID')\n",
    "print(merged_df)"
   ]
  },
  {
   "cell_type": "code",
   "execution_count": 48,
   "id": "3baea0da-4785-46ae-b090-c70fa3efab24",
   "metadata": {},
   "outputs": [
    {
     "name": "stdout",
     "output_type": "stream",
     "text": [
      "   A  B\n",
      "0  1  3\n",
      "1  2  4\n",
      "0  5  7\n",
      "1  6  8\n"
     ]
    }
   ],
   "source": [
    "### Concatenating DataFrames\n",
    "df1 = pd.DataFrame({'A': [1, 2], 'B': [3, 4]})\n",
    "df2 = pd.DataFrame({'A': [5, 6], 'B': [7, 8]})\n",
    "concatenated_df = pd.concat([df1, df2])\n",
    "print(concatenated_df)"
   ]
  },
  {
   "cell_type": "code",
   "execution_count": 49,
   "id": "669266b8-0276-49fe-9773-eb47029ad414",
   "metadata": {},
   "outputs": [],
   "source": [
    "### 3.7 Pivot Tables and Crosstabs"
   ]
  },
  {
   "cell_type": "markdown",
   "id": "2a3ae3c0-84cb-4f6e-8c3f-0ee1ed9f6e37",
   "metadata": {},
   "source": [
    "Pandas allows for powerful data summarization using pivot tables."
   ]
  },
  {
   "cell_type": "code",
   "execution_count": 50,
   "id": "6bb4a011-8983-4db1-8a98-34edc5302982",
   "metadata": {},
   "outputs": [
    {
     "name": "stdout",
     "output_type": "stream",
     "text": [
      "        Salary\n",
      "Age           \n",
      "25.0   60000.0\n",
      "30.0   57500.0\n",
      "40.0   80000.0\n",
      "45.0   77500.0\n",
      "50.0  100000.0\n"
     ]
    }
   ],
   "source": [
    "### Creating a Pivot Table\n",
    "pivot = df.pivot_table(values='Salary', index='Age', aggfunc='mean')\n",
    "print(pivot)"
   ]
  },
  {
   "cell_type": "code",
   "execution_count": 51,
   "id": "187a7e99-1749-44b4-b67f-5f48a86626c6",
   "metadata": {},
   "outputs": [
    {
     "name": "stdout",
     "output_type": "stream",
     "text": [
      "Salary  50000.0   55000.0   60000.0   65000.0   70000.0   80000.0   90000.0   \\\n",
      "Age                                                                            \n",
      "25.0           1         0         0         0         1         0         0   \n",
      "30.0           0         1         1         0         0         0         0   \n",
      "40.0           0         0         0         0         0         1         0   \n",
      "45.0           0         0         0         1         0         0         1   \n",
      "50.0           0         0         0         0         0         0         0   \n",
      "\n",
      "Salary  100000.0  \n",
      "Age               \n",
      "25.0           0  \n",
      "30.0           0  \n",
      "40.0           0  \n",
      "45.0           0  \n",
      "50.0           1  \n"
     ]
    }
   ],
   "source": [
    "### Creating a Crosstab\n",
    "crosstab = pd.crosstab(df['Age'], df['Salary'])\n",
    "print(crosstab)"
   ]
  },
  {
   "cell_type": "markdown",
   "id": "2b016723-99d0-4baf-b80a-6946e2be58b6",
   "metadata": {},
   "source": [
    "### Conclusion\n",
    "This section introduced the fundamental concepts of Pandas, covering data structures, reading and writing files, data manipulation, cleaning. Pandas is an essential tool for anyone working with structured data in Python, making data analysis more efficient and intuitive.\n"
   ]
  },
  {
   "cell_type": "markdown",
   "id": "57331295-1424-4825-8915-c0cab468d54f",
   "metadata": {},
   "source": [
    "## References\n",
    "\n",
    "[1] Harris, C.R., Millman, K.J., van der Walt, S.J. et al. Array programming with NumPy. Nature 585, 357–362 (2020).\n",
    "\n",
    "[2] Numpy documentation: https://numpy.org/\n",
    "\n",
    "[3] McKinney, W. Data Structures for Statistical Computing in Python. Proceedings of the 9th Python in Science Conference, 56–61 (2010).\n",
    "\n",
    "[4] andas documentation: https://pandas.pydata.org"
   ]
  },
  {
   "cell_type": "code",
   "execution_count": null,
   "id": "9c8e7449-fe2e-4f9e-80f3-a09b8e542a7d",
   "metadata": {},
   "outputs": [],
   "source": []
  }
 ],
 "metadata": {
  "kernelspec": {
   "display_name": "Python 3 (ipykernel)",
   "language": "python",
   "name": "python3"
  },
  "language_info": {
   "codemirror_mode": {
    "name": "ipython",
    "version": 3
   },
   "file_extension": ".py",
   "mimetype": "text/x-python",
   "name": "python",
   "nbconvert_exporter": "python",
   "pygments_lexer": "ipython3",
   "version": "3.9.21"
  }
 },
 "nbformat": 4,
 "nbformat_minor": 5
}
