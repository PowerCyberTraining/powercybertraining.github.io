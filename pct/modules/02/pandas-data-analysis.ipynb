{
 "cells": [
  {
   "cell_type": "markdown",
   "metadata": {},
   "source": [
    "# Data Analysis with Pandas"
   ]
  },
  {
   "cell_type": "markdown",
   "metadata": {},
   "source": [
    "| Information | Details |\n",
    "|----------|---------|\n",
    "| Learning Objectives | • Load and explore power system datasets<br>• Master DataFrame indexing and selection<br>• Clean operational data for analysis<br>• Perform time-series operations<br>• Aggregate data by categories<br>• Avoid common Pandas pitfalls |\n",
    "| Prerequisites | Basic Python, NumPy arrays, power system concepts |\n",
    "| Estimated Time | 60 minutes |\n",
    "| Topics | DataFrames, indexing (loc/iloc), time series, data cleaning, aggregation |"
   ]
  },
  {
   "cell_type": "markdown",
   "metadata": {},
   "source": [
    "## Introduction\n",
    "\n",
    "Power systems generate vast amounts of time-series data from SCADA systems, energy markets, weather stations, and smart meters. This lesson introduces Pandas, Python's primary data manipulation library, through practical power system applications. You'll learn to handle the structured, time-indexed data that characterizes power system operations.\n",
    "\n",
    "Pandas excels at the data manipulation tasks you'll encounter daily in power systems analysis. Whether you're calculating system reliability metrics, processing market settlements, or analyzing generator performance, Pandas provides the essential tools for efficient data analysis. We'll focus on the fundamental operations you need most, building your skills progressively through realistic examples while highlighting common pitfalls that can trip up even experienced users."
   ]
  },
  {
   "cell_type": "markdown",
   "metadata": {},
   "source": [
    "## Setting Up"
   ]
  },
  {
   "cell_type": "code",
   "execution_count": 1,
   "metadata": {},
   "outputs": [
    {
     "name": "stdout",
     "output_type": "stream",
     "text": [
      "Pandas version: 2.3.2\n"
     ]
    }
   ],
   "source": [
    "import pandas as pd\n",
    "import numpy as np\n",
    "import matplotlib.pyplot as plt\n",
    "import warnings\n",
    "warnings.filterwarnings('ignore')\n",
    "\n",
    "# Set display options\n",
    "pd.set_option('display.max_columns', 10)\n",
    "pd.set_option('display.precision', 2)\n",
    "\n",
    "print(f\"Pandas version: {pd.__version__}\")"
   ]
  },
  {
   "cell_type": "markdown",
   "metadata": {},
   "source": [
    "## Creating Sample Power System Data\n",
    "\n",
    "To learn Pandas effectively, we need realistic power system data. Let's create datasets representing common data types you'll encounter: generation output from different units, system load measurements, and market prices. These datasets will exhibit typical patterns like daily load cycles and the relationship between demand and price."
   ]
  },
  {
   "cell_type": "code",
   "execution_count": 2,
   "metadata": {},
   "outputs": [],
   "source": [
    "# Create 24 hours of 5-minute data\n",
    "np.random.seed(42)\n",
    "timestamps = pd.date_range('2024-01-01', periods=288, freq='5min')\n",
    "\n",
    "# Base generation values for different units\n",
    "coal_base = 350  # MW\n",
    "gas_base = 150   # MW\n",
    "wind_base = 50   # MW\n",
    "solar_max = 60   # MW peak"
   ]
  },
  {
   "cell_type": "code",
   "execution_count": 3,
   "metadata": {},
   "outputs": [
    {
     "name": "stdout",
     "output_type": "stream",
     "text": [
      "Sample generation data:\n",
      "            timestamp    coal     gas   wind     solar\n",
      "0 2024-01-01 00:00:00  352.48  150.00  55.62  0.00e+00\n",
      "1 2024-01-01 00:05:00  349.31  152.19  37.55  7.19e-03\n",
      "2 2024-01-01 00:10:00  353.24  154.37  45.84  2.88e-02\n",
      "3 2024-01-01 00:15:00  357.62  156.55  40.14  6.47e-02\n",
      "4 2024-01-01 00:20:00  348.83  158.71  38.21  1.15e-01\n",
      "\n",
      "DataFrame shape: (288, 5)\n"
     ]
    }
   ],
   "source": [
    "# Generate realistic patterns\n",
    "generation_data = pd.DataFrame({\n",
    "    'timestamp': timestamps,\n",
    "    'coal': coal_base + np.random.normal(0, 5, 288),\n",
    "    'gas': gas_base + 50 * np.sin(np.linspace(0, 4*np.pi, 288)),\n",
    "    'wind': np.maximum(0, wind_base + np.random.normal(0, 20, 288)),\n",
    "    'solar': solar_max * np.maximum(0, np.sin(np.linspace(0, np.pi, 288)))**2\n",
    "})\n",
    "\n",
    "print(\"Sample generation data:\")\n",
    "print(generation_data.head())\n",
    "print(f\"\\nDataFrame shape: {generation_data.shape}\")"
   ]
  },
  {
   "cell_type": "markdown",
   "metadata": {},
   "source": [
    "The generation data shows typical patterns for each technology. Coal provides steady baseload power with minimal variation. Gas units follow load, ramping up and down throughout the day. Wind varies randomly, reflecting the intermittent nature of wind resources. Solar follows a predictable daily pattern, peaking at midday.\n",
    "\n",
    "Now let's create corresponding load and price data to complete our dataset:"
   ]
  },
  {
   "cell_type": "code",
   "execution_count": 4,
   "metadata": {},
   "outputs": [],
   "source": [
    "# Create load data with daily pattern\n",
    "base_load = 600  # MW\n",
    "daily_pattern = 100 * np.sin(np.linspace(-np.pi/2, 3*np.pi/2, 288))\n",
    "load = base_load + daily_pattern + np.random.normal(0, 10, 288)\n",
    "\n",
    "load_data = pd.DataFrame({\n",
    "    'timestamp': timestamps,\n",
    "    'system_load': load\n",
    "})"
   ]
  },
  {
   "cell_type": "code",
   "execution_count": 5,
   "metadata": {},
   "outputs": [
    {
     "name": "stdout",
     "output_type": "stream",
     "text": [
      "Load range: 485 - 714 MW\n",
      "Price range: $28.31 - $53.01/MWh\n"
     ]
    }
   ],
   "source": [
    "# Create price data correlated with load\n",
    "base_price = 30  # $/MWh\n",
    "load_factor = (load - load.min()) / (load.max() - load.min())\n",
    "prices = base_price + 20 * load_factor + np.random.normal(0, 2, 288)\n",
    "\n",
    "price_data = pd.DataFrame({\n",
    "    'timestamp': timestamps,\n",
    "    'lmp': prices\n",
    "})\n",
    "\n",
    "print(f\"Load range: {load.min():.0f} - {load.max():.0f} MW\")\n",
    "print(f\"Price range: ${prices.min():.2f} - ${prices.max():.2f}/MWh\")"
   ]
  },
  {
   "cell_type": "markdown",
   "metadata": {},
   "source": [
    "## Working with DataFrames\n",
    "\n",
    "DataFrames are the core data structure in Pandas, perfect for the tabular data common in power systems. Each column represents a different measurement or variable, while rows represent observations at different times. Let's explore how to load, examine, and manipulate this data.\n",
    "\n",
    "```{admonition} Key Concept: DataFrame Structure\n",
    ":class: note\n",
    "A DataFrame is like a spreadsheet in memory. Rows have an **index** (labels for each row), and columns have **names**. Understanding this dual-labeling system is crucial for effective data manipulation.\n",
    "```"
   ]
  },
  {
   "cell_type": "code",
   "execution_count": 6,
   "metadata": {},
   "outputs": [
    {
     "name": "stdout",
     "output_type": "stream",
     "text": [
      "DataFrame shape: (288, 5)\n",
      "\n",
      "Data types:\n",
      "timestamp    datetime64[ns]\n",
      "coal                float64\n",
      "gas                 float64\n",
      "wind                float64\n",
      "solar               float64\n",
      "dtype: object\n"
     ]
    }
   ],
   "source": [
    "# Save and reload data (simulating real file operations)\n",
    "generation_data.to_csv('generation.csv', index=False)\n",
    "gen_df = pd.read_csv('generation.csv', parse_dates=['timestamp'])\n",
    "\n",
    "print(\"DataFrame shape:\", gen_df.shape)\n",
    "print(\"\\nData types:\")\n",
    "print(gen_df.dtypes)"
   ]
  },
  {
   "cell_type": "markdown",
   "metadata": {},
   "source": [
    "Notice that Pandas automatically recognized the timestamp column as a datetime when we used `parse_dates`. This is crucial for time-series operations. The shape tells us we have 288 time periods (5-minute intervals over 24 hours) and 5 columns.\n",
    "\n",
    "Let's explore the data more thoroughly using Pandas' built-in methods:"
   ]
  },
  {
   "cell_type": "code",
   "execution_count": 7,
   "metadata": {},
   "outputs": [
    {
     "name": "stdout",
     "output_type": "stream",
     "text": [
      "Statistical summary:\n",
      "                 timestamp    coal     gas    wind   solar\n",
      "count                  288  288.00  288.00  288.00  288.00\n",
      "mean   2024-01-01 11:57:30  349.94  150.00   49.51   29.90\n",
      "min    2024-01-01 00:00:00  333.79  100.00    0.57    0.00\n",
      "25%    2024-01-01 05:58:45  346.45  114.84   36.11    8.73\n",
      "50%    2024-01-01 11:57:30  350.26  150.00   49.60   29.84\n",
      "75%    2024-01-01 17:56:15  353.08  185.16   62.46   51.04\n",
      "max    2024-01-01 23:55:00  369.26  200.00  111.58   60.00\n",
      "std                    NaN    4.98   35.36   19.22   21.29\n",
      "\n",
      "Time range:\n",
      "Start: 2024-01-01 00:00:00\n",
      "End: 2024-01-01 23:55:00\n"
     ]
    }
   ],
   "source": [
    "# Basic exploration\n",
    "print(\"Statistical summary:\")\n",
    "print(gen_df.describe())\n",
    "\n",
    "print(\"\\nTime range:\")\n",
    "print(f\"Start: {gen_df['timestamp'].min()}\")\n",
    "print(f\"End: {gen_df['timestamp'].max()}\")"
   ]
  },
  {
   "cell_type": "markdown",
   "metadata": {
    "editable": true,
    "slideshow": {
     "slide_type": ""
    },
    "tags": []
   },
   "source": [
    "## Setting the Index\n",
    "\n",
    "For time-series data, setting the timestamp as the index enables powerful time-based operations. This is a fundamental step that transforms how you can work with the data, allowing for easy time-based selection, resampling, and alignment of different datasets.\n",
    "\n",
    "```{admonition} Warning: Index Changes Access Patterns\n",
    ":class: warning\n",
    "After setting a datetime index, you can no longer use integer positions directly with square brackets. Use `.iloc[0]` for position-based access or `.loc['2024-01-01']` for label-based access.\n",
    "```"
   ]
  },
  {
   "cell_type": "markdown",
   "metadata": {},
   "source": [
    "### Before setting index"
   ]
  },
  {
   "cell_type": "code",
   "execution_count": 8,
   "metadata": {},
   "outputs": [
    {
     "name": "stdout",
     "output_type": "stream",
     "text": [
      "Before setting index:\n",
      "            timestamp    coal     gas   wind     solar\n",
      "0 2024-01-01 00:00:00  352.48  150.00  55.62  0.00e+00\n",
      "1 2024-01-01 00:05:00  349.31  152.19  37.55  7.19e-03\n",
      "2 2024-01-01 00:10:00  353.24  154.37  45.84  2.88e-02\n",
      "\n",
      "Accessing row 0: gen_df.iloc[0]['coal'] = 352.48\n"
     ]
    }
   ],
   "source": [
    "print(\"Before setting index:\")\n",
    "print(gen_df.head(3))\n",
    "print(f\"\\nAccessing row 0: gen_df.iloc[0]['coal'] = {gen_df.iloc[0]['coal']:.2f}\")"
   ]
  },
  {
   "cell_type": "markdown",
   "metadata": {},
   "source": [
    "### After setting timestamp as index"
   ]
  },
  {
   "cell_type": "code",
   "execution_count": 9,
   "metadata": {},
   "outputs": [
    {
     "name": "stdout",
     "output_type": "stream",
     "text": [
      "After setting timestamp index:\n",
      "                       coal     gas   wind     solar\n",
      "timestamp                                           \n",
      "2024-01-01 00:00:00  352.48  150.00  55.62  0.00e+00\n",
      "2024-01-01 00:05:00  349.31  152.19  37.55  7.19e-03\n",
      "2024-01-01 00:10:00  353.24  154.37  45.84  2.88e-02\n"
     ]
    }
   ],
   "source": [
    "# Set timestamp as index\n",
    "gen_df = gen_df.set_index('timestamp')\n",
    "load_df = load_data.set_index('timestamp')\n",
    "price_df = price_data.set_index('timestamp')\n",
    "\n",
    "print(\"After setting timestamp index:\")\n",
    "print(gen_df.head(3))"
   ]
  },
  {
   "cell_type": "markdown",
   "metadata": {},
   "source": [
    "### Access patterns after setting index\n",
    "\n",
    "- **WRONG:** `gen_df[0]` - This raises KeyError!\n",
    "- **RIGHT:** `gen_df.iloc[0]` - Access by position\n",
    "- **RIGHT:** `gen_df.loc['2024-01-01 00:00:00']` - Access by label"
   ]
  },
  {
   "cell_type": "code",
   "execution_count": 10,
   "metadata": {},
   "outputs": [
    {
     "name": "stdout",
     "output_type": "stream",
     "text": [
      "Access by position (iloc):\n",
      "coal     352.48\n",
      "gas      150.00\n",
      "wind      55.62\n",
      "solar      0.00\n",
      "Name: 2024-01-01 00:00:00, dtype: float64\n",
      "\n",
      "Access by label (loc):\n",
      "coal     352.48\n",
      "gas      150.00\n",
      "wind      55.62\n",
      "solar      0.00\n",
      "Name: 2024-01-01 00:00:00, dtype: float64\n"
     ]
    }
   ],
   "source": [
    "# Demonstrate correct access patterns\n",
    "print(\"Access by position (iloc):\")\n",
    "print(gen_df.iloc[0])  # First row\n",
    "print()\n",
    "print(\"Access by label (loc):\")\n",
    "print(gen_df.loc['2024-01-01 00:00:00'])  # Specific timestamp"
   ]
  },
  {
   "cell_type": "markdown",
   "metadata": {},
   "source": [
    "## DataFrame Indexing and Selection\n",
    "\n",
    "Understanding how to select data from DataFrames is crucial but often confusing for beginners. Pandas provides multiple ways to access data, each with specific use cases. Let's explore the main methods and their differences.\n",
    "\n",
    "```{admonition} Key Indexing Methods\n",
    ":class: info\n",
    "- **`.loc[]`** - Label-based selection (use index/column names)\n",
    "- **`.iloc[]`** - Integer position-based selection (like array indexing)\n",
    "- **`.at[]`** - Fast scalar label-based access\n",
    "- **`.iat[]`** - Fast scalar position-based access\n",
    "- **`[]`** - Column selection or boolean filtering\n",
    "```"
   ]
  },
  {
   "cell_type": "markdown",
   "metadata": {},
   "source": [
    "### Column Selection - The Simplest Method\n",
    "\n",
    "#### Single column (returns Series):"
   ]
  },
  {
   "cell_type": "code",
   "execution_count": 11,
   "metadata": {},
   "outputs": [
    {
     "data": {
      "text/plain": [
       "timestamp\n",
       "2024-01-01 00:00:00    352.48\n",
       "2024-01-01 00:05:00    349.31\n",
       "2024-01-01 00:10:00    353.24\n",
       "Name: coal, dtype: float64"
      ]
     },
     "execution_count": 11,
     "metadata": {},
     "output_type": "execute_result"
    }
   ],
   "source": [
    "gen_df['coal'].head(3)"
   ]
  },
  {
   "cell_type": "markdown",
   "metadata": {},
   "source": [
    "#### Multiple columns (returns DataFrame):"
   ]
  },
  {
   "cell_type": "code",
   "execution_count": 12,
   "metadata": {},
   "outputs": [
    {
     "data": {
      "text/html": [
       "<div>\n",
       "<style scoped>\n",
       "    .dataframe tbody tr th:only-of-type {\n",
       "        vertical-align: middle;\n",
       "    }\n",
       "\n",
       "    .dataframe tbody tr th {\n",
       "        vertical-align: top;\n",
       "    }\n",
       "\n",
       "    .dataframe thead th {\n",
       "        text-align: right;\n",
       "    }\n",
       "</style>\n",
       "<table border=\"1\" class=\"dataframe\">\n",
       "  <thead>\n",
       "    <tr style=\"text-align: right;\">\n",
       "      <th></th>\n",
       "      <th>coal</th>\n",
       "      <th>gas</th>\n",
       "    </tr>\n",
       "    <tr>\n",
       "      <th>timestamp</th>\n",
       "      <th></th>\n",
       "      <th></th>\n",
       "    </tr>\n",
       "  </thead>\n",
       "  <tbody>\n",
       "    <tr>\n",
       "      <th>2024-01-01 00:00:00</th>\n",
       "      <td>352.48</td>\n",
       "      <td>150.00</td>\n",
       "    </tr>\n",
       "    <tr>\n",
       "      <th>2024-01-01 00:05:00</th>\n",
       "      <td>349.31</td>\n",
       "      <td>152.19</td>\n",
       "    </tr>\n",
       "    <tr>\n",
       "      <th>2024-01-01 00:10:00</th>\n",
       "      <td>353.24</td>\n",
       "      <td>154.37</td>\n",
       "    </tr>\n",
       "  </tbody>\n",
       "</table>\n",
       "</div>"
      ],
      "text/plain": [
       "                       coal     gas\n",
       "timestamp                          \n",
       "2024-01-01 00:00:00  352.48  150.00\n",
       "2024-01-01 00:05:00  349.31  152.19\n",
       "2024-01-01 00:10:00  353.24  154.37"
      ]
     },
     "execution_count": 12,
     "metadata": {},
     "output_type": "execute_result"
    }
   ],
   "source": [
    "gen_df[['coal', 'gas']].head(3)"
   ]
  },
  {
   "cell_type": "markdown",
   "metadata": {},
   "source": [
    "### loc (label-based) vs iloc (position-based)\n",
    "\n",
    "#### Using loc with timestamp label:"
   ]
  },
  {
   "cell_type": "code",
   "execution_count": 13,
   "metadata": {},
   "outputs": [
    {
     "data": {
      "text/plain": [
       "np.float64(351.2098113578302)"
      ]
     },
     "execution_count": 13,
     "metadata": {},
     "output_type": "execute_result"
    }
   ],
   "source": [
    "gen_df.loc['2024-01-01 01:00:00', 'coal']  # Specific cell"
   ]
  },
  {
   "cell_type": "markdown",
   "metadata": {},
   "source": [
    "#### Using iloc with integer positions:"
   ]
  },
  {
   "cell_type": "code",
   "execution_count": 14,
   "metadata": {},
   "outputs": [
    {
     "data": {
      "text/plain": [
       "np.float64(351.2098113578302)"
      ]
     },
     "execution_count": 14,
     "metadata": {},
     "output_type": "execute_result"
    }
   ],
   "source": [
    "gen_df.iloc[12, 0]  # Row 12 (13th row), column 0 (coal)"
   ]
  },
  {
   "cell_type": "markdown",
   "metadata": {},
   "source": [
    "#### Slicing with loc (inclusive of end):"
   ]
  },
  {
   "cell_type": "code",
   "execution_count": 15,
   "metadata": {},
   "outputs": [
    {
     "data": {
      "text/plain": [
       "timestamp\n",
       "2024-01-01 00:00:00    352.48\n",
       "2024-01-01 00:05:00    349.31\n",
       "2024-01-01 00:10:00    353.24\n",
       "Name: coal, dtype: float64"
      ]
     },
     "execution_count": 15,
     "metadata": {},
     "output_type": "execute_result"
    }
   ],
   "source": [
    "gen_df.loc['2024-01-01 00:00:00':'2024-01-01 00:10:00', 'coal']"
   ]
  },
  {
   "cell_type": "markdown",
   "metadata": {},
   "source": [
    "#### Slicing with iloc (exclusive of end):"
   ]
  },
  {
   "cell_type": "code",
   "execution_count": 16,
   "metadata": {},
   "outputs": [
    {
     "data": {
      "text/plain": [
       "timestamp\n",
       "2024-01-01 00:00:00    352.48\n",
       "2024-01-01 00:05:00    349.31\n",
       "2024-01-01 00:10:00    353.24\n",
       "Name: coal, dtype: float64"
      ]
     },
     "execution_count": 16,
     "metadata": {},
     "output_type": "execute_result"
    }
   ],
   "source": [
    "gen_df.iloc[0:3, 0]  # First 3 rows, first column"
   ]
  },
  {
   "cell_type": "markdown",
   "metadata": {},
   "source": [
    "### at and iat for Fast Scalar Access\n",
    "\n",
    "#### Using at (label-based):"
   ]
  },
  {
   "cell_type": "code",
   "execution_count": 17,
   "metadata": {},
   "outputs": [
    {
     "name": "stdout",
     "output_type": "stream",
     "text": [
      "Coal at 2024-01-01 00:00:00: 352.48\n"
     ]
    }
   ],
   "source": [
    "print(f\"Coal at 2024-01-01 00:00:00: {gen_df.at['2024-01-01 00:00:00', 'coal']:.2f}\")"
   ]
  },
  {
   "cell_type": "markdown",
   "metadata": {},
   "source": [
    "#### Using iat (position-based):"
   ]
  },
  {
   "cell_type": "code",
   "execution_count": 18,
   "metadata": {},
   "outputs": [
    {
     "name": "stdout",
     "output_type": "stream",
     "text": [
      "Value at position [0, 0]: 352.48\n"
     ]
    }
   ],
   "source": [
    "print(f\"Value at position [0, 0]: {gen_df.iat[0, 0]:.2f}\")"
   ]
  },
  {
   "cell_type": "markdown",
   "metadata": {},
   "source": [
    "```{admonition} Common Pitfall: Boolean Indexing\n",
    ":class: warning\n",
    "When filtering data with conditions, always use `.loc[]` for setting values to avoid the `SettingWithCopyWarning`. Never chain operations when modifying data.\n",
    "```"
   ]
  },
  {
   "cell_type": "markdown",
   "metadata": {},
   "source": [
    "### Boolean Indexing - RIGHT and WRONG Ways\n",
    "\n",
    "- **WRONG - Chained assignment:**\n",
    "```python\n",
    "demo_df[demo_df['coal'] > 360]['coal'] = 360  # Don't do this!\n",
    "```\n",
    "\n",
    "- **RIGHT - Using loc with boolean mask:**"
   ]
  },
  {
   "cell_type": "code",
   "execution_count": 19,
   "metadata": {},
   "outputs": [
    {
     "name": "stdout",
     "output_type": "stream",
     "text": [
      "Capped 8 values above 360 MW\n",
      "New max coal: 360.00 MW\n"
     ]
    }
   ],
   "source": [
    "# Create a copy for demonstration\n",
    "demo_df = gen_df.copy()\n",
    "\n",
    "# RIGHT way - using loc with boolean mask\n",
    "mask = demo_df['coal'] > 360\n",
    "demo_df.loc[mask, 'coal'] = 360\n",
    "print(f\"Capped {mask.sum()} values above 360 MW\")\n",
    "print(f\"New max coal: {demo_df['coal'].max():.2f} MW\")"
   ]
  },
  {
   "cell_type": "markdown",
   "metadata": {},
   "source": [
    "### Time-based Selection"
   ]
  },
  {
   "cell_type": "code",
   "execution_count": 20,
   "metadata": {},
   "outputs": [
    {
     "name": "stdout",
     "output_type": "stream",
     "text": [
      "Morning generation averages:\n",
      "coal     349.74\n",
      "gas      118.73\n",
      "wind      52.68\n",
      "solar     49.18\n",
      "dtype: float64\n"
     ]
    }
   ],
   "source": [
    "morning_gen = gen_df.between_time('06:00', '12:00')\n",
    "print(f\"Morning generation averages:\")\n",
    "print(morning_gen.mean())"
   ]
  },
  {
   "cell_type": "markdown",
   "metadata": {},
   "source": [
    "#### Partial string indexing (very convenient for time series):"
   ]
  },
  {
   "cell_type": "code",
   "execution_count": 21,
   "metadata": {},
   "outputs": [
    {
     "data": {
      "text/plain": [
       "timestamp\n",
       "2024-01-01 06:00:00    30.16\n",
       "2024-01-01 06:05:00    30.82\n",
       "2024-01-01 06:10:00    31.48\n",
       "2024-01-01 06:15:00    32.13\n",
       "2024-01-01 06:20:00    32.79\n",
       "2024-01-01 06:25:00    33.44\n",
       "2024-01-01 06:30:00    34.09\n",
       "Name: solar, dtype: float64"
      ]
     },
     "execution_count": 21,
     "metadata": {},
     "output_type": "execute_result"
    }
   ],
   "source": [
    "gen_df.loc['2024-01-01 06:00':'2024-01-01 06:30', 'solar']"
   ]
  },
  {
   "cell_type": "markdown",
   "metadata": {},
   "source": [
    "## Data Cleaning\n",
    "\n",
    "Real power system data often contains quality issues from communication failures, sensor errors, or data collection problems. Common issues include missing values from SCADA dropouts and unrealistic measurements from faulty sensors. Let's learn how to identify and handle these problems.\n",
    "\n",
    "```{admonition} Best Practice: Always Copy When Cleaning\n",
    ":class: tip\n",
    "When cleaning data, work on a copy (`df.copy()`) to preserve the original. This prevents accidental data loss and allows you to compare before/after.\n",
    "```"
   ]
  },
  {
   "cell_type": "code",
   "execution_count": 22,
   "metadata": {},
   "outputs": [
    {
     "name": "stdout",
     "output_type": "stream",
     "text": [
      "Missing values by column:\n",
      "coal     0\n",
      "gas      0\n",
      "wind     4\n",
      "solar    0\n",
      "dtype: int64\n",
      "\n",
      "Negative wind values: 1\n"
     ]
    }
   ],
   "source": [
    "# Create data with quality issues\n",
    "messy_data = gen_df.copy()  # Always work on a copy!\n",
    "\n",
    "# Introduce missing values (SCADA dropout)\n",
    "dropout_times = np.random.choice(messy_data.index[50:100], size=5)\n",
    "messy_data.loc[dropout_times, 'wind'] = np.nan\n",
    "\n",
    "# Introduce unrealistic value\n",
    "messy_data.iloc[150, 2] = -50  # Negative wind generation\n",
    "\n",
    "print(f\"Missing values by column:\")\n",
    "print(messy_data.isnull().sum())\n",
    "print(f\"\\nNegative wind values: {(messy_data['wind'] < 0).sum()}\")"
   ]
  },
  {
   "cell_type": "markdown",
   "metadata": {},
   "source": [
    "Missing values and unrealistic measurements can corrupt your analysis if not handled properly. For time-series data, interpolation often provides a reasonable estimate for short gaps. For unrealistic values, domain knowledge helps identify and correct problems.\n",
    "\n",
    "```{admonition} Warning: SettingWithCopyWarning\n",
    ":class: warning\n",
    "If you see `SettingWithCopyWarning`, it means you're trying to modify a view of the data rather than the data itself. This often happens with chained operations. Always use `.copy()` when creating subsets you plan to modify.\n",
    "```"
   ]
  },
  {
   "cell_type": "markdown",
   "metadata": {},
   "source": [
    "### SettingWithCopyWarning Demonstration\n",
    "\n",
    "- **WRONG - Creating a view (can cause warnings):**"
   ]
  },
  {
   "cell_type": "code",
   "execution_count": 23,
   "metadata": {},
   "outputs": [
    {
     "name": "stdout",
     "output_type": "stream",
     "text": [
      "Is this a view? False\n"
     ]
    }
   ],
   "source": [
    "subset_wrong = messy_data[messy_data['coal'] > 350]\n",
    "print(f\"Is this a view? {subset_wrong._is_view}\")\n",
    "# subset_wrong['coal'] = 350  # This would trigger SettingWithCopyWarning!"
   ]
  },
  {
   "cell_type": "markdown",
   "metadata": {},
   "source": [
    "- **RIGHT - Creating a copy:**"
   ]
  },
  {
   "cell_type": "code",
   "execution_count": 24,
   "metadata": {},
   "outputs": [
    {
     "name": "stdout",
     "output_type": "stream",
     "text": [
      "Modified 148 rows safely\n"
     ]
    }
   ],
   "source": [
    "subset_right = messy_data[messy_data['coal'] > 350].copy()\n",
    "subset_right['coal'] = 350  # This is safe\n",
    "print(f\"Modified {len(subset_right)} rows safely\")"
   ]
  },
  {
   "cell_type": "markdown",
   "metadata": {},
   "source": [
    "### Clean the Data Properly"
   ]
  },
  {
   "cell_type": "code",
   "execution_count": 25,
   "metadata": {},
   "outputs": [
    {
     "name": "stdout",
     "output_type": "stream",
     "text": [
      "Remaining missing values: 0\n",
      "Wind generation range: 0.0 - 111.6 MW\n"
     ]
    }
   ],
   "source": [
    "clean_data = messy_data.copy()\n",
    "\n",
    "# Fix negative values\n",
    "negative_mask = clean_data['wind'] < 0\n",
    "clean_data.loc[negative_mask, 'wind'] = 0  # Use loc for safe assignment\n",
    "\n",
    "# Interpolate missing values (linear for small gaps)\n",
    "clean_data['wind'] = clean_data['wind'].interpolate(method='linear', limit=3)\n",
    "\n",
    "print(f\"Remaining missing values: {clean_data.isnull().sum().sum()}\")\n",
    "print(f\"Wind generation range: {clean_data['wind'].min():.1f} - {clean_data['wind'].max():.1f} MW\")"
   ]
  },
  {
   "cell_type": "markdown",
   "metadata": {},
   "source": [
    "## Time Series Operations\n",
    "\n",
    "Power system data is inherently temporal, and you'll frequently need to change time resolutions or calculate rolling statistics. Resampling converts data between different time frequencies, while rolling calculations help identify trends and smooth noisy measurements.\n",
    "\n",
    "```{admonition} Performance Tip: Vectorization\n",
    ":class: tip\n",
    "Pandas operations are optimized for entire columns. Avoid iterating over rows with `iterrows()` unless absolutely necessary. Vectorized operations can be 100x faster.\n",
    "```"
   ]
  },
  {
   "cell_type": "markdown",
   "metadata": {},
   "source": [
    "### Vectorization vs Iteration Performance"
   ]
  },
  {
   "cell_type": "code",
   "execution_count": 26,
   "metadata": {},
   "outputs": [
    {
     "name": "stdout",
     "output_type": "stream",
     "text": [
      "Iteration time: 2.37 ms\n",
      "Vectorized time: 0.13 ms\n",
      "Speedup: 18.4x faster\n"
     ]
    }
   ],
   "source": [
    "import time\n",
    "\n",
    "# SLOW - Iterating over rows\n",
    "start = time.time()\n",
    "total_slow = 0\n",
    "for idx, row in gen_df.iterrows():\n",
    "    total_slow += row['coal'] + row['gas']\n",
    "time_slow = time.time() - start\n",
    "\n",
    "# FAST - Vectorized operation\n",
    "start = time.time()\n",
    "total_fast = (gen_df['coal'] + gen_df['gas']).sum()\n",
    "time_fast = time.time() - start\n",
    "\n",
    "print(f\"Iteration time: {time_slow*1000:.2f} ms\")\n",
    "print(f\"Vectorized time: {time_fast*1000:.2f} ms\")\n",
    "print(f\"Speedup: {time_slow/time_fast:.1f}x faster\")"
   ]
  },
  {
   "cell_type": "markdown",
   "metadata": {},
   "source": [
    "### Resampling Data"
   ]
  },
  {
   "cell_type": "code",
   "execution_count": 27,
   "metadata": {},
   "outputs": [
    {
     "name": "stdout",
     "output_type": "stream",
     "text": [
      "Original: 288 five-minute periods\n",
      "Resampled: 24 hourly periods\n",
      "\n",
      "Hourly averages (MW):\n",
      "                       coal     gas   wind  solar\n",
      "timestamp                                        \n",
      "2024-01-01 00:00:00  351.48  161.79  52.55   0.30\n",
      "2024-01-01 01:00:00  347.04  184.28  53.30   2.25\n",
      "2024-01-01 02:00:00  349.03  197.52  59.16   6.11\n",
      "\n",
      "Memory usage comparison:\n",
      "Original: 19.4 KB\n",
      "Hourly: 0.9 KB\n"
     ]
    }
   ],
   "source": [
    "# Resample to hourly (average for power, sum for energy)\n",
    "gen_hourly = gen_df.resample('1h').mean()  # Use lowercase 'h' in newer pandas\n",
    "energy_hourly = gen_df.resample('1h').sum() / 12  # Convert to MWh\n",
    "\n",
    "print(f\"Original: {len(gen_df)} five-minute periods\")\n",
    "print(f\"Resampled: {len(gen_hourly)} hourly periods\")\n",
    "print(\"\\nHourly averages (MW):\")\n",
    "print(gen_hourly.head(3))\n",
    "print(f\"\\nMemory usage comparison:\")\n",
    "print(f\"Original: {gen_df.memory_usage().sum() / 1024:.1f} KB\")\n",
    "print(f\"Hourly: {gen_hourly.memory_usage().sum() / 1024:.1f} KB\")"
   ]
  },
  {
   "cell_type": "markdown",
   "metadata": {},
   "source": [
    "### Rolling Calculations"
   ]
  },
  {
   "cell_type": "code",
   "execution_count": 28,
   "metadata": {},
   "outputs": [
    {
     "name": "stdout",
     "output_type": "stream",
     "text": [
      "First few values of rolling average:\n",
      "                       coal  coal_smooth\n",
      "timestamp                               \n",
      "2024-01-01 00:00:00  352.48          NaN\n",
      "2024-01-01 00:05:00  349.31          NaN\n",
      "2024-01-01 00:10:00  353.24          NaN\n",
      "2024-01-01 00:15:00  357.62          NaN\n",
      "2024-01-01 00:20:00  348.83          NaN\n",
      "2024-01-01 00:25:00  348.83       351.72\n",
      "2024-01-01 00:30:00  357.90       352.62\n",
      "2024-01-01 00:35:00  353.84       353.37\n",
      "\n",
      "Notice: First 5 values are NaN (window=6)\n"
     ]
    }
   ],
   "source": [
    "# Calculate 30-minute rolling average\n",
    "gen_df['coal_smooth'] = gen_df['coal'].rolling(window=6).mean()\n",
    "\n",
    "# Note about the first few values\n",
    "print(\"First few values of rolling average:\")\n",
    "print(gen_df[['coal', 'coal_smooth']].head(8))\n",
    "print(\"\\nNotice: First 5 values are NaN (window=6)\")"
   ]
  },
  {
   "cell_type": "code",
   "execution_count": 29,
   "metadata": {},
   "outputs": [
    {
     "data": {
      "image/png": "[encoded data removed]",
      "text/plain": [
       "<Figure size 1000x400 with 1 Axes>"
      ]
     },
     "metadata": {},
     "output_type": "display_data"
    }
   ],
   "source": [
    "# Plot to visualize\n",
    "plt.figure(figsize=(10, 4))\n",
    "gen_df['coal'][:50].plot(label='Actual', alpha=0.5)\n",
    "gen_df['coal_smooth'][:50].plot(label='30-min Average')\n",
    "plt.ylabel('Generation (MW)')\n",
    "plt.title('Rolling Average Smoothing')\n",
    "plt.legend()\n",
    "plt.show()"
   ]
  },
  {
   "cell_type": "markdown",
   "metadata": {},
   "source": [
    "The rolling average smooths out short-term fluctuations, revealing the underlying trend. This technique is valuable for identifying patterns in noisy data and calculating metrics like moving average prices or rolling standard deviations for volatility analysis.\n",
    "\n",
    "```{admonition} Note: Rolling Window Edge Effects\n",
    ":class: note\n",
    "Rolling operations produce NaN values for the first (window-1) periods by default. Use `min_periods` parameter if you need values for these initial periods.\n",
    "```"
   ]
  },
  {
   "cell_type": "markdown",
   "metadata": {},
   "source": [
    "## Aggregation and Grouping\n",
    "\n",
    "Analyzing data by categories reveals important patterns in power system operations. You might need to compare generation by fuel type, analyze load patterns by hour of day, or calculate statistics by different time periods. The groupby operation is fundamental to these analyses.\n",
    "\n",
    "```{admonition} Memory Tip: GroupBy Objects\n",
    ":class: tip\n",
    "GroupBy operations don't immediately compute results - they create a GroupBy object that computes results lazily. This saves memory when working with large datasets.\n",
    "```"
   ]
  },
  {
   "cell_type": "code",
   "execution_count": 30,
   "metadata": {},
   "outputs": [
    {
     "name": "stdout",
     "output_type": "stream",
     "text": [
      "GroupBy object: <pandas.core.groupby.generic.DataFrameGroupBy object at 0x79e0bd390bf0>\n",
      "Number of groups: 24\n",
      "\n",
      "Average generation by hour (first 6 hours):\n",
      "        coal     gas   wind  solar\n",
      "hour                              \n",
      "0     351.48  161.79  52.55   0.30\n",
      "1     347.04  184.28  53.30   2.25\n",
      "2     349.03  197.52  59.16   6.11\n",
      "3     348.34  197.94  50.50  11.61\n",
      "4     350.24  185.43  41.28  18.36\n",
      "5     350.73  163.36  49.53  25.92\n"
     ]
    }
   ],
   "source": [
    "# Add hour column for grouping\n",
    "gen_df['hour'] = gen_df.index.hour\n",
    "\n",
    "# Create GroupBy object (no computation yet)\n",
    "grouped = gen_df.groupby('hour')\n",
    "print(f\"GroupBy object: {grouped}\")\n",
    "print(f\"Number of groups: {grouped.ngroups}\")\n",
    "\n",
    "# Now compute specific aggregations\n",
    "hourly_avg = grouped[['coal', 'gas', 'wind', 'solar']].mean()\n",
    "\n",
    "print(\"\\nAverage generation by hour (first 6 hours):\")\n",
    "print(hourly_avg.head(6))"
   ]
  },
  {
   "cell_type": "markdown",
   "metadata": {},
   "source": [
    "### Multiple Aggregations"
   ]
  },
  {
   "cell_type": "code",
   "execution_count": 31,
   "metadata": {},
   "outputs": [
    {
     "name": "stdout",
     "output_type": "stream",
     "text": [
      "Wind statistics by hour:\n",
      "       mean    std    min    max\n",
      "hour                            \n",
      "0     52.55  12.35  36.14  67.99\n",
      "1     53.30  13.75  33.42  75.55\n",
      "2     59.16  15.52  33.64  91.85\n",
      "3     50.50  16.48  25.72  73.16\n",
      "4     41.28  12.65  21.04  58.26\n"
     ]
    }
   ],
   "source": [
    "agg_stats = gen_df.groupby('hour')['wind'].agg(['mean', 'std', 'min', 'max'])\n",
    "print(\"Wind statistics by hour:\")\n",
    "print(agg_stats.head())"
   ]
  },
  {
   "cell_type": "code",
   "execution_count": 32,
   "metadata": {},
   "outputs": [
    {
     "data": {
      "text/plain": [
       "<Figure size 1000x400 with 0 Axes>"
      ]
     },
     "metadata": {},
     "output_type": "display_data"
    },
    {
     "data": {
      "image/png": "[encoded data removed]",
      "text/plain": [
       "<Figure size 640x480 with 1 Axes>"
      ]
     },
     "metadata": {},
     "output_type": "display_data"
    }
   ],
   "source": [
    "# Visualize hourly patterns\n",
    "plt.figure(figsize=(10, 4))\n",
    "hourly_avg.plot(kind='bar', stacked=True)\n",
    "plt.xlabel('Hour of Day')\n",
    "plt.ylabel('Generation (MW)')\n",
    "plt.title('Average Hourly Generation Mix')\n",
    "plt.legend(title='Source')\n",
    "plt.tight_layout()\n",
    "plt.show()"
   ]
  },
  {
   "cell_type": "markdown",
   "metadata": {},
   "source": [
    "The stacked bar chart clearly shows how the generation mix changes throughout the day. Solar peaks at midday, gas ramps up during high-demand periods, and coal provides steady baseload. This type of analysis helps operators understand system patterns and plan resources."
   ]
  },
  {
   "cell_type": "markdown",
   "metadata": {},
   "source": [
    "## Merging Datasets\n",
    "\n",
    "Power system analysis often requires combining data from multiple sources. You might need to merge generation data with prices to calculate revenues, or combine load data with weather to analyze correlations. Pandas provides several merge operations for different scenarios.\n",
    "\n",
    "```{admonition} Warning: Merge Key Duplicates\n",
    ":class: warning\n",
    "If your merge keys have duplicates, the result will contain all combinations (Cartesian product), potentially exploding memory usage. Always check for duplicates with `df.index.duplicated().sum()` before merging.\n",
    "```"
   ]
  },
  {
   "cell_type": "markdown",
   "metadata": {},
   "source": [
    "### Checking for Duplicate Indices"
   ]
  },
  {
   "cell_type": "code",
   "execution_count": 33,
   "metadata": {},
   "outputs": [
    {
     "name": "stdout",
     "output_type": "stream",
     "text": [
      "Generation duplicates: 0\n",
      "Load duplicates: 0\n",
      "Price duplicates: 0\n",
      "\n",
      "Safe to merge!\n"
     ]
    }
   ],
   "source": [
    "print(f\"Generation duplicates: {gen_df.index.duplicated().sum()}\")\n",
    "print(f\"Load duplicates: {load_df.index.duplicated().sum()}\")\n",
    "print(f\"Price duplicates: {price_df.index.duplicated().sum()}\")\n",
    "print(\"\\nSafe to merge!\")"
   ]
  },
  {
   "cell_type": "markdown",
   "metadata": {},
   "source": [
    "### Merge Types Comparison"
   ]
  },
  {
   "cell_type": "code",
   "execution_count": 34,
   "metadata": {},
   "outputs": [
    {
     "name": "stdout",
     "output_type": "stream",
     "text": [
      "Inner merge shape: (288, 7)\n",
      "Left merge shape: (288, 7)\n",
      "\n",
      "Memory usage after merge: 25.0 KB\n"
     ]
    }
   ],
   "source": [
    "# Inner join (default) - only matching indices\n",
    "inner_merge = gen_df.merge(load_df, left_index=True, right_index=True, how='inner')\n",
    "print(f\"Inner merge shape: {inner_merge.shape}\")\n",
    "\n",
    "# Left join - all from left, matching from right\n",
    "left_merge = gen_df.merge(load_df, left_index=True, right_index=True, how='left')\n",
    "print(f\"Left merge shape: {left_merge.shape}\")\n",
    "\n",
    "# Check memory usage\n",
    "print(f\"\\nMemory usage after merge: {inner_merge.memory_usage().sum() / 1024:.1f} KB\")"
   ]
  },
  {
   "cell_type": "markdown",
   "metadata": {},
   "source": [
    "### Merge All Datasets"
   ]
  },
  {
   "cell_type": "code",
   "execution_count": 35,
   "metadata": {},
   "outputs": [
    {
     "name": "stdout",
     "output_type": "stream",
     "text": [
      "Merged system data:\n",
      "                     total_gen  system_load    lmp\n",
      "timestamp                                         \n",
      "2024-01-01 00:00:00     558.10       502.36  30.29\n",
      "2024-01-01 00:05:00     539.05       507.73  31.21\n",
      "2024-01-01 00:10:00     553.48       485.31  30.60\n",
      "2024-01-01 00:15:00     554.37       511.65  33.00\n",
      "2024-01-01 00:20:00     545.87       503.77  32.96\n",
      "\n",
      "Final shape: (288, 9)\n"
     ]
    }
   ],
   "source": [
    "# Merge all datasets\n",
    "system_data = gen_df.merge(load_df, left_index=True, right_index=True)\n",
    "system_data = system_data.merge(price_df, left_index=True, right_index=True)\n",
    "\n",
    "# Calculate total generation\n",
    "system_data['total_gen'] = system_data[['coal', 'gas', 'wind', 'solar']].sum(axis=1)\n",
    "\n",
    "print(\"Merged system data:\")\n",
    "print(system_data[['total_gen', 'system_load', 'lmp']].head())\n",
    "print(f\"\\nFinal shape: {system_data.shape}\")"
   ]
  },
  {
   "cell_type": "code",
   "execution_count": 36,
   "metadata": {},
   "outputs": [
    {
     "name": "stdout",
     "output_type": "stream",
     "text": [
      "Correlation matrix:\n",
      "             system_load   lmp  total_gen\n",
      "system_load         1.00  0.95       0.46\n",
      "lmp                 0.95  1.00       0.44\n",
      "total_gen           0.46  0.44       1.00\n",
      "\n",
      "Total coal revenue: $338,804.42\n"
     ]
    }
   ],
   "source": [
    "# Analyze relationships\n",
    "correlation = system_data[['system_load', 'lmp', 'total_gen']].corr()\n",
    "print(\"Correlation matrix:\")\n",
    "print(correlation)\n",
    "\n",
    "# Calculate generator revenues\n",
    "system_data['coal_revenue'] = system_data['coal'] * system_data['lmp'] / 12\n",
    "print(f\"\\nTotal coal revenue: ${system_data['coal_revenue'].sum():,.2f}\")"
   ]
  },
  {
   "cell_type": "markdown",
   "metadata": {},
   "source": [
    "The merged dataset enables comprehensive analysis. We can see the correlation between load and price, calculate revenues for each generator, and analyze the supply-demand balance. This integrated view is essential for market analysis and system planning."
   ]
  },
  {
   "cell_type": "markdown",
   "metadata": {},
   "source": [
    "## Common Pitfalls and Solutions\n",
    "\n",
    "Let's address the most common issues that trip up Pandas users, especially when working with power system data.\n",
    "\n",
    "### 1. View vs Copy Problem\n",
    "\n",
    "```{admonition} Critical Concept: Views vs Copies\n",
    ":class: important\n",
    "Some Pandas operations return a **view** (reference to original data) while others return a **copy** (independent data). Modifying a view can unexpectedly change the original data or fail silently.\n",
    "```"
   ]
  },
  {
   "cell_type": "code",
   "execution_count": 37,
   "metadata": {},
   "outputs": [
    {
     "name": "stdout",
     "output_type": "stream",
     "text": [
      "Original shape: (288, 2)\n",
      "Subset shape: (148, 2)\n",
      "\n",
      "Always use .copy() when you need independent data!\n"
     ]
    }
   ],
   "source": [
    "original = gen_df[['coal', 'gas']].copy()\n",
    "\n",
    "# This might be a view or copy (unpredictable!)\n",
    "subset_unclear = original[original['coal'] > 350]\n",
    "\n",
    "# This is definitely a copy\n",
    "subset_copy = original[original['coal'] > 350].copy()\n",
    "\n",
    "# This is definitely a view\n",
    "subset_view = original.loc[original['coal'] > 350]\n",
    "\n",
    "print(f\"Original shape: {original.shape}\")\n",
    "print(f\"Subset shape: {subset_copy.shape}\")\n",
    "print(\"\\nAlways use .copy() when you need independent data!\")"
   ]
  },
  {
   "cell_type": "markdown",
   "metadata": {},
   "source": [
    "### 2. Chained Assignment Problem\n",
    "\n",
    "- **WRONG way (chained):**\n",
    "```python\n",
    "test_df[test_df['coal'] > 360]['coal'] = 360\n",
    "# This may not work and triggers SettingWithCopyWarning!\n",
    "```\n",
    "\n",
    "- **RIGHT way (using loc):**"
   ]
  },
  {
   "cell_type": "code",
   "execution_count": 38,
   "metadata": {},
   "outputs": [
    {
     "name": "stdout",
     "output_type": "stream",
     "text": [
      "Successfully capped 8 values\n"
     ]
    }
   ],
   "source": [
    "test_df = gen_df.copy()\n",
    "mask = test_df['coal'] > 360\n",
    "test_df.loc[mask, 'coal'] = 360\n",
    "print(f\"Successfully capped {mask.sum()} values\")"
   ]
  },
  {
   "cell_type": "markdown",
   "metadata": {},
   "source": [
    "### 3. Memory Optimization"
   ]
  },
  {
   "cell_type": "code",
   "execution_count": 39,
   "metadata": {},
   "outputs": [
    {
     "name": "stdout",
     "output_type": "stream",
     "text": [
      "Original memory usage:\n",
      "Index          10600\n",
      "coal            2304\n",
      "gas             2304\n",
      "wind            2304\n",
      "solar           2304\n",
      "coal_smooth     2304\n",
      "hour            1152\n",
      "dtype: int64\n",
      "\n",
      "Optimized memory usage:\n",
      "Index          10600\n",
      "coal            2304\n",
      "gas             2304\n",
      "wind            2304\n",
      "solar           2304\n",
      "coal_smooth     2304\n",
      "hour             288\n",
      "dtype: int64\n",
      "\n",
      "Memory saved by using int8 for hour column!\n"
     ]
    }
   ],
   "source": [
    "print(\"Original memory usage:\")\n",
    "print(gen_df.memory_usage(deep=True))\n",
    "\n",
    "# Optimize data types\n",
    "optimized = gen_df.copy()\n",
    "optimized['hour'] = optimized['hour'].astype('int8')  # Hours only need 0-23\n",
    "\n",
    "print(\"\\nOptimized memory usage:\")\n",
    "print(optimized.memory_usage(deep=True))\n",
    "print(\"\\nMemory saved by using int8 for hour column!\")"
   ]
  },
  {
   "cell_type": "markdown",
   "metadata": {},
   "source": [
    "### 4. Timezone Handling"
   ]
  },
  {
   "cell_type": "code",
   "execution_count": 40,
   "metadata": {},
   "outputs": [
    {
     "name": "stdout",
     "output_type": "stream",
     "text": [
      "Current timezone: None\n",
      "(None means timezone-naive)\n",
      "\n",
      "After localization: US/Eastern\n",
      "After conversion: UTC\n",
      "\n",
      "First timestamp in Eastern: 2024-01-01 00:00:00-05:00\n",
      "Same moment in UTC: 2024-01-01 05:00:00+00:00\n"
     ]
    }
   ],
   "source": [
    "print(f\"Current timezone: {gen_df.index.tz}\")\n",
    "print(\"(None means timezone-naive)\\n\")\n",
    "\n",
    "# Make timezone-aware\n",
    "gen_tz = gen_df.copy()\n",
    "gen_tz.index = gen_tz.index.tz_localize('US/Eastern')\n",
    "print(f\"After localization: {gen_tz.index.tz}\")\n",
    "\n",
    "# Convert to different timezone\n",
    "gen_utc = gen_tz.copy()\n",
    "gen_utc.index = gen_utc.index.tz_convert('UTC')\n",
    "print(f\"After conversion: {gen_utc.index.tz}\")\n",
    "print(f\"\\nFirst timestamp in Eastern: {gen_tz.index[0]}\")\n",
    "print(f\"Same moment in UTC: {gen_utc.index[0]}\")"
   ]
  },
  {
   "cell_type": "markdown",
   "metadata": {},
   "source": [
    "## Performance Considerations\n",
    "\n",
    "When working with large power system datasets (millions of rows), performance becomes critical. Here are key strategies for optimization.\n",
    "\n",
    "```{admonition} Performance Best Practices\n",
    ":class: tip\n",
    "1. **Use vectorized operations** instead of loops\n",
    "2. **Select columns early** to reduce memory usage\n",
    "3. **Use appropriate data types** (int8 for small integers, category for repeated strings)\n",
    "4. **Chunk large files** when reading with `chunksize` parameter\n",
    "5. **Use numba or cython** for complex calculations that can't be vectorized\n",
    "```"
   ]
  },
  {
   "cell_type": "markdown",
   "metadata": {},
   "source": [
    "### Performance Comparison: apply() vs vectorization"
   ]
  },
  {
   "cell_type": "code",
   "execution_count": 41,
   "metadata": {},
   "outputs": [
    {
     "name": "stdout",
     "output_type": "stream",
     "text": [
      "Test dataset size: 2880 rows\n",
      "\n",
      "apply() time: 6.69 ms\n",
      "Vectorized time: 0.28 ms\n",
      "Speedup: 23.9x faster\n"
     ]
    }
   ],
   "source": [
    "# Create larger dataset for testing\n",
    "large_df = pd.concat([gen_df] * 10, ignore_index=True)\n",
    "print(f\"Test dataset size: {len(large_df)} rows\\n\")\n",
    "\n",
    "# Method 1: Using apply (slower)\n",
    "start = time.time()\n",
    "result_apply = large_df.apply(lambda row: row['coal'] * 0.95 if row['hour'] < 6 else row['coal'], axis=1)\n",
    "time_apply = time.time() - start\n",
    "\n",
    "# Method 2: Vectorized with np.where (faster)\n",
    "start = time.time()\n",
    "result_vector = np.where(large_df['hour'] < 6, large_df['coal'] * 0.95, large_df['coal'])\n",
    "time_vector = time.time() - start\n",
    "\n",
    "print(f\"apply() time: {time_apply*1000:.2f} ms\")\n",
    "print(f\"Vectorized time: {time_vector*1000:.2f} ms\")\n",
    "print(f\"Speedup: {time_apply/time_vector:.1f}x faster\")"
   ]
  },
  {
   "cell_type": "markdown",
   "metadata": {},
   "source": [
    "## Troubleshooting Guide\n",
    "\n",
    "Here are solutions to the most common errors you'll encounter:\n",
    "\n",
    "```{admonition} Common Errors and Solutions\n",
    ":class: note\n",
    "1. **KeyError**: Column/index doesn't exist → Check with `.columns` or `.index`\n",
    "2. **SettingWithCopyWarning**: Modifying a view → Use `.copy()` or `.loc[]`\n",
    "3. **ValueError: cannot reindex**: Index mismatch in operations → Check index alignment\n",
    "4. **MemoryError**: Dataset too large → Use chunks or optimize dtypes\n",
    "5. **AttributeError**: Method doesn't exist → Check Pandas version or typo\n",
    "```"
   ]
  },
  {
   "cell_type": "markdown",
   "metadata": {},
   "source": [
    "### Troubleshooting Examples"
   ]
  },
  {
   "cell_type": "code",
   "execution_count": 42,
   "metadata": {},
   "outputs": [
    {
     "name": "stdout",
     "output_type": "stream",
     "text": [
      "Column 'voltage' not found\n",
      "Available columns: ['coal', 'gas', 'wind', 'solar', 'coal_smooth', 'hour']\n",
      "\n",
      "Safe mean (treating NaN as 0): 49.51\n",
      "\n",
      "Data types:\n",
      "coal           float64\n",
      "gas            float64\n",
      "wind           float64\n",
      "solar          float64\n",
      "coal_smooth    float64\n",
      "hour             int32\n",
      "dtype: object\n"
     ]
    }
   ],
   "source": [
    "# 1. Safely check if column exists\n",
    "column_to_check = 'voltage'\n",
    "if column_to_check in gen_df.columns:\n",
    "    print(f\"Column '{column_to_check}' exists\")\n",
    "else:\n",
    "    print(f\"Column '{column_to_check}' not found\")\n",
    "    print(f\"Available columns: {list(gen_df.columns)}\")\n",
    "\n",
    "print()\n",
    "\n",
    "# 2. Safely handle potential missing values\n",
    "safe_mean = gen_df['wind'].fillna(0).mean()\n",
    "print(f\"Safe mean (treating NaN as 0): {safe_mean:.2f}\")\n",
    "\n",
    "# 3. Check data types before operations\n",
    "print(\"\\nData types:\")\n",
    "print(gen_df.dtypes)"
   ]
  },
  {
   "cell_type": "markdown",
   "metadata": {},
   "source": [
    "## Exercise 1: Load Analysis\n",
    "\n",
    "Load patterns directly influence electricity prices and determine when peaking generators must be dispatched. In this exercise, you'll analyze the daily load profile to identify critical operational periods.\n",
    "\n",
    "Using the `load_df` dataset, calculate the average load for each hour of the day using groupby operations. Identify peak hours as those with load above the 75th percentile of hourly averages. Create a visualization that clearly distinguishes peak hours from off-peak hours using color coding (red for peak, blue for off-peak). Add a horizontal line showing the overall daily average load for reference. Finally, determine the specific hours when the system experiences its highest and lowest average demand.\n",
    "\n",
    "::: {admonition} Hint\n",
    ":class: tip\n",
    "\n",
    "First, calculate hourly averages using `groupby()` with the hour attribute from the index. Use the `quantile(0.75)` method on your hourly averages to find the peak threshold.\n",
    "\n",
    "::::"
   ]
  },
  {
   "cell_type": "markdown",
   "metadata": {},
   "source": [
    "### Solution to Exercise 1"
   ]
  },
  {
   "cell_type": "code",
   "execution_count": 43,
   "metadata": {
    "editable": true,
    "slideshow": {
     "slide_type": ""
    },
    "tags": [
     "hide-cell"
    ]
   },
   "outputs": [
    {
     "data": {
      "image/png": "[encoded data removed]",
      "text/plain": [
       "<Figure size 1200x500 with 1 Axes>"
      ]
     },
     "metadata": {},
     "output_type": "display_data"
    }
   ],
   "source": [
    "# Calculate hourly statistics\n",
    "load_df_copy = load_df.copy()\n",
    "load_df_copy['hour'] = load_df_copy.index.hour\n",
    "hourly_load = load_df_copy.groupby('hour')['system_load'].mean()\n",
    "\n",
    "# Identify peak hours using 75th percentile\n",
    "threshold = hourly_load.quantile(0.75)\n",
    "colors = ['red' if load > threshold else 'blue' for load in hourly_load]\n",
    "\n",
    "# Create visualization\n",
    "plt.figure(figsize=(12, 5))\n",
    "bars = plt.bar(range(24), hourly_load.values, color=colors, alpha=0.7, \n",
    "               edgecolor='black', linewidth=0.5)\n",
    "plt.axhline(load_df_copy['system_load'].mean(), color='green', \n",
    "            linestyle='--', label=f'Daily Average: {load_df_copy[\"system_load\"].mean():.0f} MW')\n",
    "\n",
    "# Enhance plot\n",
    "plt.xlabel('Hour of Day')\n",
    "plt.ylabel('Average Load (MW)')\n",
    "plt.title('Daily Load Profile: Peak Hours (>75th percentile) in Red')\n",
    "plt.xticks(range(0, 24, 2))\n",
    "plt.grid(True, alpha=0.3, axis='y')\n",
    "plt.legend()\n",
    "\n",
    "# Add text annotations for peak and valley\n",
    "peak_hour = hourly_load.idxmax()\n",
    "valley_hour = hourly_load.idxmin()\n",
    "plt.annotate(f'Peak: {hourly_load.max():.0f} MW', \n",
    "             xy=(peak_hour, hourly_load.max()), \n",
    "             xytext=(peak_hour-2, hourly_load.max()+10),\n",
    "             arrowprops=dict(arrowstyle='->', color='red', lw=1))\n",
    "plt.annotate(f'Valley: {hourly_load.min():.0f} MW', \n",
    "             xy=(valley_hour, hourly_load.min()), \n",
    "             xytext=(valley_hour+2, hourly_load.min()-10),\n",
    "             arrowprops=dict(arrowstyle='->', color='blue', lw=1))\n",
    "\n",
    "plt.tight_layout()\n",
    "plt.show()\n"
   ]
  },
  {
   "cell_type": "markdown",
   "metadata": {
    "editable": true,
    "slideshow": {
     "slide_type": ""
    },
    "tags": []
   },
   "source": [
    "## Exercise 2: Price Statistics with Safe Operations\n",
    "\n",
    "In this exercise, you'll analyze the statistical properties of electricity prices throughout the day. Start by calculating comprehensive statistics (mean, min, max, standard deviation) on `price_df` for each hour using groupby operations with the `describe()` method. Identify the five most expensive hours based on average price using the `nlargest()` method. Then determine what percentage of time prices exceed $45/MWh, which might trigger demand response or peaking generation. Throughout this analysis, use proper indexing with `.loc[]` and work on copies to avoid SettingWithCopyWarning issues.\n",
    "\n",
    "For identifying price spikes, calculate the mean and standard deviation of all prices, then find periods where prices exceed the mean by more than two standard deviations. This statistical approach helps distinguish genuine price spikes from normal market volatility.\n",
    "\n",
    "::: {admonition} Hint\n",
    ":class: tip\n",
    "\n",
    "Use `groupby().describe()` to get all statistics at once, then select specific columns as needed. The `nlargest(5, 'mean')` method will find your top hours. For percentage calculations, remember that `(condition).mean() * 100` gives you the percentage directly. When filtering for spikes, create your mask first, then use `.loc[mask]` for safe selection.\n",
    "\n",
    ":::"
   ]
  },
  {
   "cell_type": "markdown",
   "metadata": {
    "editable": true,
    "slideshow": {
     "slide_type": ""
    },
    "tags": []
   },
   "source": [
    "### Solution to Exercise 2"
   ]
  },
  {
   "cell_type": "code",
   "execution_count": 44,
   "metadata": {
    "editable": true,
    "slideshow": {
     "slide_type": ""
    },
    "tags": [
     "hide-cell"
    ]
   },
   "outputs": [
    {
     "name": "stdout",
     "output_type": "stream",
     "text": [
      "Top 5 Most Expensive Hours:\n",
      "       mean   std    min    max\n",
      "hour                           \n",
      "11    49.82  1.09  47.60  51.28\n",
      "12    49.10  2.22  46.18  53.01\n",
      "13    48.43  2.71  44.31  52.95\n",
      "10    47.39  2.43  42.88  51.61\n",
      "14    47.17  2.03  42.84  49.71\n",
      "\n",
      "Prices exceed $45/MWh: 30.9% of time\n"
     ]
    }
   ],
   "source": [
    "# Calculate hourly statistics using groupby\n",
    "price_copy = price_df.copy()\n",
    "price_copy['hour'] = price_copy.index.hour\n",
    "hourly_stats = price_copy.groupby('hour')['lmp'].describe()\n",
    "\n",
    "# Find top 5 expensive hours (using sort since nlargest wasn't covered)\n",
    "top_5_hours = hourly_stats.sort_values('mean', ascending=False).head(5)\n",
    "print(\"Top 5 Most Expensive Hours:\")\n",
    "print(top_5_hours[['mean', 'std', 'min', 'max']].round(2))\n",
    "\n",
    "# Calculate percentage above $45/MWh\n",
    "high_price_pct = (price_copy['lmp'] > 45).mean() * 100\n",
    "print(f\"\\nPrices exceed $45/MWh: {high_price_pct:.1f}% of time\")\n",
    "\n",
    "# Identify price spikes (mean + 2*std)\n",
    "price_mean = price_copy['lmp'].mean()\n",
    "price_std = price_copy['lmp'].std()\n",
    "spike_threshold = price_mean + 2 * price_std\n",
    "\n",
    "# Use loc for safe filtering\n",
    "spike_mask = price_copy['lmp'] > spike_threshold\n",
    "spikes = price_copy.loc[spike_mask, 'lmp']"
   ]
  },
  {
   "cell_type": "code",
   "execution_count": 45,
   "metadata": {
    "editable": true,
    "slideshow": {
     "slide_type": ""
    },
    "tags": [
     "hide-cell"
    ]
   },
   "outputs": [
    {
     "name": "stdout",
     "output_type": "stream",
     "text": [
      "\n",
      "No prices exceed spike threshold of $53.08/MWh\n"
     ]
    },
    {
     "data": {
      "image/png": "[encoded data removed]",
      "text/plain": [
       "<Figure size 1200x500 with 1 Axes>"
      ]
     },
     "metadata": {},
     "output_type": "display_data"
    }
   ],
   "source": [
    "if len(spikes) > 0:\n",
    "    print(f\"\\nPrice spikes (>${spike_threshold:.2f}): {len(spikes)} periods\")\n",
    "    print(f\"Maximum spike: ${spikes.max():.2f}/MWh\")\n",
    "else:\n",
    "    print(f\"\\nNo prices exceed spike threshold of ${spike_threshold:.2f}/MWh\")\n",
    "\n",
    "# Visualization\n",
    "plt.figure(figsize=(12, 5))\n",
    "hourly_means = hourly_stats['mean']\n",
    "plt.bar(hourly_means.index, hourly_means.values, alpha=0.7, color='steelblue')\n",
    "plt.axhline(45, color='red', linestyle='--', label='$45/MWh threshold', alpha=0.7)\n",
    "plt.axhline(price_mean, color='green', linestyle='--', label=f'Daily avg: ${price_mean:.2f}', alpha=0.7)\n",
    "plt.xlabel('Hour of Day')\n",
    "plt.ylabel('Average Price ($/MWh)')\n",
    "plt.title('Hourly Average Electricity Prices')\n",
    "plt.legend()\n",
    "plt.grid(True, alpha=0.3)\n",
    "plt.tight_layout()\n",
    "plt.show()"
   ]
  },
  {
   "cell_type": "markdown",
   "metadata": {
    "editable": true,
    "slideshow": {
     "slide_type": ""
    },
    "tags": []
   },
   "source": [
    "## Exercise 3: Renewable Integration Analysis with Performance\n",
    "\n",
    "Calculate the renewable penetration percentage (wind + solar as percentage of total generation) for each time period in the dataset. Find when maximum renewable penetration occurs and analyze the relationship between renewable generation and electricity prices. Compare the performance of using `apply()` versus vectorized operations for these calculations.\n",
    "\n",
    "Create a scatter plot showing renewable generation versus price, calculate the correlation coefficient, and interpret what this relationship tells us about the merit order effect in electricity markets.\n",
    "\n",
    "\n",
    "::: {admonition} Hint\n",
    ":class: tip\n",
    "\n",
    "Use vectorized operations (`df['wind'] + df['solar']`) instead of `apply()` for much better performance. For the scatter plot, use `plt.scatter()`. To add a trend line, you can use `np.polyfit()` and `np.poly1d()` (search documentation if needed) or simply observe the pattern visually. The correlation can be calculated with `.corr()` method.\n",
    "\n",
    ":::"
   ]
  },
  {
   "cell_type": "markdown",
   "metadata": {
    "editable": true,
    "slideshow": {
     "slide_type": ""
    },
    "tags": []
   },
   "source": [
    "### Solution to Exercise 3"
   ]
  },
  {
   "cell_type": "code",
   "execution_count": 46,
   "metadata": {
    "editable": true,
    "slideshow": {
     "slide_type": ""
    },
    "tags": [
     "hide-cell"
    ]
   },
   "outputs": [
    {
     "name": "stdout",
     "output_type": "stream",
     "text": [
      "Max renewable penetration: 24.2% at 11:00\n"
     ]
    }
   ],
   "source": [
    "# Merge datasets if not already done\n",
    "system_data = gen_df.merge(load_df, left_index=True, right_index=True)\n",
    "system_data = system_data.merge(price_df, left_index=True, right_index=True)\n",
    "\n",
    "# Calculate renewable generation and penetration (vectorized)\n",
    "system_data['renewable_gen'] = system_data['wind'] + system_data['solar']\n",
    "system_data['total_gen'] = system_data[['coal', 'gas', 'wind', 'solar']].sum(axis=1)\n",
    "system_data['renewable_pct'] = system_data['renewable_gen'] / system_data['total_gen'] * 100\n",
    "\n",
    "# Find maximum penetration\n",
    "max_pct = system_data['renewable_pct'].max()\n",
    "max_time = system_data['renewable_pct'].idxmax()\n",
    "print(f\"Max renewable penetration: {max_pct:.1f}% at {max_time.strftime('%H:%M')}\")"
   ]
  },
  {
   "cell_type": "markdown",
   "metadata": {
    "editable": true,
    "slideshow": {
     "slide_type": ""
    },
    "tags": []
   },
   "source": [
    "#### Performance Comparison"
   ]
  },
  {
   "cell_type": "code",
   "execution_count": 47,
   "metadata": {
    "editable": true,
    "slideshow": {
     "slide_type": ""
    },
    "tags": [
     "hide-cell"
    ]
   },
   "outputs": [
    {
     "name": "stdout",
     "output_type": "stream",
     "text": [
      "\n",
      "Performance: Vectorized is 12.5x faster\n"
     ]
    }
   ],
   "source": [
    "# Performance comparison: apply vs vectorized\n",
    "import time\n",
    "\n",
    "# Method 1: apply (slower)\n",
    "start = time.time()\n",
    "renewable_slow = system_data.apply(lambda row: row['wind'] + row['solar'], axis=1)\n",
    "apply_time = time.time() - start\n",
    "\n",
    "# Method 2: vectorized (faster)  \n",
    "start = time.time()\n",
    "renewable_fast = system_data['wind'] + system_data['solar']\n",
    "vector_time = time.time() - start\n",
    "\n",
    "print(f\"\\nPerformance: Vectorized is {apply_time/vector_time:.1f}x faster\")"
   ]
  },
  {
   "cell_type": "code",
   "execution_count": 48,
   "metadata": {
    "editable": true,
    "slideshow": {
     "slide_type": ""
    },
    "tags": [
     "hide-cell"
    ]
   },
   "outputs": [
    {
     "data": {
      "image/png": "[encoded data removed]",
      "text/plain": [
       "<Figure size 1000x500 with 1 Axes>"
      ]
     },
     "metadata": {},
     "output_type": "display_data"
    },
    {
     "name": "stdout",
     "output_type": "stream",
     "text": [
      "\n",
      "Correlation: 0.684\n"
     ]
    }
   ],
   "source": [
    "# Analyze price relationship\n",
    "correlation = system_data['renewable_gen'].corr(system_data['lmp'])\n",
    "\n",
    "# Visualization\n",
    "plt.figure(figsize=(10, 5))\n",
    "plt.scatter(system_data['renewable_gen'], system_data['lmp'], \n",
    "            alpha=0.5, s=20, color='green')\n",
    "\n",
    "# Add trend line\n",
    "z = np.polyfit(system_data['renewable_gen'], system_data['lmp'], 1)\n",
    "p = np.poly1d(z)\n",
    "x_trend = np.linspace(system_data['renewable_gen'].min(), \n",
    "                     system_data['renewable_gen'].max(), 100)\n",
    "plt.plot(x_trend, p(x_trend), 'r--', alpha=0.7,\n",
    "         label=f'Trend (corr={correlation:.3f})')\n",
    "\n",
    "plt.xlabel('Renewable Generation (MW)')\n",
    "plt.ylabel('LMP ($/MWh)')\n",
    "plt.title('Merit Order Effect: Renewable Generation vs Price')\n",
    "plt.legend()\n",
    "plt.grid(True, alpha=0.3)\n",
    "plt.tight_layout()\n",
    "plt.show()\n",
    "\n",
    "print(f\"\\nCorrelation: {correlation:.3f}\")\n",
    "if correlation < 0:\n",
    "    print(\"Negative correlation confirms merit order effect:\")\n",
    "    print(\"Higher renewable generation → Lower electricity prices\")"
   ]
  },
  {
   "cell_type": "markdown",
   "metadata": {
    "editable": true,
    "slideshow": {
     "slide_type": ""
    },
    "tags": []
   },
   "source": [
    "## Summary\n",
    "\n",
    "We went through essential Pandas operations with applications to  power system data. You understand the difference between `loc` and `iloc`, know how to avoid the `SettingWithCopyWarning`, and can optimize performance through vectorization.\n",
    "\n",
    "The key skills developed include proper DataFrame indexing, safe data cleaning practices, efficient time-series operations, and performance-optimized aggregations. Most importantly, you've learned to avoid the common pitfalls that can lead to incorrect results or poor performance.\n",
    "\n",
    "As you work with real power system data, remember these critical points: always use `.copy()` when you need independent data, prefer vectorized operations over loops, use `.loc[]` for safe value assignment, and check for duplicates before merging. With these skills and awareness of common pitfalls, you are prepared to handle analysis on dataframes.\n",
    "\n",
    "```{admonition} Final Best Practices Checklist\n",
    ":class: tip\n",
    "\n",
    "- Use `.copy()` when creating subsets you'll modify\n",
    "- Use `.loc[]` for label-based selection and assignment\n",
    "- Use `.iloc[]` for position-based selection\n",
    "- Vectorize operations instead of using loops\n",
    "- Check for duplicates before merging\n",
    "- Set appropriate data types to save memory\n",
    "- Handle missing values explicitly\n",
    "- Be aware of timezone issues in time series\n",
    "\n",
    "```"
   ]
  },
  {
   "cell_type": "code",
   "execution_count": 49,
   "metadata": {},
   "outputs": [
    {
     "name": "stdout",
     "output_type": "stream",
     "text": [
      "Cleanup complete\n"
     ]
    }
   ],
   "source": [
    "# Clean up\n",
    "import os\n",
    "if os.path.exists('generation.csv'):\n",
    "    os.remove('generation.csv')\n",
    "print(\"Cleanup complete\")"
   ]
  }
 ],
 "metadata": {
  "kernelspec": {
   "display_name": "Python 3 (ipykernel)",
   "language": "python",
   "name": "python3"
  },
  "language_info": {
   "codemirror_mode": {
    "name": "ipython",
    "version": 3
   },
   "file_extension": ".py",
   "mimetype": "text/x-python",
   "name": "python",
   "nbconvert_exporter": "python",
   "pygments_lexer": "ipython3",
   "version": "3.12.11"
  }
 },
 "nbformat": 4,
 "nbformat_minor": 4
}
