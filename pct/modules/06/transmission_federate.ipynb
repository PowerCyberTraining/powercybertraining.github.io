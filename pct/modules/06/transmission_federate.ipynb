{
 "cells": [
  {
   "cell_type": "markdown",
   "id": "665982b7",
   "metadata": {},
   "source": [
    "# Overview of Co-simulation \n",
    "This file is the transmission simulation federate file. It controls the simulation of the transmission system. The code includes the dynamic simulation of transmission and the interface of data exchange with other simulators such as the distribution simulator.\n",
    "\n",
    "## Introduction\n",
    "- Cohorent execution of multiple distinct simulation objects to function together seamlessly.\n",
    "- Co-simulation is employed when a single simulator is inadequate for addressing the relevant questions.\n",
    "\n",
    "## Terminology\n",
    "- Simulator - A simulator is the executable that is able to perform some analysis function, often but not always, by solving specific problems to generate a time series of values [1].\n",
    "- Federate - An individual simulator that is used for any computation and information exchange with other federates\n",
    "- Core - An object that manages the interaction among the federates.\n",
    "- Broker - An object coordinating multiple cores or brokers. It is reponsible for passing signals between federates.\n",
    "- Federation - The set of all federates executing together in a single co-simulation\n",
    "\n",
    "## Stages of Co-simulation \n",
    "### Creation\n",
    "Federate creation involves registering an executable as a component of a HELICS federation (co-simulation) while            setting up the simulation time synchronization process and data exchange interfaces. This process establishes              the HELICS \"creation state.\"[1]\n",
    "### Initialization\n",
    "The initialization mode allows a federation to prepare for advancing through simulation time. During this phase, federates may engage in iterative data exchange to achieve a collectively consistent state, load historical or state data to initialize their internal models, or simply wait for other federates to complete these processes. Additionally, federates can use initialization mode to publish values that will be accessible to all federates within this phase or, for non-iterative cases, at simulation time 0 in the main simulation. A federate can skip this stage if it does not require visibility into other federates operating in initialization mode\n",
    "### Execution \n",
    "After a federate is created, with all subscriptions, publications, and endpoints registered, and the federation's initial state properly configured, federates transition into the main co-simulation phase by calling **helicsEnterExecutingMode()**. Upon entering this mode, the HELICS simulation time is initialized to zero, and any values published or messages sent during the initialization phase become available to the federation. The typical structure of data exchange in HELICS requires all federates to enter execution mode before any of them begin the co-simulation process.\n",
    "### Finalization\n",
    "Once a federate has completed its role in the co-simulation and simulated the required time, it must properly disconnect from the federation. This is done using the **destroy_federate(fed)** API, which notifies the core and brokers that the federate is exiting the co-simulation. Additionally, this step ensures the proper closure of the HELICS library, freeing up resources and finalizing the simulation process.\n",
    "\n",
    "\n",
    "## HELICS Capabilities\n",
    "- Scalable: Supports from 2 up to 10,000,000+ federates, enabling simulations of varying complexity.\n",
    "- Cross-Platform: Runs on Linux, Windows & macOS.\n",
    "- Modular: Flexible architecture allows seamless integration of diverse tools.\n",
    "- Open Source: Licensed under a BSD-style framework.\n",
    "- Diverse Simulation Types:\n",
    "- Discrete Event – Event-driven simulations for system behavior analysis.\n",
    "  - QSTS (Quasi-Static Time Series) – Time-series simulations for power systems.\n",
    "  - Dynamics – Captures system behavior over continuous time.\n",
    "  - Co-Iteration Enabled: Supports \"tight coupling\" for enhanced synchronization and iterative feedback between simulators."
   ]
  },
  {
   "cell_type": "markdown",
   "id": "1fed681e",
   "metadata": {},
   "source": [
    "## Transmission and Distribution (T&D) Co-simulation\n",
    "The co-simulation framework employs HELICS to synchronize Transmission (T) and Distribution (D) simulators, enabling time-step-based information exchange without intra-time step iterations. As shown in Fig. 1, the information exchange occurs sequentially, ensuring simulation robustness through structured data transfer. The dashed arrow pointing to the right represents the simulation time, while the dashed rectangles indicate the changing states of the T&D simulators over time [2].\n",
    "\n",
    "![Fig. 1. Simulation Flow in terms of Simulation time [2]](simulation_flow.jpeg)\n",
    "\n",
    "**Fig. 1. Simulation Flow in terms of Simulation time [2]**"
   ]
  },
  {
   "cell_type": "markdown",
   "id": "d716f627",
   "metadata": {},
   "source": [
    "## Integration with HELICS\n",
    "The HELICS co-simulation platform supports simulators operating across multiple time domains, with simulation time synchronization managed implicitly by a broker[2]. As shown in Fig. 2 the innformation exchange is facilitated through either subscriptions/publications or endpoint communications. The HELICS command-line interface (helics-cli) can be used within a terminal script to initiate co-simulations, allowing all simulators to run simultaneously. Additionally, variations in communication latency and packet loss can be modeled at the endpoints, enabling the simulation of cyber-physical interactions. In this example, the co-simulation platform integrates HELICS, ANDES, and OpenDSS.\n",
    "\n",
    "![Fig. 2. Co-simulation integration in HELICS [2]](helics_integration.jpg)\n",
    "\n",
    "**Fig. 2. Co-simulation integration in HELICS [2]**"
   ]
  },
  {
   "cell_type": "markdown",
   "id": "779ac9ff",
   "metadata": {},
   "source": [
    "# Transmission Federate\n",
    "This is a transmission federate that includes the simulation of the transmission system. For this co-simulation, the transmission federate publishes the voltage angle and magnitude data, which the distribution federate subscribes to. \n",
    "## Steps used to configure a transmission federate\n",
    "1. Broker initialization and creation to connect with distribution federate.\n",
    "2. Creating a federate with information.\n",
    "3. Register publication and subscription items\n",
    "4. Load system data for transmission for exectution\n",
    "5. Fix simulation step and time for co-simulaiton \n",
    "6. Run co-simulation\n",
    "\n",
    "### Simulator\n",
    "ANDES has been used as a transmission simulator for this cosimulation [3]. IT is an open-source Python library designed for power system modeling, computation, analysis, and control, acting as the core simulation engine for the CURENT Large-Scale Testbed (LTB). It enables power flow calculations, transient stability simulations, and small-signal stability analysis for transmission systems.\n",
    "\n",
    "### Methodology\n",
    "Bus 4 of the IEEE-14 bus transmission system is connected to the IEEE-34 bus distribution system. The IEEE-34 bus distribution federate publishes the values of active power (P) and reactive power (Q). The transmission federate subscribes to P and Q from the IEEE-34 bus distribution system.The simulation step used is 1 second. After each simulation step, the voltage magnitude and angle of bus 4 are published. The load of the IEEE-34 bus system undergoes random load variations with a standard deviation of 2.5%, and this variation should be reflected at bus 4 of the transmission system during co-simulation.\n",
    "\n",
    "#### To run the co-simulation, we must run Transmission_Federate.ipynb & Distrubtion_Federate.ipynb together (run all cells at once).\n"
   ]
  },
  {
   "cell_type": "markdown",
   "id": "4938474d",
   "metadata": {},
   "source": [
    "Import helics and andes.\n",
    "- If helics has not been installed, run !pip install helics inside a cell.\n",
    "- If andes has not been installed, run !pip install andes inside a cell.\n"
   ]
  },
  {
   "cell_type": "code",
   "execution_count": 1,
   "id": "772c5f64",
   "metadata": {},
   "outputs": [],
   "source": [
    "import os\n",
    "import sys\n",
    "import time\n",
    "import numpy as np\n",
    "import helics as h\n",
    "import pandas as pd\n",
    "import matplotlib.pyplot as plt\n",
    "import andes\n",
    "import scipy.stats\n",
    "import scipy.io as readmat\n",
    "import os"
   ]
  },
  {
   "cell_type": "markdown",
   "id": "c6dbc0b2",
   "metadata": {},
   "source": [
    "## Initialization to start a broker "
   ]
  },
  {
   "cell_type": "markdown",
   "id": "be3f09e4",
   "metadata": {},
   "source": [
    "Here, we initialize the main broker for this federate with two connected federates. The number '2' represents the number of federates being connected."
   ]
  },
  {
   "cell_type": "code",
   "execution_count": 2,
   "id": "c48ab956",
   "metadata": {},
   "outputs": [
    {
     "name": "stdout",
     "output_type": "stream",
     "text": [
      "Helics version = 3.5.2 (2024-04-08)\n"
     ]
    }
   ],
   "source": [
    "helicsversion = h.helicsGetVersion()\n",
    "print(\"Helics version = {}\".format(helicsversion))\n",
    "brokerinitstring = \"-f 2 --name=mainbroker\" "
   ]
  },
  {
   "cell_type": "markdown",
   "id": "e00d7e0a",
   "metadata": {},
   "source": [
    "## Create a broker\n",
    "HELICS utilizes various underlying communication technologies to facilitate coordination among co-simulation components. Some of these technologies, like ZeroMQ (zmq), are designed to be broadly applicable. Here zmq core is used while creating a broker."
   ]
  },
  {
   "cell_type": "code",
   "execution_count": 3,
   "id": "103df900",
   "metadata": {},
   "outputs": [
    {
     "name": "stdout",
     "output_type": "stream",
     "text": [
      "Broker created and connected\n"
     ]
    }
   ],
   "source": [
    "\n",
    "broker = h.helicsCreateBroker(\"zmq\", \"\", brokerinitstring)\n",
    "isconnected = h.helicsBrokerIsConnected(broker)\n",
    "if isconnected == 1:\n",
    "    print(\"Broker created and connected\")"
   ]
  },
  {
   "cell_type": "markdown",
   "id": "fd83de51",
   "metadata": {},
   "source": [
    "## Create a Transmission Federate info object"
   ]
  },
  {
   "cell_type": "markdown",
   "id": "b7285fcc",
   "metadata": {},
   "source": [
    "First, create a Federate Info object to define the federate's properties and set the core type using fedstring. Note that the minimum time step in HELICS is 1 nanosecond. A time delta of 0.01 represents the smallest interval at which the federate can receive updates if a publication occurs at 0 seconds. However, since publications take place every second in this co-simulation, the federate will receive updates at one-second intervals."
   ]
  },
  {
   "cell_type": "code",
   "execution_count": 4,
   "id": "3bb649aa",
   "metadata": {},
   "outputs": [],
   "source": [
    "federate_name=\"Transmission\"\n",
    "fedinfo = h.helicsCreateFederateInfo()\n",
    "fedinitstring = \"--broker=mainbroker --federates=1\" \n",
    "h.helicsFederateInfoSetCoreName(fedinfo, f\"{federate_name}\") \n",
    "h.helicsFederateInfoSetCoreTypeFromString(fedinfo, \"zmq\") \n",
    "h.helicsFederateInfoSetCoreInitString(fedinfo, fedinitstring) \n",
    "h.helicsFederateInfoSetTimeProperty(fedinfo, h.helics_property_time_delta, 0.01)"
   ]
  },
  {
   "cell_type": "markdown",
   "id": "6da053b3",
   "metadata": {},
   "source": [
    "## Create a value federate"
   ]
  },
  {
   "cell_type": "markdown",
   "id": "0c768e42",
   "metadata": {},
   "source": [
    "Based on the type of data exchange, the federate is created. Here, we create a value federate, as the federates simulate the physics of the system. Value federates provide information about the physical values of the system with associated units. Since the signals for publication and subscription are power and voltage, both federates in this co-simulation are value federates."
   ]
  },
  {
   "cell_type": "code",
   "execution_count": 5,
   "id": "56642c30",
   "metadata": {},
   "outputs": [
    {
     "name": "stdout",
     "output_type": "stream",
     "text": [
      "Transmission: Value federate created\n"
     ]
    }
   ],
   "source": [
    "fed = h.helicsCreateValueFederate(f\"{federate_name}\", fedinfo)\n",
    "print(f\"{federate_name}: Value federate created\", flush=True)"
   ]
  },
  {
   "cell_type": "markdown",
   "id": "eb436194",
   "metadata": {},
   "source": [
    "Set the publication and subscription items in a dictionary and register the publications and subscriptions."
   ]
  },
  {
   "cell_type": "code",
   "execution_count": 6,
   "id": "bc2ca121",
   "metadata": {},
   "outputs": [],
   "source": [
    "PUBLICATIONS = {}\n",
    "SUBSCRIPTIONS = {}\n",
    "publications={\n",
    "    \"transmission_voltage/bus_4\": {\n",
    "      \"pub_interval\": 1,\n",
    "      \"type\": \"complex\",\n",
    "      \"global\": True,\n",
    "      \"unit\": \"pu\",\n",
    "      \"vbase\": 69,\n",
    "      \"vbase_unit\": \"kv\",\n",
    "      \"topic\": \"TransmissionSim/Voltage_4\",\n",
    "      \"value\": \"Voltage\",\n",
    "      \"element_name\": \"4\",\n",
    "      \"element_type\": \"Bus\"\n",
    "    }\n",
    "}\n",
    "subscriptions={\n",
    "    \"34Bus\": {\n",
    "      \"type\": \"complex\",\n",
    "      \"required\": True,\n",
    "      \"sub_interval\": 1,\n",
    "      \"topic\": \"34Bus/Totalpower\",\n",
    "      \"value\": \"Powers\",\n",
    "      \"element_name\": \"4\",\n",
    "      \"bus_PQ_index\": 2\n",
    "    }\n",
    "  }\n",
    "for k, v in publications.items():\n",
    "    pub = h.helicsFederateRegisterGlobalTypePublication(fed, v['topic'], v['type'], \"\") # register to helics\n",
    "    PUBLICATIONS[k] = pub # store the HELICS object\n",
    "\n",
    "for k, v in subscriptions.items():\n",
    "    sub = h.helicsFederateRegisterSubscription(fed, v['topic'], \"\")\n",
    "    SUBSCRIPTIONS[k] = sub  # store the HELICS object"
   ]
  },
  {
   "cell_type": "markdown",
   "id": "33d9f65d",
   "metadata": {},
   "source": [
    "## Enter Execution"
   ]
  },
  {
   "cell_type": "markdown",
   "id": "90dca012",
   "metadata": {},
   "source": [
    "Here, we enter the execution mode. When we do not run the connected federates synchronously, the program might get stuck at this step. Restart the kernel in such a scenario and run them together. Therefore, we must run all the cells in parallel for all the federates. Each federate needs to enter execution mode before beginning to exchange information."
   ]
  },
  {
   "cell_type": "code",
   "execution_count": 7,
   "id": "fe096a57",
   "metadata": {},
   "outputs": [
    {
     "name": "stdout",
     "output_type": "stream",
     "text": [
      "Transmission: Entering execution mode\n"
     ]
    }
   ],
   "source": [
    "h.helicsFederateEnterExecutingMode(fed)\n",
    "print(f\"{federate_name}: Entering execution mode\", flush=True)"
   ]
  },
  {
   "cell_type": "markdown",
   "id": "08356584",
   "metadata": {},
   "source": [
    "## Load case and run powerflow"
   ]
  },
  {
   "cell_type": "markdown",
   "id": "560617a1",
   "metadata": {},
   "source": [
    "For the simulation of the transmission system, we use ANDES. ANDES uses a standard file format in xlsx. To set up the dynamic time-domain simulation, we first run the steady-state power flow."
   ]
  },
  {
   "cell_type": "code",
   "execution_count": 8,
   "id": "56135a4a",
   "metadata": {},
   "outputs": [
    {
     "name": "stderr",
     "output_type": "stream",
     "text": [
      "Working directory: \"C:\\Users\\pb1052\\Desktop\\powercybertraining.github.io\\pct\\modules\\06\"\n",
      "> Loaded config from file \"C:\\Users\\pb1052\\.andes\\andes.rc\"\n",
      "> Loaded generated Python code in \"C:\\Users\\pb1052\\.andes\\pycode\".\n",
      "Parsing input file \"C:\\Users\\pb1052\\Desktop\\powercybertraining.github.io\\pct\\modules\\06\\network_model\\ieee14_full.xlsx\"...\n",
      "Input file parsed in 1.3575 seconds.\n",
      "System internal structure set up in 0.1579 seconds.\n",
      "-> System connectivity check results:\n",
      "  No islanded bus detected.\n",
      "  System is interconnected.\n",
      "  Each island has a slack bus correctly defined and enabled.\n",
      "\n",
      "-> Power flow calculation\n",
      "           Numba: Off\n",
      "   Sparse solver: KLU\n",
      " Solution method: NR method\n",
      "Power flow initialized in 0.0300 seconds.\n",
      "0: |F(x)| = 0.5605182134\n",
      "1: |F(x)| = 0.006202200332\n",
      "2: |F(x)| = 5.819382825e-06\n",
      "3: |F(x)| = 6.957087684e-12\n",
      "Converged in 4 iterations in 0.0318 seconds.\n"
     ]
    }
   ],
   "source": [
    "tr_path=os.getcwd() \n",
    "file_name = 'ieee14_full.xlsx'\n",
    "path_to_transmission_xlsx = os.path.join(tr_path, \"network_model\",file_name)\n",
    "andes.config_logger(stream_level=20)\n",
    "ieee14 = andes.get_case(path_to_transmission_xlsx)\n",
    "ss = andes.load(ieee14, setup=False, no_output=True)\n",
    "ss.setup()\n",
    "ss.PQ.config.p2p = 1 \n",
    "ss.PQ.config.q2q = 1\n",
    "ss.PQ.config.p2z = 0\n",
    "ss.PQ.config.q2z = 0\n",
    "ss.PQ.pq2z = 0\n",
    "ss.PFlow.run()\n",
    "os.chdir(tr_path)"
   ]
  },
  {
   "cell_type": "markdown",
   "id": "24843ffd",
   "metadata": {},
   "source": [
    "## Initilization for TDS (time -domain-simulation)"
   ]
  },
  {
   "cell_type": "code",
   "execution_count": 9,
   "id": "f07f3c91",
   "metadata": {},
   "outputs": [
    {
     "name": "stderr",
     "output_type": "stream",
     "text": [
      "Initialization for dynamics completed in 0.2207 seconds.\n",
      "Initialization was successful.\n"
     ]
    }
   ],
   "source": [
    "\n",
    "ss.TDS.init()\n",
    "ss.TDS.criteria = 0"
   ]
  },
  {
   "cell_type": "markdown",
   "id": "cd2bea34",
   "metadata": {},
   "source": [
    "## Main Loop for Co-simulation"
   ]
  },
  {
   "cell_type": "markdown",
   "id": "c4da1314",
   "metadata": {},
   "source": [
    "This is the main loop for co-simulation. In this loop, the TDS is executed every second, and the voltage magnitude and angles for bus 4 are published. Similarly, the subscriptions for active and reactive power also occur in the main loop. The loop terminates once the total requested simulation time is reached. Once terminated, the federate must be closed. We only use the active power from the distribution federate, although we receive both active and reactive power."
   ]
  },
  {
   "cell_type": "code",
   "execution_count": 10,
   "id": "37497bf2",
   "metadata": {},
   "outputs": [
    {
     "name": "stderr",
     "output_type": "stream",
     "text": [
      "\n",
      "-> Time Domain Simulation Summary:\n",
      "Sparse Solver: KLU\n",
      "Simulation time: 0.0-1 s.\n",
      "Fixed step size: h=10 ms. Shrink if not converged.\n"
     ]
    },
    {
     "name": "stdout",
     "output_type": "stream",
     "text": [
      "=============================\n",
      "request_time=0\n",
      "current_time=0\n",
      "Received active power from 34Bus at time 0: -1e+49 kw\n",
      "Received reactive power (not use) from 34Bus at time 0: 0.0 kvar\n",
      "manually set up first step load bus P and Q\n"
     ]
    },
    {
     "data": {
      "application/vnd.jupyter.widget-view+json": {
       "model_id": "d3f4513897074b86b6cedd29a0bc8df4",
       "version_major": 2,
       "version_minor": 0
      },
      "text/plain": [
       "  0%|          | 0/100 [00:00<?, ?%/s]"
      ]
     },
     "metadata": {},
     "output_type": "display_data"
    },
    {
     "name": "stderr",
     "output_type": "stream",
     "text": [
      "Simulation to t=1.00 sec completed in 0.7579 seconds.\n"
     ]
    },
    {
     "name": "stdout",
     "output_type": "stream",
     "text": [
      "Sent voltage mag at time 0: 1.0114034500520985 pu from Bus 4\n",
      "Sent voltage ang at time 0: -0.07696511657375282 rad from Bus 4\n",
      "=============================\n",
      "request_time=1\n",
      "current_time=1.0\n",
      "Received active power from 34Bus at time 1.0: 47801.63821906519 kw\n",
      "Received reactive power (not use) from 34Bus at time 1.0: 7409.155582643104 kvar\n"
     ]
    },
    {
     "data": {
      "application/vnd.jupyter.widget-view+json": {
       "model_id": "73ae5761646041fd8a87d67b913d47ce",
       "version_major": 2,
       "version_minor": 0
      },
      "text/plain": [
       "  0%|          | 0/100 [00:00<?, ?%/s]"
      ]
     },
     "metadata": {},
     "output_type": "display_data"
    },
    {
     "name": "stderr",
     "output_type": "stream",
     "text": [
      "Simulation to t=2.00 sec completed in 1.1523 seconds.\n"
     ]
    },
    {
     "name": "stdout",
     "output_type": "stream",
     "text": [
      "Sent voltage mag at time 1.0: 1.0114017897852616 pu from Bus 4\n",
      "Sent voltage ang at time 1.0: -0.07701999689473964 rad from Bus 4\n",
      "=============================\n",
      "request_time=2\n",
      "current_time=2.0\n",
      "Received active power from 34Bus at time 2.0: 44555.32097323309 kw\n",
      "Received reactive power (not use) from 34Bus at time 2.0: 4131.780286959751 kvar\n"
     ]
    },
    {
     "data": {
      "application/vnd.jupyter.widget-view+json": {
       "model_id": "1f7e71280aec41f4a28f83e277308613",
       "version_major": 2,
       "version_minor": 0
      },
      "text/plain": [
       "  0%|          | 0/100 [00:00<?, ?%/s]"
      ]
     },
     "metadata": {},
     "output_type": "display_data"
    },
    {
     "name": "stderr",
     "output_type": "stream",
     "text": [
      "Simulation to t=3.00 sec completed in 1.5256 seconds.\n"
     ]
    },
    {
     "name": "stdout",
     "output_type": "stream",
     "text": [
      "Sent voltage mag at time 2.0: 1.0150471521545343 pu from Bus 4\n",
      "Sent voltage ang at time 2.0: 0.03771978943092093 rad from Bus 4\n",
      "=============================\n",
      "request_time=3\n",
      "current_time=3.0\n",
      "Received active power from 34Bus at time 3.0: 48936.626802411876 kw\n",
      "Received reactive power (not use) from 34Bus at time 3.0: 8771.692939510162 kvar\n"
     ]
    },
    {
     "data": {
      "application/vnd.jupyter.widget-view+json": {
       "model_id": "1863c964308a442ab7a9e01168d01ed2",
       "version_major": 2,
       "version_minor": 0
      },
      "text/plain": [
       "  0%|          | 0/100 [00:00<?, ?%/s]"
      ]
     },
     "metadata": {},
     "output_type": "display_data"
    },
    {
     "name": "stderr",
     "output_type": "stream",
     "text": [
      "Simulation to t=4.00 sec completed in 2.2365 seconds.\n"
     ]
    },
    {
     "name": "stdout",
     "output_type": "stream",
     "text": [
      "Sent voltage mag at time 3.0: 1.0102428412284292 pu from Bus 4\n",
      "Sent voltage ang at time 3.0: 0.11948258019445407 rad from Bus 4\n",
      "=============================\n",
      "request_time=4\n",
      "current_time=4.0\n",
      "Received active power from 34Bus at time 4.0: 48665.00424393096 kw\n",
      "Received reactive power (not use) from 34Bus at time 4.0: 8410.171636300856 kvar\n"
     ]
    },
    {
     "data": {
      "application/vnd.jupyter.widget-view+json": {
       "model_id": "7c9a144e0676474fa0d1c4c259c659bd",
       "version_major": 2,
       "version_minor": 0
      },
      "text/plain": [
       "  0%|          | 0/100 [00:00<?, ?%/s]"
      ]
     },
     "metadata": {},
     "output_type": "display_data"
    },
    {
     "name": "stderr",
     "output_type": "stream",
     "text": [
      "Simulation to t=5.00 sec completed in 1.3206 seconds.\n"
     ]
    },
    {
     "name": "stdout",
     "output_type": "stream",
     "text": [
      "Sent voltage mag at time 4.0: 1.0093102038445478 pu from Bus 4\n",
      "Sent voltage ang at time 4.0: 0.08130224185712621 rad from Bus 4\n",
      "=============================\n",
      "request_time=5\n",
      "current_time=5.0\n",
      "Received active power from 34Bus at time 5.0: 47629.57937222962 kw\n",
      "Received reactive power (not use) from 34Bus at time 5.0: 6634.29313883343 kvar\n"
     ]
    },
    {
     "data": {
      "application/vnd.jupyter.widget-view+json": {
       "model_id": "a1c4e11d8e174569a0893d1c8eeecd0b",
       "version_major": 2,
       "version_minor": 0
      },
      "text/plain": [
       "  0%|          | 0/100 [00:00<?, ?%/s]"
      ]
     },
     "metadata": {},
     "output_type": "display_data"
    },
    {
     "name": "stderr",
     "output_type": "stream",
     "text": [
      "Simulation to t=6.00 sec completed in 1.2844 seconds.\n"
     ]
    },
    {
     "name": "stdout",
     "output_type": "stream",
     "text": [
      "Sent voltage mag at time 5.0: 1.0109718580124958 pu from Bus 4\n",
      "Sent voltage ang at time 5.0: 0.03995230968111265 rad from Bus 4\n",
      "=============================\n",
      "request_time=6\n",
      "current_time=6.0\n",
      "Received active power from 34Bus at time 6.0: 48293.16388524481 kw\n",
      "Received reactive power (not use) from 34Bus at time 6.0: 8039.064697773521 kvar\n"
     ]
    },
    {
     "data": {
      "application/vnd.jupyter.widget-view+json": {
       "model_id": "aad39369877049da88f2e310550c1d00",
       "version_major": 2,
       "version_minor": 0
      },
      "text/plain": [
       "  0%|          | 0/100 [00:00<?, ?%/s]"
      ]
     },
     "metadata": {},
     "output_type": "display_data"
    },
    {
     "name": "stderr",
     "output_type": "stream",
     "text": [
      "Simulation to t=7.00 sec completed in 1.4057 seconds.\n"
     ]
    },
    {
     "name": "stdout",
     "output_type": "stream",
     "text": [
      "Sent voltage mag at time 6.0: 1.0109823766112858 pu from Bus 4\n",
      "Sent voltage ang at time 6.0: 0.009963599003813623 rad from Bus 4\n",
      "=============================\n",
      "request_time=7\n",
      "current_time=7.0\n",
      "Received active power from 34Bus at time 7.0: 46564.21698968369 kw\n",
      "Received reactive power (not use) from 34Bus at time 7.0: 5827.129031845077 kvar\n"
     ]
    },
    {
     "data": {
      "application/vnd.jupyter.widget-view+json": {
       "model_id": "ed4a3082d36e446384dfb94e8450f9f6",
       "version_major": 2,
       "version_minor": 0
      },
      "text/plain": [
       "  0%|          | 0/100 [00:00<?, ?%/s]"
      ]
     },
     "metadata": {},
     "output_type": "display_data"
    },
    {
     "name": "stderr",
     "output_type": "stream",
     "text": [
      "Simulation to t=8.00 sec completed in 1.3704 seconds.\n"
     ]
    },
    {
     "name": "stdout",
     "output_type": "stream",
     "text": [
      "Sent voltage mag at time 7.0: 1.0129721486187104 pu from Bus 4\n",
      "Sent voltage ang at time 7.0: 0.03572267205559312 rad from Bus 4\n",
      "=============================\n",
      "request_time=8\n",
      "current_time=8.0\n",
      "Received active power from 34Bus at time 8.0: 48751.534020578525 kw\n",
      "Received reactive power (not use) from 34Bus at time 8.0: 8571.596419497073 kvar\n"
     ]
    },
    {
     "data": {
      "application/vnd.jupyter.widget-view+json": {
       "model_id": "f0a223b634ea447e95ba7517ac5b8559",
       "version_major": 2,
       "version_minor": 0
      },
      "text/plain": [
       "  0%|          | 0/100 [00:00<?, ?%/s]"
      ]
     },
     "metadata": {},
     "output_type": "display_data"
    },
    {
     "name": "stderr",
     "output_type": "stream",
     "text": [
      "Simulation to t=9.00 sec completed in 1.7288 seconds.\n"
     ]
    },
    {
     "name": "stdout",
     "output_type": "stream",
     "text": [
      "Sent voltage mag at time 8.0: 1.010694513796309 pu from Bus 4\n",
      "Sent voltage ang at time 8.0: 0.04614371938109189 rad from Bus 4\n",
      "=============================\n",
      "request_time=9\n",
      "current_time=9.0\n",
      "Received active power from 34Bus at time 9.0: 46699.97595885882 kw\n",
      "Received reactive power (not use) from 34Bus at time 9.0: 5828.557753324128 kvar\n"
     ]
    },
    {
     "data": {
      "application/vnd.jupyter.widget-view+json": {
       "model_id": "946886f46fd6449d8f7714d96f457d72",
       "version_major": 2,
       "version_minor": 0
      },
      "text/plain": [
       "  0%|          | 0/100 [00:00<?, ?%/s]"
      ]
     },
     "metadata": {},
     "output_type": "display_data"
    },
    {
     "name": "stderr",
     "output_type": "stream",
     "text": [
      "Simulation to t=10.00 sec completed in 1.7383 seconds.\n"
     ]
    },
    {
     "name": "stdout",
     "output_type": "stream",
     "text": [
      "Sent voltage mag at time 9.0: 1.0123827870294335 pu from Bus 4\n",
      "Sent voltage ang at time 9.0: 0.06708615369974795 rad from Bus 4\n",
      "=============================\n",
      "request_time=10\n",
      "current_time=10.0\n",
      "Received active power from 34Bus at time 10.0: 49850.86564904258 kw\n",
      "Received reactive power (not use) from 34Bus at time 10.0: 9818.809130524067 kvar\n"
     ]
    },
    {
     "data": {
      "application/vnd.jupyter.widget-view+json": {
       "model_id": "ae727578376f4020819d651885e5bd22",
       "version_major": 2,
       "version_minor": 0
      },
      "text/plain": [
       "  0%|          | 0/100 [00:00<?, ?%/s]"
      ]
     },
     "metadata": {},
     "output_type": "display_data"
    },
    {
     "name": "stderr",
     "output_type": "stream",
     "text": [
      "Simulation to t=11.00 sec completed in 1.7847 seconds.\n"
     ]
    },
    {
     "name": "stdout",
     "output_type": "stream",
     "text": [
      "Sent voltage mag at time 10.0: 1.0092901285406106 pu from Bus 4\n",
      "Sent voltage ang at time 10.0: 0.027644899680144122 rad from Bus 4\n",
      "=============================\n",
      "request_time=11\n",
      "current_time=11.0\n",
      "Received active power from 34Bus at time 11.0: 47790.67606338326 kw\n",
      "Received reactive power (not use) from 34Bus at time 11.0: 7319.615641070466 kvar\n"
     ]
    },
    {
     "data": {
      "application/vnd.jupyter.widget-view+json": {
       "model_id": "23af76c2e929451787fc8953a9c2b6f5",
       "version_major": 2,
       "version_minor": 0
      },
      "text/plain": [
       "  0%|          | 0/100 [00:00<?, ?%/s]"
      ]
     },
     "metadata": {},
     "output_type": "display_data"
    },
    {
     "name": "stderr",
     "output_type": "stream",
     "text": [
      "Simulation to t=12.00 sec completed in 1.7329 seconds.\n"
     ]
    },
    {
     "name": "stdout",
     "output_type": "stream",
     "text": [
      "Sent voltage mag at time 11.0: 1.0112549300302598 pu from Bus 4\n",
      "Sent voltage ang at time 11.0: -0.027862560702964737 rad from Bus 4\n",
      "=============================\n",
      "request_time=12\n",
      "current_time=12.0\n",
      "Received active power from 34Bus at time 12.0: 48687.91038993947 kw\n",
      "Received reactive power (not use) from 34Bus at time 12.0: 8335.418469261398 kvar\n"
     ]
    },
    {
     "data": {
      "application/vnd.jupyter.widget-view+json": {
       "model_id": "940ccc4f2a834bf6a6741aa3559fa5c7",
       "version_major": 2,
       "version_minor": 0
      },
      "text/plain": [
       "  0%|          | 0/100 [00:00<?, ?%/s]"
      ]
     },
     "metadata": {},
     "output_type": "display_data"
    },
    {
     "name": "stderr",
     "output_type": "stream",
     "text": [
      "Simulation to t=13.00 sec completed in 1.7492 seconds.\n"
     ]
    },
    {
     "name": "stdout",
     "output_type": "stream",
     "text": [
      "Sent voltage mag at time 12.0: 1.0110126068999175 pu from Bus 4\n",
      "Sent voltage ang at time 12.0: -0.06834605251916671 rad from Bus 4\n",
      "=============================\n",
      "request_time=13\n",
      "current_time=13.0\n",
      "Received active power from 34Bus at time 13.0: 47564.54169136476 kw\n",
      "Received reactive power (not use) from 34Bus at time 13.0: 7169.053648209873 kvar\n"
     ]
    },
    {
     "data": {
      "application/vnd.jupyter.widget-view+json": {
       "model_id": "cd7838b95aa74d7298478b2c936bc21a",
       "version_major": 2,
       "version_minor": 0
      },
      "text/plain": [
       "  0%|          | 0/100 [00:00<?, ?%/s]"
      ]
     },
     "metadata": {},
     "output_type": "display_data"
    },
    {
     "name": "stderr",
     "output_type": "stream",
     "text": [
      "Simulation to t=14.00 sec completed in 1.4800 seconds.\n"
     ]
    },
    {
     "name": "stdout",
     "output_type": "stream",
     "text": [
      "Sent voltage mag at time 13.0: 1.0121787071863926 pu from Bus 4\n",
      "Sent voltage ang at time 13.0: -0.0782936099467949 rad from Bus 4\n",
      "=============================\n",
      "request_time=14\n",
      "current_time=14.0\n",
      "Received active power from 34Bus at time 14.0: 46406.50206760576 kw\n",
      "Received reactive power (not use) from 34Bus at time 14.0: 5405.051761514724 kvar\n"
     ]
    },
    {
     "data": {
      "application/vnd.jupyter.widget-view+json": {
       "model_id": "4199fa8d5dbb459fac3792dffb5ab327",
       "version_major": 2,
       "version_minor": 0
      },
      "text/plain": [
       "  0%|          | 0/100 [00:00<?, ?%/s]"
      ]
     },
     "metadata": {},
     "output_type": "display_data"
    },
    {
     "name": "stderr",
     "output_type": "stream",
     "text": [
      "Simulation to t=15.00 sec completed in 1.5499 seconds.\n"
     ]
    },
    {
     "name": "stdout",
     "output_type": "stream",
     "text": [
      "Sent voltage mag at time 14.0: 1.0135693277385962 pu from Bus 4\n",
      "Sent voltage ang at time 14.0: -0.012455029343775645 rad from Bus 4\n",
      "Federate finalized\n"
     ]
    }
   ],
   "source": [
    "total_time=15 \n",
    "simulation_step_time=1\n",
    "current_time=0\n",
    "shed_buses = ss.PQ.bus.v\n",
    "pq_shed_idx = ss.PQ.find_idx(keys='bus', values=shed_buses)\n",
    "P_active=[]\n",
    "Q_reactive=[]\n",
    "time_list=[]\n",
    "for request_time in np.arange(0, total_time, simulation_step_time):\n",
    "    while current_time < request_time:\n",
    "        current_time = h.helicsFederateRequestTime(fed, request_time)\n",
    "    print(\"=============================\")\n",
    "    print(f\"request_time={request_time}\")\n",
    "    print(f\"current_time={current_time}\")\n",
    "    for key, sub in SUBSCRIPTIONS.items():\n",
    "        if subscriptions[key]['value']=='Powers':\n",
    "            if current_time % subscriptions[key]['sub_interval']<=1e-6:\n",
    "                val = h.helicsInputGetComplex(sub) # val is P, Q\n",
    "                bus_name = subscriptions[key]['element_name']\n",
    "                bus_PQ_index = int(subscriptions[key]['bus_PQ_index'])\n",
    "                P, Q = val.real,val.imag\n",
    "                print(\"Received active power from {} at time {}: {} kw\".format(key, current_time, P))\n",
    "                print(\"Received reactive power (not use) from {} at time {}: {} kvar\".format(key, current_time, Q))\n",
    "                # convert to pu\n",
    "                P = P/1e5\n",
    "                Q = Q/1e5\n",
    "\n",
    "            if current_time == 0:\n",
    "                print(\"manually set up first step load bus P and Q\")\n",
    "                P = ss.PQ.p0.v[int(bus_PQ_index)]\n",
    "                Q = 0\n",
    "            P_active.append(P)\n",
    "            Q_reactive.append(Q)\n",
    "            time_list.append(current_time)\n",
    "            ss.PQ.set(src='Ppf', idx=pq_shed_idx[int(bus_PQ_index)], attr='v', value=P) # set load as P\n",
    "            \n",
    "    ss.TDS.config.tf = current_time + simulation_step_time\n",
    "    ss.TDS.run()\n",
    "    \n",
    "    #Get the PUBLICATION OUT\n",
    "    for key, pub in PUBLICATIONS.items():\n",
    "        if publications[key]['value']=='Voltage':\n",
    "            bus_name = publications[key]['element_name']\n",
    "            element_type = publications[key]['element_type']\n",
    "\n",
    "            val1 = ss.Bus.v.v[int(bus_name)-1]\n",
    "            val2 = ss.Bus.a.v[int(bus_name)-1]\n",
    "            if current_time % publications[key]['pub_interval']<=1e-6:\n",
    "                print(\"Sent voltage mag at time {}: {} pu from {} {}\".format(current_time, val1, element_type, bus_name))\n",
    "                print(\"Sent voltage ang at time {}: {} rad from {} {}\".format(current_time, val2, element_type, bus_name))\n",
    "               \n",
    "                h.helicsPublicationPublishComplex(pub, val1, val2)\n",
    "    if ss.exit_code != 0:\n",
    "        raise ValueError(current_time)\n",
    "        \n",
    "h.helicsFederateDestroy(fed)\n",
    "print('Federate finalized')"
   ]
  },
  {
   "cell_type": "markdown",
   "id": "ecd676c9",
   "metadata": {},
   "source": [
    "Here, we plot the received active and reactive power from the distribution federate."
   ]
  },
  {
   "cell_type": "code",
   "execution_count": 11,
   "id": "cd2bba9e",
   "metadata": {
    "scrolled": false
   },
   "outputs": [
    {
     "data": {
      "image/png": "[encoded data removed]",
      "text/plain": [
       "<Figure size 640x480 with 1 Axes>"
      ]
     },
     "metadata": {},
     "output_type": "display_data"
    }
   ],
   "source": [
    "import matplotlib.pyplot as plt\n",
    "import matplotlib\n",
    "%matplotlib inline\n",
    "plt.figure(figsize=(6.4, 4.8))\n",
    "plt.plot(time_list, P_active, label=\"P (Active Power)\", marker='o', linestyle='-')\n",
    "plt.plot(time_list, Q_reactive, label=\"Q (Reactive Power)\", marker='s', linestyle='--')\n",
    "plt.xlabel(\"Time (s)\")\n",
    "plt.ylabel(\"Power (pu)\")\n",
    "plt.title(\" Recieved Active & Reactive Power vs Time(s)\")\n",
    "plt.legend()\n",
    "plt.grid(True)\n",
    "plt.show()\n"
   ]
  },
  {
   "cell_type": "markdown",
   "id": "2ebe20f8",
   "metadata": {},
   "source": [
    "Here, we plot frequency at bus 4 (load bus) of transmission system."
   ]
  },
  {
   "cell_type": "code",
   "execution_count": 12,
   "id": "5ec6125c",
   "metadata": {},
   "outputs": [
    {
     "data": {
      "image/png": "[encoded data removed]",
      "text/plain": [
       "<Figure size 640x480 with 1 Axes>"
      ]
     },
     "metadata": {},
     "output_type": "display_data"
    },
    {
     "data": {
      "text/plain": [
       "(<Figure size 640x480 with 1 Axes>,\n",
       " <Axes: title={'center': 'Frequency at Bus 4'}, xlabel='Time [s]', ylabel='Frequency (Hz/s)'>)"
      ]
     },
     "execution_count": 12,
     "metadata": {},
     "output_type": "execute_result"
    }
   ],
   "source": [
    "ss.TDS.load_plotter()\n",
    "ss.TDS.plt.plot(ss.BusFreq.f,ylabel='Frequency (Hz/s)',a=(3,),ytimes=60,title='Frequency at Bus 4',grid=True)"
   ]
  },
  {
   "cell_type": "markdown",
   "id": "b1cca929",
   "metadata": {},
   "source": [
    "# Result Analysis\n",
    "At every 1 second, the transmission federate receives P and Q values for the load at bus 4 from the distribution federate. Since there is load variation in the distribution feeder at each second, it can be observed in the P & Q values received by the transmission federate. After receiving the values of P & Q, the transmission federate runs the simulation for the next time steps and sends the voltage magnitude and angle to the distribution federate through publication."
   ]
  },
  {
   "cell_type": "markdown",
   "id": "4dd2744a",
   "metadata": {},
   "source": [
    "# References"
   ]
  },
  {
   "cell_type": "markdown",
   "id": "a3de0cda",
   "metadata": {},
   "source": [
    "1. T. D. Hardy, B. Palmintier, P. L. Top, D. Krishnamurthy, and J. C. Fuller, “Helics: A co-simulation framework for scalable multi-domain modeling and analysis,” IEEE Access, vol. 12, pp.24 325–24 347, 2024.\n",
    "2. W. Wang, X. Fang, H. Cui, F. Li, Y. Liu, and T. J. Overbye,“Transmission-and-distribution dynamic co-simulation framework for distributed energy resource frequency response,” IEEE Transactions on Smart Grid, vol. 13, no. 1, pp. 482–495, 2021.\n",
    "3. H. Cui, F. Li, and K. Tomsovic, “Hybrid symbolic-numeric framework for power system modeling and analysis,” IEEE Trans. Power Syst., vol. 36, no. 2, pp. 1373–1384, 2021."
   ]
  },
  {
   "cell_type": "code",
   "execution_count": null,
   "id": "7b7dd6f4",
   "metadata": {},
   "outputs": [],
   "source": []
  }
 ],
 "metadata": {
  "kernelspec": {
   "display_name": "Python 3 (ipykernel)",
   "language": "python",
   "name": "python3"
  },
  "language_info": {
   "codemirror_mode": {
    "name": "ipython",
    "version": 3
   },
   "file_extension": ".py",
   "mimetype": "text/x-python",
   "name": "python",
   "nbconvert_exporter": "python",
   "pygments_lexer": "ipython3",
   "version": "3.11.9"
  }
 },
 "nbformat": 4,
 "nbformat_minor": 5
}
