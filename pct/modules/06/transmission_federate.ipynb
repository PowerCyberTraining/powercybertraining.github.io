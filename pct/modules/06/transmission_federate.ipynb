{
 "cells": [
  {
   "cell_type": "markdown",
   "id": "665982b7",
   "metadata": {
    "editable": true,
    "slideshow": {
     "slide_type": ""
    },
    "tags": []
   },
   "source": [
    "# Transmission Federate\n",
    "\n",
    "Having explored the fundamental concepts of transmission-distribution co-simulation in the previous notebook, we now turn to the practical implementation of the transmission system federate. This notebook demonstrates how to configure ANDES as a HELICS federate that simulates the transmission network and exchanges data with the distribution system simulator. The implementation here brings to life the theoretical concepts we studied, showing how voltage and power data flow between the two domains in a synchronized manner.\n",
    "\n",
    "## Overview\n",
    "\n",
    "In the cosim-fundamentals notebook, we manually calculated power flow across a T&D interface and understood why separate simulators are necessary. We learned that transmission systems provide voltage (magnitude and angle) while distribution systems provide power demand (P and Q). Now we'll implement this data exchange using HELICS to coordinate ANDES (transmission) and OpenDSS (distribution) automatically.\n",
    "\n",
    "This implementation uses the IEEE 14-bus transmission system, with bus 4 serving as the interface to the distribution network. The transmission federate subscribes to power values from the distribution system and publishes voltage values back, creating the bidirectional coupling essential for accurate T&D analysis.\n",
    "\n",
    "## HELICS Federation Terminology\n",
    "\n",
    "Before going into the code, let's clarify the key terms we'll encounter. A **simulator** is the executable that performs analysis functions, in our case ANDES for transmission dynamics. A **federate** is an individual simulator participating in the co-simulation, exchanging information with other federates. The **core** manages interactions among federates, while the **broker** coordinates multiple cores, passing signals between federates. Together, all federates executing in a single co-simulation form the **federation**.\n",
    "\n",
    "## Co-simulation Execution Stages\n",
    "\n",
    "Every HELICS co-simulation progresses through four distinct stages that ensure proper synchronization and data exchange between federates.\n",
    "\n",
    "### Creation Stage\n",
    "During creation, we register ANDES as a component of the HELICS federation, establishing time synchronization and data exchange interfaces. This process configures how our transmission federate will communicate with the distribution federate.\n",
    "\n",
    "### Initialization Stage\n",
    "The initialization phase allows both federates to prepare for time-stepping. Here, federates can exchange initial values to achieve a consistent starting state. For our transmission system, this means running an initial power flow to establish steady-state conditions before beginning the dynamic simulation.\n",
    "\n",
    "### Execution Stage\n",
    "Once initialization completes, federates enter the main simulation loop by calling `helicsEnterExecutingMode()`. The simulation time starts at zero, and values published during initialization become available. In each time step, our transmission federate receives power values, updates its load model, runs a dynamic simulation step, and publishes resulting voltages.\n",
    "\n",
    "### Finalization Stage\n",
    "After simulating the required time period, the federate properly disconnects using `destroy_federate()`, notifying the broker that it's exiting and freeing up resources. This ensures clean termination of the co-simulation.\n"
   ]
  },
  {
   "cell_type": "markdown",
   "id": "1fed681e",
   "metadata": {
    "editable": true,
    "slideshow": {
     "slide_type": ""
    },
    "tags": []
   },
   "source": [
    "## Transmission and Distribution Co-simulation Architecture\n",
    "\n",
    "The co-simulation framework employs HELICS to synchronize the transmission and distribution simulators, enabling structured data exchange at each time step. The information flow follows a sequential pattern that ensures robust simulation through careful timing coordination. As illustrated in Figure 1, the simulation progresses through time with each federate maintaining its own state while exchanging critical interface variables.\n",
    "\n",
    "![Fig. 1. Simulation Flow in terms of Simulation time [2]](simulation_flow.jpeg)\n",
    "\n",
    "**Fig. 1. Simulation Flow in terms of Simulation time [2]**\n",
    "\n",
    "The sequential exchange pattern we implement here avoids the complexity of iterative solutions while still capturing the essential T&D interactions. At each time step, the transmission federate sends voltage information to the distribution federate, which uses this to solve its power flow. The distribution federate then returns the total power demand, which becomes the load at the transmission interface bus for the next time step. This approach mirrors the manual calculation from our conceptual introduction but automates it across many time steps."
   ]
  },
  {
   "cell_type": "markdown",
   "id": "d716f627",
   "metadata": {
    "editable": true,
    "slideshow": {
     "slide_type": ""
    },
    "tags": []
   },
   "source": [
    "## Integration with HELICS\n",
    "The HELICS co-simulation platform supports simulators operating across multiple time domains, with simulation time synchronization managed implicitly by a broker[2]. As shown in Fig. 2 the innformation exchange is facilitated through either subscriptions/publications or endpoint communications. The HELICS command-line interface (helics-cli) can be used within a terminal script to initiate co-simulations, allowing all simulators to run simultaneously. Additionally, variations in communication latency and packet loss can be modeled at the endpoints, enabling the simulation of cyber-physical interactions. In this example, the co-simulation platform integrates HELICS, ANDES, and OpenDSS.\n",
    "\n",
    "![Fig. 2. Co-simulation integration in HELICS [2]](helics_integration.jpg)\n",
    "\n",
    "**Fig. 2. Co-simulation integration in HELICS [2]**"
   ]
  },
  {
   "cell_type": "markdown",
   "id": "779ac9ff",
   "metadata": {
    "editable": true,
    "slideshow": {
     "slide_type": ""
    },
    "tags": []
   },
   "source": [
    "\n",
    "::: {admonition} Execute Two Notebooks Simultaneously\n",
    ":class: warning\n",
    "\n",
    "To execute the complete T&D co-simulation, you must run both this notebook (`transmission_federate.ipynb`) and the companion `distribution_federate.ipynb` simultaneously. Open both notebooks in separate browser tabs or Jupyter Lab panels, then run all cells in both notebooks at once. The HELICS broker will coordinate the execution, ensuring proper synchronization between the federates. If one federate starts before the other, it will wait at the execution mode entry point until both are ready to proceed.\n",
    "\n",
    ":::"
   ]
  },
  {
   "cell_type": "markdown",
   "id": "4938474d",
   "metadata": {
    "editable": true,
    "slideshow": {
     "slide_type": ""
    },
    "tags": []
   },
   "source": [
    "## Required Libraries\n",
    "\n",
    "First, we import the necessary libraries for our transmission federate."
   ]
  },
  {
   "cell_type": "code",
   "execution_count": 1,
   "id": "772c5f64",
   "metadata": {
    "editable": true,
    "slideshow": {
     "slide_type": ""
    },
    "tags": [
     "hide-cell"
    ]
   },
   "outputs": [],
   "source": [
    "import os\n",
    "import sys\n",
    "import time\n",
    "import numpy as np\n",
    "import helics as h\n",
    "import pandas as pd\n",
    "import matplotlib.pyplot as plt\n",
    "import andes\n",
    "import scipy.stats\n",
    "import scipy.io as readmat\n",
    "import os"
   ]
  },
  {
   "cell_type": "markdown",
   "id": "c6dbc0b2",
   "metadata": {
    "editable": true,
    "slideshow": {
     "slide_type": ""
    },
    "tags": []
   },
   "source": [
    "## Initialization to start a broker "
   ]
  },
  {
   "cell_type": "markdown",
   "id": "be3f09e4",
   "metadata": {
    "editable": true,
    "slideshow": {
     "slide_type": ""
    },
    "tags": []
   },
   "source": [
    "Here, we initialize the main broker for this federate with two connected federates. The number '2' represents the number of federates being connected."
   ]
  },
  {
   "cell_type": "code",
   "execution_count": 2,
   "id": "c48ab956",
   "metadata": {
    "editable": true,
    "slideshow": {
     "slide_type": ""
    },
    "tags": []
   },
   "outputs": [
    {
     "name": "stdout",
     "output_type": "stream",
     "text": [
      "Helics version = 3.6.1 (2025-02-24)\n"
     ]
    }
   ],
   "source": [
    "helicsversion = h.helicsGetVersion()\n",
    "print(\"Helics version = {}\".format(helicsversion))\n",
    "brokerinitstring = \"-f 2 --name=mainbroker\" "
   ]
  },
  {
   "cell_type": "markdown",
   "id": "e00d7e0a",
   "metadata": {
    "editable": true,
    "slideshow": {
     "slide_type": ""
    },
    "tags": []
   },
   "source": [
    "## Create a broker\n",
    "HELICS utilizes various underlying communication technologies to facilitate coordination among co-simulation components. Some of these technologies, like ZeroMQ (zmq), are designed to be broadly applicable. Here zmq core is used while creating a broker."
   ]
  },
  {
   "cell_type": "code",
   "execution_count": 3,
   "id": "103df900",
   "metadata": {
    "editable": true,
    "slideshow": {
     "slide_type": ""
    },
    "tags": []
   },
   "outputs": [
    {
     "name": "stdout",
     "output_type": "stream",
     "text": [
      "Broker created and connected\n"
     ]
    }
   ],
   "source": [
    "broker = h.helicsCreateBroker(\"zmq\", \"\", brokerinitstring)\n",
    "isconnected = h.helicsBrokerIsConnected(broker)\n",
    "if isconnected == 1:\n",
    "    print(\"Broker created and connected\")"
   ]
  },
  {
   "cell_type": "markdown",
   "id": "fd83de51",
   "metadata": {
    "editable": true,
    "slideshow": {
     "slide_type": ""
    },
    "tags": []
   },
   "source": [
    "## Create a Transmission Federate info object"
   ]
  },
  {
   "cell_type": "markdown",
   "id": "b7285fcc",
   "metadata": {
    "editable": true,
    "slideshow": {
     "slide_type": ""
    },
    "tags": []
   },
   "source": [
    "First, create a Federate Info object to define the federate's properties and set the core type using fedstring. Note that the minimum time step in HELICS is 1 nanosecond. A time delta of 0.01 represents the smallest interval at which the federate can receive updates if a publication occurs at 0 seconds. However, since publications take place every second in this co-simulation, the federate will receive updates at one-second intervals."
   ]
  },
  {
   "cell_type": "code",
   "execution_count": 4,
   "id": "3bb649aa",
   "metadata": {
    "editable": true,
    "slideshow": {
     "slide_type": ""
    },
    "tags": []
   },
   "outputs": [],
   "source": [
    "federate_name=\"Transmission\"\n",
    "fedinfo = h.helicsCreateFederateInfo()\n",
    "fedinitstring = \"--broker=mainbroker --federates=1\" \n",
    "h.helicsFederateInfoSetCoreName(fedinfo, f\"{federate_name}\") \n",
    "h.helicsFederateInfoSetCoreTypeFromString(fedinfo, \"zmq\") \n",
    "h.helicsFederateInfoSetCoreInitString(fedinfo, fedinitstring) \n",
    "h.helicsFederateInfoSetTimeProperty(fedinfo, h.helics_property_time_delta, 0.01)"
   ]
  },
  {
   "cell_type": "markdown",
   "id": "6da053b3",
   "metadata": {
    "editable": true,
    "slideshow": {
     "slide_type": ""
    },
    "tags": []
   },
   "source": [
    "## Create a value federate"
   ]
  },
  {
   "cell_type": "markdown",
   "id": "0c768e42",
   "metadata": {
    "editable": true,
    "slideshow": {
     "slide_type": ""
    },
    "tags": []
   },
   "source": [
    "Based on the type of data exchange, the federate is created. Here, we create a value federate, as the federates simulate the physics of the system. Value federates provide information about the physical values of the system with associated units. Since the signals for publication and subscription are power and voltage, both federates in this co-simulation are value federates."
   ]
  },
  {
   "cell_type": "code",
   "execution_count": 5,
   "id": "56642c30",
   "metadata": {
    "editable": true,
    "slideshow": {
     "slide_type": ""
    },
    "tags": []
   },
   "outputs": [
    {
     "name": "stdout",
     "output_type": "stream",
     "text": [
      "Transmission: Value federate created\n"
     ]
    }
   ],
   "source": [
    "fed = h.helicsCreateValueFederate(f\"{federate_name}\", fedinfo)\n",
    "print(f\"{federate_name}: Value federate created\", flush=True)"
   ]
  },
  {
   "cell_type": "markdown",
   "id": "eb436194",
   "metadata": {
    "editable": true,
    "slideshow": {
     "slide_type": ""
    },
    "tags": []
   },
   "source": [
    "Set the publication and subscription items in a dictionary and register the publications and subscriptions."
   ]
  },
  {
   "cell_type": "code",
   "execution_count": 6,
   "id": "bc2ca121",
   "metadata": {
    "editable": true,
    "slideshow": {
     "slide_type": ""
    },
    "tags": []
   },
   "outputs": [],
   "source": [
    "PUBLICATIONS = {}\n",
    "SUBSCRIPTIONS = {}\n",
    "publications={\n",
    "    \"transmission_voltage/bus_4\": {\n",
    "      \"pub_interval\": 1,\n",
    "      \"type\": \"complex\",\n",
    "      \"global\": True,\n",
    "      \"unit\": \"pu\",\n",
    "      \"vbase\": 69,\n",
    "      \"vbase_unit\": \"kv\",\n",
    "      \"topic\": \"TransmissionSim/Voltage_4\",\n",
    "      \"value\": \"Voltage\",\n",
    "      \"element_name\": \"4\",\n",
    "      \"element_type\": \"Bus\"\n",
    "    }\n",
    "}\n",
    "subscriptions={\n",
    "    \"34Bus\": {\n",
    "      \"type\": \"complex\",\n",
    "      \"required\": True,\n",
    "      \"sub_interval\": 1,\n",
    "      \"topic\": \"34Bus/Totalpower\",\n",
    "      \"value\": \"Powers\",\n",
    "      \"element_name\": \"4\",\n",
    "      \"bus_PQ_index\": 2\n",
    "    }\n",
    "  }\n",
    "for k, v in publications.items():\n",
    "    pub = h.helicsFederateRegisterGlobalTypePublication(fed, v['topic'], v['type'], \"\") # register to helics\n",
    "    PUBLICATIONS[k] = pub # store the HELICS object\n",
    "\n",
    "for k, v in subscriptions.items():\n",
    "    sub = h.helicsFederateRegisterSubscription(fed, v['topic'], \"\")\n",
    "    SUBSCRIPTIONS[k] = sub  # store the HELICS object"
   ]
  },
  {
   "cell_type": "markdown",
   "id": "33d9f65d",
   "metadata": {
    "editable": true,
    "slideshow": {
     "slide_type": ""
    },
    "tags": []
   },
   "source": [
    "## Enter Execution"
   ]
  },
  {
   "cell_type": "markdown",
   "id": "90dca012",
   "metadata": {
    "editable": true,
    "slideshow": {
     "slide_type": ""
    },
    "tags": []
   },
   "source": [
    "Here, we enter the execution mode. When we do not run the connected federates synchronously, the program might get stuck at this step. Restart the kernel in such a scenario and run them together. Therefore, we must run all the cells in parallel for all the federates. Each federate needs to enter execution mode before beginning to exchange information."
   ]
  },
  {
   "cell_type": "code",
   "execution_count": 7,
   "id": "fe096a57",
   "metadata": {
    "editable": true,
    "slideshow": {
     "slide_type": ""
    },
    "tags": []
   },
   "outputs": [
    {
     "name": "stdout",
     "output_type": "stream",
     "text": [
      "Transmission: Entering execution mode\n"
     ]
    }
   ],
   "source": [
    "h.helicsFederateEnterExecutingMode(fed)\n",
    "print(f\"{federate_name}: Entering execution mode\", flush=True)"
   ]
  },
  {
   "cell_type": "markdown",
   "id": "08356584",
   "metadata": {
    "editable": true,
    "slideshow": {
     "slide_type": ""
    },
    "tags": []
   },
   "source": [
    "## Load case and run powerflow"
   ]
  },
  {
   "cell_type": "markdown",
   "id": "560617a1",
   "metadata": {},
   "source": [
    "For the simulation of the transmission system, we use ANDES. ANDES uses a standard file format in xlsx. To set up the dynamic time-domain simulation, we first run the steady-state power flow."
   ]
  },
  {
   "cell_type": "code",
   "execution_count": 8,
   "id": "56135a4a",
   "metadata": {
    "editable": true,
    "slideshow": {
     "slide_type": ""
    },
    "tags": []
   },
   "outputs": [
    {
     "name": "stderr",
     "output_type": "stream",
     "text": [
      "Working directory: \"/home/hcui9/repos/powercybertraining.github.io/pct/modules/06\"\n",
      "> Loaded generated Python code in \"/home/hcui9/.andes/pycode\".\n",
      "Parsing input file \"/home/hcui9/repos/powercybertraining.github.io/pct/modules/06/network_model/ieee14_full.xlsx\"...\n",
      "Input file parsed in 0.0979 seconds.\n",
      "System internal structure set up in 0.0140 seconds.\n",
      "-> System connectivity check results:\n",
      "  No islanded bus detected.\n",
      "  System is interconnected.\n",
      "  Each island has a slack bus correctly defined and enabled.\n",
      "\n",
      "-> Power flow calculation\n",
      "           Numba: Off\n",
      "   Sparse solver: KLU\n",
      " Solution method: NR method\n",
      "Power flow initialized in 0.0033 seconds.\n",
      "0: |F(x)| = 0.5605182134\n",
      "1: |F(x)| = 0.006202200332\n",
      "2: |F(x)| = 5.819382825e-06\n",
      "3: |F(x)| = 6.957087684e-12\n",
      "Converged in 4 iterations in 0.0042 seconds.\n"
     ]
    }
   ],
   "source": [
    "tr_path=os.getcwd() \n",
    "file_name = 'ieee14_full.xlsx'\n",
    "path_to_transmission_xlsx = os.path.join(tr_path, \"network_model\",file_name)\n",
    "andes.config_logger(stream_level=20)\n",
    "ieee14 = andes.get_case(path_to_transmission_xlsx)\n",
    "ss = andes.load(ieee14, setup=False, no_output=True)\n",
    "ss.setup()\n",
    "ss.PQ.config.p2p = 1 \n",
    "ss.PQ.config.q2q = 1\n",
    "ss.PQ.config.p2z = 0\n",
    "ss.PQ.config.q2z = 0\n",
    "ss.PQ.pq2z = 0\n",
    "ss.PFlow.run()\n",
    "os.chdir(tr_path)"
   ]
  },
  {
   "cell_type": "markdown",
   "id": "24843ffd",
   "metadata": {
    "editable": true,
    "slideshow": {
     "slide_type": ""
    },
    "tags": []
   },
   "source": [
    "## Initilization for TDS (time -domain-simulation)"
   ]
  },
  {
   "cell_type": "code",
   "execution_count": 9,
   "id": "f07f3c91",
   "metadata": {
    "editable": true,
    "slideshow": {
     "slide_type": ""
    },
    "tags": []
   },
   "outputs": [
    {
     "name": "stderr",
     "output_type": "stream",
     "text": [
      "Initialization for dynamics completed in 0.0273 seconds.\n",
      "Initialization was successful.\n"
     ]
    }
   ],
   "source": [
    "ss.TDS.init()\n",
    "ss.TDS.config.criteria = 0\n",
    "ss.TDS.config.no_tqdm = 1"
   ]
  },
  {
   "cell_type": "markdown",
   "id": "cd2bea34",
   "metadata": {
    "editable": true,
    "slideshow": {
     "slide_type": ""
    },
    "tags": []
   },
   "source": [
    "## Main Loop for Co-simulation"
   ]
  },
  {
   "cell_type": "markdown",
   "id": "c4da1314",
   "metadata": {
    "editable": true,
    "slideshow": {
     "slide_type": ""
    },
    "tags": []
   },
   "source": [
    "This is the main loop for co-simulation. In this loop, the TDS is executed every second, and the voltage magnitude and angles for bus 4 are published. Similarly, the subscriptions for active and reactive power also occur in the main loop. The loop terminates once the total requested simulation time is reached. Once terminated, the federate must be closed. We only use the active power from the distribution federate, although we receive both active and reactive power."
   ]
  },
  {
   "cell_type": "code",
   "execution_count": 10,
   "id": "37497bf2",
   "metadata": {
    "editable": true,
    "slideshow": {
     "slide_type": ""
    },
    "tags": []
   },
   "outputs": [
    {
     "name": "stderr",
     "output_type": "stream",
     "text": [
      "\n",
      "-> Time Domain Simulation Summary:\n",
      "Sparse Solver: KLU\n",
      "Simulation time: 0.0-1 s.\n",
      "Fixed step size: h=33.33 ms. Shrink if not converged.\n",
      "Simulation to t=1.00 sec completed in 0.0199 seconds.\n"
     ]
    },
    {
     "name": "stdout",
     "output_type": "stream",
     "text": [
      "=============================\n",
      "request_time=0\n",
      "current_time=0\n",
      "Received active power from 34Bus at time 0: -1e+49 kw\n",
      "Received reactive power (not use) from 34Bus at time 0: 0.0 kvar\n",
      "manually set up first step load bus P and Q\n",
      "Sent voltage mag at time 0: 1.0114034500520985 pu from Bus 4\n",
      "Sent voltage ang at time 0: -0.07696511657375282 rad from Bus 4\n"
     ]
    },
    {
     "name": "stderr",
     "output_type": "stream",
     "text": [
      "Simulation to t=2.00 sec completed in 0.0394 seconds.\n",
      "Simulation to t=3.00 sec completed in 0.0518 seconds.\n",
      "Simulation to t=4.00 sec completed in 0.0682 seconds.\n"
     ]
    },
    {
     "name": "stdout",
     "output_type": "stream",
     "text": [
      "=============================\n",
      "request_time=1\n",
      "current_time=1.0\n",
      "Received active power from 34Bus at time 1.0: 47801.63821898793 kw\n",
      "Received reactive power (not use) from 34Bus at time 1.0: 7409.155582816102 kvar\n",
      "Sent voltage mag at time 1.0: 1.011401794902155 pu from Bus 4\n",
      "Sent voltage ang at time 1.0: -0.0770189711690463 rad from Bus 4\n",
      "=============================\n",
      "request_time=2\n",
      "current_time=2.0\n",
      "Received active power from 34Bus at time 2.0: 44555.32097235016 kw\n",
      "Received reactive power (not use) from 34Bus at time 2.0: 4131.780288199471 kvar\n",
      "Sent voltage mag at time 2.0: 1.0150319198052244 pu from Bus 4\n",
      "Sent voltage ang at time 2.0: 0.0354939385936789 rad from Bus 4\n",
      "=============================\n",
      "request_time=3\n",
      "current_time=3.0\n",
      "Received active power from 34Bus at time 3.0: 48936.62680444064 kw\n",
      "Received reactive power (not use) from 34Bus at time 3.0: 8771.692942295023 kvar\n",
      "Sent voltage mag at time 3.0: 1.0102754291179836 pu from Bus 4\n",
      "Sent voltage ang at time 3.0: 0.11940578933267289 rad from Bus 4\n",
      "=============================\n",
      "request_time=4\n",
      "current_time=4.0\n",
      "Received active power from 34Bus at time 4.0: 48665.00452379412 kw\n",
      "Received reactive power (not use) from 34Bus at time 4.0: 8410.171458054761 kvar\n"
     ]
    },
    {
     "name": "stderr",
     "output_type": "stream",
     "text": [
      "Simulation to t=5.00 sec completed in 0.0450 seconds.\n",
      "Simulation to t=6.00 sec completed in 0.0477 seconds.\n",
      "Simulation to t=7.00 sec completed in 0.0334 seconds.\n",
      "Simulation to t=8.00 sec completed in 0.0482 seconds.\n",
      "Simulation to t=9.00 sec completed in 0.0538 seconds.\n"
     ]
    },
    {
     "name": "stdout",
     "output_type": "stream",
     "text": [
      "Sent voltage mag at time 4.0: 1.009309107624471 pu from Bus 4\n",
      "Sent voltage ang at time 4.0: 0.08214034804250755 rad from Bus 4\n",
      "=============================\n",
      "request_time=5\n",
      "current_time=5.0\n",
      "Received active power from 34Bus at time 5.0: 47628.703085288646 kw\n",
      "Received reactive power (not use) from 34Bus at time 5.0: 6634.7642148424975 kvar\n",
      "Sent voltage mag at time 5.0: 1.010959796425234 pu from Bus 4\n",
      "Sent voltage ang at time 5.0: 0.040318443544884376 rad from Bus 4\n",
      "=============================\n",
      "request_time=6\n",
      "current_time=6.0\n",
      "Received active power from 34Bus at time 6.0: 48294.89837225128 kw\n",
      "Received reactive power (not use) from 34Bus at time 6.0: 8037.879191146261 kvar\n",
      "Sent voltage mag at time 6.0: 1.010978721780115 pu from Bus 4\n",
      "Sent voltage ang at time 6.0: 0.010421818404916218 rad from Bus 4\n",
      "=============================\n",
      "request_time=7\n",
      "current_time=7.0\n",
      "Received active power from 34Bus at time 7.0: 46564.14523604509 kw\n",
      "Received reactive power (not use) from 34Bus at time 7.0: 5827.152375226747 kvar\n",
      "Sent voltage mag at time 7.0: 1.01296187898716 pu from Bus 4\n",
      "Sent voltage ang at time 7.0: 0.035006979449757565 rad from Bus 4\n",
      "=============================\n",
      "request_time=8\n",
      "current_time=8.0\n",
      "Received active power from 34Bus at time 8.0: 48750.88752217437 kw\n",
      "Received reactive power (not use) from 34Bus at time 8.0: 8572.028719408392 kvar\n",
      "Sent voltage mag at time 8.0: 1.0107093324628642 pu from Bus 4\n",
      "Sent voltage ang at time 8.0: 0.04652199139537953 rad from Bus 4\n",
      "=============================\n",
      "request_time=9\n",
      "current_time=9.0\n",
      "Received active power from 34Bus at time 9.0: 46699.77559217132 kw\n",
      "Received reactive power (not use) from 34Bus at time 9.0: 5828.684536049755 kvar\n"
     ]
    },
    {
     "name": "stderr",
     "output_type": "stream",
     "text": [
      "Simulation to t=10.00 sec completed in 0.0449 seconds.\n",
      "Simulation to t=11.00 sec completed in 0.0501 seconds.\n",
      "Simulation to t=12.00 sec completed in 0.0480 seconds.\n",
      "Simulation to t=13.00 sec completed in 0.0343 seconds.\n",
      "Simulation to t=14.00 sec completed in 0.0404 seconds.\n"
     ]
    },
    {
     "name": "stdout",
     "output_type": "stream",
     "text": [
      "Sent voltage mag at time 9.0: 1.012374039405704 pu from Bus 4\n",
      "Sent voltage ang at time 9.0: 0.06667494695734988 rad from Bus 4\n",
      "=============================\n",
      "request_time=10\n",
      "current_time=10.0\n",
      "Received active power from 34Bus at time 10.0: 49850.30469709285 kw\n",
      "Received reactive power (not use) from 34Bus at time 10.0: 9819.16279627304 kvar\n",
      "Sent voltage mag at time 10.0: 1.009302622310051 pu from Bus 4\n",
      "Sent voltage ang at time 10.0: 0.029027350996189562 rad from Bus 4\n",
      "=============================\n",
      "request_time=11\n",
      "current_time=11.0\n",
      "Received active power from 34Bus at time 11.0: 47791.47117397677 kw\n",
      "Received reactive power (not use) from 34Bus at time 11.0: 7319.081071525231 kvar\n",
      "Sent voltage mag at time 11.0: 1.0112396674958422 pu from Bus 4\n",
      "Sent voltage ang at time 11.0: -0.02721157995253078 rad from Bus 4\n",
      "=============================\n",
      "request_time=12\n",
      "current_time=12.0\n",
      "Received active power from 34Bus at time 12.0: 48687.42820299258 kw\n",
      "Received reactive power (not use) from 34Bus at time 12.0: 8335.717229424723 kvar\n",
      "Sent voltage mag at time 12.0: 1.011012686834132 pu from Bus 4\n",
      "Sent voltage ang at time 12.0: -0.06752358126897155 rad from Bus 4\n",
      "=============================\n",
      "request_time=13\n",
      "current_time=13.0\n",
      "Received active power from 34Bus at time 13.0: 47565.327871103684 kw\n",
      "Received reactive power (not use) from 34Bus at time 13.0: 7168.7423352356545 kvar\n",
      "Sent voltage mag at time 13.0: 1.012172383185296 pu from Bus 4\n",
      "Sent voltage ang at time 13.0: -0.07816487781033815 rad from Bus 4\n",
      "=============================\n",
      "request_time=14\n",
      "current_time=14.0\n",
      "Received active power from 34Bus at time 14.0: 46405.665208497274 kw\n",
      "Received reactive power (not use) from 34Bus at time 14.0: 5405.583258854862 kvar\n"
     ]
    },
    {
     "name": "stderr",
     "output_type": "stream",
     "text": [
      "Simulation to t=15.00 sec completed in 0.0440 seconds.\n"
     ]
    },
    {
     "name": "stdout",
     "output_type": "stream",
     "text": [
      "Sent voltage mag at time 14.0: 1.013566808021105 pu from Bus 4\n",
      "Sent voltage ang at time 14.0: -0.013385352736790911 rad from Bus 4\n",
      "[2025-08-17 08:10:48.040] [console] [warning] commWarning||mainbroker (1)[operating]::unknown route and no broker, dropping message pub:From (131072) handle(1) size 24 at 14 to 131073\n",
      "Federate finalized\n"
     ]
    }
   ],
   "source": [
    "total_time=15 \n",
    "simulation_step_time=1\n",
    "current_time=0\n",
    "shed_buses = ss.PQ.bus.v\n",
    "pq_shed_idx = ss.PQ.find_idx(keys='bus', values=shed_buses)\n",
    "P_active=[]\n",
    "Q_reactive=[]\n",
    "time_list=[]\n",
    "\n",
    "for request_time in np.arange(0, total_time, simulation_step_time):\n",
    "    while current_time < request_time:\n",
    "        current_time = h.helicsFederateRequestTime(fed, request_time)\n",
    "    print(\"=============================\")\n",
    "    print(f\"request_time={request_time}\")\n",
    "    print(f\"current_time={current_time}\")\n",
    "    for key, sub in SUBSCRIPTIONS.items():\n",
    "        if subscriptions[key]['value']=='Powers':\n",
    "            if current_time % subscriptions[key]['sub_interval']<=1e-6:\n",
    "                val = h.helicsInputGetComplex(sub) # val is P, Q\n",
    "                bus_name = subscriptions[key]['element_name']\n",
    "                bus_PQ_index = int(subscriptions[key]['bus_PQ_index'])\n",
    "                P, Q = val.real,val.imag\n",
    "                print(\"Received active power from {} at time {}: {} kw\".format(key, current_time, P))\n",
    "                print(\"Received reactive power (not use) from {} at time {}: {} kvar\".format(key, current_time, Q))\n",
    "                # convert to pu\n",
    "                P = P/1e5\n",
    "                Q = Q/1e5\n",
    "\n",
    "            if current_time == 0:\n",
    "                print(\"manually set up first step load bus P and Q\")\n",
    "                P = ss.PQ.p0.v[int(bus_PQ_index)]\n",
    "                Q = 0\n",
    "            P_active.append(P)\n",
    "            Q_reactive.append(Q)\n",
    "            time_list.append(current_time)\n",
    "            ss.PQ.set(src='Ppf', idx=pq_shed_idx[int(bus_PQ_index)], attr='v', value=P) # set load as P\n",
    "            \n",
    "    ss.TDS.config.tf = current_time + simulation_step_time\n",
    "    ss.TDS.run()\n",
    "    \n",
    "    #Get the PUBLICATION OUT\n",
    "    for key, pub in PUBLICATIONS.items():\n",
    "        if publications[key]['value']=='Voltage':\n",
    "            bus_name = publications[key]['element_name']\n",
    "            element_type = publications[key]['element_type']\n",
    "\n",
    "            val1 = ss.Bus.v.v[int(bus_name)-1]\n",
    "            val2 = ss.Bus.a.v[int(bus_name)-1]\n",
    "            if current_time % publications[key]['pub_interval']<=1e-6:\n",
    "                print(\"Sent voltage mag at time {}: {} pu from {} {}\".format(current_time, val1, element_type, bus_name))\n",
    "                print(\"Sent voltage ang at time {}: {} rad from {} {}\".format(current_time, val2, element_type, bus_name))\n",
    "               \n",
    "                h.helicsPublicationPublishComplex(pub, val1, val2)\n",
    "    if ss.exit_code != 0:\n",
    "        raise ValueError(current_time)\n",
    "        \n",
    "h.helicsFederateDestroy(fed)\n",
    "print('Federate finalized')"
   ]
  },
  {
   "cell_type": "markdown",
   "id": "ecd676c9",
   "metadata": {
    "editable": true,
    "slideshow": {
     "slide_type": ""
    },
    "tags": []
   },
   "source": [
    "Here, we plot the received active and reactive power from the distribution federate."
   ]
  },
  {
   "cell_type": "code",
   "execution_count": 11,
   "id": "cd2bba9e",
   "metadata": {},
   "outputs": [
    {
     "data": {
      "image/png": "[encoded data removed]",
      "text/plain": [
       "<Figure size 640x480 with 1 Axes>"
      ]
     },
     "metadata": {},
     "output_type": "display_data"
    }
   ],
   "source": [
    "import matplotlib.pyplot as plt\n",
    "import matplotlib\n",
    "%matplotlib inline\n",
    "plt.figure(figsize=(6.4, 4.8))\n",
    "plt.plot(time_list, P_active, label=\"P (Active Power)\", marker='o', linestyle='-')\n",
    "plt.plot(time_list, Q_reactive, label=\"Q (Reactive Power)\", marker='s', linestyle='--')\n",
    "plt.xlabel(\"Time (s)\")\n",
    "plt.ylabel(\"Power (pu)\")\n",
    "plt.title(\" Recieved Active & Reactive Power vs Time(s)\")\n",
    "plt.legend()\n",
    "plt.grid(True)\n",
    "plt.show()\n"
   ]
  },
  {
   "cell_type": "markdown",
   "id": "2ebe20f8",
   "metadata": {},
   "source": [
    "Here, we plot frequency at bus 4 (load bus) of transmission system."
   ]
  },
  {
   "cell_type": "code",
   "execution_count": 12,
   "id": "5ec6125c",
   "metadata": {},
   "outputs": [
    {
     "data": {
      "image/png": "[encoded data removed]",
      "text/plain": [
       "<Figure size 640x480 with 1 Axes>"
      ]
     },
     "metadata": {},
     "output_type": "display_data"
    },
    {
     "data": {
      "text/plain": [
       "(<Figure size 640x480 with 1 Axes>,\n",
       " <Axes: title={'center': 'Frequency at Bus 4'}, xlabel='Time [s]', ylabel='Frequency (Hz/s)'>)"
      ]
     },
     "execution_count": 12,
     "metadata": {},
     "output_type": "execute_result"
    }
   ],
   "source": [
    "ss.TDS.load_plotter()\n",
    "ss.TDS.plt.plot(ss.BusFreq.f,ylabel='Frequency (Hz/s)',a=(3,),ytimes=60,title='Frequency at Bus 4',grid=True)"
   ]
  },
  {
   "cell_type": "markdown",
   "id": "b1cca929",
   "metadata": {
    "editable": true,
    "slideshow": {
     "slide_type": ""
    },
    "tags": []
   },
   "source": [
    "# Result Analysis\n",
    "At every 1 second, the transmission federate receives P and Q values for the load at bus 4 from the distribution federate. Since there is load variation in the distribution feeder at each second, it can be observed in the P & Q values received by the transmission federate. After receiving the values of P & Q, the transmission federate runs the simulation for the next time steps and sends the voltage magnitude and angle to the distribution federate through publication."
   ]
  },
  {
   "cell_type": "markdown",
   "id": "4dd2744a",
   "metadata": {},
   "source": [
    "# References"
   ]
  },
  {
   "cell_type": "markdown",
   "id": "a3de0cda",
   "metadata": {
    "editable": true,
    "slideshow": {
     "slide_type": ""
    },
    "tags": []
   },
   "source": [
    "1. T. D. Hardy, B. Palmintier, P. L. Top, D. Krishnamurthy, and J. C. Fuller, \"Helics: A co-simulation framework for scalable multi-domain modeling and analysis,\" IEEE Access, vol. 12, pp.24 325–24 347, 2024.\n",
    "2. W. Wang, X. Fang, H. Cui, F. Li, Y. Liu, and T. J. Overbye, \"Transmission-and-distribution dynamic co-simulation framework for distributed energy resource frequency response,\" IEEE Transactions on Smart Grid, vol. 13, no. 1, pp. 482–495, 2021.\n",
    "3. H. Cui, F. Li, and K. Tomsovic, \"Hybrid symbolic-numeric framework for power system modeling and analysis,\" IEEE Trans. Power Syst., vol. 36, no. 2, pp. 1373–1384, 2021.\n",
    "4. ANDES Documentation: https://docs.andes.app/\n"
   ]
  },
  {
   "cell_type": "code",
   "execution_count": null,
   "id": "c39b11c5-caba-4f55-b146-c9b1ad4b855d",
   "metadata": {
    "editable": true,
    "slideshow": {
     "slide_type": ""
    },
    "tags": []
   },
   "outputs": [],
   "source": []
  }
 ],
 "metadata": {
  "kernelspec": {
   "display_name": "helics",
   "language": "python",
   "name": "helics"
  },
  "language_info": {
   "codemirror_mode": {
    "name": "ipython",
    "version": 3
   },
   "file_extension": ".py",
   "mimetype": "text/x-python",
   "name": "python",
   "nbconvert_exporter": "python",
   "pygments_lexer": "ipython3",
   "version": "3.9.23"
  }
 },
 "nbformat": 4,
 "nbformat_minor": 5
}
