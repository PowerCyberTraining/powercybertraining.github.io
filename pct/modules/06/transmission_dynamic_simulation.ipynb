{
 "cells": [
  {
   "cell_type": "markdown",
   "id": "942190c0",
   "metadata": {},
   "source": [
    "# Overview of Power System Dynamic Simulation with ANDES\n",
    "\n",
    "## 🔍 Introduction to Transmission System Dynamic Simulation\n",
    "Dynamic simulation of power systems is essential for analyzing the stability and performance of the electric grid under various operating conditions and disturbances. Unlike steady-state power flow analysis, dynamic simulation captures the time-dependent behavior of system variables such as rotor angles, frequencies, and bus voltages. This is critical for understanding how the system reacts to events like faults, generator trips, or sudden load changes.\n",
    "\n",
    "### Why Perform Dynamic Simulation?\n",
    "- To assess system stability under disturbances (e.g., faults, equipment tripping)\n",
    "- To evaluate the effectiveness of control devices (AVRs, PSS, governors)\n",
    "- To understand the interaction between generators and loads\n",
    "- To support planning for high-penetration inverter-based resources (IBRs)\n",
    "- To ensure reliability and resilience of power systems under extreme scenarios\n",
    "\n",
    "### How is Dynamic Simulation Performed?\n",
    "1. **Modeling the Network**: Include buses, generators, transmission lines, loads, and controllers.\n",
    "2. **Defining Dynamic Models**: Assign appropriate machine, excitation, governor, and stabilizer models.\n",
    "3. **Specifying Disturbances**: Define events such as faults, line trips, or generator outages.\n",
    "4. **Solving DAEs**: Use numerical solvers to integrate differential-algebraic equations (DAEs) over time.\n",
    "5. **Analyzing Results**: Observe system response in rotor angle, frequency, and voltage to determine stability.\n",
    "\n",
    "ANDES (Automatic Network Dynamic Engine Simulator) is an open-source Python-based tool that allows flexible and efficient dynamic simulations. It supports standard dynamic models and customizable event handling, making it a suitable tool for academic and research applications in power system dynamics."
   ]
  },
  {
   "cell_type": "markdown",
   "id": "49bfd4c4",
   "metadata": {},
   "source": [
    "## 🧭 Generator Trip Example (Frequency and Voltage Response)\n",
    "### 1. Install ANDES\n",
    "Install ANDES using pip if not already installed."
   ]
  },
  {
   "cell_type": "code",
   "execution_count": null,
   "id": "38b989f9",
   "metadata": {
    "vscode": {
     "languageId": "plaintext"
    }
   },
   "outputs": [],
   "source": [
    "pip install andes --quiet"
   ]
  },
  {
   "cell_type": "markdown",
   "id": "7010a5c1",
   "metadata": {},
   "source": [
    "### 2. Clone ANDES Examples Repository"
   ]
  },
  {
   "cell_type": "code",
   "execution_count": null,
   "id": "7f8ef1d9",
   "metadata": {
    "vscode": {
     "languageId": "plaintext"
    }
   },
   "outputs": [],
   "source": [
    "\n",
    "!git clone https://github.com/CURENT/andes.git\n",
    "%cd andes/examples/demonstration"
   ]
  },
  {
   "cell_type": "markdown",
   "id": "bc62c289",
   "metadata": {},
   "source": [
    "### 3. Import Required Libraries"
   ]
  },
  {
   "cell_type": "code",
   "execution_count": null,
   "id": "0c840655",
   "metadata": {
    "vscode": {
     "languageId": "plaintext"
    }
   },
   "outputs": [],
   "source": [
    "import andes\n",
    "from andes.runner import Runner"
   ]
  },
  {
   "cell_type": "markdown",
   "id": "6aa55e3c",
   "metadata": {},
   "source": [
    "### 4. Load IEEE 14-Bus Case"
   ]
  },
  {
   "cell_type": "code",
   "execution_count": null,
   "id": "41b10090",
   "metadata": {
    "vscode": {
     "languageId": "plaintext"
    }
   },
   "outputs": [],
   "source": [
    "r = Runner(file='ieee14_full.xlsx')"
   ]
  },
  {
   "cell_type": "markdown",
   "id": "0be0935d",
   "metadata": {},
   "source": [
    "### 5. Add a Generator Trip Event\n",
    "Trip Gen3 at t = 2.0 seconds."
   ]
  },
  {
   "cell_type": "code",
   "execution_count": null,
   "id": "e88580c8",
   "metadata": {
    "vscode": {
     "languageId": "plaintext"
    }
   },
   "outputs": [],
   "source": [
    "\n",
    "r.update(Event={\n",
    "    'trip_gen3': {\n",
    "        'device': 'Gen',\n",
    "        'idx': 'gen3',\n",
    "        'time': 2.0,\n",
    "        'action': 'trip'\n",
    "    }\n",
    "})"
   ]
  },
  {
   "cell_type": "markdown",
   "id": "c98da85c",
   "metadata": {},
   "source": [
    "### 6. Run Time-Domain Simulation"
   ]
  },
  {
   "cell_type": "code",
   "execution_count": null,
   "id": "f990fce7",
   "metadata": {
    "vscode": {
     "languageId": "plaintext"
    }
   },
   "outputs": [],
   "source": [
    "r.run(\"tds\")"
   ]
  },
  {
   "cell_type": "markdown",
   "id": "514458be",
   "metadata": {},
   "source": [
    "### 7. Plot Frequency and Voltage Response"
   ]
  },
  {
   "cell_type": "code",
   "execution_count": null,
   "id": "1c005e64",
   "metadata": {
    "vscode": {
     "languageId": "plaintext"
    }
   },
   "outputs": [],
   "source": [
    "r.plot(vars=[\"Synchronous.freq\", \"Bus.V\"])"
   ]
  },
  {
   "cell_type": "markdown",
   "id": "808c0214",
   "metadata": {},
   "source": [
    "---\n",
    "\n",
    "## 📚 References\n",
    "- ANDES Docs: https://docs.andes.app/\n",
    "- GitHub Repo: https://github.com/CURENT/andes\n",
    "- HELICS Docs: https://docs.helics.org/\n",
    "\n",
    "---\n",
    "\n",
    "## ✅ Done!\n",
    "This example demonstrates how to simulate a generator trip and observe system frequency and voltage response in the IEEE 14-bus system using ANDES as a transmission system federate.\n"
   ]
  }
 ],
 "metadata": {
  "language_info": {
   "name": "python"
  }
 },
 "nbformat": 4,
 "nbformat_minor": 5
}
