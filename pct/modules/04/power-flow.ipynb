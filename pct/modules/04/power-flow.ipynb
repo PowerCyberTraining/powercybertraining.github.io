{
 "cells": [
  {
   "cell_type": "markdown",
   "metadata": {},
   "source": [
    "# Power Flow Problem"
   ]
  },
  {
   "cell_type": "markdown",
   "metadata": {},
   "source": [
    "## Overview"
   ]
  },
  {
   "cell_type": "markdown",
   "metadata": {},
   "source": [
    "A typical nonlinear equation is the power flow equations. Power flow equations are algebraic equations enforcing the power balancing at each bus. Intuitively, the equations require that, at each bus, the power injection (generation minus load) is equal to the power that leaves the bus through connected lines. \n",
    "\n",
    "Using the complex power definition, the power flow equations are as simple as:\n",
    "\n",
    "$$\n",
    "\\begin{bmatrix}\n",
    "P_1 + j Q_1 \\\n",
    "P_2 + j Q_2 \\\n",
    "\\vdots \\\n",
    "P_N + j Q_N\n",
    "\\end{bmatrix} = \n",
    "\\text{diag}(V) (I)^*\n",
    "=\n",
    "\\text{diag}(V) (Y V)^*\n",
    "$$\n",
    "where $P_i$ and $Q_i$ are the real and reactive power injection at bus $i$, $V_i$ and $V_j$ are the voltage at bus $i$ and $j$, $Y$ is the admittance matrix, and\n",
    "\n",
    "$$\n",
    "\\text{diag}(V) = \n",
    "\\begin{bmatrix}\n",
    "V_1 & 0 & 0 & \\cdots & 0 \\\\\n",
    "0 & V_2 & 0 & \\cdots & 0 \\\\\n",
    "\\vdots & \\vdots & \\vdots & \\ddots & \\vdots \\\\\n",
    "0 & 0 & 0 & \\cdots & V_N\n",
    "\\end{bmatrix}\n",
    "$$\n",
    "\n",
    "\n"
   ]
  },
  {
   "cell_type": "markdown",
   "metadata": {},
   "source": [
    "If bus `k` has no injection, the corresponding $P_k$ and $Q_k$ are zero.\n",
    "\n"
   ]
  },
  {
   "cell_type": "markdown",
   "metadata": {},
   "source": [
    "For a system with $N$ buses, there are $2N$ real-valued equations. There has to be $2N$ unkonwns to solve the equations. \n",
    "\n",
    "As we have learned from power system analysis, there are three types of buses, PQ, PV and Slack. The unknowns are:\n",
    "\n",
    "\n",
    "| Bus Type | Knowns | Unknowns |\n",
    "| -------- | -------- | -------- |\n",
    "| PQ | $P_i, Q_i$ | $V_i, \\theta_i$ |\n",
    "| PV | $P_i, V_i$ | $Q_i, \\theta_i$ |\n",
    "| Slack | $V_i, \\theta_i$ | $P_i, Q_i$ |\n",
    "\n"
   ]
  },
  {
   "cell_type": "markdown",
   "metadata": {},
   "source": [
    "## Example: 3-bus System"
   ]
  },
  {
   "cell_type": "markdown",
   "metadata": {},
   "source": [
    "We consider a three-bus system from {cite:p}`crow2016computational` (Example 3.11). I have taken the liberty to use a 0-based index to align with Python code.\n",
    "\n",
    "It is a three bus sytem with the following bus parameters:\n",
    "\n",
    "| Bus | Type | V | Pgen | Qgen | Pload | Qload |\n",
    "| ---- | -------- | -------- | -------- | -------- | -------- | -------- |\n",
    "| 0 | Slack | 1.02 | -- | -- | 0.0 | 0.0 |\n",
    "| 1 | PV | 1.00 | 0.5 | -- | 0.0 | 0.0 |\n",
    "| 2 | PQ | -- | 0 | 0 | 1.2 | 0.5 |\n",
    "\n",
    "And the line parameters are given as\n",
    "\n",
    "| From | To | R | X | B |\n",
    "| ---- | -------- | -------- | -------- | -------- |\n",
    "| 0 | 1 | 0.02 | 0.3 | 0.15 |\n",
    "| 0 | 2 | 0.01 | 0.1 | 0.1 |\n",
    "| 1 | 2 | 0.01 | 0.1 | 0.1 |\n",
    "\n"
   ]
  },
  {
   "cell_type": "markdown",
   "metadata": {},
   "source": [
    "First, let's make the admittance matrix.\n"
   ]
  },
  {
   "cell_type": "code",
   "execution_count": 17,
   "metadata": {},
   "outputs": [
    {
     "name": "stdout",
     "output_type": "stream",
     "text": [
      "[[ 1.21133795-13.09457417j -0.22123894 +3.31858407j\n",
      "  -0.99009901 +9.9009901j ]\n",
      " [-0.22123894 +3.31858407j  1.21133795-13.09457417j\n",
      "  -0.99009901 +9.9009901j ]\n",
      " [-0.99009901 +9.9009901j  -0.99009901 +9.9009901j\n",
      "   1.98019802-19.7019802j ]]\n"
     ]
    }
   ],
   "source": [
    "import numpy as np\n",
    "from scipy.optimize import fsolve\n",
    "\n",
    "Y = np.zeros((3, 3), dtype=np.complex128)\n",
    "\n",
    "# Diagonal elements\n",
    "Y[0, 0] = 1 / (0.02 + 0.3j) + 1 / (0.01 + 0.1j) + 1j * 0.15 / 2 + 1j * 0.1 / 2\n",
    "Y[1, 1] = 1 / (0.02 + 0.3j) + 1 / (0.01 + 0.1j) + 1j * 0.15 / 2 + 1j * 0.1 / 2\n",
    "Y[2, 2] = 1 / (0.01 + 0.1j) + 1 / (0.01 + 0.1j) + 1j * 0.1 / 2 + 1j * 0.1 / 2\n",
    "\n",
    "# Off-diagonal elements\n",
    "Y[0, 1] -= 1 / (0.02 + 0.3j)\n",
    "Y[1, 0] -= 1 / (0.02 + 0.3j)\n",
    "\n",
    "Y[0, 2] -= 1 / (0.01 + 0.1j)\n",
    "Y[2, 0] -= 1 / (0.01 + 0.1j)\n",
    "\n",
    "Y[1, 2] -= 1 / (0.01 + 0.1j)\n",
    "Y[2, 1] -= 1 / (0.01 + 0.1j)\n",
    "\n",
    "print(Y)"
   ]
  },
  {
   "cell_type": "markdown",
   "metadata": {},
   "source": [
    "We can verify that the result matches the textbook:"
   ]
  },
  {
   "cell_type": "code",
   "execution_count": 18,
   "metadata": {},
   "outputs": [
    {
     "name": "stdout",
     "output_type": "stream",
     "text": [
      "Y magnitudes:\n",
      "[[13.15048335  3.32595053  9.9503719 ]\n",
      " [ 3.32595053 13.15048335  9.9503719 ]\n",
      " [ 9.9503719   9.9503719  19.80124259]]\n",
      "Y angles:\n",
      "[[-84.71478916  93.81407483  95.71059314]\n",
      " [ 93.81407483 -84.71478916  95.71059314]\n",
      " [ 95.71059314  95.71059314 -84.26061502]]\n"
     ]
    }
   ],
   "source": [
    "# print Y in a polar form (using degrees)\n",
    "print(\"Y magnitudes:\")\n",
    "print(np.abs(Y))\n",
    "\n",
    "print(\"Y angles:\")\n",
    "print(np.angle(Y, deg=True))"
   ]
  },
  {
   "cell_type": "markdown",
   "metadata": {},
   "source": [
    "We can move on and write the power flow equations. To conform with the standard form of `f(x) = 0`, the power injections are subtracted from both sides."
   ]
  },
  {
   "cell_type": "code",
   "execution_count": 19,
   "metadata": {},
   "outputs": [
    {
     "name": "stdout",
     "output_type": "stream",
     "text": [
      "[ 0.70867913  0.28056964 -0.01009172 -0.04462179 -0.06351473  0.98158465]\n"
     ]
    }
   ],
   "source": [
    "def pf_3bus(x):\n",
    "    \n",
    "    # we can make the unknowns to be \n",
    "    #   x = [P0, Q0, theta1, Q1, theta2, V2]\n",
    "    #   where theta is in radians and V is in per unit\n",
    "\n",
    "    V = np.array([1.02, 1.00, x[5]])\n",
    "    theta = np.array([0.0, x[2], x[4]])\n",
    "    Vc = V * np.exp(1j * theta)\n",
    "\n",
    "    # calculate the power injection into the network\n",
    "    #   note that power leaves the bus into the network\n",
    "    S = np.diag(Vc) @ np.conj(Y @ Vc)\n",
    "\n",
    "    # power leaving each bus via the lines \n",
    "    #   minus power injection at each bus shall equal to 0\n",
    "    P = np.real(S) - np.array([x[0], 0.5, -1.2])\n",
    "    Q = np.imag(S) - np.array([x[1], x[3], -0.5])\n",
    "\n",
    "    return np.concatenate([P, Q])\n",
    "\n",
    "\n",
    "initial_guess = [0, 0, 0, 0, 0, 1.0]\n",
    "sol, infodict, ier, mesg = fsolve(pf_3bus, initial_guess, full_output=True)\n",
    "\n",
    "print(sol)"
   ]
  },
  {
   "cell_type": "markdown",
   "metadata": {},
   "source": [
    "This result is exactly the same as the results from the textbook."
   ]
  },
  {
   "cell_type": "markdown",
   "metadata": {},
   "source": [
    "### Notes on the formulation\n",
    "\n",
    "If you have some impressions from a Power System Analysis course, you\n",
    "may remember the lengthy derivations of the power flow equations and its\n",
    "Jacobian matrix. In fact, this formulation comes much simpler than the textbook\n",
    "ones, so it can be interesting to understand why both formulations work.\n",
    "\n",
    ":::{admonition} Exercise\n",
    "\n",
    "You may also have many questions about the formulation, such as\n",
    "\n",
    "1. Why are the P&Q at a slack bus and the Q at a PV bus included as variables,\n",
    "  resulting in six variables for three buses?\n",
    "\n",
    "2. Following up on the previous question, why do we include two equations at the\n",
    "  slack bus and one reactive power equation at the PV bus?\n",
    "\n",
    "3.  Why are the variables not ordered in the typical way, namely, unknown phase\n",
    "  angles and then unknown voltage magnitudes, yet it solves?\n",
    "\n",
    "4. Following up on the previous question, why is that ordering the convention (as\n",
    "  written in textbooks and implemented in many programs)? Is that still relevant?\n",
    "\n",
    "\n",
    "Please work on these exercise questions.\n",
    "\n",
    ":::\n",
    "\n",
    "\n",
    ":::{admonition} Hints\n",
    ":class: tip\n",
    "\n",
    "1. They are dependent variables and can be either included in the full problem (to\n",
    "be solved simultaneously), or removed from the problem but evaluated when other\n",
    "unknowns are found.\n",
    "\n",
    "2. The number of variables must equal the number of (independent) equations.\n",
    "\n",
    "3. Variables and equations can be in arbitrary order.\n",
    "\n",
    "4. Grouping variables and equations will help create structural patterns in the Jacobian matrix.\n",
    "\n",
    ":::"
   ]
  },
  {
   "cell_type": "markdown",
   "metadata": {},
   "source": [
    "## Numerical Jacobian Calculation"
   ]
  },
  {
   "cell_type": "code",
   "execution_count": 36,
   "metadata": {},
   "outputs": [
    {
     "ename": "ValueError",
     "evalue": "matmul: Input operand 1 has a mismatch in its core dimension 0, with gufunc signature (n?,k),(k,m?)->(n?,m?) (size 3 is different from 14)",
     "output_type": "error",
     "traceback": [
      "\u001b[0;31m---------------------------------------------------------------------------\u001b[0m",
      "\u001b[0;31mValueError\u001b[0m                                Traceback (most recent call last)",
      "Cell \u001b[0;32mIn[36], line 23\u001b[0m\n\u001b[1;32m     21\u001b[0m \u001b[38;5;66;03m# Example: Calculate the Jacobian for our 3-bus power flow problem\u001b[39;00m\n\u001b[1;32m     22\u001b[0m x \u001b[38;5;241m=\u001b[39m np\u001b[38;5;241m.\u001b[39marray([\u001b[38;5;241m0.70867913\u001b[39m, \u001b[38;5;241m0.28056964\u001b[39m, \u001b[38;5;241m-\u001b[39m\u001b[38;5;241m0.01009172\u001b[39m, \u001b[38;5;241m-\u001b[39m\u001b[38;5;241m0.04462179\u001b[39m, \u001b[38;5;241m-\u001b[39m\u001b[38;5;241m0.06351473\u001b[39m, \u001b[38;5;241m0.98158465\u001b[39m])\n\u001b[0;32m---> 23\u001b[0m J \u001b[38;5;241m=\u001b[39m \u001b[43mnumerical_jacobian\u001b[49m\u001b[43m(\u001b[49m\u001b[43mpf_3bus\u001b[49m\u001b[43m,\u001b[49m\u001b[43m \u001b[49m\u001b[43mx\u001b[49m\u001b[43m)\u001b[49m\n\u001b[1;32m     25\u001b[0m np\u001b[38;5;241m.\u001b[39mset_printoptions(precision\u001b[38;5;241m=\u001b[39m\u001b[38;5;241m4\u001b[39m)\n\u001b[1;32m     27\u001b[0m \u001b[38;5;28mprint\u001b[39m(\u001b[38;5;124m\"\u001b[39m\u001b[38;5;124mNumerical Jacobian matrix (shape):\u001b[39m\u001b[38;5;124m\"\u001b[39m, J\u001b[38;5;241m.\u001b[39mshape)\n",
      "Cell \u001b[0;32mIn[36], line 4\u001b[0m, in \u001b[0;36mnumerical_jacobian\u001b[0;34m(func, x, eps)\u001b[0m\n\u001b[1;32m      2\u001b[0m \u001b[38;5;250m\u001b[39m\u001b[38;5;124;03m\"\"\"Calculate the Jacobian matrix using finite differences.\"\"\"\u001b[39;00m\n\u001b[1;32m      3\u001b[0m n \u001b[38;5;241m=\u001b[39m \u001b[38;5;28mlen\u001b[39m(x)\n\u001b[0;32m----> 4\u001b[0m f0 \u001b[38;5;241m=\u001b[39m \u001b[43mfunc\u001b[49m\u001b[43m(\u001b[49m\u001b[43mx\u001b[49m\u001b[43m)\u001b[49m\n\u001b[1;32m      5\u001b[0m m \u001b[38;5;241m=\u001b[39m \u001b[38;5;28mlen\u001b[39m(f0)\n\u001b[1;32m      6\u001b[0m J \u001b[38;5;241m=\u001b[39m np\u001b[38;5;241m.\u001b[39mzeros((m, n))\n",
      "Cell \u001b[0;32mIn[19], line 13\u001b[0m, in \u001b[0;36mpf_3bus\u001b[0;34m(x)\u001b[0m\n\u001b[1;32m      9\u001b[0m Vc \u001b[38;5;241m=\u001b[39m V \u001b[38;5;241m*\u001b[39m np\u001b[38;5;241m.\u001b[39mexp(\u001b[38;5;241m1\u001b[39mj \u001b[38;5;241m*\u001b[39m theta)\n\u001b[1;32m     11\u001b[0m \u001b[38;5;66;03m# calculate the power injection into the network\u001b[39;00m\n\u001b[1;32m     12\u001b[0m \u001b[38;5;66;03m#   note that power leaves the bus into the network\u001b[39;00m\n\u001b[0;32m---> 13\u001b[0m S \u001b[38;5;241m=\u001b[39m np\u001b[38;5;241m.\u001b[39mdiag(Vc) \u001b[38;5;241m@\u001b[39m np\u001b[38;5;241m.\u001b[39mconj(\u001b[43mY\u001b[49m\u001b[43m \u001b[49m\u001b[38;5;241;43m@\u001b[39;49m\u001b[43m \u001b[49m\u001b[43mVc\u001b[49m)\n\u001b[1;32m     15\u001b[0m \u001b[38;5;66;03m# power leaving each bus via the lines \u001b[39;00m\n\u001b[1;32m     16\u001b[0m \u001b[38;5;66;03m#   minus power injection at each bus shall equal to 0\u001b[39;00m\n\u001b[1;32m     17\u001b[0m P \u001b[38;5;241m=\u001b[39m np\u001b[38;5;241m.\u001b[39mreal(S) \u001b[38;5;241m-\u001b[39m np\u001b[38;5;241m.\u001b[39marray([x[\u001b[38;5;241m0\u001b[39m], \u001b[38;5;241m0.5\u001b[39m, \u001b[38;5;241m-\u001b[39m\u001b[38;5;241m1.2\u001b[39m])\n",
      "\u001b[0;31mValueError\u001b[0m: matmul: Input operand 1 has a mismatch in its core dimension 0, with gufunc signature (n?,k),(k,m?)->(n?,m?) (size 3 is different from 14)"
     ]
    }
   ],
   "source": [
    "def numerical_jacobian(func, x, eps=1e-6):\n",
    "    \"\"\"Calculate the Jacobian matrix using finite differences.\"\"\"\n",
    "    n = len(x)\n",
    "    f0 = func(x)\n",
    "    m = len(f0)\n",
    "    J = np.zeros((m, n))\n",
    "    \n",
    "    for j in range(n):\n",
    "        # Create a copy of x with a small perturbation in the j-th element\n",
    "        x_perturbed = x.copy()\n",
    "        x_perturbed[j] += eps\n",
    "        \n",
    "        # Calculate the perturbed function values\n",
    "        f1 = func(x_perturbed)\n",
    "        \n",
    "        # Compute the j-th column of the Jacobian\n",
    "        J[:, j] = (f1 - f0) / eps\n",
    "        \n",
    "    return J\n",
    "\n",
    "# Example: Calculate the Jacobian for our 3-bus power flow problem\n",
    "x = np.array([0.70867913, 0.28056964, -0.01009172, -0.04462179, -0.06351473, 0.98158465])\n",
    "J = numerical_jacobian(pf_3bus, x)\n",
    "\n",
    "np.set_printoptions(precision=4)\n",
    "\n",
    "print(\"Numerical Jacobian matrix (shape):\", J.shape)\n",
    "print(J)"
   ]
  },
  {
   "cell_type": "markdown",
   "metadata": {},
   "source": [
    "The structure of the Jacobian matrix in power flow problems has specific patterns, as we'll see in the large system example. When phase angles and voltage magnitudes are grouped, the Jacobian takes a block structure that can be exploited for more efficient solutions:\n",
    "\n",
    "$$J = \\begin{bmatrix} \\frac{\\partial P}{\\partial \\theta} & \\frac{\\partial P}{\\partial V} \\\\ \\frac{\\partial Q}{\\partial \\theta} & \\frac{\\partial Q}{\\partial V} \\end{bmatrix}$$\n",
    "\n",
    "For our implementation, we relied on the numerical Jacobian for simplicity, but for larger systems, analytical Jacobian implementations become increasingly important for performance reasons."
   ]
  },
  {
   "cell_type": "markdown",
   "metadata": {},
   "source": [
    "## Large Test Systems\n",
    "\n",
    "The implementation above is elegant due to the very few lines of code. However,\n",
    "without providing the Jacobian matrix, computational speed challenges are\n",
    "expected.\n",
    "\n",
    "We will use the ANDES software to load the IEEE 300-bus system."
   ]
  },
  {
   "cell_type": "code",
   "execution_count": 28,
   "metadata": {},
   "outputs": [
    {
     "name": "stdout",
     "output_type": "stream",
     "text": [
      "File downloaded and saved to /tmp/tmpej_ex17n.m\n",
      "File size: 4597 bytes\n"
     ]
    }
   ],
   "source": [
    "import urllib.request\n",
    "import os\n",
    "import tempfile\n",
    "\n",
    "# URL of the file\n",
    "url = \"https://raw.githubusercontent.com/MATPOWER/matpower/refs/heads/master/data/case14.m\"\n",
    "\n",
    "# Create a temporary file\n",
    "with tempfile.NamedTemporaryFile(delete=False, suffix='.m') as temp_file:\n",
    "    # Download the file\n",
    "    urllib.request.urlretrieve(url, temp_file.name)\n",
    "\n",
    "    print(f\"File downloaded and saved to {temp_file.name}\")\n",
    "\n",
    "    # Verify if the file exists\n",
    "    if os.path.exists(temp_file.name):\n",
    "        print(f\"File size: {os.path.getsize(temp_file.name)} bytes\")\n",
    "    else:\n",
    "        print(\"Download failed\")\n"
   ]
  },
  {
   "cell_type": "code",
   "execution_count": 29,
   "metadata": {},
   "outputs": [],
   "source": [
    "import andes\n",
    "from kvxopt import matrix\n",
    "\n",
    "ss = andes.load(temp_file.name)\n",
    "Y = matrix(ss.Line.build_y())\n",
    "\n",
    "nbus = ss.Bus.n\n",
    "P = np.zeros(nbus)\n",
    "Q = np.zeros(nbus)\n",
    "V = np.ones(nbus)\n",
    "theta = np.zeros(nbus)"
   ]
  },
  {
   "cell_type": "code",
   "execution_count": 30,
   "metadata": {},
   "outputs": [],
   "source": [
    "pq_loc = ss.Bus.idx2uid(ss.PQ.bus.v)\n",
    "pv_loc = ss.Bus.idx2uid(ss.PV.bus.v)\n",
    "slack_loc = ss.Bus.idx2uid(ss.Slack.bus.v)\n",
    "gen_loc = np.concatenate([pv_loc, slack_loc])\n",
    "non_gen_loc = np.setdiff1d(np.arange(ss.Bus.n), gen_loc)\n",
    "non_slack_loc = np.setdiff1d(np.arange(ss.Bus.n), slack_loc)\n",
    "shunt_loc = ss.Bus.idx2uid(ss.Shunt.bus.v)"
   ]
  },
  {
   "cell_type": "code",
   "execution_count": 31,
   "metadata": {},
   "outputs": [],
   "source": [
    "def pf_large(x, ss, P, Q, V, theta):\n",
    "\n",
    "    # PQ\n",
    "    P[pq_loc] -= ss.PQ.p0.v\n",
    "    Q[pq_loc] -= ss.PQ.q0.v\n",
    "\n",
    "    # PV\n",
    "    V[pv_loc] = ss.PV.v0.v\n",
    "    P[pv_loc] += ss.PV.p0.v\n",
    "\n",
    "    # Slack\n",
    "    theta[slack_loc] = ss.Slack.a0.v\n",
    "    V[slack_loc] = ss.Slack.v0.v\n",
    "\n",
    "    # retrieve unknowns from `x`\n",
    "    # Unknowns in `x` are grouped by theta and then V\n",
    "    #   note that the `non_gen_loc` can have random order\n",
    "    #   no sorting is needed, because x will be in the same order\n",
    "\n",
    "    theta[non_slack_loc] = x[:len(non_slack_loc)]\n",
    "    V[non_gen_loc] = x[len(non_slack_loc):]\n",
    "\n",
    "    # shunt elements\n",
    "    P[shunt_loc] += ss.Shunt.g.v * V[shunt_loc] ** 2\n",
    "    Q[shunt_loc] += ss.Shunt.b.v * V[shunt_loc] ** 2\n",
    "\n",
    "    Vc = V * np.exp(1j * theta)\n",
    "\n",
    "    # calculate the power injection into the network\n",
    "    #   note that power leaves the bus into the network\n",
    "    S = np.diag(Vc) @ np.conj(Y @ Vc)\n",
    "\n",
    "    # power leaving each bus via the lines \n",
    "    #   minus power injection at each bus shall equal to 0\n",
    "    Pmis = np.real(S) - P\n",
    "    Qmis = np.imag(S) - Q\n",
    "\n",
    "    return np.concatenate([Pmis[non_slack_loc],\n",
    "                           Qmis[non_gen_loc]])"
   ]
  },
  {
   "cell_type": "code",
   "execution_count": 32,
   "metadata": {},
   "outputs": [
    {
     "name": "stderr",
     "output_type": "stream",
     "text": [
      "/tmp/ipykernel_1585941/1904602603.py:4: RuntimeWarning: The iteration is not making good progress, as measured by the \n",
      " improvement from the last ten iterations.\n",
      "  sol = fsolve(pf_large, initial_guess, args=(ss, P, Q, V, theta))\n"
     ]
    }
   ],
   "source": [
    "initial_guess = np.concatenate([ss.Bus.a0.v[non_slack_loc],\n",
    "                                ss.Bus.v0.v[non_gen_loc]])\n",
    "\n",
    "sol = fsolve(pf_large, initial_guess, args=(ss, P, Q, V, theta))"
   ]
  },
  {
   "cell_type": "code",
   "execution_count": 33,
   "metadata": {},
   "outputs": [
    {
     "data": {
      "text/plain": [
       "array([1.06  , 1.045 , 1.01  , 1.0192, 1.0202, 1.07  , 1.062 , 1.09  ,\n",
       "       1.0559, 1.051 , 1.057 , 1.055 , 1.05  , 1.036 ])"
      ]
     },
     "execution_count": 33,
     "metadata": {},
     "output_type": "execute_result"
    }
   ],
   "source": [
    "V"
   ]
  },
  {
   "cell_type": "code",
   "execution_count": 34,
   "metadata": {},
   "outputs": [
    {
     "data": {
      "text/plain": [
       "array([ 0.    , -0.0869, -0.222 , -0.1803, -0.1533, -0.2482, -0.2334,\n",
       "       -0.2332, -0.2608, -0.2635, -0.2581, -0.263 , -0.2646, -0.28  ])"
      ]
     },
     "execution_count": 34,
     "metadata": {},
     "output_type": "execute_result"
    }
   ],
   "source": [
    "theta"
   ]
  },
  {
   "cell_type": "code",
   "execution_count": 35,
   "metadata": {},
   "outputs": [
    {
     "name": "stdout",
     "output_type": "stream",
     "text": [
      "<Compressed Sparse Column sparse matrix of dtype 'complex128'\n",
      "\twith 54 stored elements and shape (14, 14)>\n",
      "  Coords\tValues\n",
      "  (0, 0)\t(6.025029055768224-19.498070205514384j)\n",
      "  (1, 0)\t(-4.999131600798035+15.263086523179553j)\n",
      "  (4, 0)\t(-1.025897454970189+4.234983682334831j)\n",
      "  (0, 1)\t(-4.999131600798035+15.263086523179553j)\n",
      "  (1, 1)\t(9.521323610814779-30.354715398779067j)\n",
      "  (2, 1)\t(-1.1350191923073958+4.781863151757718j)\n",
      "  (3, 1)\t(-1.686033150614943+5.115838325872083j)\n",
      "  (4, 1)\t(-1.7011396670944048+5.193927397969713j)\n",
      "  (1, 2)\t(-1.1350191923073958+4.781863151757718j)\n",
      "  (2, 2)\t(3.1209949022329564-9.850680129351638j)\n",
      "  (3, 2)\t(-1.9859757099255606+5.0688169775939205j)\n",
      "  (1, 3)\t(-1.686033150614943+5.115838325872083j)\n",
      "  (2, 3)\t(-1.9859757099255606+5.0688169775939205j)\n",
      "  (3, 3)\t(10.512989522036175-38.343131738471556j)\n",
      "  (4, 3)\t(-6.840980661495672+21.578553981691588j)\n",
      "  (6, 3)\t4.889512660317341j\n",
      "  (8, 3)\t1.8554995578159006j\n",
      "  (0, 4)\t(-1.025897454970189+4.234983682334831j)\n",
      "  (1, 4)\t(-1.7011396670944048+5.193927397969713j)\n",
      "  (3, 4)\t(-6.840980661495672+21.578553981691588j)\n",
      "  (4, 4)\t(9.568017783560265-34.97540411445229j)\n",
      "  (5, 4)\t4.257445335253384j\n",
      "  (4, 5)\t4.257445335253384j\n",
      "  (5, 5)\t(6.579923407466222-17.34073280991911j)\n",
      "  (10, 5)\t(-1.9550285631772604+4.0940743442404415j)\n",
      "  :\t:\n",
      "  (7, 6)\t5.676979846721544j\n",
      "  (8, 6)\t9.09008271975275j\n",
      "  (6, 7)\t5.676979846721544j\n",
      "  (7, 7)\t-5.676979846721544j\n",
      "  (3, 8)\t1.8554995578159006j\n",
      "  (6, 8)\t9.09008271975275j\n",
      "  (8, 8)\t(5.326055039467359-24.28250637526788j)\n",
      "  (9, 8)\t(-3.902049552447428+10.365394127060915j)\n",
      "  (13, 8)\t(-1.4240054870199312+3.0290504569306034j)\n",
      "  (8, 9)\t(-3.902049552447428+10.365394127060915j)\n",
      "  (9, 9)\t(5.782934306147828-14.768337876521436j)\n",
      "  (10, 9)\t(-1.8808847537003996+4.402943749460521j)\n",
      "  (5, 10)\t(-1.9550285631772604+4.0940743442404415j)\n",
      "  (9, 10)\t(-1.8808847537003996+4.402943749460521j)\n",
      "  (10, 10)\t(3.83591331687766-8.497018093700962j)\n",
      "  (5, 11)\t(-1.525967440450974+3.1759639650294003j)\n",
      "  (11, 11)\t(4.014992027272893-5.427938591201612j)\n",
      "  (12, 11)\t(-2.4890245868219187+2.251974626172212j)\n",
      "  (5, 12)\t(-3.0989274038379877+6.102755448193116j)\n",
      "  (11, 12)\t(-2.4890245868219187+2.251974626172212j)\n",
      "  (12, 12)\t(6.724946148466233-10.66969354947068j)\n",
      "  (13, 12)\t(-1.1369941578063267+2.314963475105352j)\n",
      "  (8, 13)\t(-1.4240054870199312+3.0290504569306034j)\n",
      "  (12, 13)\t(-1.1369941578063267+2.314963475105352j)\n",
      "  (13, 13)\t(2.560999644826258-5.344013932035955j)\n"
     ]
    }
   ],
   "source": [
    "from andes.linsolvers.scipy import spmatrix_to_csc\n",
    "\n",
    "Y_spmatrix = ss.Line.build_y()\n",
    "Ycsc = spmatrix_to_csc(Y_spmatrix)\n",
    "print(Ycsc)\n"
   ]
  },
  {
   "cell_type": "markdown",
   "metadata": {},
   "source": [
    "## References\n",
    "\n",
    "```{bibliography}\n",
    ":style: unsrt\n",
    ":filter: docname in docnames\n",
    "```"
   ]
  }
 ],
 "metadata": {
  "kernelspec": {
   "display_name": "Python 3 (ipykernel)",
   "language": "python",
   "name": "python3"
  },
  "language_info": {
   "codemirror_mode": {
    "name": "ipython",
    "version": 3
   },
   "file_extension": ".py",
   "mimetype": "text/x-python",
   "name": "python",
   "nbconvert_exporter": "python",
   "pygments_lexer": "ipython3",
   "version": "3.11.11"
  }
 },
 "nbformat": 4,
 "nbformat_minor": 4
}
