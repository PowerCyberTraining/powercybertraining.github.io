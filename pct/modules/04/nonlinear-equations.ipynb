{
 "cells": [
  {
   "cell_type": "markdown",
   "metadata": {},
   "source": [
    "# Nonlinear Equations\n",
    "\n",
    "## Introduction\n",
    "\n",
    "Nonlinear equations are ubiquitous in scientific computing. In power systems,\n",
    "the AC power flow equations are nonlinear equations.\n",
    "\n",
    "The standard form of nonlinear equations is:\n",
    "\n",
    "$$\n",
    "f(x) = 0\n",
    "$$\n",
    "\n",
    "where `f` is a nonlinear function and `x` is the variable. In other\n",
    "words, solving nonlinear equations means finding the roots of a function. This\n",
    "function is called the **residual** function, which will be small enough (zero\n",
    "at the tolerance level) when the solution is found. \n",
    "\n",
    "\n",
    "\n",
    "\n"
   ]
  },
  {
   "cell_type": "markdown",
   "metadata": {},
   "source": [
    "## Residual Function\n",
    "\n",
    "The way to represent a nonlinear equation is to define the residual function.\n",
    "This is straightforward for simple problems in Python.\n",
    "\n",
    "Consider this problem from `scipy.optimize.fsolve` documentation:\n",
    "\n",
    "$$\n",
    "x_0 \\cos(x_1) = 4\n",
    "$$\n",
    "\n",
    "$$\n",
    "x_1 x_0 - x_1 = 5\n",
    "$$\n",
    "\n",
    "we can define the residual function as:\n"
   ]
  },
  {
   "cell_type": "code",
   "execution_count": 1,
   "metadata": {},
   "outputs": [],
   "source": [
    "import numpy as np\n",
    "\n",
    "\n",
    "def residual(x):\n",
    "    return [x[0]*np.cos(x[1]) - 4,\n",
    "            x[0]*x[1] - x[1] - 5]\n"
   ]
  },
  {
   "cell_type": "markdown",
   "metadata": {},
   "source": [
    "Note that for the function argument `x`, it is implicitly a 1D NumPy array. "
   ]
  },
  {
   "cell_type": "markdown",
   "metadata": {},
   "source": [
    "## Root-Finding with `fsolve`\n",
    "\n",
    "One of the most common methods to solve nonlinear equations is the\n",
    "[Newton-Raphson method](https://en.wikipedia.org/wiki/Newton%27s_method). In\n",
    "practice, for simple problems, we can use off-the-shelf solvers in Python.\n",
    "\n",
    "`fsolve` is a function in `scipy.optimize` for root-finding. We can check the\n",
    "docstring by typing `?fsolve` in a Jupyter cell or visiting the [documentation](https://docs.scipy.org/doc/scipy/reference/generated/scipy.optimize.fsolve.html)."
   ]
  },
  {
   "cell_type": "code",
   "execution_count": 2,
   "metadata": {},
   "outputs": [
    {
     "name": "stdout",
     "output_type": "stream",
     "text": [
      "[6.50409711 0.90841421]\n"
     ]
    }
   ],
   "source": [
    "from scipy.optimize import fsolve\n",
    "\n",
    "x0 = [1, 1]\n",
    "sol = fsolve(residual, x0)\n",
    "print(sol)\n"
   ]
  },
  {
   "cell_type": "code",
   "execution_count": 3,
   "metadata": {},
   "outputs": [
    {
     "data": {
      "text/plain": [
       "array([ True,  True])"
      ]
     },
     "execution_count": 3,
     "metadata": {},
     "output_type": "execute_result"
    }
   ],
   "source": [
    "np.isclose(residual(sol), [0.0, 0.0])  # the residual at the solution should be almost 0.0."
   ]
  },
  {
   "cell_type": "markdown",
   "metadata": {},
   "source": [
    "### Initial Guess\n",
    "\n",
    "Initial guess plays an important role in the solver convergence. An inproper\n",
    "initial guess may result in failure to converge. Such guesses are said to be\n",
    "**not in the region of attraction** of the solution.\n",
    "\n",
    "For example, if we use the initial guess `[0, 0]`, the solver will fail to\n",
    "converge.\n"
   ]
  },
  {
   "cell_type": "code",
   "execution_count": 4,
   "metadata": {},
   "outputs": [
    {
     "name": "stderr",
     "output_type": "stream",
     "text": [
      "/tmp/ipykernel_60358/2019346469.py:1: RuntimeWarning: The iteration is not making good progress, as measured by the \n",
      "  improvement from the last ten iterations.\n",
      "  sol = fsolve(residual, [0, 0])\n"
     ]
    }
   ],
   "source": [
    "sol = fsolve(residual, [0, 0])"
   ]
  },
  {
   "cell_type": "markdown",
   "metadata": {},
   "source": [
    "The error message indicates that the residual function did not converge to zero\n",
    "in the last ten steps. "
   ]
  },
  {
   "cell_type": "markdown",
   "metadata": {},
   "source": [
    "In other cases, a different initial guess may result in a different solution.\n",
    "Consider the simple equation \n",
    "\n",
    "$$x^2 - 1 = 0$$\n",
    "\n",
    "Starting from `1.2` and `-1.2` will converge to `1` and `-1`, respectively."
   ]
  },
  {
   "cell_type": "code",
   "execution_count": 5,
   "metadata": {},
   "outputs": [
    {
     "name": "stdout",
     "output_type": "stream",
     "text": [
      "Starting from 1.2, the solution is: [1.]\n",
      "Starting from -1.2, the solution is: [-1.]\n"
     ]
    }
   ],
   "source": [
    "def simple_residual(x):\n",
    "    return [x[0]**2 - 1]\n",
    "\n",
    "sol = fsolve(simple_residual, [1.2])\n",
    "print(\"Starting from 1.2, the solution is:\", sol)\n",
    "\n",
    "sol = fsolve(simple_residual, [-1.2])\n",
    "print(\"Starting from -1.2, the solution is:\", sol)\n",
    "\n"
   ]
  },
  {
   "cell_type": "markdown",
   "metadata": {},
   "source": [
    "### Storing History with Decorator"
   ]
  },
  {
   "cell_type": "markdown",
   "metadata": {},
   "source": [
    "Let's hack into `fsolve` to print out the residual at the solution. First, let's\n",
    "enable `full_output=True` to get some extra information, such as the number of\n",
    "iterations.\n"
   ]
  },
  {
   "cell_type": "code",
   "execution_count": 6,
   "metadata": {},
   "outputs": [
    {
     "name": "stdout",
     "output_type": "stream",
     "text": [
      "Number of iterations: 33\n"
     ]
    }
   ],
   "source": [
    "sol, infodict, ier, mesg = fsolve(residual, [0, 0], full_output=True)\n",
    "\n",
    "print(f\"Number of iterations: {infodict['nfev']}\")"
   ]
  },
  {
   "cell_type": "code",
   "execution_count": null,
   "metadata": {},
   "outputs": [],
   "source": []
  },
  {
   "cell_type": "markdown",
   "metadata": {},
   "source": [
    "Now let's store the `x` and the residual at each step. We will implement it with\n",
    "a technique called **decorator**.\n",
    "\n",
    "Decorators are a way to modify the behavior of a function. They are often used\n",
    "to add extra functionality to a function. \n",
    "\n",
    "A decorator *is* a function which *takes* a function as input and *returns* a modified function.\n"
   ]
  },
  {
   "cell_type": "code",
   "execution_count": 7,
   "metadata": {},
   "outputs": [],
   "source": [
    "residual_history = []\n",
    "x_history = []\n",
    "\n",
    "\n",
    "# `with_history` is a decorator to wrap the callback function\n",
    "def with_history(func):  # `func` is the function to modify (wrap)\n",
    "    def wrapper(*args, **kwargs):  # `wrapper` is the modified function to be returned\n",
    "        residual_history.append(residual(args[0]))\n",
    "        x_history.append(args[0])\n",
    "        return func(*args, **kwargs)\n",
    "    return wrapper\n"
   ]
  },
  {
   "cell_type": "markdown",
   "metadata": {},
   "source": [
    "Below is the basic way to use the decorator -- just call the decorator with the\n",
    "function to be modified. In this way, we did not modify any of the `residual`\n",
    "code but added extra functionality. Decorators are most powerful when\n",
    "you have a long function needing new functionality with only external\n",
    "modifications. "
   ]
  },
  {
   "cell_type": "code",
   "execution_count": 8,
   "metadata": {},
   "outputs": [
    {
     "name": "stderr",
     "output_type": "stream",
     "text": [
      "/tmp/ipykernel_60358/865456783.py:3: RuntimeWarning: The iteration is not making good progress, as measured by the \n",
      "  improvement from the last ten iterations.\n",
      "  sol = fsolve(residual_with_history, [0, 0])\n"
     ]
    }
   ],
   "source": [
    "residual_with_history = with_history(residual)\n",
    "\n",
    "sol = fsolve(residual_with_history, [0, 0])"
   ]
  },
  {
   "cell_type": "code",
   "execution_count": 9,
   "metadata": {},
   "outputs": [
    {
     "data": {
      "image/png": "[encoded data removed]",
      "text/plain": [
       "<Figure size 800x300 with 2 Axes>"
      ]
     },
     "metadata": {},
     "output_type": "display_data"
    }
   ],
   "source": [
    "# plot the residual history and `x` history in two figures, side by side\n",
    "\n",
    "import matplotlib.pyplot as plt\n",
    "import seaborn as sns\n",
    "\n",
    "\n",
    "def plot_history(residual_history, x_history):\n",
    "    plt.figure(figsize=(8, 3))\n",
    "    plt.subplot(1, 2, 1)\n",
    "    plt.plot(residual_history)\n",
    "    plt.xlabel('Iteration')\n",
    "    plt.ylabel('Residual')\n",
    "    plt.title('Residual History')\n",
    "    plt.subplot(1, 2, 2)\n",
    "    plt.plot(x_history)\n",
    "    plt.xlabel('Iteration')\n",
    "    plt.ylabel('x')\n",
    "    plt.title('x History')\n",
    "\n",
    "\n",
    "plot_history(residual_history, x_history)"
   ]
  },
  {
   "cell_type": "markdown",
   "metadata": {},
   "source": [
    "You can tell that the residual does not converge to zero, and the `x` are\n",
    "jumping back and forth."
   ]
  },
  {
   "cell_type": "markdown",
   "metadata": {},
   "source": [
    "Now let's check the residual and `x` using initial guess `[1, 1]`.\n",
    "\n"
   ]
  },
  {
   "cell_type": "code",
   "execution_count": 10,
   "metadata": {},
   "outputs": [
    {
     "data": {
      "image/png": "[encoded data removed]",
      "text/plain": [
       "<Figure size 800x300 with 2 Axes>"
      ]
     },
     "metadata": {},
     "output_type": "display_data"
    }
   ],
   "source": [
    "# don't forget to reset the history\n",
    "residual_history = []\n",
    "x_history = []\n",
    "\n",
    "sol = fsolve(residual_with_history, [1, 1])\n",
    "plot_history(residual_history, x_history)"
   ]
  },
  {
   "cell_type": "markdown",
   "metadata": {},
   "source": [
    "#### More on Decorators\n",
    "\n",
    "Decorators can be reused to wrap different functions. Suppose we have a\n",
    "different residual function for which the history is needed. In addition to\n",
    "writing out the residual function, we can use `@with_history` to wrap it. This\n",
    "is a syntax sugar provided by Python.\n",
    "\n",
    "```python\n",
    "@with_history\n",
    "def residual2(x):\n",
    "    return [x[0]**2 + x[1]**2 - 1,\n",
    "            x[0] + x[1] - 1]\n",
    "```"
   ]
  },
  {
   "cell_type": "markdown",
   "metadata": {},
   "source": [
    "### Convergence\n",
    "\n",
    "We talked about \"convergence\", but what does it mean? Intuitively, it means that\n",
    "the solution does not change much between iterations. That can be seen from the\n",
    "previous figure. \n",
    "\n",
    "Typically, convergence is checked on the variable between consecutive\n",
    "iterations. For a specified `xtol`, if the solution satisfies $|x_{k+1} - x_k| <\n",
    "\\text{xtol}$, the solution is deemed converged. This is what is checked by\n",
    "`fsolve`.\n",
    "\n",
    "In addition, the residual should be small enough when converged. The tolerance\n",
    "is often named `ftol`. If the residual satisfies $|f(x_{k+1})| < \\text{ftol}$, the solution\n",
    "is deemed converged.\n",
    "\n",
    "It is beneficial to check both of them if you are writing a custom solver."
   ]
  },
  {
   "cell_type": "markdown",
   "metadata": {},
   "source": [
    "## Jacobian Matrix\n",
    "\n",
    "SciPy's `fsolve` uses the [Powell's hybrid\n",
    "method](https://en.wikipedia.org/wiki/Powell%27s_dog_leg_method), which combines\n",
    "the Newton-Raphson method with gradient descent. They require the Jacobian\n",
    "matrix, which is the first-order derivatives of the residual function w.r.t the\n",
    "unknown variables.\n",
    "\n",
    "Calculating the Jacobian matrix is computationally expensive. By default,\n",
    "`fsolve` uses the `hybrd` method in MINPACK, which calculates the Jacobian\n",
    "matrix using finite differences. For each column of the Jacobian matrix, two\n",
    "evaluations of the residual functions are needed, resulting in a total of `2N`\n",
    "residual evaluations for an N-dimensional problem.\n",
    "\n",
    "Providing the Jacobian matrix can speed up the calculation. This is one of the\n",
    "reasons why texts on power system analysis always show Jacobian matrix. \n",
    "\n",
    "`fsolve` allows specifying the function that provides the Jacobian matrix\n",
    "through the `fprime` argument."
   ]
  },
  {
   "cell_type": "markdown",
   "metadata": {},
   "source": [
    "To clarify, the Jacobian function is the first-order derivatives of the\n",
    "**residual function** w.r.t the unknown variables. It is not necessarily the\n",
    "derivative of the **original function** w.r.t the unknown variables.\n",
    "\n",
    "In this case, the residual function is:\n",
    "\n",
    "$$\n",
    "r_0 = \n",
    "\\begin{bmatrix}\n",
    "x_0 \\cos(x_1) - 4 \\\\\n",
    "x_0 x_1 - x_1 - 5\n",
    "\\end{bmatrix}\n",
    "$$\n",
    "\n",
    "And the unkonwns are\n",
    "\n",
    "$$\n",
    "x = \\begin{bmatrix}\n",
    "x_0 \\\\\n",
    "x_1\n",
    "\\end{bmatrix}\n",
    "$$\n",
    "\n",
    "Therefore, the **analytical** Jacobian matrix is:\n",
    "\n",
    "$$\n",
    "J = \\begin{bmatrix}\n",
    "\\frac{\\partial r_0}{\\partial x_0} & \\frac{\\partial r_0}{\\partial x_1} \\\\\n",
    "\\frac{\\partial r_1}{\\partial x_0} & \\frac{\\partial r_1}{\\partial x_1}\n",
    "\\end{bmatrix} = \n",
    "\\begin{bmatrix}\n",
    "\\cos(x_1) & -x_0 \\sin(x_1) \\\\\n",
    "x_1 & x_0 - 1\n",
    "\\end{bmatrix}\n",
    "$$\n",
    "\n",
    "It is called the analytical Jacobian matrix because it is derived based on\n",
    "calculus. \n"
   ]
  },
  {
   "cell_type": "code",
   "execution_count": 11,
   "metadata": {},
   "outputs": [
    {
     "name": "stdout",
     "output_type": "stream",
     "text": [
      "[6.50409711 0.90841421]\n"
     ]
    },
    {
     "data": {
      "text/plain": [
       "array([ True,  True])"
      ]
     },
     "execution_count": 11,
     "metadata": {},
     "output_type": "execute_result"
    }
   ],
   "source": [
    "def jacobian(x):\n",
    "    return [[np.cos(x[1]), -x[0]*np.sin(x[1])],\n",
    "            [x[1], x[0] - 1]]\n",
    "\n",
    "\n",
    "sol = fsolve(residual, x0, fprime=jacobian)\n",
    "print(sol)\n",
    "\n",
    "np.isclose(residual(sol), [0.0, 0.0])  # the residual at the solution should be almost 0.0.\n"
   ]
  },
  {
   "cell_type": "markdown",
   "metadata": {},
   "source": [
    "In this small example, we cannot see the performance gain from providing the\n",
    "Jacobian matrix. However, this will be illustrated by a power flow problem."
   ]
  },
  {
   "cell_type": "markdown",
   "metadata": {},
   "source": [
    "## Power Flow Problem"
   ]
  },
  {
   "cell_type": "markdown",
   "metadata": {},
   "source": [
    "A typical nonlinear equation is the power flow equations. Power flow equations are algebraic equations encorcing the power balancing at each bus. Intuitively, the equations require that, at each bus, the power injection (generation minus load) is equal to the power that leaves the bus through connected lines. \n",
    "\n",
    "Using the complex power definition, the power flow equations are as simple as:\n",
    "\n",
    "$$\n",
    "\\begin{bmatrix}\n",
    "P_1 + j Q_1 \\\\\n",
    "P_2 + j Q_2 \\\\\n",
    "\\vdots \\\\\n",
    "P_N + j Q_N\n",
    "\\end{bmatrix} = \n",
    "\\text{diag}(V) (I)^*\n",
    "=\n",
    "\\text{diag}(V) (Y V)^*\n",
    "$$\n",
    "where $P_i$ and $Q_i$ are the real and reactive power injection at bus $i$, $V_i$ and $V_j$ are the voltage at bus $i$ and $j$, $Y$ is the admittance matrix, an\n",
    "\n",
    "$$\n",
    "\\text{diag}(V) = \n",
    "\\begin{bmatrix}\n",
    "V_1 & 0 & 0 & \\cdots & 0 \\\\\n",
    "0 & V_2 & 0 & \\cdots & 0 \\\\\n",
    "\\vdots & \\vdots & \\vdots & \\ddots & \\vdots \\\\\n",
    "0 & 0 & 0 & \\cdots & V_N\n",
    "\\end{bmatrix}\n",
    "$$\n",
    "\n",
    "\n"
   ]
  },
  {
   "cell_type": "markdown",
   "metadata": {},
   "source": [
    "If bus `k` has no injection, the corresponding $P_k$ and $Q_k$ are zero.\n",
    "\n"
   ]
  },
  {
   "cell_type": "markdown",
   "metadata": {},
   "source": [
    "For a system with $N$ buses, there are $2N$ real-valued equations. There has to be $2N$ unkonwns to solve the equations. \n",
    "\n",
    "As we have learned from power system analysis, there are three types of buses, PQ, PV and Slack. The unknowns are:\n",
    "\n",
    "\n",
    "| Bus Type | Knowns | Unknowns |\n",
    "| -------- | -------- | -------- |\n",
    "| PQ | $P_i, Q_i$ | $V_i, \\theta_i$ |\n",
    "| PV | $P_i, V_i$ | $Q_i, \\theta_i$ |\n",
    "| Slack | $V_i, \\theta_i$ | $P_i, Q_i$ |\n",
    "\n"
   ]
  },
  {
   "cell_type": "markdown",
   "metadata": {},
   "source": [
    "#### Example: 3-bus System"
   ]
  },
  {
   "cell_type": "markdown",
   "metadata": {},
   "source": [
    "We consider a three-bus system from {cite:p}`crow2016computational` (Example 3.11). I have taken the liberty to use a 0-based index to align with Python code.\n",
    "\n",
    "It is a three bus sytem with the following bus parameters:\n",
    "\n",
    "| Bus | Type | V | Pgen | Qgen | Pload | Qload |\n",
    "| ---- | -------- | -------- | -------- | -------- | -------- | -------- |\n",
    "| 0 | Slack | 1.02 | -- | -- | 0.0 | 0.0 |\n",
    "| 1 | PV | 1.00 | 0.5 | -- | 0.0 | 0.0 |\n",
    "| 2 | PQ | -- | 0 | 0 | 1.2 | 0.5 |\n",
    "\n",
    "And the line parameters are given as\n",
    "\n",
    "| From | To | R | X | B |\n",
    "| ---- | -------- | -------- | -------- | -------- |\n",
    "| 0 | 1 | 0.02 | 0.3 | 0.15 |\n",
    "| 0 | 2 | 0.01 | 0.1 | 0.1 |\n",
    "| 1 | 2 | 0.01 | 0.1 | 0.1 |\n",
    "\n"
   ]
  },
  {
   "cell_type": "markdown",
   "metadata": {},
   "source": [
    "First, let's make the admittance matrix.\n"
   ]
  },
  {
   "cell_type": "code",
   "execution_count": 12,
   "metadata": {},
   "outputs": [
    {
     "name": "stdout",
     "output_type": "stream",
     "text": [
      "[[ 1.21133795-13.09457417j -0.22123894 +3.31858407j\n",
      "  -0.99009901 +9.9009901j ]\n",
      " [-0.22123894 +3.31858407j  1.21133795-13.09457417j\n",
      "  -0.99009901 +9.9009901j ]\n",
      " [-0.99009901 +9.9009901j  -0.99009901 +9.9009901j\n",
      "   1.98019802-19.7019802j ]]\n"
     ]
    }
   ],
   "source": [
    "Y = np.zeros((3, 3), dtype=np.complex128)\n",
    "\n",
    "# Diagonal elements\n",
    "Y[0, 0] = 1 / (0.02 + 0.3j) + 1 / (0.01 + 0.1j) + 1j * 0.15 / 2 + 1j * 0.1 / 2\n",
    "Y[1, 1] = 1 / (0.02 + 0.3j) + 1 / (0.01 + 0.1j) + 1j * 0.15 / 2 + 1j * 0.1 / 2\n",
    "Y[2, 2] = 1 / (0.01 + 0.1j) + 1 / (0.01 + 0.1j) + 1j * 0.1 / 2 + 1j * 0.1 / 2\n",
    "\n",
    "# Off-diagonal elements\n",
    "Y[0, 1] -= 1 / (0.02 + 0.3j)\n",
    "Y[1, 0] -= 1 / (0.02 + 0.3j)\n",
    "\n",
    "Y[0, 2] -= 1 / (0.01 + 0.1j)\n",
    "Y[2, 0] -= 1 / (0.01 + 0.1j)\n",
    "\n",
    "Y[1, 2] -= 1 / (0.01 + 0.1j)\n",
    "Y[2, 1] -= 1 / (0.01 + 0.1j)\n",
    "\n",
    "print(Y)"
   ]
  },
  {
   "cell_type": "markdown",
   "metadata": {},
   "source": [
    "We can verify that the result matches the textbook:"
   ]
  },
  {
   "cell_type": "code",
   "execution_count": 13,
   "metadata": {},
   "outputs": [
    {
     "name": "stdout",
     "output_type": "stream",
     "text": [
      "Y magnitudes:\n",
      "[[13.15048335  3.32595053  9.9503719 ]\n",
      " [ 3.32595053 13.15048335  9.9503719 ]\n",
      " [ 9.9503719   9.9503719  19.80124259]]\n",
      "Y angles:\n",
      "[[-84.71478916  93.81407483  95.71059314]\n",
      " [ 93.81407483 -84.71478916  95.71059314]\n",
      " [ 95.71059314  95.71059314 -84.26061502]]\n"
     ]
    }
   ],
   "source": [
    "# print Y in a polar form (using degrees)\n",
    "print(\"Y magnitudes:\")\n",
    "print(np.abs(Y))\n",
    "\n",
    "print(\"Y angles:\")\n",
    "print(np.angle(Y, deg=True))\n"
   ]
  },
  {
   "cell_type": "markdown",
   "metadata": {},
   "source": [
    "We can move on and write the power flow equations. To conform with the standard form of `f(x) = 0`, the power injections are subtracted from both sides.\n",
    "\n",
    "TODO: briefly explain the signs"
   ]
  },
  {
   "cell_type": "code",
   "execution_count": 24,
   "metadata": {},
   "outputs": [
    {
     "name": "stdout",
     "output_type": "stream",
     "text": [
      "[ 0.70867913  0.28056964 -0.01009172 -0.04462179 -0.06351473  0.98158465]\n"
     ]
    }
   ],
   "source": [
    "def pf_3bus(x):\n",
    "    \n",
    "    # we can make the unknowns to be \n",
    "    #   x = [P0, Q0, theta1, Q1, theta2, V2]\n",
    "    #   where theta is in radians and V is in per unit\n",
    "\n",
    "    V = np.array([1.02, 1.00, x[5]])\n",
    "    theta = np.array([0.0, x[2], x[4]])\n",
    "    Vc = V * np.exp(1j * theta)\n",
    "\n",
    "    # calculate the power injection into the network\n",
    "    #   note that power leaves the bus into the network\n",
    "    S = np.diag(Vc) @ np.conj(Y @ Vc)\n",
    "\n",
    "    # power leaving each bus via the lines \n",
    "    #   minus power injection at each bus shall equal to 0\n",
    "    P = np.real(S) - np.array([x[0], 0.5, -1.2])\n",
    "    Q = np.imag(S) - np.array([x[1], x[3], -0.5])\n",
    "\n",
    "    return np.concatenate([P, Q])\n",
    "\n",
    "\n",
    "initial_guess = [0, 0, 0, 0, 0, 1.0]\n",
    "sol, infodict, ier, mesg = fsolve(pf_3bus, initial_guess, full_output=True)\n",
    "\n",
    "print(sol)"
   ]
  },
  {
   "cell_type": "markdown",
   "metadata": {},
   "source": [
    "This result is exactly the same as the one in the textbook."
   ]
  },
  {
   "cell_type": "markdown",
   "metadata": {},
   "source": [
    "#### Notes on the formulation\n",
    "\n",
    "If you still have some impressions from the Power System Analysis course, you\n",
    "may remember the lengthy derivations of the power flow equations and its\n",
    "Jacobian matrix. In fact, this formulation comes much simpler than the textbook\n",
    "ones, so it can be interesting to understand why both formulations work.\n",
    "\n",
    "You may also have many questions about the formulation, such as\n",
    "\n",
    "- Why is the P&Q at a slack bus and the Q at a PV bus included as variables,\n",
    "  resulting in six variables for three buses?\n",
    "- Following up on the previous question, why do we include two equations at the\n",
    "  slack bus and one reactive power equation at the PV bus?\n",
    "- Why are the variables not ordered in the typical way, namely, unknown phase\n",
    "  angles and then unknown voltage magnitudes, yet it solves?\n",
    "- Following up on the previous question, why is that ordering the convention (as\n",
    "  written in textbooks and implemented in many programs)? Is that still relevant?\n",
    "\n",
    "\n",
    "  These are left as exercises.\n"
   ]
  },
  {
   "cell_type": "markdown",
   "metadata": {},
   "source": [
    "### Issues with previous implementation\n",
    "\n"
   ]
  },
  {
   "cell_type": "markdown",
   "metadata": {
    "vscode": {
     "languageId": "plaintext"
    }
   },
   "source": [
    "## Custom Solver"
   ]
  },
  {
   "cell_type": "markdown",
   "metadata": {},
   "source": [
    "## SymPy"
   ]
  },
  {
   "cell_type": "code",
   "execution_count": null,
   "metadata": {},
   "outputs": [],
   "source": [
    "TODO"
   ]
  },
  {
   "cell_type": "markdown",
   "metadata": {},
   "source": [
    "## References\n",
    "\n",
    "```{bibliography}\n",
    ":style: unsrt\n",
    ":filter: docname in docnames\n",
    "```"
   ]
  },
  {
   "cell_type": "markdown",
   "metadata": {},
   "source": []
  }
 ],
 "metadata": {
  "kernelspec": {
   "display_name": "a",
   "language": "python",
   "name": "python3"
  },
  "language_info": {
   "codemirror_mode": {
    "name": "ipython",
    "version": 3
   },
   "file_extension": ".py",
   "mimetype": "text/x-python",
   "name": "python",
   "nbconvert_exporter": "python",
   "pygments_lexer": "ipython3",
   "version": "3.11.9"
  }
 },
 "nbformat": 4,
 "nbformat_minor": 2
}
