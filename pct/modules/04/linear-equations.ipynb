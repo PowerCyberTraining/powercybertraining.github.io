{
 "cells": [
  {
   "cell_type": "markdown",
   "metadata": {},
   "source": [
    "# Solving Linear Equations\n",
    "\n"
   ]
  },
  {
   "cell_type": "markdown",
   "metadata": {},
   "source": [
    "## Motivation\n",
    "\n",
    "Linear algebra is a fundamental tool in scientific computing. Linear systems of equations is one of the most common problems in scientific computing. We will use this module to introduce the basic concept, algorithms and tools for solving linear equations in Python."
   ]
  },
  {
   "cell_type": "markdown",
   "metadata": {},
   "source": [
    "## Basic Concepts\n",
    "\n",
    "If you are given a set of linear equations, you can write it in a matrix form as\n",
    "\n",
    "$$\n",
    "A x = b\n",
    "$$\n",
    "\n",
    "where $A$ is a matrix, $x$ is a vector, and $b$ is a vector. $A$ is also called\n",
    "the coefficient matrix, and $b$ is called the right-hand side vector. In linear\n",
    "algebra, $A$ and $b$ are often given, and we need to find $x$. \n",
    "\n",
    "If the number of equations is equal to the number of unknowns, i.e., the size of\n",
    "$A$ is $n\\times n$, then $A$ is called a square matrix. If $A$ is a square\n",
    "matrix and the determinant of $A$ is not zero (or say, the rows or columns are linearly\n",
    "independent), then $A$ is called a nonsingular matrix, and the solution $x$ is\n",
    "unique.\n"
   ]
  },
  {
   "cell_type": "markdown",
   "metadata": {},
   "source": [
    "\n",
    "## Matrix Formulation\n",
    "\n",
    "Let's start with a simple example:\n",
    "\n",
    "\n",
    "$$\n",
    "\\begin{bmatrix}\n",
    "2 & 1 & 4 \\\\\n",
    "1 & 2 & 3 \\\\\n",
    "3 & 1 & 2\n",
    "\\end{bmatrix}\n",
    "\\begin{bmatrix}\n",
    "x_1 \\\\\n",
    "x_2 \\\\\n",
    "x_3\n",
    "\\end{bmatrix} = \\begin{bmatrix} 1 \\\\ 2 \\\\ 3 \\end{bmatrix}\n",
    "$$\n",
    "\n",
    "\n",
    "In Python, the first thing to know is to use `numpy` to work with matrices and solve the equations.\n"
   ]
  },
  {
   "cell_type": "code",
   "execution_count": 2,
   "metadata": {},
   "outputs": [],
   "source": [
    "import numpy as np\n",
    "\n",
    "\n",
    "A = np.array([[2, 1, 4], [1, 2, 3], [3, 1, 2]])\n",
    "b = np.array([1, 2, 3])\n"
   ]
  },
  {
   "cell_type": "markdown",
   "metadata": {},
   "source": [
    "Some notes:\n",
    "\n",
    "- It is very common to do `import numpy as np` at the beginning of a Python script or a Jupyter notebook.\n",
    "- If you are familiar with MATLAB, you may recognize that `np.array([])` is the same as `[ ]` in MATLAB. It can be used to create an array (1D) or an array of arrays (2D)."
   ]
  },
  {
   "cell_type": "markdown",
   "metadata": {},
   "source": [
    "### Solution by Inversion"
   ]
  },
  {
   "cell_type": "markdown",
   "metadata": {},
   "source": [
    "The solution of the linear equations $A x = b$ is, mathematically, $x = A^{-1} b$. It can be implemented in Python as follows:"
   ]
  },
  {
   "cell_type": "code",
   "execution_count": 3,
   "metadata": {},
   "outputs": [
    {
     "name": "stdout",
     "output_type": "stream",
     "text": [
      "[ 0.90909091  1.36363636 -0.54545455]\n"
     ]
    }
   ],
   "source": [
    "Ainv = np.linalg.inv(A)\n",
    "\n",
    "x = Ainv @ b\n",
    "\n",
    "print(x)"
   ]
  },
  {
   "cell_type": "markdown",
   "metadata": {},
   "source": [
    "Additional notes are:\n",
    "\n",
    "- The `np.linalg.inv` function is used to compute the inverse of a matrix.\n",
    "- The `@` operator is used for **matrix multiplication** in Python.\n",
    "\n",
    "A quick cheatsheet can be found [here](https://cheatsheets.quantecon.org/index.html) for MATLAB users to get started with Python.\n",
    "\n",
    "\n",
    "\n"
   ]
  },
  {
   "cell_type": "markdown",
   "metadata": {},
   "source": [
    "### Non-Inversion Method\n",
    "\n",
    "\n",
    "But it is never a good idea to use the inverse of a matrix to solve the linear equations, because it can be \n",
    "- numerically unstable\n",
    "- computationally expensive\n",
    "\n",
    "For interested readers, here's a good writeup on [why one should never invert a matrix for Ax=b](https://gregorygundersen.com/blog/2020/12/09/matrix-inversion/).\n",
    "\n",
    "In Python, we can use the `np.linalg.solve` function to solve the linear equations.\n"
   ]
  },
  {
   "cell_type": "code",
   "execution_count": 4,
   "metadata": {},
   "outputs": [
    {
     "name": "stdout",
     "output_type": "stream",
     "text": [
      "[ 0.90909091  1.36363636 -0.54545455]\n"
     ]
    }
   ],
   "source": [
    "x = np.linalg.solve(A, b)\n",
    "\n",
    "print(x)"
   ]
  },
  {
   "cell_type": "markdown",
   "metadata": {},
   "source": [
    "`np.linalg.solve` uses the [LU decomposition](https://en.wikipedia.org/wiki/LU_decomposition) to solve the equations. It needs to be understood that the actual decomposition is performed by an underlying library, LAPACK, written in C/Fortran. This is a good example of how Python can be used as a \"glue\" language to combine different libraries and offer an high-level interface.\n"
   ]
  },
  {
   "cell_type": "markdown",
   "metadata": {},
   "source": [
    "## Sparse Linear Equations"
   ]
  },
  {
   "cell_type": "markdown",
   "metadata": {},
   "source": [
    "A set of equations is called sparse if the $A$ matrix has many zero elements. When using sparse matrix types to store $A$, the linear equations can be solved with better efficiency and less memory usage."
   ]
  },
  {
   "cell_type": "markdown",
   "metadata": {},
   "source": [
    "Sparse matrices are common in power system applications. As is typical, a substation represented as a bus is only connected to a few other buses. If we write out the nodal equation $I = Y V$, the [admittance matrix](https://en.wikipedia.org/wiki/Nodal_admittance_matrix) $Y$ is sparse.\n",
    "\n",
    "Let's use the numbers from the previous example but create a sparse matrix with `scipy`.\n",
    "\n"
   ]
  },
  {
   "cell_type": "code",
   "execution_count": 5,
   "metadata": {},
   "outputs": [
    {
     "name": "stdout",
     "output_type": "stream",
     "text": [
      "[ 0.90909091  1.36363636 -0.54545455]\n"
     ]
    }
   ],
   "source": [
    "A = np.array([[2, 1, 4], [1, 2, 3], [3, 1, 2]])\n",
    "b = np.array([1, 2, 3])\n",
    "\n",
    "from scipy.sparse import csr_matrix\n",
    "from scipy.sparse.linalg import spsolve\n",
    "\n",
    "A_sparse = csr_matrix(A)\n",
    "\n",
    "x = spsolve(A_sparse, b)\n",
    "\n",
    "print(x)"
   ]
  },
  {
   "cell_type": "markdown",
   "metadata": {},
   "source": [
    "A few notes are:\n",
    "- The sparse matrix is created by `csr_matrix` from a dense matrix $A$. This is not the most efficient way if the sparse matrix can be created without creating a full matrix. Here we use the dense matrix to illustrate the solution.\n",
    "- `scipy.sparse.linalg.spsolve` is used to solve the sparse linear equations. The solution is the same as the dense matrix.\n",
    "\n",
    "If we inspect `A_sparse`, we can see that it is a sparse matrix.\n",
    "\n"
   ]
  },
  {
   "cell_type": "code",
   "execution_count": 6,
   "metadata": {},
   "outputs": [
    {
     "name": "stdout",
     "output_type": "stream",
     "text": [
      "<Compressed Sparse Row sparse matrix of dtype 'int64'\n",
      "\twith 9 stored elements and shape (3, 3)>\n",
      "  Coords\tValues\n",
      "  (0, 0)\t2\n",
      "  (0, 1)\t1\n",
      "  (0, 2)\t4\n",
      "  (1, 0)\t1\n",
      "  (1, 1)\t2\n",
      "  (1, 2)\t3\n",
      "  (2, 0)\t3\n",
      "  (2, 1)\t1\n",
      "  (2, 2)\t2\n"
     ]
    }
   ],
   "source": [
    "print(A_sparse)"
   ]
  },
  {
   "cell_type": "markdown",
   "metadata": {},
   "source": [
    "SciPy supports many types of sparse matrices, including `csr_matrix`, `csc_matrix`, `coo_matrix`, `dia_matrix`, `dok_matrix`, `lil_matrix`. A summary can be found [here](https://docs.scipy.org/doc/scipy/reference/sparse.html#sparse-matrix-classes).\n",
    "\n",
    "The differences are in the underlying storage for representing the matrix on a computer. For example, `coo_matrix` stores the matrix in a coordinate format, which is efficient for creating a sparse matrix from a dense matrix. Similarly, `dok_matrix` stores the matrix in a dictionary, which is also efficient for increamentally building a matrix. These two formats are not suitable for numerical operations because of the difficulty in accessing the elements in any desired order. Specifically, for example, to access `(1, 1)` in a `coo_matrix`, we need to search through all the stored elements.\n",
    "\n",
    "\n",
    "\n",
    "\n",
    "\n"
   ]
  },
  {
   "cell_type": "markdown",
   "metadata": {},
   "source": [
    "## Working with Sparse Matrix\n",
    "\n",
    "As discussed, creating a sparse matrix from dense is not efficient, because when\n",
    "creating the dense matrix, heavy memory allocations are performed. Instead, we\n",
    "need to understand the original problem well and create the sparse matrix\n",
    "directly.\n",
    "\n",
    "Consider a four-bus power system with the line parameters given in the table\n",
    "below. R and X are the series resistance and reactance. B is the shunt\n",
    "susceptance which should be divided by 2 for each terminal.\n",
    "\n",
    "---------------------------------------\n",
    "| From | To | R     | X     | B     |\n",
    "| ---- | -- | ----- | ----- | ----- |\n",
    "| 0    | 1  | 0.01  | 0.05  | 0.02  |\n",
    "| 0    | 2  | 0.02  | 0.06  | 0.03  |\n",
    "| 1    | 2  | 0.03  | 0.07  | 0.04  |\n",
    "| 2    | 3  | 0.04  | 0.08  | 0.05  |\n",
    "---------------------------------------\n",
    "\n",
    "For the sake of simplicity, we start the bus index with 0, which is consistent with the Python index.\n",
    "\n",
    "We build the admittance matrix using a `dok_matrix` format.\n",
    "\n"
   ]
  },
  {
   "cell_type": "code",
   "execution_count": 7,
   "metadata": {},
   "outputs": [],
   "source": [
    "from scipy.sparse import dok_matrix\n",
    "import numpy as np\n",
    "\n",
    "r = np.array([0.01, 0.02, 0.03, 0.04])\n",
    "x = np.array([0.05, 0.06, 0.07, 0.08])\n",
    "b = np.array([0.02, 0.03, 0.04, 0.05])\n",
    "\n",
    "fr = np.array([0, 0, 1, 2])\n",
    "to = np.array([1, 2, 2, 3])\n",
    "\n",
    "nlines = 4\n",
    "\n",
    "# create an empty matrix with 4 rows and 4 columns\n",
    "Ybus = dok_matrix((4, 4), dtype=complex)\n"
   ]
  },
  {
   "cell_type": "markdown",
   "metadata": {},
   "source": [
    "Internally, the `dok_matrix` is a dictionary that maps the row index and column\n",
    "index to the value. It is useful to build the matrix incrementally, because you\n",
    "will be doing random access to find the elements to update. Based on hash table,\n",
    "dictionary access is on average O(1)."
   ]
  },
  {
   "cell_type": "code",
   "execution_count": 8,
   "metadata": {},
   "outputs": [
    {
     "name": "stdout",
     "output_type": "stream",
     "text": [
      "<Dictionary Of Keys sparse matrix of dtype 'complex128'\n",
      "\twith 12 stored elements and shape (4, 4)>\n",
      "  Coords\tValues\n",
      "  (0, 0)\t(8.871153846153845-34.230769230769226j)\n",
      "  (1, 1)\t(9.048567639257293-31.299734748010607j)\n",
      "  (0, 1)\t(-3.846153846153846+19.23076923076923j)\n",
      "  (1, 0)\t(-3.846153846153846+19.23076923076923j)\n",
      "  (2, 2)\t(15.232413793103449-37.06896551724138j)\n",
      "  (0, 2)\t(-5.000000000000001+15j)\n",
      "  (2, 0)\t(-5.000000000000001+15j)\n",
      "  (1, 2)\t(-5.1724137931034475+12.068965517241379j)\n",
      "  (2, 1)\t(-5.1724137931034475+12.068965517241379j)\n",
      "  (3, 3)\t(5.025-10j)\n",
      "  (2, 3)\t(-5+10j)\n",
      "  (3, 2)\t(-5+10j)\n"
     ]
    }
   ],
   "source": [
    "\n",
    "# follow the definition of admittance and insert the elements\n",
    "\n",
    "for i in range(nlines):\n",
    "    Ybus[fr[i], fr[i]] += 1 / (r[i] + 1j * x[i]) + b[i] / 2\n",
    "    Ybus[to[i], to[i]] += 1 / (r[i] + 1j * x[i]) + b[i] / 2\n",
    "    Ybus[fr[i], to[i]] -= 1 / (r[i] + 1j * x[i])\n",
    "    Ybus[to[i], fr[i]] -= 1 / (r[i] + 1j * x[i])\n",
    "\n",
    "print(Ybus)"
   ]
  },
  {
   "cell_type": "markdown",
   "metadata": {},
   "source": [
    "One will then convert the `dok_matrix` to a `coo_matrix` to perform the matrix-vector multiplication.\n"
   ]
  },
  {
   "cell_type": "code",
   "execution_count": 9,
   "metadata": {},
   "outputs": [
    {
     "name": "stdout",
     "output_type": "stream",
     "text": [
      "<Compressed Sparse Row sparse matrix of dtype 'complex128'\n",
      "\twith 12 stored elements and shape (4, 4)>\n",
      "  Coords\tValues\n",
      "  (0, 0)\t(8.871153846153845-34.230769230769226j)\n",
      "  (0, 1)\t(-3.846153846153846+19.23076923076923j)\n",
      "  (0, 2)\t(-5.000000000000001+15j)\n",
      "  (1, 1)\t(9.048567639257293-31.299734748010607j)\n",
      "  (1, 0)\t(-3.846153846153846+19.23076923076923j)\n",
      "  (1, 2)\t(-5.1724137931034475+12.068965517241379j)\n",
      "  (2, 2)\t(15.232413793103449-37.06896551724138j)\n",
      "  (2, 0)\t(-5.000000000000001+15j)\n",
      "  (2, 1)\t(-5.1724137931034475+12.068965517241379j)\n",
      "  (2, 3)\t(-5+10j)\n",
      "  (3, 3)\t(5.025-10j)\n",
      "  (3, 2)\t(-5+10j)\n"
     ]
    }
   ],
   "source": [
    "Ybus_coo = Ybus.tocsr()\n",
    "\n",
    "print(Ybus_coo)"
   ]
  },
  {
   "cell_type": "markdown",
   "metadata": {},
   "source": [
    "Each sparse matrix format in SciPy has supports different ways to construct the\n",
    "matrix. Please refer to the\n",
    "[documentation](https://docs.scipy.org/doc/scipy/reference/sparse.html) for the specifics."
   ]
  },
  {
   "cell_type": "markdown",
   "metadata": {},
   "source": [
    "Question: What other ways can you think of to build the admittance matrix? How about not using the `for` loop?"
   ]
  },
  {
   "cell_type": "markdown",
   "metadata": {},
   "source": [
    "## Alternative Sparse Solvers"
   ]
  },
  {
   "cell_type": "markdown",
   "metadata": {},
   "source": [
    "The default underlying solver for `scipy.sparse.linalg.spsolve` is\n",
    "[SuperLU](https://portal.nersc.gov/project/sparse/superlu/). You can install the\n",
    "Python package `scikit-sparse` to use a different solver, UMFPACK, which is the\n",
    "default solver for MATLAB. The two solvers are inherently different. One needs\n",
    "to benchmark the solvers for the specific problem to find out the more efficient\n",
    "one. \n",
    "\n",
    "Below is an example of benchmarking the two solvers."
   ]
  },
  {
   "cell_type": "code",
   "execution_count": 10,
   "metadata": {},
   "outputs": [],
   "source": [
    "# make a large random sparse matrix\n",
    "from scipy.sparse import rand\n",
    "import numpy as np\n",
    "A = rand(10000, 10000, density=0.0002, format='dok')"
   ]
  },
  {
   "cell_type": "markdown",
   "metadata": {},
   "source": [
    "Question: Test how long it takes if the format is changed to `csr`."
   ]
  },
  {
   "cell_type": "markdown",
   "metadata": {},
   "source": [
    "### Testing on a power system case\n",
    "\n"
   ]
  },
  {
   "cell_type": "markdown",
   "metadata": {},
   "source": [
    "We first download the case file from MATPOWER."
   ]
  },
  {
   "cell_type": "code",
   "execution_count": 11,
   "metadata": {},
   "outputs": [
    {
     "name": "stdout",
     "output_type": "stream",
     "text": [
      "File downloaded and saved to /tmp/tmpfsjl3lr9.m\n",
      "File size: 1530051 bytes\n"
     ]
    }
   ],
   "source": [
    "\n",
    "import urllib.request\n",
    "import os\n",
    "import tempfile\n",
    "\n",
    "# URL of the file\n",
    "url = \"https://raw.githubusercontent.com/MATPOWER/matpower/refs/heads/master/data/case9241pegase.m\"\n",
    "\n",
    "# Create a temporary file\n",
    "with tempfile.NamedTemporaryFile(delete=False, suffix='.m') as temp_file:\n",
    "    # Download the file\n",
    "    urllib.request.urlretrieve(url, temp_file.name)\n",
    "\n",
    "    print(f\"File downloaded and saved to {temp_file.name}\")\n",
    "\n",
    "    # Verify if the file exists\n",
    "    if os.path.exists(temp_file.name):\n",
    "        print(f\"File size: {os.path.getsize(temp_file.name)} bytes\")\n",
    "    else:\n",
    "        print(\"Download failed\")\n",
    "\n",
    "    # The file and temporary directory will be automatically deleted\n",
    "    # when we exit the 'with' block\n"
   ]
  },
  {
   "cell_type": "markdown",
   "metadata": {},
   "source": [
    "Next, load the case into ANDES and obtain the Jacobian matrix for power flow at\n",
    "the first iteration."
   ]
  },
  {
   "cell_type": "code",
   "execution_count": 12,
   "metadata": {},
   "outputs": [],
   "source": [
    "import andes\n",
    "from andes.linsolvers.scipy import spmatrix_to_csc\n",
    "\n",
    "\n",
    "ss = andes.load(temp_file.name, no_output=True)\n",
    "ss.PFlow.init()\n",
    "ss.PFlow.nr_step()\n",
    "\n",
    "# get the Jacobian matrix\n",
    "J = spmatrix_to_csc(ss.dae.gy)\n",
    "\n",
    "# get the right-hand side vector\n",
    "b = np.array(ss.dae.g)\n"
   ]
  },
  {
   "cell_type": "markdown",
   "metadata": {},
   "source": [
    "We can verify the size of the Jacobian matrix:"
   ]
  },
  {
   "cell_type": "code",
   "execution_count": 13,
   "metadata": {},
   "outputs": [
    {
     "data": {
      "text/plain": [
       "<Compressed Sparse Column sparse matrix of dtype 'float64'\n",
       "\twith 154958 stored elements and shape (19928, 19928)>"
      ]
     },
     "execution_count": 13,
     "metadata": {},
     "output_type": "execute_result"
    }
   ],
   "source": [
    "J"
   ]
  },
  {
   "cell_type": "code",
   "execution_count": 14,
   "metadata": {},
   "outputs": [
    {
     "name": "stdout",
     "output_type": "stream",
     "text": [
      "26.8 ms ± 179 μs per loop (mean ± std. dev. of 5 runs, 20 loops each)\n"
     ]
    }
   ],
   "source": [
    "# Solve the linear equations with SuperLU\n",
    "\n",
    "from scipy.sparse.linalg import spsolve\n",
    "%timeit -n 20 -r 5 spsolve(J, b, use_umfpack=False)"
   ]
  },
  {
   "cell_type": "markdown",
   "metadata": {},
   "source": [
    "In the above, we passed two arguments to `%timeit` to run the code in a loop of\n",
    "20 times and repeat 5 loops. This is to get a more accurate measurement of the\n",
    "execution time. This manual adjustment is useful when the default `%timeit`\n",
    "takes too long to run.\n",
    "\n",
    "Next, let's solve it with UMFPACK. Make sure you have installed `scikit-umfpack` before running the following code."
   ]
  },
  {
   "cell_type": "code",
   "execution_count": 15,
   "metadata": {},
   "outputs": [
    {
     "name": "stdout",
     "output_type": "stream",
     "text": [
      "35.5 ms ± 665 μs per loop (mean ± std. dev. of 5 runs, 20 loops each)\n"
     ]
    }
   ],
   "source": [
    "from scikits.umfpack import spsolve as umfpack_spsolve\n",
    "\n",
    "\n",
    "%timeit -n 20 -r 5 umfpack_spsolve(J, b)"
   ]
  },
  {
   "cell_type": "markdown",
   "metadata": {},
   "source": [
    "The result shows that UMFPACK takes more time to run.\n",
    "\n",
    "This is not to say that UMFPACK is always slower. The two solvers are designed\n",
    "for sparse matrices with different underlying structures. Again, the performance\n",
    "needs to be benchmarked for specific cases."
   ]
  },
  {
   "cell_type": "markdown",
   "metadata": {},
   "source": [
    "## Alternative Sparse Libraries\n",
    "\n",
    "In the end, we would like to mention that NumPy and SciPy are not the only\n",
    "libraries for scientific computing in Python. Without doubt, they are the most\n",
    "popular ones, which means they have been tested over a wide range of cases and\n",
    "are well-documented. Users are less likely to run into bugs or weird corner\n",
    "cases, even though they are supported by the open-source community. In addition,\n",
    "the ecosystem around NumPy and SciPy are very rich, meaning that there are other\n",
    "packages built on top of them or interoperate with them  v.\n",
    "\n",
    "There are other libraries for matrix computation, such as CVXOPT and its fork\n",
    "KVXOPT. As its name suggests, CVXOPT is a package designed for convex\n",
    "optimization. The authors of CVXOPT also coded up dense and sparse matrix types\n",
    "and related linear algebra operations.\n",
    "\n",
    "Like SciPy, CVXOPT does not develop its own sparse linear solvers but interfaces\n",
    "with the existing, highly optimized ones. Over the years, many efficient solvers\n",
    "have been developed, such as SuperLU, UMFPACK, KLU, among many others. CVXOPT\n",
    "interfaces its sparse matrix type with UMFPACK, and KVXOPT further extends it to\n",
    "support KLU, which is \"Kent Clark LU\". KLU is worth mentioning because it shows\n",
    "superior performance for electrical circuit problems.\n",
    "\n"
   ]
  },
  {
   "cell_type": "markdown",
   "metadata": {},
   "source": [
    "In ANDES, the Jacobian matrix is of the type `KVXOPT.spmatrix`. It can work with both the UMFPACK and KLU solvers."
   ]
  },
  {
   "cell_type": "markdown",
   "metadata": {},
   "source": [
    "Let's prepare the data, `J` and `b` matrices for the KLU solver. Note that the matrix `b` needs to be converted to the `matrix` type to be supported by KVXOPT. Fortunately, under the hood, `matrix` is interoperable with NumPy arrays."
   ]
  },
  {
   "cell_type": "code",
   "execution_count": 23,
   "metadata": {},
   "outputs": [],
   "source": [
    "from kvxopt import klu, umfpack, matrix\n",
    "\n",
    "\n",
    "J = ss.dae.gy\n",
    "\n",
    "# convert b to KVXOPT.matrix type\n",
    "b = matrix(ss.dae.g)\n"
   ]
  },
  {
   "cell_type": "markdown",
   "metadata": {},
   "source": [
    "Let's first test it with UMFPACK:"
   ]
  },
  {
   "cell_type": "code",
   "execution_count": 22,
   "metadata": {},
   "outputs": [
    {
     "name": "stdout",
     "output_type": "stream",
     "text": [
      "34.7 ms ± 1.36 ms per loop (mean ± std. dev. of 7 runs, 10 loops each)\n"
     ]
    }
   ],
   "source": [
    "%%timeit \n",
    "b_new = matrix(b)\n",
    "umfpack.linsolve(J, b_new)"
   ]
  },
  {
   "cell_type": "markdown",
   "metadata": {},
   "source": [
    "In the above, `%%timeit` is a magic command to time the cell, which can be multiple lines. We have to create a copy of `b` every time because, by the design of the solver, the output is written to the `b` matrix. Creating a copy of `b` ensures that we are solving the same problem each time.\n",
    "\n",
    "If you compare the UMFPACK time via SciPy and KVXOPT, you will find that they are very close. This is largely because both of the wrappers in Python are efficient, and most of the time is spend on the underlying solver, which is the same via SciPy and KVXOPT.\n",
    "\n",
    "Next, let's test it with KLU:\n"
   ]
  },
  {
   "cell_type": "code",
   "execution_count": 24,
   "metadata": {},
   "outputs": [
    {
     "name": "stdout",
     "output_type": "stream",
     "text": [
      "10.1 ms ± 26.3 μs per loop (mean ± std. dev. of 7 runs, 100 loops each)\n"
     ]
    }
   ],
   "source": [
    "%%timeit \n",
    "b_new = matrix(b)\n",
    "klu.linsolve(J, b_new)"
   ]
  },
  {
   "cell_type": "markdown",
   "metadata": {},
   "source": [
    "KLU only takes about 1/3 of the time of UMFPACK. Again, this is not to say that KLU is always better. They suit different types of problems, and the way for the user to choose the right solver is to be practical: benchmark them for the specific problems.\n",
    "\n",
    "Note that if you are creating the sparse matrix with `SciPy`, there is an overhead to convert it to the `KVXOPT.spmatrix` type.\n",
    "\n",
    "Exercise: Please read the documentation for CVXOPT/KVXOPT and write a function to convert a SciPy sparse matrix to a `KVXOPT.spmatrix`. Which SciPy sparse matrix will you choose?\n",
    "\n",
    "\n",
    "\n"
   ]
  },
  {
   "cell_type": "markdown",
   "metadata": {},
   "source": [
    "## Summary\n",
    "\n",
    "- Fundamentally, we can solve linear equations $A x = b$ in Python with `numpy.linalg.solve` or `scipy.sparse.linalg.spsolve`.\n",
    "- For large-scale sparse problems, the sparse matrix solvers are more efficient.\n",
    "- We can benchmark the solvers for specific problems to find the most efficient one.\n",
    "- The choice of sparse matrix libraries can also impact the performance."
   ]
  },
  {
   "cell_type": "markdown",
   "metadata": {},
   "source": []
  }
 ],
 "metadata": {
  "kernelspec": {
   "display_name": "a",
   "language": "python",
   "name": "python3"
  },
  "language_info": {
   "codemirror_mode": {
    "name": "ipython",
    "version": 3
   },
   "file_extension": ".py",
   "mimetype": "text/x-python",
   "name": "python",
   "nbconvert_exporter": "python",
   "pygments_lexer": "ipython3",
   "version": "3.11.9"
  }
 },
 "nbformat": 4,
 "nbformat_minor": 2
}
