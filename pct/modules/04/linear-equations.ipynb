{
 "cells": [
  {
   "cell_type": "markdown",
   "metadata": {},
   "source": [
    "# Solving Linear Equations\n",
    "\n"
   ]
  },
  {
   "cell_type": "markdown",
   "metadata": {},
   "source": [
    "## Motivation\n",
    "\n",
    "Linear algebra is a fundamental tool in scientific computing. Linear systems of equations is one of the most common problems in scientific computing. We will use this module to introduce the basic concept, algorithms and tools for solving linear equations in Python."
   ]
  },
  {
   "cell_type": "markdown",
   "metadata": {},
   "source": [
    "## Basic Concepts\n",
    "\n",
    "If you are given a set of linear equations, you can write it in a matrix form as\n",
    "\n",
    "$$\n",
    "A x = b\n",
    "$$\n",
    "\n",
    "where $A$ is a matrix, $x$ is a vector, and $b$ is a vector. $A$ is also called\n",
    "the coefficient matrix, and $b$ is called the right-hand side vector. In linear\n",
    "algebra, $A$ and $b$ are often given, and we need to find $x$. \n",
    "\n",
    "If the number of equations is equal to the number of unknowns, i.e., the size of\n",
    "$A$ is $n\\times n$, then $A$ is called a square matrix. If $A$ is a square\n",
    "matrix and the determinant of $A$ is not zero (or say, the rows or columns are linearly\n",
    "independent), then $A$ is called a nonsingular matrix, and the solution $x$ is\n",
    "unique.\n"
   ]
  },
  {
   "cell_type": "markdown",
   "metadata": {},
   "source": [
    "\n",
    "## Matrix Formulation\n",
    "\n",
    "Let's start with a simple example:\n",
    "\n",
    "\n",
    "$$\n",
    "\\begin{bmatrix}\n",
    "2 & 1 & 4 \\\\\n",
    "1 & 2 & 3 \\\\\n",
    "3 & 1 & 2\n",
    "\\end{bmatrix}\n",
    "\\begin{bmatrix}\n",
    "x_1 \\\\\n",
    "x_2 \\\\\n",
    "x_3\n",
    "\\end{bmatrix} = \\begin{bmatrix} 1 \\\\ 2 \\\\ 3 \\end{bmatrix}\n",
    "$$\n",
    "\n",
    "\n",
    "In Python, the first thing to know is to use `numpy` to work with matrices and solve the equations.\n"
   ]
  },
  {
   "cell_type": "code",
   "execution_count": 1,
   "metadata": {},
   "outputs": [],
   "source": [
    "import numpy as np\n",
    "\n",
    "\n",
    "A = np.array([[2, 1, 4], [1, 2, 3], [3, 1, 2]])\n",
    "b = np.array([1, 2, 3])\n"
   ]
  },
  {
   "cell_type": "markdown",
   "metadata": {},
   "source": [
    "Some notes:\n",
    "\n",
    "- It is very common to do `import numpy as np` at the beginning of a Python script or a Jupyter notebook.\n",
    "- If you are familiar with MATLAB, you may recognize that `np.array([])` is the same as `[ ]` in MATLAB. It can be used to create an array (1D) or an array of arrays (2D)."
   ]
  },
  {
   "cell_type": "markdown",
   "metadata": {},
   "source": [
    "### Solution by Inversion"
   ]
  },
  {
   "cell_type": "markdown",
   "metadata": {},
   "source": [
    "The solution of the linear equations $A x = b$ is, mathematically, $x = A^{-1} b$. It can be implemented in Python as follows:"
   ]
  },
  {
   "cell_type": "code",
   "execution_count": 2,
   "metadata": {},
   "outputs": [
    {
     "name": "stdout",
     "output_type": "stream",
     "text": [
      "[ 0.90909091  1.36363636 -0.54545455]\n"
     ]
    }
   ],
   "source": [
    "Ainv = np.linalg.inv(A)\n",
    "\n",
    "x = Ainv @ b\n",
    "\n",
    "print(x)"
   ]
  },
  {
   "cell_type": "markdown",
   "metadata": {},
   "source": [
    "Additional notes are:\n",
    "\n",
    "- The `np.linalg.inv` function is used to compute the inverse of a matrix.\n",
    "- The `@` operator is used for **matrix multiplication** in Python.\n",
    "\n",
    "A quick cheatsheet can be found [here](https://cheatsheets.quantecon.org/index.html) for MATLAB users to get started with Python.\n",
    "\n",
    "\n",
    "\n"
   ]
  },
  {
   "cell_type": "markdown",
   "metadata": {},
   "source": [
    "### Non-Inversion Method\n",
    "\n",
    "\n",
    "But it is never a good idea to use the inverse of a matrix to solve the linear equations, because it can be \n",
    "- numerically unstable\n",
    "- computationally expensive\n",
    "\n",
    "For interested readers, here's a good writeup on [why one should never invert a matrix for Ax=b](https://gregorygundersen.com/blog/2020/12/09/matrix-inversion/).\n",
    "\n",
    "In Python, we can use the `np.linalg.solve` function to solve the linear equations.\n"
   ]
  },
  {
   "cell_type": "code",
   "execution_count": 3,
   "metadata": {},
   "outputs": [
    {
     "name": "stdout",
     "output_type": "stream",
     "text": [
      "[ 0.90909091  1.36363636 -0.54545455]\n"
     ]
    }
   ],
   "source": [
    "x = np.linalg.solve(A, b)\n",
    "\n",
    "print(x)"
   ]
  },
  {
   "cell_type": "markdown",
   "metadata": {},
   "source": [
    "`np.linalg.solve` uses the [LU decomposition](https://en.wikipedia.org/wiki/LU_decomposition) to solve the equations. It needs to be understood that the actual decomposition is performed by an underlying library, LAPACK, written in C/Fortran. This is a good example of how Python can be used as a \"glue\" language to combine different libraries and offer an high-level interface.\n"
   ]
  },
  {
   "cell_type": "markdown",
   "metadata": {},
   "source": [
    "## Sparse Linear Equations"
   ]
  },
  {
   "cell_type": "markdown",
   "metadata": {},
   "source": [
    "A set of equations is called sparse if the $A$ matrix has many zero elements. When using sparse matrix types to store $A$, the linear equations can be solved with better efficiency and less memory usage."
   ]
  },
  {
   "cell_type": "markdown",
   "metadata": {},
   "source": [
    "Sparse matrices are common in power system applications. As is typical, a substation represented as a bus is only connected to a few other buses. If we write out the nodal equation $I = Y V$, the [admittance matrix](https://en.wikipedia.org/wiki/Nodal_admittance_matrix) $Y$ is sparse.\n",
    "\n",
    "Let's use the numbers from the previous example but create a sparse matrix with `scipy`.\n",
    "\n"
   ]
  },
  {
   "cell_type": "code",
   "execution_count": 9,
   "metadata": {},
   "outputs": [
    {
     "name": "stdout",
     "output_type": "stream",
     "text": [
      "[ 0.90909091  1.36363636 -0.54545455]\n"
     ]
    }
   ],
   "source": [
    "A = np.array([[2, 1, 4], [1, 2, 3], [3, 1, 2]])\n",
    "b = np.array([1, 2, 3])\n",
    "\n",
    "from scipy.sparse import csr_matrix\n",
    "from scipy.sparse.linalg import spsolve\n",
    "\n",
    "A_sparse = csr_matrix(A)\n",
    "\n",
    "x = spsolve(A_sparse, b)\n",
    "\n",
    "print(x)"
   ]
  },
  {
   "cell_type": "markdown",
   "metadata": {},
   "source": [
    "A few notes are:\n",
    "- The sparse matrix is created by `csr_matrix` from a dense matrix $A$. This is not the most efficient way if the sparse matrix can be created without creating a full matrix. Here we use the dense matrix to illustrate the solution.\n",
    "- `scipy.sparse.linalg.spsolve` is used to solve the sparse linear equations. The solution is the same as the dense matrix.\n",
    "\n",
    "If we inspect `A_sparse`, we can see that it is a sparse matrix.\n",
    "\n"
   ]
  },
  {
   "cell_type": "code",
   "execution_count": 10,
   "metadata": {},
   "outputs": [
    {
     "name": "stdout",
     "output_type": "stream",
     "text": [
      "<Compressed Sparse Row sparse matrix of dtype 'int64'\n",
      "\twith 9 stored elements and shape (3, 3)>\n",
      "  Coords\tValues\n",
      "  (0, 0)\t2\n",
      "  (0, 1)\t1\n",
      "  (0, 2)\t4\n",
      "  (1, 0)\t1\n",
      "  (1, 1)\t2\n",
      "  (1, 2)\t3\n",
      "  (2, 0)\t3\n",
      "  (2, 1)\t1\n",
      "  (2, 2)\t2\n"
     ]
    }
   ],
   "source": [
    "print(A_sparse)"
   ]
  },
  {
   "cell_type": "markdown",
   "metadata": {},
   "source": [
    "SciPy supports many types of sparse matrices, including `csr_matrix`, `csc_matrix`, `coo_matrix`, `dia_matrix`, `dok_matrix`, `lil_matrix`. A summary can be found [here](https://docs.scipy.org/doc/scipy/reference/sparse.html#sparse-matrix-classes).\n",
    "\n",
    "The differences are in the underlying storage for representing the matrix on a computer. For example, `coo_matrix` stores the matrix in a coordinate format, which is efficient for creating a sparse matrix from a dense matrix. Similarly, `dok_matrix` stores the matrix in a dictionary, which is also efficient for increamentally building a matrix. These two formats are not suitable for numerical operations because of the difficulty in accessing the elements in any desired order. Specifically, for example, to access `(1, 1)` in a `coo_matrix`, we need to search through all the stored elements.\n",
    "\n",
    "\n",
    "\n",
    "\n",
    "\n"
   ]
  },
  {
   "cell_type": "markdown",
   "metadata": {},
   "source": []
  }
 ],
 "metadata": {
  "kernelspec": {
   "display_name": "a",
   "language": "python",
   "name": "python3"
  },
  "language_info": {
   "codemirror_mode": {
    "name": "ipython",
    "version": 3
   },
   "file_extension": ".py",
   "mimetype": "text/x-python",
   "name": "python",
   "nbconvert_exporter": "python",
   "pygments_lexer": "ipython3",
   "version": "3.11.9"
  }
 },
 "nbformat": 4,
 "nbformat_minor": 2
}
