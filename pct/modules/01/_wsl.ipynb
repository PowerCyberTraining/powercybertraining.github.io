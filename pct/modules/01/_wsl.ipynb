{
 "cells": [
  {
   "cell_type": "markdown",
   "metadata": {},
   "source": [
    "# Windows Subsystem for Linux"
   ]
  },
  {
   "cell_type": "markdown",
   "metadata": {},
   "source": [
    "## Why Linux?\n",
    "\n",
    "You may have heard of Linux from news articles. You may know that Linux powers\n",
    "many devices, from an Android smart phone to supercomputers to Steam Deck and\n",
    "Tesla. Linux is free and open source software, and it is the foundation of many\n",
    "operating systems.\n",
    "\n",
    "You may not have used Linux before, and that is okay! Most of the work a power\n",
    "engineering researcher does is in Windows. Many of the power domain software are\n",
    "exclusively available on Windows.\n",
    "\n",
    "But why do we want to use Linux? Many data analytics and machine learning\n",
    "libraries are developed primarily for Linux environments, which can make them\n",
    "easier to install and maintain {cite}`vaughan-nicholsLinuxOpensourceRules`.\n",
    "Additionally, certain specialized workflows, particularly those involving GPU\n",
    "computation, may benefit from Linux's native support for these technologies\n",
    "{cite}`horovitzAccelerateAIDevelopment`.\n",
    "\n",
    "You probably have heard that Linux is difficult to use. In the early days,\n",
    "command line was the only usable interface. Well, that is still true for many\n",
    "use cases, but you only need a small set of skills to productive with Linux.\n",
    "\n",
    "So let's dive in."
   ]
  },
  {
   "cell_type": "markdown",
   "metadata": {},
   "source": [
    "## Windows Subsystem for Linux (WSL)\n",
    "\n",
    "Apparently, we do not want to buy a new computer just for Linux if you have one\n",
    "that runs Windows. Maybe you have heard of Virtual Machines (VM). VMs are\n",
    "programs that emulate a computer inside your operating system, so that you can\n",
    "run another operating system there. The issue of VMs is that they are slow; it\n",
    "takes too many resources to emulate everything of a computer. We will resort to\n",
    "a newer technology called Windows Subsystem for Linux (WSL).\n",
    "\n",
    "WSL is a feature of Windows that allows one to create a Linux environment within\n",
    "Windows. WSL eliminates the need for a virtual machine or dual-boot to use\n",
    "Linux. WSL was originally created to meet the demand from users who want to use\n",
    "Linux BASH productivity tools in Windows {cite}`why-was-wsl-created`."
   ]
  },
  {
   "attachments": {},
   "cell_type": "markdown",
   "metadata": {},
   "source": [
    ":::{tip}\n",
    "How is WSL different from a virtual machine?\n",
    "\n",
    "VM software, such as VirtualBox or VMware, emulates a physical computer from the\n",
    "ground up on the host operating system. WSL is different because it uses a compatibility\n",
    "layer that is transparent to the user when running Linux applications. WSL is thus\n",
    "more lightweight and faster than a VM.\n",
    ":::"
   ]
  },
  {
   "cell_type": "markdown",
   "metadata": {},
   "source": [
    "## Installing WSL\n",
    "\n",
    "You can install WSL on Windows 10 or later. On Windows 11 or later, WSL can support\n",
    "graphical applications that are native to Linux.\n",
    "\n",
    "If you don't have a preference on the Linux distribution, you may go with\n",
    "Ubuntu.\n",
    "\n",
    "Follow the video below to install WSL and Ubuntu.\n",
    "\n",
    "<iframe width=\"560\" height=\"315\" src=\"https://www.youtube.com/embed/eId6K8d0v6o?si=gnCRURtNuQKkwXrq\" title=\"YouTube video player\" frameborder=\"0\" allow=\"accelerometer; autoplay; clipboard-write; encrypted-media; gyroscope; picture-in-picture; web-share\" referrerpolicy=\"strict-origin-when-cross-origin\" allowfullscreen></iframe>"
   ]
  },
  {
   "cell_type": "markdown",
   "metadata": {},
   "source": [
    "## Getting to Know WSL\n",
    "\n",
    "There are a few different ways to launch WSL. On Windows 11, you can use Windows\n",
    "Terminal to launch WSL. On Windows 11 or 10, you can open Command Prompt or\n",
    "PowerShell, type in `wsl` and press Enter. This will open a Linux-based shell.\n",
    "\n",
    "The first thing is to distinguish the Linux-based shell from the Windows Command\n",
    "Prompt (`cmd`) or PowerShell (`powershell`). Distinguishing the two will ensure\n",
    "that you run the commands in the right place. It can be confusing in the\n",
    "beginning. The Command Prompt and PowerShell are for running Windows-based\n",
    "command-line programs. One of the programs is `wsl.exe`, which opens up the\n",
    "Linux shell where Linux programs can run. One cannot run a program compiled for\n",
    "Linux on Windows, or vice versa, without using a compatibility layer like WSL or\n",
    "WINE {cite}`wine`.\n",
    "\n",
    "The screenshots below show the Windows CMD, Windows PowerShell, and a Ubuntu\n",
    "Bash Shell. If the path to the left of the prompt reads like `C:\\` (or another\n",
    "disk name but contains `:\\`), this indicates a path on Windows so you are in a\n",
    "Windows shell."
   ]
  },
  {
   "cell_type": "markdown",
   "metadata": {},
   "source": [
    ":::{note}\n",
    "TODO: Add a clean screenshot of the shells.\n",
    ":::"
   ]
  },
  {
   "cell_type": "markdown",
   "metadata": {},
   "source": [
    "## Files in WSL\n",
    "\n",
    "The files in WSL are stored in the Windows file system. In \"My Computer\", you\n",
    "will see a new drive, typically `\\\\wsl$`. This drive is convenient for accessing\n",
    "your WSL files from Windows."
   ]
  },
  {
   "cell_type": "markdown",
   "metadata": {},
   "source": [
    ":::{bibliography}\n",
    ":filter: docname in docnames\n",
    ":::"
   ]
  },
  {
   "cell_type": "markdown",
   "metadata": {},
   "source": [
    ":::{admonition} Quizzes\n",
    "\n",
    "1. Why do we want to use Linux?\n",
    "2. What does WSL stand for?\n",
    "3. How is WSL different from a virtual machine?\n",
    "4. How do you launch WSL?\n",
    "5. How do you distinguish between Windows and Linux files?\n",
    ":::"
   ]
  }
 ],
 "metadata": {
  "kernelspec": {
   "display_name": "Python 3 (ipykernel)",
   "language": "python",
   "name": "python3"
  },
  "language_info": {
   "codemirror_mode": {
    "name": "ipython",
    "version": 3
   },
   "file_extension": ".py",
   "mimetype": "text/x-python",
   "name": "python",
   "nbconvert_exporter": "python",
   "pygments_lexer": "ipython3",
   "version": "3.11.11"
  }
 },
 "nbformat": 4,
 "nbformat_minor": 4
}
