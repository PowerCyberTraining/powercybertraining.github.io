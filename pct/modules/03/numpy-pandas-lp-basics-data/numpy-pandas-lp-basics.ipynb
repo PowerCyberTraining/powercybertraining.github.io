{
 "cells": [
  {
   "cell_type": "markdown",
   "id": "1b2e0b46-6287-4010-a64f-bb5562a64239",
   "metadata": {},
   "source": [
    "# NumPy-Pandas-LP-Basics\n",
    "### **1.1 Objective**\n",
    "\n",
    "This module provides a comprehensive introduction to numerical computing and optimization using **NumPy**, **Pandas**, and **Linear Programming**. These three foundational tools are essential for data science, engineering, and operational research, forming the computational backbone for large-scale numerical analysis and decision-making problems. The primary goal is to equip learners with the ability to manipulate structured data efficiently, perform high-speed numerical computations, and model real-world optimization problems using **Python**.\n",
    "\n",
    "1. **NumPy**: Introduces array-based computing for efficient numerical operations.\n",
    "2. **Pandas**: Focuses on structured data manipulation and analysis.\n",
    "3. **Linear Programming (LP)**: Explores mathematical optimization techniques using **GurobiPy**.\n",
    "\n",
    "This module integrates theoretical concepts with hands-on programming using **Python**, **Jupyter Notebook**, **NumPy**, **Pandas**, and **GurobiPy**, allowing learners to transition from fundamental numerical analysis to real-world optimization applications.\n",
    "\n",
    "---\n",
    "\n",
    "### **1.2 Key Components**\n",
    "\n",
    "#### **1. NumPy Fundamentals**\n",
    "- **Creating NumPy Arrays**\n",
    "  - Creating a 1D Array\n",
    "  - Creating a 2D Array\n",
    "  - Creating Arrays with specific Values\n",
    "- **Array Attributes**\n",
    "  - Array Shape\n",
    "  - Number of Dimensions\n",
    "  - Number of Elements\n",
    "  - Data Type of Elements\n",
    "- **Indexing and Slicing**\n",
    "  - Accessing Elements\n",
    "  - Slicing\n",
    "- **Mathematical Operations**\n",
    "  - element-wise operations\n",
    "- **Reshaping and Transposing Arrays**\n",
    "  - Reshaping Arrays\n",
    "  - Transposing Arrays\n",
    "- **Statistical Functions**\n",
    "  - Basic statistics functions\n",
    "- **Stacking and Concatenation**\n",
    "  - Horizontal Stacking\n",
    "  - Vertical Stacking\n",
    "  - Concatenation\n",
    "  \n",
    "#### **2. Pandas for Data Analysis**\n",
    "- **Creating Data Structures**\n",
    "  - Creating a Pandas Series\n",
    "  - Creating a Pandas DataFrame\n",
    "- **Reading and Writing Data**\n",
    "  - Reading from a CSV File\n",
    "  - Writing to a CSV File\n",
    "- **Data Inspection and Manipulation**\n",
    "  - Using of head( ), tail( ), info( ), describe( )\n",
    "  - Select specific columns, rows, and filtering\n",
    "- **Data Cleaning**\n",
    "  - Using of dropna( ) to handle missing data\n",
    "  - Changing Data Types\n",
    "- **Modifying Data**\n",
    "  - Adding New Columns\n",
    "  - Renaming Columns\n",
    "  - Sorting Data\n",
    "- **Merging and Joining Data**\n",
    "  - Merging DataFrames\n",
    "  - Concatenating DataFrames\n",
    "- **Pivot Tables and Crosstabs**\n",
    "  - Creating a Pivot Table\n",
    "  - Creating a Crosstab\n",
    "  \n",
    "#### **3. Linear Programming basics**\n",
    "- **Introduction to LP Optimization Models**\n",
    "  - Understanding the **objective functions** in LP\n",
    "  - Understanding the **constraints** in LP\n",
    "- **Using Gurobi for Linear Programming**\n",
    "  - Installing Gurobi\n",
    "  - Defining decision variables\n",
    "  - Set objective function\n",
    "  - Add constraints\n",
    "- **Solving Optimization Models**\n",
    "  - Implementing an LP solver using **GurobiPy**\n",
    "  - Extracting and interpreting optimal solutions\n",
    "\n",
    "---\n",
    "\n",
    "### **1.3 Module Impact**\n",
    "\n",
    "This module provides a structured approach to mastering **numerical computing**, **data handling**, and **optimization modeling**, making it highly relevant for engineers.\n",
    "\n",
    "1. **Efficient Data Processing**: Participants develop proficiency in handling structured datasets with **NumPy** and **Pandas**, leveraging optimized numerical operations.\n",
    "2. **Analytical Thinking**: By working with structured data manipulation, learners enhance their ability to **extract insights and analyze trends**.\n",
    "3. **Optimization Modeling**: The integration of **Linear Programming** equips learners with tools to tackle **decision-making** problems in industry applications.\n",
    "4. **Hands-on Coding**: The practical implementations in **Jupyter Notebook** reinforce learning through interactive problem-solving.\n"
   ]
  },
  {
   "cell_type": "markdown",
   "id": "0aacd7df-ea99-4acb-bd9f-a0b8532ebf53",
   "metadata": {},
   "source": [
    "# 2. NumPy basics\n",
    "NumPy (Numerical Python) is a fundamental library for numerical computing in Python. It is widely used in scientific computing, machine learning, and data analysis."
   ]
  },
  {
   "cell_type": "markdown",
   "id": "1b334731-4ff2-4dc8-9279-72e026f954ca",
   "metadata": {},
   "source": [
    "If you haven't installed NumPy, you can do so using:\n",
    "```bash\n",
    "pip install numpy\n",
    "```"
   ]
  },
  {
   "cell_type": "markdown",
   "id": "06af182b-40c3-4dd6-9b31-a1e473c2157e",
   "metadata": {},
   "source": [
    "Then, import it in your Python script:"
   ]
  },
  {
   "cell_type": "code",
   "execution_count": 73,
   "id": "a263ee1a-7810-4560-9204-44cca6582d28",
   "metadata": {},
   "outputs": [],
   "source": [
    "import numpy as np"
   ]
  },
  {
   "cell_type": "markdown",
   "id": "21931b46-ee3c-4c40-bead-509c6ac0959a",
   "metadata": {},
   "source": [
    "### 2.1 Creating NumPy Arrays\n",
    "#### Creating a 1D Array\n",
    "A NumPy array, called `ndarray`, can be created from a Python list using `np.array()`."
   ]
  },
  {
   "cell_type": "code",
   "execution_count": 74,
   "id": "55fd6087-47b5-4f5d-bda7-992e99f23dec",
   "metadata": {},
   "outputs": [
    {
     "name": "stdout",
     "output_type": "stream",
     "text": [
      "One-dimensional array:\n",
      " [1 2 3 4 5]\n"
     ]
    }
   ],
   "source": [
    "# Creating a one-dimensional array\n",
    "a = np.array([1, 2, 3, 4, 5])\n",
    "print(\"One-dimensional array:\\n\", a)"
   ]
  },
  {
   "cell_type": "markdown",
   "id": "6ff8f39d-91eb-4804-a014-938f3b6bc754",
   "metadata": {},
   "source": [
    "#### Creating a 2D Array\n",
    "A two-dimensional array (matrix) can be created by passing a list of lists."
   ]
  },
  {
   "cell_type": "code",
   "execution_count": 75,
   "id": "a91fda3d-8099-4963-9384-89a07abb0999",
   "metadata": {},
   "outputs": [
    {
     "name": "stdout",
     "output_type": "stream",
     "text": [
      "Two-dimensional array:\n",
      " [[1 2 3]\n",
      " [4 5 6]]\n"
     ]
    }
   ],
   "source": [
    "# Creating a two-dimensional array\n",
    "b = np.array([[1, 2, 3], [4, 5, 6]])\n",
    "print(\"Two-dimensional array:\\n\", b)"
   ]
  },
  {
   "cell_type": "markdown",
   "id": "cc4216d8-17d4-42b6-8e03-80aedfa3d5c9",
   "metadata": {},
   "source": [
    "#### Creating Arrays with specific Values\n",
    "NumPy provides functions to create special arrays."
   ]
  },
  {
   "cell_type": "code",
   "execution_count": 76,
   "id": "536a477a-f42c-4db8-9412-e504e9e63ad7",
   "metadata": {},
   "outputs": [
    {
     "name": "stdout",
     "output_type": "stream",
     "text": [
      "Zeros:\n",
      " [[0. 0. 0.]\n",
      " [0. 0. 0.]]\n"
     ]
    }
   ],
   "source": [
    "A = np.zeros((2, 3))  # 2x3 array of zeros\n",
    "print(\"Zeros:\\n\", A)"
   ]
  },
  {
   "cell_type": "code",
   "execution_count": 77,
   "id": "61c142ba-1def-466a-9507-42bc3d26a6e0",
   "metadata": {},
   "outputs": [
    {
     "name": "stdout",
     "output_type": "stream",
     "text": [
      "Ones:\n",
      " [[1. 1. 1.]\n",
      " [1. 1. 1.]\n",
      " [1. 1. 1.]]\n"
     ]
    }
   ],
   "source": [
    "B = np.ones((3, 3))  # 3x3 array of ones\n",
    "print(\"Ones:\\n\", B)"
   ]
  },
  {
   "cell_type": "code",
   "execution_count": 78,
   "id": "cf1a00d5-24dd-4355-b482-6e23b576dc3a",
   "metadata": {},
   "outputs": [
    {
     "name": "stdout",
     "output_type": "stream",
     "text": [
      "Identity Matrix:\n",
      " [[1. 0. 0.]\n",
      " [0. 1. 0.]\n",
      " [0. 0. 1.]]\n"
     ]
    }
   ],
   "source": [
    "C = np.eye(3)  # 3x3 identity matrix\n",
    "print(\"Identity Matrix:\\n\", C)"
   ]
  },
  {
   "cell_type": "code",
   "execution_count": 79,
   "id": "7400bc76-e1db-4a72-836d-0fe4a8314a6f",
   "metadata": {},
   "outputs": [
    {
     "name": "stdout",
     "output_type": "stream",
     "text": [
      "Random Array:\n",
      " [[0.99879801 0.08741   ]\n",
      " [0.5469131  0.46130701]]\n"
     ]
    }
   ],
   "source": [
    "D = np.random.rand(2, 2)  # 2x2 array of random numbers\n",
    "print(\"Random Array:\\n\", D)"
   ]
  },
  {
   "cell_type": "markdown",
   "id": "040c279e-cb5e-459b-b4a4-a2488622b78a",
   "metadata": {},
   "source": [
    "### 2.2 Array Attributes\n",
    "NumPy arrays have some important attributes that can help you understand their structure."
   ]
  },
  {
   "cell_type": "code",
   "execution_count": 80,
   "id": "2648554a-d1ad-4e8d-870f-f9d899ec85b3",
   "metadata": {},
   "outputs": [
    {
     "name": "stdout",
     "output_type": "stream",
     "text": [
      "Array Shape: (2, 2)\n"
     ]
    }
   ],
   "source": [
    "print(\"Array Shape:\", D.shape) "
   ]
  },
  {
   "cell_type": "code",
   "execution_count": 81,
   "id": "c1d28194-ce62-4426-964b-d8e65aafe577",
   "metadata": {},
   "outputs": [
    {
     "name": "stdout",
     "output_type": "stream",
     "text": [
      "Number of Dimensions: 2\n"
     ]
    }
   ],
   "source": [
    "print(\"Number of Dimensions:\", D.ndim)"
   ]
  },
  {
   "cell_type": "code",
   "execution_count": 82,
   "id": "7cae14da-f60a-4c20-a339-9ad2b0a1180e",
   "metadata": {},
   "outputs": [
    {
     "name": "stdout",
     "output_type": "stream",
     "text": [
      "Number of Elements: 4\n"
     ]
    }
   ],
   "source": [
    "print(\"Number of Elements:\", D.size) "
   ]
  },
  {
   "cell_type": "code",
   "execution_count": 83,
   "id": "b5be522a-fb15-4b95-97c0-e8a084325cc9",
   "metadata": {},
   "outputs": [
    {
     "name": "stdout",
     "output_type": "stream",
     "text": [
      "Data Type of Elements: float64\n"
     ]
    }
   ],
   "source": [
    "print(\"Data Type of Elements:\",D.dtype)"
   ]
  },
  {
   "cell_type": "markdown",
   "id": "e5d90854-0ab8-40e8-869e-3d1fd469ec02",
   "metadata": {},
   "source": [
    "### 2.3 Indexing and Slicing\n",
    "NumPy allows you to access elements and slices of arrays easily."
   ]
  },
  {
   "cell_type": "code",
   "execution_count": 84,
   "id": "c3a0c565-d0b4-41ea-ac98-e9a2629f709e",
   "metadata": {},
   "outputs": [
    {
     "name": "stdout",
     "output_type": "stream",
     "text": [
      "Element at (1,2): 9\n"
     ]
    }
   ],
   "source": [
    "### Accessing Elements\n",
    "E = np.array([[1, 2, 3], [4, 5, 6], [7, 8, 9]])\n",
    "print(\"Element at (1,2):\", E[2, 2])  # Acess the third row, third column"
   ]
  },
  {
   "cell_type": "code",
   "execution_count": 85,
   "id": "f3c7990f-1d66-4cc1-bd33-a465034bafec",
   "metadata": {},
   "outputs": [
    {
     "name": "stdout",
     "output_type": "stream",
     "text": [
      "Second column: [2 5 8]\n"
     ]
    }
   ],
   "source": [
    "### Slicing\n",
    "print(\"Second column:\", E[:, 1])  # Select second column"
   ]
  },
  {
   "cell_type": "code",
   "execution_count": 86,
   "id": "cc0ba29c-0c17-4579-b32a-2f6a93847b45",
   "metadata": {},
   "outputs": [
    {
     "name": "stdout",
     "output_type": "stream",
     "text": [
      "Sub-matrix:\n",
      " [[3]\n",
      " [6]]\n"
     ]
    }
   ],
   "source": [
    "print(\"Sub-matrix:\\n\", c[0:2, 2:3])  # Select sub-matrix"
   ]
  },
  {
   "cell_type": "markdown",
   "id": "fb25e5cb-6a1b-466d-a77b-f7b043f29c1f",
   "metadata": {},
   "source": [
    "### 2.4  Mathematical Operations\n",
    "NumPy supports element-wise operations."
   ]
  },
  {
   "cell_type": "code",
   "execution_count": 87,
   "id": "81f4e611-71e9-49f3-a500-d12dd7175abf",
   "metadata": {},
   "outputs": [
    {
     "name": "stdout",
     "output_type": "stream",
     "text": [
      "Addition: [5 7 9]\n"
     ]
    }
   ],
   "source": [
    "a = np.array([1, 2, 3])\n",
    "b = np.array([4, 5, 6])\n",
    "print(\"Addition:\", a+ b)"
   ]
  },
  {
   "cell_type": "code",
   "execution_count": 88,
   "id": "48a36425-edd6-4ad5-9dee-adf9c5087b0b",
   "metadata": {},
   "outputs": [
    {
     "name": "stdout",
     "output_type": "stream",
     "text": [
      "Multiplication: [ 4 10 18]\n"
     ]
    }
   ],
   "source": [
    "print(\"Multiplication:\", a * b)"
   ]
  },
  {
   "cell_type": "markdown",
   "id": "3c928399-dc90-458c-8589-43903cc34625",
   "metadata": {},
   "source": [
    "### 2.5  Reshaping and Transposing Arrays\n",
    "NumPy allows changing the shape of arrays without modifying data."
   ]
  },
  {
   "cell_type": "code",
   "execution_count": 89,
   "id": "0e766948-7072-40ad-b673-69dcc3cbe083",
   "metadata": {},
   "outputs": [
    {
     "name": "stdout",
     "output_type": "stream",
     "text": [
      "Original Array:\n",
      " [1 2 3 4 5 6 7 8 9]\n",
      "Reshaped Array:\n",
      " [[1 2 3]\n",
      " [4 5 6]\n",
      " [7 8 9]]\n"
     ]
    }
   ],
   "source": [
    "### Reshaping Arrays\n",
    "F = np.arange(1, 10)\n",
    "G = np.arange(1, 10).reshape(3, 3)\n",
    "print(\"Original Array:\\n\", F)\n",
    "print(\"Reshaped Array:\\n\", G)"
   ]
  },
  {
   "cell_type": "code",
   "execution_count": 90,
   "id": "fea1d83e-42ae-4bed-aa12-f38abdb29a04",
   "metadata": {},
   "outputs": [
    {
     "name": "stdout",
     "output_type": "stream",
     "text": [
      "Transposed Array:\n",
      " [[1 4 7]\n",
      " [2 5 8]\n",
      " [3 6 9]]\n"
     ]
    }
   ],
   "source": [
    "### Transposing Arrays\n",
    "print(\"Transposed Array:\\n\", G.T)"
   ]
  },
  {
   "cell_type": "markdown",
   "id": "d520dfd3-d413-49c8-b47b-5cc221cfb737",
   "metadata": {},
   "source": [
    "### 2.6  Statistical Functions\n",
    "NumPy provides functions for basic statistics."
   ]
  },
  {
   "cell_type": "code",
   "execution_count": 91,
   "id": "48543195-5d82-409e-97f6-a1606ffac232",
   "metadata": {},
   "outputs": [
    {
     "name": "stdout",
     "output_type": "stream",
     "text": [
      "Maximum Value: 9\n"
     ]
    }
   ],
   "source": [
    "print(\"Maximum Value:\", G.max())"
   ]
  },
  {
   "cell_type": "code",
   "execution_count": 92,
   "id": "b18e7051-f519-430d-91e5-8c2f12926774",
   "metadata": {},
   "outputs": [
    {
     "name": "stdout",
     "output_type": "stream",
     "text": [
      "Minimum Value: 1\n"
     ]
    }
   ],
   "source": [
    "print(\"Minimum Value:\", G.min())"
   ]
  },
  {
   "cell_type": "code",
   "execution_count": 93,
   "id": "6c6ebf57-857c-49b6-b695-b905f6fa7128",
   "metadata": {},
   "outputs": [
    {
     "name": "stdout",
     "output_type": "stream",
     "text": [
      "Mean Value: 5.0\n"
     ]
    }
   ],
   "source": [
    "print(\"Mean Value:\", G.mean())"
   ]
  },
  {
   "cell_type": "code",
   "execution_count": 94,
   "id": "1afc3dd0-3fff-475c-9472-79156a3c4d7e",
   "metadata": {},
   "outputs": [
    {
     "name": "stdout",
     "output_type": "stream",
     "text": [
      "Sum of Elements: 45\n"
     ]
    }
   ],
   "source": [
    "print(\"Sum of Elements:\", G.sum())"
   ]
  },
  {
   "cell_type": "code",
   "execution_count": 95,
   "id": "43540559-b929-4885-aafd-73c3d0befe61",
   "metadata": {},
   "outputs": [
    {
     "name": "stdout",
     "output_type": "stream",
     "text": [
      "Column-wise Sum: [12 15 18]\n"
     ]
    }
   ],
   "source": [
    "print(\"Column-wise Sum:\", G.sum(axis=0))"
   ]
  },
  {
   "cell_type": "code",
   "execution_count": 96,
   "id": "25b50aaf-bbcc-4458-9746-caf4be1e6c31",
   "metadata": {},
   "outputs": [
    {
     "name": "stdout",
     "output_type": "stream",
     "text": [
      "Row-wise Sum: [ 6 15 24]\n"
     ]
    }
   ],
   "source": [
    "print(\"Row-wise Sum:\", G.sum(axis=1))"
   ]
  },
  {
   "cell_type": "markdown",
   "id": "07c0409b-ad8d-43cb-bee8-8addf0d4dd64",
   "metadata": {},
   "source": [
    "### 2.7  Stacking and Concatenation\n",
    "NumPy allows combining multiple arrays in different ways."
   ]
  },
  {
   "cell_type": "code",
   "execution_count": 97,
   "id": "06fd8e5e-094b-44d8-b86d-ae84c2473d81",
   "metadata": {},
   "outputs": [
    {
     "name": "stdout",
     "output_type": "stream",
     "text": [
      "Horizontally Stacked:\n",
      " [[1 2 5 6]\n",
      " [3 4 7 8]]\n"
     ]
    }
   ],
   "source": [
    "### Horizontal Stacking\n",
    "a = np.array([[1, 2], [3, 4]])\n",
    "b = np.array([[5, 6], [7, 8]])\n",
    "hstacked = np.hstack((a, b))\n",
    "print(\"Horizontally Stacked:\\n\", hstacked)"
   ]
  },
  {
   "cell_type": "code",
   "execution_count": 98,
   "id": "7efae27f-403b-4bb5-a4f4-48868a9de573",
   "metadata": {},
   "outputs": [
    {
     "name": "stdout",
     "output_type": "stream",
     "text": [
      "Vertically Stacked:\n",
      " [[1 2]\n",
      " [3 4]\n",
      " [5 6]\n",
      " [7 8]]\n"
     ]
    }
   ],
   "source": [
    "### Vertical Stacking\n",
    "a = np.array([[1, 2], [3, 4]])\n",
    "b = np.array([[5, 6], [7, 8]])\n",
    "vstacked = np.vstack((a, b))\n",
    "print(\"Vertically Stacked:\\n\", vstacked)"
   ]
  },
  {
   "cell_type": "code",
   "execution_count": 99,
   "id": "fea86747-e2fd-45df-bc35-10572b3a1135",
   "metadata": {},
   "outputs": [
    {
     "name": "stdout",
     "output_type": "stream",
     "text": [
      "Concatenated:\n",
      " [[1 2]\n",
      " [3 4]\n",
      " [5 6]\n",
      " [7 8]]\n"
     ]
    }
   ],
   "source": [
    "### Concatenation\n",
    "a = np.array([[1, 2], [3, 4]])\n",
    "b = np.array([[5, 6], [7, 8]])\n",
    "concatenated = np.concatenate((a, b), axis=0)  # Concatenate along rows\n",
    "print(\"Concatenated:\\n\", concatenated)"
   ]
  },
  {
   "cell_type": "markdown",
   "id": "0fc27ee3-7c2a-412c-9523-adf73be50fec",
   "metadata": {},
   "source": [
    "### Conclusion\n",
    "Mastering NumPy is essential for data science, machine learning, and numerical computing, providing an efficient way to handle large datasets.\n"
   ]
  },
  {
   "cell_type": "markdown",
   "id": "45fa64d1-0bae-4f41-a169-861b8f2df1f9",
   "metadata": {},
   "source": [
    "# 3. Pandas basics\n",
    "Pandas is a powerful and flexible data analysis and manipulation library for Python. It is widely used in data science and any scenario where structured data processing is needed."
   ]
  },
  {
   "cell_type": "markdown",
   "id": "680e296d-7e3b-46b1-a779-9c39131f4a59",
   "metadata": {},
   "source": [
    "### Installing Pandas\n",
    "If you haven't installed Pandas yet, you can do so using:\n",
    "```bash\n",
    "pip install pandas\n",
    "```"
   ]
  },
  {
   "cell_type": "markdown",
   "id": "bcbd464b-2514-4150-af53-34cc68eaa85c",
   "metadata": {},
   "source": [
    "Then, import it in your Python script:"
   ]
  },
  {
   "cell_type": "code",
   "execution_count": 2,
   "id": "70f41bb4-f7dc-4b6a-b81a-2a76b4c7543f",
   "metadata": {},
   "outputs": [],
   "source": [
    "import pandas as pd"
   ]
  },
  {
   "cell_type": "markdown",
   "id": "cc6ed6bb-bba2-4d00-9582-abe1da11beab",
   "metadata": {},
   "source": [
    "### 3.1 Creating Data Structures\n",
    "#### Creating a Pandas Series\n",
    "The two primary data structures in Pandas are:\n",
    "\n",
    "- **Series**: A one-dimensional labeled array.\n",
    "- **DataFrame**: A two-dimensional table-like structure with labeled rows and columns."
   ]
  },
  {
   "cell_type": "markdown",
   "id": "7af8682a-7c41-4c3e-bfb4-9944ddea66f0",
   "metadata": {},
   "source": [
    "A Pandas **Series** is similar to a column in an Excel spreadsheet. It consists of an array of data with an associated index."
   ]
  },
  {
   "cell_type": "code",
   "execution_count": 101,
   "id": "a3867ac0-2c4d-4ed0-a521-199a890f2847",
   "metadata": {},
   "outputs": [
    {
     "name": "stdout",
     "output_type": "stream",
     "text": [
      "a    10\n",
      "b    20\n",
      "c    30\n",
      "d    40\n",
      "dtype: int64\n"
     ]
    }
   ],
   "source": [
    "# Creating a pandas Series\n",
    "data = [10, 20, 30, 40]\n",
    "series = pd.Series(data, index=['a', 'b', 'c', 'd'])\n",
    "print(series)"
   ]
  },
  {
   "cell_type": "markdown",
   "id": "a1b22a23-6c25-4880-ba27-d67c9e5e4d03",
   "metadata": {},
   "source": [
    "#### Creating a Pandas DataFrame\n",
    "A **DataFrame** is a two-dimensional table with labeled rows and columns."
   ]
  },
  {
   "cell_type": "code",
   "execution_count": 102,
   "id": "333abbf9-93cb-42ca-834c-67086d650901",
   "metadata": {},
   "outputs": [
    {
     "name": "stdout",
     "output_type": "stream",
     "text": [
      "      Name  Age  Salary\n",
      "0    Alice   25   50000\n",
      "1      Bob   30   60000\n",
      "2  Charlie   35   70000\n"
     ]
    }
   ],
   "source": [
    "# Creating a pandas DataFrame\n",
    "data = {\n",
    "    'Name': ['Alice', 'Bob', 'Charlie'],\n",
    "    'Age': [25, 30, 35],\n",
    "    'Salary': [50000, 60000, 70000]\n",
    "}\n",
    "df = pd.DataFrame(data)\n",
    "print(df)"
   ]
  },
  {
   "cell_type": "markdown",
   "id": "1ef818f0-4a6f-41e9-8e8f-f46362035362",
   "metadata": {},
   "source": [
    "### 3.2 Reading and Writing Data\n",
    "Pandas can read from and write to various file formats such as CSV, Excel, etc."
   ]
  },
  {
   "cell_type": "code",
   "execution_count": 4,
   "id": "9865bcd5-92cd-48db-9ba7-a6846955ee31",
   "metadata": {},
   "outputs": [
    {
     "name": "stdout",
     "output_type": "stream",
     "text": [
      "D:\\NSF_cyber_training_new\\powercybertraining.github.io\\pct\\modules\\03\n"
     ]
    }
   ],
   "source": [
    "print(current_dir)"
   ]
  },
  {
   "cell_type": "code",
   "execution_count": 3,
   "id": "291bc15c-5db5-4131-a4f8-e5a4195e56f9",
   "metadata": {},
   "outputs": [
    {
     "ename": "FileNotFoundError",
     "evalue": "[Errno 2] No such file or directory: 'data.csv'",
     "output_type": "error",
     "traceback": [
      "\u001b[1;31m---------------------------------------------------------------------------\u001b[0m",
      "\u001b[1;31mFileNotFoundError\u001b[0m                         Traceback (most recent call last)",
      "Cell \u001b[1;32mIn[3], line 6\u001b[0m\n\u001b[0;32m      3\u001b[0m current_dir \u001b[38;5;241m=\u001b[39m os\u001b[38;5;241m.\u001b[39mgetcwd()\n\u001b[0;32m      4\u001b[0m csv_path \u001b[38;5;241m=\u001b[39m os\u001b[38;5;241m.\u001b[39mpath\u001b[38;5;241m.\u001b[39mjoin(current_dir, \u001b[38;5;124m\"\u001b[39m\u001b[38;5;124mnumpy-pandas-lp-basics-data\u001b[39m\u001b[38;5;124m\"\u001b[39m, \u001b[38;5;124m\"\u001b[39m\u001b[38;5;124mdata.csv\u001b[39m\u001b[38;5;124m\"\u001b[39m)\n\u001b[1;32m----> 6\u001b[0m df \u001b[38;5;241m=\u001b[39m \u001b[43mpd\u001b[49m\u001b[38;5;241;43m.\u001b[39;49m\u001b[43mread_csv\u001b[49m\u001b[43m(\u001b[49m\u001b[38;5;124;43m'\u001b[39;49m\u001b[38;5;124;43mdata.csv\u001b[39;49m\u001b[38;5;124;43m'\u001b[39;49m\u001b[43m)\u001b[49m\n\u001b[0;32m      7\u001b[0m \u001b[38;5;28mprint\u001b[39m(df)\n",
      "File \u001b[1;32mD:\\miniforge3\\envs\\cyber_env\\lib\\site-packages\\pandas\\io\\parsers\\readers.py:1026\u001b[0m, in \u001b[0;36mread_csv\u001b[1;34m(filepath_or_buffer, sep, delimiter, header, names, index_col, usecols, dtype, engine, converters, true_values, false_values, skipinitialspace, skiprows, skipfooter, nrows, na_values, keep_default_na, na_filter, verbose, skip_blank_lines, parse_dates, infer_datetime_format, keep_date_col, date_parser, date_format, dayfirst, cache_dates, iterator, chunksize, compression, thousands, decimal, lineterminator, quotechar, quoting, doublequote, escapechar, comment, encoding, encoding_errors, dialect, on_bad_lines, delim_whitespace, low_memory, memory_map, float_precision, storage_options, dtype_backend)\u001b[0m\n\u001b[0;32m   1013\u001b[0m kwds_defaults \u001b[38;5;241m=\u001b[39m _refine_defaults_read(\n\u001b[0;32m   1014\u001b[0m     dialect,\n\u001b[0;32m   1015\u001b[0m     delimiter,\n\u001b[1;32m   (...)\u001b[0m\n\u001b[0;32m   1022\u001b[0m     dtype_backend\u001b[38;5;241m=\u001b[39mdtype_backend,\n\u001b[0;32m   1023\u001b[0m )\n\u001b[0;32m   1024\u001b[0m kwds\u001b[38;5;241m.\u001b[39mupdate(kwds_defaults)\n\u001b[1;32m-> 1026\u001b[0m \u001b[38;5;28;01mreturn\u001b[39;00m \u001b[43m_read\u001b[49m\u001b[43m(\u001b[49m\u001b[43mfilepath_or_buffer\u001b[49m\u001b[43m,\u001b[49m\u001b[43m \u001b[49m\u001b[43mkwds\u001b[49m\u001b[43m)\u001b[49m\n",
      "File \u001b[1;32mD:\\miniforge3\\envs\\cyber_env\\lib\\site-packages\\pandas\\io\\parsers\\readers.py:620\u001b[0m, in \u001b[0;36m_read\u001b[1;34m(filepath_or_buffer, kwds)\u001b[0m\n\u001b[0;32m    617\u001b[0m _validate_names(kwds\u001b[38;5;241m.\u001b[39mget(\u001b[38;5;124m\"\u001b[39m\u001b[38;5;124mnames\u001b[39m\u001b[38;5;124m\"\u001b[39m, \u001b[38;5;28;01mNone\u001b[39;00m))\n\u001b[0;32m    619\u001b[0m \u001b[38;5;66;03m# Create the parser.\u001b[39;00m\n\u001b[1;32m--> 620\u001b[0m parser \u001b[38;5;241m=\u001b[39m TextFileReader(filepath_or_buffer, \u001b[38;5;241m*\u001b[39m\u001b[38;5;241m*\u001b[39mkwds)\n\u001b[0;32m    622\u001b[0m \u001b[38;5;28;01mif\u001b[39;00m chunksize \u001b[38;5;129;01mor\u001b[39;00m iterator:\n\u001b[0;32m    623\u001b[0m     \u001b[38;5;28;01mreturn\u001b[39;00m parser\n",
      "File \u001b[1;32mD:\\miniforge3\\envs\\cyber_env\\lib\\site-packages\\pandas\\io\\parsers\\readers.py:1620\u001b[0m, in \u001b[0;36mTextFileReader.__init__\u001b[1;34m(self, f, engine, **kwds)\u001b[0m\n\u001b[0;32m   1617\u001b[0m     \u001b[38;5;28mself\u001b[39m\u001b[38;5;241m.\u001b[39moptions[\u001b[38;5;124m\"\u001b[39m\u001b[38;5;124mhas_index_names\u001b[39m\u001b[38;5;124m\"\u001b[39m] \u001b[38;5;241m=\u001b[39m kwds[\u001b[38;5;124m\"\u001b[39m\u001b[38;5;124mhas_index_names\u001b[39m\u001b[38;5;124m\"\u001b[39m]\n\u001b[0;32m   1619\u001b[0m \u001b[38;5;28mself\u001b[39m\u001b[38;5;241m.\u001b[39mhandles: IOHandles \u001b[38;5;241m|\u001b[39m \u001b[38;5;28;01mNone\u001b[39;00m \u001b[38;5;241m=\u001b[39m \u001b[38;5;28;01mNone\u001b[39;00m\n\u001b[1;32m-> 1620\u001b[0m \u001b[38;5;28mself\u001b[39m\u001b[38;5;241m.\u001b[39m_engine \u001b[38;5;241m=\u001b[39m \u001b[38;5;28;43mself\u001b[39;49m\u001b[38;5;241;43m.\u001b[39;49m\u001b[43m_make_engine\u001b[49m\u001b[43m(\u001b[49m\u001b[43mf\u001b[49m\u001b[43m,\u001b[49m\u001b[43m \u001b[49m\u001b[38;5;28;43mself\u001b[39;49m\u001b[38;5;241;43m.\u001b[39;49m\u001b[43mengine\u001b[49m\u001b[43m)\u001b[49m\n",
      "File \u001b[1;32mD:\\miniforge3\\envs\\cyber_env\\lib\\site-packages\\pandas\\io\\parsers\\readers.py:1880\u001b[0m, in \u001b[0;36mTextFileReader._make_engine\u001b[1;34m(self, f, engine)\u001b[0m\n\u001b[0;32m   1878\u001b[0m     \u001b[38;5;28;01mif\u001b[39;00m \u001b[38;5;124m\"\u001b[39m\u001b[38;5;124mb\u001b[39m\u001b[38;5;124m\"\u001b[39m \u001b[38;5;129;01mnot\u001b[39;00m \u001b[38;5;129;01min\u001b[39;00m mode:\n\u001b[0;32m   1879\u001b[0m         mode \u001b[38;5;241m+\u001b[39m\u001b[38;5;241m=\u001b[39m \u001b[38;5;124m\"\u001b[39m\u001b[38;5;124mb\u001b[39m\u001b[38;5;124m\"\u001b[39m\n\u001b[1;32m-> 1880\u001b[0m \u001b[38;5;28mself\u001b[39m\u001b[38;5;241m.\u001b[39mhandles \u001b[38;5;241m=\u001b[39m \u001b[43mget_handle\u001b[49m\u001b[43m(\u001b[49m\n\u001b[0;32m   1881\u001b[0m \u001b[43m    \u001b[49m\u001b[43mf\u001b[49m\u001b[43m,\u001b[49m\n\u001b[0;32m   1882\u001b[0m \u001b[43m    \u001b[49m\u001b[43mmode\u001b[49m\u001b[43m,\u001b[49m\n\u001b[0;32m   1883\u001b[0m \u001b[43m    \u001b[49m\u001b[43mencoding\u001b[49m\u001b[38;5;241;43m=\u001b[39;49m\u001b[38;5;28;43mself\u001b[39;49m\u001b[38;5;241;43m.\u001b[39;49m\u001b[43moptions\u001b[49m\u001b[38;5;241;43m.\u001b[39;49m\u001b[43mget\u001b[49m\u001b[43m(\u001b[49m\u001b[38;5;124;43m\"\u001b[39;49m\u001b[38;5;124;43mencoding\u001b[39;49m\u001b[38;5;124;43m\"\u001b[39;49m\u001b[43m,\u001b[49m\u001b[43m \u001b[49m\u001b[38;5;28;43;01mNone\u001b[39;49;00m\u001b[43m)\u001b[49m\u001b[43m,\u001b[49m\n\u001b[0;32m   1884\u001b[0m \u001b[43m    \u001b[49m\u001b[43mcompression\u001b[49m\u001b[38;5;241;43m=\u001b[39;49m\u001b[38;5;28;43mself\u001b[39;49m\u001b[38;5;241;43m.\u001b[39;49m\u001b[43moptions\u001b[49m\u001b[38;5;241;43m.\u001b[39;49m\u001b[43mget\u001b[49m\u001b[43m(\u001b[49m\u001b[38;5;124;43m\"\u001b[39;49m\u001b[38;5;124;43mcompression\u001b[39;49m\u001b[38;5;124;43m\"\u001b[39;49m\u001b[43m,\u001b[49m\u001b[43m \u001b[49m\u001b[38;5;28;43;01mNone\u001b[39;49;00m\u001b[43m)\u001b[49m\u001b[43m,\u001b[49m\n\u001b[0;32m   1885\u001b[0m \u001b[43m    \u001b[49m\u001b[43mmemory_map\u001b[49m\u001b[38;5;241;43m=\u001b[39;49m\u001b[38;5;28;43mself\u001b[39;49m\u001b[38;5;241;43m.\u001b[39;49m\u001b[43moptions\u001b[49m\u001b[38;5;241;43m.\u001b[39;49m\u001b[43mget\u001b[49m\u001b[43m(\u001b[49m\u001b[38;5;124;43m\"\u001b[39;49m\u001b[38;5;124;43mmemory_map\u001b[39;49m\u001b[38;5;124;43m\"\u001b[39;49m\u001b[43m,\u001b[49m\u001b[43m \u001b[49m\u001b[38;5;28;43;01mFalse\u001b[39;49;00m\u001b[43m)\u001b[49m\u001b[43m,\u001b[49m\n\u001b[0;32m   1886\u001b[0m \u001b[43m    \u001b[49m\u001b[43mis_text\u001b[49m\u001b[38;5;241;43m=\u001b[39;49m\u001b[43mis_text\u001b[49m\u001b[43m,\u001b[49m\n\u001b[0;32m   1887\u001b[0m \u001b[43m    \u001b[49m\u001b[43merrors\u001b[49m\u001b[38;5;241;43m=\u001b[39;49m\u001b[38;5;28;43mself\u001b[39;49m\u001b[38;5;241;43m.\u001b[39;49m\u001b[43moptions\u001b[49m\u001b[38;5;241;43m.\u001b[39;49m\u001b[43mget\u001b[49m\u001b[43m(\u001b[49m\u001b[38;5;124;43m\"\u001b[39;49m\u001b[38;5;124;43mencoding_errors\u001b[39;49m\u001b[38;5;124;43m\"\u001b[39;49m\u001b[43m,\u001b[49m\u001b[43m \u001b[49m\u001b[38;5;124;43m\"\u001b[39;49m\u001b[38;5;124;43mstrict\u001b[39;49m\u001b[38;5;124;43m\"\u001b[39;49m\u001b[43m)\u001b[49m\u001b[43m,\u001b[49m\n\u001b[0;32m   1888\u001b[0m \u001b[43m    \u001b[49m\u001b[43mstorage_options\u001b[49m\u001b[38;5;241;43m=\u001b[39;49m\u001b[38;5;28;43mself\u001b[39;49m\u001b[38;5;241;43m.\u001b[39;49m\u001b[43moptions\u001b[49m\u001b[38;5;241;43m.\u001b[39;49m\u001b[43mget\u001b[49m\u001b[43m(\u001b[49m\u001b[38;5;124;43m\"\u001b[39;49m\u001b[38;5;124;43mstorage_options\u001b[39;49m\u001b[38;5;124;43m\"\u001b[39;49m\u001b[43m,\u001b[49m\u001b[43m \u001b[49m\u001b[38;5;28;43;01mNone\u001b[39;49;00m\u001b[43m)\u001b[49m\u001b[43m,\u001b[49m\n\u001b[0;32m   1889\u001b[0m \u001b[43m\u001b[49m\u001b[43m)\u001b[49m\n\u001b[0;32m   1890\u001b[0m \u001b[38;5;28;01massert\u001b[39;00m \u001b[38;5;28mself\u001b[39m\u001b[38;5;241m.\u001b[39mhandles \u001b[38;5;129;01mis\u001b[39;00m \u001b[38;5;129;01mnot\u001b[39;00m \u001b[38;5;28;01mNone\u001b[39;00m\n\u001b[0;32m   1891\u001b[0m f \u001b[38;5;241m=\u001b[39m \u001b[38;5;28mself\u001b[39m\u001b[38;5;241m.\u001b[39mhandles\u001b[38;5;241m.\u001b[39mhandle\n",
      "File \u001b[1;32mD:\\miniforge3\\envs\\cyber_env\\lib\\site-packages\\pandas\\io\\common.py:873\u001b[0m, in \u001b[0;36mget_handle\u001b[1;34m(path_or_buf, mode, encoding, compression, memory_map, is_text, errors, storage_options)\u001b[0m\n\u001b[0;32m    868\u001b[0m \u001b[38;5;28;01melif\u001b[39;00m \u001b[38;5;28misinstance\u001b[39m(handle, \u001b[38;5;28mstr\u001b[39m):\n\u001b[0;32m    869\u001b[0m     \u001b[38;5;66;03m# Check whether the filename is to be opened in binary mode.\u001b[39;00m\n\u001b[0;32m    870\u001b[0m     \u001b[38;5;66;03m# Binary mode does not support 'encoding' and 'newline'.\u001b[39;00m\n\u001b[0;32m    871\u001b[0m     \u001b[38;5;28;01mif\u001b[39;00m ioargs\u001b[38;5;241m.\u001b[39mencoding \u001b[38;5;129;01mand\u001b[39;00m \u001b[38;5;124m\"\u001b[39m\u001b[38;5;124mb\u001b[39m\u001b[38;5;124m\"\u001b[39m \u001b[38;5;129;01mnot\u001b[39;00m \u001b[38;5;129;01min\u001b[39;00m ioargs\u001b[38;5;241m.\u001b[39mmode:\n\u001b[0;32m    872\u001b[0m         \u001b[38;5;66;03m# Encoding\u001b[39;00m\n\u001b[1;32m--> 873\u001b[0m         handle \u001b[38;5;241m=\u001b[39m \u001b[38;5;28;43mopen\u001b[39;49m\u001b[43m(\u001b[49m\n\u001b[0;32m    874\u001b[0m \u001b[43m            \u001b[49m\u001b[43mhandle\u001b[49m\u001b[43m,\u001b[49m\n\u001b[0;32m    875\u001b[0m \u001b[43m            \u001b[49m\u001b[43mioargs\u001b[49m\u001b[38;5;241;43m.\u001b[39;49m\u001b[43mmode\u001b[49m\u001b[43m,\u001b[49m\n\u001b[0;32m    876\u001b[0m \u001b[43m            \u001b[49m\u001b[43mencoding\u001b[49m\u001b[38;5;241;43m=\u001b[39;49m\u001b[43mioargs\u001b[49m\u001b[38;5;241;43m.\u001b[39;49m\u001b[43mencoding\u001b[49m\u001b[43m,\u001b[49m\n\u001b[0;32m    877\u001b[0m \u001b[43m            \u001b[49m\u001b[43merrors\u001b[49m\u001b[38;5;241;43m=\u001b[39;49m\u001b[43merrors\u001b[49m\u001b[43m,\u001b[49m\n\u001b[0;32m    878\u001b[0m \u001b[43m            \u001b[49m\u001b[43mnewline\u001b[49m\u001b[38;5;241;43m=\u001b[39;49m\u001b[38;5;124;43m\"\u001b[39;49m\u001b[38;5;124;43m\"\u001b[39;49m\u001b[43m,\u001b[49m\n\u001b[0;32m    879\u001b[0m \u001b[43m        \u001b[49m\u001b[43m)\u001b[49m\n\u001b[0;32m    880\u001b[0m     \u001b[38;5;28;01melse\u001b[39;00m:\n\u001b[0;32m    881\u001b[0m         \u001b[38;5;66;03m# Binary mode\u001b[39;00m\n\u001b[0;32m    882\u001b[0m         handle \u001b[38;5;241m=\u001b[39m \u001b[38;5;28mopen\u001b[39m(handle, ioargs\u001b[38;5;241m.\u001b[39mmode)\n",
      "\u001b[1;31mFileNotFoundError\u001b[0m: [Errno 2] No such file or directory: 'data.csv'"
     ]
    }
   ],
   "source": [
    "### Reading from a CSV File\n",
    "import os\n",
    "current_dir = os.getcwd()\n",
    "csv_path = os.path.join(current_dir, \"numpy-pandas-lp-basics-data\", \"data.csv\")\n",
    "\n",
    "df = pd.read_csv('data.csv')\n",
    "print(df)  "
   ]
  },
  {
   "cell_type": "code",
   "execution_count": 104,
   "id": "7bd8971e-0277-4b14-973a-49e7b471b583",
   "metadata": {},
   "outputs": [
    {
     "name": "stdout",
     "output_type": "stream",
     "text": [
      "  Name   Age\n",
      "0    A  25.0\n",
      "1    B  30.0\n",
      "2    C  25.0\n",
      "3    D  40.0\n",
      "4    E  30.0\n",
      "5    F  45.0\n",
      "6    G  45.0\n",
      "7    H  50.0\n",
      "8    I   NaN\n"
     ]
    }
   ],
   "source": [
    "### Writing to a CSV File\n",
    "df = df.drop(columns=['Salary']) #Delete the last column\n",
    "df.to_csv('output.csv', index=False) \n",
    "df = pd.read_csv('output.csv')\n",
    "print(df)  "
   ]
  },
  {
   "cell_type": "markdown",
   "id": "f9e42976-39aa-407e-af65-6d615f0742eb",
   "metadata": {},
   "source": [
    "### 3.3 Data Inspection and Manipulation"
   ]
  },
  {
   "cell_type": "markdown",
   "id": "06cb549c-b65d-4ea8-9bfe-e0e4c00f1f4e",
   "metadata": {},
   "source": [
    "You can use head( ), tail( ), info( ), describe( ) to show the First 5 rows, Last 5 rows, Summary of DataFrame, and Statistical summary."
   ]
  },
  {
   "cell_type": "code",
   "execution_count": 105,
   "id": "f64026fc-0ffd-4d54-829c-36caa29f42dc",
   "metadata": {},
   "outputs": [
    {
     "name": "stdout",
     "output_type": "stream",
     "text": [
      "  Name   Age\n",
      "0    A  25.0\n",
      "1    B  30.0\n",
      "2    C  25.0\n",
      "3    D  40.0\n",
      "4    E  30.0\n"
     ]
    }
   ],
   "source": [
    "print(df.head())   # First 5 rows"
   ]
  },
  {
   "cell_type": "code",
   "execution_count": 106,
   "id": "b318c992-c8da-4ee9-8977-65651d36b1b7",
   "metadata": {},
   "outputs": [
    {
     "name": "stdout",
     "output_type": "stream",
     "text": [
      "  Name   Age\n",
      "4    E  30.0\n",
      "5    F  45.0\n",
      "6    G  45.0\n",
      "7    H  50.0\n",
      "8    I   NaN\n"
     ]
    }
   ],
   "source": [
    "print(df.tail())   # Last 5 rows"
   ]
  },
  {
   "cell_type": "code",
   "execution_count": 107,
   "id": "288c3265-830d-4dcd-a7fb-f57428824e02",
   "metadata": {},
   "outputs": [
    {
     "name": "stdout",
     "output_type": "stream",
     "text": [
      "<class 'pandas.core.frame.DataFrame'>\n",
      "RangeIndex: 9 entries, 0 to 8\n",
      "Data columns (total 2 columns):\n",
      " #   Column  Non-Null Count  Dtype  \n",
      "---  ------  --------------  -----  \n",
      " 0   Name    9 non-null      object \n",
      " 1   Age     8 non-null      float64\n",
      "dtypes: float64(1), object(1)\n",
      "memory usage: 272.0+ bytes\n",
      "None\n"
     ]
    }
   ],
   "source": [
    "print(df.info())   # Summary of DataFrame"
   ]
  },
  {
   "cell_type": "code",
   "execution_count": 108,
   "id": "00cbd221-3b08-4cdc-ab52-e3088eeb823a",
   "metadata": {},
   "outputs": [
    {
     "name": "stdout",
     "output_type": "stream",
     "text": [
      "             Age\n",
      "count   8.000000\n",
      "mean   36.250000\n",
      "std     9.910312\n",
      "min    25.000000\n",
      "25%    28.750000\n",
      "50%    35.000000\n",
      "75%    45.000000\n",
      "max    50.000000\n"
     ]
    }
   ],
   "source": [
    "print(df.describe())  # Statistical summary"
   ]
  },
  {
   "cell_type": "markdown",
   "id": "012da0ce-fb3a-42bd-bbe6-0c9c7af012cb",
   "metadata": {},
   "source": [
    "You can select specific data:"
   ]
  },
  {
   "cell_type": "code",
   "execution_count": 109,
   "id": "0cafad4e-8cc3-4e76-8c55-d88918b3372a",
   "metadata": {},
   "outputs": [
    {
     "name": "stdout",
     "output_type": "stream",
     "text": [
      "0    A\n",
      "1    B\n",
      "2    C\n",
      "3    D\n",
      "4    E\n",
      "5    F\n",
      "6    G\n",
      "7    H\n",
      "8    I\n",
      "Name: Name, dtype: object\n"
     ]
    }
   ],
   "source": [
    "print(df['Name'])  # Select a column"
   ]
  },
  {
   "cell_type": "code",
   "execution_count": 110,
   "id": "686bdde7-dcfb-4811-876d-8dd7b956f4b0",
   "metadata": {},
   "outputs": [
    {
     "name": "stdout",
     "output_type": "stream",
     "text": [
      "  Name   Age\n",
      "0    A  25.0\n",
      "1    B  30.0\n",
      "2    C  25.0\n",
      "3    D  40.0\n",
      "4    E  30.0\n",
      "5    F  45.0\n",
      "6    G  45.0\n",
      "7    H  50.0\n",
      "8    I   NaN\n"
     ]
    }
   ],
   "source": [
    "print(df[['Name', 'Age']])  # Select multiple columns"
   ]
  },
  {
   "cell_type": "code",
   "execution_count": 111,
   "id": "d95c6a8a-4153-4e43-87b9-c9ae1f14a9b5",
   "metadata": {},
   "outputs": [
    {
     "name": "stdout",
     "output_type": "stream",
     "text": [
      "Name       A\n",
      "Age     25.0\n",
      "Name: 0, dtype: object\n"
     ]
    }
   ],
   "source": [
    "print(df.loc[0])  # Select a row by index"
   ]
  },
  {
   "cell_type": "code",
   "execution_count": 112,
   "id": "0d0ca320-2a22-491b-9e77-790a6e60c0d7",
   "metadata": {},
   "outputs": [
    {
     "name": "stdout",
     "output_type": "stream",
     "text": [
      "Name       B\n",
      "Age     30.0\n",
      "Name: 1, dtype: object\n"
     ]
    }
   ],
   "source": [
    "print(df.iloc[1])  # Select a row by numerical position"
   ]
  },
  {
   "cell_type": "markdown",
   "id": "1a2afe3e-3702-4205-9db4-e3fe81be9ba4",
   "metadata": {},
   "source": [
    "You can also filter data easily:"
   ]
  },
  {
   "cell_type": "code",
   "execution_count": 113,
   "id": "d39fed3e-bfcf-4990-b9f8-487c4f900691",
   "metadata": {},
   "outputs": [
    {
     "name": "stdout",
     "output_type": "stream",
     "text": [
      "  Name   Age\n",
      "3    D  40.0\n",
      "5    F  45.0\n",
      "6    G  45.0\n",
      "7    H  50.0\n"
     ]
    }
   ],
   "source": [
    "filtered_df = df[df['Age'] > 30]  # Select rows where Age > 30\n",
    "print(filtered_df)"
   ]
  },
  {
   "cell_type": "markdown",
   "id": "dc591fed-5349-4afa-bd05-e8dd6ac82774",
   "metadata": {},
   "source": [
    "### 3.4 Data Cleaning"
   ]
  },
  {
   "cell_type": "markdown",
   "id": "7a3d6fa2-8b79-446b-b3e5-fc05a8e33efc",
   "metadata": {},
   "source": [
    "Pandas has useful functions to clean data, such as Handling Missing data, Changing Data Types, etc."
   ]
  },
  {
   "cell_type": "code",
   "execution_count": 114,
   "id": "698fb731-748b-4432-8461-5654421be94d",
   "metadata": {},
   "outputs": [
    {
     "name": "stdout",
     "output_type": "stream",
     "text": [
      "  Name   Age\n",
      "0    A  25.0\n",
      "1    B  30.0\n",
      "2    C  25.0\n",
      "3    D  40.0\n",
      "4    E  30.0\n",
      "5    F  45.0\n",
      "6    G  45.0\n",
      "7    H  50.0\n"
     ]
    }
   ],
   "source": [
    "### Handling Missing Values\n",
    "df.dropna(inplace=True)  # Remove rows with NaN values\n",
    "print(df)"
   ]
  },
  {
   "cell_type": "code",
   "execution_count": 115,
   "id": "9ce4ff32-20c8-4d33-847c-25c630ca60a0",
   "metadata": {},
   "outputs": [
    {
     "name": "stdout",
     "output_type": "stream",
     "text": [
      "  Name  Age\n",
      "0    A   25\n",
      "1    B   30\n",
      "2    C   25\n",
      "3    D   40\n",
      "4    E   30\n",
      "5    F   45\n",
      "6    G   45\n",
      "7    H   50\n"
     ]
    }
   ],
   "source": [
    "### Changing Data Types\n",
    "df['Age'] = df['Age'].astype(int)  # Convert Age column to integer\n",
    "print(df)"
   ]
  },
  {
   "cell_type": "markdown",
   "id": "630dac87-32ce-4bcc-88d6-0f855bfd6f40",
   "metadata": {},
   "source": [
    "### 3.5 Modifying Data"
   ]
  },
  {
   "cell_type": "markdown",
   "id": "5d67d7d6-b08f-4623-a17a-23ab4006a399",
   "metadata": {},
   "source": [
    "By leveraging Pandas, you can easily add new columns, rename colums, sort data, etc."
   ]
  },
  {
   "cell_type": "code",
   "execution_count": 116,
   "id": "16a548c0-1015-432e-b9cf-a24ac28432ac",
   "metadata": {},
   "outputs": [
    {
     "name": "stdout",
     "output_type": "stream",
     "text": [
      "  Name   Age    Salary    Bonus\n",
      "0    A  25.0   50000.0   5000.0\n",
      "1    B  30.0   60000.0   6000.0\n",
      "2    C  25.0   70000.0   7000.0\n",
      "3    D  40.0   80000.0   8000.0\n",
      "4    E  30.0   55000.0   5500.0\n",
      "5    F  45.0   65000.0   6500.0\n",
      "6    G  45.0   90000.0   9000.0\n",
      "7    H  50.0  100000.0  10000.0\n",
      "8    I   NaN       NaN      NaN\n"
     ]
    }
   ],
   "source": [
    "### Adding a New Column\n",
    "df = pd.read_csv('data.csv')\n",
    "df['Bonus'] = df['Salary'] * 0.10  # Add a new column\n",
    "print(df)"
   ]
  },
  {
   "cell_type": "code",
   "execution_count": 117,
   "id": "f743654f-4f24-4418-80d8-365c3faddc43",
   "metadata": {},
   "outputs": [
    {
     "name": "stdout",
     "output_type": "stream",
     "text": [
      "  Employee Name   Age    Salary    Bonus\n",
      "0             A  25.0   50000.0   5000.0\n",
      "1             B  30.0   60000.0   6000.0\n",
      "2             C  25.0   70000.0   7000.0\n",
      "3             D  40.0   80000.0   8000.0\n",
      "4             E  30.0   55000.0   5500.0\n",
      "5             F  45.0   65000.0   6500.0\n",
      "6             G  45.0   90000.0   9000.0\n",
      "7             H  50.0  100000.0  10000.0\n",
      "8             I   NaN       NaN      NaN\n"
     ]
    }
   ],
   "source": [
    "### Renaming Columns\n",
    "df.rename(columns={'Name': 'Employee Name'}, inplace=True)\n",
    "print(df)"
   ]
  },
  {
   "cell_type": "code",
   "execution_count": 118,
   "id": "f1cc393b-238c-4a4d-bf36-7e4af68b5bc0",
   "metadata": {},
   "outputs": [
    {
     "name": "stdout",
     "output_type": "stream",
     "text": [
      "  Employee Name   Age    Salary    Bonus\n",
      "7             H  50.0  100000.0  10000.0\n",
      "5             F  45.0   65000.0   6500.0\n",
      "6             G  45.0   90000.0   9000.0\n",
      "3             D  40.0   80000.0   8000.0\n",
      "1             B  30.0   60000.0   6000.0\n",
      "4             E  30.0   55000.0   5500.0\n",
      "0             A  25.0   50000.0   5000.0\n",
      "2             C  25.0   70000.0   7000.0\n",
      "8             I   NaN       NaN      NaN\n"
     ]
    }
   ],
   "source": [
    "### Sorting Data\n",
    "df.sort_values(by='Age', ascending=False, inplace=True)\n",
    "print(df)"
   ]
  },
  {
   "cell_type": "markdown",
   "id": "a262d82c-9371-492b-8c4e-7f159201d4e7",
   "metadata": {},
   "source": [
    "### 3.6 Merging and Joining Data"
   ]
  },
  {
   "cell_type": "markdown",
   "id": "12a6dcae-2552-486c-abce-d09be9522699",
   "metadata": {},
   "source": [
    "Pandas allows you to combine data from multiple DataFrames."
   ]
  },
  {
   "cell_type": "code",
   "execution_count": 119,
   "id": "367b4e34-1930-4693-b544-bc047deb4754",
   "metadata": {},
   "outputs": [
    {
     "name": "stdout",
     "output_type": "stream",
     "text": [
      "   ID     Name  Salary\n",
      "0   1    Alice   50000\n",
      "1   2      Bob   60000\n",
      "2   3  Charlie   70000\n"
     ]
    }
   ],
   "source": [
    "### Merging DataFrames\n",
    "df1 = pd.DataFrame({'ID': [1, 2, 3], 'Name': ['Alice', 'Bob', 'Charlie']})\n",
    "df2 = pd.DataFrame({'ID': [1, 2, 3], 'Salary': [50000, 60000, 70000]})\n",
    "merged_df = pd.merge(df1, df2, on='ID')\n",
    "print(merged_df)"
   ]
  },
  {
   "cell_type": "code",
   "execution_count": 120,
   "id": "3baea0da-4785-46ae-b090-c70fa3efab24",
   "metadata": {},
   "outputs": [
    {
     "name": "stdout",
     "output_type": "stream",
     "text": [
      "   A  B\n",
      "0  1  3\n",
      "1  2  4\n",
      "0  5  7\n",
      "1  6  8\n"
     ]
    }
   ],
   "source": [
    "### Concatenating DataFrames\n",
    "df1 = pd.DataFrame({'A': [1, 2], 'B': [3, 4]})\n",
    "df2 = pd.DataFrame({'A': [5, 6], 'B': [7, 8]})\n",
    "concatenated_df = pd.concat([df1, df2])\n",
    "print(concatenated_df)"
   ]
  },
  {
   "cell_type": "code",
   "execution_count": 121,
   "id": "669266b8-0276-49fe-9773-eb47029ad414",
   "metadata": {},
   "outputs": [],
   "source": [
    "### 3.7 Pivot Tables and Crosstabs"
   ]
  },
  {
   "cell_type": "markdown",
   "id": "2a3ae3c0-84cb-4f6e-8c3f-0ee1ed9f6e37",
   "metadata": {},
   "source": [
    "Pandas allows for powerful data summarization using pivot tables."
   ]
  },
  {
   "cell_type": "code",
   "execution_count": 122,
   "id": "6bb4a011-8983-4db1-8a98-34edc5302982",
   "metadata": {},
   "outputs": [
    {
     "name": "stdout",
     "output_type": "stream",
     "text": [
      "        Salary\n",
      "Age           \n",
      "25.0   60000.0\n",
      "30.0   57500.0\n",
      "40.0   80000.0\n",
      "45.0   77500.0\n",
      "50.0  100000.0\n"
     ]
    }
   ],
   "source": [
    "### Creating a Pivot Table\n",
    "pivot = df.pivot_table(values='Salary', index='Age', aggfunc='mean')\n",
    "print(pivot)"
   ]
  },
  {
   "cell_type": "code",
   "execution_count": 123,
   "id": "187a7e99-1749-44b4-b67f-5f48a86626c6",
   "metadata": {},
   "outputs": [
    {
     "name": "stdout",
     "output_type": "stream",
     "text": [
      "Salary  50000.0   55000.0   60000.0   65000.0   70000.0   80000.0   90000.0   \\\n",
      "Age                                                                            \n",
      "25.0           1         0         0         0         1         0         0   \n",
      "30.0           0         1         1         0         0         0         0   \n",
      "40.0           0         0         0         0         0         1         0   \n",
      "45.0           0         0         0         1         0         0         1   \n",
      "50.0           0         0         0         0         0         0         0   \n",
      "\n",
      "Salary  100000.0  \n",
      "Age               \n",
      "25.0           0  \n",
      "30.0           0  \n",
      "40.0           0  \n",
      "45.0           0  \n",
      "50.0           1  \n"
     ]
    }
   ],
   "source": [
    "### Creating a Crosstab\n",
    "crosstab = pd.crosstab(df['Age'], df['Salary'])\n",
    "print(crosstab)"
   ]
  },
  {
   "cell_type": "markdown",
   "id": "2b016723-99d0-4baf-b80a-6946e2be58b6",
   "metadata": {},
   "source": [
    "### Conclusion\n",
    "This section introduced the fundamental concepts of Pandas, covering data structures, reading and writing files, data manipulation, cleaning. Pandas is an essential tool for anyone working with structured data in Python, making data analysis more efficient and intuitive.\n"
   ]
  },
  {
   "cell_type": "markdown",
   "id": "cdb75e65-4cb5-4852-bee3-38f8e28cecf6",
   "metadata": {},
   "source": [
    "# 4. Linear Programming basics\n",
    "Linear Programming (LP) is a mathematical technique used to optimize a linear objective function, subject to linear equality and inequality constraints. It is widely used in various fields.\n",
    "\n",
    "**Introduction to LP Optimization Models:**\n",
    "\n",
    "LP problems generally take the form:\n",
    "\n",
    "**The objective function:**\n",
    "\n",
    "$$\\text{maximize or minimize } f(x) = b_1x_1 + b_2x_2 + ... + b_nx_n$$\n",
    "\n",
    "**Subject to Constraints:**\n",
    "\n",
    "$$\n",
    "Kx \\leq a\n",
    "$$\n",
    "\n",
    "where:\n",
    "- $f(x)$ is the objective function to be optimized,\n",
    "- $x_1, x_2, ..., x_n$ are decision variables,\n",
    "- $b_1, b_2, ..., b_n$ are coefficients in the objective function,\n",
    "- $K$ is a matrix of constraint coefficients,\n",
    "- $x$ is a vector of decision variables,\n",
    "- $a$ is a vector of constraint bounds.\n",
    "\n",
    "\n"
   ]
  },
  {
   "cell_type": "markdown",
   "id": "91b0e1ca-b699-48cf-8c62-9f1f12444fbc",
   "metadata": {},
   "source": [
    "### Using Gurobi for Linear Programming\n",
    "Gurobi [1] is a powerful optimization solver widely used for solving optimization problems. The Gurobipy [2] Python library provides a user-friendly interface to define and solve optimization models.  The Gurobipy package includes a trial license, which allows users to solve problems of limited size [2]. However, students and faculty affiliated with academic institutions are eligible for a free, full-featured license [2].\n"
   ]
  },
  {
   "cell_type": "markdown",
   "id": "27353968-a61d-4c9e-aaf3-92f3e439a5d1",
   "metadata": {},
   "source": [
    "### Installing Gurobi\n",
    "If you haven't installed Gurobipy yet, use:\n",
    "```bash\n",
    "pip install gurobipy\n",
    "```\n"
   ]
  },
  {
   "cell_type": "markdown",
   "id": "08d0bdce-96b0-4bdd-a922-d00a038c9385",
   "metadata": {},
   "source": [
    "### Implementing a Linear Program with Gurobi\n",
    "#### Problem Definition:\n",
    "Consider a simple LP problem:\n",
    "### Linear Programming Problem\n",
    "\n",
    "**Maximize:**\n",
    "\n",
    "$$f = 2x + 3y$$\n",
    "\n",
    "**Subject to:**\n",
    "\n",
    "$$3x + 2y \\leq 11$$\n",
    "\n",
    "$$x + y \\leq 4$$\n",
    "\n",
    "$$x \\geq 0, \\quad y \\geq 0$$\n"
   ]
  },
  {
   "cell_type": "markdown",
   "id": "fb9478a6-3361-4ab2-b235-3bb41057e235",
   "metadata": {},
   "source": [
    "We will solve this problem using Gurobi in Python."
   ]
  },
  {
   "cell_type": "markdown",
   "id": "95b7144a-0d56-4ac9-bbd9-3b3f8ed691d5",
   "metadata": {},
   "source": [
    "First, you need to import the entire gurobipy library and import the GRB constants from gurobipy."
   ]
  },
  {
   "cell_type": "code",
   "execution_count": 124,
   "id": "6bfaec4d-eec7-4199-b5fd-5271c3be0f86",
   "metadata": {},
   "outputs": [],
   "source": [
    "import gurobipy as grb\n",
    "from gurobipy import GRB"
   ]
  },
  {
   "cell_type": "markdown",
   "id": "e7cdf2d4-338f-4934-84bc-dc4425346116",
   "metadata": {},
   "source": [
    "Then, you need to create a new optimization model instance, define the decision variables, and set up the objective function."
   ]
  },
  {
   "cell_type": "code",
   "execution_count": 125,
   "id": "3e37da3c-8fcd-493e-85e7-f4f5930382aa",
   "metadata": {},
   "outputs": [],
   "source": [
    "# Create a new optimization model\n",
    "model = grb.Model(\"LP\")\n",
    "# Define decision variables\n",
    "x = model.addVar(name=\"x\", vtype=GRB.CONTINUOUS, lb=0)\n",
    "y = model.addVar(name=\"y\", vtype=GRB.CONTINUOUS, lb=0)\n",
    "# Set objective function\n",
    "model.setObjective(2*x + 3*y, GRB.MAXIMIZE)"
   ]
  },
  {
   "cell_type": "markdown",
   "id": "4b331606-e3c4-446b-9ae7-58aa9b8d9b11",
   "metadata": {},
   "source": [
    "Next, you can define the constraints:"
   ]
  },
  {
   "cell_type": "code",
   "execution_count": 126,
   "id": "54b84228-4863-4a1e-8d57-458a8ca1643e",
   "metadata": {},
   "outputs": [
    {
     "data": {
      "text/plain": [
       "<gurobi.Constr *Awaiting Model Update*>"
      ]
     },
     "execution_count": 126,
     "metadata": {},
     "output_type": "execute_result"
    }
   ],
   "source": [
    "# Add constraints\n",
    "model.addConstr(3*x + 2*y <= 11, \"Constraint 1\")\n",
    "model.addConstr(x + y <= 4, \"Constraint 2\")"
   ]
  },
  {
   "cell_type": "markdown",
   "id": "90cb96a0-9c17-4ae5-8d4b-11c122f2b8ee",
   "metadata": {},
   "source": [
    "Now, you can invoke Gurobi to solve this optimization problem:"
   ]
  },
  {
   "cell_type": "code",
   "execution_count": 127,
   "id": "9e49059a-9501-494f-82db-bb368d3d4a4f",
   "metadata": {},
   "outputs": [
    {
     "name": "stdout",
     "output_type": "stream",
     "text": [
      "Gurobi Optimizer version 12.0.1 build v12.0.1rc0 (win64 - Windows 11.0 (26100.2))\n",
      "\n",
      "CPU model: 12th Gen Intel(R) Core(TM) i5-12500H, instruction set [SSE2|AVX|AVX2]\n",
      "Thread count: 12 physical cores, 16 logical processors, using up to 16 threads\n",
      "\n",
      "Optimize a model with 2 rows, 2 columns and 4 nonzeros\n",
      "Model fingerprint: 0x9496ece8\n",
      "Coefficient statistics:\n",
      "  Matrix range     [1e+00, 3e+00]\n",
      "  Objective range  [2e+00, 3e+00]\n",
      "  Bounds range     [0e+00, 0e+00]\n",
      "  RHS range        [4e+00, 1e+01]\n",
      "Presolve time: 0.02s\n",
      "Presolved: 2 rows, 2 columns, 4 nonzeros\n",
      "\n",
      "Iteration    Objective       Primal Inf.    Dual Inf.      Time\n",
      "       0    5.0000000e+30   3.250000e+30   5.000000e+00      0s\n",
      "       1    1.2000000e+01   0.000000e+00   0.000000e+00      0s\n",
      "\n",
      "Solved in 1 iterations and 0.03 seconds (0.00 work units)\n",
      "Optimal objective  1.200000000e+01\n"
     ]
    }
   ],
   "source": [
    "# Optimize the model\n",
    "model.optimize()"
   ]
  },
  {
   "cell_type": "code",
   "execution_count": 128,
   "id": "7095c9bf-50b3-4859-998e-6dfed355f3bf",
   "metadata": {},
   "outputs": [
    {
     "name": "stdout",
     "output_type": "stream",
     "text": [
      "Optimal solution: x = 0.0, y = 4.0\n",
      "Optimal objective value: Z = 12.0\n"
     ]
    }
   ],
   "source": [
    "# Display results\n",
    "if model.status == GRB.OPTIMAL:\n",
    "    print(f\"Optimal solution: x = {x.x}, y = {y.x}\")\n",
    "    print(f\"Optimal objective value: Z = {model.objVal}\")\n",
    "else:\n",
    "    print(\"No optimal solution found.\")"
   ]
  },
  {
   "cell_type": "markdown",
   "id": "839377bd-6a9c-4130-8f18-c307b0077099",
   "metadata": {},
   "source": [
    "After running the above script, Gurobi will output the optimal values of $x$ and $y$, along with the optimal objective function value. "
   ]
  },
  {
   "cell_type": "markdown",
   "id": "504bd58a-2372-403b-bf8b-7eff4a0c6a83",
   "metadata": {},
   "source": [
    "### Conclusion\n",
    "Linear Programming is a mathematical optimization technique used to find the best outcome in a given system. Gurobi is a powerful solver that can efficiently handle optimization problems. This section serves as a foundation for more advanced optimization problems, including real-world applications such as grid optimization.\n"
   ]
  },
  {
   "cell_type": "markdown",
   "id": "7eb7ad52-7bc0-47be-afb1-906281f59791",
   "metadata": {},
   "source": [
    "## References\n",
    "\n",
    "[1] Gurobi Optimization, LLC, “Gurobi Optimizer Reference Manual,” 2024.\n",
    "\n",
    "[2] Gurobi Optimization, LLC, “GurobiPy: Python interface for the Gurobi Optimizer,” PyPI, [Online]. Available: https://pypi.org/project/gurobipy/\n"
   ]
  },
  {
   "cell_type": "code",
   "execution_count": null,
   "id": "e0c43a00-012b-4f3a-a324-e09f8ad822e7",
   "metadata": {},
   "outputs": [],
   "source": []
  }
 ],
 "metadata": {
  "kernelspec": {
   "display_name": "Python 3 (ipykernel)",
   "language": "python",
   "name": "python3"
  },
  "language_info": {
   "codemirror_mode": {
    "name": "ipython",
    "version": 3
   },
   "file_extension": ".py",
   "mimetype": "text/x-python",
   "name": "python",
   "nbconvert_exporter": "python",
   "pygments_lexer": "ipython3",
   "version": "3.9.21"
  }
 },
 "nbformat": 4,
 "nbformat_minor": 5
}
