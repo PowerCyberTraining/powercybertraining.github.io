{
 "cells": [
  {
   "cell_type": "markdown",
   "id": "13c82843-a72c-4db6-863b-fa4158fe95f3",
   "metadata": {},
   "source": [
    "# Power system optimization problem-2  \n",
    "\n",
    "\n",
    "\n",
    "## 1.1 Objective\n",
    "\n",
    "\n",
    "This section provides a comprehensive exploration of power system optimization by formulating and solving a **single-period economic dispatch with network-constraint** on a modified PJM 5-bus test system. The primary goal is to demonstrate the application of state-of-the-art optimization frameworks and computational tools in modeling complex power system operations, with a focus on balancing economic efficiency, operational reliability, and computational scalability. Electric grid operators must strategically schedule generation resources to meet forecasted electricity demand while minimizing costs, adhering to physical grid constraints, and ensuring stability across transmission networks.\n",
    "\n",
    "The workflow is implemented using an open-source computational stack, including **Python** for scripting, **Jupyter Notebook** for interactive modeling and visualization, **NumPy** for numerical data processing, **GurobiPy** (via the Gurobi solver) to formulate and solve the linear programming (LP) problem, and **Matplotlib** for visualizing generation schedules. By combining theoretical principles with hands-on coding, this module illustrates how advanced optimization techniques can address real-world power system challenges, bridging the gap between academic research and industry-grade operational tools.\n",
    "\n",
    "\n",
    "\n",
    "**## 1.2 Key Components**  \n",
    "\n",
    "1. **Mathematical Model Formulation for single-period economic dispatch without network-constraint**  \n",
    "   - **Objective Function:** Define a cost-minimization objective that aggregates generation costs for a single period.  \n",
    "   - **Constraints:** Incorporate critical operational limits, including:  \n",
    "     - **Generation capacity constraints** (minimum/maximum active power output for each generator).   \n",
    "     - **Power balance constraints** ensuring supply meets demand at each bus.\n",
    "     - **Transmission constraints** (thermal limits on line flows, calculated via Power Transfer Distribution Factors (PTDFs) to model network congestion).       \n",
    "\n",
    "2. **System Parameter Configuration**  \n",
    "   - **Input Data:** Structured datasets defining generator and load characteristics.\n",
    "   - **Shift Factor Matrix (PTDF):** Compute the sensitivity matrix that maps power injections at buses to line flows, derived from the system’s admittance matrix. This matrix is critical for enforcing transmission constraints and identifying congestion patterns.  \n",
    "\n",
    "3. **Optimization Problem Implementation and Solution**  \n",
    "   - **Solver Integration:** Utilize **GurobiPy** (or equivalent solvers) to translate the mathematical model into a solver-readable format.  \n",
    "   - **Model Building:** Programmatically declare decision variables, objective function, and constraints within a **Python**-based framework, leveraging **NumPy** for efficient matrix operations.   \n",
    "\n",
    "4. **Result Extraction and Visualization**  \n",
    "   - **Key Outputs:** Extract extract optimization results.  \n",
    "   - **Visualization Tools:** Use **Matplotlib** and **Jupyter Notebook** to generate plots. \n",
    "\n",
    "---\n",
    "\n",
    "**Module Impact:**  \n",
    "This componentized workflow provides hands-on training in modern grid optimization, emphasizing the integration of **cyber infrastructure** (open-source tools, high-performance computing) with power system fundamentals. By decomposing the single-period economic dispatch without network-constraint problem into structured phases—model design, data engineering, solver implementation, and analytics—the module bridges theoretical optimization concepts with industry-relevant computational workflows. Participants gain proficiency in leveraging advanced packages, preparing them for research or operational roles in power systems."
   ]
  },
  {
   "cell_type": "markdown",
   "id": "f6587d54-f4ee-4425-94a9-30e72a9c15bc",
   "metadata": {},
   "source": [
    "<br><br>"
   ]
  },
  {
   "cell_type": "markdown",
   "id": "221be134-7756-4bb7-ad48-ca869320463a",
   "metadata": {},
   "source": [
    "# 2. Formulating the mathematical model for the optimization problem"
   ]
  },
  {
   "cell_type": "markdown",
   "id": "54b5680e-1444-43d4-a05b-8c0e661e2b4a",
   "metadata": {},
   "source": [
    "This section breaks down the mathematical model used in the single-period economic dispatch without network-constraint problem. This problem aims to schedule power generation at the lowest possible cost. Below, we explain each component of the model in simple terms, using practical examples and analogies to help new learners grasp the concepts.\n",
    "\n",
    "**Objective Function**\n",
    "\n",
    "The objective function is to minimize the generation cost for a single period, where $P_{i}$ represents the active power output of generator $i$ in this period, $C_g(P_{i})$ denotes the generation cost of generator $i$ in this time period, $N_g$ is the total number of generators.\n",
    "\n",
    "$$\\min \\sum_{i=1}^{N_g} C_g(P_{i})  \\qquad (1)$$\n",
    "\n",
    "\n",
    "**Constraints**\n",
    "\n",
    "1. **Line flow limit constraints**\n",
    "\n",
    "Line flow limit constraints, where GSF represents the shift factor matrix which can be calculated using the network admittance matrix, and $P_{l}^{max}$ denotes the line flow limit.\n",
    "\n",
    "$$\\sum_{i=1}^{N_{i}}GSF_{l-i}*P_{i}-\\sum_{k=1}^{N_{l}}GSF_{l-k}*D_{k}\\geq -P_{l}^{max}  \\qquad (2)$$\n",
    "\n",
    "$$\\sum_{i=1}^{N_{i}}GSF_{l-i}*P_{i}-\\sum_{k=1}^{N_{l}}GSF_{l-k}*D_{k}\\leq P_{l}^{max}  \\qquad (3)$$\n",
    "\n",
    "**Intuition Behind GSF:**\n",
    "GSF values act like \"traffic coefficients.\" For example, if $GSF_{l−i}=0.3$, 30% of the power from generator i flows through line l. These factors depend on the grid’s physics (line impedances, topology).\n",
    "\n",
    "**Why This Matters:**\n",
    "If too much power flows through a line, it can fail (e.g., during a heatwave). The ED model ensures flows stay within limits.\n",
    "\n",
    "2. **Power Balance Constraint**\n",
    "\n",
    "System load balance constraints, where $D_{k}$ represents the load at bus $k$, and $K$ denotes the total number of buses.\n",
    "\n",
    "$$\\sum_{i=1}^{N_{g}} P_{i} \\geq \\sum_{k=1}^{K}D_{k} \\qquad (4)$$\n",
    "\n",
    "**Why Equality vs. Inequality?**\n",
    "While the equation uses ≥, in practice, generation should exactly match demand to avoid grid instability. This constraint assumes excess power can be curtailed (e.g., renewables) or stored.\n",
    "\n",
    "\n",
    "3. **Generator output limit constraints**\n",
    "\n",
    "Generator output limit constraints, where $P_{i}^{max}$ and $P_{i}^{min}$ represent the upper and lower output limits of generator $i$, respectively.\n",
    "\n",
    "$$P_{i}^{min}\\leq P_{i}\\leq P_{i}^{max}  \\qquad (5)$$\n",
    "\n",
    "**Why Use DC Power Flow?**\n",
    "\n",
    "The model simplifies the grid’s physics using DC power flow assumptions:\n",
    "\n",
    "Lossless Lines: No energy is lost as heat.\n",
    "\n",
    "Flat Voltage: Voltage magnitudes are constant, and angles are small.\n",
    "\n",
    "Linear Equations: Makes the problem a linear program (LP), which is fast to solve even for large grids.\n",
    "\n",
    "**Trade-Off:**\n",
    "\n",
    "Real grids use AC power flow (nonlinear), but solving AC is computationally expensive. DC flow is a \"good enough\" approximation for day-ahead planning.\n",
    "\n",
    "\n",
    "**Summary**\n",
    "\n",
    "This model balances cost, reliability, and physics:\n",
    "\n",
    "Minimize costs while respecting generator limits.\n",
    "\n",
    "Ensure supply meets demand.\n",
    "\n",
    "Use linear equations for speed and simplicity.\n",
    "\n",
    "**Next Steps:**\n",
    "\n",
    "In practice, you’ll code this model using optimization tools like Gurobi. Each constraint translates to a line of code, and the solver finds the optimal generator outputs!"
   ]
  },
  {
   "cell_type": "markdown",
   "id": "e93f550a-4315-4ec9-adcd-d6a3046b6a4a",
   "metadata": {},
   "source": [
    "<br><br>"
   ]
  },
  {
   "cell_type": "markdown",
   "id": "e74bfc3a-ff7f-4b0c-9888-affb12fffdcc",
   "metadata": {},
   "source": [
    "# 3. Modified PJM 5-bus system\n",
    "\n",
    "## 3.1 Overview\n",
    "The PJM 5-bus system was originally published as early as 1999 [1]. This system ishown in Fig. 1 [1], which includes a total of 5 buses, 6 lines, 5 generators, and 3 loads. Based on the PJM 5-bus system used in [1], our module introduces several modifications to the parameters. Further details are presented in the following sections.\n",
    "\n",
    "\n",
    "![Fig. 1. The PJM 5-bus system [1]](pjm5bus_diagram.png)\n",
    "\n",
    "**Fig. 1. The PJM 5-bus system [1]**\n",
    "\n",
    "\n",
    "\n",
    "## 3.2 Generator parameters\n",
    "The parameters of the generators are presented below. Each generator's ramp rate is set to 50% [2] of its maximum power output, and the minimum power output for each generator is assumed to be 20% of its maximum power output.\n",
    "\n",
    "\n",
    "| Name | Location | Ramping limit (MW) | Min (MW) | Max (MW) | Price ($/MWh) |\n",
    "|------------------|----------|--------------------|--------|--------|---------------|\n",
    "| Alta             | Bus A    | 55                | 22      | 110    | 14            |\n",
    "| Park City        | Bus A    | 50                | 20      | 100    | 15            |\n",
    "| Solitude         | Bus C    | 260               | 104     | 520    | 20            |\n",
    "| Sundance         | Bus D    | 100               | 40      | 200    | 19            |\n",
    "| Brighton         | Bus E    | 300               | 120     | 600    | 10            |\n",
    "\n",
    "\n",
    "## 3.3 Line parameters\n",
    "The parameters of the lines are presented below. \n",
    "\n",
    "| Line | From bus | To bus | Reactance p.u. | Flow Limit MW |\n",
    "|------|----------|--------|----------------|---------------|\n",
    "| A-B  | A        | B      | 0.0281         | 400          |\n",
    "| A-D  | A        | D      | 0.0304         | 300          |\n",
    "| B-C  | B        | C      | 0.0108         | 400          |\n",
    "| C-D  | C        | D      | 0.0297         | 400          |\n",
    "| D-E  | D        | E      | 0.0297         | 240          |\n",
    "| E-A  | E        | A      | 0.0064         | 300          |\n",
    "\n",
    "\n",
    "## 3.4 Load parameters\n",
    "The load for each bus throughout the 24 hours is presented below. However, for our single-period economic dispatch without network constraints in this section, we only use the data from Hour 12. The 24-hour data will be used in the subsequent multi-period network-constrained economic dispatch problem.\n",
    "\n",
    "| Bus | Hour 1 | Hour 2 | Hour 3 | Hour 4 | Hour 5 | Hour 6 | Hour 7 | Hour 8 | Hour 9 | Hour 10 | Hour 11 | Hour 12 | Hour 13 | Hour 14 | Hour 15 | Hour 16 | Hour 17 | Hour 18 | Hour 19 | Hour 20 | Hour 21 | Hour 22 | Hour 23 | Hour 24 |\n",
    "|-----|--------|--------|--------|--------|--------|--------|--------|--------|--------|---------|---------|---------|---------|---------|---------|---------|---------|---------|---------|---------|---------|---------|---------|---------|\n",
    "| Bus A | 0.00 | 0.00 | 0.00 | 0.00 | 0.00 | 0.00 | 0.00 | 0.00 | 0.00 | 0.00 | 0.00 | 0.00 | 0.00 | 0.00 | 0.00 | 0.00 | 0.00 | 0.00 | 0.00 | 0.00 | 0.00 | 0.00 | 0.00 | 0.00 |\n",
    "| Bus B | 181.72 | 196.03 | 210.33 | 224.64 | 238.94 | 245.90 | 252.86 | 259.81 | 266.77 | 273.73 | 280.69 | 287.64 | 294.60 | 276.22 | 257.84 | 239.46 | 221.09 | 234.59 | 248.09 | 261.59 | 275.08 | 251.65 | 228.21 | 204.78 |\n",
    "| Bus C | 184.62 | 194.86 | 205.11 | 215.36 | 225.60 | 235.62 | 245.64 | 255.67 | 265.69 | 275.71 | 285.73 | 295.75 | 305.77 | 289.15 | 272.53 | 255.91 | 239.30 | 251.58 | 263.86 | 276.15 | 288.43 | 262.07 | 235.70 | 209.34 |\n",
    "| Bus D | 274.10 | 289.67 | 305.23 | 320.80 | 336.37 | 344.47 | 352.58 | 360.68 | 368.79 | 376.89 | 385.00 | 393.10 | 401.21 | 383.78 | 366.36 | 348.93 | 331.51 | 344.62 | 357.73 | 370.85 | 383.96 | 358.45 | 332.94 | 307.43 |\n",
    "| Bus E | 0.00 | 0.00 | 0.00 | 0.00 | 0.00 | 0.00 | 0.00 | 0.00 | 0.00 | 0.00 | 0.00 | 0.00 | 0.00 | 0.00 | 0.00 | 0.00 | 0.00 | 0.00 | 0.00 | 0.00 | 0.00 | 0.00 | 0.00 | 0.00 |\n",
    "\n",
    "\n",
    "## References\n",
    "[1] F. Li and R. Bo, \"Small Test Systems for Power System Economic Studies,\" 2010 IEEE PES General Meeting, Minneapolis, MN, USA, 2010, pp. 1-4, doi: 10.1109/PES.2010.5589973.\n",
    "\n",
    "[2] X. Fang, F. Li, Y. Wei, and H. Cui, \"Strategic scheduling of energy storage for load serving entities in locational marginal pricing market,\" IET Generation, Transmission & Distribution, vol. 9, no. 4, pp. 358–365, Apr. 2015, doi: 10.1049/iet-gtd.2015.0144.\n"
   ]
  },
  {
   "cell_type": "markdown",
   "id": "ebe074c2-7ac7-448a-8309-46cbd3441af0",
   "metadata": {},
   "source": [
    "<br><br>"
   ]
  },
  {
   "cell_type": "markdown",
   "id": "bd230e1a-5732-4725-b499-a8ba5df2297a",
   "metadata": {},
   "source": [
    "# 4. Inputting system parameters\n",
    "\n",
    "\n",
    "\n",
    "\n",
    "\n",
    "\n",
    "\n"
   ]
  },
  {
   "cell_type": "markdown",
   "id": "91193359-7ad6-4490-957f-0995a9be837e",
   "metadata": {},
   "source": [
    "First, numpy [1] is imported for scientific computing and efficient array operations. NumPy is a powerful array programming library in Python, widely used across different fields for scientific research and data analysis. Serving as the foundation of the scientific Python ecosystem, NumPy offers powerful data manipulation interfaces and acts as an interoperability layer between various array computation libraries [1].\n"
   ]
  },
  {
   "cell_type": "code",
   "execution_count": 1,
   "id": "c26b33cd-9160-45dd-9933-106f72e052c5",
   "metadata": {},
   "outputs": [],
   "source": [
    "import numpy as np"
   ]
  },
  {
   "cell_type": "markdown",
   "id": "999a387e-e4ff-46e9-8794-1c06f5f7d20c",
   "metadata": {},
   "source": [
    "To facilitate programming, we will use the terms 'generator 1', 'generator 2', 'generator 3', 'generator 4', 'generator 5' to refer respectively to the generators Alta, Park City, Solitude, Sundance, and Brighton. Similarly, 'line 1', 'line 2', 'line 3', 'line 4', 'line 5' will correspond to the lines A-B, A-D, B-C, C-D, D-E, and E-A.\n",
    "Then, we record the number of generators, lines, and buses used in the modified PJM 5-bus system employed in this module, designating bus 1 as the reference bus. "
   ]
  },
  {
   "cell_type": "code",
   "execution_count": 2,
   "id": "61fe72ef-c109-4797-8f54-5c5845913488",
   "metadata": {},
   "outputs": [],
   "source": [
    "N_gen= 5\n",
    "N_line=6\n",
    "bus_num=5\n",
    "ref_bus = 1"
   ]
  },
  {
   "cell_type": "markdown",
   "id": "cdc5e739-976b-4176-9206-35ec51d5986c",
   "metadata": {},
   "source": [
    "Thereafter, we set generators' maximum outputs:"
   ]
  },
  {
   "cell_type": "code",
   "execution_count": 3,
   "id": "160de7ab-b025-481b-b6d7-e3b719802f56",
   "metadata": {},
   "outputs": [
    {
     "name": "stdout",
     "output_type": "stream",
     "text": [
      "Gen_max:\n",
      "[110. 100. 520. 200. 600.]\n"
     ]
    }
   ],
   "source": [
    "gen_max=np.zeros(N_gen)\n",
    "gen_max[0]=110\n",
    "gen_max[1]=100\n",
    "gen_max[2]=520\n",
    "gen_max[3]=200\n",
    "gen_max[4]=600\n",
    "print(\"Gen_max:\")\n",
    "print(gen_max)"
   ]
  },
  {
   "cell_type": "markdown",
   "id": "72cc7613-fc67-4e94-bb43-c5449732449a",
   "metadata": {},
   "source": [
    "Subsequently, we set generators' minimum outputs, the minimum outputs of the generators are assumed to be 20% of their maximum outputs:"
   ]
  },
  {
   "cell_type": "code",
   "execution_count": 4,
   "id": "b9048ac1-9ec1-4c5f-b62e-a56cfe939404",
   "metadata": {},
   "outputs": [
    {
     "name": "stdout",
     "output_type": "stream",
     "text": [
      "Gen_min:\n",
      "[ 22.  20. 104.  40. 120.]\n"
     ]
    }
   ],
   "source": [
    "gen_min=np.zeros(N_gen)\n",
    "gen_min=0.2*gen_max\n",
    "print(\"Gen_min:\")\n",
    "print(gen_min)"
   ]
  },
  {
   "cell_type": "markdown",
   "id": "d4a28748-0c22-4c9f-8391-8e505d8c7d6d",
   "metadata": {},
   "source": [
    "Next, we set the generators' costs, here we assume each unit has a fixed cost per MWh of output:"
   ]
  },
  {
   "cell_type": "code",
   "execution_count": 5,
   "id": "19820167-e830-4f69-a189-c94d56e5370e",
   "metadata": {},
   "outputs": [
    {
     "name": "stdout",
     "output_type": "stream",
     "text": [
      "Gen_cost:\n",
      "[14. 15. 20. 19. 10.]\n"
     ]
    }
   ],
   "source": [
    "gen_cost=np.zeros(N_gen)\n",
    "gen_cost[0]=14\n",
    "gen_cost[1]=15\n",
    "gen_cost[2]=20\n",
    "gen_cost[3]=19\n",
    "gen_cost[4]=10\n",
    "print(\"Gen_cost:\")\n",
    "print(gen_cost)"
   ]
  },
  {
   "cell_type": "markdown",
   "id": "fa183212-9d07-481b-a3d6-e11106b0efbe",
   "metadata": {},
   "source": [
    "Then, we set the load forecast for each bus the studied period. For this single-period economic dispatch without network constraints problem, we only use the load data from Hour 12 as an example."
   ]
  },
  {
   "cell_type": "code",
   "execution_count": 6,
   "id": "02e8a23b-7dc9-48a4-a7dd-639fb0175203",
   "metadata": {},
   "outputs": [
    {
     "name": "stdout",
     "output_type": "stream",
     "text": [
      "Load:\n",
      "[  0.   287.64 295.75 393.1    0.  ]\n"
     ]
    }
   ],
   "source": [
    "load = np.array([\n",
    "    [  0.  ],\n",
    "    [287.64],\n",
    "    [295.75],\n",
    "    [393.10],\n",
    "    [  0.  ]\n",
    "])\n",
    "load = load.flatten() \n",
    "print(\"Load:\")\n",
    "print(load)"
   ]
  },
  {
   "cell_type": "markdown",
   "id": "03b6ff0e-ad4a-4810-953d-1eeda9afaf72",
   "metadata": {},
   "source": [
    "Next, we set the line flow limit for each transmission line:"
   ]
  },
  {
   "cell_type": "code",
   "execution_count": 7,
   "id": "792b557b-2f0f-4432-965d-ba56e73447e8",
   "metadata": {},
   "outputs": [
    {
     "name": "stdout",
     "output_type": "stream",
     "text": [
      "Line_flow_limit:\n",
      "[400. 300. 400. 400. 240. 300.]\n"
     ]
    }
   ],
   "source": [
    "line_max=np.zeros(N_line)\n",
    "line_max[0]=400\n",
    "line_max[1]=300\n",
    "line_max[2]=400\n",
    "line_max[3]=400\n",
    "line_max[4]=240\n",
    "line_max[5]=300\n",
    "print(\"Line_flow_limit:\")\n",
    "print(line_max)"
   ]
  },
  {
   "cell_type": "markdown",
   "id": "8e9b6da5-2d59-4e46-9e96-3afab83cd471",
   "metadata": {},
   "source": [
    "Subsequently, we set the line's impedance parameters. Here we only consider reactance:"
   ]
  },
  {
   "cell_type": "code",
   "execution_count": 8,
   "id": "3316e871-80c6-4cf6-9726-19c787147266",
   "metadata": {},
   "outputs": [],
   "source": [
    "branch_data = [\n",
    "    (1, 1, 2, 0.0281),\n",
    "    (2, 1, 4, 0.0304),\n",
    "    (3, 2, 3, 0.0108),\n",
    "    (4, 3, 4, 0.0297),\n",
    "    (5, 4, 5, 0.0297),\n",
    "    (6, 5, 1, 0.0064),\n",
    "]"
   ]
  },
  {
   "cell_type": "markdown",
   "id": "ee6d7c5e-891a-44fe-bacd-c5ef74748a88",
   "metadata": {},
   "source": [
    "Following this, we can calculate the B_matrix, which is the foundation for calculatig the Shift Factors matrix."
   ]
  },
  {
   "cell_type": "code",
   "execution_count": 9,
   "id": "47d41f4a-daaf-4515-9606-6c200c3bd9f3",
   "metadata": {},
   "outputs": [
    {
     "name": "stdout",
     "output_type": "stream",
     "text": [
      "B_matrix:\n",
      "[[ 224.73192545  -35.58718861    0.          -32.89473684 -156.25      ]\n",
      " [ -35.58718861  128.1797812   -92.59259259    0.            0.        ]\n",
      " [   0.          -92.59259259  126.26262626  -33.67003367    0.        ]\n",
      " [ -32.89473684    0.          -33.67003367  100.23480418  -33.67003367]\n",
      " [-156.25          0.            0.          -33.67003367  189.92003367]]\n"
     ]
    }
   ],
   "source": [
    "B_matrix = np.zeros((N_gen, N_gen))\n",
    "for _, i, j, reactance in branch_data:\n",
    "    i, j = i - 1, j - 1\n",
    "    Y = 1 / reactance\n",
    "    B_matrix[i][j] = B_matrix[j][i] = -Y\n",
    "for i in range(N_gen):\n",
    "    B_matrix[i][i] = -np.sum(B_matrix[i])\n",
    "print(\"B_matrix:\")\n",
    "print(B_matrix)"
   ]
  },
  {
   "cell_type": "markdown",
   "id": "c63a1d1a-77fe-4a7f-b044-9b0a3589e8c5",
   "metadata": {},
   "source": [
    "Based on the previously calculated B matrix, we can now calculate the system's Shift Factors matrix:"
   ]
  },
  {
   "cell_type": "code",
   "execution_count": 10,
   "id": "f01b3005-97eb-4321-9474-4055e304426c",
   "metadata": {},
   "outputs": [
    {
     "name": "stdout",
     "output_type": "stream",
     "text": [
      "Shift Factors matrix:\n",
      "[[ 0.         -0.66981132 -0.54290606 -0.19391661 -0.03437857]\n",
      " [ 0.         -0.17924528 -0.24813671 -0.43758813 -0.07757795]\n",
      " [ 0.          0.33018868 -0.54290606 -0.19391661 -0.03437857]\n",
      " [ 0.          0.33018868  0.45709394 -0.19391661 -0.03437857]\n",
      " [ 0.          0.1509434   0.20895723  0.36849527 -0.11195652]\n",
      " [ 0.          0.1509434   0.20895723  0.36849527  0.88804348]]\n"
     ]
    }
   ],
   "source": [
    "def calculate_shift_factors(B_matrix, branch_data, inj_bus, ref_bus):\n",
    "    n = B_matrix.shape[0]\n",
    "    B_reduce = np.delete(np.delete(B_matrix, ref_bus - 1, axis=0), ref_bus - 1, axis=1)\n",
    "    delta_P = np.zeros(n)\n",
    "\n",
    "    delta_P[ref_bus - 1] = -1\n",
    "    delta_P[inj_bus - 1] = delta_P[inj_bus - 1]+1\n",
    "    delta_P_reduce = np.delete(delta_P, ref_bus - 1, axis=0)\n",
    "\n",
    "    delta_theta = np.linalg.solve(B_reduce, delta_P_reduce)\n",
    "\n",
    "    delta_theta = np.insert(delta_theta, ref_bus - 1, 0)\n",
    "\n",
    "    SF_matrix = np.zeros(len(branch_data))\n",
    "\n",
    "    for index, (branch, i, j, reactance) in enumerate(branch_data):\n",
    "        i, j = i - 1, j - 1\n",
    "        SF_matrix[index] = (delta_theta[i] - delta_theta[j]) / reactance\n",
    "\n",
    "    return SF_matrix\n",
    "\n",
    "SF=np.zeros((N_line,bus_num))\n",
    "\n",
    "for inj_bus in range(bus_num):\n",
    "\n",
    "    SF[:,inj_bus] = calculate_shift_factors(B_matrix, branch_data, inj_bus+1, ref_bus)\n",
    "\n",
    "print(\"Shift Factors matrix:\")\n",
    "print(SF)"
   ]
  },
  {
   "cell_type": "markdown",
   "id": "977c3b70-8088-40b8-80fc-0c466ffe0e78",
   "metadata": {},
   "source": [
    "## References\n",
    "\n",
    "[1] Harris, C.R., Millman, K.J., van der Walt, S.J. et al. Array programming with NumPy. Nature 585, 357–362 (2020). DOI: 10.1038/s41586-020-2649-2."
   ]
  },
  {
   "cell_type": "markdown",
   "id": "89f3304d-393b-4981-a101-891bc08b288d",
   "metadata": {},
   "source": [
    "<br><br>"
   ]
  },
  {
   "cell_type": "markdown",
   "id": "2967b9a1-3e4e-4362-ae8c-bc87ebf31786",
   "metadata": {},
   "source": [
    "# 5. Formulating the optimization problem in cyber infrastructure and solving the optimization problem"
   ]
  },
  {
   "cell_type": "markdown",
   "id": "05d86930-8a39-4b08-afb1-7855a9cdfa99",
   "metadata": {},
   "source": [
    "We use Gurobipy [1] to model and solve this mathematical formulation. The Gurobi Optimizer is a mathematical optimization software designed to solve a wide range of optimization problems [2]. Gurobipy is the official Python interface provided by Gurobi, enabling seamless integration of the optimizer within Python environments for efficient model building and solution processes. The Gurobipy package includes a trial license, which allows users to solve problems of limited size [2]. However, students and faculty affiliated with academic institutions are eligible for a free, full-featured license [2]."
   ]
  },
  {
   "cell_type": "markdown",
   "id": "b159a82d-a11d-4554-97e0-86558044aa34",
   "metadata": {},
   "source": [
    "First, if you have not installed Gurobipy, you can install it in Jupyter Notebook using the following command:"
   ]
  },
  {
   "cell_type": "code",
   "execution_count": 11,
   "id": "a6ce8d63-2923-46ba-ac13-8a6a014c6391",
   "metadata": {},
   "outputs": [
    {
     "name": "stdout",
     "output_type": "stream",
     "text": [
      "Requirement already satisfied: gurobipy in d:\\miniforge3\\envs\\cyber_env\\lib\\site-packages (12.0.1)\n",
      "Note: you may need to restart the kernel to use updated packages.\n"
     ]
    }
   ],
   "source": [
    "#install gurobipy\n",
    "get_ipython().run_line_magic('pip', 'install gurobipy')"
   ]
  },
  {
   "cell_type": "markdown",
   "id": "ff725758-5595-4f4d-aa5c-3f1b65c4fd70",
   "metadata": {},
   "source": [
    "Next, you need to import the entire gurobipy library and import the GRB constants from gurobipy."
   ]
  },
  {
   "cell_type": "code",
   "execution_count": 12,
   "id": "3af66954-6bdb-463c-90a1-0d1bf272de49",
   "metadata": {},
   "outputs": [],
   "source": [
    "import gurobipy as grb\n",
    "from gurobipy import GRB"
   ]
  },
  {
   "cell_type": "markdown",
   "id": "b3bbc9ee-44c3-47a4-8d28-1e182b892bc8",
   "metadata": {},
   "source": [
    "Following this, you will use gurobipy to construct a day-ahead economic dispatch optimization model. The first steps are to create a new optimization model instance, define the decision variables, and set up the objective function."
   ]
  },
  {
   "cell_type": "code",
   "execution_count": 13,
   "id": "5b5f065c-b426-4034-8dac-1108d30f7ee2",
   "metadata": {},
   "outputs": [
    {
     "name": "stdout",
     "output_type": "stream",
     "text": [
      "Set parameter Username\n",
      "Academic license - for non-commercial use only - expires 2026-02-10\n"
     ]
    }
   ],
   "source": [
    "#create a new optimization model\n",
    "M = grb.Model()\n",
    "#define the decision variables\n",
    "P_i = M.addVars(N_gen, vtype = GRB.CONTINUOUS, name='gen_output')\n",
    "#set up the objective function\n",
    "gen_fuel_cost = grb.quicksum(gen_cost[i]*(P_i[i]) for i in range(N_gen))\n",
    "M.setObjective(gen_fuel_cost, GRB.MINIMIZE)"
   ]
  },
  {
   "cell_type": "markdown",
   "id": "12b04450-fec3-4ee7-a452-1327e87a87b4",
   "metadata": {},
   "source": [
    "Next, you need to define various constraints, such as line flow limit constraints:"
   ]
  },
  {
   "cell_type": "code",
   "execution_count": 14,
   "id": "16a38b8a-c05a-48c9-bddb-d92658602fa5",
   "metadata": {},
   "outputs": [],
   "source": [
    "M.addConstrs((SF[l,0]*(P_i[0]+P_i[1])+SF[l,2]*P_i[2]+SF[l,3]*P_i[3]+\n",
    "              SF[l,4]*P_i[4]-(SF[l,0]*load[0]+SF[l,1]*load[1]+SF[l,2]*load[2]+\n",
    "                                  SF[l,3]*load[3]+SF[l,4]*load[4]) <= line_max[l]\n",
    "              for l in range(N_line) ),name='con_1')\n",
    "M.addConstrs((SF[l,0]*(P_i[0]+P_i[1])+SF[l,2]*P_i[2]+SF[l,3]*P_i[3]+\n",
    "              SF[l,4]*P_i[4]-(SF[l,0]*load[0]+SF[l,1]*load[1]+SF[l,2]*load[2]+\n",
    "                                  SF[l,3]*load[3]+SF[l,4]*load[4]) >= -line_max[l]\n",
    "              for l in range(N_line) ),name='con_2')\n",
    "M.update()"
   ]
  },
  {
   "cell_type": "markdown",
   "id": "c63c2a48-3c11-4553-861a-0beb05bc69aa",
   "metadata": {},
   "source": [
    "System load balance constraints:"
   ]
  },
  {
   "cell_type": "code",
   "execution_count": 15,
   "id": "e4c1f7f6-a462-48db-bfea-bf0a0bd5fd93",
   "metadata": {},
   "outputs": [],
   "source": [
    "M.addConstr((grb.quicksum(P_i[i] for i in range(N_gen)) >=\n",
    "              grb.quicksum(load[p] for p in range(bus_num)) ),name='con_3')\n",
    "M.update()"
   ]
  },
  {
   "cell_type": "markdown",
   "id": "9fc4fb52-e685-4885-b150-17eba4d527d4",
   "metadata": {},
   "source": [
    "Generator output limit constraints:"
   ]
  },
  {
   "cell_type": "code",
   "execution_count": 16,
   "id": "1c27795b-d795-470a-a257-6af765ef67b5",
   "metadata": {},
   "outputs": [],
   "source": [
    "M.addConstrs((P_i[i] <= gen_max[i] for i in range(N_gen) ),name='con_4')\n",
    "M.addConstrs((P_i[i] >=gen_min[i]  for i in range(N_gen) ),name='con_5')\n",
    "M.update()"
   ]
  },
  {
   "cell_type": "markdown",
   "id": "6e5e6581-7e23-4685-bd68-e756a05a7ed8",
   "metadata": {},
   "source": [
    "Now, you can invoke Gurobi to solve this optimization problem using the following command:"
   ]
  },
  {
   "cell_type": "code",
   "execution_count": 17,
   "id": "8652db28",
   "metadata": {},
   "outputs": [
    {
     "name": "stdout",
     "output_type": "stream",
     "text": [
      "Gurobi Optimizer version 12.0.1 build v12.0.1rc0 (win64 - Windows 11.0 (26100.2))\n",
      "\n",
      "CPU model: 12th Gen Intel(R) Core(TM) i5-12500H, instruction set [SSE2|AVX|AVX2]\n",
      "Thread count: 12 physical cores, 16 logical processors, using up to 16 threads\n",
      "\n",
      "Optimize a model with 23 rows, 5 columns and 51 nonzeros\n",
      "Model fingerprint: 0xd3566540\n",
      "Coefficient statistics:\n",
      "  Matrix range     [3e-02, 1e+00]\n",
      "  Objective range  [1e+01, 2e+01]\n",
      "  Bounds range     [0e+00, 0e+00]\n",
      "  RHS range        [3e+00, 1e+03]\n",
      "Presolve removed 20 rows and 0 columns\n",
      "Presolve time: 0.00s\n",
      "Presolved: 3 rows, 5 columns, 11 nonzeros\n",
      "\n",
      "Iteration    Objective       Primal Inf.    Dual Inf.      Time\n",
      "       0    1.2380499e+04   4.168303e+01   0.000000e+00      0s\n",
      "       3    1.2887038e+04   0.000000e+00   0.000000e+00      0s\n",
      "\n",
      "Solved in 3 iterations and 0.01 seconds (0.00 work units)\n",
      "Optimal objective  1.288703839e+04\n"
     ]
    }
   ],
   "source": [
    "M.optimize()"
   ]
  },
  {
   "cell_type": "markdown",
   "id": "94dbd4b5-a156-4769-a499-e0b12bedbb94",
   "metadata": {},
   "source": [
    "From the solution results presented above, it can be observed that the computational time for solving this optimization problem was 0.01 seconds, with an optimal objective value of 1.288703839e+04."
   ]
  },
  {
   "cell_type": "markdown",
   "id": "f56ddb98-1be3-4af3-b55d-b18805553081",
   "metadata": {},
   "source": [
    "## References\n",
    "\n",
    "[1] Gurobi Optimization, LLC, “Gurobi Optimizer Reference Manual,” 2024.\n",
    "\n",
    "[2] Gurobi Optimization, LLC, “GurobiPy: Python interface for the Gurobi Optimizer,” PyPI, [Online]. Available: https://pypi.org/project/gurobipy/\n"
   ]
  },
  {
   "cell_type": "markdown",
   "id": "e55ba4de-bf9c-4e0d-a9c1-305f06f7c260",
   "metadata": {},
   "source": [
    "<br><br>"
   ]
  },
  {
   "cell_type": "markdown",
   "id": "1637e676-231d-410f-87dd-e13326d09f22",
   "metadata": {},
   "source": [
    "# 6. Extracting the optimization results and displaying the outcomes"
   ]
  },
  {
   "cell_type": "markdown",
   "id": "7c402a8d-e874-4363-ba36-bbf987aa581e",
   "metadata": {},
   "source": [
    "First, we extract the decision variables corresponding to the solution of our optimization model:"
   ]
  },
  {
   "cell_type": "code",
   "execution_count": 18,
   "id": "0ebaad69-2e80-421b-bd19-aa12d9e15f2c",
   "metadata": {},
   "outputs": [],
   "source": [
    "#Extract optimization results\n",
    "P_i_1 = np.zeros(N_gen)\n",
    "for i in range(0,N_gen):\n",
    "    P_i_1[i] =  P_i[i].X"
   ]
  },
  {
   "cell_type": "markdown",
   "id": "52647899-df0d-4184-be3f-ea159567ca95",
   "metadata": {},
   "source": [
    "Next, we import matplotlib.pyplot [1] to display the results mentioned above. The matplotlib.pyplot module provides a suite of functions designed to emulate MATLAB-like functionality within Matplotlib, facilitating interactive plotting and visualization in Python [2]."
   ]
  },
  {
   "cell_type": "code",
   "execution_count": 19,
   "id": "20b16dfb-4b29-4e57-b6d0-b67c62dc54b0",
   "metadata": {},
   "outputs": [],
   "source": [
    "#Import matplotlib.pyplot for plotting\n",
    "import matplotlib.pyplot as plt"
   ]
  },
  {
   "cell_type": "markdown",
   "id": "73adf567-eed3-4c01-9728-40f3a4a9b4bf",
   "metadata": {},
   "source": [
    "Then, we can display the results using matplotlib.pyplot:"
   ]
  },
  {
   "cell_type": "markdown",
   "id": "59289efa-4c18-40f3-aa3d-d850de33357b",
   "metadata": {},
   "source": [
    "Set the font size in the figure to 16:"
   ]
  },
  {
   "cell_type": "code",
   "execution_count": 20,
   "id": "adcd8045-f3f7-4f0d-a812-7e40563b820b",
   "metadata": {},
   "outputs": [],
   "source": [
    "plt.rcParams.update({'font.size': 16})"
   ]
  },
  {
   "cell_type": "markdown",
   "id": "c22d2a37-4eb0-47c0-8dac-0eedb4827707",
   "metadata": {},
   "source": [
    "Set the figure size to figsize=(9, 5):"
   ]
  },
  {
   "cell_type": "code",
   "execution_count": 21,
   "id": "1278abb5-8b5e-443d-9b84-b41798951e72",
   "metadata": {},
   "outputs": [
    {
     "data": {
      "text/plain": [
       "<Figure size 900x500 with 0 Axes>"
      ]
     },
     "execution_count": 21,
     "metadata": {},
     "output_type": "execute_result"
    },
    {
     "data": {
      "text/plain": [
       "<Figure size 900x500 with 0 Axes>"
      ]
     },
     "metadata": {},
     "output_type": "display_data"
    }
   ],
   "source": [
    "plt.figure(figsize=(9, 5))"
   ]
  },
  {
   "cell_type": "markdown",
   "id": "0147b695-8c5f-4dc9-ac3a-d77a79ce54b7",
   "metadata": {},
   "source": [
    "Set the line styles and markers:"
   ]
  },
  {
   "cell_type": "code",
   "execution_count": 22,
   "id": "ee60bb49-151d-48e4-a052-2c8078c2c593",
   "metadata": {},
   "outputs": [],
   "source": [
    "line_styles = ['-', '--', '-.', ':', (0, (3, 10, 1, 10))]\n",
    "markers = ['o', 's', '^', 'D', 'x']"
   ]
  },
  {
   "cell_type": "markdown",
   "id": "3978d2e0-dd1e-4e99-935c-d566a0ffd47c",
   "metadata": {},
   "source": [
    "Plot the output of each generator across all time periods, then configure the display characteristics of the legend, x-axis, and y-axis, then generate the figure:"
   ]
  },
  {
   "cell_type": "code",
   "execution_count": 23,
   "id": "44c22ddf-be82-4216-8393-f0860c2c0cc8",
   "metadata": {},
   "outputs": [
    {
     "data": {
      "image/png": "[encoded data removed]",
      "text/plain": [
       "<Figure size 640x480 with 1 Axes>"
      ]
     },
     "metadata": {},
     "output_type": "display_data"
    }
   ],
   "source": [
    "labels = ['gen_1', 'gen_2', 'gen_3', 'gen_4', 'gen_5']\n",
    "x = np.arange(len(P_i_1))  \n",
    "\n",
    "plt.bar(x, P_i_1, color=['red', 'blue', 'green', 'orange', 'purple'])\n",
    "\n",
    "plt.xticks(x, labels)\n",
    "plt.xlabel('Generator')\n",
    "plt.ylabel('MW')\n",
    "plt.ylim(0, 650)\n",
    "plt.grid(axis='y', linestyle='--', alpha=0.7)\n",
    "plt.tight_layout()\n",
    "plt.show()\n"
   ]
  },
  {
   "cell_type": "markdown",
   "id": "25612af9-5930-4578-9158-fca591596468",
   "metadata": {},
   "source": [
    "Building on the optimization results for the decision variables obtained above, further analytical calculations can be conducted. For instance, we can determine the scheduling cost for each generating unit:"
   ]
  },
  {
   "cell_type": "code",
   "execution_count": 24,
   "id": "6ddb644c",
   "metadata": {},
   "outputs": [
    {
     "name": "stdout",
     "output_type": "stream",
     "text": [
      "Operating cost of individual gen 1: 1540.00\n",
      "Operating cost of individual gen 2: 1351.02\n",
      "Operating cost of individual gen 3: 2080.00\n",
      "Operating cost of individual gen 4: 2516.02\n",
      "Operating cost of individual gen 5: 5400.00\n"
     ]
    }
   ],
   "source": [
    "#Calculate each generator's cost\n",
    "individual_gen_cost=np.zeros(N_gen)\n",
    "for i in range(N_gen):\n",
    "    individual_gen_cost[i]=gen_cost[i]*P_i_1[i]\n",
    "    print(f'Operating cost of individual gen {i+1}: {individual_gen_cost[i]:.2f}')"
   ]
  },
  {
   "cell_type": "markdown",
   "id": "eb4110d1-378f-425a-8295-7ec46a7b76a3",
   "metadata": {},
   "source": [
    "## References\n",
    "\n",
    "[1] J. D. Hunter, \"Matplotlib: A 2D graphics environment,\" Computing in Science & Engineering, vol. 9, no. 3, pp. 90-95, 2007, doi: 10.1109/MCSE.2007.55.\n",
    "\n",
    "[2] Matplotlib Developers, \"Pyplot tutorial,\" Matplotlib Documentation, https://matplotlib.org/stable/tutorials/pyplot.html "
   ]
  },
  {
   "cell_type": "code",
   "execution_count": null,
   "id": "43d29a11-9594-4cc1-a4c1-ce5fc90ec8a7",
   "metadata": {},
   "outputs": [],
   "source": []
  }
 ],
 "metadata": {
  "kernelspec": {
   "display_name": "Python (cyber_env)",
   "language": "python",
   "name": "cyber_env"
  },
  "language_info": {
   "codemirror_mode": {
    "name": "ipython",
    "version": 3
   },
   "file_extension": ".py",
   "mimetype": "text/x-python",
   "name": "python",
   "nbconvert_exporter": "python",
   "pygments_lexer": "ipython3",
   "version": "3.9.21"
  }
 },
 "nbformat": 4,
 "nbformat_minor": 5
}
