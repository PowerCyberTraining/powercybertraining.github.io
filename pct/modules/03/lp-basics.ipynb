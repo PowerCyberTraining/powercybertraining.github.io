{
 "cells": [
  {
   "cell_type": "markdown",
   "id": "cdb75e65-4cb5-4852-bee3-38f8e28cecf6",
   "metadata": {},
   "source": [
    "# 🌟 Linear Programming (LP) Basics\n",
    "\n",
    "**Linear Programming (LP)** is a powerful mathematical method used to determine the best possible outcome—such as maximum profit or minimum cost—under a given set of linear constraints. It is widely applied in areas like operations research, economics, engineering, and logistics.\n",
    "\n",
    "---\n",
    "\n",
    "## 🎯 What Is an LP Optimization Model?\n",
    "\n",
    "A **Linear Programming** problem typically involves:\n",
    "\n",
    "- A **linear objective function** to be maximized or minimized  \n",
    "- A set of **linear constraints**, which can be equalities or inequalities  \n",
    "- **Decision variables** that represent the quantities to be determined  \n",
    "\n",
    "---\n",
    "\n",
    "## 🧮 General Form of an LP Problem\n",
    "\n",
    "### **Objective Function:**\n",
    "\n",
    "\\[\n",
    "\\text{Maximize or Minimize: } f(x) = b_1x_1 + b_2x_2 + \\cdots + b_nx_n\n",
    "\\]\n",
    "\n",
    "### **Subject to Constraints:**\n",
    "\n",
    "\\[\n",
    "Kx \\leq a\n",
    "\\]\n",
    "\n",
    "---\n",
    "\n",
    "**Where:**\n",
    "\n",
    "- \\( f(x) \\): Objective function (the quantity to be optimized)  \n",
    "- \\( x = [x_1, x_2, \\ldots, x_n]^T \\): Vector of **decision variables**  \n",
    "- \\( b = [b_1, b_2, \\ldots, b_n] \\): Coefficient vector for the objective function  \n",
    "- \\( K \\): Matrix of constraint coefficients  \n",
    "- \\( a \\): Vector of constraint bounds  \n",
    "\n",
    "Additional conditions may include:\n",
    "\n",
    "\\[\n",
    "x \\geq 0 \\quad \\text{(non-negativity constraints)}\n",
    "\\]\n",
    "\n",
    "---\n",
    "\n",
    "## 📌 Key Concepts\n",
    "\n",
    "- **Feasible Region**: The set of all points \\( x \\) that satisfy the constraints.  \n",
    "- **Optimal Solution**: A point in the feasible region that yields the best value (maximum or minimum) for the objective function.  \n",
    "- **Binding Constraints**: Constraints that are active at the optimal solution (they “hold tight”).\n"
   ]
  },
  {
   "cell_type": "markdown",
   "id": "91b0e1ca-b699-48cf-8c62-9f1f12444fbc",
   "metadata": {},
   "source": [
    "### Using Gurobi for Linear Programming\n",
    "Gurobi [1] is a powerful optimization solver widely used for solving optimization problems. The Gurobipy [2] Python library provides a user-friendly interface to define and solve optimization models.  The Gurobipy package includes a trial license, which allows users to solve problems of limited size [2]. However, students and faculty affiliated with academic institutions are eligible for a free, full-featured license [2].\n"
   ]
  },
  {
   "cell_type": "markdown",
   "id": "27353968-a61d-4c9e-aaf3-92f3e439a5d1",
   "metadata": {},
   "source": [
    "### Installing Gurobi\n",
    "If you haven't installed Gurobipy yet, use:\n",
    "```bash\n",
    "pip install gurobipy\n",
    "```\n"
   ]
  },
  {
   "cell_type": "markdown",
   "id": "08d0bdce-96b0-4bdd-a922-d00a038c9385",
   "metadata": {},
   "source": [
    "### Implementing a Linear Program with Gurobi\n",
    "#### Problem Definition:\n",
    "Consider a simple LP problem:\n",
    "### Linear Programming Problem\n",
    "\n",
    "**Maximize:**\n",
    "\n",
    "$$f = 2x + 3y$$\n",
    "\n",
    "**Subject to:**\n",
    "\n",
    "$$3x + 2y \\leq 11$$\n",
    "\n",
    "$$x + y \\leq 4$$\n",
    "\n",
    "$$x \\geq 0, \\quad y \\geq 0$$\n"
   ]
  },
  {
   "cell_type": "markdown",
   "id": "fb9478a6-3361-4ab2-b235-3bb41057e235",
   "metadata": {},
   "source": [
    "We will solve this problem using Gurobi in Python."
   ]
  },
  {
   "cell_type": "markdown",
   "id": "95b7144a-0d56-4ac9-bbd9-3b3f8ed691d5",
   "metadata": {},
   "source": [
    "First, you need to import the entire gurobipy library and import the GRB constants from gurobipy."
   ]
  },
  {
   "cell_type": "code",
   "execution_count": 1,
   "id": "6bfaec4d-eec7-4199-b5fd-5271c3be0f86",
   "metadata": {},
   "outputs": [],
   "source": [
    "import gurobipy as grb\n",
    "from gurobipy import GRB"
   ]
  },
  {
   "cell_type": "markdown",
   "id": "e7cdf2d4-338f-4934-84bc-dc4425346116",
   "metadata": {},
   "source": [
    "Then, you need to create a new optimization model instance, define the decision variables, and set up the objective function."
   ]
  },
  {
   "cell_type": "code",
   "execution_count": 2,
   "id": "3e37da3c-8fcd-493e-85e7-f4f5930382aa",
   "metadata": {},
   "outputs": [
    {
     "name": "stdout",
     "output_type": "stream",
     "text": [
      "Set parameter Username\n",
      "Academic license - for non-commercial use only - expires 2026-02-10\n"
     ]
    }
   ],
   "source": [
    "# Create a new optimization model\n",
    "model = grb.Model(\"LP\")\n",
    "# Define decision variables\n",
    "x = model.addVar(name=\"x\", vtype=GRB.CONTINUOUS, lb=0)\n",
    "y = model.addVar(name=\"y\", vtype=GRB.CONTINUOUS, lb=0)\n",
    "# Set objective function\n",
    "model.setObjective(2*x + 3*y, GRB.MAXIMIZE)"
   ]
  },
  {
   "cell_type": "markdown",
   "id": "4b331606-e3c4-446b-9ae7-58aa9b8d9b11",
   "metadata": {},
   "source": [
    "Next, you can define the constraints:"
   ]
  },
  {
   "cell_type": "code",
   "execution_count": 3,
   "id": "54b84228-4863-4a1e-8d57-458a8ca1643e",
   "metadata": {},
   "outputs": [
    {
     "data": {
      "text/plain": [
       "<gurobi.Constr *Awaiting Model Update*>"
      ]
     },
     "execution_count": 3,
     "metadata": {},
     "output_type": "execute_result"
    }
   ],
   "source": [
    "# Add constraints\n",
    "model.addConstr(3*x + 2*y <= 11, \"Constraint 1\")\n",
    "model.addConstr(x + y <= 4, \"Constraint 2\")"
   ]
  },
  {
   "cell_type": "markdown",
   "id": "90cb96a0-9c17-4ae5-8d4b-11c122f2b8ee",
   "metadata": {},
   "source": [
    "Now, you can invoke Gurobi to solve this optimization problem:"
   ]
  },
  {
   "cell_type": "code",
   "execution_count": 4,
   "id": "9e49059a-9501-494f-82db-bb368d3d4a4f",
   "metadata": {},
   "outputs": [
    {
     "name": "stdout",
     "output_type": "stream",
     "text": [
      "Gurobi Optimizer version 12.0.1 build v12.0.1rc0 (win64 - Windows 11.0 (26100.2))\n",
      "\n",
      "CPU model: 12th Gen Intel(R) Core(TM) i5-12500H, instruction set [SSE2|AVX|AVX2]\n",
      "Thread count: 12 physical cores, 16 logical processors, using up to 16 threads\n",
      "\n",
      "Optimize a model with 2 rows, 2 columns and 4 nonzeros\n",
      "Model fingerprint: 0x9496ece8\n",
      "Coefficient statistics:\n",
      "  Matrix range     [1e+00, 3e+00]\n",
      "  Objective range  [2e+00, 3e+00]\n",
      "  Bounds range     [0e+00, 0e+00]\n",
      "  RHS range        [4e+00, 1e+01]\n",
      "Presolve time: 0.01s\n",
      "Presolved: 2 rows, 2 columns, 4 nonzeros\n",
      "\n",
      "Iteration    Objective       Primal Inf.    Dual Inf.      Time\n",
      "       0    5.0000000e+30   3.250000e+30   5.000000e+00      0s\n",
      "       1    1.2000000e+01   0.000000e+00   0.000000e+00      0s\n",
      "\n",
      "Solved in 1 iterations and 0.01 seconds (0.00 work units)\n",
      "Optimal objective  1.200000000e+01\n"
     ]
    }
   ],
   "source": [
    "# Optimize the model\n",
    "model.optimize()"
   ]
  },
  {
   "cell_type": "code",
   "execution_count": 5,
   "id": "7095c9bf-50b3-4859-998e-6dfed355f3bf",
   "metadata": {},
   "outputs": [
    {
     "name": "stdout",
     "output_type": "stream",
     "text": [
      "Optimal solution: x = 0.0, y = 4.0\n",
      "Optimal objective value: Z = 12.0\n"
     ]
    }
   ],
   "source": [
    "# Display results\n",
    "if model.status == GRB.OPTIMAL:\n",
    "    print(f\"Optimal solution: x = {x.x}, y = {y.x}\")\n",
    "    print(f\"Optimal objective value: Z = {model.objVal}\")\n",
    "else:\n",
    "    print(\"No optimal solution found.\")"
   ]
  },
  {
   "cell_type": "markdown",
   "id": "839377bd-6a9c-4130-8f18-c307b0077099",
   "metadata": {},
   "source": [
    "After running the above script, Gurobi will output the optimal values of $x$ and $y$, along with the optimal objective function value. "
   ]
  },
  {
   "cell_type": "markdown",
   "id": "504bd58a-2372-403b-bf8b-7eff4a0c6a83",
   "metadata": {},
   "source": [
    "### Conclusion\n",
    "Linear Programming is a mathematical optimization technique used to find the best outcome in a given system. Gurobi is a powerful solver that can efficiently handle optimization problems. This section serves as a foundation for more advanced optimization problems, including real-world applications such as grid optimization.\n"
   ]
  },
  {
   "cell_type": "markdown",
   "id": "7eb7ad52-7bc0-47be-afb1-906281f59791",
   "metadata": {},
   "source": [
    "## References\n",
    "\n",
    "[1] Gurobi Optimization, LLC, “Gurobi Optimizer Reference Manual,” 2024.\n",
    "\n",
    "[2] Gurobi Optimization, LLC, “GurobiPy: Python interface for the Gurobi Optimizer,” PyPI, [Online]. Available: https://pypi.org/project/gurobipy/\n",
    "\n",
    "[3] Winston, W. L. Operations Research: Applications and Algorithms. 4th ed., Duxbury Press, 2004.\n"
   ]
  },
  {
   "cell_type": "code",
   "execution_count": null,
   "id": "e0c43a00-012b-4f3a-a324-e09f8ad822e7",
   "metadata": {},
   "outputs": [],
   "source": []
  }
 ],
 "metadata": {
  "kernelspec": {
   "display_name": "Python 3 (ipykernel)",
   "language": "python",
   "name": "python3"
  },
  "language_info": {
   "codemirror_mode": {
    "name": "ipython",
    "version": 3
   },
   "file_extension": ".py",
   "mimetype": "text/x-python",
   "name": "python",
   "nbconvert_exporter": "python",
   "pygments_lexer": "ipython3",
   "version": "3.9.21"
  }
 },
 "nbformat": 4,
 "nbformat_minor": 5
}
