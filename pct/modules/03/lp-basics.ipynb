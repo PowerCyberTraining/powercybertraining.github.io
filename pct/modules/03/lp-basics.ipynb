{
 "cells": [
  {
   "cell_type": "markdown",
   "id": "cdb75e65-4cb5-4852-bee3-38f8e28cecf6",
   "metadata": {},
   "source": [
    "# Linear Programming basics\n",
    "Linear Programming (LP) is a mathematical technique used to optimize a linear objective function, subject to linear equality and inequality constraints. It is widely used in various fields.\n",
    "\n",
    "**Introduction to LP Optimization Models:**\n",
    "\n",
    "LP problems generally take the form [1]:\n",
    "\n",
    "**The objective function:**\n",
    "\n",
    "$$\\text{maximize or minimize } f(x) = b_1x_1 + b_2x_2 + ... + b_nx_n$$\n",
    "\n",
    "**Subject to Constraints:**\n",
    "\n",
    "$$\n",
    "Kx \\leq a\n",
    "$$\n",
    "\n",
    "where:\n",
    "- $f(x)$ is the objective function to be optimized,\n",
    "- $x_1, x_2, ..., x_n$ are decision variables,\n",
    "- $b_1, b_2, ..., b_n$ are coefficients in the objective function,\n",
    "- $K$ is a matrix of constraint coefficients,\n",
    "- $x$ is a vector of decision variables,\n",
    "- $a$ is a vector of constraint bounds.\n",
    "\n",
    "\n"
   ]
  },
  {
   "cell_type": "markdown",
   "id": "91b0e1ca-b699-48cf-8c62-9f1f12444fbc",
   "metadata": {},
   "source": [
    "### Using Gurobi for Linear Programming\n",
    "Gurobi [2] is a powerful optimization solver widely used for solving optimization problems. The Gurobipy [3] Python library provides a user-friendly interface to define and solve optimization models.  The Gurobipy package includes a trial license, which allows users to solve problems of limited size [3]. However, students and faculty affiliated with academic institutions are eligible for a free, full-featured license [3].\n"
   ]
  },
  {
   "cell_type": "markdown",
   "id": "27353968-a61d-4c9e-aaf3-92f3e439a5d1",
   "metadata": {},
   "source": [
    "### Installing Gurobi\n",
    "If you haven't installed Gurobipy yet, use:\n",
    "```bash\n",
    "pip install gurobipy\n",
    "```\n"
   ]
  },
  {
   "cell_type": "markdown",
   "id": "08d0bdce-96b0-4bdd-a922-d00a038c9385",
   "metadata": {},
   "source": [
    "### Implementing a Linear Programming with Gurobi\n",
    "#### Problem Definition:\n",
    "Consider a simple LP problem:\n",
    "### Linear Programming Problem\n",
    "\n",
    "**Maximize:**\n",
    "\n",
    "$$f = 2x + 3y$$\n",
    "\n",
    "**Subject to:**\n",
    "\n",
    "$$3x + 2y \\leq 11$$\n",
    "\n",
    "$$x + y \\leq 4$$\n",
    "\n",
    "$$x \\geq 0, \\quad y \\geq 0$$\n"
   ]
  },
  {
   "cell_type": "markdown",
   "id": "fb9478a6-3361-4ab2-b235-3bb41057e235",
   "metadata": {},
   "source": [
    "We will solve this problem using Gurobi in Python."
   ]
  },
  {
   "cell_type": "markdown",
   "id": "95b7144a-0d56-4ac9-bbd9-3b3f8ed691d5",
   "metadata": {},
   "source": [
    "First, you need to import the entire gurobipy library and import the GRB constants from gurobipy."
   ]
  },
  {
   "cell_type": "code",
   "execution_count": 24,
   "id": "6bfaec4d-eec7-4199-b5fd-5271c3be0f86",
   "metadata": {},
   "outputs": [],
   "source": [
    "import gurobipy as grb\n",
    "from gurobipy import GRB"
   ]
  },
  {
   "cell_type": "markdown",
   "id": "e7cdf2d4-338f-4934-84bc-dc4425346116",
   "metadata": {},
   "source": [
    "Then, you need to create a new optimization model instance, define the decision variables, and set up the objective function."
   ]
  },
  {
   "cell_type": "code",
   "execution_count": 25,
   "id": "3e37da3c-8fcd-493e-85e7-f4f5930382aa",
   "metadata": {},
   "outputs": [],
   "source": [
    "# Create a new optimization model\n",
    "model = grb.Model(\"LP\")\n",
    "# Define decision variables\n",
    "x = model.addVar(name=\"x\", vtype=GRB.CONTINUOUS, lb=0)\n",
    "y = model.addVar(name=\"y\", vtype=GRB.CONTINUOUS, lb=0)\n",
    "# Set objective function\n",
    "model.setObjective(2*x + 3*y, GRB.MAXIMIZE)"
   ]
  },
  {
   "cell_type": "markdown",
   "id": "4b331606-e3c4-446b-9ae7-58aa9b8d9b11",
   "metadata": {},
   "source": [
    "Next, you can define the constraints:"
   ]
  },
  {
   "cell_type": "code",
   "execution_count": 26,
   "id": "54b84228-4863-4a1e-8d57-458a8ca1643e",
   "metadata": {},
   "outputs": [
    {
     "data": {
      "text/plain": [
       "<gurobi.Constr *Awaiting Model Update*>"
      ]
     },
     "execution_count": 26,
     "metadata": {},
     "output_type": "execute_result"
    }
   ],
   "source": [
    "# Add constraints\n",
    "model.addConstr(3*x + 2*y <= 11, \"Constraint 1\")\n",
    "model.addConstr(x + y <= 4, \"Constraint 2\")"
   ]
  },
  {
   "cell_type": "markdown",
   "id": "90cb96a0-9c17-4ae5-8d4b-11c122f2b8ee",
   "metadata": {},
   "source": [
    "Now, you can invoke Gurobi to solve this optimization problem:"
   ]
  },
  {
   "cell_type": "code",
   "execution_count": 27,
   "id": "9e49059a-9501-494f-82db-bb368d3d4a4f",
   "metadata": {},
   "outputs": [
    {
     "name": "stdout",
     "output_type": "stream",
     "text": [
      "Gurobi Optimizer version 12.0.1 build v12.0.1rc0 (win64 - Windows 11.0 (26100.2))\n",
      "\n",
      "CPU model: 12th Gen Intel(R) Core(TM) i5-12500H, instruction set [SSE2|AVX|AVX2]\n",
      "Thread count: 12 physical cores, 16 logical processors, using up to 16 threads\n",
      "\n",
      "Optimize a model with 2 rows, 2 columns and 4 nonzeros\n",
      "Model fingerprint: 0x9496ece8\n",
      "Coefficient statistics:\n",
      "  Matrix range     [1e+00, 3e+00]\n",
      "  Objective range  [2e+00, 3e+00]\n",
      "  Bounds range     [0e+00, 0e+00]\n",
      "  RHS range        [4e+00, 1e+01]\n",
      "Presolve time: 0.00s\n",
      "Presolved: 2 rows, 2 columns, 4 nonzeros\n",
      "\n",
      "Iteration    Objective       Primal Inf.    Dual Inf.      Time\n",
      "       0    5.0000000e+30   3.250000e+30   5.000000e+00      0s\n",
      "       1    1.2000000e+01   0.000000e+00   0.000000e+00      0s\n",
      "\n",
      "Solved in 1 iterations and 0.01 seconds (0.00 work units)\n",
      "Optimal objective  1.200000000e+01\n"
     ]
    }
   ],
   "source": [
    "# Optimize the model\n",
    "model.optimize()"
   ]
  },
  {
   "cell_type": "code",
   "execution_count": 28,
   "id": "7095c9bf-50b3-4859-998e-6dfed355f3bf",
   "metadata": {},
   "outputs": [
    {
     "name": "stdout",
     "output_type": "stream",
     "text": [
      "Optimal solution: x = 0.0, y = 4.0\n",
      "Optimal objective value: Z = 12.0\n"
     ]
    }
   ],
   "source": [
    "# Display results\n",
    "if model.status == GRB.OPTIMAL:\n",
    "    print(f\"Optimal solution: x = {x.x}, y = {y.x}\")\n",
    "    print(f\"Optimal objective value: Z = {model.objVal}\")\n",
    "else:\n",
    "    print(\"No optimal solution found.\")"
   ]
  },
  {
   "cell_type": "markdown",
   "id": "839377bd-6a9c-4130-8f18-c307b0077099",
   "metadata": {},
   "source": [
    "After running the above script, Gurobi will output the optimal values of $x$ and $y$, along with the optimal objective function value. "
   ]
  },
  {
   "cell_type": "markdown",
   "id": "504bd58a-2372-403b-bf8b-7eff4a0c6a83",
   "metadata": {},
   "source": [
    "\n"
   ]
  },
  {
   "cell_type": "markdown",
   "id": "637d2b12-be40-4984-8c93-dcc8a0410b72",
   "metadata": {},
   "source": [
    "## Advancing from Linear Programming to Quadratic Programming\n",
    "Quadratic Programming (QP) is a mathematical technique used to optimize a quadratic objective function, subject to linear constraints. It is widely used in various fields.\n",
    "\n",
    "\n",
    "**Introduction to QP Optimization Models:**\n",
    "\n",
    "QP problems generally take the form[1]:\n",
    "\n",
    "**The objective function:**\n",
    "\n",
    "$$\\text{maximize or minimize } f(x) =  (1/2) x^T P x + b^T x$$\n",
    "\n",
    "**Subject to Constraints:**\n",
    "\n",
    "$$\n",
    "Kx \\leq a\n",
    "$$\n",
    "\n",
    "where:\n",
    "- $f(x)$ is the objective function to be optimized,\n",
    "- $x$ is the vector of decision variables,\n",
    "- $P$ is a symmetric positive definite or semi-definite matrix,\n",
    "- $b$ is a linear coefficient vector,\n",
    "- $K$ is a matrix of linear constraint coefficients,\n",
    "- $a$ is a vector of linear constraint bounds.\n",
    "\n",
    "\n"
   ]
  },
  {
   "cell_type": "markdown",
   "id": "10ccb113-a2b9-454d-983e-7ae9f07c8c7c",
   "metadata": {},
   "source": [
    "### Implementing a Quadratic Programming with Gurobi\n",
    "#### Problem Definition:\n",
    "Consider a simple QP problem:\n",
    "### Quadratic Programming Problem\n",
    "\n",
    "**Minimize:**\n",
    "\n",
    "$$f = x_1^2 + x_2^2 + x_1x_2 + 5x_1 + 6x_2$$\n",
    "\n",
    "**Subject to:**\n",
    "\n",
    "$$3x_1 + 2x_2 \\geq 7$$\n",
    "\n",
    "$$x_1 \\geq 0, \\quad x_2 \\geq 0$$\n"
   ]
  },
  {
   "cell_type": "markdown",
   "id": "05090eab-5d8d-4609-8c5c-bec7da77c043",
   "metadata": {},
   "source": [
    "We will solve this problem using Gurobi in Python."
   ]
  },
  {
   "cell_type": "markdown",
   "id": "9daab92e-e5dd-49c3-9a66-8efb57394211",
   "metadata": {},
   "source": [
    "First, you need to import the entire gurobipy library and import the GRB constants from gurobipy."
   ]
  },
  {
   "cell_type": "code",
   "execution_count": 29,
   "id": "a0c654d1-62ba-48b5-88d4-3de991ee1fd0",
   "metadata": {},
   "outputs": [],
   "source": [
    "import gurobipy as grb\n",
    "from gurobipy import GRB\n",
    "import numpy as np"
   ]
  },
  {
   "cell_type": "markdown",
   "id": "bfa9a593-d746-44aa-a151-0c0512c0e471",
   "metadata": {},
   "source": [
    "Then, you need to create a new optimization model instance, define the decision variables, and set up the objective function."
   ]
  },
  {
   "cell_type": "code",
   "execution_count": 30,
   "id": "f76342ce-8686-4aaf-b941-610491635f47",
   "metadata": {},
   "outputs": [],
   "source": [
    "# Create a new optimization model\n",
    "model = grb.Model(\"QP\")\n",
    "\n",
    "# Define decision variables\n",
    "x = model.addVars(2, name=\"x\", vtype=GRB.CONTINUOUS)\n",
    "\n",
    "#Define the matrices \n",
    "# f(x) =  (1/2) x^T P x + b^T x\n",
    "# s.t.  Kx <= a\n",
    "\n",
    "P = np.array([\n",
    "    [2.0, 1.0],  \n",
    "    [1.0, 2.0]\n",
    "])\n",
    "\n",
    "b = np.array([5, 6])\n",
    "\n",
    "K = np.array([\n",
    "    [-3, -2],\n",
    "    [-1, 0],\n",
    "    [0, -1]\n",
    "])\n",
    "\n",
    "a = np.array([-7, 0, 0])\n",
    "\n",
    "# Set objective function\n",
    "quad_term = 0.5 * sum(P[i, j] * x[i] * x[j] for i in range(2) for j in range(2))\n",
    "linear_term = sum(b[i] * x[i] for i in range(2))\n",
    "model.setObjective(quad_term + linear_term, GRB.MINIMIZE)\n"
   ]
  },
  {
   "cell_type": "markdown",
   "id": "28c1b15d-ebd5-4632-b6af-071a2811e5b2",
   "metadata": {},
   "source": [
    "Next, you can define the constraints:"
   ]
  },
  {
   "cell_type": "code",
   "execution_count": 31,
   "id": "96d9d872-96d8-4dd6-b13d-e5b5044d80a0",
   "metadata": {},
   "outputs": [],
   "source": [
    "# Add constraints\n",
    "for i in range(K.shape[0]):\n",
    "    constr_expr = sum(K[i, j] * x[j] for j in range(K.shape[1]))\n",
    "    model.addConstr(constr_expr <= a[i], name=f\"constr_{i}\")"
   ]
  },
  {
   "cell_type": "code",
   "execution_count": 32,
   "id": "364785b3-1549-4409-9a91-1ddfc1da8436",
   "metadata": {},
   "outputs": [
    {
     "name": "stdout",
     "output_type": "stream",
     "text": [
      "Gurobi Optimizer version 12.0.1 build v12.0.1rc0 (win64 - Windows 11.0 (26100.2))\n",
      "\n",
      "CPU model: 12th Gen Intel(R) Core(TM) i5-12500H, instruction set [SSE2|AVX|AVX2]\n",
      "Thread count: 12 physical cores, 16 logical processors, using up to 16 threads\n",
      "\n",
      "Optimize a model with 3 rows, 2 columns and 4 nonzeros\n",
      "Model fingerprint: 0xd6aeb442\n",
      "Model has 3 quadratic objective terms\n",
      "Coefficient statistics:\n",
      "  Matrix range     [1e+00, 3e+00]\n",
      "  Objective range  [5e+00, 6e+00]\n",
      "  QObjective range [2e+00, 2e+00]\n",
      "  Bounds range     [0e+00, 0e+00]\n",
      "  RHS range        [7e+00, 7e+00]\n",
      "Presolve removed 2 rows and 0 columns\n",
      "Presolve time: 0.00s\n",
      "Presolved: 1 rows, 2 columns, 2 nonzeros\n",
      "Presolved model has 3 quadratic objective terms\n",
      "Ordering time: 0.00s\n",
      "\n",
      "Barrier statistics:\n",
      " Free vars  : 1\n",
      " AA' NZ     : 1.000e+00\n",
      " Factor NZ  : 3.000e+00\n",
      " Factor Ops : 5.000e+00 (less than 1 second per iteration)\n",
      " Threads    : 1\n",
      "\n",
      "                  Objective                Residual\n",
      "Iter       Primal          Dual         Primal    Dual     Compl     Time\n",
      "   0   1.95538643e+05 -1.87538464e+05  1.25e+03 3.33e-07  1.00e+06     0s\n",
      "   1   2.15834703e+05 -2.12168983e+05  1.25e-03 3.41e-13  1.43e+05     0s\n",
      "   2   3.20528993e+04 -3.06511518e+04  1.25e-09 0.00e+00  2.09e+04     0s\n",
      "   3   4.85951685e+03 -4.32407324e+03  3.55e-14 0.00e+00  3.06e+03     0s\n",
      "   4   7.73267762e+02 -5.68931505e+02  0.00e+00 0.00e+00  4.47e+02     0s\n",
      "   5   1.36008637e+02 -5.71205658e+01  5.33e-15 1.78e-15  6.44e+01     0s\n",
      "   6   2.96284769e+01  5.45814295e+00  2.66e-15 8.88e-16  8.06e+00     0s\n",
      "   7   1.83734599e+01  1.69280462e+01  4.44e-16 8.88e-16  4.82e-01     0s\n",
      "   8   1.71960816e+01  1.71041249e+01  4.44e-16 1.03e-15  3.07e-02     0s\n",
      "   9   1.71112671e+01  1.71111052e+01  0.00e+00 1.63e-16  5.40e-05     0s\n",
      "  10   1.71111113e+01  1.71111111e+01  2.22e-15 2.17e-16  5.40e-08     0s\n",
      "  11   1.71111111e+01  1.71111111e+01  4.44e-16 0.00e+00  5.41e-11     0s\n",
      "\n",
      "Barrier solved model in 11 iterations and 0.01 seconds (0.00 work units)\n",
      "Optimal objective 1.71111111e+01\n",
      "\n"
     ]
    }
   ],
   "source": [
    "# Optimize\n",
    "model.optimize()"
   ]
  },
  {
   "cell_type": "code",
   "execution_count": 33,
   "id": "3258d5c9-051b-4c90-9998-15928dfee055",
   "metadata": {},
   "outputs": [
    {
     "name": "stdout",
     "output_type": "stream",
     "text": [
      "\n",
      "Optimal solution:\n",
      "x[1] = 2.3333333332803954\n",
      "x[2] = 8.017138163970368e-11\n",
      "Objective value = 17.111111111267476\n"
     ]
    }
   ],
   "source": [
    "# Display results\n",
    "if model.status == GRB.OPTIMAL:\n",
    "    print(\"\\nOptimal solution:\")\n",
    "    for i in range(2):\n",
    "        print(f\"x[{i+1}] = {x[i].X}\")\n",
    "    print(f\"Objective value = {model.ObjVal}\")\n",
    "else:\n",
    "    print(\"No optimal solution found.\")"
   ]
  },
  {
   "cell_type": "markdown",
   "id": "57c53d57-bee5-46aa-b800-46c51be3d62d",
   "metadata": {},
   "source": [
    "After running the above script, Gurobi will output the optimal values of $x_1$ and $x_2$, along with the optimal objective function value. "
   ]
  },
  {
   "cell_type": "markdown",
   "id": "ed7da911-d794-408e-b6dc-7e6f8dabe00e",
   "metadata": {},
   "source": [
    "### Conclusion\n",
    "Linear Programming is a mathematical optimization technique used to find the best outcome in a given system. This section demonstrates how to solve a basic linear programming problem using Gurobi. It also introduces quadratic programming and how to solve it with Gurobi. This section serves as a foundation for more advanced optimization problems, including real-world applications such as grid optimization."
   ]
  },
  {
   "cell_type": "markdown",
   "id": "fe53c12f-ad88-4ef2-aef6-cd3878db91ee",
   "metadata": {},
   "source": [
    "## References\n",
    "[1] Winston, W. L. Operations Research: Applications and Algorithms. 4th ed., Duxbury Press, 2004.\n",
    "\n",
    "[2] Gurobi Optimization, LLC, “Gurobi Optimizer Reference Manual,” 2024.\n",
    "\n",
    "[3] Gurobi Optimization, LLC, “GurobiPy: Python interface for the Gurobi Optimizer,” PyPI, [Online]. Available: https://pypi.org/project/gurobipy/"
   ]
  },
  {
   "cell_type": "code",
   "execution_count": null,
   "id": "ef840cc1-b01a-45ab-84ad-12ed486e3a22",
   "metadata": {},
   "outputs": [],
   "source": []
  }
 ],
 "metadata": {
  "kernelspec": {
   "display_name": "Python 3 (ipykernel)",
   "language": "python",
   "name": "python3"
  },
  "language_info": {
   "codemirror_mode": {
    "name": "ipython",
    "version": 3
   },
   "file_extension": ".py",
   "mimetype": "text/x-python",
   "name": "python",
   "nbconvert_exporter": "python",
   "pygments_lexer": "ipython3",
   "version": "3.9.21"
  }
 },
 "nbformat": 4,
 "nbformat_minor": 5
}
