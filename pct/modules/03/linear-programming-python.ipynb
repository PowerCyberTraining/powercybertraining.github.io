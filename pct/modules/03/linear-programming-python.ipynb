{
 "cells": [
  {
   "cell_type": "markdown",
   "metadata": {},
   "source": [
    "# Linear Programming with Python\n",
    "\n",
    "## Overview\n",
    "\n",
    "Linear programming (LP) is the workhorse of power system optimization. From economic dispatch to transmission planning, many critical decisions can be formulated as linear programs and solved efficiently even at massive scale. This lesson provides hands-on experience implementing and solving LP problems using Python.\n",
    "\n",
    "We'll explore multiple Python libraries for optimization, understand their strengths and trade-offs, and develop skills for debugging optimization models. By the end, you'll be able to confidently translate power system problems into code and extract meaningful insights from the solutions.\n",
    "\n",
    "## Learning Objectives\n",
    "\n",
    "By completing this lesson, you will be able to:\n",
    "\n",
    "1. Implement linear programs using multiple Python libraries\n",
    "2. Choose appropriate tools for different problem types and scales\n",
    "3. Debug common issues: infeasibility, unboundedness, numerical problems\n",
    "4. Extract and interpret both primal and dual solutions\n",
    "5. Build reusable optimization models for power system applications\n",
    "6. Understand solver behavior and performance considerations"
   ]
  },
  {
   "cell_type": "code",
   "execution_count": 1,
   "metadata": {},
   "outputs": [
    {
     "name": "stdout",
     "output_type": "stream",
     "text": [
      "Collecting pulp\n",
      "  Downloading pulp-3.2.2-py3-none-any.whl.metadata (6.9 kB)\n",
      "Downloading pulp-3.2.2-py3-none-any.whl (16.4 MB)\n",
      "\u001b[2K   \u001b[38;2;114;156;31m━━━━━━━━━━━━━━━━━━━━━━━━━━━━━━━━━━━━━━━━\u001b[0m \u001b[32m16.4/16.4 MB\u001b[0m \u001b[31m3.5 MB/s\u001b[0m eta \u001b[36m0:00:00\u001b[0m[36m0:00:01\u001b[0m[36m0:00:01\u001b[0m:03\u001b[0m\n",
      "\u001b[?25hInstalling collected packages: pulp\n",
      "Successfully installed pulp-3.2.2\n",
      "Libraries loaded successfully\n",
      "PuLP version: 3.0.2\n",
      "SciPy version: 2.3.1\n"
     ]
    }
   ],
   "source": [
    "# Import required libraries\n",
    "import numpy as np\n",
    "import pandas as pd\n",
    "import matplotlib.pyplot as plt\n",
    "from scipy.optimize import linprog\n",
    "import warnings\n",
    "warnings.filterwarnings('ignore')\n",
    "\n",
    "# We'll install PuLP if not available\n",
    "try:\n",
    "    import pulp\n",
    "except ImportError:\n",
    "    import subprocess\n",
    "    import sys\n",
    "    subprocess.check_call([sys.executable, \"-m\", \"pip\", \"install\", \"pulp\"])\n",
    "    import pulp\n",
    "\n",
    "print(\"Libraries loaded successfully\")\n",
    "print(f\"PuLP version: {pulp.__version__}\")\n",
    "print(f\"SciPy version: {np.__version__}\")"
   ]
  },
  {
   "cell_type": "markdown",
   "metadata": {},
   "source": [
    "## 1. Linear Programming Review\n",
    "\n",
    "### Standard Form\n",
    "\n",
    "Linear programs have the general form:\n",
    "\n",
    "**Minimize:** $c^T x$\n",
    "\n",
    "**Subject to:**\n",
    "- $A_{eq} x = b_{eq}$ (equality constraints)\n",
    "- $A_{ub} x \\leq b_{ub}$ (inequality constraints)  \n",
    "- $l \\leq x \\leq u$ (variable bounds)\n",
    "\n",
    "Where:\n",
    "- $x$ is the vector of decision variables\n",
    "- $c$ is the cost coefficient vector\n",
    "- $A$ and $b$ define the constraints\n",
    "\n",
    "### Power System Context\n",
    "\n",
    "Many power system problems are naturally linear:\n",
    "- **Economic dispatch** with linear costs\n",
    "- **DC optimal power flow** (linearized power flow)\n",
    "- **Transmission planning** with fixed costs per line\n",
    "- **Market clearing** with supply and demand bids\n",
    "\n",
    "Let's start with our familiar economic dispatch problem."
   ]
  },
  {
   "cell_type": "code",
   "execution_count": 3,
   "metadata": {},
   "outputs": [],
   "source": [
    "# Economic Dispatch Example\n",
    "# 3 generators must meet 400 MW demand\n",
    "\n",
    "# Generator data\n",
    "gen_data = pd.DataFrame({\n",
    "    'Generator': ['G1', 'G2', 'G3'],\n",
    "    'Pmin (MW)': [50, 40, 60],\n",
    "    'Pmax (MW)': [200, 150, 180],\n",
    "    'Cost ($/MWh)': [25, 30, 28]\n",
    "})\n",
    "\n",
    "demand = 400  # MW"
   ]
  },
  {
   "cell_type": "code",
   "execution_count": 4,
   "metadata": {
    "editable": true,
    "slideshow": {
     "slide_type": ""
    },
    "tags": [
     "remove-input"
    ]
   },
   "outputs": [
    {
     "name": "stdout",
     "output_type": "stream",
     "text": [
      "Economic Dispatch Problem:\n",
      "  Generator  Pmin (MW)  Pmax (MW)  Cost ($/MWh)\n",
      "0        G1         50        200            25\n",
      "1        G2         40        150            30\n",
      "2        G3         60        180            28\n",
      "\n",
      "System demand: 400 MW\n",
      "\n",
      "Mathematical formulation:\n",
      "Minimize: 25*P1 + 30*P2 + 28*P3\n",
      "Subject to:\n",
      "  P1 + P2 + P3 = 400\n",
      "  50 ≤ P1 ≤ 200\n",
      "  40 ≤ P2 ≤ 150\n",
      "  60 ≤ P3 ≤ 180\n"
     ]
    }
   ],
   "source": [
    "print(\"Economic Dispatch Problem:\")\n",
    "print(gen_data)\n",
    "print(f\"\\nSystem demand: {demand} MW\")\n",
    "print(\"\\nMathematical formulation:\")\n",
    "print(\"Minimize: 25*P1 + 30*P2 + 28*P3\")\n",
    "print(\"Subject to:\")\n",
    "print(\"  P1 + P2 + P3 = 400\")\n",
    "print(\"  50 ≤ P1 ≤ 200\")\n",
    "print(\"  40 ≤ P2 ≤ 150\")\n",
    "print(\"  60 ≤ P3 ≤ 180\")"
   ]
  },
  {
   "cell_type": "markdown",
   "metadata": {
    "editable": true,
    "slideshow": {
     "slide_type": ""
    },
    "tags": []
   },
   "source": [
    "## 2. Introduction to Python LP Solvers\n",
    "\n",
    "Python offers several libraries for solving linear programs. Each has strengths and use cases:\n",
    "\n",
    "### SciPy's [linprog](https://docs.scipy.org/doc/scipy/reference/generated/scipy.optimize.linprog.html)\n",
    "- **Pros**: Built into SciPy, no extra installation, good for learning\n",
    "- **Cons**: Limited features, requires matrix form, basic solver\n",
    "- **Use for**: Simple problems, teaching, when dependencies are limited\n",
    "\n",
    "### [PuLP](https://coin-or.github.io/pulp/)\n",
    "- **Pros**: Pythonic syntax, multiple solver backends, widely used\n",
    "- **Cons**: Slower model building for huge problems\n",
    "- **Use for**: Most power system optimization problems\n",
    "\n",
    "### [Pyomo](http://www.pyomo.org/)\n",
    "- **Pros**: Very powerful, supports nonlinear, great for research\n",
    "- **Cons**: Steeper learning curve, more complex syntax\n",
    "- **Use for**: Complex models, multi-stage problems, when you need advanced features\n",
    "\n",
    "### [CVXPY](https://www.cvxpy.org/)\n",
    "- **Pros**: Elegant mathematical syntax, automatic problem classification\n",
    "- **Cons**: Focused on convex optimization, may be overkill for simple LPs\n",
    "- **Use for**: When transitioning between linear and nonlinear convex problems\n",
    "\n",
    "Let's solve our economic dispatch problem using SciPy first."
   ]
  },
  {
   "cell_type": "code",
   "execution_count": 6,
   "metadata": {
    "editable": true,
    "slideshow": {
     "slide_type": ""
    },
    "tags": []
   },
   "outputs": [],
   "source": [
    "# Solving with SciPy's linprog\n",
    "# Convert to standard form: minimize c^T x subject to A_eq x = b_eq, bounds\n",
    "\n",
    "# Objective coefficients\n",
    "c = np.array([25, 30, 28])  # Cost coefficients\n",
    "\n",
    "# Equality constraint: P1 + P2 + P3 = 400\n",
    "A_eq = np.array([[1, 1, 1]])\n",
    "b_eq = np.array([400])\n",
    "\n",
    "# Bounds for each generator\n",
    "bounds = [(50, 200),   # G1\n",
    "          (40, 150),   # G2  \n",
    "          (60, 180)]   # G3\n",
    "\n",
    "# Solve\n",
    "result = linprog(c, A_eq=A_eq, b_eq=b_eq, bounds=bounds, method='highs')"
   ]
  },
  {
   "cell_type": "code",
   "execution_count": 7,
   "metadata": {
    "editable": true,
    "slideshow": {
     "slide_type": ""
    },
    "tags": []
   },
   "outputs": [
    {
     "name": "stdout",
     "output_type": "stream",
     "text": [
      "SciPy Solution:\n",
      "Status: Optimization terminated successfully. (HiGHS Status 7: Optimal)\n",
      "Success: True\n",
      "\n",
      "Optimal generation:\n",
      "  G1: 200.0 MW\n",
      "  G2: 40.0 MW\n",
      "  G3: 160.0 MW\n",
      "\n",
      "Total cost: $10680.00/hour\n",
      "\n",
      "Verification:\n",
      "Total generation: 400.0 MW (should be 400)\n",
      "All generators within limits: True\n"
     ]
    }
   ],
   "source": [
    "# Display results\n",
    "print(\"SciPy Solution:\")\n",
    "print(f\"Status: {result.message}\")\n",
    "print(f\"Success: {result.success}\")\n",
    "print(f\"\\nOptimal generation:\")\n",
    "for i, gen in enumerate(gen_data['Generator']):\n",
    "    print(f\"  {gen}: {result.x[i]:.1f} MW\")\n",
    "print(f\"\\nTotal cost: ${result.fun:.2f}/hour\")\n",
    "\n",
    "# Verify constraints\n",
    "total_gen = sum(result.x)\n",
    "print(f\"\\nVerification:\")\n",
    "print(f\"Total generation: {total_gen:.1f} MW (should be {demand})\")\n",
    "print(f\"All generators within limits: {all(bounds[i][0] <= result.x[i] <= bounds[i][1] for i in range(3))}\")"
   ]
  },
  {
   "cell_type": "markdown",
   "metadata": {
    "editable": true,
    "slideshow": {
     "slide_type": ""
    },
    "tags": []
   },
   "source": [
    "### Understanding the Solution\n",
    "\n",
    "Notice that the cheapest generator (G1 at $25/MWh) is at its maximum output (200 MW). This is the expected economic behavior - use cheaper resources first. The remaining demand is split between G2 and G3 based on their costs."
   ]
  },
  {
   "cell_type": "markdown",
   "metadata": {
    "editable": true,
    "slideshow": {
     "slide_type": ""
    },
    "tags": []
   },
   "source": [
    "## 3. Building LP Models with PuLP\n",
    "\n",
    "PuLP provides a more intuitive interface for building optimization models. Instead of matrices, you work with named variables and constraints, making the code more readable and maintainable. This leverages the \"modeling\" layer of the optimization tool (i.e., pulp in this case), because the tool automatically translates the human-friendly optimization models into standard formulations."
   ]
  },
  {
   "cell_type": "code",
   "execution_count": 11,
   "metadata": {
    "editable": true,
    "slideshow": {
     "slide_type": ""
    },
    "tags": []
   },
   "outputs": [
    {
     "name": "stdout",
     "output_type": "stream",
     "text": [
      "Welcome to the CBC MILP Solver \n",
      "Version: 2.10.3 \n",
      "Build Date: Dec 15 2019 \n",
      "\n",
      "command line - /home/hacui/mambaforge/envs/pct/lib/python3.11/site-packages/pulp/apis/../solverdir/cbc/linux/i64/cbc /tmp/5bf93631872b4db1a19923cc0e27d6a7-pulp.mps -timeMode elapsed -branch -printingOptions all -solution /tmp/5bf93631872b4db1a19923cc0e27d6a7-pulp.sol (default strategy 1)\n",
      "At line 2 NAME          MODEL\n",
      "At line 3 ROWS\n",
      "At line 6 COLUMNS\n",
      "At line 13 RHS\n",
      "At line 15 BOUNDS\n",
      "At line 22 ENDATA\n",
      "Problem MODEL has 1 rows, 3 columns and 3 elements\n",
      "Coin0008I MODEL read with 0 errors\n",
      "Option for timeMode changed from cpu to elapsed\n",
      "Presolve 1 (0) rows, 3 (0) columns and 3 (0) elements\n",
      "0  Obj 4130 Primal inf 250 (1)\n",
      "1  Obj 10680\n",
      "Optimal - objective value 10680\n",
      "Optimal objective 10680 - 1 iterations time 0.002\n",
      "Option for printingOptions changed from normal to all\n",
      "Total time (CPU seconds):       0.00   (Wallclock seconds):       0.01\n",
      "\n"
     ]
    },
    {
     "data": {
      "text/plain": [
       "1"
      ]
     },
     "execution_count": 11,
     "metadata": {},
     "output_type": "execute_result"
    }
   ],
   "source": [
    "# Economic dispatch with PuLP\n",
    "# Create the problem\n",
    "prob = pulp.LpProblem(\"Economic_Dispatch\", pulp.LpMinimize)\n",
    "\n",
    "# Decision variables\n",
    "# Create generator variables with bounds\n",
    "P1 = pulp.LpVariable(\"P1\", lowBound=50, upBound=200)\n",
    "P2 = pulp.LpVariable(\"P2\", lowBound=40, upBound=150)\n",
    "P3 = pulp.LpVariable(\"P3\", lowBound=60, upBound=180)\n",
    "\n",
    "# Objective function\n",
    "prob += 25*P1 + 30*P2 + 28*P3, \"Total_Cost\"\n",
    "\n",
    "# Constraints\n",
    "prob += P1 + P2 + P3 == 400, \"Power_Balance\"\n",
    "\n",
    "# Solve the problem\n",
    "prob.solve()"
   ]
  },
  {
   "cell_type": "code",
   "execution_count": 12,
   "metadata": {
    "editable": true,
    "slideshow": {
     "slide_type": ""
    },
    "tags": []
   },
   "outputs": [
    {
     "name": "stdout",
     "output_type": "stream",
     "text": [
      "PuLP Solution:\n",
      "Status: Optimal\n",
      "\n",
      "Optimal generation:\n",
      "  G1: 200.0 MW\n",
      "  G2: 40.0 MW\n",
      "  G3: 160.0 MW\n",
      "\n",
      "Total cost: $10680.00/hour\n",
      "\n",
      "Shadow price of power balance: $28.00/MW\n",
      "(This is the marginal cost of the system)\n"
     ]
    }
   ],
   "source": [
    "# Display results\n",
    "print(\"PuLP Solution:\")\n",
    "print(f\"Status: {pulp.LpStatus[prob.status]}\")\n",
    "print(f\"\\nOptimal generation:\")\n",
    "print(f\"  G1: {P1.varValue:.1f} MW\")\n",
    "print(f\"  G2: {P2.varValue:.1f} MW\")\n",
    "print(f\"  G3: {P3.varValue:.1f} MW\")\n",
    "print(f\"\\nTotal cost: ${pulp.value(prob.objective):.2f}/hour\")\n",
    "\n",
    "# Show the constraint dual value (shadow price)\n",
    "print(f\"\\nShadow price of power balance: ${prob.constraints['Power_Balance'].pi:.2f}/MW\")\n",
    "print(\"(This is the marginal cost of the system)\")"
   ]
  },
  {
   "cell_type": "markdown",
   "metadata": {
    "editable": true,
    "slideshow": {
     "slide_type": ""
    },
    "tags": []
   },
   "source": [
    "### Building More Complex Models\n",
    "\n",
    "Let's solve a multi-period economic dispatch with ramping constraints. This demonstrates PuLP's strength in handling indexed variables and multiple constraints."
   ]
  },
  {
   "cell_type": "code",
   "execution_count": 14,
   "metadata": {
    "editable": true,
    "slideshow": {
     "slide_type": ""
    },
    "tags": []
   },
   "outputs": [
    {
     "name": "stdout",
     "output_type": "stream",
     "text": [
      "Welcome to the CBC MILP Solver \n",
      "Version: 2.10.3 \n",
      "Build Date: Dec 15 2019 \n",
      "\n",
      "command line - /home/hacui/mambaforge/envs/pct/lib/python3.11/site-packages/pulp/apis/../solverdir/cbc/linux/i64/cbc /tmp/62c4910587034adcb4468c3fb9fe8e99-pulp.mps -timeMode elapsed -branch -printingOptions all -solution /tmp/62c4910587034adcb4468c3fb9fe8e99-pulp.sol (default strategy 1)\n",
      "At line 2 NAME          MODEL\n",
      "At line 3 ROWS\n",
      "At line 27 COLUMNS\n",
      "At line 88 RHS\n",
      "At line 111 BOUNDS\n",
      "At line 136 ENDATA\n",
      "Problem MODEL has 22 rows, 12 columns and 48 elements\n",
      "Coin0008I MODEL read with 0 errors\n",
      "Option for timeMode changed from cpu to elapsed\n",
      "Presolve 22 (0) rows, 12 (0) columns and 48 (0) elements\n",
      "Perturbing problem by 0.001% of 30 - largest nonzero change 0.00027036897 ( 0.00098339306%) - largest zero change 0\n",
      "0  Obj 16520.095 Primal inf 490 (4)\n",
      "4  Obj 28770.17\n",
      "Optimal - objective value 28770\n",
      "Optimal objective 28770 - 4 iterations time 0.002\n",
      "Option for printingOptions changed from normal to all\n",
      "Total time (CPU seconds):       0.00   (Wallclock seconds):       0.00\n",
      "\n"
     ]
    },
    {
     "data": {
      "text/plain": [
       "1"
      ]
     },
     "execution_count": 14,
     "metadata": {},
     "output_type": "execute_result"
    }
   ],
   "source": [
    "# Multi-period economic dispatch with ramping constraints\n",
    "# 4 time periods, 3 generators\n",
    "\n",
    "# Problem data\n",
    "periods = range(4)\n",
    "generators = range(3)\n",
    "\n",
    "# Extended generator data\n",
    "costs = [25, 30, 28]        # $/MWh\n",
    "p_min = [50, 40, 60]        # MW\n",
    "p_max = [200, 150, 180]     # MW\n",
    "ramp_limit = [50, 40, 60]   # MW/period\n",
    "\n",
    "# Time-varying demand\n",
    "demand = [250, 300, 280, 260]  # MW\n",
    "\n",
    "# Create problem\n",
    "prob = pulp.LpProblem(\"Multi_Period_Dispatch\", pulp.LpMinimize)\n",
    "\n",
    "# Decision variables - use dictionaries for indexed variables\n",
    "p = {}\n",
    "for g in generators:\n",
    "    for t in periods:\n",
    "        p[g,t] = pulp.LpVariable(f\"P_g{g}_t{t}\", p_min[g], p_max[g])\n",
    "\n",
    "# Objective function - total cost over all periods\n",
    "prob += pulp.lpSum(costs[g] * p[g,t] for g in generators for t in periods)\n",
    "\n",
    "# Constraints\n",
    "# Power balance for each period\n",
    "for t in periods:\n",
    "    prob += pulp.lpSum(p[g,t] for g in generators) == demand[t], f\"Balance_t{t}\"\n",
    "\n",
    "# Ramping constraints\n",
    "for g in generators:\n",
    "    for t in periods[1:]:  # Starting from period 1\n",
    "        # Ramp up limit\n",
    "        prob += p[g,t] - p[g,t-1] <= ramp_limit[g], f\"RampUp_g{g}_t{t}\"\n",
    "        # Ramp down limit  \n",
    "        prob += p[g,t-1] - p[g,t] <= ramp_limit[g], f\"RampDown_g{g}_t{t}\"\n",
    "\n",
    "# Solve\n",
    "prob.solve()"
   ]
  },
  {
   "cell_type": "code",
   "execution_count": 15,
   "metadata": {
    "editable": true,
    "slideshow": {
     "slide_type": ""
    },
    "tags": []
   },
   "outputs": [
    {
     "name": "stdout",
     "output_type": "stream",
     "text": [
      "Multi-Period Dispatch Solution\n",
      "Status: Optimal\n",
      "Total cost: $28770.00\n",
      "\n",
      "Dispatch Schedule:\n",
      "Period\tDemand\tG1\tG2\tG3\tTotal\n",
      "--------------------------------------------------\n",
      "0\t250\t150\t40\t60\t250\n",
      "1\t300\t200\t40\t60\t300\n",
      "2\t280\t180\t40\t60\t280\n",
      "3\t260\t160\t40\t60\t260\n",
      "\n",
      "Ramp rates (MW/period):\n",
      "Period\tG1\tG2\tG3\n",
      "------------------------------\n",
      "0→1\t+50\t+0\t+0\n",
      "1→2\t-20\t+0\t+0\n",
      "2→3\t-20\t+0\t+0\n"
     ]
    }
   ],
   "source": [
    "# Display results in a nice table\n",
    "print(f\"Multi-Period Dispatch Solution\")\n",
    "print(f\"Status: {pulp.LpStatus[prob.status]}\")\n",
    "print(f\"Total cost: ${pulp.value(prob.objective):.2f}\")\n",
    "print(\"\\nDispatch Schedule:\")\n",
    "print(\"Period\\tDemand\\tG1\\tG2\\tG3\\tTotal\")\n",
    "print(\"-\" * 50)\n",
    "\n",
    "for t in periods:\n",
    "    gen_outputs = [p[g,t].varValue for g in generators]\n",
    "    total = sum(gen_outputs)\n",
    "    print(f\"{t}\\t{demand[t]}\\t{gen_outputs[0]:.0f}\\t{gen_outputs[1]:.0f}\\t{gen_outputs[2]:.0f}\\t{total:.0f}\")\n",
    "\n",
    "# Check ramping\n",
    "print(\"\\nRamp rates (MW/period):\")\n",
    "print(\"Period\\tG1\\tG2\\tG3\")\n",
    "print(\"-\" * 30)\n",
    "for t in periods[1:]:\n",
    "    ramps = [p[g,t].varValue - p[g,t-1].varValue for g in generators]\n",
    "    print(f\"{t-1}→{t}\\t{ramps[0]:+.0f}\\t{ramps[1]:+.0f}\\t{ramps[2]:+.0f}\")"
   ]
  },
  {
   "cell_type": "markdown",
   "metadata": {
    "editable": true,
    "slideshow": {
     "slide_type": ""
    },
    "tags": []
   },
   "source": [
    "```{admonition} Exercise 1: Add Reserve Requirements\n",
    ":class: tip\n",
    "\n",
    "Modify the multi-period dispatch to include spinning reserve requirements:\n",
    "- Each period needs 10% of demand as spinning reserve\n",
    "- Spinning reserve = available headroom on running generators\n",
    "- Add the constraints and resolve\n",
    "\n",
    "How does this change the dispatch and total cost?\n",
    "```"
   ]
  },
  {
   "cell_type": "code",
   "execution_count": 16,
   "metadata": {
    "editable": true,
    "slideshow": {
     "slide_type": ""
    },
    "tags": []
   },
   "outputs": [],
   "source": [
    "# Exercise 1: Your solution here\n",
    "# Add reserve requirements to the multi-period dispatch\n",
    "\n",
    "# Your solution:"
   ]
  },
  {
   "cell_type": "code",
   "execution_count": 17,
   "metadata": {
    "editable": true,
    "slideshow": {
     "slide_type": ""
    },
    "tags": [
     "hide-cell"
    ]
   },
   "outputs": [
    {
     "name": "stdout",
     "output_type": "stream",
     "text": [
      "Welcome to the CBC MILP Solver \n",
      "Version: 2.10.3 \n",
      "Build Date: Dec 15 2019 \n",
      "\n",
      "command line - /home/hacui/mambaforge/envs/pct/lib/python3.11/site-packages/pulp/apis/../solverdir/cbc/linux/i64/cbc /tmp/3aa4228dc01c4dc0ab2e900be6881ced-pulp.mps -timeMode elapsed -branch -printingOptions all -solution /tmp/3aa4228dc01c4dc0ab2e900be6881ced-pulp.sol (default strategy 1)\n",
      "At line 2 NAME          MODEL\n",
      "At line 3 ROWS\n",
      "At line 31 COLUMNS\n",
      "At line 104 RHS\n",
      "At line 131 BOUNDS\n",
      "At line 156 ENDATA\n",
      "Problem MODEL has 26 rows, 12 columns and 60 elements\n",
      "Coin0008I MODEL read with 0 errors\n",
      "Option for timeMode changed from cpu to elapsed\n",
      "Presolve 22 (-4) rows, 12 (0) columns and 48 (-12) elements\n",
      "Perturbing problem by 0.001% of 30 - largest nonzero change 0.00037804633 ( 0.0013501655%) - largest zero change 0\n",
      "0  Obj 16520.143 Primal inf 490 (4)\n",
      "4  Obj 28770.24\n",
      "Optimal - objective value 28770\n",
      "After Postsolve, objective 28770, infeasibilities - dual 0 (0), primal 0 (0)\n",
      "Optimal objective 28770 - 4 iterations time 0.002, Presolve 0.00\n",
      "Option for printingOptions changed from normal to all\n",
      "Total time (CPU seconds):       0.00   (Wallclock seconds):       0.00\n",
      "\n",
      "Impact of Reserve Requirements:\n",
      "==================================================\n",
      "Without reserves - Total cost: $28770.00\n",
      "With reserves - Total cost: $28770.00\n",
      "Cost increase: $0.00\n",
      "\n",
      "Dispatch Comparison:\n",
      "Period\tDemand\tReserve\t| No Reserve (MW)\t| With Reserve (MW)\n",
      "\t\tReq\t| G1   G2   G3\t\t| G1   G2   G3\n",
      "----------------------------------------------------------------------\n",
      "0\t250\t25\t| 150  40  60\t| 150  40  60\n",
      "1\t300\t30\t| 200  40  60\t| 200  40  60\n",
      "2\t280\t28\t| 180  40  60\t| 180  40  60\n",
      "3\t260\t26\t| 160  40  60\t| 160  40  60\n",
      "\n",
      "Reserve Provision:\n",
      "Period\tRequired\tAvailable\tMargin\n",
      "0\t25.0\t\t280.0\t\t255.0\n",
      "1\t30.0\t\t230.0\t\t200.0\n",
      "2\t28.0\t\t250.0\t\t222.0\n",
      "3\t26.0\t\t270.0\t\t244.0\n",
      "\n",
      "Key Insight: Reserve requirements prevent generators from running at maximum,\n",
      "increasing costs as more expensive units must run to maintain headroom.\n"
     ]
    }
   ],
   "source": [
    "# Solution\n",
    "# Multi-period dispatch with reserves\n",
    "prob_reserve = pulp.LpProblem(\"Multi_Period_Dispatch_with_Reserve\", pulp.LpMinimize)\n",
    "\n",
    "# Decision variables\n",
    "p_r = {}\n",
    "for g in generators:\n",
    "    for t in periods:\n",
    "        p_r[g,t] = pulp.LpVariable(f\"P_g{g}_t{t}\", p_min[g], p_max[g])\n",
    "\n",
    "# Objective function\n",
    "prob_reserve += pulp.lpSum(costs[g] * p_r[g,t] for g in generators for t in periods)\n",
    "\n",
    "# Power balance constraints\n",
    "for t in periods:\n",
    "    prob_reserve += pulp.lpSum(p_r[g,t] for g in generators) == demand[t], f\"Balance_t{t}\"\n",
    "\n",
    "# Reserve constraints - 10% of demand\n",
    "for t in periods:\n",
    "    reserve_req = 0.1 * demand[t]\n",
    "    # Available headroom = sum of (Pmax - P) for all generators\n",
    "    prob_reserve += pulp.lpSum(p_max[g] - p_r[g,t] for g in generators) >= reserve_req, f\"Reserve_t{t}\"\n",
    "\n",
    "# Ramping constraints\n",
    "for g in generators:\n",
    "    for t in periods[1:]:\n",
    "        prob_reserve += p_r[g,t] - p_r[g,t-1] <= ramp_limit[g], f\"RampUp_g{g}_t{t}\"\n",
    "        prob_reserve += p_r[g,t-1] - p_r[g,t] <= ramp_limit[g], f\"RampDown_g{g}_t{t}\"\n",
    "\n",
    "# Solve\n",
    "prob_reserve.solve()\n",
    "\n",
    "# Compare results\n",
    "print(\"Impact of Reserve Requirements:\")\n",
    "print(\"=\" * 50)\n",
    "print(f\"Without reserves - Total cost: ${pulp.value(prob.objective):.2f}\")\n",
    "print(f\"With reserves - Total cost: ${pulp.value(prob_reserve.objective):.2f}\")\n",
    "print(f\"Cost increase: ${pulp.value(prob_reserve.objective) - pulp.value(prob.objective):.2f}\")\n",
    "\n",
    "print(\"\\nDispatch Comparison:\")\n",
    "print(\"Period\\tDemand\\tReserve\\t| No Reserve (MW)\\t| With Reserve (MW)\")\n",
    "print(\"\\t\\tReq\\t| G1   G2   G3\\t\\t| G1   G2   G3\")\n",
    "print(\"-\" * 70)\n",
    "\n",
    "for t in periods:\n",
    "    # Without reserve\n",
    "    gen_no_res = [p[g,t].varValue for g in generators]\n",
    "    # With reserve\n",
    "    gen_with_res = [p_r[g,t].varValue for g in generators]\n",
    "    reserve_req = 0.1 * demand[t]\n",
    "    \n",
    "    print(f\"{t}\\t{demand[t]}\\t{reserve_req:.0f}\\t| \", end=\"\")\n",
    "    print(f\"{gen_no_res[0]:.0f}  {gen_no_res[1]:.0f}  {gen_no_res[2]:.0f}\\t| \", end=\"\")\n",
    "    print(f\"{gen_with_res[0]:.0f}  {gen_with_res[1]:.0f}  {gen_with_res[2]:.0f}\")\n",
    "\n",
    "# Check reserve provision\n",
    "print(\"\\nReserve Provision:\")\n",
    "print(\"Period\\tRequired\\tAvailable\\tMargin\")\n",
    "for t in periods:\n",
    "    required = 0.1 * demand[t]\n",
    "    available = sum(p_max[g] - p_r[g,t].varValue for g in generators)\n",
    "    print(f\"{t}\\t{required:.1f}\\t\\t{available:.1f}\\t\\t{available-required:.1f}\")\n",
    "\n",
    "print(\"\\nKey Insight: Reserve requirements prevent generators from running at maximum,\")\n",
    "print(\"increasing costs as more expensive units must run to maintain headroom.\")"
   ]
  },
  {
   "cell_type": "markdown",
   "metadata": {
    "editable": true,
    "slideshow": {
     "slide_type": ""
    },
    "tags": []
   },
   "source": [
    "## 4. Debugging Optimization Models\n",
    "\n",
    "Real-world optimization models often have issues that need debugging. Common problems include:\n",
    "\n",
    "1. **Infeasibility**: No solution satisfies all constraints\n",
    "2. **Unboundedness**: Objective can be improved infinitely\n",
    "3. **Numerical issues**: Poor scaling or near-singular matrices\n",
    "4. **Unexpected solutions**: Model doesn't capture intended behavior\n",
    "\n",
    "Let's explore debugging techniques with intentionally problematic models."
   ]
  },
  {
   "cell_type": "code",
   "execution_count": 18,
   "metadata": {
    "editable": true,
    "slideshow": {
     "slide_type": ""
    },
    "tags": []
   },
   "outputs": [
    {
     "name": "stdout",
     "output_type": "stream",
     "text": [
      "Welcome to the CBC MILP Solver \n",
      "Version: 2.10.3 \n",
      "Build Date: Dec 15 2019 \n",
      "\n",
      "command line - /home/hacui/mambaforge/envs/pct/lib/python3.11/site-packages/pulp/apis/../solverdir/cbc/linux/i64/cbc /tmp/15a2cd0b741d4231a8dd016429486433-pulp.mps -timeMode elapsed -branch -printingOptions all -solution /tmp/15a2cd0b741d4231a8dd016429486433-pulp.sol (default strategy 1)\n",
      "At line 2 NAME          MODEL\n",
      "At line 3 ROWS\n",
      "At line 6 COLUMNS\n",
      "At line 13 RHS\n",
      "At line 15 BOUNDS\n",
      "At line 22 ENDATA\n",
      "Problem MODEL has 1 rows, 3 columns and 3 elements\n",
      "Coin0008I MODEL read with 0 errors\n",
      "Option for timeMode changed from cpu to elapsed\n",
      "Presolve determined that the problem was infeasible with tolerance of 1e-08\n",
      "Analysis indicates model infeasible or unbounded\n",
      "0  Obj 4130 Primal inf 400 (1)\n",
      "2  Obj 15140 Primal inf 20 (1)\n",
      "Primal infeasible - objective value 15140\n",
      "PrimalInfeasible objective 15140 - 2 iterations time 0.002\n",
      "\n",
      "Result - Linear relaxation infeasible\n",
      "\n",
      "Enumerated nodes:           0\n",
      "Total iterations:           0\n",
      "Time (CPU seconds):         0.00\n",
      "Time (Wallclock Seconds):   0.00\n",
      "\n",
      "Option for printingOptions changed from normal to all\n",
      "Total time (CPU seconds):       0.00   (Wallclock seconds):       0.00\n",
      "\n"
     ]
    },
    {
     "data": {
      "text/plain": [
       "-1"
      ]
     },
     "execution_count": 18,
     "metadata": {},
     "output_type": "execute_result"
    }
   ],
   "source": [
    "# Example: Debugging an infeasible model\n",
    "# Demand is too high for available generation\n",
    "\n",
    "prob_infeas = pulp.LpProblem(\"Infeasible_Dispatch\", pulp.LpMinimize)\n",
    "\n",
    "# Same generators as before\n",
    "P1_inf = pulp.LpVariable(\"P1\", lowBound=50, upBound=200)\n",
    "P2_inf = pulp.LpVariable(\"P2\", lowBound=40, upBound=150)\n",
    "P3_inf = pulp.LpVariable(\"P3\", lowBound=60, upBound=180)\n",
    "\n",
    "# Objective\n",
    "prob_infeas += 25*P1_inf + 30*P2_inf + 28*P3_inf\n",
    "\n",
    "# Infeasible constraint - demand exceeds maximum generation\n",
    "max_gen = 200 + 150 + 180  # 530 MW\n",
    "infeasible_demand = 550  # MW\n",
    "\n",
    "prob_infeas += P1_inf + P2_inf + P3_inf == infeasible_demand, \"Power_Balance\"\n",
    "\n",
    "# Try to solve\n",
    "prob_infeas.solve()"
   ]
  },
  {
   "cell_type": "markdown",
   "metadata": {
    "editable": true,
    "slideshow": {
     "slide_type": ""
    },
    "tags": []
   },
   "source": [
    "Note the output saying `Result - Linear relaxation infeasible`."
   ]
  },
  {
   "cell_type": "code",
   "execution_count": 23,
   "metadata": {
    "editable": true,
    "slideshow": {
     "slide_type": ""
    },
    "tags": []
   },
   "outputs": [
    {
     "name": "stdout",
     "output_type": "stream",
     "text": [
      "Problem status: Infeasible\n",
      "\n",
      "Demand: 550 MW\n",
      "Maximum possible generation: 530 MW\n",
      "Shortage: 20 MW\n"
     ]
    }
   ],
   "source": [
    "print(f\"Problem status: {pulp.LpStatus[prob_infeas.status]}\")\n",
    "print(f\"\\nDemand: {infeasible_demand} MW\")\n",
    "print(f\"Maximum possible generation: {max_gen} MW\")\n",
    "print(f\"Shortage: {infeasible_demand - max_gen} MW\")"
   ]
  },
  {
   "cell_type": "markdown",
   "metadata": {
    "editable": true,
    "slideshow": {
     "slide_type": ""
    },
    "tags": []
   },
   "source": [
    "### Debugging approach 1: Check constraint feasibility"
   ]
  },
  {
   "cell_type": "code",
   "execution_count": null,
   "metadata": {
    "editable": true,
    "slideshow": {
     "slide_type": ""
    },
    "tags": []
   },
   "outputs": [
    {
     "name": "stdout",
     "output_type": "stream",
     "text": [
      "Problem status: Infeasible\n",
      "\n",
      "Demand: 550 MW\n",
      "Maximum possible generation: 530 MW\n",
      "Shortage: 20 MW\n",
      "\n",
      "Debugging Approach 1: Check individual constraints\n",
      "Minimum generation: 150 MW\n",
      "Maximum generation: 530 MW\n",
      "Can we meet demand? False\n"
     ]
    }
   ],
   "source": [
    "print(\"\\nDebugging Approach 1: Check individual constraints\")\n",
    "print(f\"Minimum generation: {50 + 40 + 60} MW\")\n",
    "print(f\"Maximum generation: {200 + 150 + 180} MW\")\n",
    "print(f\"Can we meet demand? {50 + 40 + 60 <= infeasible_demand <= 200 + 150 + 180}\")"
   ]
  },
  {
   "cell_type": "markdown",
   "metadata": {
    "editable": true,
    "slideshow": {
     "slide_type": ""
    },
    "tags": []
   },
   "source": [
    "### Debugging approach 2: Relax constraints to find conflicts\n",
    "\n",
    "The second approach is to add slack variables to make problem feasible. To minimize the slack variable, we penalize it in the objective function. In the following, `penalty*slack_pos + penalty*slack_neg` is the penalty. Note that the penalty number is purely arbitrary for mathematical purposes."
   ]
  },
  {
   "cell_type": "code",
   "execution_count": 27,
   "metadata": {
    "editable": true,
    "slideshow": {
     "slide_type": ""
    },
    "tags": []
   },
   "outputs": [
    {
     "name": "stdout",
     "output_type": "stream",
     "text": [
      "Welcome to the CBC MILP Solver \n",
      "Version: 2.10.3 \n",
      "Build Date: Dec 15 2019 \n",
      "\n",
      "command line - /home/hacui/mambaforge/envs/pct/lib/python3.11/site-packages/pulp/apis/../solverdir/cbc/linux/i64/cbc /tmp/6d0a04011d6a4680adf43d2d607190fb-pulp.mps -timeMode elapsed -branch -printingOptions all -solution /tmp/6d0a04011d6a4680adf43d2d607190fb-pulp.sol (default strategy 1)\n",
      "At line 2 NAME          MODEL\n",
      "At line 3 ROWS\n",
      "At line 6 COLUMNS\n",
      "At line 17 RHS\n",
      "At line 19 BOUNDS\n",
      "At line 26 ENDATA\n",
      "Problem MODEL has 1 rows, 5 columns and 5 elements\n",
      "Coin0008I MODEL read with 0 errors\n",
      "Option for timeMode changed from cpu to elapsed\n",
      "Presolve 0 (-1) rows, 0 (-5) columns and 0 (-5) elements\n",
      "Empty problem - 0 rows, 0 columns and 0 elements\n",
      "Optimal - objective value 214540\n",
      "After Postsolve, objective 214540, infeasibilities - dual 0 (0), primal 0 (0)\n",
      "Optimal objective 214540 - 0 iterations time 0.002, Presolve 0.00\n",
      "Option for printingOptions changed from normal to all\n",
      "Total time (CPU seconds):       0.00   (Wallclock seconds):       0.00\n",
      "\n"
     ]
    },
    {
     "data": {
      "text/plain": [
       "1"
      ]
     },
     "execution_count": 27,
     "metadata": {},
     "output_type": "execute_result"
    }
   ],
   "source": [
    "prob_debug = pulp.LpProblem(\"Debug_Dispatch\", pulp.LpMinimize)\n",
    "\n",
    "# Original variables\n",
    "P1_d = pulp.LpVariable(\"P1\", lowBound=50, upBound=200)\n",
    "P2_d = pulp.LpVariable(\"P2\", lowBound=40, upBound=150)\n",
    "P3_d = pulp.LpVariable(\"P3\", lowBound=60, upBound=180)\n",
    "\n",
    "# Slack variables for constraint violation\n",
    "slack_pos = pulp.LpVariable(\"Slack_positive\", lowBound=0)  # Over-generation\n",
    "slack_neg = pulp.LpVariable(\"Slack_negative\", lowBound=0)  # Under-generation\n",
    "\n",
    "# Objective: minimize cost + heavy penalty for slack\n",
    "penalty = 10000  # High penalty for constraint violation\n",
    "prob_debug += (25*P1_d + 30*P2_d + 28*P3_d + \n",
    "               penalty*slack_pos + penalty*slack_neg)\n",
    "\n",
    "# Modified power balance with slack\n",
    "prob_debug += P1_d + P2_d + P3_d + slack_neg - slack_pos == infeasible_demand\n",
    "\n",
    "# Solve\n",
    "prob_debug.solve()"
   ]
  },
  {
   "cell_type": "code",
   "execution_count": 28,
   "metadata": {
    "editable": true,
    "slideshow": {
     "slide_type": ""
    },
    "tags": []
   },
   "outputs": [
    {
     "name": "stdout",
     "output_type": "stream",
     "text": [
      "Debugging with slack variables:\n",
      "Status: Optimal\n",
      "\n",
      "Generation:\n",
      "  P1: 200.0 MW\n",
      "  P2: 150.0 MW\n",
      "  P3: 180.0 MW\n",
      "  Total: 530.0 MW\n",
      "\n",
      "Slack variables:\n",
      "  Under-generation (load shed): 20.0 MW\n",
      "  Over-generation (curtailment): 0.0 MW\n",
      "\n",
      "Conclusion: System is short 20.0 MW\n",
      "Solutions: 1) Reduce demand, 2) Add generation, 3) Implement load shedding\n"
     ]
    }
   ],
   "source": [
    "print(\"Debugging with slack variables:\")\n",
    "print(f\"Status: {pulp.LpStatus[prob_debug.status]}\")\n",
    "print(f\"\\nGeneration:\")\n",
    "print(f\"  P1: {P1_d.varValue:.1f} MW\")\n",
    "print(f\"  P2: {P2_d.varValue:.1f} MW\") \n",
    "print(f\"  P3: {P3_d.varValue:.1f} MW\")\n",
    "print(f\"  Total: {P1_d.varValue + P2_d.varValue + P3_d.varValue:.1f} MW\")\n",
    "print(f\"\\nSlack variables:\")\n",
    "print(f\"  Under-generation (load shed): {slack_neg.varValue:.1f} MW\")\n",
    "print(f\"  Over-generation (curtailment): {slack_pos.varValue:.1f} MW\")\n",
    "\n",
    "if slack_neg.varValue > 0.1:\n",
    "    print(f\"\\nConclusion: System is short {slack_neg.varValue:.1f} MW\")\n",
    "    print(\"Solutions: 1) Reduce demand, 2) Add generation, 3) Implement load shedding\")"
   ]
  },
  {
   "cell_type": "markdown",
   "metadata": {
    "editable": true,
    "slideshow": {
     "slide_type": ""
    },
    "tags": []
   },
   "source": [
    "```{admonition} Exercise 2: Debug a Transmission-Constrained Problem\n",
    ":class: tip\n",
    "\n",
    "The following dispatch problem includes transmission constraints but returns an unexpected solution. Debug the model to find and fix the issue.\n",
    "\n",
    "System:\n",
    "- 3 generators at different buses\n",
    "- 3 loads at the same buses\n",
    "- Transmission limits between buses\n",
    "- The model seems to curtail cheap generation - why?\n",
    "```"
   ]
  },
  {
   "cell_type": "code",
   "execution_count": 30,
   "metadata": {
    "editable": true,
    "slideshow": {
     "slide_type": ""
    },
    "tags": []
   },
   "outputs": [
    {
     "name": "stdout",
     "output_type": "stream",
     "text": [
      "Welcome to the CBC MILP Solver \n",
      "Version: 2.10.3 \n",
      "Build Date: Dec 15 2019 \n",
      "\n",
      "command line - /home/hacui/mambaforge/envs/pct/lib/python3.11/site-packages/pulp/apis/../solverdir/cbc/linux/i64/cbc /tmp/4af0280e7d714a9ea2b1c9d34f33b94c-pulp.mps -timeMode elapsed -branch -printingOptions all -solution /tmp/4af0280e7d714a9ea2b1c9d34f33b94c-pulp.sol (default strategy 1)\n",
      "At line 2 NAME          MODEL\n",
      "At line 3 ROWS\n",
      "At line 8 COLUMNS\n",
      "At line 27 RHS\n",
      "At line 31 BOUNDS\n",
      "At line 47 ENDATA\n",
      "Problem MODEL has 3 rows, 9 columns and 15 elements\n",
      "Coin0008I MODEL read with 0 errors\n",
      "Option for timeMode changed from cpu to elapsed\n",
      "Presolve 3 (0) rows, 9 (0) columns and 15 (0) elements\n",
      "0  Obj 0 Primal inf 270 (3)\n",
      "5  Obj 6000\n",
      "Optimal - objective value 6000\n",
      "Optimal objective 6000 - 5 iterations time 0.002\n",
      "Option for printingOptions changed from normal to all\n",
      "Total time (CPU seconds):       0.00   (Wallclock seconds):       0.00\n",
      "\n"
     ]
    },
    {
     "data": {
      "text/plain": [
       "1"
      ]
     },
     "execution_count": 30,
     "metadata": {},
     "output_type": "execute_result"
    }
   ],
   "source": [
    "# Exercise 2: Debug this transmission-constrained dispatch\n",
    "# Something is wrong - the solution doesn't make economic sense\n",
    "\n",
    "prob_trans = pulp.LpProblem(\"Transmission_Dispatch\", pulp.LpMinimize)\n",
    "\n",
    "# Three buses with generation and load\n",
    "buses = range(3)\n",
    "gen_cost = [20, 30, 25]  # $/MWh\n",
    "gen_max = [150, 100, 120]  # MW\n",
    "load = [80, 90, 100]  # MW at each bus\n",
    "\n",
    "# Transmission limits (from bus i to bus j)\n",
    "trans_limit = {\n",
    "    (0,1): 50,\n",
    "    (1,0): 50,\n",
    "    (1,2): 40,\n",
    "    (2,1): 40,\n",
    "    (0,2): 30,\n",
    "    (2,0): 30\n",
    "}\n",
    "\n",
    "# Variables\n",
    "gen = {}\n",
    "flow = {}\n",
    "\n",
    "for b in buses:\n",
    "    gen[b] = pulp.LpVariable(f\"Gen_{b}\", lowBound=0, upBound=gen_max[b])\n",
    "\n",
    "for i in buses:\n",
    "    for j in buses:\n",
    "        if i != j:\n",
    "            flow[i,j] = pulp.LpVariable(f\"Flow_{i}_{j}\", \n",
    "                                       lowBound=-trans_limit.get((i,j), 0),\n",
    "                                       upBound=trans_limit.get((i,j), 0))\n",
    "\n",
    "# Objective\n",
    "prob_trans += pulp.lpSum(gen_cost[b] * gen[b] for b in buses)\n",
    "\n",
    "# Power balance at each bus\n",
    "for b in buses:\n",
    "    # Generation - Load + Net Imports = 0\n",
    "    # BUG: There's an error in this constraint formulation\n",
    "    prob_trans += (gen[b] - load[b] + \n",
    "                  pulp.lpSum(flow[i,b] for i in buses if i != b) -\n",
    "                  pulp.lpSum(flow[b,j] for j in buses if j != b) == 0, \n",
    "                  f\"Balance_bus_{b}\")\n",
    "\n",
    "# Solve and display\n",
    "prob_trans.solve()"
   ]
  },
  {
   "cell_type": "code",
   "execution_count": 32,
   "metadata": {
    "editable": true,
    "slideshow": {
     "slide_type": ""
    },
    "tags": []
   },
   "outputs": [
    {
     "name": "stdout",
     "output_type": "stream",
     "text": [
      "Transmission-Constrained Dispatch:\n",
      "Status: Optimal\n",
      "\n",
      "Generation (Cost):\n",
      "  Bus 0: 150.0 MW ($20/MWh)\n",
      "  Bus 1: 0.0 MW ($30/MWh)\n",
      "  Bus 2: 120.0 MW ($25/MWh)\n",
      "\n",
      "Total generation: 270.0 MW\n",
      "Total load: 270 MW\n",
      "\n",
      "Something seems wrong - cheapest generator (Bus 0) is not at maximum!\n"
     ]
    }
   ],
   "source": [
    "print(\"Transmission-Constrained Dispatch:\")\n",
    "print(f\"Status: {pulp.LpStatus[prob_trans.status]}\")\n",
    "print(f\"\\nGeneration (Cost):\")\n",
    "total_gen = 0\n",
    "for b in buses:\n",
    "    total_gen += gen[b].varValue\n",
    "    print(f\"  Bus {b}: {gen[b].varValue:.1f} MW (${gen_cost[b]}/MWh)\")\n",
    "print(f\"\\nTotal generation: {total_gen:.1f} MW\")\n",
    "print(f\"Total load: {sum(load)} MW\")\n",
    "print(f\"\\nSomething seems wrong - cheapest generator (Bus 0) is not at maximum!\")\n",
    "\n",
    "# Your debugging code here:"
   ]
  },
  {
   "cell_type": "code",
   "execution_count": null,
   "metadata": {
    "editable": true,
    "slideshow": {
     "slide_type": ""
    },
    "tags": [
     "hide-cell"
    ]
   },
   "outputs": [],
   "source": [
    "# Solution: Debug the transmission-constrained problem\n",
    "\n",
    "# First, let's check the flows to understand what's happening\n",
    "print(\"\\nDEBUGGING ANALYSIS:\")\n",
    "print(\"=\" * 50)\n",
    "\n",
    "print(\"\\n1. Check power flows:\")\n",
    "for i in buses:\n",
    "    for j in buses:\n",
    "        if i != j and (i,j) in flow:\n",
    "            if abs(flow[i,j].varValue) > 0.1:\n",
    "                print(f\"  Flow {i}→{j}: {flow[i,j].varValue:.1f} MW (limit: {trans_limit.get((i,j), 0)})\") \n",
    "\n",
    "print(\"\\n2. Check power balance at each bus:\")\n",
    "for b in buses:\n",
    "    net_export = sum(flow[b,j].varValue for j in buses if j != b and (b,j) in flow)\n",
    "    net_import = sum(flow[i,b].varValue for i in buses if i != b and (i,b) in flow)\n",
    "    balance = gen[b].varValue - load[b] - net_export + net_import\n",
    "    print(f\"  Bus {b}: Gen={gen[b].varValue:.1f}, Load={load[b]}, Export={net_export:.1f}, Import={net_import:.1f}, Balance={balance:.1f}\")\n",
    "\n",
    "print(\"\\n3. THE BUG: The flow variables are defined with wrong bounds!\")\n",
    "print(\"   Each flow[i,j] can be negative (reverse flow) but we want:\")\n",
    "print(\"   - flow[0,1] represents flow from bus 0 to bus 1\")\n",
    "print(\"   - This should be bounded by [0, trans_limit]\")\n",
    "print(\"   - We need separate variables for each direction\")\n",
    "\n",
    "# FIXED VERSION\n",
    "print(\"\\n\" + \"=\" * 50)\n",
    "print(\"CORRECTED MODEL:\")\n",
    "print(\"=\" * 50)\n",
    "\n",
    "prob_fixed = pulp.LpProblem(\"Fixed_Transmission_Dispatch\", pulp.LpMinimize)\n",
    "\n",
    "# Variables\n",
    "gen_f = {}\n",
    "flow_f = {}\n",
    "\n",
    "for b in buses:\n",
    "    gen_f[b] = pulp.LpVariable(f\"Gen_{b}\", lowBound=0, upBound=gen_max[b])\n",
    "\n",
    "# Create flow variables only for allowed directions with correct bounds\n",
    "for (i,j), limit in trans_limit.items():\n",
    "    flow_f[i,j] = pulp.LpVariable(f\"Flow_{i}_{j}\", lowBound=0, upBound=limit)\n",
    "\n",
    "# Objective\n",
    "prob_fixed += pulp.lpSum(gen_cost[b] * gen_f[b] for b in buses)\n",
    "\n",
    "# Power balance at each bus (corrected)\n",
    "for b in buses:\n",
    "    # Generation - Load - Exports + Imports = 0\n",
    "    exports = pulp.lpSum(flow_f[b,j] for j in buses if (b,j) in flow_f)\n",
    "    imports = pulp.lpSum(flow_f[i,b] for i in buses if (i,b) in flow_f)\n",
    "    \n",
    "    prob_fixed += gen_f[b] - load[b] - exports + imports == 0, f\"Balance_bus_{b}\"\n",
    "\n",
    "# Solve\n",
    "prob_fixed.solve()\n",
    "\n",
    "print(\"\\nCorrected Solution:\")\n",
    "print(f\"Status: {pulp.LpStatus[prob_fixed.status]}\")\n",
    "\n",
    "print(f\"\\nGeneration:\")\n",
    "for b in buses:\n",
    "    print(f\"  Bus {b}: {gen_f[b].varValue:.1f} MW (${gen_cost[b]}/MWh)\")\n",
    "\n",
    "print(f\"\\nFlows:\")\n",
    "for (i,j) in flow_f:\n",
    "    if flow_f[i,j].varValue > 0.1:\n",
    "        print(f\"  {i}→{j}: {flow_f[i,j].varValue:.1f} MW\")\n",
    "\n",
    "print(f\"\\nTotal cost: ${pulp.value(prob_fixed.objective):.2f}\")\n",
    "\n",
    "print(\"\\nNow the cheap generator at Bus 0 is used more!\")\n",
    "print(\"The transmission limits still prevent full utilization,\")\n",
    "print(\"but the dispatch is now economically sensible.\")"
   ]
  },
  {
   "cell_type": "code",
   "execution_count": 41,
   "metadata": {
    "editable": true,
    "slideshow": {
     "slide_type": ""
    },
    "tags": [
     "hide-cell"
    ]
   },
   "outputs": [
    {
     "data": {
      "image/png": "[encoded data removed]",
      "text/plain": [
       "<Figure size 1200x500 with 2 Axes>"
      ]
     },
     "metadata": {},
     "output_type": "display_data"
    }
   ],
   "source": [
    "# Visualize the solution\n",
    "import matplotlib.patches as patches\n",
    "\n",
    "fig, (ax1, ax2) = plt.subplots(1, 2, figsize=(12, 5))\n",
    "\n",
    "# Original (buggy) solution\n",
    "ax = ax1\n",
    "ax.set_title(\"Original (Buggy) Solution\")\n",
    "bus_pos = [(1, 2), (0, 0), (2, 0)]\n",
    "\n",
    "for b, (x, y) in enumerate(bus_pos):\n",
    "    # Draw bus\n",
    "    circle = patches.Circle((x, y), 0.3, facecolor='lightblue', edgecolor='black', linewidth=2)\n",
    "    ax.add_patch(circle)\n",
    "    ax.text(x, y, f\"Bus {b}\", ha='center', va='center', fontweight='bold')\n",
    "    \n",
    "    # Show generation and load\n",
    "    if b in gen and gen[b] is not None:\n",
    "        gen_value = gen[b].varValue if hasattr(gen[b], 'varValue') and gen[b].varValue is not None else 0\n",
    "        ax.text(x, y+0.5, f\"G: {gen_value:.0f} MW\\n${gen_cost[b]}/MWh\", \n",
    "                ha='center', va='bottom', bbox=dict(boxstyle=\"round,pad=0.3\", facecolor=\"lightgreen\"))\n",
    "    ax.text(x, y-0.5, f\"L: {load[b]} MW\", ha='center', va='top',\n",
    "            bbox=dict(boxstyle=\"round,pad=0.3\", facecolor=\"lightcoral\"))\n",
    "\n",
    "# Draw flows for original solution (if they exist)\n",
    "if isinstance(flow, dict):\n",
    "    for i in buses:\n",
    "        for j in buses:\n",
    "            if i != j and (i,j) in flow and flow[i,j] is not None:\n",
    "                flow_value = flow[i,j].varValue if hasattr(flow[i,j], 'varValue') and flow[i,j].varValue is not None else 0\n",
    "                if abs(flow_value) > 0.1:\n",
    "                    x1, y1 = bus_pos[i]\n",
    "                    x2, y2 = bus_pos[j]\n",
    "                    ax.annotate('', xy=(x2, y2), xytext=(x1, y1),\n",
    "                               arrowprops=dict(arrowstyle='->', lw=2, color='blue', alpha=0.7))\n",
    "                    mx, my = (x1+x2)/2, (y1+y2)/2\n",
    "                    ax.text(mx, my, f\"{flow_value:.0f} MW\", \n",
    "                           bbox=dict(boxstyle=\"round,pad=0.2\", facecolor=\"lightblue\", alpha=0.8))\n",
    "\n",
    "ax.set_xlim(-0.5, 2.5)\n",
    "ax.set_ylim(-1, 3)\n",
    "ax.set_aspect('equal')\n",
    "ax.axis('off')\n",
    "\n",
    "# Corrected solution\n",
    "ax = ax2\n",
    "ax.set_title(\"Corrected Solution\")\n",
    "\n",
    "for b, (x, y) in enumerate(bus_pos):\n",
    "    # Draw bus\n",
    "    circle = patches.Circle((x, y), 0.3, facecolor='lightblue', edgecolor='black', linewidth=2)\n",
    "    ax.add_patch(circle)\n",
    "    ax.text(x, y, f\"Bus {b}\", ha='center', va='center', fontweight='bold')\n",
    "    \n",
    "    # Show generation and load\n",
    "    if b in gen_f and gen_f[b] is not None:\n",
    "        gen_value = gen_f[b].varValue if hasattr(gen_f[b], 'varValue') and gen_f[b].varValue is not None else 0\n",
    "        ax.text(x, y+0.5, f\"G: {gen_value:.0f} MW\\n${gen_cost[b]}/MWh\", \n",
    "                ha='center', va='bottom', bbox=dict(boxstyle=\"round,pad=0.3\", facecolor=\"lightgreen\"))\n",
    "    ax.text(x, y-0.5, f\"L: {load[b]} MW\", ha='center', va='top',\n",
    "            bbox=dict(boxstyle=\"round,pad=0.3\", facecolor=\"lightcoral\"))\n",
    "\n",
    "# Draw flows for corrected solution\n",
    "if isinstance(flow_f, dict):\n",
    "    for (i,j) in flow_f:\n",
    "        if flow_f[i,j] is not None:\n",
    "            flow_value = flow_f[i,j].varValue if hasattr(flow_f[i,j], 'varValue') and flow_f[i,j].varValue is not None else 0\n",
    "            if flow_value > 0.1:\n",
    "                x1, y1 = bus_pos[i]\n",
    "                x2, y2 = bus_pos[j]\n",
    "                ax.annotate('', xy=(x2, y2), xytext=(x1, y1),\n",
    "                           arrowprops=dict(arrowstyle='->', lw=2, color='red'))\n",
    "                # Label the flow\n",
    "                mx, my = (x1+x2)/2, (y1+y2)/2\n",
    "                ax.text(mx, my, f\"{flow_value:.0f} MW\", \n",
    "                       bbox=dict(boxstyle=\"round,pad=0.2\", facecolor=\"yellow\"))\n",
    "\n",
    "ax.set_xlim(-0.5, 2.5) \n",
    "ax.set_ylim(-1, 3)\n",
    "ax.set_aspect('equal')\n",
    "ax.axis('off')\n",
    "\n",
    "plt.tight_layout()\n",
    "plt.show()"
   ]
  },
  {
   "cell_type": "markdown",
   "metadata": {
    "editable": true,
    "slideshow": {
     "slide_type": ""
    },
    "tags": []
   },
   "source": [
    "## 5. Analyzing Results\n",
    "\n",
    "Optimization solvers provide more than just the optimal values of decision variables. Understanding all available information helps in:\n",
    "- Validating solutions\n",
    "- Performing sensitivity analysis  \n",
    "- Identifying bottlenecks\n",
    "- Making better decisions\n",
    "\n",
    "### Primal and Dual Solutions\n",
    "\n",
    "- **Primal solution**: Values of decision variables (e.g., generator outputs)\n",
    "- **Dual solution**: Shadow prices of constraints (marginal values)\n",
    "- **Reduced costs**: How much objective would change if we forced a variable to change\n",
    "- **Slack values**: How much \"room\" remains in inequality constraints"
   ]
  },
  {
   "cell_type": "code",
   "execution_count": 61,
   "metadata": {
    "editable": true,
    "slideshow": {
     "slide_type": ""
    },
    "tags": []
   },
   "outputs": [
    {
     "name": "stdout",
     "output_type": "stream",
     "text": [
      "Welcome to the CBC MILP Solver \n",
      "Version: 2.10.3 \n",
      "Build Date: Dec 15 2019 \n",
      "\n",
      "command line - /home/hacui/mambaforge/envs/pct/lib/python3.11/site-packages/pulp/apis/../solverdir/cbc/linux/i64/cbc /tmp/a620f5d9eaa7472893b6c3206fd5856a-pulp.mps -timeMode elapsed -branch -printingOptions all -solution /tmp/a620f5d9eaa7472893b6c3206fd5856a-pulp.sol (default strategy 1)\n",
      "At line 2 NAME          MODEL\n",
      "At line 3 ROWS\n",
      "At line 11 COLUMNS\n",
      "At line 28 RHS\n",
      "At line 35 BOUNDS\n",
      "At line 47 ENDATA\n",
      "Problem MODEL has 6 rows, 7 columns and 12 elements\n",
      "Coin0008I MODEL read with 0 errors\n",
      "Option for timeMode changed from cpu to elapsed\n",
      "Presolve determined that the problem was infeasible with tolerance of 1e-08\n",
      "Analysis indicates model infeasible or unbounded\n",
      "0  Obj 2250 Primal inf 570 (4)\n",
      "6  Obj 5650 Primal inf 20 (1)\n",
      "Primal infeasible - objective value 5650\n",
      "PrimalInfeasible objective 5650 - 6 iterations time 0.002\n",
      "\n",
      "Result - Linear relaxation infeasible\n",
      "\n",
      "Enumerated nodes:           0\n",
      "Total iterations:           0\n",
      "Time (CPU seconds):         0.00\n",
      "Time (Wallclock Seconds):   0.01\n",
      "\n",
      "Option for printingOptions changed from normal to all\n",
      "Total time (CPU seconds):       0.00   (Wallclock seconds):       0.01\n",
      "\n",
      "SOLUTION ANALYSIS\n",
      "============================================================\n",
      "Status: Infeasible\n",
      "Total Cost: $5650.00\n",
      "\n",
      "1. PRIMAL SOLUTION (Generation):\n",
      "Generator\tOutput (MW)\tCost ($/MWh)\tTotal Cost ($)\n",
      "------------------------------------------------------------\n",
      "Nuclear\t\t100.0\t\t10\t\t1000.00\n",
      "Coal\t\t30.0\t\t25\t\t750.00\n",
      "Gas\t\t90.0\t\t40\t\t3600.00\n",
      "Wind\t\t60.0\t\t5\t\t300.00\n",
      "\n",
      "Total Generation: 280.0 MW\n",
      "Total Load: 280 MW\n"
     ]
    }
   ],
   "source": [
    "# Comprehensive result analysis\n",
    "# Let's create a more complex problem to analyze\n",
    "\n",
    "# System with transmission constraints and losses\n",
    "prob_analysis = pulp.LpProblem(\"Comprehensive_Analysis\", pulp.LpMinimize)\n",
    "\n",
    "# 4 generators with different characteristics\n",
    "# Note that we put cheap generation (Nuclear, Coal) at Bus 0, expensive (Gas) at Bus 2\n",
    "gen_data = pd.DataFrame({\n",
    "    'Gen': ['Nuclear', 'Coal', 'Gas', 'Wind'],\n",
    "    'Bus': [0, 0, 2, 3],  # Nuclear and Coal both at Bus 0\n",
    "    'Min_MW': [100, 50, 0, 0],\n",
    "    'Max_MW': [100, 200, 150, 80],\n",
    "    'Cost_$/MWh': [10, 25, 40, 5],  # Wind has small cost to show value\n",
    "    'Must_Run': [True, False, False, False]\n",
    "})\n",
    "\n",
    "# Load at different buses\n",
    "# We concentrate load at buses 2 and 3 (far from cheap generation)\n",
    "load_data = pd.DataFrame({\n",
    "    'Bus': [0, 1, 2, 3],\n",
    "    'Load_MW': [30, 50, 120, 80]  # Most load at buses 2 and 3\n",
    "})\n",
    "\n",
    "# Simplified transmission (adjacent buses connected)\n",
    "lines = [(0,1), (1,2), (2,3)]\n",
    "line_limit = 100  # MW on each line\n",
    "\n",
    "# Variables\n",
    "gen_vars = {}\n",
    "for idx, g in gen_data.iterrows():\n",
    "    gen_vars[g['Gen']] = pulp.LpVariable(g['Gen'], \n",
    "                                         lowBound=g['Min_MW'], \n",
    "                                         upBound=g['Max_MW'])\n",
    "\n",
    "flow_vars = {}\n",
    "for line in lines:\n",
    "    # Bidirectional flows\n",
    "    flow_vars[line] = pulp.LpVariable(f\"Flow_{line[0]}_{line[1]}\", \n",
    "                                     lowBound=-line_limit, \n",
    "                                     upBound=line_limit)\n",
    "\n",
    "# Objective: minimize generation cost\n",
    "prob_analysis += pulp.lpSum(gen_data.loc[gen_data['Gen']==g, 'Cost_$/MWh'].values[0] * gen_vars[g] \n",
    "                           for g in gen_vars)\n",
    "\n",
    "# Constraints\n",
    "# Power balance at each bus\n",
    "for bus in range(4):\n",
    "    # Generation at this bus\n",
    "    gen_at_bus = pulp.lpSum(gen_vars[g] for g in gen_data[gen_data['Bus']==bus]['Gen'])\n",
    "    \n",
    "    # Load at this bus\n",
    "    load_at_bus = load_data[load_data['Bus']==bus]['Load_MW'].values[0]\n",
    "    \n",
    "    # Net flow (positive = export)\n",
    "    flow_out = pulp.lpSum(flow_vars[line] for line in lines if line[0]==bus)\n",
    "    flow_in = pulp.lpSum(-flow_vars[line] for line in lines if line[1]==bus)\n",
    "    \n",
    "    prob_analysis += gen_at_bus - load_at_bus - flow_out - flow_in == 0, f\"Balance_Bus_{bus}\"\n",
    "\n",
    "# Must-run constraint for nuclear\n",
    "prob_analysis += gen_vars['Nuclear'] == 100, \"Nuclear_Must_Run\"\n",
    "\n",
    "# Wind availability constraint (forecast)\n",
    "wind_available = 60\n",
    "prob_analysis += gen_vars['Wind'] <= wind_available, \"Wind_Availability\"\n",
    "\n",
    "# Solve\n",
    "prob_analysis.solve()\n",
    "\n",
    "print(\"SOLUTION ANALYSIS\")\n",
    "print(\"=\" * 60)\n",
    "print(f\"Status: {pulp.LpStatus[prob_analysis.status]}\")\n",
    "print(f\"Total Cost: ${pulp.value(prob_analysis.objective):.2f}\")\n",
    "\n",
    "# Primal solution\n",
    "print(\"\\n1. PRIMAL SOLUTION (Generation):\")\n",
    "print(\"Generator\\tOutput (MW)\\tCost ($/MWh)\\tTotal Cost ($)\")\n",
    "print(\"-\" * 60)\n",
    "total_gen = 0\n",
    "for g in gen_vars:\n",
    "    output = gen_vars[g].varValue\n",
    "    cost_rate = gen_data.loc[gen_data['Gen']==g, 'Cost_$/MWh'].values[0]\n",
    "    total_gen += output\n",
    "    print(f\"{g}\\t\\t{output:.1f}\\t\\t{cost_rate}\\t\\t{output * cost_rate:.2f}\")\n",
    "print(f\"\\nTotal Generation: {total_gen:.1f} MW\")\n",
    "print(f\"Total Load: {load_data['Load_MW'].sum()} MW\")"
   ]
  },
  {
   "cell_type": "code",
   "execution_count": 57,
   "metadata": {
    "editable": true,
    "slideshow": {
     "slide_type": ""
    },
    "tags": []
   },
   "outputs": [
    {
     "name": "stdout",
     "output_type": "stream",
     "text": [
      "\n",
      "2. TRANSMISSION FLOWS:\n",
      "Line 0→1: +50.0 MW (50.0% utilized)\n",
      "Line 1→2: +50.0 MW (50.0% utilized)\n",
      "Line 2→3: -30.0 MW (30.0% utilized)\n"
     ]
    }
   ],
   "source": [
    "# Flow solution\n",
    "print(\"\\n2. TRANSMISSION FLOWS:\")\n",
    "for line in lines:\n",
    "    flow = flow_vars[line].varValue\n",
    "    utilization = abs(flow) / line_limit * 100\n",
    "    print(f\"Line {line[0]}→{line[1]}: {flow:+.1f} MW ({utilization:.1f}% utilized)\")"
   ]
  },
  {
   "cell_type": "code",
   "execution_count": 65,
   "metadata": {
    "editable": true,
    "slideshow": {
     "slide_type": ""
    },
    "tags": []
   },
   "outputs": [
    {
     "name": "stdout",
     "output_type": "stream",
     "text": [
      "\n",
      "3. TRANSMISSION CONGESTION CHECK:\n",
      "Line 0-1: +100.0 MW (100.0% utilized)\n",
      "  *** CONGESTED! ***\n",
      "Line 1-2: +50.0 MW (50.0% utilized)\n",
      "Line 2-3: +20.0 MW (20.0% utilized)\n",
      "\n",
      "Transmission congestion detected! This will create price differences between buses.\n"
     ]
    }
   ],
   "source": [
    "# Check for transmission congestion\n",
    "print(\"\\n3. TRANSMISSION CONGESTION CHECK:\")\n",
    "congested = False\n",
    "for line in lines:\n",
    "    flow = flow_vars[line].varValue\n",
    "    utilization = abs(flow) / line_limit * 100\n",
    "    print(f\"Line {line[0]}-{line[1]}: {flow:+.1f} MW ({utilization:.1f}% utilized)\")\n",
    "    if utilization >= 99:\n",
    "        print(f\"  *** CONGESTED! ***\")\n",
    "        congested = True\n",
    "\n",
    "if congested:\n",
    "    print(\"\\nTransmission congestion detected! This will create price differences between buses.\")"
   ]
  },
  {
   "cell_type": "code",
   "execution_count": 69,
   "metadata": {
    "editable": true,
    "slideshow": {
     "slide_type": ""
    },
    "tags": []
   },
   "outputs": [
    {
     "name": "stdout",
     "output_type": "stream",
     "text": [
      "4. DUAL SOLUTION (Locational Marginal Prices):\n",
      "Bus\tLMP ($/MW)\tInterpretation\n",
      "--------------------------------------------------\n",
      "0\t-25.00\t\tMarginal cost of serving load at Bus 0\n",
      "1\t-40.00\t\tMarginal cost of serving load at Bus 1\n",
      "2\t-40.00\t\tMarginal cost of serving load at Bus 2\n",
      "3\t-40.00\t\tMarginal cost of serving load at Bus 3\n",
      "\n",
      "Value of additional wind: $-35.00/MW\n"
     ]
    }
   ],
   "source": [
    "# Dual solution (shadow prices)\n",
    "print(\"4. DUAL SOLUTION (Locational Marginal Prices):\")\n",
    "print(\"Bus\\tLMP ($/MW)\\tInterpretation\")\n",
    "print(\"-\" * 50)\n",
    "\n",
    "for bus in range(4):\n",
    "    constraint_name = f\"Balance_Bus_{bus}\"\n",
    "    shadow_price = prob_analysis.constraints[constraint_name].pi\n",
    "    lmp = -shadow_price  # Convert to conventional LMP\n",
    "    print(f\"{bus}\\t{lmp:.2f}\\t\\tMarginal cost of serving load at Bus {bus}\")\n",
    "\n",
    "# Special constraints\n",
    "wind_value = prob_analysis.constraints['Wind_Availability'].pi\n",
    "print(f\"\\nValue of additional wind: ${wind_value:.2f}/MW\")\n",
    "if wind_value > 0:\n",
    "    print(f\"Each additional MW of wind saves ${wind_value:.2f}/hour\")"
   ]
  },
  {
   "cell_type": "markdown",
   "metadata": {
    "editable": true,
    "slideshow": {
     "slide_type": ""
    },
    "tags": []
   },
   "source": [
    "The negative shadow prices are correct - it's just a sign convention in linear programming. When we have a power balance constraint like \"Generation - Load = 0\", the shadow price tells us how the objective (total cost) changes if we increase the right-hand side. Increasing the RHS from 0 to 1 means we need 1 MW less generation at that bus, which reduces cost - hence the negative value. To get the conventional Locational Marginal Price (LMP), we simply flip the sign: LMP = -1 × shadow price. So Bus 0 has an LMP of \\\\$25/MW while Buses 1-3 have LMPs of \\\\$40/MW.\n",
    "\n",
    "  This price difference of \\\\$15/MW between Bus 0 and the other buses indicates transmission congestion. It costs \\\\$15/MW more to serve load at Buses 1-3 because we can't fully utilize the cheap generation at Bus 0 due to transmission limits. The positive shadow price for `Wind_Availability` constraint makes sense - if we could have more wind available, we'd reduce costs by using this cheap resource. The value of \\\\$35/MW seems high given wind costs only \\\\$5/MW, which suggests wind is particularly valuable due to its location at Bus 3 near the load centers."
   ]
  },
  {
   "cell_type": "code",
   "execution_count": 70,
   "metadata": {
    "editable": true,
    "slideshow": {
     "slide_type": ""
    },
    "tags": []
   },
   "outputs": [
    {
     "name": "stdout",
     "output_type": "stream",
     "text": [
      "\n",
      "5. REDUCED COSTS:\n",
      "(How much the objective would improve if we forced the variable to change)\n",
      "Nuclear: -15.00 $/MW\n"
     ]
    }
   ],
   "source": [
    "# Reduced costs\n",
    "print(\"\\n5. REDUCED COSTS:\")\n",
    "print(\"(How much the objective would improve if we forced the variable to change)\")\n",
    "for g in gen_vars:\n",
    "    rc = gen_vars[g].dj\n",
    "    if abs(rc) > 0.01:\n",
    "        print(f\"{g}: {rc:.2f} $/MW\")"
   ]
  },
  {
   "cell_type": "code",
   "execution_count": 71,
   "metadata": {
    "editable": true,
    "slideshow": {
     "slide_type": ""
    },
    "tags": []
   },
   "outputs": [
    {
     "name": "stdout",
     "output_type": "stream",
     "text": [
      "\n",
      "6. SENSITIVITY INSIGHTS:\n",
      "LMP range: $-40.00 - $-25.00/MWh\n",
      "Congestion rent: $1050.00/hour\n",
      "\n",
      "Wind is valuable! Each additional MW saves $35.00/hour\n"
     ]
    }
   ],
   "source": [
    "# Sensitivity analysis\n",
    "print(\"\\n6. SENSITIVITY INSIGHTS:\")\n",
    "lmps = [-prob_analysis.constraints[f\"Balance_Bus_{bus}\"].pi for bus in range(4)]\n",
    "max_lmp = max(lmps)\n",
    "min_lmp = min(lmps)\n",
    "print(f\"LMP range: ${min_lmp:.2f} - ${max_lmp:.2f}/MWh\")\n",
    "print(f\"Congestion rent: ${(max_lmp - min_lmp) * min(100, total_gen/4):.2f}/hour\")\n",
    "\n",
    "if prob_analysis.constraints['Wind_Availability'].pi < -0.01:\n",
    "    print(f\"\\nWind is valuable! Each additional MW saves ${-prob_analysis.constraints['Wind_Availability'].pi:.2f}/hour\")"
   ]
  },
  {
   "cell_type": "markdown",
   "metadata": {
    "editable": true,
    "slideshow": {
     "slide_type": ""
    },
    "tags": []
   },
   "source": [
    "```{admonition} Exercise 3: Sensitivity Analysis\n",
    ":class: tip\n",
    "\n",
    "Using the solution above:\n",
    "1. What happens to total cost if we increase transmission capacity by 10 MW?\n",
    "2. Which generator would be most valuable to expand by 50 MW?\n",
    "3. At what gas price would gas generation go to zero?\n",
    "\n",
    "Hint: Use shadow prices and re-solve with parameter changes.\n",
    "```"
   ]
  },
  {
   "cell_type": "code",
   "execution_count": 72,
   "metadata": {
    "editable": true,
    "slideshow": {
     "slide_type": ""
    },
    "tags": []
   },
   "outputs": [],
   "source": [
    "# Exercise 3: Your solution here\n",
    "# Perform sensitivity analysis\n",
    "\n",
    "# Your solution:"
   ]
  },
  {
   "cell_type": "code",
   "execution_count": 74,
   "metadata": {
    "editable": true,
    "slideshow": {
     "slide_type": ""
    },
    "tags": [
     "hide-cell"
    ]
   },
   "outputs": [
    {
     "name": "stdout",
     "output_type": "stream",
     "text": [
      "=== MODIFIED PROBLEM SETUP (to show transmission constraints) ===\n",
      "\n",
      "Generators:\n",
      "       Gen  Bus  Min_MW  Max_MW  Cost_$/MWh  Must_Run\n",
      "0  Nuclear    0     100     100          10      True\n",
      "1     Coal    0      50     200          25     False\n",
      "2      Gas    2       0     150          40     False\n",
      "3     Wind    3       0      80           5     False\n",
      "\n",
      "Loads:\n",
      "   Bus  Load_MW\n",
      "0    0       30\n",
      "1    1       50\n",
      "2    2      120\n",
      "3    3       80\n",
      "\n",
      "Total Load: 280 MW\n",
      "Lines: [(0, 1), (1, 2), (2, 3)], Limit: 100 MW each\n",
      "\n",
      "Note: Cheap generation (Nuclear, Coal) at Bus 0, but load concentrated at Buses 2&3\n",
      "\n",
      "=== SOLVING ORIGINAL PROBLEM ===\n",
      "\n",
      "Original Problem Status: Infeasible\n",
      "Original Total Cost: $5650.00\n",
      "\n",
      "Original Generation:\n",
      "  Nuclear (Bus 0): 100.0 MW at $10/MWh\n",
      "  Coal (Bus 0): 30.0 MW at $25/MWh\n",
      "  Gas (Bus 2): 90.0 MW at $40/MWh\n",
      "  Wind (Bus 3): 60.0 MW at $5/MWh\n",
      "\n",
      "Original Flows:\n",
      "  Line 0→1: +100.0 MW (limit: 100)\n",
      "    ** LINE AT LIMIT! **\n",
      "  Line 1→2: +50.0 MW (limit: 100)\n",
      "  Line 2→3: +20.0 MW (limit: 100)\n",
      "\n",
      "Locational Marginal Prices (showing congestion):\n",
      "  Bus 0: $-25.00/MWh\n",
      "  Bus 1: $-40.00/MWh\n",
      "  Bus 2: $-40.00/MWh\n",
      "  Bus 3: $-40.00/MWh\n",
      "\n",
      "\n",
      "=== TRANSMISSION EXPANSION ANALYSIS ===\n",
      "Increasing all line limits by 10 MW\n",
      "\n",
      "Original cost: $5650.00\n",
      "New cost: $5500.00\n",
      "Savings: $150.00/hour\n",
      "Annual savings (8760 hours): $1,314,000\n",
      "\n",
      "Generation changes:\n",
      "  Coal: 30.0 → 40.0 MW (change: +10.0 MW)\n",
      "  Gas: 90.0 → 80.0 MW (change: -10.0 MW)\n",
      "\n",
      "\n",
      "=== GENERATOR EXPANSION ANALYSIS ===\n",
      "Expand each generator by 50 MW and check cost reduction\n",
      "\n",
      "Expanding Coal by 50 MW:\n",
      "  Cost savings: $0.00/hour\n",
      "  New Coal output: 30.0 MW\n",
      "  Annual value: $0\n",
      "\n",
      "Expanding Gas by 50 MW:\n",
      "  Cost savings: $0.00/hour\n",
      "  New Gas output: 90.0 MW\n",
      "  Annual value: $0\n",
      "\n",
      "Expanding Wind by 50 MW:\n",
      "  Cost savings: $1750.00/hour\n",
      "  New Wind output: 110.0 MW\n",
      "  Annual value: $15,330,000\n",
      "\n",
      "Best generator to expand: Wind\n",
      "Value: $1750.00/hour ($15,330,000/year)\n"
     ]
    }
   ],
   "source": [
    "# Modified problem setup to create transmission constraints\n",
    "# Key change: Put cheap generation far from load\n",
    "gen_data = pd.DataFrame({\n",
    "    'Gen': ['Nuclear', 'Coal', 'Gas', 'Wind'],\n",
    "    'Bus': [0, 0, 2, 3],  # Nuclear and Coal at bus 0 (cheap but far from main load)\n",
    "    'Min_MW': [100, 50, 0, 0],\n",
    "    'Max_MW': [100, 200, 150, 80],\n",
    "    'Cost_$/MWh': [10, 25, 40, 5],  # Wind has small cost to show marginal value\n",
    "    'Must_Run': [True, False, False, False]\n",
    "})\n",
    "\n",
    "# Put most load at bus 2 and 3 (far from cheap generation)\n",
    "load_data = pd.DataFrame({\n",
    "    'Bus': [0, 1, 2, 3],\n",
    "    'Load_MW': [30, 50, 120, 80]  # Most load at buses 2 and 3\n",
    "})\n",
    "\n",
    "lines = [(0,1), (1,2), (2,3)]\n",
    "line_limit = 100  # This will create congestion\n",
    "wind_available = 60\n",
    "\n",
    "print(\"=== MODIFIED PROBLEM SETUP (to show transmission constraints) ===\")\n",
    "print(\"\\nGenerators:\")\n",
    "print(gen_data)\n",
    "print(\"\\nLoads:\")\n",
    "print(load_data)\n",
    "print(f\"\\nTotal Load: {load_data['Load_MW'].sum()} MW\")\n",
    "print(f\"Lines: {lines}, Limit: {line_limit} MW each\")\n",
    "print(\"\\nNote: Cheap generation (Nuclear, Coal) at Bus 0, but load concentrated at Buses 2&3\")\n",
    "\n",
    "# Solve original problem\n",
    "print(\"\\n=== SOLVING ORIGINAL PROBLEM ===\")\n",
    "prob_analysis = pulp.LpProblem(\"Original_Analysis\", pulp.LpMinimize)\n",
    "\n",
    "# Variables\n",
    "gen_vars = {}\n",
    "for idx, g in gen_data.iterrows():\n",
    "    gen_vars[g['Gen']] = pulp.LpVariable(g['Gen'], \n",
    "                                         lowBound=g['Min_MW'], \n",
    "                                         upBound=g['Max_MW'])\n",
    "\n",
    "flow_vars = {}\n",
    "for line in lines:\n",
    "    flow_vars[line] = pulp.LpVariable(f\"Flow_{line[0]}_{line[1]}\", \n",
    "                                     lowBound=-line_limit, \n",
    "                                     upBound=line_limit)\n",
    "\n",
    "# Objective\n",
    "prob_analysis += pulp.lpSum(gen_data.loc[gen_data['Gen']==g, 'Cost_$/MWh'].values[0] * gen_vars[g] \n",
    "                           for g in gen_vars)\n",
    "\n",
    "# Constraints\n",
    "for bus in range(4):\n",
    "    gen_at_bus = pulp.lpSum(gen_vars[g] for g in gen_data[gen_data['Bus']==bus]['Gen'])\n",
    "    load_at_bus = load_data[load_data['Bus']==bus]['Load_MW'].values[0]\n",
    "    flow_out = pulp.lpSum(flow_vars[line] for line in lines if line[0]==bus)\n",
    "    flow_in = pulp.lpSum(-flow_vars[line] for line in lines if line[1]==bus)\n",
    "    \n",
    "    prob_analysis += gen_at_bus - load_at_bus - flow_out - flow_in == 0, f\"Balance_Bus_{bus}\"\n",
    "\n",
    "prob_analysis += gen_vars['Nuclear'] == 100, \"Nuclear_Must_Run\"\n",
    "prob_analysis += gen_vars['Wind'] <= wind_available, \"Wind_Availability\"\n",
    "\n",
    "# Solve with suppressed output\n",
    "prob_analysis.solve(pulp.PULP_CBC_CMD(msg=0))\n",
    "\n",
    "print(f\"\\nOriginal Problem Status: {pulp.LpStatus[prob_analysis.status]}\")\n",
    "original_cost = pulp.value(prob_analysis.objective)\n",
    "print(f\"Original Total Cost: ${original_cost:.2f}\")\n",
    "\n",
    "# Display original solution\n",
    "print(\"\\nOriginal Generation:\")\n",
    "original_gen = {}\n",
    "for g in gen_vars:\n",
    "    original_gen[g] = gen_vars[g].varValue\n",
    "    cost = gen_data.loc[gen_data['Gen']==g, 'Cost_$/MWh'].values[0]\n",
    "    bus = gen_data.loc[gen_data['Gen']==g, 'Bus'].values[0]\n",
    "    print(f\"  {g} (Bus {bus}): {gen_vars[g].varValue:.1f} MW at ${cost}/MWh\")\n",
    "\n",
    "print(\"\\nOriginal Flows:\")\n",
    "for line in lines:\n",
    "    flow = flow_vars[line].varValue\n",
    "    print(f\"  Line {line[0]}→{line[1]}: {flow:+.1f} MW (limit: {line_limit})\")\n",
    "    if abs(flow) >= line_limit - 0.1:\n",
    "        print(f\"    ** LINE AT LIMIT! **\")\n",
    "\n",
    "# Check LMPs to see congestion\n",
    "print(\"\\nLocational Marginal Prices (showing congestion):\")\n",
    "for bus in range(4):\n",
    "    lmp = -prob_analysis.constraints[f\"Balance_Bus_{bus}\"].pi\n",
    "    print(f\"  Bus {bus}: ${lmp:.2f}/MWh\")\n",
    "\n",
    "# Now test transmission expansion\n",
    "print(\"\\n\\n=== TRANSMISSION EXPANSION ANALYSIS ===\")\n",
    "print(\"Increasing all line limits by 10 MW\")\n",
    "\n",
    "prob_trans_exp = pulp.LpProblem(\"Transmission_Expansion\", pulp.LpMinimize)\n",
    "\n",
    "gen_vars_exp = {}\n",
    "for idx, g in gen_data.iterrows():\n",
    "    gen_vars_exp[g['Gen']] = pulp.LpVariable(g['Gen'], \n",
    "                                             lowBound=g['Min_MW'], \n",
    "                                             upBound=g['Max_MW'])\n",
    "\n",
    "flow_vars_exp = {}\n",
    "new_limit = line_limit + 10\n",
    "for line in lines:\n",
    "    flow_vars_exp[line] = pulp.LpVariable(f\"Flow_{line[0]}_{line[1]}\", \n",
    "                                          lowBound=-new_limit, \n",
    "                                          upBound=new_limit)\n",
    "\n",
    "# Same objective\n",
    "prob_trans_exp += pulp.lpSum(gen_data.loc[gen_data['Gen']==g, 'Cost_$/MWh'].values[0] * gen_vars_exp[g] \n",
    "                             for g in gen_vars_exp)\n",
    "\n",
    "# Same constraints with new variables\n",
    "for bus in range(4):\n",
    "    gen_at_bus = pulp.lpSum(gen_vars_exp[g] for g in gen_data[gen_data['Bus']==bus]['Gen'])\n",
    "    load_at_bus = load_data[load_data['Bus']==bus]['Load_MW'].values[0]\n",
    "    flow_out = pulp.lpSum(flow_vars_exp[line] for line in lines if line[0]==bus)\n",
    "    flow_in = pulp.lpSum(-flow_vars_exp[line] for line in lines if line[1]==bus)\n",
    "    prob_trans_exp += gen_at_bus - load_at_bus - flow_out - flow_in == 0, f\"Balance_Bus_{bus}\"\n",
    "\n",
    "prob_trans_exp += gen_vars_exp['Nuclear'] == 100, \"Nuclear_Must_Run\"\n",
    "prob_trans_exp += gen_vars_exp['Wind'] <= wind_available, \"Wind_Availability\"\n",
    "\n",
    "prob_trans_exp.solve(pulp.PULP_CBC_CMD(msg=0))\n",
    "\n",
    "new_cost = pulp.value(prob_trans_exp.objective)\n",
    "savings = original_cost - new_cost\n",
    "\n",
    "print(f\"\\nOriginal cost: ${original_cost:.2f}\")\n",
    "print(f\"New cost: ${new_cost:.2f}\")\n",
    "print(f\"Savings: ${savings:.2f}/hour\")\n",
    "print(f\"Annual savings (8760 hours): ${savings * 8760:,.0f}\")\n",
    "\n",
    "# Show generation changes\n",
    "print(\"\\nGeneration changes:\")\n",
    "for g in gen_vars:\n",
    "    old = original_gen[g]\n",
    "    new = gen_vars_exp[g].varValue\n",
    "    if abs(new - old) > 0.1:\n",
    "        print(f\"  {g}: {old:.1f} → {new:.1f} MW (change: {new-old:+.1f} MW)\")\n",
    "\n",
    "# Generator expansion analysis\n",
    "print(\"\\n\\n=== GENERATOR EXPANSION ANALYSIS ===\")\n",
    "print(\"Expand each generator by 50 MW and check cost reduction\")\n",
    "\n",
    "expansion_value = {}\n",
    "for gen_to_expand in ['Coal', 'Gas', 'Wind']:  # Test all except must-run Nuclear\n",
    "    prob_gen_exp = pulp.LpProblem(f\"Expand_{gen_to_expand}\", pulp.LpMinimize)\n",
    "    \n",
    "    gen_vars_gen_exp = {}\n",
    "    for idx, g in gen_data.iterrows():\n",
    "        if g['Gen'] == gen_to_expand:\n",
    "            if gen_to_expand == 'Wind':\n",
    "                # For wind, also need to increase availability\n",
    "                new_max = min(g['Max_MW'] + 50, wind_available + 50)\n",
    "            else:\n",
    "                new_max = g['Max_MW'] + 50\n",
    "            gen_vars_gen_exp[g['Gen']] = pulp.LpVariable(g['Gen'], \n",
    "                                                         lowBound=g['Min_MW'], \n",
    "                                                         upBound=new_max)\n",
    "        else:\n",
    "            gen_vars_gen_exp[g['Gen']] = pulp.LpVariable(g['Gen'], \n",
    "                                                         lowBound=g['Min_MW'], \n",
    "                                                         upBound=g['Max_MW'])\n",
    "    \n",
    "    flow_vars_gen_exp = {line: pulp.LpVariable(f\"Flow_{line[0]}_{line[1]}\", \n",
    "                                               lowBound=-line_limit, upBound=line_limit) \n",
    "                         for line in lines}\n",
    "    \n",
    "    prob_gen_exp += pulp.lpSum(gen_data.loc[gen_data['Gen']==g, 'Cost_$/MWh'].values[0] * gen_vars_gen_exp[g] \n",
    "                               for g in gen_vars_gen_exp)\n",
    "    \n",
    "    for bus in range(4):\n",
    "        gen_at_bus = pulp.lpSum(gen_vars_gen_exp[g] for g in gen_data[gen_data['Bus']==bus]['Gen'])\n",
    "        load_at_bus = load_data[load_data['Bus']==bus]['Load_MW'].values[0]\n",
    "        flow_out = pulp.lpSum(flow_vars_gen_exp[line] for line in lines if line[0]==bus)\n",
    "        flow_in = pulp.lpSum(-flow_vars_gen_exp[line] for line in lines if line[1]==bus)\n",
    "        prob_gen_exp += gen_at_bus - load_at_bus - flow_out - flow_in == 0, f\"Balance_Bus_{bus}\"\n",
    "    \n",
    "    prob_gen_exp += gen_vars_gen_exp['Nuclear'] == 100, \"Nuclear_Must_Run\"\n",
    "    \n",
    "    # Adjust wind constraint if expanding wind\n",
    "    if gen_to_expand == 'Wind':\n",
    "        prob_gen_exp += gen_vars_gen_exp['Wind'] <= wind_available + 50, \"Wind_Availability\"\n",
    "    else:\n",
    "        prob_gen_exp += gen_vars_gen_exp['Wind'] <= wind_available, \"Wind_Availability\"\n",
    "    \n",
    "    prob_gen_exp.solve(pulp.PULP_CBC_CMD(msg=0))\n",
    "    \n",
    "    exp_cost = pulp.value(prob_gen_exp.objective)\n",
    "    expansion_value[gen_to_expand] = original_cost - exp_cost\n",
    "    \n",
    "    print(f\"\\nExpanding {gen_to_expand} by 50 MW:\")\n",
    "    print(f\"  Cost savings: ${expansion_value[gen_to_expand]:.2f}/hour\")\n",
    "    print(f\"  New {gen_to_expand} output: {gen_vars_gen_exp[gen_to_expand].varValue:.1f} MW\")\n",
    "    print(f\"  Annual value: ${expansion_value[gen_to_expand] * 8760:,.0f}\")\n",
    "\n",
    "best_expansion = max(expansion_value, key=expansion_value.get)\n",
    "print(f\"\\nBest generator to expand: {best_expansion}\")\n",
    "print(f\"Value: ${expansion_value[best_expansion]:.2f}/hour (${expansion_value[best_expansion] * 8760:,.0f}/year)\")"
   ]
  },
  {
   "cell_type": "code",
   "execution_count": 76,
   "metadata": {
    "editable": true,
    "slideshow": {
     "slide_type": ""
    },
    "tags": [
     "hide-cell"
    ]
   },
   "outputs": [
    {
     "name": "stdout",
     "output_type": "stream",
     "text": [
      "\n",
      "\n",
      "=== GAS PRICE SENSITIVITY ===\n",
      "Find gas price where gas generation changes\n",
      "Gas price $20/MWh → Gas: 70.0 MW, Coal: 50.0 MW\n",
      "Gas price $25/MWh → Gas: 90.0 MW, Coal: 30.0 MW\n",
      "Gas price $30/MWh → Gas: 90.0 MW, Coal: 30.0 MW\n",
      "Gas price $35/MWh → Gas: 90.0 MW, Coal: 30.0 MW\n",
      "Gas price $40/MWh → Gas: 90.0 MW, Coal: 30.0 MW\n",
      "Gas price $45/MWh → Gas: 90.0 MW, Coal: 30.0 MW\n"
     ]
    },
    {
     "data": {
      "image/png": "[encoded data removed]",
      "text/plain": [
       "<Figure size 1000x600 with 1 Axes>"
      ]
     },
     "metadata": {},
     "output_type": "display_data"
    },
    {
     "name": "stdout",
     "output_type": "stream",
     "text": [
      "\n",
      "\n",
      "=== KEY INSIGHTS ===\n",
      "1. Transmission constraints create price differences between buses\n",
      "2. Line 0→1 is congested, limiting cheap generation export from Bus 0\n",
      "3. Transmission expansion saves $150.00/hour by relieving congestion\n",
      "4. Wind expansion is most valuable ($1750.00/hour)\n",
      "5. Gas becomes competitive with Coal at lower prices due to its location near load\n"
     ]
    }
   ],
   "source": [
    "# Gas price sensitivity\n",
    "print(\"\\n\\n=== GAS PRICE SENSITIVITY ===\")\n",
    "print(\"Find gas price where gas generation changes\")\n",
    "\n",
    "gas_prices = range(20, 50, 5)\n",
    "gas_generation = []\n",
    "coal_generation = []\n",
    "\n",
    "for gas_price in gas_prices:\n",
    "    prob_gas = pulp.LpProblem(f\"Gas_Price_{gas_price}\", pulp.LpMinimize)\n",
    "    \n",
    "    gen_vars_gas = {}\n",
    "    for idx, g in gen_data.iterrows():\n",
    "        gen_vars_gas[g['Gen']] = pulp.LpVariable(g['Gen'], \n",
    "                                                 lowBound=g['Min_MW'], \n",
    "                                                 upBound=g['Max_MW'])\n",
    "    \n",
    "    flow_vars_gas = {line: pulp.LpVariable(f\"Flow_{line[0]}_{line[1]}\", \n",
    "                                           lowBound=-line_limit, upBound=line_limit) \n",
    "                     for line in lines}\n",
    "    \n",
    "    prob_gas += pulp.lpSum(\n",
    "        (gas_price if g == 'Gas' else gen_data.loc[gen_data['Gen']==g, 'Cost_$/MWh'].values[0]) * gen_vars_gas[g]\n",
    "        for g in gen_vars_gas\n",
    "    )\n",
    "    \n",
    "    for bus in range(4):\n",
    "        gen_at_bus = pulp.lpSum(gen_vars_gas[g] for g in gen_data[gen_data['Bus']==bus]['Gen'])\n",
    "        load_at_bus = load_data[load_data['Bus']==bus]['Load_MW'].values[0]\n",
    "        flow_out = pulp.lpSum(flow_vars_gas[line] for line in lines if line[0]==bus)\n",
    "        flow_in = pulp.lpSum(-flow_vars_gas[line] for line in lines if line[1]==bus)\n",
    "        prob_gas += gen_at_bus - load_at_bus - flow_out - flow_in == 0, f\"Balance_Bus_{bus}\"\n",
    "    \n",
    "    prob_gas += gen_vars_gas['Nuclear'] == 100, \"Nuclear_Must_Run\"\n",
    "    prob_gas += gen_vars_gas['Wind'] <= wind_available, \"Wind_Availability\"\n",
    "    \n",
    "    prob_gas.solve(pulp.PULP_CBC_CMD(msg=0))\n",
    "    \n",
    "    gas_gen = gen_vars_gas['Gas'].varValue\n",
    "    coal_gen = gen_vars_gas['Coal'].varValue\n",
    "    gas_generation.append(gas_gen)\n",
    "    coal_generation.append(coal_gen)\n",
    "    \n",
    "    print(f\"Gas price ${gas_price}/MWh - Gas: {gas_gen:.1f} MW, Coal: {coal_gen:.1f} MW\")\n",
    "\n",
    "# Plot results\n",
    "plt.figure(figsize=(10, 6))\n",
    "plt.plot(gas_prices, gas_generation, 'b-o', linewidth=2, markersize=8, label='Gas Generation')\n",
    "plt.plot(gas_prices, coal_generation, 'r-s', linewidth=2, markersize=8, label='Coal Generation')\n",
    "plt.xlabel('Gas Price ($/MWh)')\n",
    "plt.ylabel('Generation (MW)')\n",
    "plt.title('Generation vs Gas Price (with Transmission Constraints)')\n",
    "plt.grid(True, alpha=0.3)\n",
    "plt.legend()\n",
    "plt.axvline(x=40, color='gray', linestyle='--', alpha=0.5, label='Original Gas Price')\n",
    "plt.tight_layout()\n",
    "plt.show()\n",
    "\n",
    "print(\"\\n\\n=== KEY INSIGHTS ===\")\n",
    "print(f\"1. Transmission constraints create price differences between buses\")\n",
    "print(f\"2. Line 0→1 is congested, limiting cheap generation export from Bus 0\")\n",
    "print(f\"3. Transmission expansion saves ${savings:.2f}/hour by relieving congestion\")\n",
    "print(f\"4. {best_expansion} expansion is most valuable (${expansion_value[best_expansion]:.2f}/hour)\")\n",
    "print(f\"5. Gas becomes competitive with Coal at lower prices due to its location near load\")\n"
   ]
  },
  {
   "cell_type": "markdown",
   "metadata": {
    "editable": true,
    "slideshow": {
     "slide_type": ""
    },
    "tags": [
     "hide-cell"
    ]
   },
   "source": [
    "```{admonition} Why Gas Generation Increases with Price\n",
    ":class: warning\n",
    "\n",
    "This counterintuitive result (gas generation increasing when its price equals coal's price (\\\\$25/MWh)) happens because of transmission constraints and generator locations. When gas is very cheap (\\\\$20/MWh), the optimal solution uses more coal (50 MW) at Bus 0 and less gas (70 MW) at Bus 2. But when gas price rises to \\\\$25/MWh (same as coal), the solution switches to using more gas (90 MW) and less coal (30 MW).\n",
    "\n",
    "The reason is that gas is located at Bus 2, close to the 120 MW load at that bus, while coal at Bus 0 must transmit power through congested lines to reach the load centers. Even though both generators cost \\\\$25/MWh, using local gas avoids transmission losses and congestion costs. The Line 0-1 is already at its 100 MW limit carrying power from cheap nuclear and wind, so additional coal generation would need even more expensive transmission paths. This demonstrates a key power system principle: **location matters as much as generation cost when transmission is constrained**. A more expensive generator near load can be cheaper overall than a distant generator that requires costly transmission.\n",
    "\n",
    "```"
   ]
  },
  {
   "cell_type": "markdown",
   "metadata": {
    "editable": true,
    "slideshow": {
     "slide_type": ""
    },
    "tags": []
   },
   "source": [
    "## 6. Performance Considerations\n",
    "\n",
    "As problems grow in size, performance becomes crucial. Real power system models can have millions of variables and constraints.\n",
    "\n",
    "### Model Building Performance\n",
    "\n",
    "- Use vectorized operations when possible\n",
    "- Pre-calculate parameters outside the model\n",
    "- Avoid nested loops in constraint generation\n",
    "- Consider sparse representations\n",
    "\n",
    "### Solver Performance\n",
    "\n",
    "- **Open-source solvers**: CBC (good), GLPK (basic), HiGHS (excellent)\n",
    "- **Commercial solvers**: Gurobi, CPLEX (much faster for large problems)\n",
    "- **Warm starting**: Use previous solutions as starting points\n",
    "- **Presolve**: Let solver simplify before solving\n",
    "- **Parallel solving**: Modern solvers use multiple cores"
   ]
  },
  {
   "cell_type": "markdown",
   "metadata": {
    "editable": true,
    "slideshow": {
     "slide_type": ""
    },
    "tags": []
   },
   "source": [
    "```{admonition} Exercise 4: Build a Reusable ED Function\n",
    ":class: tip\n",
    "\n",
    "Create a reusable function for economic dispatch that:\n",
    "1. Takes generator data and demand as inputs\n",
    "2. Handles any number of generators\n",
    "3. Returns dispatch, total cost, and LMPs\n",
    "4. Includes optional transmission constraints\n",
    "\n",
    "Test it with different system configurations.\n",
    "```"
   ]
  },
  {
   "cell_type": "code",
   "execution_count": 78,
   "metadata": {
    "editable": true,
    "slideshow": {
     "slide_type": ""
    },
    "tags": []
   },
   "outputs": [],
   "source": [
    "# Exercise 4: Your solution here\n",
    "# Create a reusable economic dispatch function\n",
    "\n",
    "def economic_dispatch(gen_data, demand, transmission=None):\n",
    "    \"\"\"\n",
    "    Solve economic dispatch problem\n",
    "    \n",
    "    Parameters:\n",
    "    gen_data: DataFrame with columns ['name', 'bus', 'min_mw', 'max_mw', 'cost']\n",
    "    demand: Total system demand (MW) or dict of bus demands\n",
    "    transmission: Optional dict of line limits\n",
    "    \n",
    "    Returns:\n",
    "    dict with 'dispatch', 'cost', 'lmps', 'status'\n",
    "    \"\"\"\n",
    "    # Your implementation here\n",
    "    pass\n",
    "\n",
    "# Test your function"
   ]
  },
  {
   "cell_type": "code",
   "execution_count": 79,
   "metadata": {
    "editable": true,
    "slideshow": {
     "slide_type": ""
    },
    "tags": [
     "hide-cell"
    ]
   },
   "outputs": [
    {
     "name": "stdout",
     "output_type": "stream",
     "text": [
      "Testing Reusable Economic Dispatch Function\n",
      "==================================================\n",
      "\n",
      "Test 1: Simple 3-generator system\n",
      "Welcome to the CBC MILP Solver \n",
      "Version: 2.10.3 \n",
      "Build Date: Dec 15 2019 \n",
      "\n",
      "command line - /home/hacui/mambaforge/envs/pct/lib/python3.11/site-packages/pulp/apis/../solverdir/cbc/linux/i64/cbc /tmp/4c57324c38de4deb95c81e09d04e9328-pulp.mps -timeMode elapsed -branch -printingOptions all -solution /tmp/4c57324c38de4deb95c81e09d04e9328-pulp.sol (default strategy 1)\n",
      "At line 2 NAME          MODEL\n",
      "At line 3 ROWS\n",
      "At line 6 COLUMNS\n",
      "At line 13 RHS\n",
      "At line 15 BOUNDS\n",
      "At line 22 ENDATA\n",
      "Problem MODEL has 1 rows, 3 columns and 3 elements\n",
      "Coin0008I MODEL read with 0 errors\n",
      "Option for timeMode changed from cpu to elapsed\n",
      "Presolve 1 (0) rows, 3 (0) columns and 3 (0) elements\n",
      "0  Obj 4130 Primal inf 250 (1)\n",
      "1  Obj 10680\n",
      "Optimal - objective value 10680\n",
      "Optimal objective 10680 - 1 iterations time 0.002\n",
      "Option for printingOptions changed from normal to all\n",
      "Total time (CPU seconds):       0.00   (Wallclock seconds):       0.00\n",
      "\n",
      "Status: Optimal\n",
      "Total cost: $10680.00\n",
      "System LMP: $-28.00/MWh\n",
      "Dispatch: {'G1': '200.0 MW', 'G2': '40.0 MW', 'G3': '160.0 MW'}\n",
      "\n",
      "Test 2: 3-bus system with transmission constraints\n",
      "Welcome to the CBC MILP Solver \n",
      "Version: 2.10.3 \n",
      "Build Date: Dec 15 2019 \n",
      "\n",
      "command line - /home/hacui/mambaforge/envs/pct/lib/python3.11/site-packages/pulp/apis/../solverdir/cbc/linux/i64/cbc /tmp/cfdc256b1bdf474292222d00763107be-pulp.mps -timeMode elapsed -branch -printingOptions all -solution /tmp/cfdc256b1bdf474292222d00763107be-pulp.sol (default strategy 1)\n",
      "At line 2 NAME          MODEL\n",
      "At line 3 ROWS\n",
      "At line 8 COLUMNS\n",
      "At line 21 RHS\n",
      "At line 25 BOUNDS\n",
      "At line 35 ENDATA\n",
      "Problem MODEL has 3 rows, 6 columns and 9 elements\n",
      "Coin0008I MODEL read with 0 errors\n",
      "Option for timeMode changed from cpu to elapsed\n",
      "Presolve 3 (0) rows, 6 (0) columns and 9 (0) elements\n",
      "0  Obj 0 Primal inf 490 (3)\n",
      "3  Obj 5000\n",
      "Optimal - objective value 5000\n",
      "Optimal objective 5000 - 3 iterations time 0.002\n",
      "Option for printingOptions changed from normal to all\n",
      "Total time (CPU seconds):       0.00   (Wallclock seconds):       0.00\n",
      "\n",
      "Status: Optimal\n",
      "Total cost: $5000.00\n",
      "\n",
      "LMPs by bus:\n",
      "  Bus 0: $-25.00/MWh\n",
      "  Bus 1: $-25.00/MWh\n",
      "  Bus 2: $-25.00/MWh\n",
      "\n",
      "Dispatch:\n",
      "  G1 (Bus 0): 150.0 MW\n",
      "  G2 (Bus 1): 0.0 MW\n",
      "  G3 (Bus 2): 80.0 MW\n",
      "\n",
      "Flows:\n",
      "  0 → 1: 40.0 MW\n",
      "  1 → 2: -60.0 MW\n",
      "  0 → 2: 60.0 MW\n",
      "\n",
      "Test 3: Infeasible demand\n",
      "Welcome to the CBC MILP Solver \n",
      "Version: 2.10.3 \n",
      "Build Date: Dec 15 2019 \n",
      "\n",
      "command line - /home/hacui/mambaforge/envs/pct/lib/python3.11/site-packages/pulp/apis/../solverdir/cbc/linux/i64/cbc /tmp/c1441e39280a4c36baea350158797a3f-pulp.mps -timeMode elapsed -branch -printingOptions all -solution /tmp/c1441e39280a4c36baea350158797a3f-pulp.sol (default strategy 1)\n",
      "At line 2 NAME          MODEL\n",
      "At line 3 ROWS\n",
      "At line 6 COLUMNS\n",
      "At line 13 RHS\n",
      "At line 15 BOUNDS\n",
      "At line 22 ENDATA\n",
      "Problem MODEL has 1 rows, 3 columns and 3 elements\n",
      "Coin0008I MODEL read with 0 errors\n",
      "Option for timeMode changed from cpu to elapsed\n",
      "Presolve determined that the problem was infeasible with tolerance of 1e-08\n",
      "Analysis indicates model infeasible or unbounded\n",
      "0  Obj 4130 Primal inf 450 (1)\n",
      "2  Obj 16640 Primal inf 70 (1)\n",
      "Primal infeasible - objective value 16640\n",
      "PrimalInfeasible objective 16640 - 2 iterations time 0.002\n",
      "\n",
      "Result - Linear relaxation infeasible\n",
      "\n",
      "Enumerated nodes:           0\n",
      "Total iterations:           0\n",
      "Time (CPU seconds):         0.00\n",
      "Time (Wallclock Seconds):   0.00\n",
      "\n",
      "Option for printingOptions changed from normal to all\n",
      "Total time (CPU seconds):       0.00   (Wallclock seconds):       0.00\n",
      "\n",
      "Status: Infeasible\n",
      "Cost: None\n",
      "\n",
      "Function successfully handles various system configurations!\n"
     ]
    }
   ],
   "source": [
    "# Solution: Reusable Economic Dispatch Function\n",
    "\n",
    "def economic_dispatch(gen_data, demand, transmission=None):\n",
    "    \"\"\"\n",
    "    Solve economic dispatch problem\n",
    "    \n",
    "    Parameters:\n",
    "    gen_data: DataFrame with columns ['name', 'bus', 'min_mw', 'max_mw', 'cost']\n",
    "    demand: Total system demand (MW) or dict of bus demands\n",
    "    transmission: Optional DataFrame with columns ['from', 'to', 'limit']\n",
    "    \n",
    "    Returns:\n",
    "    dict with 'dispatch', 'cost', 'lmps', 'flows', 'status'\n",
    "    \"\"\"\n",
    "    \n",
    "    # Create problem\n",
    "    prob = pulp.LpProblem(\"Economic_Dispatch\", pulp.LpMinimize)\n",
    "    \n",
    "    # Determine if we have bus-specific demands\n",
    "    if isinstance(demand, dict):\n",
    "        buses = list(set(gen_data['bus'].unique()) | set(demand.keys()))\n",
    "        bus_demand = demand\n",
    "    else:\n",
    "        buses = gen_data['bus'].unique()\n",
    "        # Distribute demand proportionally or put all at bus 0\n",
    "        bus_demand = {buses[0]: demand}\n",
    "    \n",
    "    # Decision variables\n",
    "    gen_vars = {}\n",
    "    for idx, gen in gen_data.iterrows():\n",
    "        gen_vars[gen['name']] = pulp.LpVariable(\n",
    "            gen['name'], \n",
    "            lowBound=gen['min_mw'], \n",
    "            upBound=gen['max_mw']\n",
    "        )\n",
    "    \n",
    "    # Transmission variables if needed\n",
    "    flow_vars = {}\n",
    "    if transmission is not None:\n",
    "        for idx, line in transmission.iterrows():\n",
    "            flow_vars[(line['from'], line['to'])] = pulp.LpVariable(\n",
    "                f\"Flow_{line['from']}_{line['to']}\",\n",
    "                lowBound=-line['limit'],\n",
    "                upBound=line['limit']\n",
    "            )\n",
    "    \n",
    "    # Objective: minimize total cost\n",
    "    prob += pulp.lpSum(gen['cost'] * gen_vars[gen['name']] \n",
    "                      for idx, gen in gen_data.iterrows())\n",
    "    \n",
    "    # Constraints\n",
    "    if transmission is None:\n",
    "        # Simple system-wide balance\n",
    "        prob += (pulp.lpSum(gen_vars[gen['name']] for idx, gen in gen_data.iterrows()) == \n",
    "                sum(bus_demand.values())), \"System_Balance\"\n",
    "    else:\n",
    "        # Bus-wise balance with transmission\n",
    "        for bus in buses:\n",
    "            # Generation at this bus\n",
    "            gen_at_bus = pulp.lpSum(gen_vars[gen['name']] \n",
    "                                   for idx, gen in gen_data.iterrows() \n",
    "                                   if gen['bus'] == bus)\n",
    "            \n",
    "            # Demand at this bus\n",
    "            demand_at_bus = bus_demand.get(bus, 0)\n",
    "            \n",
    "            # Net exports\n",
    "            exports = pulp.lpSum(flow_vars.get((bus, other_bus), 0) \n",
    "                               for other_bus in buses if bus != other_bus)\n",
    "            \n",
    "            # Net imports  \n",
    "            imports = pulp.lpSum(flow_vars.get((other_bus, bus), 0)\n",
    "                               for other_bus in buses if bus != other_bus)\n",
    "            \n",
    "            prob += (gen_at_bus - demand_at_bus - exports + imports == 0, \n",
    "                    f\"Balance_Bus_{bus}\")\n",
    "    \n",
    "    # Solve\n",
    "    prob.solve()\n",
    "    \n",
    "    # Extract results\n",
    "    results = {\n",
    "        'status': pulp.LpStatus[prob.status],\n",
    "        'dispatch': {},\n",
    "        'cost': pulp.value(prob.objective) if prob.status == 1 else None,\n",
    "        'lmps': {},\n",
    "        'flows': {}\n",
    "    }\n",
    "    \n",
    "    if prob.status == 1:  # Optimal\n",
    "        # Generation dispatch\n",
    "        for gen_name, var in gen_vars.items():\n",
    "            results['dispatch'][gen_name] = var.varValue\n",
    "        \n",
    "        # LMPs (shadow prices)\n",
    "        if transmission is None:\n",
    "            # Single system price\n",
    "            results['lmps']['system'] = -prob.constraints['System_Balance'].pi\n",
    "        else:\n",
    "            # Bus-specific LMPs\n",
    "            for bus in buses:\n",
    "                constraint_name = f\"Balance_Bus_{bus}\"\n",
    "                if constraint_name in prob.constraints:\n",
    "                    results['lmps'][bus] = -prob.constraints[constraint_name].pi\n",
    "        \n",
    "        # Flows\n",
    "        for (f, t), var in flow_vars.items():\n",
    "            if abs(var.varValue) > 0.1:\n",
    "                results['flows'][(f, t)] = var.varValue\n",
    "    \n",
    "    return results\n",
    "\n",
    "# Test the function\n",
    "print(\"Testing Reusable Economic Dispatch Function\")\n",
    "print(\"=\" * 50)\n",
    "\n",
    "# Test 1: Simple system\n",
    "print(\"\\nTest 1: Simple 3-generator system\")\n",
    "simple_gens = pd.DataFrame({\n",
    "    'name': ['G1', 'G2', 'G3'],\n",
    "    'bus': [0, 0, 0],\n",
    "    'min_mw': [50, 40, 60],\n",
    "    'max_mw': [200, 150, 180],\n",
    "    'cost': [25, 30, 28]\n",
    "})\n",
    "\n",
    "result1 = economic_dispatch(simple_gens, 400)\n",
    "print(f\"Status: {result1['status']}\")\n",
    "print(f\"Total cost: ${result1['cost']:.2f}\")\n",
    "print(f\"System LMP: ${result1['lmps']['system']:.2f}/MWh\")\n",
    "print(\"Dispatch:\", {k: f\"{v:.1f} MW\" for k, v in result1['dispatch'].items()})\n",
    "\n",
    "# Test 2: Multi-bus with transmission\n",
    "print(\"\\nTest 2: 3-bus system with transmission constraints\")\n",
    "bus_gens = pd.DataFrame({\n",
    "    'name': ['G1', 'G2', 'G3'],\n",
    "    'bus': [0, 1, 2],\n",
    "    'min_mw': [0, 0, 0],\n",
    "    'max_mw': [150, 100, 120],\n",
    "    'cost': [20, 35, 25]\n",
    "})\n",
    "\n",
    "trans_data = pd.DataFrame({\n",
    "    'from': [0, 1, 0],\n",
    "    'to': [1, 2, 2],\n",
    "    'limit': [80, 60, 100]\n",
    "})\n",
    "\n",
    "bus_loads = {0: 50, 1: 100, 2: 80}\n",
    "\n",
    "result2 = economic_dispatch(bus_gens, bus_loads, trans_data)\n",
    "print(f\"Status: {result2['status']}\")\n",
    "print(f\"Total cost: ${result2['cost']:.2f}\")\n",
    "print(\"\\nLMPs by bus:\")\n",
    "for bus, lmp in result2['lmps'].items():\n",
    "    print(f\"  Bus {bus}: ${lmp:.2f}/MWh\")\n",
    "print(\"\\nDispatch:\")\n",
    "for gen, mw in result2['dispatch'].items():\n",
    "    bus = bus_gens[bus_gens['name']==gen]['bus'].values[0]\n",
    "    print(f\"  {gen} (Bus {bus}): {mw:.1f} MW\")\n",
    "print(\"\\nFlows:\")\n",
    "for (f, t), flow in result2['flows'].items():\n",
    "    print(f\"  {f} → {t}: {flow:.1f} MW\")\n",
    "\n",
    "# Test 3: Infeasible case\n",
    "print(\"\\nTest 3: Infeasible demand\")\n",
    "result3 = economic_dispatch(simple_gens, 600)  # Too high\n",
    "print(f\"Status: {result3['status']}\")\n",
    "print(f\"Cost: {result3['cost']}\")\n",
    "\n",
    "print(\"\\nFunction successfully handles various system configurations!\")"
   ]
  },
  {
   "cell_type": "markdown",
   "metadata": {
    "editable": true,
    "slideshow": {
     "slide_type": ""
    },
    "tags": []
   },
   "source": [
    "## Summary\n",
    "\n",
    "This lesson provided hands-on experience with linear programming in Python, focusing on power system applications. Key takeaways:\n",
    "\n",
    "### Tools and Libraries\n",
    "- **SciPy** provides basic LP solving but requires matrix formulation\n",
    "- **PuLP** offers intuitive model building with named variables and constraints\n",
    "- Choose tools based on problem complexity and team familiarity\n",
    "- Commercial solvers provide significant performance benefits for large problems\n",
    "\n",
    "### Model Building Best Practices\n",
    "- Start simple and incrementally add complexity\n",
    "- Use meaningful variable and constraint names\n",
    "- Validate data before building models\n",
    "- Structure code for reusability\n",
    "\n",
    "### Debugging Techniques\n",
    "- Check feasibility by examining constraint conflicts\n",
    "- Use slack variables to diagnose infeasibility\n",
    "- Verify units and sign conventions\n",
    "- Visualize solutions when possible\n",
    "\n",
    "### Solution Analysis\n",
    "- Primal values give optimal decisions\n",
    "- Dual values (shadow prices) indicate constraint values\n",
    "- Sensitivity analysis guides system improvements\n",
    "- Always verify solutions make physical sense\n",
    "\n",
    "### Performance Considerations\n",
    "- Model building time can exceed solving time\n",
    "- Problem structure matters more than size\n",
    "- Consider decomposition for very large systems\n",
    "- Warm starting helps for repeated solves\n",
    "\n",
    "## Next Steps\n",
    "\n",
    "With these LP skills established, you're ready to tackle more complex power system optimization problems. The next lesson explores how these techniques apply to electricity markets, where optimization determines prices and dispatch in competitive environments.\n",
    "\n",
    "Remember: behind every market price and dispatch decision is an optimization problem being solved. Understanding these fundamentals helps you interpret market outcomes and design better systems."
   ]
  }
 ],
 "metadata": {
  "kernelspec": {
   "display_name": "Python 3 (ipykernel)",
   "language": "python",
   "name": "python3"
  },
  "language_info": {
   "codemirror_mode": {
    "name": "ipython",
    "version": 3
   },
   "file_extension": ".py",
   "mimetype": "text/x-python",
   "name": "python",
   "nbconvert_exporter": "python",
   "pygments_lexer": "ipython3",
   "version": "3.11.13"
  }
 },
 "nbformat": 4,
 "nbformat_minor": 4
}
