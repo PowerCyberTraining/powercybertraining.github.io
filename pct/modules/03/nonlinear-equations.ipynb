{
 "cells": [
  {
   "cell_type": "markdown",
   "metadata": {},
   "source": [
    "# Nonlinear Equations"
   ]
  },
  {
   "cell_type": "markdown",
   "metadata": {
    "editable": true,
    "slideshow": {
     "slide_type": ""
    },
    "tags": []
   },
   "source": [
    "| Information | Details |\n",
    "|----------|---------|\n",
    "| Lead Author | Hantao Cui |\n",
    "| Learning Objectives | • Understand nonlinear equation fundamentals<br>• Apply numerical methods for solving nonlinear equations<br>• Use Newton-Raphson method for root finding<br>• Implement solvers using Python and SciPy<br>• Understand residual functions and their importance |\n",
    "| Prerequisites | Python basics, NumPy knowledge |\n",
    "| Estimated Time | 120 minutes |\n",
    "| Topics | Nonlinear equations, Newton-Raphson method, numerical methods, root finding, residual functions, SciPy solvers |\n"
   ]
  },
  {
   "cell_type": "code",
   "execution_count": 1,
   "metadata": {
    "editable": true,
    "slideshow": {
     "slide_type": ""
    },
    "tags": [
     "remove-input"
    ]
   },
   "outputs": [],
   "source": [
    "from jupyterquiz import display_quiz\n",
    "\n",
    "git_url = \"https://raw.githubusercontent.com/PowerCyberTraining/powercybertraining.github.io/refs/heads/cui/pct/modules/04/questions/\"\n",
    "\n",
    "color_dict = {\n",
    "    '--jq-multiple-choice-bg': '#CC0000',      # Wolfpack Red - for multiple choice background\n",
    "    '--jq-mc-button-bg': '#FFFFFF',            # Wolfpack White - for button background\n",
    "    '--jq-mc-button-border': '#E1E1E1',        # Light gray - for button borders\n",
    "    '--jq-mc-button-inset-shadow': '#000000',  # Wolfpack Black - for button shadows\n",
    "    '--jq-many-choice-bg': '#D14905',          # Pyroman Flame - for many choice background\n",
    "    '--jq-numeric-bg': '#427E93',              # Carmichael Aqua - for numeric background\n",
    "    '--jq-numeric-input-bg': '#FFFFFF',        # Wolfpack White - for input background\n",
    "    '--jq-numeric-input-label': '#000000',     # Wolfpack Black - for input label\n",
    "    '--jq-numeric-input-shadow': '#767676',    # Gray - for input shadow\n",
    "    '--jq-incorrect-color': '#990000',         # Reynolds Red - for incorrect answers\n",
    "    '--jq-correct-color': '#4F868E',           # Genomic Green - for correct answers\n",
    "    '--jq-text-color': '#FFFFFF'               # Wolfpack White - for question text\n",
    "}"
   ]
  },
  {
   "cell_type": "markdown",
   "metadata": {
    "editable": true,
    "slideshow": {
     "slide_type": ""
    },
    "tags": []
   },
   "source": [
    "## Introduction to Nonlinear Equations\n",
    "\n",
    "Nonlinear equations are ubiquitous in scientific computing. In power systems,\n",
    "AC power flow equations are nonlinear equations.\n",
    "\n",
    "Start from a univariate scalar function. The standard form of a nonlinear equations is:\n",
    "\n",
    "$$\n",
    "f(x) = 0\n",
    "$$\n",
    "\n",
    "where `f` is the function and `x` is the variable. In other\n",
    "words, solving this nonlinear equation means finding the root of this function. This\n",
    "function is called the **residual** function, because if we plug in non-solutions $x_{nsol}$,\n",
    "`f(x_{nsol})` will be some non-zero value called the **residual**. \n",
    "When we plug in the solution $x_{so  l}$, the value `f(x_{sol})` will be zero. \n",
    "\n",
    "### How Computers Solve Equations\n",
    "\n",
    "It is important to understand that computers do not directly \"solve\" equations in the same way as humans do algebra.\n",
    "Instead, computers find solutions through numerical methods that can find numbers to make the functions evaluate to zero. \n",
    "This key insight is fundamental to computational approaches:\n",
    "\n",
    "**To solve an equation f(x) = g(x), computers reformulate it as finding roots of f(x) - g(x) = 0.**\n",
    "\n",
    "For example, to solve the equation $x^2 = 4$, a computer actually finds where the residual function $r(x) = x^2 - 4$ equals zero. \n",
    "The roots of this residual function ($x = 2$ and $x = -2$) makes the respective residuals $r(2) = r(-2) = 0$.\n",
    "\n",
    "### A Set of Nonlinear Equations\n",
    "\n",
    "Going from a single equation to a set of equations, the standard form becomes:\n",
    "\n",
    "$$\\mathbf{f}(\\mathbf{x}) = 0$$\n",
    "\n",
    "where:\n",
    "- $\\mathbf{f}$ is a vector of functions\n",
    "- $\\mathbf{x}$ is the vector of variables we are solving for\n",
    "\n",
    "Specifically, $\\mathbf{f}$ is a vector of functions of the form:\n",
    "\n",
    "$$\n",
    "\\begin{aligned}\n",
    "f_1(x_1, x_2, ..., x_n) &= 0\\\\\n",
    "f_2(x_1, x_2, ..., x_n) &= 0\\\\\n",
    "&\\vdots\\\\\n",
    "f_m(x_1, x_2, ..., x_n) &= 0\n",
    "\\end{aligned}\n",
    "$$\n",
    "\n",
    "\n",
    "::: {admonition} Tolerance\n",
    ":class: tip\n",
    "\n",
    "In numerical computing, we accept solutions where the residual is smaller than some specified tolerance (e.g., $10_{-6}$.\n",
    "We find inputs that make the residual function sufficiently close to zero.\n",
    "\n",
    ":::"
   ]
  },
  {
   "cell_type": "markdown",
   "metadata": {
    "editable": true,
    "slideshow": {
     "slide_type": ""
    },
    "tags": []
   },
   "source": [
    "::: {admonition} Length of the unknown vector `x`\n",
    ":class: tip\n",
    "\n",
    "The number of elements in the unknown vector $\\mathbf{x}$ is the same as the number of equations.\n",
    "\n",
    ":::\n"
   ]
  },
  {
   "cell_type": "markdown",
   "metadata": {
    "editable": true,
    "slideshow": {
     "slide_type": ""
    },
    "tags": []
   },
   "source": [
    "## Newton Method\n",
    "\n",
    "The Newton-Raphson method is one of the most powerful techniques for solving nonlinear equations. It is worth understanding this fundamental algorithm, as many nonlinear solvers use variations of it.\n",
    "\n",
    "### Basic Concept\n",
    "\n",
    "Newton-Raphson leverages linear approximations to iteratively approach the solution of nonlinear equations. \n",
    "Starting from an initial guess $x_0$, the method uses the tangent line of the function at $x_0$ to approximate the function, and find the root of the tangent line.\n",
    "Repeating this process, we can iteratively approach the root of the function.\n",
    "\n",
    "Starting from $x_0$, based on Taylor series, the tangent line of $f(x)$ at $x_0$ is given by:\n",
    "\n",
    "$$f(x) \\approx f(x_0) + f'(x_0)(x - x_0)$$\n",
    "\n",
    "The root $x_1$ of the first tangent line is given by:\n",
    "\n",
    "$$f(x_0) + f'(x_0)(x_1 - x_0) = 0$$\n",
    "\n",
    "Solving for $x_1$, we get:\n",
    "\n",
    "$$x_1 = x_0 - \\frac{f(x_0)}{f'(x_0)}$$\n",
    "\n",
    "$x_1$ is one step closer to the root of $f(x) = 0$. This process is repeated until the residual is smaller than a specified tolerance.\n",
    "\n",
    "\n",
    "To generalize, for a single equation $f(x) = 0$, iteration $k+1$ is given by:\n",
    "\n",
    "$$x_{k+1} = x_k - \\frac{f(x_k)}{f'(x_k)}$$\n",
    "\n",
    "where $f'(x_k)$ is the derivative evaluated at the current iteration $k$. \n",
    "\n",
    "### Visual Example\n",
    "\n",
    "Let's visualize Newton-Raphson for finding a root of $f(x) = \\cos(x) - x/2$. The residual function $f(x)$ and its derivative $f'(x)$ are given below:"
   ]
  },
  {
   "cell_type": "code",
   "execution_count": 6,
   "metadata": {
    "editable": true,
    "slideshow": {
     "slide_type": ""
    },
    "tags": []
   },
   "outputs": [],
   "source": [
    "import numpy as np\n",
    "\n",
    "\n",
    "def f(x):\n",
    "    return np.cos(x) - x / 2 \n",
    "\n",
    "def df(x):\n",
    "    return -np.sin(x) - 1 / 2\n",
    "\n",
    "\n",
    "def newton_step(x):\n",
    "    return x - f(x) / df(x)"
   ]
  },
  {
   "cell_type": "code",
   "execution_count": 8,
   "metadata": {
    "editable": true,
    "slideshow": {
     "slide_type": ""
    },
    "tags": [
     "remove-input"
    ]
   },
   "outputs": [
    {
     "name": "stdout",
     "output_type": "stream",
     "text": [
      "Iteration 1: x = 2.00000000, f(x) = -1.41614684\n",
      "Iteration 2: x = 0.99513984, f(x) = 0.04681567\n",
      "Iteration 3: x = 1.03010731, f(x) = -0.00032681\n",
      "Iteration 4: x = 1.02986654, f(x) = -0.00000001\n",
      "Iteration 5: x = 1.02986653, f(x) = 0.00000000\n"
     ]
    },
    {
     "data": {
      "image/png": "[encoded data removed]",
      "text/plain": [
       "<Figure size 1000x600 with 1 Axes>"
      ]
     },
     "metadata": {},
     "output_type": "display_data"
    }
   ],
   "source": [
    "import matplotlib.pyplot as plt\n",
    "\n",
    "# Demonstrate Newton-Raphson iteration\n",
    "x = 0.0  # Initial guess\n",
    "iterations = 5\n",
    "x_values = [x]\n",
    "\n",
    "for i in range(iterations):\n",
    "    x = newton_step(x)\n",
    "    x_values.append(x)\n",
    "    print(f\"Iteration {i+1}: x = {x:.8f}, f(x) = {f(x):.8f}\")\n",
    "\n",
    "# Visualization\n",
    "plt.figure(figsize=(10, 6))\n",
    "x_range = np.linspace(-1, 3, 1000)\n",
    "plt.plot(x_range, f(x_range), \"b-\", label=\"f(x) = cos(x) - x/2\")\n",
    "plt.axhline(y=0, color=\"k\", linestyle=\"-\", alpha=0.3)\n",
    "\n",
    "# Plot each iteration\n",
    "colors = [\"r\", \"g\", \"m\", \"c\", \"y\"]\n",
    "for i in range(len(x_values) - 1):\n",
    "    x_current = x_values[i]\n",
    "    x_next = x_values[i + 1]\n",
    "\n",
    "    # Plot the current point\n",
    "    plt.plot(x_current, f(x_current), \"o\", color=colors[i], markersize=8)\n",
    "\n",
    "    # Plot the tangent line\n",
    "    tangent_x = np.linspace(x_current, x_next, 100)\n",
    "    tangent_y = f(x_current) + df(x_current) * (tangent_x - x_current)\n",
    "\n",
    "    plt.plot(\n",
    "        tangent_x, tangent_y, \"--\", color=colors[i], label=f\"Tangent at iteration {i+1}\"\n",
    "    )\n",
    "\n",
    "    # Plot the next x value\n",
    "    plt.plot([x_next, x_next], [0, f(x_next)], color=colors[i], linestyle=\":\")\n",
    "\n",
    "plt.grid(True)\n",
    "plt.legend()\n",
    "plt.title(\"Newton-Raphson Method Visualization\")\n",
    "plt.xlabel(\"x\")\n",
    "plt.ylabel(\"f(x)\")\n",
    "plt.xlim(-1, 3)\n",
    "plt.ylim(-1.5, 1.5)\n",
    "plt.show()"
   ]
  },
  {
   "cell_type": "markdown",
   "metadata": {
    "editable": true,
    "slideshow": {
     "slide_type": ""
    },
    "tags": [
     "remove-input"
    ]
   },
   "source": [
    "Note that the convergence accelerates as we approach the solution. That is, the change in $x$ becomes small after iteration 3 in this example."
   ]
  },
  {
   "cell_type": "markdown",
   "metadata": {
    "editable": true,
    "slideshow": {
     "slide_type": ""
    },
    "tags": []
   },
   "source": [
    "### Extension to Systems of Equations\n",
    "\n",
    "For systems of nonlinear equations, the Newton-Raphson method extends naturally by using the Jacobian matrix:\n",
    "\n",
    "$$\\mathbf{x}_{k+1} = \\mathbf{x}_k - [J(\\mathbf{x}_k)]^{-1} \\mathbf{f}(\\mathbf{x}_k)$$\n",
    "\n",
    "Where:\n",
    "- $\\mathbf{x}_k$ is the vector of variables at iteration $k$\n",
    "- $\\mathbf{f}(\\mathbf{x}_k)$ is the vector of function values (residuals)\n",
    "- $J(\\mathbf{x}_k)$ is the Jacobian matrix of partial derivatives\n",
    "\n",
    "As discussed in the previous lesson, we do not explicitly calculate the inverse. Instead, we solve the linear system:\n",
    "\n",
    "$$J(\\mathbf{x}_k) \\Delta \\mathbf{x}_k = -\\mathbf{f}(\\mathbf{x}_k)$$\n",
    "\n",
    "And then update: $\\mathbf{x}_{k+1} = \\mathbf{x}_k + \\Delta \\mathbf{x}_k$\n"
   ]
  },
  {
   "cell_type": "markdown",
   "metadata": {
    "editable": true,
    "slideshow": {
     "slide_type": ""
    },
    "tags": []
   },
   "source": [
    "### Two-Equation Example\n",
    "Consider this problem from `scipy.optimize.fsolve` documentation:\n",
    "\n",
    "$$\n",
    "x_0 \\cos(x_1) = 4\n",
    "$$\n",
    "\n",
    "$$\n",
    "x_1 x_0 - x_1 = 5\n",
    "$$"
   ]
  },
  {
   "cell_type": "markdown",
   "metadata": {
    "editable": true,
    "slideshow": {
     "slide_type": ""
    },
    "tags": []
   },
   "source": [
    "We can define the residual function and the analytical Jacobian matrix (more on this later) as follows."
   ]
  },
  {
   "cell_type": "code",
   "execution_count": 12,
   "metadata": {
    "editable": true,
    "slideshow": {
     "slide_type": ""
    },
    "tags": []
   },
   "outputs": [],
   "source": [
    "def residual(x):\n",
    "    return np.array([x[0] * np.cos(x[1]) - 4, x[0] * x[1] - x[1] - 5])\n",
    "\n",
    "\n",
    "def J(x):\n",
    "    return np.array([[np.cos(x[1]), -x[0] * np.sin(x[1])], [x[1], x[0] - 1]])"
   ]
  },
  {
   "cell_type": "markdown",
   "metadata": {},
   "source": [
    "Next, we write the Newton method as a function, using an existing linear matrix solver from NumPy."
   ]
  },
  {
   "cell_type": "code",
   "execution_count": 13,
   "metadata": {
    "editable": true,
    "slideshow": {
     "slide_type": ""
    },
    "tags": []
   },
   "outputs": [],
   "source": [
    "from numpy.linalg import solve\n",
    "\n",
    "\n",
    "def newton_raphson(F, J, x0, tol=1e-6, max_iter=20):\n",
    "    \"\"\"\n",
    "    Solve a system of nonlinear equations using Newton-Raphson method.\n",
    "\n",
    "    Parameters\n",
    "    ----------\n",
    "        F - Function that returns the residuals\n",
    "        J - Function that returns the Jacobian matrix\n",
    "        x0 - Initial guess\n",
    "        tol - Convergence tolerance\n",
    "        max_iter - Maximum number of iterations\n",
    "\n",
    "    Returns\n",
    "    -------\n",
    "        x - Solution vector\n",
    "        iterations - Number of iterations performed\n",
    "    \"\"\"\n",
    "\n",
    "    x = x0.copy()\n",
    "\n",
    "    for iter in range(max_iter):\n",
    "        f = F(x)\n",
    "\n",
    "        # Early termination if tolerance met\n",
    "        if np.linalg.norm(f) < tol:\n",
    "            return x, iter\n",
    "\n",
    "        jacobian = J(x)\n",
    "\n",
    "        try:\n",
    "            dx = solve(jacobian, -f)\n",
    "        except np.linalg.LinAlgError:\n",
    "            print(\"Jacobian matrix is singular.\")\n",
    "            return x, iter\n",
    "\n",
    "        x = x + dx\n",
    "\n",
    "        print(f\"Iteration {iter+1}: ||f(x)|| = {np.linalg.norm(f):.8f}\")\n",
    "\n",
    "    print(\"Maximum iterations reached without convergence.\")\n",
    "    return x, max_iter"
   ]
  },
  {
   "cell_type": "code",
   "execution_count": 14,
   "metadata": {
    "editable": true,
    "slideshow": {
     "slide_type": ""
    },
    "tags": []
   },
   "outputs": [
    {
     "name": "stdout",
     "output_type": "stream",
     "text": [
      "Iteration 1: ||f(x)|| = 6.08025560\n",
      "Iteration 2: ||f(x)|| = 4.91726997\n",
      "Iteration 3: ||f(x)|| = 2.10781410\n",
      "Iteration 4: ||f(x)|| = 0.38973132\n",
      "Iteration 5: ||f(x)|| = 0.00769602\n",
      "Iteration 6: ||f(x)|| = 0.00000361\n",
      "\n",
      "Solution: x = 6.504097, y = 0.908414\n",
      "Check: f1 = -0.00000000, f2 = 0.00000000\n"
     ]
    }
   ],
   "source": [
    "# Initial guess\n",
    "x0 = np.array([1.0, 1.0])\n",
    "\n",
    "# Solve the system\n",
    "solution, iterations = newton_raphson(residual, J, x0)\n",
    "print(f\"\\nSolution: x = {solution[0]:.6f}, y = {solution[1]:.6f}\")\n",
    "print(f\"Check: f1 = {residual(solution)[0]:.8f}, f2 = {residual(solution)[1]:.8f}\")"
   ]
  },
  {
   "cell_type": "markdown",
   "metadata": {
    "editable": true,
    "slideshow": {
     "slide_type": ""
    },
    "tags": []
   },
   "source": [
    "### Convergence Properties\n",
    "\n",
    "The Newton-Raphson method has several important convergence characteristics:\n",
    "\n",
    "1. **Quadratic Convergence**: Near a solution, the error approximately squares with each iteration. This means the number of correct digits roughly doubles each step. It makes Newton method faster than first-order methods like bisection or fixed-point iteration.\n",
    "\n",
    "2. **Initial Guess Sensitivity**: The method can be sensitive to the starting point:\n",
    "   - With a good initial guess, convergence is rapid\n",
    "   - With a poor initial guess, the method might converge slowly or even diverge\n",
    "   - Near points where the derivative is zero, the method can behave erratically\n",
    "\n",
    "3. **Convergence Criteria**: In practice, we typically check both:\n",
    "   - The residual norm: $||\\mathbf{f}(\\mathbf{x}_k)|| < \\epsilon_f$\n",
    "   - The step size: $||\\Delta \\mathbf{x}_k|| < \\epsilon_x$"
   ]
  },
  {
   "cell_type": "markdown",
   "metadata": {
    "editable": true,
    "slideshow": {
     "slide_type": ""
    },
    "tags": []
   },
   "source": [
    "## Numerical Solution using SciPy\n",
    "\n",
    "\n",
    "### Basic Usage\n",
    "In practice, we can use off-the-shelf solvers in Python for simple problems.\n",
    "\n",
    "`fsolve` is a function in `scipy.optimize` for root-finding. We can check the\n",
    "docstring by typing `?fsolve` in a Jupyter cell or visiting the [documentation](https://docs.scipy.org/doc/scipy/reference/generated/scipy.optimize.fsolve.html).\n",
    "\n"
   ]
  },
  {
   "cell_type": "code",
   "execution_count": 20,
   "metadata": {},
   "outputs": [
    {
     "name": "stdout",
     "output_type": "stream",
     "text": [
      "[6.50409711 0.90841421]\n"
     ]
    },
    {
     "data": {
      "text/plain": [
       "array([ True,  True])"
      ]
     },
     "execution_count": 20,
     "metadata": {},
     "output_type": "execute_result"
    }
   ],
   "source": [
    "from scipy.optimize import fsolve\n",
    "\n",
    "x0 = np.array([1, 1])\n",
    "sol = fsolve(residual, x0)\n",
    "print(sol)\n",
    "\n",
    "np.isclose(residual(sol), [0.0, 0.0])"
   ]
  },
  {
   "cell_type": "markdown",
   "metadata": {
    "editable": true,
    "slideshow": {
     "slide_type": ""
    },
    "tags": []
   },
   "source": [
    "### Jacobian Matrix\n",
    "\n",
    "We have seen the two-equation example in the previous method. We will discuss more on the Jacobian matrix next. \n",
    "\n",
    "SciPy's `fsolve` uses the [Powell's hybrid\n",
    "method](https://en.wikipedia.org/wiki/Powell%27s_dog_leg_method), which combines\n",
    "\n",
    "- Newton-Raphson steps for fast convergence when near the solution\n",
    "- Gradient descent characteristics for improved stability when far from the solution\n",
    "\n",
    "This hybrid approach retains the rapid convergence of Newton-Raphson while improving reliability for a wider range of initial guesses. This method requires the Jacobian matrix.\n",
    "\n",
    "Calculating the Jacobian matrix is computationally expensive. By default,\n",
    "`fsolve` uses the `hybrd` method in MINPACK, which calculates the numerical Jacobian\n",
    "matrix using [divided difference](https://en.wikipedia.org/wiki/Divided_differences). For each column of the Jacobian matrix, two\n",
    "evaluations of the residual functions are needed, resulting in a total of `2N`\n",
    "residual evaluations for an N-dimensional problem.\n",
    "\n",
    "Providing the Jacobian matrix can speed up the calculation. This is one of the\n",
    "reasons why texts on power system analysis always show Jacobian matrix. \n",
    "\n",
    "`fsolve` allows specifying the function that provides the Jacobian matrix\n",
    "through the `fprime` argument."
   ]
  },
  {
   "cell_type": "markdown",
   "metadata": {},
   "source": [
    "To clarify, the Jacobian function is the first-order derivative of the\n",
    "**residual function** w.r.t the unknown variables. It is not necessarily the\n",
    "derivative of the **original function** w.r.t the unknown variables.\n",
    "\n",
    "In our example, the residual function is:\n",
    "\n",
    "$$\n",
    "\\mathbf{r} = \n",
    "\\begin{bmatrix}\n",
    "r_0 \\\\\n",
    "r_1\n",
    "\\end{bmatrix}\n",
    "= \n",
    "\\begin{bmatrix}\n",
    "x_0 \\cos(x_1) - 4 \\\\\n",
    "x_0 x_1 - x_1 - 5\n",
    "\\end{bmatrix}\n",
    "$$\n",
    "\n",
    "Since the unknowns are\n",
    "\n",
    "$$\n",
    "\\mathbf{x} = \\begin{bmatrix}\n",
    "x_0 \\\\\n",
    "x_1\n",
    "\\end{bmatrix}\n",
    "$$\n",
    "\n",
    "Therefore, the **analytical** Jacobian matrix is:\n",
    "\n",
    "$$\n",
    "J = \\begin{bmatrix}\n",
    "\\frac{\\partial r_{0}}{\\partial x_{0}} & \\frac{\\partial r_{0}}{\\partial x_{1}} \\\\\n",
    "\\frac{\\partial r_{1}}{\\partial x_{0}} & \\frac{\\partial r_{1}}{\\partial x_{1}}\n",
    "\\end{bmatrix} = \n",
    "\\begin{bmatrix}\n",
    "\\cos(x_1) & -x_0 \\sin(x_1) \\\\\n",
    "x_1 & x_0 - 1\n",
    "\\end{bmatrix}\n",
    "$$\n",
    "\n",
    "It is called the analytical Jacobian matrix because it is derived based on\n",
    "calculus. "
   ]
  },
  {
   "cell_type": "code",
   "execution_count": 22,
   "metadata": {},
   "outputs": [
    {
     "name": "stdout",
     "output_type": "stream",
     "text": [
      "[6.50409711 0.90841421]\n"
     ]
    },
    {
     "data": {
      "text/plain": [
       "array([ True,  True])"
      ]
     },
     "execution_count": 22,
     "metadata": {},
     "output_type": "execute_result"
    }
   ],
   "source": [
    "def jacobian_analytical(x):\n",
    "    return np.array([[np.cos(x[1]), -x[0] * np.sin(x[1])], [x[1], x[0] - 1]])\n",
    "\n",
    "\n",
    "sol = fsolve(residual, x0, fprime=jacobian_analytical)\n",
    "print(sol)\n",
    "\n",
    "np.isclose(residual(sol), [0.0, 0.0])"
   ]
  },
  {
   "cell_type": "markdown",
   "metadata": {},
   "source": [
    "In this small example, we cannot see the performance gain from providing the\n",
    "Jacobian matrix. However, the impact can be significant in complex problems like power flow calculation."
   ]
  },
  {
   "cell_type": "markdown",
   "metadata": {
    "editable": true,
    "slideshow": {
     "slide_type": ""
    },
    "tags": []
   },
   "source": [
    "### Numerical Jacobian Calculation"
   ]
  },
  {
   "cell_type": "markdown",
   "metadata": {},
   "source": [
    "When we don't specify the Jacobian matrix, `fsolve` approximates it using a divided difference approach. Each element of the Jacobian matrix is calculated as:\n",
    "\n",
    "$$J_{ij} = \\frac{\\partial f_i}{\\partial x_j} \\approx \\frac{f_i(x + h_j e_j) - f_i(x)}{h_j}$$\n",
    "\n",
    "where:\n",
    "\n",
    "- $J_{ij}$ is the $(i,j)$ element of the Jacobian matrix\n",
    "- $f_i$ is the $i$-th function in the system\n",
    "- $x_j$ is the $j$-th variable\n",
    "- $h_j$ is a small step size for variable $j$\n",
    "- $e_j$ is the unit vector in the direction of $x_j$\n",
    "\n",
    "Let's implement this numerical approximation to see how it works:"
   ]
  },
  {
   "cell_type": "code",
   "execution_count": 23,
   "metadata": {},
   "outputs": [],
   "source": [
    "def jacobian_numerical(func, x, eps=1e-6):\n",
    "    \"\"\"\n",
    "    Calculate the Jacobian matrix using finite differences.\n",
    "    \"\"\"\n",
    "\n",
    "    n = len(x)\n",
    "    f0 = func(x)\n",
    "    m = len(f0)\n",
    "    J = np.zeros((m, n))\n",
    "\n",
    "    for j in range(n):\n",
    "        # Create a copy of x with a small perturbation in the j-th element\n",
    "        x_perturbed = x.copy()\n",
    "        x_perturbed[j] += eps\n",
    "\n",
    "        # Calculate the perturbed function values\n",
    "        f1 = func(x_perturbed)\n",
    "\n",
    "        # Compute the j-th column of the Jacobian\n",
    "        J[:, j] = (f1 - f0) / eps\n",
    "\n",
    "    return J"
   ]
  },
  {
   "cell_type": "code",
   "execution_count": 25,
   "metadata": {},
   "outputs": [
    {
     "name": "stdout",
     "output_type": "stream",
     "text": [
      "Numerical Jacobian matrix:\n",
      "[[ 0.54030231 -0.84147125]\n",
      " [ 1.          0.        ]]\n",
      "\n",
      "Analytical Jacobian matrix:\n",
      "[[ 0.54030231 -0.84147098]\n",
      " [ 1.          0.        ]]\n"
     ]
    }
   ],
   "source": [
    "# Example: Calculate the Jacobian for our simple function\n",
    "x = np.array([1.0, 1.0])\n",
    "J = jacobian_numerical(residual, x)\n",
    "print(\"Numerical Jacobian matrix:\")\n",
    "print(J)\n",
    "\n",
    "# Compare with the analytical Jacobian at the same point\n",
    "J_analytical = jacobian_analytical(x)\n",
    "print(\"\\nAnalytical Jacobian matrix:\")\n",
    "print(J_analytical)"
   ]
  },
  {
   "cell_type": "markdown",
   "metadata": {},
   "source": [
    "### Trade-offs of Numerical Jacobian\n",
    "\n",
    "While calculating the Jacobian numerically is convenient, it has several drawbacks:\n",
    "\n",
    "1. **Computational Cost**: For a system with $n$ variables, computing the numerical Jacobian requires at least $n$ additional function evaluations.\n",
    "\n",
    "2. **Accuracy**: The accuracy of the approximation depends on the choice of `eps`. Being too small may lead to numerical errors due to the loss of precision in floating-point arithmetic, while being too large may not capture the local derivative when the function is not smooth.\n",
    "\n",
    "3. **Performance Impact**: For large systems like power flow equations, providing an analytical Jacobian can significantly improve computational efficiency."
   ]
  },
  {
   "cell_type": "markdown",
   "metadata": {
    "editable": true,
    "slideshow": {
     "slide_type": ""
    },
    "tags": []
   },
   "source": [
    "## Handling Convergence Challenges"
   ]
  },
  {
   "cell_type": "markdown",
   "metadata": {
    "editable": true,
    "slideshow": {
     "slide_type": ""
    },
    "tags": []
   },
   "source": [
    "### Convergence\n",
    "\n",
    "We talked about \"convergence\", but what does it mean? Intuitively, it means that\n",
    "the solution does not change much between iterations. That can be seen from the\n",
    "previous figure. \n",
    "\n",
    "Typically, convergence is checked on the variable between consecutive\n",
    "iterations. For a specified `xtol`, if the solution satisfies $|x_{k+1} - x_k| <\n",
    "\\text{xtol}$, the solution is deemed converged. This is what is checked by\n",
    "`fsolve`.\n",
    "\n",
    "In addition, the residual should be small enough when converged. The tolerance\n",
    "is often named `ftol`. If the residual satisfies $|f(x_{k+1})| < \\text{ftol}$, the solution\n",
    "is deemed converged.\n",
    "\n",
    "It is beneficial to check both of them if you are writing a custom solver."
   ]
  },
  {
   "cell_type": "markdown",
   "metadata": {
    "editable": true,
    "slideshow": {
     "slide_type": ""
    },
    "tags": []
   },
   "source": [
    "### Initial Guess\n",
    "\n",
    "Initial guess plays an important role in the solver convergence. An inproper\n",
    "initial guess may result in failure to converge. Such guesses are said to be\n",
    "**not in the region of attraction** of the solution.\n",
    "\n",
    "For example, if we use the initial guess `[0, 0]`, the solver will fail to\n",
    "converge.\n"
   ]
  },
  {
   "cell_type": "code",
   "execution_count": 26,
   "metadata": {
    "editable": true,
    "slideshow": {
     "slide_type": ""
    },
    "tags": []
   },
   "outputs": [
    {
     "name": "stderr",
     "output_type": "stream",
     "text": [
      "/tmp/ipykernel_397941/2019346469.py:1: RuntimeWarning: The iteration is not making good progress, as measured by the \n",
      "  improvement from the last ten iterations.\n",
      "  sol = fsolve(residual, [0, 0])\n"
     ]
    }
   ],
   "source": [
    "sol = fsolve(residual, [0, 0])"
   ]
  },
  {
   "cell_type": "markdown",
   "metadata": {},
   "source": [
    "The warning message indicates that iterations are not converging in the last ten steps. "
   ]
  },
  {
   "cell_type": "markdown",
   "metadata": {
    "editable": true,
    "slideshow": {
     "slide_type": ""
    },
    "tags": []
   },
   "source": [
    "In other cases, a different initial guess may result in a different solution.\n",
    "Consider the simple equation \n",
    "\n",
    "$$x^2 - 1 = 0$$\n",
    "\n",
    "Starting from `1.2` and `-1.2` will converge to `1` and `-1`, respectively."
   ]
  },
  {
   "cell_type": "code",
   "execution_count": 27,
   "metadata": {},
   "outputs": [
    {
     "name": "stdout",
     "output_type": "stream",
     "text": [
      "Starting from 1.2, the solution is: [1.]\n",
      "Starting from -1.2, the solution is: [-1.]\n"
     ]
    }
   ],
   "source": [
    "def simple_residual(x):\n",
    "    return np.array([x[0] ** 2 - 1])\n",
    "\n",
    "\n",
    "sol = fsolve(simple_residual, [1.2])\n",
    "print(\"Starting from 1.2, the solution is:\", sol)\n",
    "\n",
    "sol = fsolve(simple_residual, [-1.2])\n",
    "print(\"Starting from -1.2, the solution is:\", sol)"
   ]
  },
  {
   "cell_type": "markdown",
   "metadata": {
    "editable": true,
    "slideshow": {
     "slide_type": ""
    },
    "tags": []
   },
   "source": [
    "### Storing History using Python decorator"
   ]
  },
  {
   "cell_type": "markdown",
   "metadata": {
    "editable": true,
    "slideshow": {
     "slide_type": ""
    },
    "tags": []
   },
   "source": [
    "Let's get into `fsolve` to print out the residual at the solution. \n",
    "\n",
    "First, let's enable `full_output=True` to get some extra information, such as the number of\n",
    "iterations. Options like `full_output` and the corresponding output format can be looked up in\n",
    "[SciPy documentation](https://docs.scipy.org/doc/scipy/reference/generated/scipy.optimize.fsolve.html).\n"
   ]
  },
  {
   "cell_type": "code",
   "execution_count": 28,
   "metadata": {},
   "outputs": [
    {
     "name": "stdout",
     "output_type": "stream",
     "text": [
      "Number of iterations: 31\n"
     ]
    }
   ],
   "source": [
    "sol, infodict, ier, mesg = fsolve(residual, [0, 0], full_output=True)\n",
    "\n",
    "print(f\"Number of iterations: {infodict['nfev']}\")"
   ]
  },
  {
   "cell_type": "markdown",
   "metadata": {
    "editable": true,
    "slideshow": {
     "slide_type": ""
    },
    "tags": []
   },
   "source": [
    "Now let's store the `x` and the residual at each step. We will implement it using\n",
    "a technique called **decorator**.\n",
    "\n",
    "Decorators can be used to modify the behavior of a function. They are often used\n",
    "to add extra functionality to a function. \n",
    "\n",
    "A decorator *is* a function which *takes* a function as input and *returns* a modified function.\n"
   ]
  },
  {
   "cell_type": "code",
   "execution_count": null,
   "metadata": {},
   "outputs": [],
   "source": [
    "residual_history = []\n",
    "x_history = []\n",
    "\n",
    "# `with_history` is a decorator to wrap the callback function\n",
    "def with_history(func):  # `func` is the function to modify (wrap)\n",
    "    def wrapper(*args, **kwargs):  # `wrapper` is the modified function to be returned\n",
    "        residual_history.append(residual(args[0]))\n",
    "        x_history.append(args[0])\n",
    "        return func(*args, **kwargs)\n",
    "\n",
    "    return wrapper"
   ]
  },
  {
   "cell_type": "markdown",
   "metadata": {},
   "source": [
    "Below is the basic way to use the decorator -- just call the decorator with the\n",
    "function to be modified. In this way, we did not modify any of the `residual`\n",
    "code but added extra functionality. Decorators are most powerful when\n",
    "you have a long function needing new functionality with only external\n",
    "modifications. "
   ]
  },
  {
   "cell_type": "code",
   "execution_count": 34,
   "metadata": {},
   "outputs": [
    {
     "name": "stderr",
     "output_type": "stream",
     "text": [
      "/tmp/ipykernel_397941/865456783.py:3: RuntimeWarning: The iteration is not making good progress, as measured by the \n",
      "  improvement from the last ten iterations.\n",
      "  sol = fsolve(residual_with_history, [0, 0])\n"
     ]
    }
   ],
   "source": [
    "residual_with_history = with_history(residual)\n",
    "\n",
    "sol = fsolve(residual_with_history, [0, 0])"
   ]
  },
  {
   "cell_type": "code",
   "execution_count": 35,
   "metadata": {},
   "outputs": [
    {
     "data": {
      "image/png": "[encoded data removed]",
      "text/plain": [
       "<Figure size 800x300 with 2 Axes>"
      ]
     },
     "metadata": {},
     "output_type": "display_data"
    }
   ],
   "source": [
    "# plot the residual history and `x` history in two figures, side by side\n",
    "\n",
    "import matplotlib.pyplot as plt\n",
    "import seaborn as sns\n",
    "\n",
    "\n",
    "def plot_history(residual_history, x_history):\n",
    "    plt.figure(figsize=(8, 3))\n",
    "    plt.subplot(1, 2, 1)\n",
    "    plt.plot(residual_history)\n",
    "    plt.xlabel(\"Iteration\")\n",
    "    plt.ylabel(\"Residual\")\n",
    "    plt.title(\"Residual History\")\n",
    "    plt.subplot(1, 2, 2)\n",
    "    plt.plot(x_history)\n",
    "    plt.xlabel(\"Iteration\")\n",
    "    plt.ylabel(\"x\")\n",
    "    plt.title(\"x History\")\n",
    "\n",
    "\n",
    "plot_history(residual_history, x_history)"
   ]
  },
  {
   "cell_type": "markdown",
   "metadata": {
    "editable": true,
    "slideshow": {
     "slide_type": ""
    },
    "tags": []
   },
   "source": [
    "You can tell that the residual does not converge to zero, and the `x` are\n",
    "jumping back and forth."
   ]
  },
  {
   "cell_type": "markdown",
   "metadata": {},
   "source": [
    "Now let's check the residual and `x` using initial guess `[1, 1]`.\n",
    "\n"
   ]
  },
  {
   "cell_type": "code",
   "execution_count": 36,
   "metadata": {},
   "outputs": [
    {
     "data": {
      "image/png": "[encoded data removed]",
      "text/plain": [
       "<Figure size 800x300 with 2 Axes>"
      ]
     },
     "metadata": {},
     "output_type": "display_data"
    }
   ],
   "source": [
    "# don't forget to reset the history\n",
    "residual_history = []\n",
    "x_history = []\n",
    "\n",
    "sol = fsolve(residual_with_history, [1, 1])\n",
    "plot_history(residual_history, x_history)"
   ]
  },
  {
   "cell_type": "markdown",
   "metadata": {
    "editable": true,
    "slideshow": {
     "slide_type": ""
    },
    "tags": []
   },
   "source": [
    ":::{admonition} More on Decorators\n",
    "\n",
    "Decorators can be reused to wrap different functions. If we want to define a new\n",
    "residual function and wants it history stored, and alternative syntax is to\n",
    "use `@with_history` before the function definition. This\n",
    "is a syntax sugar provided by Python.\n",
    "\n",
    "```python\n",
    "@with_history\n",
    "def residual2(x):\n",
    "    return [x[0]**2 + x[1]**2 - 1,\n",
    "            x[0] + x[1] - 1]\n",
    "\n",
    "sol = fsolve(residual2, [0, 0])\n",
    "```\n",
    "\n",
    ":::"
   ]
  },
  {
   "cell_type": "markdown",
   "metadata": {
    "editable": true,
    "slideshow": {
     "slide_type": ""
    },
    "tags": []
   },
   "source": [
    "### Conclusion\n",
    "\n",
    "While numerical Jacobian calculation offers convenience, analytical Jacobians provide better performance for complex systems. Understanding both approaches gives you flexibility:\n",
    "\n",
    "1. Use numerical Jacobians for rapid prototyping and simple problems\n",
    "2. Implement analytical Jacobians for production code and large-scale systems where performance matters\n",
    "\n",
    "The choice depends on your specific needs in balancing development time against execution speed.\n",
    "\n",
    "For our nonlinear equation solving needs, it's valuable to know that even without providing a Jacobian, we can still find solutions efficiently using tools like `fsolve`. However, as problems become complex, the analytical Jacobian can be helpful for computational speed up."
   ]
  },
  {
   "cell_type": "markdown",
   "metadata": {
    "editable": true,
    "slideshow": {
     "slide_type": ""
    },
    "tags": []
   },
   "source": [
    "## Quizzes"
   ]
  },
  {
   "cell_type": "code",
   "execution_count": 20,
   "metadata": {
    "editable": true,
    "slideshow": {
     "slide_type": ""
    },
    "tags": [
     "remove-cell"
    ]
   },
   "outputs": [
    {
     "data": {
      "text/html": [
       "<div id=\"OmCRrFIUWZGC\" data-shufflequestions=\"False\" data-shuffleanswers=\"True\" data-preserveresponses=\"false\" data-numquestions=\"1000000\" data-maxwidth=\"600\" style=\"border-radius: 10px; text-align: left\"><style>\n",
       "#OmCRrFIUWZGC {\n",
       "   --jq-multiple-choice-bg: #CC0000;\n",
       "   --jq-mc-button-bg: #FFFFFF;\n",
       "   --jq-mc-button-border: #E1E1E1;\n",
       "   --jq-mc-button-inset-shadow: #000000;\n",
       "   --jq-many-choice-bg: #D14905;\n",
       "   --jq-numeric-bg: #427E93;\n",
       "   --jq-numeric-input-bg: #FFFFFF;\n",
       "   --jq-numeric-input-label: #000000;\n",
       "   --jq-numeric-input-shadow: #767676;\n",
       "   --jq-string-bg: #4c1a57;\n",
       "   --jq-incorrect-color: #990000;\n",
       "   --jq-correct-color: #4F868E;\n",
       "   --jq-text-color: #FFFFFF;\n",
       "}\n",
       "\n",
       ".Quiz {\n",
       "    max-width: 600px;\n",
       "    margin-top: 15px;\n",
       "    margin-left: auto;\n",
       "    margin-right: auto;\n",
       "/*    margin-bottom: 15px;*/\n",
       "/*    padding-bottom: 4px;*/\n",
       "    padding-top: 4px;\n",
       "    line-height: 1.1;\n",
       "    font-size: 16pt;\n",
       "    border-radius: inherit;\n",
       "}\n",
       "\n",
       ".QuizCode {\n",
       "    font-size: 14pt;\n",
       "    margin-top: 10px;\n",
       "    margin-left: 20px;\n",
       "    margin-right: 20px;\n",
       "}\n",
       "\n",
       ".QuizCode>pre {\n",
       "    padding: 4px;\n",
       "}\n",
       "\n",
       ".Quiz code {\n",
       "    background-color: lightgray;\n",
       "    color: black;\n",
       "}\n",
       "\n",
       ".Quiz .QuizCode code {\n",
       "    background-color: inherit;\n",
       "    color: inherit;\n",
       "}\n",
       "\n",
       "\n",
       ".Quiz .MCButton code {\n",
       "    background-color: inherit;\n",
       "    color: inherit;\n",
       "}\n",
       "\n",
       ".MCButton .QuizCode {\n",
       "    text-align: left;\n",
       "}\n",
       "\n",
       "\n",
       "\n",
       "\n",
       ".Answer {\n",
       "    border-radius: inherit;\n",
       "    display: grid;\n",
       "    grid-gap: 10px;\n",
       "    grid-template-columns: 1fr 1fr;\n",
       "    margin: 10px 0;\n",
       "}\n",
       "\n",
       "@media only screen and (max-width:480px) {\n",
       "    .Answer {\n",
       "        grid-template-columns: 1fr;\n",
       "    }\n",
       "\n",
       "}\n",
       "\n",
       ".Feedback {\n",
       "    font-size: 16pt;\n",
       "    text-align: center;\n",
       "/*    min-height: 2em;*/\n",
       "}\n",
       "\n",
       ".Input {\n",
       "    align: left;\n",
       "    font-size: 20pt;\n",
       "}\n",
       "\n",
       ".Input-text {\n",
       "    display: block;\n",
       "    margin: 10px;\n",
       "    color: inherit;\n",
       "    width: unset;\n",
       "    min-width: 140px;\n",
       "    max-width: 93%;\n",
       "    field-sizing: content;\n",
       "    background-color: var(--jq-numeric-input-bg);\n",
       "    color: var(--jq-text-color);\n",
       "    padding: 5px;\n",
       "    padding-left: 10px;\n",
       "    font-family: inherit;\n",
       "    font-size: 20px;\n",
       "    font-weight: inherit;\n",
       "    line-height: 20pt;\n",
       "    border: none;\n",
       "    border-radius: 0.2rem;\n",
       "    transition: box-shadow 0.1s);\n",
       "}\n",
       "\n",
       ".Input-text:focus {\n",
       "    /*outline: none;*/\n",
       "    background-color: var(--jq-numeric-input-bg);\n",
       "    box-shadow: 0.6rem 0.8rem 1.4rem -0.5rem var(--jq-numeric-input-shadow);\n",
       "}\n",
       "\n",
       ".MCButton {\n",
       "    background: var(--jq-mc-button-bg);\n",
       "    border: 1px solid var(--jq-mc-button-border);\n",
       "    border-radius: inherit;\n",
       "    color: #333333;\n",
       "    padding: 10px;\n",
       "    font-size: 16px;\n",
       "    cursor: pointer;\n",
       "    text-align: center;\n",
       "    display: flex;\n",
       "    align-items: center;\n",
       "    justify-content: center;\n",
       "}\n",
       "\n",
       ".MCButton p {\n",
       "    color: inherit;\n",
       "}\n",
       "\n",
       ".MultipleChoiceQn {\n",
       "    padding: 10px;\n",
       "    background: var(--jq-multiple-choice-bg);\n",
       "    color: var(--jq-text-color);\n",
       "    border-radius: inherit;\n",
       "}\n",
       "\n",
       ".ManyChoiceQn {\n",
       "    padding: 10px;\n",
       "    background: var(--jq-many-choice-bg);\n",
       "    color: var(--jq-text-color);\n",
       "    border-radius: inherit;\n",
       "}\n",
       "\n",
       ".NumericQn {\n",
       "    background: var(--jq-numeric-bg);\n",
       "    border-radius: inherit;\n",
       "    color: var(--jq-text-color);\n",
       "    padding: 10px;\n",
       "}\n",
       "\n",
       ".NumericQn p {\n",
       "    color: inherit;\n",
       "}\n",
       "\n",
       ".StringQn {\n",
       "    background: var(--jq-string-bg);\n",
       "    border-radius: inherit;\n",
       "    color: var(--jq-text-color);\n",
       "    padding: 10px;\n",
       "}\n",
       "\n",
       ".StringQn p {\n",
       "    color: inherit;\n",
       "}\n",
       "\n",
       "\n",
       ".InpLabel {\n",
       "    color: var(--jq-numeric-input-label);\n",
       "    float: left;\n",
       "    font-size: 15pt;\n",
       "    line-height: 34px;\n",
       "    margin-right: 10px;\n",
       "}\n",
       "\n",
       ".incorrect {\n",
       "    color: var(--jq-incorrect-color);\n",
       "}\n",
       "\n",
       ".correct {\n",
       "    color: var(--jq-correct-color);\n",
       "}\n",
       "\n",
       ".correctButton {\n",
       "    /*\n",
       "    background: var(--jq-correct-color);\n",
       "   */\n",
       "    animation: correct-anim 0.6s ease;\n",
       "    animation-fill-mode: forwards;\n",
       "    box-shadow: inset 0 0 5px var(--jq-mc-button-inset-shadow);\n",
       "    color: var(--jq-text-color);\n",
       "    /*outline: none;*/\n",
       "}\n",
       "\n",
       ".incorrectButton {\n",
       "    animation: incorrect-anim 0.8s ease;\n",
       "    animation-fill-mode: forwards;\n",
       "    box-shadow: inset 0 0 5px var(--jq-mc-button-inset-shadow);\n",
       "    color: var(--jq-text-color);\n",
       "    /*outline: none;*/\n",
       "}\n",
       "\n",
       "@keyframes incorrect-anim {\n",
       "    100% {\n",
       "        background-color: var(--jq-incorrect-color);\n",
       "    }\n",
       "}\n",
       "\n",
       "@keyframes correct-anim {\n",
       "    100% {\n",
       "        background-color: var(--jq-correct-color);\n",
       "    }\n",
       "}\n",
       "</style>"
      ],
      "text/plain": [
       "<IPython.core.display.HTML object>"
      ]
     },
     "metadata": {},
     "output_type": "display_data"
    },
    {
     "data": {
      "application/javascript": "var questionsOmCRrFIUWZGC=[\n    {\n        \"question\": \"What is the standard form of nonlinear equations in numerical computing?\",\n        \"type\": \"multiple_choice\",\n        \"answers\": [\n            {\n                \"answer\": \"f(x) = 0\",\n                \"correct\": true,\n                \"feedback\": \"Correct! The standard form for solving nonlinear equations in numerical computing is f(x) = 0, where f is the residual function that should be zero at the solution.\"\n            },\n            {\n                \"answer\": \"f(x) = g(x)\",\n                \"correct\": false,\n                \"feedback\": \"Incorrect. While this is a common way to express equations, for numerical computing, equations are reformulated as f(x) - g(x) = 0, reducing to the standard form f(x) = 0.\"\n            },\n            {\n                \"answer\": \"x = f(x)\",\n                \"correct\": false,\n                \"feedback\": \"Incorrect. This is a fixed-point form, not the standard form for solving nonlinear equations numerically.\"\n            },\n            {\n                \"answer\": \"f'(x) = 0\",\n                \"correct\": false,\n                \"feedback\": \"Incorrect. This would be the form for finding extrema (minima or maxima) of a function, not for solving nonlinear equations.\"\n            }\n        ]\n    },\n    {\n        \"question\": \"What is a residual function in the context of nonlinear equations?\",\n        \"type\": \"multiple_choice\",\n        \"answers\": [\n            {\n                \"answer\": \"A function that measures how far we are from a solution, which should be zero (or sufficiently small) when a solution is found\",\n                \"correct\": true,\n                \"feedback\": \"Correct! The residual function measures the 'error' or distance from a true solution, and should approach zero as we converge to the solution.\"\n            },\n            {\n                \"answer\": \"The derivative of the nonlinear function\",\n                \"correct\": false,\n                \"feedback\": \"Incorrect. The residual function is the function itself that we want to find roots for, not its derivative.\"\n            },\n            {\n                \"answer\": \"The difference between consecutive iterations in the solution process\",\n                \"correct\": false,\n                \"feedback\": \"Incorrect. This describes the step size or change in the solution, not the residual function.\"\n            },\n            {\n                \"answer\": \"The remaining terms after simplifying a nonlinear equation\",\n                \"correct\": false,\n                \"feedback\": \"Incorrect. The residual function is the nonlinear function whose roots we are trying to find.\"\n            }\n        ]\n    },\n    {\n        \"question\": \"In the Newton-Raphson method for a single equation, how is the next iteration calculated?\",\n        \"type\": \"multiple_choice\",\n        \"answers\": [\n            {\n                \"answer\": \"x_{k+1} = x_k - f(x_k)/f'(x_k)\",\n                \"correct\": true,\n                \"feedback\": \"Correct! The Newton-Raphson method uses the current value, the function value, and the derivative to calculate the next approximation.\"\n            },\n            {\n                \"answer\": \"x_{k+1} = x_k + f(x_k)/f'(x_k)\",\n                \"correct\": false,\n                \"feedback\": \"Incorrect. The formula uses subtraction, not addition.\"\n            },\n            {\n                \"answer\": \"x_{k+1} = x_k - f'(x_k)/f(x_k)\",\n                \"correct\": false,\n                \"feedback\": \"Incorrect. The function value is divided by the derivative, not the other way around.\"\n            },\n            {\n                \"answer\": \"x_{k+1} = x_k - f(x_k)*f'(x_k)\",\n                \"correct\": false,\n                \"feedback\": \"Incorrect. The formula involves division by the derivative, not multiplication.\"\n            }\n        ]\n    },\n    {\n        \"question\": \"For systems of nonlinear equations, what replaces the derivative in the Newton-Raphson method?\",\n        \"type\": \"multiple_choice\",\n        \"answers\": [\n            {\n                \"answer\": \"The Jacobian matrix\",\n                \"correct\": true,\n                \"feedback\": \"Correct! The Jacobian matrix contains all partial derivatives of the system and replaces the simple derivative used in the single-equation case.\"\n            },\n            {\n                \"answer\": \"The Hessian matrix\",\n                \"correct\": false,\n                \"feedback\": \"Incorrect. The Hessian matrix contains second derivatives and is used in optimization methods like Newton's method for minimization, not in root finding.\"\n            },\n            {\n                \"answer\": \"The gradient vector\",\n                \"correct\": false,\n                \"feedback\": \"Incorrect. The gradient vector would only give the direction of steepest increase, but the Jacobian matrix is needed for systems of equations.\"\n            },\n            {\n                \"answer\": \"The Laplacian operator\",\n                \"correct\": false,\n                \"feedback\": \"Incorrect. The Laplacian operator is used in partial differential equations, not in solving systems of nonlinear equations.\"\n            }\n        ]\n    },\n    {\n        \"question\": \"What is the primary advantage of providing an analytical Jacobian to nonlinear equation solvers?\",\n        \"type\": \"multiple_choice\",\n        \"answers\": [\n            {\n                \"answer\": \"Improved computational efficiency, especially for large systems\",\n                \"correct\": true,\n                \"feedback\": \"Correct! Providing an analytical Jacobian eliminates the need for numerical approximation, which requires multiple function evaluations and can be computationally expensive.\"\n            },\n            {\n                \"answer\": \"It guarantees convergence to the correct solution\",\n                \"correct\": false,\n                \"feedback\": \"Incorrect. While an analytical Jacobian improves performance, it doesn't guarantee convergence, which still depends on factors like the initial guess.\"\n            },\n            {\n                \"answer\": \"It eliminates the need for an initial guess\",\n                \"correct\": false,\n                \"feedback\": \"Incorrect. An initial guess is still required even when providing an analytical Jacobian.\"\n            },\n            {\n                \"answer\": \"It works for all types of nonlinear equations\",\n                \"correct\": false,\n                \"feedback\": \"Incorrect. Some nonlinear systems might still fail to converge or have multiple solutions, regardless of whether an analytical Jacobian is provided.\"\n            }\n        ]\n    },\n    {\n        \"question\": \"What convergence property is characteristic of the Newton-Raphson method near a solution?\",\n        \"type\": \"multiple_choice\",\n        \"answers\": [\n            {\n                \"answer\": \"Quadratic convergence\",\n                \"correct\": true,\n                \"feedback\": \"Correct! Near a solution, the error approximately squares with each iteration, meaning the number of correct digits roughly doubles each step.\"\n            },\n            {\n                \"answer\": \"Linear convergence\",\n                \"correct\": false,\n                \"feedback\": \"Incorrect. Newton-Raphson exhibits quadratic convergence near a solution, which is faster than linear convergence.\"\n            },\n            {\n                \"answer\": \"Logarithmic convergence\",\n                \"correct\": false,\n                \"feedback\": \"Incorrect. Newton-Raphson shows quadratic convergence near a solution, not logarithmic.\"\n            },\n            {\n                \"answer\": \"Exponential convergence\",\n                \"correct\": false,\n                \"feedback\": \"Incorrect. The Newton-Raphson method has quadratic convergence, not exponential.\"\n            }\n        ]\n    },\n    {\n        \"question\": \"When can the Newton-Raphson method fail or perform poorly?\",\n        \"type\": \"multiple_choice\",\n        \"answers\": [\n            {\n                \"answer\": \"When the initial guess is poor or when derivatives are close to zero\",\n                \"correct\": true,\n                \"feedback\": \"Correct! The method can diverge with poor initial guesses, and it behaves erratically near points where the derivative is zero (causing division by near-zero values).\"\n            },\n            {\n                \"answer\": \"Only when the function is not differentiable\",\n                \"correct\": false,\n                \"feedback\": \"Incorrect. While non-differentiability is a problem, the method can also fail with poor initial guesses or near points where derivatives are zero.\"\n            },\n            {\n                \"answer\": \"Only for systems with more than three variables\",\n                \"correct\": false,\n                \"feedback\": \"Incorrect. The dimensionality of the problem is not the determining factor for failure or poor performance.\"\n            },\n            {\n                \"answer\": \"When using analytical rather than numerical Jacobians\",\n                \"correct\": false,\n                \"feedback\": \"Incorrect. Analytical Jacobians generally improve performance rather than causing problems.\"\n            }\n        ]\n    },\n    {\n        \"question\": \"Which function in SciPy is commonly used for solving nonlinear equations?\",\n        \"type\": \"multiple_choice\",\n        \"answers\": [\n            {\n                \"answer\": \"scipy.optimize.fsolve\",\n                \"correct\": true,\n                \"feedback\": \"Correct! fsolve is the primary function in SciPy for finding roots of nonlinear systems of equations.\"\n            },\n            {\n                \"answer\": \"scipy.optimize.minimize\",\n                \"correct\": false,\n                \"feedback\": \"Incorrect. minimize is used for function minimization, not directly for solving nonlinear equations.\"\n            },\n            {\n                \"answer\": \"scipy.integrate.solve_ivp\",\n                \"correct\": false,\n                \"feedback\": \"Incorrect. solve_ivp is for solving initial value problems in differential equations, not nonlinear algebraic equations.\"\n            },\n            {\n                \"answer\": \"scipy.linalg.solve\",\n                \"correct\": false,\n                \"feedback\": \"Incorrect. solve is for solving linear systems of equations (Ax = b), not nonlinear systems.\"\n            }\n        ]\n    },\n    {\n        \"question\": \"How is the numerical Jacobian typically calculated when not explicitly provided?\",\n        \"type\": \"multiple_choice\",\n        \"answers\": [\n            {\n                \"answer\": \"Using finite differences, approximating each partial derivative\",\n                \"correct\": true,\n                \"feedback\": \"Correct! When not explicitly provided, each element of the Jacobian is approximated using finite differences by perturbing each variable slightly.\"\n            },\n            {\n                \"answer\": \"Using automatic differentiation\",\n                \"correct\": false,\n                \"feedback\": \"Incorrect. While automatic differentiation is a powerful technique, most standard solvers like fsolve use finite differences for numerical Jacobians.\"\n            },\n            {\n                \"answer\": \"Using symbolic differentiation\",\n                \"correct\": false,\n                \"feedback\": \"Incorrect. Symbolic differentiation requires explicit mathematical expressions and is not typically used for numerical Jacobian approximation in standard solvers.\"\n            },\n            {\n                \"answer\": \"Using Monte Carlo sampling\",\n                \"correct\": false,\n                \"feedback\": \"Incorrect. Monte Carlo methods are statistical techniques not typically used for Jacobian approximation.\"\n            }\n        ]\n    },\n    {\n        \"question\": \"What does 'convergence' typically mean in the context of solving nonlinear equations?\",\n        \"type\": \"multiple_choice\",\n        \"answers\": [\n            {\n                \"answer\": \"The solution changes very little between iterations and the residual function is close to zero\",\n                \"correct\": true,\n                \"feedback\": \"Correct! Convergence is typically checked by ensuring both small changes in the solution between iterations and small residual values.\"\n            },\n            {\n                \"answer\": \"The algorithm executes a fixed number of iterations\",\n                \"correct\": false,\n                \"feedback\": \"Incorrect. Running a fixed number of iterations doesn't guarantee convergence; we need to check that the solution stabilizes and the residual approaches zero.\"\n            },\n            {\n                \"answer\": \"The Jacobian matrix becomes singular\",\n                \"correct\": false,\n                \"feedback\": \"Incorrect. A singular Jacobian is typically a problem that can prevent convergence, not an indication of successful convergence.\"\n            },\n            {\n                \"answer\": \"The solution reaches its global minimum value\",\n                \"correct\": false,\n                \"feedback\": \"Incorrect. This describes optimization problems, not solving nonlinear equations where we seek roots, not minima.\"\n            }\n        ]\n    }\n]\n;\n\nif (typeof Question === 'undefined') {\n// Make a random ID\nfunction makeid(length) {\n    var result = [];\n    var characters = 'ABCDEFGHIJKLMNOPQRSTUVWXYZabcdefghijklmnopqrstuvwxyz';\n    var charactersLength = characters.length;\n    for (var i = 0; i < length; i++) {\n        result.push(characters.charAt(Math.floor(Math.random() * charactersLength)));\n    }\n    return result.join('');\n}\n// Convert LaTeX delimiters and markdown links to HTML\nfunction jaxify(string) {\n    let mystring = string;\n    let count = 0, count2 = 0;\n    let loc = mystring.search(/([^\\\\]|^)(\\$)/);\n    let loc2 = mystring.search(/([^\\\\]|^)(\\$\\$)/);\n    while (loc >= 0 || loc2 >= 0) {\n        if (loc2 >= 0) {\n            mystring = mystring.replace(/([^\\\\]|^)(\\$\\$)/, count2 % 2 ? '$1\\\\]' : '$1\\\\[');\n            count2++;\n        } else {\n            mystring = mystring.replace(/([^\\\\]|^)(\\$)/, count % 2 ? '$1\\\\)' : '$1\\\\(');\n            count++;\n        }\n        loc = mystring.search(/([^\\\\]|^)(\\$)/);\n        loc2 = mystring.search(/([^\\\\]|^)(\\$\\$)/);\n    }\n    // Replace markdown links\n    mystring = mystring.replace(/<http(.*?)>/g, '<a href=\"http$1\" target=\"_blank\" class=\"Link\">http$1</a>');\n    mystring = mystring.replace(/\\[(.*?)\\]\\((.*?)\\)/g, '<a href=\"$2\" target=\"_blank\" class=\"Link\">$1</a>');\n    return mystring;\n}\n\n// Base class for question types\nclass Question {\n    static registry = {};\n    static register(type, cls) {\n        Question.registry[type] = cls;\n    }\n    static create(qa, id, index, options, rootDiv) {\n        const Cls = Question.registry[qa.type];\n        if (!Cls) {\n            console.error(`No question class registered for type \"${qa.type}\"`);\n            return;\n        }\n        const q = new Cls(qa, id, index, options, rootDiv);\n        q.render();\n    }\n\n    constructor(qa, id, index, options, rootDiv) {\n        this.qa = qa;\n        this.id = id;\n        this.index = index;\n        this.options = options;\n        this.rootDiv = rootDiv;\n        // wrapper\n        this.wrapper = document.createElement('div');\n        this.wrapper.id = `quizWrap${id}`;\n        this.wrapper.className = 'Quiz';\n        this.wrapper.dataset.qnum = index;\n        this.wrapper.style.maxWidth = `${options.maxWidth}px`;\n        rootDiv.appendChild(this.wrapper);\n        // question container\n        this.outerqDiv = document.createElement('div');\n        this.outerqDiv.id = `OuterquizQn${id}${index}`;\n        this.wrapper.appendChild(this.outerqDiv);\n        // question text\n        this.qDiv = document.createElement('div');\n        this.qDiv.id = `quizQn${id}${index}`;\n        if (qa.question) {\n            this.qDiv.innerHTML = jaxify(qa.question);\n            this.outerqDiv.appendChild(this.qDiv);\n        }\n        // code block\n        if (qa.code) {\n            const codeDiv = document.createElement('div');\n            codeDiv.id = `code${id}${index}`;\n            codeDiv.className = 'QuizCode';\n            const pre = document.createElement('pre');\n            const codeEl = document.createElement('code');\n            codeEl.innerHTML = qa.code;\n            pre.appendChild(codeEl);\n            codeDiv.appendChild(pre);\n            this.outerqDiv.appendChild(codeDiv);\n        }\n        // answer container\n        this.aDiv = document.createElement('div');\n        this.aDiv.id = `quizAns${id}${index}`;\n        this.aDiv.className = 'Answer';\n        this.wrapper.appendChild(this.aDiv);\n        // feedback container (append after answers)\n        this.fbDiv = document.createElement('div');\n        this.fbDiv.id = `fb${id}`;\n        this.fbDiv.className = 'Feedback';\n        this.fbDiv.dataset.answeredcorrect = 0;\n    }\n\n    render() {\n        throw new Error('render() not implemented');\n    }\n\n    preserveResponse(val) {\n        if (!this.options.preserveResponses) return;\n        const resp = document.getElementById(`responses${this.rootDiv.id}`);\n        if (!resp) return;\n        const arr = JSON.parse(resp.dataset.responses);\n        arr[this.index] = val;\n        resp.dataset.responses = JSON.stringify(arr);\n        printResponses(resp);\n    }\n\n    typeset(container) {\n        if (typeof MathJax !== 'undefined') {\n            const v = MathJax.version;\n            if (v[0] === '2') {\n                MathJax.Hub.Queue(['Typeset', MathJax.Hub]);\n            } else {\n                MathJax.typeset([container]);\n            }\n        }\n    }\n}\n\n// Choose a random subset of an array. Can also be used to shuffle the array\nfunction getRandomSubarray(arr, size) {\n    var shuffled = arr.slice(0), i = arr.length, temp, index;\n    while (i--) {\n        index = Math.floor((i + 1) * Math.random());\n        temp = shuffled[index];\n        shuffled[index] = shuffled[i];\n        shuffled[i] = temp;\n    }\n    return shuffled.slice(0, size);\n}\n\nfunction printResponses(responsesContainer) {\n    var responses=JSON.parse(responsesContainer.dataset.responses);\n    var stringResponses='<B>IMPORTANT!</B>To preserve this answer sequence for submission, when you have finalized your answers: <ol> <li> Copy the text in this cell below \"Answer String\"</li> <li> Double click on the cell directly below the Answer String, labeled \"Replace Me\"</li> <li> Select the whole \"Replace Me\" text</li> <li> Paste in your answer string and press shift-Enter.</li><li>Save the notebook using the save icon or File->Save Notebook menu item</li></ul><br><br><br><b>Answer String:</b><br> ';\n    console.log(responses);\n    responses.forEach((response, index) => {\n        if (response) {\n            console.log(index + ': ' + response);\n            stringResponses+= index + ': ' + response +\"<BR>\";\n        }\n    });\n    responsesContainer.innerHTML=stringResponses;\n}\n/* Callback function to determine whether a selected multiple-choice\n   button corresponded to a correct answer and to provide feedback\n   based on the answer */\nfunction check_mc() {\n    var id = this.id.split('-')[0];\n    //var response = this.id.split('-')[1];\n    //console.log(response);\n    //console.log(\"In check_mc(), id=\"+id);\n    //console.log(event.srcElement.id)           \n    //console.log(event.srcElement.dataset.correct)   \n    //console.log(event.srcElement.dataset.feedback)\n\n    var label = event.srcElement;\n    //console.log(label, label.nodeName);\n    var depth = 0;\n    while ((label.nodeName != \"LABEL\") && (depth < 20)) {\n        label = label.parentElement;\n        console.log(depth, label);\n        depth++;\n    }\n\n\n\n    var answers = label.parentElement.children;\n    //console.log(answers);\n\n    // Split behavior based on multiple choice vs many choice:\n    var fb = document.getElementById(\"fb\" + id);\n\n\n\n    /* Multiple choice (1 answer). Allow for 0 correct\n       answers as an edge case */\n    if (fb.dataset.numcorrect <= 1) {\n        // What follows is for the saved responses stuff\n        var outerContainer = fb.parentElement.parentElement;\n        var responsesContainer = document.getElementById(\"responses\" + outerContainer.id);\n        if (responsesContainer) {\n            //console.log(responsesContainer);\n            var response = label.firstChild.innerText;\n            if (label.querySelector(\".QuizCode\")){\n                response+= label.querySelector(\".QuizCode\").firstChild.innerText;\n            }\n            console.log(response);\n            //console.log(document.getElementById(\"quizWrap\"+id));\n            var qnum = document.getElementById(\"quizWrap\"+id).dataset.qnum;\n            console.log(\"Question \" + qnum);\n            //console.log(id, \", got numcorrect=\",fb.dataset.numcorrect);\n            var responses=JSON.parse(responsesContainer.dataset.responses);\n            console.log(responses);\n            responses[qnum]= response;\n            responsesContainer.setAttribute('data-responses', JSON.stringify(responses));\n            printResponses(responsesContainer);\n        }\n        // End code to preserve responses\n\n        for (var i = 0; i < answers.length; i++) {\n            var child = answers[i];\n            //console.log(child);\n            child.className = \"MCButton\";\n        }\n\n\n\n        if (label.dataset.correct == \"true\") {\n            // console.log(\"Correct action\");\n            if (\"feedback\" in label.dataset) {\n                fb.innerHTML = jaxify(label.dataset.feedback);\n            } else {\n                fb.innerHTML = \"Correct!\";\n            }\n            label.classList.add(\"correctButton\");\n\n            fb.className = \"Feedback\";\n            fb.classList.add(\"correct\");\n\n        } else {\n            if (\"feedback\" in label.dataset) {\n                fb.innerHTML = jaxify(label.dataset.feedback);\n            } else {\n                fb.innerHTML = \"Incorrect -- try again.\";\n            }\n            //console.log(\"Error action\");\n            label.classList.add(\"incorrectButton\");\n            fb.className = \"Feedback\";\n            fb.classList.add(\"incorrect\");\n        }\n    }\n    else { /* Many choice (more than 1 correct answer) */\n        var reset = false;\n        var feedback;\n         if (label.dataset.correct == \"true\") {\n            if (\"feedback\" in label.dataset) {\n                feedback = jaxify(label.dataset.feedback);\n            } else {\n                feedback = \"Correct!\";\n            }\n            if (label.dataset.answered <= 0) {\n                if (fb.dataset.answeredcorrect < 0) {\n                    fb.dataset.answeredcorrect = 1;\n                    reset = true;\n                } else {\n                    fb.dataset.answeredcorrect++;\n                }\n                if (reset) {\n                    for (var i = 0; i < answers.length; i++) {\n                        var child = answers[i];\n                        child.className = \"MCButton\";\n                        child.dataset.answered = 0;\n                    }\n                }\n                label.classList.add(\"correctButton\");\n                label.dataset.answered = 1;\n                fb.className = \"Feedback\";\n                fb.classList.add(\"correct\");\n\n            }\n        } else {\n            if (\"feedback\" in label.dataset) {\n                feedback = jaxify(label.dataset.feedback);\n            } else {\n                feedback = \"Incorrect -- try again.\";\n            }\n            if (fb.dataset.answeredcorrect > 0) {\n                fb.dataset.answeredcorrect = -1;\n                reset = true;\n            } else {\n                fb.dataset.answeredcorrect--;\n            }\n\n            if (reset) {\n                for (var i = 0; i < answers.length; i++) {\n                    var child = answers[i];\n                    child.className = \"MCButton\";\n                    child.dataset.answered = 0;\n                }\n            }\n            label.classList.add(\"incorrectButton\");\n            fb.className = \"Feedback\";\n            fb.classList.add(\"incorrect\");\n        }\n        // What follows is for the saved responses stuff\n        var outerContainer = fb.parentElement.parentElement;\n        var responsesContainer = document.getElementById(\"responses\" + outerContainer.id);\n        if (responsesContainer) {\n            //console.log(responsesContainer);\n            var response = label.firstChild.innerText;\n            if (label.querySelector(\".QuizCode\")){\n                response+= label.querySelector(\".QuizCode\").firstChild.innerText;\n            }\n            console.log(response);\n            //console.log(document.getElementById(\"quizWrap\"+id));\n            var qnum = document.getElementById(\"quizWrap\"+id).dataset.qnum;\n            console.log(\"Question \" + qnum);\n            //console.log(id, \", got numcorrect=\",fb.dataset.numcorrect);\n            var responses=JSON.parse(responsesContainer.dataset.responses);\n            if (label.dataset.correct == \"true\") {\n                if (typeof(responses[qnum]) == \"object\"){\n                    if (!responses[qnum].includes(response))\n                        responses[qnum].push(response);\n                } else{\n                    responses[qnum]= [ response ];\n                }\n            } else {\n                responses[qnum]= response;\n            }\n            console.log(responses);\n            responsesContainer.setAttribute('data-responses', JSON.stringify(responses));\n            printResponses(responsesContainer);\n        }\n        // End save responses stuff\n\n\n\n        var numcorrect = fb.dataset.numcorrect;\n        var answeredcorrect = fb.dataset.answeredcorrect;\n        if (answeredcorrect >= 0) {\n            fb.innerHTML = feedback + \" [\" + answeredcorrect + \"/\" + numcorrect + \"]\";\n        } else {\n            fb.innerHTML = feedback + \" [\" + 0 + \"/\" + numcorrect + \"]\";\n        }\n\n\n    }\n\n    if (typeof MathJax != 'undefined') {\n        var version = MathJax.version;\n        console.log('MathJax version', version);\n        if (version[0] == \"2\") {\n            MathJax.Hub.Queue([\"Typeset\", MathJax.Hub]);\n        } else if (version[0] == \"3\") {\n            MathJax.typeset([fb]);\n        }\n    } else {\n        console.log('MathJax not detected');\n    }\n\n}\n\n\n/* Function to produce the HTML buttons for a multiple choice/\n   many choice question  and to update the CSS tags based on\n   the question type */\nfunction make_mc(qa, shuffle_answers, outerqDiv, qDiv, aDiv, id) {\n\n    var shuffled;\n    if (shuffle_answers == true) {\n        //console.log(shuffle_answers+\" read as true\");\n        shuffled = getRandomSubarray(qa.answers, qa.answers.length);\n    } else {\n        //console.log(shuffle_answers+\" read as false\");\n        shuffled = qa.answers;\n    }\n\n\n    var num_correct = 0;\n\n    shuffled.forEach((item, index, ans_array) => {\n        //console.log(answer);\n\n        // Make input element\n        var inp = document.createElement(\"input\");\n        inp.type = \"radio\";\n        inp.id = \"quizo\" + id + index;\n        inp.style = \"display:none;\";\n        aDiv.append(inp);\n\n        //Make label for input element\n        var lab = document.createElement(\"label\");\n        lab.className = \"MCButton\";\n        lab.id = id + '-' + index;\n        lab.onclick = check_mc;\n        var aSpan = document.createElement('span');\n        aSpan.classsName = \"\";\n        //qDiv.id=\"quizQn\"+id+index;\n        if (\"answer\" in item) {\n            aSpan.innerHTML = jaxify(item.answer);\n            //aSpan.innerHTML=item.answer;\n        }\n        lab.append(aSpan);\n\n        // Create div for code inside question\n        var codeSpan;\n        if (\"code\" in item) {\n            codeSpan = document.createElement('span');\n            codeSpan.id = \"code\" + id + index;\n            codeSpan.className = \"QuizCode\";\n            var codePre = document.createElement('pre');\n            codeSpan.append(codePre);\n            var codeCode = document.createElement('code');\n            codePre.append(codeCode);\n            codeCode.innerHTML = item.code;\n            lab.append(codeSpan);\n            //console.log(codeSpan);\n        }\n\n        //lab.textContent=item.answer;\n\n        // Set the data attributes for the answer\n        lab.setAttribute('data-correct', item.correct);\n        if (item.correct) {\n            num_correct++;\n        }\n        if (\"feedback\" in item) {\n            lab.setAttribute('data-feedback', item.feedback);\n        }\n        lab.setAttribute('data-answered', 0);\n\n        aDiv.append(lab);\n\n    });\n\n    if (num_correct > 1) {\n        outerqDiv.className = \"ManyChoiceQn\";\n    } else {\n        outerqDiv.className = \"MultipleChoiceQn\";\n    }\n\n    return num_correct;\n\n}\n// Object-oriented wrapper for MC/MANY choice\nclass MCQuestion extends Question {\n    constructor(qa, id, idx, opts, rootDiv) { super(qa, id, idx, opts, rootDiv); }\n    render() {\n        //console.log(\"options.shuffleAnswers \" + this.options.shuffleAnswers);\n        const numCorrect = make_mc(\n            this.qa,\n            this.options.shuffleAnswers,\n            this.outerqDiv,\n            this.qDiv,\n            this.aDiv,\n            this.id\n        );\n        if ('answer_cols' in this.qa) {\n            this.aDiv.style.gridTemplateColumns =\n                'repeat(' + this.qa.answer_cols + ', 1fr)';\n        }\n        this.fbDiv.dataset.numcorrect = numCorrect;\n        this.wrapper.appendChild(this.fbDiv);\n    }\n}\nQuestion.register('multiple_choice', MCQuestion);\nQuestion.register('many_choice', MCQuestion);\nfunction check_numeric(ths, event) {\n\n    if (event.keyCode === 13) {\n        ths.blur();\n\n        var id = ths.id.split('-')[0];\n\n        var submission = ths.value;\n        if (submission.indexOf('/') != -1) {\n            var sub_parts = submission.split('/');\n            //console.log(sub_parts);\n            submission = sub_parts[0] / sub_parts[1];\n        }\n        //console.log(\"Reader entered\", submission);\n\n        if (\"precision\" in ths.dataset) {\n            var precision = ths.dataset.precision;\n            submission = Number(Number(submission).toPrecision(precision));\n        }\n\n\n        //console.log(\"In check_numeric(), id=\"+id);\n        //console.log(event.srcElement.id)           \n        //console.log(event.srcElement.dataset.feedback)\n\n        var fb = document.getElementById(\"fb\" + id);\n        fb.style.display = \"none\";\n        fb.innerHTML = \"Incorrect -- try again.\";\n\n        var answers = JSON.parse(ths.dataset.answers);\n        //console.log(answers);\n\n        var defaultFB = \"Incorrect. Try again.\";\n        var correct;\n        var done = false;\n        answers.every(answer => {\n            //console.log(answer.type);\n\n            correct = false;\n            // if (answer.type==\"value\"){\n            if ('value' in answer) {\n                var value;\n                if (\"precision\" in ths.dataset) {\n                    value = answer.value.toPrecision(ths.dataset.precision);\n                } else {\n                    value = answer.value;\n                }\n                if (submission == value) {\n                    if (\"feedback\" in answer) {\n                        fb.innerHTML = jaxify(answer.feedback);\n                    } else {\n                        fb.innerHTML = jaxify(\"Correct\");\n                    }\n                    correct = answer.correct;\n                    //console.log(answer.correct);\n                    done = true;\n                }\n\n                // } else if (answer.type==\"range\") {\n            } else if ('range' in answer) {\n                console.log(answer.range);\n                console.log(submission, submission >=answer.range[0], submission < answer.range[1])\n                if ((submission >= answer.range[0]) && (submission < answer.range[1])) {\n                    fb.innerHTML = jaxify(answer.feedback);\n                    correct = answer.correct;\n                    console.log(answer.correct);\n                    done = true;\n                }\n            } else if (answer.type == \"default\") {\n                if (\"feedback\" in answer) {\n                    defaultFB = answer.feedback;\n                } \n            }\n            if (done) {\n                return false; // Break out of loop if this has been marked correct\n            } else {\n                return true; // Keep looking for case that includes this as a correct answer\n            }\n        });\n        console.log(\"done:\", done);\n\n        if ((!done) && (defaultFB != \"\")) {\n            fb.innerHTML = jaxify(defaultFB);\n            //console.log(\"Default feedback\", defaultFB);\n        }\n\n        fb.style.display = \"block\";\n        if (correct) {\n            ths.className = \"Input-text\";\n            ths.classList.add(\"correctButton\");\n            fb.className = \"Feedback\";\n            fb.classList.add(\"correct\");\n        } else {\n            ths.className = \"Input-text\";\n            ths.classList.add(\"incorrectButton\");\n            fb.className = \"Feedback\";\n            fb.classList.add(\"incorrect\");\n        }\n\n        // What follows is for the saved responses stuff\n        var outerContainer = fb.parentElement.parentElement;\n        var responsesContainer = document.getElementById(\"responses\" + outerContainer.id);\n        if (responsesContainer) {\n            console.log(submission);\n            var qnum = document.getElementById(\"quizWrap\"+id).dataset.qnum;\n            //console.log(\"Question \" + qnum);\n            //console.log(id, \", got numcorrect=\",fb.dataset.numcorrect);\n            var responses=JSON.parse(responsesContainer.dataset.responses);\n            console.log(responses);\n            if (submission == ths.value){\n                responses[qnum]= submission;\n            } else {\n                responses[qnum]= ths.value + \"(\" + submission +\")\";\n            }\n            responsesContainer.setAttribute('data-responses', JSON.stringify(responses));\n            printResponses(responsesContainer);\n        }\n        // End code to preserve responses\n\n        if (typeof MathJax != 'undefined') {\n            var version = MathJax.version;\n            console.log('MathJax version', version);\n            if (version[0] == \"2\") {\n                MathJax.Hub.Queue([\"Typeset\", MathJax.Hub]);\n            } else if (version[0] == \"3\") {\n                MathJax.typeset([fb]);\n            }\n        } else {\n            console.log('MathJax not detected');\n        }\n        // After correct answer, if next JupyterQuiz question exists and has a text input, scroll by current question height\n        if (correct) {\n            // find the current question wrapper\n            var wrapper = ths.closest('.Quiz');\n            if (wrapper) {\n                var nextWrapper = wrapper.nextElementSibling;\n                if (nextWrapper && nextWrapper.classList.contains('Quiz')) {\n                    var nextInput = nextWrapper.querySelector('input.Input-text');\n                    if (nextInput) {\n                        var height = wrapper.getBoundingClientRect().height;\n                        console.log(height);\n                        nextInput.focus();\n                    }\n                }\n            }\n        }\n        return false;\n    }\n\n}\n// Object-oriented wrapper for numeric questions\nclass NumericQuestion extends Question {\n    constructor(qa, id, idx, opts, rootDiv) {\n        super(qa, id, idx, opts, rootDiv);\n    }\n    render() {\n        make_numeric(this.qa, this.outerqDiv, this.qDiv, this.aDiv, this.id);\n        this.wrapper.appendChild(this.fbDiv);\n    }\n}\nQuestion.register('numeric', NumericQuestion);\n\nfunction isValid(el, charC) {\n    //console.log(\"Input char: \", charC);\n    if (charC == 46) {\n        if (el.value.indexOf('.') === -1) {\n            return true;\n        } else if (el.value.indexOf('/') != -1) {\n            var parts = el.value.split('/');\n            if (parts[1].indexOf('.') === -1) {\n                return true;\n            }\n        }\n        else {\n            return false;\n        }\n    } else if (charC == 47) {\n        if (el.value.indexOf('/') === -1) {\n            if ((el.value != \"\") && (el.value != \".\")) {\n                return true;\n            } else {\n                return false;\n            }\n        } else {\n            return false;\n        }\n    } else if (charC == 45) {\n        var edex = el.value.indexOf('e');\n        if (edex == -1) {\n            edex = el.value.indexOf('E');\n        }\n\n        if (el.value == \"\") {\n            return true;\n        } else if (edex == (el.value.length - 1)) { // If just after e or E\n            return true;\n        } else {\n            return false;\n        }\n    } else if (charC == 101) { // \"e\"\n        if ((el.value.indexOf('e') === -1) && (el.value.indexOf('E') === -1) && (el.value.indexOf('/') == -1)) {\n            // Prev symbol must be digit or decimal point:\n            if (el.value.slice(-1).search(/\\d/) >= 0) {\n                return true;\n            } else if (el.value.slice(-1).search(/\\./) >= 0) {\n                return true;\n            } else {\n                return false;\n            }\n        } else {\n            return false;\n        }\n    } else {\n        if (charC > 31 && (charC < 48 || charC > 57))\n            return false;\n    }\n    return true;\n}\n\nfunction numeric_keypress(evnt) {\n    var charC = (evnt.which) ? evnt.which : evnt.keyCode;\n\n    if (charC == 13) {\n        check_numeric(this, evnt);\n    } else {\n        return isValid(this, charC);\n    }\n}\n\n\n\n\n\nfunction make_numeric(qa, outerqDiv, qDiv, aDiv, id) {\n\n\n\n    //console.log(answer);\n\n\n    outerqDiv.className = \"NumericQn\";\n    aDiv.style.display = 'block';\n\n    var lab = document.createElement(\"label\");\n    lab.className = \"InpLabel\";\n    lab.innerHTML = \"Type numeric answer here:\";\n    aDiv.append(lab);\n\n    var inp = document.createElement(\"input\");\n    inp.type = \"text\";\n    //inp.id=\"input-\"+id;\n    inp.id = id + \"-0\";\n    inp.className = \"Input-text\";\n    inp.setAttribute('data-answers', JSON.stringify(qa.answers));\n    if (\"precision\" in qa) {\n        inp.setAttribute('data-precision', qa.precision);\n    }\n    aDiv.append(inp);\n    //console.log(inp);\n\n    //inp.addEventListener(\"keypress\", check_numeric);\n    //inp.addEventListener(\"keypress\", numeric_keypress);\n    /*\n    inp.addEventListener(\"keypress\", function(event) {\n        return numeric_keypress(this, event);\n    }\n                        );\n                        */\n    //inp.onkeypress=\"return numeric_keypress(this, event)\";\n    inp.onkeypress = numeric_keypress;\n    inp.onpaste = event => false;\n\n    inp.addEventListener(\"focus\", function (event) {\n        this.value = \"\";\n        return false;\n    }\n    );\n\n\n}\n// Override show_questions to use object-oriented Question API\nfunction show_questions(json, container) {\n    // Accept container element or element ID\n    if (typeof container === 'string') {\n        container = document.getElementById(container);\n    }\n    if (!container) {\n        console.error('show_questions: invalid container', container);\n        return;\n    }\n\n    const shuffleQuestions = container.dataset.shufflequestions === 'True';\n    const shuffleAnswers = container.dataset.shuffleanswers === 'True';\n    const preserveResponses = container.dataset.preserveresponses === 'true';\n    const maxWidth = parseInt(container.dataset.maxwidth, 10) || 0;\n    let numQuestions = parseInt(container.dataset.numquestions, 10) || json.length;\n    if (numQuestions > json.length) numQuestions = json.length;\n\n    let questions = json;\n    if (shuffleQuestions || numQuestions < json.length) {\n        questions = getRandomSubarray(json, numQuestions);\n    }\n\n    questions.forEach((qa, index) => {\n        const id = makeid(8);\n        const options = {\n            shuffleAnswers: shuffleAnswers,\n            preserveResponses: preserveResponses,\n            maxWidth: maxWidth\n        };\n        Question.create(qa, id, index, options, container);\n    });\n\n    if (preserveResponses) {\n        const respDiv = document.createElement('div');\n        respDiv.id = 'responses' + container.id;\n        respDiv.className = 'JCResponses';\n        respDiv.dataset.responses = JSON.stringify([]);\n        respDiv.innerHTML = '<b>Select your answers and then follow the directions that will appear here.</b>';\n        container.appendChild(respDiv);\n    }\n\n    // Trigger MathJax typesetting if available\n    if (typeof MathJax != 'undefined') {\n        console.log(\"MathJax version\", MathJax.version);\n        var version = MathJax.version;\n        setTimeout(function(){\n            var version = MathJax.version;\n            console.log('After sleep, MathJax version', version);\n            if (version[0] == \"2\") {\n                MathJax.Hub.Queue([\"Typeset\", MathJax.Hub]);\n            } else if (version[0] == \"3\") {\n                if (MathJax.hasOwnProperty('typeset') ) {\n                    MathJax.typeset([container]);\n                } else {\n                    console.log('WARNING: Trying to force load MathJax 3');\n                    window.MathJax = {\n                        tex: {\n                            inlineMath: [['$', '$'], ['\\\\(', '\\\\)']]\n                        },\n                        svg: {\n                            fontCache: 'global'\n                        }\n                    };\n\n                    (function () {\n                        var script = document.createElement('script');\n                        script.src = 'https://cdn.jsdelivr.net/npm/mathjax@3/es5/tex-svg.js';\n                        script.async = true;\n                        document.head.appendChild(script);\n                    })();\n                }\n            }\n        }, 500);\nif (typeof version == 'undefined') {\n        } else\n        {\n            if (version[0] == \"2\") {\n                MathJax.Hub.Queue([\"Typeset\", MathJax.Hub]);\n            } else if (version[0] == \"3\") {\n                if (MathJax.hasOwnProperty('typeset') ) {\n                    MathJax.typeset([container]);\n                } else {\n                    console.log('WARNING: Trying to force load MathJax 3');\n                    window.MathJax = {\n                        tex: {\n                            inlineMath: [['$', '$'], ['\\\\(', '\\\\)']]\n                        },\n                        svg: {\n                            fontCache: 'global'\n                        }\n                    };\n\n                    (function () {\n                        var script = document.createElement('script');\n                        script.src = 'https://cdn.jsdelivr.net/npm/mathjax@3/es5/tex-svg.js';\n                        script.async = true;\n                        document.head.appendChild(script);\n                    })();\n                }\n            } else {\n                console.log(\"MathJax not found\");\n            }\n        }\n    }\n    // if (typeof MathJax !== 'undefined') {\n    //     const v = MathJax.version;\n    //     if (v[0] === '2') {\n    //         MathJax.Hub.Queue(['Typeset', MathJax.Hub]);\n    //     } else if (v[0] === '3') {\n    //         MathJax.typeset([container]);\n    //     }\n    // }\n\n    // Prevent link clicks from bubbling up\n    Array.from(container.getElementsByClassName('Link')).forEach(link => {\n        link.addEventListener('click', e => e.stopPropagation());\n    });\n}\nfunction levenshteinDistance(a, b) {\n    if (a.length === 0) return b.length;\n    if (b.length === 0) return a.length;\n\n    const matrix = Array(b.length + 1).fill(null).map(() => Array(a.length + 1).fill(null));\n\n    for (let i = 0; i <= a.length; i++) {\n        matrix[0][i] = i;\n    }\n\n    for (let j = 0; j <= b.length; j++) {\n        matrix[j][0] = j;\n    }\n\n    for (let j = 1; j <= b.length; j++) {\n        for (let i = 1; i <= a.length; i++) {\n            const cost = a[i - 1] === b[j - 1] ? 0 : 1;\n            matrix[j][i] = Math.min(\n                matrix[j - 1][i] + 1, // Deletion\n                matrix[j][i - 1] + 1, // Insertion\n                matrix[j - 1][i - 1] + cost // Substitution\n            );\n        }\n    }\n    return matrix[b.length][a.length];\n}\n// Object-oriented wrapper for string input questions\nclass StringQuestion extends Question {\n    constructor(qa, id, idx, opts, rootDiv) {\n        super(qa, id, idx, opts, rootDiv);\n    }\n    render() {\n        make_string(this.qa, this.outerqDiv, this.qDiv, this.aDiv, this.id);\n        this.wrapper.appendChild(this.fbDiv);\n    }\n}\nQuestion.register('string', StringQuestion);\n\nfunction check_string(ths, event) {\n    if (event.keyCode === 13) {\n        ths.blur();\n\n        var id = ths.id.split('-')[0];\n        var submission = ths.value.trim();\n        var fb = document.getElementById(\"fb\" + id);\n        fb.style.display = \"none\";\n        fb.innerHTML = \"Incorrect -- try again.\";\n\n        var answers = JSON.parse(ths.dataset.answers);\n        var defaultFB = \"Incorrect. Try again.\";\n        var correct;\n        var done = false;\n\n        // Handle default answer pattern: filter out and capture default feedback\n        var filteredAnswers = [];\n        answers.forEach(answer => {\n            if (answer.type === \"default\") {\n                defaultFB = answer.feedback;\n            } else {\n                filteredAnswers.push(answer);\n            }\n        });\n        answers = filteredAnswers;\n\n        answers.every(answer => {\n            correct = false;\n\n            let match = false;\n            if (answer.match_case) {\n                match = submission === answer.answer;\n            } else {\n                match = submission.toLowerCase() === answer.answer.toLowerCase();\n            }\n            console.log(submission);\n            console.log(answer.answer);\n            console.log(match);\n\n            if (match) {\n                if (\"feedback\" in answer) {\n                    fb.innerHTML = jaxify(answer.feedback);\n                } else {\n                    fb.innerHTML = jaxify(\"Correct\");\n                }\n                correct = answer.correct;\n                done = true;\n            } else if (answer.fuzzy_threshold) {\n                var max_length = Math.max(submission.length, answer.answer.length);\n                var ratio;\n                if (answer.match_case) {\n                    ratio = 1- (levenshteinDistance(submission, answer.answer) / max_length);\n                } else {\n                    ratio = 1- (levenshteinDistance(submission.toLowerCase(),\n                                                    answer.answer.toLowerCase()) / max_length);\n                }\n                if (ratio >= answer.fuzzy_threshold) {\n                    if (\"feedback\" in answer) {\n                        fb.innerHTML = jaxify(\"(Fuzzy) \" + answer.feedback);\n                    } else {\n                        fb.innerHTML = jaxify(\"Correct\");\n                    }\n                    correct = answer.correct;\n                    done = true;\n                }\n\n            }\n\n            if (done) {\n                return false;\n            } else {\n                return true;\n            }\n        });\n\n        if ((!done) && (defaultFB != \"\")) {\n            fb.innerHTML = jaxify(defaultFB);\n        }\n\n        fb.style.display = \"block\";\n        if (correct) {\n            ths.className = \"Input-text\";\n            ths.classList.add(\"correctButton\");\n            fb.className = \"Feedback\";\n            fb.classList.add(\"correct\");\n        } else {\n            ths.className = \"Input-text\";\n            ths.classList.add(\"incorrectButton\");\n            fb.className = \"Feedback\";\n            fb.classList.add(\"incorrect\");\n        }\n\n        var outerContainer = fb.parentElement.parentElement;\n        var responsesContainer = document.getElementById(\"responses\" + outerContainer.id);\n        if (responsesContainer) {\n            var qnum = document.getElementById(\"quizWrap\" + id).dataset.qnum;\n            var responses = JSON.parse(responsesContainer.dataset.responses);\n            responses[qnum] = submission;\n            responsesContainer.setAttribute('data-responses', JSON.stringify(responses));\n            printResponses(responsesContainer);\n        }\n\n        if (typeof MathJax != 'undefined') {\n            var version = MathJax.version;\n            if (version[0] == \"2\") {\n                MathJax.Hub.Queue([\"Typeset\", MathJax.Hub]);\n            } else if (version[0] == \"3\") {\n                MathJax.typeset([fb]);\n            }\n        } else {\n            console.log('MathJax not detected');\n        }\n        // After correct answer, if next JupyterQuiz question exists and has a text input, scroll by current question height\n        if (correct) {\n            var wrapper = ths.closest('.Quiz');\n            if (wrapper) {\n                var nextWrapper = wrapper.nextElementSibling;\n                if (nextWrapper && nextWrapper.classList.contains('Quiz')) {\n                    var nextInput = nextWrapper.querySelector('input.Input-text');\n                    if (nextInput) {\n                        var height = wrapper.getBoundingClientRect().height;\n                        nextInput.focus();\n                    }\n                }\n            }\n        }\n        return false;\n    }\n}\n\nfunction string_keypress(evnt) {\n    var charC = (evnt.which) ? evnt.which : evnt.keyCode;\n\n    if (charC == 13) {\n        check_string(this, evnt);\n    } \n}\n\n\nfunction make_string(qa, outerqDiv, qDiv, aDiv, id) {\n    outerqDiv.className = \"StringQn\";\n    aDiv.style.display = 'block';\n\n    var lab = document.createElement(\"label\");\n    lab.className = \"InpLabel\";\n    lab.innerHTML = \"Type your answer here:\";\n    aDiv.append(lab);\n\n    var inp = document.createElement(\"input\");\n    inp.type = \"text\";\n    inp.id = id + \"-0\";\n    inp.className = \"Input-text\";\n    inp.setAttribute('data-answers', JSON.stringify(qa.answers));\n    // Apply optional input width (approx. number of characters, in em units)\n    if (qa.input_width != null) {\n        inp.style['min-width'] = qa.input_width + 'em';\n    }\n    aDiv.append(inp);\n\n    inp.onkeypress = string_keypress;\n    inp.onpaste = event => false;\n\n    inp.addEventListener(\"focus\", function (event) {\n        this.value = \"\";\n        return false;\n    });\n}\n/*\n * Handle asynchrony issues when re-running quizzes in Jupyter notebooks.\n * Ensures show_questions is called after the container div is in the DOM.\n */\nfunction try_show() {\n  if (document.getElementById(\"OmCRrFIUWZGC\")) {\n    show_questions(questionsOmCRrFIUWZGC, OmCRrFIUWZGC);\n  } else {\n    setTimeout(try_show, 200);\n  }\n};\n// Invoke immediately\n{\n  try_show();\n}\n}\n",
      "text/plain": [
       "<IPython.core.display.Javascript object>"
      ]
     },
     "metadata": {},
     "output_type": "display_data"
    }
   ],
   "source": [
    "# Development for new questions\n",
    "\n",
    "display_quiz(\"questions/\" + \"nonlinear-equations.json\", colors=color_dict)"
   ]
  },
  {
   "cell_type": "code",
   "execution_count": 21,
   "metadata": {
    "editable": true,
    "slideshow": {
     "slide_type": ""
    },
    "tags": [
     "remove-input"
    ]
   },
   "outputs": [
    {
     "data": {
      "text/html": [
       "<div id=\"qEDXQdGCiVQh\" data-shufflequestions=\"False\" data-shuffleanswers=\"True\" data-preserveresponses=\"false\" data-numquestions=\"1000000\" data-maxwidth=\"600\" style=\"border-radius: 10px; text-align: left\"><style>\n",
       "#qEDXQdGCiVQh {\n",
       "   --jq-multiple-choice-bg: #CC0000;\n",
       "   --jq-mc-button-bg: #FFFFFF;\n",
       "   --jq-mc-button-border: #E1E1E1;\n",
       "   --jq-mc-button-inset-shadow: #000000;\n",
       "   --jq-many-choice-bg: #D14905;\n",
       "   --jq-numeric-bg: #427E93;\n",
       "   --jq-numeric-input-bg: #FFFFFF;\n",
       "   --jq-numeric-input-label: #000000;\n",
       "   --jq-numeric-input-shadow: #767676;\n",
       "   --jq-string-bg: #4c1a57;\n",
       "   --jq-incorrect-color: #990000;\n",
       "   --jq-correct-color: #4F868E;\n",
       "   --jq-text-color: #FFFFFF;\n",
       "}\n",
       "\n",
       ".Quiz {\n",
       "    max-width: 600px;\n",
       "    margin-top: 15px;\n",
       "    margin-left: auto;\n",
       "    margin-right: auto;\n",
       "/*    margin-bottom: 15px;*/\n",
       "/*    padding-bottom: 4px;*/\n",
       "    padding-top: 4px;\n",
       "    line-height: 1.1;\n",
       "    font-size: 16pt;\n",
       "    border-radius: inherit;\n",
       "}\n",
       "\n",
       ".QuizCode {\n",
       "    font-size: 14pt;\n",
       "    margin-top: 10px;\n",
       "    margin-left: 20px;\n",
       "    margin-right: 20px;\n",
       "}\n",
       "\n",
       ".QuizCode>pre {\n",
       "    padding: 4px;\n",
       "}\n",
       "\n",
       ".Quiz code {\n",
       "    background-color: lightgray;\n",
       "    color: black;\n",
       "}\n",
       "\n",
       ".Quiz .QuizCode code {\n",
       "    background-color: inherit;\n",
       "    color: inherit;\n",
       "}\n",
       "\n",
       "\n",
       ".Quiz .MCButton code {\n",
       "    background-color: inherit;\n",
       "    color: inherit;\n",
       "}\n",
       "\n",
       ".MCButton .QuizCode {\n",
       "    text-align: left;\n",
       "}\n",
       "\n",
       "\n",
       "\n",
       "\n",
       ".Answer {\n",
       "    border-radius: inherit;\n",
       "    display: grid;\n",
       "    grid-gap: 10px;\n",
       "    grid-template-columns: 1fr 1fr;\n",
       "    margin: 10px 0;\n",
       "}\n",
       "\n",
       "@media only screen and (max-width:480px) {\n",
       "    .Answer {\n",
       "        grid-template-columns: 1fr;\n",
       "    }\n",
       "\n",
       "}\n",
       "\n",
       ".Feedback {\n",
       "    font-size: 16pt;\n",
       "    text-align: center;\n",
       "/*    min-height: 2em;*/\n",
       "}\n",
       "\n",
       ".Input {\n",
       "    align: left;\n",
       "    font-size: 20pt;\n",
       "}\n",
       "\n",
       ".Input-text {\n",
       "    display: block;\n",
       "    margin: 10px;\n",
       "    color: inherit;\n",
       "    width: unset;\n",
       "    min-width: 140px;\n",
       "    max-width: 93%;\n",
       "    field-sizing: content;\n",
       "    background-color: var(--jq-numeric-input-bg);\n",
       "    color: var(--jq-text-color);\n",
       "    padding: 5px;\n",
       "    padding-left: 10px;\n",
       "    font-family: inherit;\n",
       "    font-size: 20px;\n",
       "    font-weight: inherit;\n",
       "    line-height: 20pt;\n",
       "    border: none;\n",
       "    border-radius: 0.2rem;\n",
       "    transition: box-shadow 0.1s);\n",
       "}\n",
       "\n",
       ".Input-text:focus {\n",
       "    /*outline: none;*/\n",
       "    background-color: var(--jq-numeric-input-bg);\n",
       "    box-shadow: 0.6rem 0.8rem 1.4rem -0.5rem var(--jq-numeric-input-shadow);\n",
       "}\n",
       "\n",
       ".MCButton {\n",
       "    background: var(--jq-mc-button-bg);\n",
       "    border: 1px solid var(--jq-mc-button-border);\n",
       "    border-radius: inherit;\n",
       "    color: #333333;\n",
       "    padding: 10px;\n",
       "    font-size: 16px;\n",
       "    cursor: pointer;\n",
       "    text-align: center;\n",
       "    display: flex;\n",
       "    align-items: center;\n",
       "    justify-content: center;\n",
       "}\n",
       "\n",
       ".MCButton p {\n",
       "    color: inherit;\n",
       "}\n",
       "\n",
       ".MultipleChoiceQn {\n",
       "    padding: 10px;\n",
       "    background: var(--jq-multiple-choice-bg);\n",
       "    color: var(--jq-text-color);\n",
       "    border-radius: inherit;\n",
       "}\n",
       "\n",
       ".ManyChoiceQn {\n",
       "    padding: 10px;\n",
       "    background: var(--jq-many-choice-bg);\n",
       "    color: var(--jq-text-color);\n",
       "    border-radius: inherit;\n",
       "}\n",
       "\n",
       ".NumericQn {\n",
       "    background: var(--jq-numeric-bg);\n",
       "    border-radius: inherit;\n",
       "    color: var(--jq-text-color);\n",
       "    padding: 10px;\n",
       "}\n",
       "\n",
       ".NumericQn p {\n",
       "    color: inherit;\n",
       "}\n",
       "\n",
       ".StringQn {\n",
       "    background: var(--jq-string-bg);\n",
       "    border-radius: inherit;\n",
       "    color: var(--jq-text-color);\n",
       "    padding: 10px;\n",
       "}\n",
       "\n",
       ".StringQn p {\n",
       "    color: inherit;\n",
       "}\n",
       "\n",
       "\n",
       ".InpLabel {\n",
       "    color: var(--jq-numeric-input-label);\n",
       "    float: left;\n",
       "    font-size: 15pt;\n",
       "    line-height: 34px;\n",
       "    margin-right: 10px;\n",
       "}\n",
       "\n",
       ".incorrect {\n",
       "    color: var(--jq-incorrect-color);\n",
       "}\n",
       "\n",
       ".correct {\n",
       "    color: var(--jq-correct-color);\n",
       "}\n",
       "\n",
       ".correctButton {\n",
       "    /*\n",
       "    background: var(--jq-correct-color);\n",
       "   */\n",
       "    animation: correct-anim 0.6s ease;\n",
       "    animation-fill-mode: forwards;\n",
       "    box-shadow: inset 0 0 5px var(--jq-mc-button-inset-shadow);\n",
       "    color: var(--jq-text-color);\n",
       "    /*outline: none;*/\n",
       "}\n",
       "\n",
       ".incorrectButton {\n",
       "    animation: incorrect-anim 0.8s ease;\n",
       "    animation-fill-mode: forwards;\n",
       "    box-shadow: inset 0 0 5px var(--jq-mc-button-inset-shadow);\n",
       "    color: var(--jq-text-color);\n",
       "    /*outline: none;*/\n",
       "}\n",
       "\n",
       "@keyframes incorrect-anim {\n",
       "    100% {\n",
       "        background-color: var(--jq-incorrect-color);\n",
       "    }\n",
       "}\n",
       "\n",
       "@keyframes correct-anim {\n",
       "    100% {\n",
       "        background-color: var(--jq-correct-color);\n",
       "    }\n",
       "}\n",
       "</style>"
      ],
      "text/plain": [
       "<IPython.core.display.HTML object>"
      ]
     },
     "metadata": {},
     "output_type": "display_data"
    },
    {
     "data": {
      "application/javascript": "var questionsqEDXQdGCiVQh=[\n    {\n        \"question\": \"What is the standard form of nonlinear equations in numerical computing?\",\n        \"type\": \"multiple_choice\",\n        \"answers\": [\n            {\n                \"answer\": \"f(x) = 0\",\n                \"correct\": true,\n                \"feedback\": \"Correct! The standard form for solving nonlinear equations in numerical computing is f(x) = 0, where f is the residual function that should be zero at the solution.\"\n            },\n            {\n                \"answer\": \"f(x) = g(x)\",\n                \"correct\": false,\n                \"feedback\": \"Incorrect. While this is a common way to express equations, for numerical computing, equations are reformulated as f(x) - g(x) = 0, reducing to the standard form f(x) = 0.\"\n            },\n            {\n                \"answer\": \"x = f(x)\",\n                \"correct\": false,\n                \"feedback\": \"Incorrect. This is a fixed-point form, not the standard form for solving nonlinear equations numerically.\"\n            },\n            {\n                \"answer\": \"f'(x) = 0\",\n                \"correct\": false,\n                \"feedback\": \"Incorrect. This would be the form for finding extrema (minima or maxima) of a function, not for solving nonlinear equations.\"\n            }\n        ]\n    },\n    {\n        \"question\": \"What is a residual function in the context of nonlinear equations?\",\n        \"type\": \"multiple_choice\",\n        \"answers\": [\n            {\n                \"answer\": \"A function that measures how far we are from a solution, which should be zero (or sufficiently small) when a solution is found\",\n                \"correct\": true,\n                \"feedback\": \"Correct! The residual function measures the 'error' or distance from a true solution, and should approach zero as we converge to the solution.\"\n            },\n            {\n                \"answer\": \"The derivative of the nonlinear function\",\n                \"correct\": false,\n                \"feedback\": \"Incorrect. The residual function is the function itself that we want to find roots for, not its derivative.\"\n            },\n            {\n                \"answer\": \"The difference between consecutive iterations in the solution process\",\n                \"correct\": false,\n                \"feedback\": \"Incorrect. This describes the step size or change in the solution, not the residual function.\"\n            },\n            {\n                \"answer\": \"The remaining terms after simplifying a nonlinear equation\",\n                \"correct\": false,\n                \"feedback\": \"Incorrect. The residual function is the nonlinear function whose roots we are trying to find.\"\n            }\n        ]\n    },\n    {\n        \"question\": \"In the Newton-Raphson method for a single equation, how is the next iteration calculated?\",\n        \"type\": \"multiple_choice\",\n        \"answers\": [\n            {\n                \"answer\": \"x_{k+1} = x_k - f(x_k)/f'(x_k)\",\n                \"correct\": true,\n                \"feedback\": \"Correct! The Newton-Raphson method uses the current value, the function value, and the derivative to calculate the next approximation.\"\n            },\n            {\n                \"answer\": \"x_{k+1} = x_k + f(x_k)/f'(x_k)\",\n                \"correct\": false,\n                \"feedback\": \"Incorrect. The formula uses subtraction, not addition.\"\n            },\n            {\n                \"answer\": \"x_{k+1} = x_k - f'(x_k)/f(x_k)\",\n                \"correct\": false,\n                \"feedback\": \"Incorrect. The function value is divided by the derivative, not the other way around.\"\n            },\n            {\n                \"answer\": \"x_{k+1} = x_k - f(x_k)*f'(x_k)\",\n                \"correct\": false,\n                \"feedback\": \"Incorrect. The formula involves division by the derivative, not multiplication.\"\n            }\n        ]\n    },\n    {\n        \"question\": \"For systems of nonlinear equations, what replaces the derivative in the Newton-Raphson method?\",\n        \"type\": \"multiple_choice\",\n        \"answers\": [\n            {\n                \"answer\": \"The Jacobian matrix\",\n                \"correct\": true,\n                \"feedback\": \"Correct! The Jacobian matrix contains all partial derivatives of the system and replaces the simple derivative used in the single-equation case.\"\n            },\n            {\n                \"answer\": \"The Hessian matrix\",\n                \"correct\": false,\n                \"feedback\": \"Incorrect. The Hessian matrix contains second derivatives and is used in optimization methods like Newton's method for minimization, not in root finding.\"\n            },\n            {\n                \"answer\": \"The gradient vector\",\n                \"correct\": false,\n                \"feedback\": \"Incorrect. The gradient vector would only give the direction of steepest increase, but the Jacobian matrix is needed for systems of equations.\"\n            },\n            {\n                \"answer\": \"The Laplacian operator\",\n                \"correct\": false,\n                \"feedback\": \"Incorrect. The Laplacian operator is used in partial differential equations, not in solving systems of nonlinear equations.\"\n            }\n        ]\n    },\n    {\n        \"question\": \"What is the primary advantage of providing an analytical Jacobian to nonlinear equation solvers?\",\n        \"type\": \"multiple_choice\",\n        \"answers\": [\n            {\n                \"answer\": \"Improved computational efficiency, especially for large systems\",\n                \"correct\": true,\n                \"feedback\": \"Correct! Providing an analytical Jacobian eliminates the need for numerical approximation, which requires multiple function evaluations and can be computationally expensive.\"\n            },\n            {\n                \"answer\": \"It guarantees convergence to the correct solution\",\n                \"correct\": false,\n                \"feedback\": \"Incorrect. While an analytical Jacobian improves performance, it doesn't guarantee convergence, which still depends on factors like the initial guess.\"\n            },\n            {\n                \"answer\": \"It eliminates the need for an initial guess\",\n                \"correct\": false,\n                \"feedback\": \"Incorrect. An initial guess is still required even when providing an analytical Jacobian.\"\n            },\n            {\n                \"answer\": \"It works for all types of nonlinear equations\",\n                \"correct\": false,\n                \"feedback\": \"Incorrect. Some nonlinear systems might still fail to converge or have multiple solutions, regardless of whether an analytical Jacobian is provided.\"\n            }\n        ]\n    },\n    {\n        \"question\": \"What convergence property is characteristic of the Newton-Raphson method near a solution?\",\n        \"type\": \"multiple_choice\",\n        \"answers\": [\n            {\n                \"answer\": \"Quadratic convergence\",\n                \"correct\": true,\n                \"feedback\": \"Correct! Near a solution, the error approximately squares with each iteration, meaning the number of correct digits roughly doubles each step.\"\n            },\n            {\n                \"answer\": \"Linear convergence\",\n                \"correct\": false,\n                \"feedback\": \"Incorrect. Newton-Raphson exhibits quadratic convergence near a solution, which is faster than linear convergence.\"\n            },\n            {\n                \"answer\": \"Logarithmic convergence\",\n                \"correct\": false,\n                \"feedback\": \"Incorrect. Newton-Raphson shows quadratic convergence near a solution, not logarithmic.\"\n            },\n            {\n                \"answer\": \"Exponential convergence\",\n                \"correct\": false,\n                \"feedback\": \"Incorrect. The Newton-Raphson method has quadratic convergence, not exponential.\"\n            }\n        ]\n    },\n    {\n        \"question\": \"When can the Newton-Raphson method fail or perform poorly?\",\n        \"type\": \"multiple_choice\",\n        \"answers\": [\n            {\n                \"answer\": \"When the initial guess is poor or when derivatives are close to zero\",\n                \"correct\": true,\n                \"feedback\": \"Correct! The method can diverge with poor initial guesses, and it behaves erratically near points where the derivative is zero (causing division by near-zero values).\"\n            },\n            {\n                \"answer\": \"Only when the function is not differentiable\",\n                \"correct\": false,\n                \"feedback\": \"Incorrect. While non-differentiability is a problem, the method can also fail with poor initial guesses or near points where derivatives are zero.\"\n            },\n            {\n                \"answer\": \"Only for systems with more than three variables\",\n                \"correct\": false,\n                \"feedback\": \"Incorrect. The dimensionality of the problem is not the determining factor for failure or poor performance.\"\n            },\n            {\n                \"answer\": \"When using analytical rather than numerical Jacobians\",\n                \"correct\": false,\n                \"feedback\": \"Incorrect. Analytical Jacobians generally improve performance rather than causing problems.\"\n            }\n        ]\n    },\n    {\n        \"question\": \"Which function in SciPy is commonly used for solving nonlinear equations?\",\n        \"type\": \"multiple_choice\",\n        \"answers\": [\n            {\n                \"answer\": \"scipy.optimize.fsolve\",\n                \"correct\": true,\n                \"feedback\": \"Correct! fsolve is the primary function in SciPy for finding roots of nonlinear systems of equations.\"\n            },\n            {\n                \"answer\": \"scipy.optimize.minimize\",\n                \"correct\": false,\n                \"feedback\": \"Incorrect. minimize is used for function minimization, not directly for solving nonlinear equations.\"\n            },\n            {\n                \"answer\": \"scipy.integrate.solve_ivp\",\n                \"correct\": false,\n                \"feedback\": \"Incorrect. solve_ivp is for solving initial value problems in differential equations, not nonlinear algebraic equations.\"\n            },\n            {\n                \"answer\": \"scipy.linalg.solve\",\n                \"correct\": false,\n                \"feedback\": \"Incorrect. solve is for solving linear systems of equations (Ax = b), not nonlinear systems.\"\n            }\n        ]\n    },\n    {\n        \"question\": \"How is the numerical Jacobian typically calculated when not explicitly provided?\",\n        \"type\": \"multiple_choice\",\n        \"answers\": [\n            {\n                \"answer\": \"Using finite differences, approximating each partial derivative\",\n                \"correct\": true,\n                \"feedback\": \"Correct! When not explicitly provided, each element of the Jacobian is approximated using finite differences by perturbing each variable slightly.\"\n            },\n            {\n                \"answer\": \"Using automatic differentiation\",\n                \"correct\": false,\n                \"feedback\": \"Incorrect. While automatic differentiation is a powerful technique, most standard solvers like fsolve use finite differences for numerical Jacobians.\"\n            },\n            {\n                \"answer\": \"Using symbolic differentiation\",\n                \"correct\": false,\n                \"feedback\": \"Incorrect. Symbolic differentiation requires explicit mathematical expressions and is not typically used for numerical Jacobian approximation in standard solvers.\"\n            },\n            {\n                \"answer\": \"Using Monte Carlo sampling\",\n                \"correct\": false,\n                \"feedback\": \"Incorrect. Monte Carlo methods are statistical techniques not typically used for Jacobian approximation.\"\n            }\n        ]\n    },\n    {\n        \"question\": \"What does 'convergence' typically mean in the context of solving nonlinear equations?\",\n        \"type\": \"multiple_choice\",\n        \"answers\": [\n            {\n                \"answer\": \"The solution changes very little between iterations and the residual function is close to zero\",\n                \"correct\": true,\n                \"feedback\": \"Correct! Convergence is typically checked by ensuring both small changes in the solution between iterations and small residual values.\"\n            },\n            {\n                \"answer\": \"The algorithm executes a fixed number of iterations\",\n                \"correct\": false,\n                \"feedback\": \"Incorrect. Running a fixed number of iterations doesn't guarantee convergence; we need to check that the solution stabilizes and the residual approaches zero.\"\n            },\n            {\n                \"answer\": \"The Jacobian matrix becomes singular\",\n                \"correct\": false,\n                \"feedback\": \"Incorrect. A singular Jacobian is typically a problem that can prevent convergence, not an indication of successful convergence.\"\n            },\n            {\n                \"answer\": \"The solution reaches its global minimum value\",\n                \"correct\": false,\n                \"feedback\": \"Incorrect. This describes optimization problems, not solving nonlinear equations where we seek roots, not minima.\"\n            }\n        ]\n    }\n]\n;\n\nif (typeof Question === 'undefined') {\n// Make a random ID\nfunction makeid(length) {\n    var result = [];\n    var characters = 'ABCDEFGHIJKLMNOPQRSTUVWXYZabcdefghijklmnopqrstuvwxyz';\n    var charactersLength = characters.length;\n    for (var i = 0; i < length; i++) {\n        result.push(characters.charAt(Math.floor(Math.random() * charactersLength)));\n    }\n    return result.join('');\n}\n// Convert LaTeX delimiters and markdown links to HTML\nfunction jaxify(string) {\n    let mystring = string;\n    let count = 0, count2 = 0;\n    let loc = mystring.search(/([^\\\\]|^)(\\$)/);\n    let loc2 = mystring.search(/([^\\\\]|^)(\\$\\$)/);\n    while (loc >= 0 || loc2 >= 0) {\n        if (loc2 >= 0) {\n            mystring = mystring.replace(/([^\\\\]|^)(\\$\\$)/, count2 % 2 ? '$1\\\\]' : '$1\\\\[');\n            count2++;\n        } else {\n            mystring = mystring.replace(/([^\\\\]|^)(\\$)/, count % 2 ? '$1\\\\)' : '$1\\\\(');\n            count++;\n        }\n        loc = mystring.search(/([^\\\\]|^)(\\$)/);\n        loc2 = mystring.search(/([^\\\\]|^)(\\$\\$)/);\n    }\n    // Replace markdown links\n    mystring = mystring.replace(/<http(.*?)>/g, '<a href=\"http$1\" target=\"_blank\" class=\"Link\">http$1</a>');\n    mystring = mystring.replace(/\\[(.*?)\\]\\((.*?)\\)/g, '<a href=\"$2\" target=\"_blank\" class=\"Link\">$1</a>');\n    return mystring;\n}\n\n// Base class for question types\nclass Question {\n    static registry = {};\n    static register(type, cls) {\n        Question.registry[type] = cls;\n    }\n    static create(qa, id, index, options, rootDiv) {\n        const Cls = Question.registry[qa.type];\n        if (!Cls) {\n            console.error(`No question class registered for type \"${qa.type}\"`);\n            return;\n        }\n        const q = new Cls(qa, id, index, options, rootDiv);\n        q.render();\n    }\n\n    constructor(qa, id, index, options, rootDiv) {\n        this.qa = qa;\n        this.id = id;\n        this.index = index;\n        this.options = options;\n        this.rootDiv = rootDiv;\n        // wrapper\n        this.wrapper = document.createElement('div');\n        this.wrapper.id = `quizWrap${id}`;\n        this.wrapper.className = 'Quiz';\n        this.wrapper.dataset.qnum = index;\n        this.wrapper.style.maxWidth = `${options.maxWidth}px`;\n        rootDiv.appendChild(this.wrapper);\n        // question container\n        this.outerqDiv = document.createElement('div');\n        this.outerqDiv.id = `OuterquizQn${id}${index}`;\n        this.wrapper.appendChild(this.outerqDiv);\n        // question text\n        this.qDiv = document.createElement('div');\n        this.qDiv.id = `quizQn${id}${index}`;\n        if (qa.question) {\n            this.qDiv.innerHTML = jaxify(qa.question);\n            this.outerqDiv.appendChild(this.qDiv);\n        }\n        // code block\n        if (qa.code) {\n            const codeDiv = document.createElement('div');\n            codeDiv.id = `code${id}${index}`;\n            codeDiv.className = 'QuizCode';\n            const pre = document.createElement('pre');\n            const codeEl = document.createElement('code');\n            codeEl.innerHTML = qa.code;\n            pre.appendChild(codeEl);\n            codeDiv.appendChild(pre);\n            this.outerqDiv.appendChild(codeDiv);\n        }\n        // answer container\n        this.aDiv = document.createElement('div');\n        this.aDiv.id = `quizAns${id}${index}`;\n        this.aDiv.className = 'Answer';\n        this.wrapper.appendChild(this.aDiv);\n        // feedback container (append after answers)\n        this.fbDiv = document.createElement('div');\n        this.fbDiv.id = `fb${id}`;\n        this.fbDiv.className = 'Feedback';\n        this.fbDiv.dataset.answeredcorrect = 0;\n    }\n\n    render() {\n        throw new Error('render() not implemented');\n    }\n\n    preserveResponse(val) {\n        if (!this.options.preserveResponses) return;\n        const resp = document.getElementById(`responses${this.rootDiv.id}`);\n        if (!resp) return;\n        const arr = JSON.parse(resp.dataset.responses);\n        arr[this.index] = val;\n        resp.dataset.responses = JSON.stringify(arr);\n        printResponses(resp);\n    }\n\n    typeset(container) {\n        if (typeof MathJax !== 'undefined') {\n            const v = MathJax.version;\n            if (v[0] === '2') {\n                MathJax.Hub.Queue(['Typeset', MathJax.Hub]);\n            } else {\n                MathJax.typeset([container]);\n            }\n        }\n    }\n}\n\n// Choose a random subset of an array. Can also be used to shuffle the array\nfunction getRandomSubarray(arr, size) {\n    var shuffled = arr.slice(0), i = arr.length, temp, index;\n    while (i--) {\n        index = Math.floor((i + 1) * Math.random());\n        temp = shuffled[index];\n        shuffled[index] = shuffled[i];\n        shuffled[i] = temp;\n    }\n    return shuffled.slice(0, size);\n}\n\nfunction printResponses(responsesContainer) {\n    var responses=JSON.parse(responsesContainer.dataset.responses);\n    var stringResponses='<B>IMPORTANT!</B>To preserve this answer sequence for submission, when you have finalized your answers: <ol> <li> Copy the text in this cell below \"Answer String\"</li> <li> Double click on the cell directly below the Answer String, labeled \"Replace Me\"</li> <li> Select the whole \"Replace Me\" text</li> <li> Paste in your answer string and press shift-Enter.</li><li>Save the notebook using the save icon or File->Save Notebook menu item</li></ul><br><br><br><b>Answer String:</b><br> ';\n    console.log(responses);\n    responses.forEach((response, index) => {\n        if (response) {\n            console.log(index + ': ' + response);\n            stringResponses+= index + ': ' + response +\"<BR>\";\n        }\n    });\n    responsesContainer.innerHTML=stringResponses;\n}\n/* Callback function to determine whether a selected multiple-choice\n   button corresponded to a correct answer and to provide feedback\n   based on the answer */\nfunction check_mc() {\n    var id = this.id.split('-')[0];\n    //var response = this.id.split('-')[1];\n    //console.log(response);\n    //console.log(\"In check_mc(), id=\"+id);\n    //console.log(event.srcElement.id)           \n    //console.log(event.srcElement.dataset.correct)   \n    //console.log(event.srcElement.dataset.feedback)\n\n    var label = event.srcElement;\n    //console.log(label, label.nodeName);\n    var depth = 0;\n    while ((label.nodeName != \"LABEL\") && (depth < 20)) {\n        label = label.parentElement;\n        console.log(depth, label);\n        depth++;\n    }\n\n\n\n    var answers = label.parentElement.children;\n    //console.log(answers);\n\n    // Split behavior based on multiple choice vs many choice:\n    var fb = document.getElementById(\"fb\" + id);\n\n\n\n    /* Multiple choice (1 answer). Allow for 0 correct\n       answers as an edge case */\n    if (fb.dataset.numcorrect <= 1) {\n        // What follows is for the saved responses stuff\n        var outerContainer = fb.parentElement.parentElement;\n        var responsesContainer = document.getElementById(\"responses\" + outerContainer.id);\n        if (responsesContainer) {\n            //console.log(responsesContainer);\n            var response = label.firstChild.innerText;\n            if (label.querySelector(\".QuizCode\")){\n                response+= label.querySelector(\".QuizCode\").firstChild.innerText;\n            }\n            console.log(response);\n            //console.log(document.getElementById(\"quizWrap\"+id));\n            var qnum = document.getElementById(\"quizWrap\"+id).dataset.qnum;\n            console.log(\"Question \" + qnum);\n            //console.log(id, \", got numcorrect=\",fb.dataset.numcorrect);\n            var responses=JSON.parse(responsesContainer.dataset.responses);\n            console.log(responses);\n            responses[qnum]= response;\n            responsesContainer.setAttribute('data-responses', JSON.stringify(responses));\n            printResponses(responsesContainer);\n        }\n        // End code to preserve responses\n\n        for (var i = 0; i < answers.length; i++) {\n            var child = answers[i];\n            //console.log(child);\n            child.className = \"MCButton\";\n        }\n\n\n\n        if (label.dataset.correct == \"true\") {\n            // console.log(\"Correct action\");\n            if (\"feedback\" in label.dataset) {\n                fb.innerHTML = jaxify(label.dataset.feedback);\n            } else {\n                fb.innerHTML = \"Correct!\";\n            }\n            label.classList.add(\"correctButton\");\n\n            fb.className = \"Feedback\";\n            fb.classList.add(\"correct\");\n\n        } else {\n            if (\"feedback\" in label.dataset) {\n                fb.innerHTML = jaxify(label.dataset.feedback);\n            } else {\n                fb.innerHTML = \"Incorrect -- try again.\";\n            }\n            //console.log(\"Error action\");\n            label.classList.add(\"incorrectButton\");\n            fb.className = \"Feedback\";\n            fb.classList.add(\"incorrect\");\n        }\n    }\n    else { /* Many choice (more than 1 correct answer) */\n        var reset = false;\n        var feedback;\n         if (label.dataset.correct == \"true\") {\n            if (\"feedback\" in label.dataset) {\n                feedback = jaxify(label.dataset.feedback);\n            } else {\n                feedback = \"Correct!\";\n            }\n            if (label.dataset.answered <= 0) {\n                if (fb.dataset.answeredcorrect < 0) {\n                    fb.dataset.answeredcorrect = 1;\n                    reset = true;\n                } else {\n                    fb.dataset.answeredcorrect++;\n                }\n                if (reset) {\n                    for (var i = 0; i < answers.length; i++) {\n                        var child = answers[i];\n                        child.className = \"MCButton\";\n                        child.dataset.answered = 0;\n                    }\n                }\n                label.classList.add(\"correctButton\");\n                label.dataset.answered = 1;\n                fb.className = \"Feedback\";\n                fb.classList.add(\"correct\");\n\n            }\n        } else {\n            if (\"feedback\" in label.dataset) {\n                feedback = jaxify(label.dataset.feedback);\n            } else {\n                feedback = \"Incorrect -- try again.\";\n            }\n            if (fb.dataset.answeredcorrect > 0) {\n                fb.dataset.answeredcorrect = -1;\n                reset = true;\n            } else {\n                fb.dataset.answeredcorrect--;\n            }\n\n            if (reset) {\n                for (var i = 0; i < answers.length; i++) {\n                    var child = answers[i];\n                    child.className = \"MCButton\";\n                    child.dataset.answered = 0;\n                }\n            }\n            label.classList.add(\"incorrectButton\");\n            fb.className = \"Feedback\";\n            fb.classList.add(\"incorrect\");\n        }\n        // What follows is for the saved responses stuff\n        var outerContainer = fb.parentElement.parentElement;\n        var responsesContainer = document.getElementById(\"responses\" + outerContainer.id);\n        if (responsesContainer) {\n            //console.log(responsesContainer);\n            var response = label.firstChild.innerText;\n            if (label.querySelector(\".QuizCode\")){\n                response+= label.querySelector(\".QuizCode\").firstChild.innerText;\n            }\n            console.log(response);\n            //console.log(document.getElementById(\"quizWrap\"+id));\n            var qnum = document.getElementById(\"quizWrap\"+id).dataset.qnum;\n            console.log(\"Question \" + qnum);\n            //console.log(id, \", got numcorrect=\",fb.dataset.numcorrect);\n            var responses=JSON.parse(responsesContainer.dataset.responses);\n            if (label.dataset.correct == \"true\") {\n                if (typeof(responses[qnum]) == \"object\"){\n                    if (!responses[qnum].includes(response))\n                        responses[qnum].push(response);\n                } else{\n                    responses[qnum]= [ response ];\n                }\n            } else {\n                responses[qnum]= response;\n            }\n            console.log(responses);\n            responsesContainer.setAttribute('data-responses', JSON.stringify(responses));\n            printResponses(responsesContainer);\n        }\n        // End save responses stuff\n\n\n\n        var numcorrect = fb.dataset.numcorrect;\n        var answeredcorrect = fb.dataset.answeredcorrect;\n        if (answeredcorrect >= 0) {\n            fb.innerHTML = feedback + \" [\" + answeredcorrect + \"/\" + numcorrect + \"]\";\n        } else {\n            fb.innerHTML = feedback + \" [\" + 0 + \"/\" + numcorrect + \"]\";\n        }\n\n\n    }\n\n    if (typeof MathJax != 'undefined') {\n        var version = MathJax.version;\n        console.log('MathJax version', version);\n        if (version[0] == \"2\") {\n            MathJax.Hub.Queue([\"Typeset\", MathJax.Hub]);\n        } else if (version[0] == \"3\") {\n            MathJax.typeset([fb]);\n        }\n    } else {\n        console.log('MathJax not detected');\n    }\n\n}\n\n\n/* Function to produce the HTML buttons for a multiple choice/\n   many choice question  and to update the CSS tags based on\n   the question type */\nfunction make_mc(qa, shuffle_answers, outerqDiv, qDiv, aDiv, id) {\n\n    var shuffled;\n    if (shuffle_answers == true) {\n        //console.log(shuffle_answers+\" read as true\");\n        shuffled = getRandomSubarray(qa.answers, qa.answers.length);\n    } else {\n        //console.log(shuffle_answers+\" read as false\");\n        shuffled = qa.answers;\n    }\n\n\n    var num_correct = 0;\n\n    shuffled.forEach((item, index, ans_array) => {\n        //console.log(answer);\n\n        // Make input element\n        var inp = document.createElement(\"input\");\n        inp.type = \"radio\";\n        inp.id = \"quizo\" + id + index;\n        inp.style = \"display:none;\";\n        aDiv.append(inp);\n\n        //Make label for input element\n        var lab = document.createElement(\"label\");\n        lab.className = \"MCButton\";\n        lab.id = id + '-' + index;\n        lab.onclick = check_mc;\n        var aSpan = document.createElement('span');\n        aSpan.classsName = \"\";\n        //qDiv.id=\"quizQn\"+id+index;\n        if (\"answer\" in item) {\n            aSpan.innerHTML = jaxify(item.answer);\n            //aSpan.innerHTML=item.answer;\n        }\n        lab.append(aSpan);\n\n        // Create div for code inside question\n        var codeSpan;\n        if (\"code\" in item) {\n            codeSpan = document.createElement('span');\n            codeSpan.id = \"code\" + id + index;\n            codeSpan.className = \"QuizCode\";\n            var codePre = document.createElement('pre');\n            codeSpan.append(codePre);\n            var codeCode = document.createElement('code');\n            codePre.append(codeCode);\n            codeCode.innerHTML = item.code;\n            lab.append(codeSpan);\n            //console.log(codeSpan);\n        }\n\n        //lab.textContent=item.answer;\n\n        // Set the data attributes for the answer\n        lab.setAttribute('data-correct', item.correct);\n        if (item.correct) {\n            num_correct++;\n        }\n        if (\"feedback\" in item) {\n            lab.setAttribute('data-feedback', item.feedback);\n        }\n        lab.setAttribute('data-answered', 0);\n\n        aDiv.append(lab);\n\n    });\n\n    if (num_correct > 1) {\n        outerqDiv.className = \"ManyChoiceQn\";\n    } else {\n        outerqDiv.className = \"MultipleChoiceQn\";\n    }\n\n    return num_correct;\n\n}\n// Object-oriented wrapper for MC/MANY choice\nclass MCQuestion extends Question {\n    constructor(qa, id, idx, opts, rootDiv) { super(qa, id, idx, opts, rootDiv); }\n    render() {\n        //console.log(\"options.shuffleAnswers \" + this.options.shuffleAnswers);\n        const numCorrect = make_mc(\n            this.qa,\n            this.options.shuffleAnswers,\n            this.outerqDiv,\n            this.qDiv,\n            this.aDiv,\n            this.id\n        );\n        if ('answer_cols' in this.qa) {\n            this.aDiv.style.gridTemplateColumns =\n                'repeat(' + this.qa.answer_cols + ', 1fr)';\n        }\n        this.fbDiv.dataset.numcorrect = numCorrect;\n        this.wrapper.appendChild(this.fbDiv);\n    }\n}\nQuestion.register('multiple_choice', MCQuestion);\nQuestion.register('many_choice', MCQuestion);\nfunction check_numeric(ths, event) {\n\n    if (event.keyCode === 13) {\n        ths.blur();\n\n        var id = ths.id.split('-')[0];\n\n        var submission = ths.value;\n        if (submission.indexOf('/') != -1) {\n            var sub_parts = submission.split('/');\n            //console.log(sub_parts);\n            submission = sub_parts[0] / sub_parts[1];\n        }\n        //console.log(\"Reader entered\", submission);\n\n        if (\"precision\" in ths.dataset) {\n            var precision = ths.dataset.precision;\n            submission = Number(Number(submission).toPrecision(precision));\n        }\n\n\n        //console.log(\"In check_numeric(), id=\"+id);\n        //console.log(event.srcElement.id)           \n        //console.log(event.srcElement.dataset.feedback)\n\n        var fb = document.getElementById(\"fb\" + id);\n        fb.style.display = \"none\";\n        fb.innerHTML = \"Incorrect -- try again.\";\n\n        var answers = JSON.parse(ths.dataset.answers);\n        //console.log(answers);\n\n        var defaultFB = \"Incorrect. Try again.\";\n        var correct;\n        var done = false;\n        answers.every(answer => {\n            //console.log(answer.type);\n\n            correct = false;\n            // if (answer.type==\"value\"){\n            if ('value' in answer) {\n                var value;\n                if (\"precision\" in ths.dataset) {\n                    value = answer.value.toPrecision(ths.dataset.precision);\n                } else {\n                    value = answer.value;\n                }\n                if (submission == value) {\n                    if (\"feedback\" in answer) {\n                        fb.innerHTML = jaxify(answer.feedback);\n                    } else {\n                        fb.innerHTML = jaxify(\"Correct\");\n                    }\n                    correct = answer.correct;\n                    //console.log(answer.correct);\n                    done = true;\n                }\n\n                // } else if (answer.type==\"range\") {\n            } else if ('range' in answer) {\n                console.log(answer.range);\n                console.log(submission, submission >=answer.range[0], submission < answer.range[1])\n                if ((submission >= answer.range[0]) && (submission < answer.range[1])) {\n                    fb.innerHTML = jaxify(answer.feedback);\n                    correct = answer.correct;\n                    console.log(answer.correct);\n                    done = true;\n                }\n            } else if (answer.type == \"default\") {\n                if (\"feedback\" in answer) {\n                    defaultFB = answer.feedback;\n                } \n            }\n            if (done) {\n                return false; // Break out of loop if this has been marked correct\n            } else {\n                return true; // Keep looking for case that includes this as a correct answer\n            }\n        });\n        console.log(\"done:\", done);\n\n        if ((!done) && (defaultFB != \"\")) {\n            fb.innerHTML = jaxify(defaultFB);\n            //console.log(\"Default feedback\", defaultFB);\n        }\n\n        fb.style.display = \"block\";\n        if (correct) {\n            ths.className = \"Input-text\";\n            ths.classList.add(\"correctButton\");\n            fb.className = \"Feedback\";\n            fb.classList.add(\"correct\");\n        } else {\n            ths.className = \"Input-text\";\n            ths.classList.add(\"incorrectButton\");\n            fb.className = \"Feedback\";\n            fb.classList.add(\"incorrect\");\n        }\n\n        // What follows is for the saved responses stuff\n        var outerContainer = fb.parentElement.parentElement;\n        var responsesContainer = document.getElementById(\"responses\" + outerContainer.id);\n        if (responsesContainer) {\n            console.log(submission);\n            var qnum = document.getElementById(\"quizWrap\"+id).dataset.qnum;\n            //console.log(\"Question \" + qnum);\n            //console.log(id, \", got numcorrect=\",fb.dataset.numcorrect);\n            var responses=JSON.parse(responsesContainer.dataset.responses);\n            console.log(responses);\n            if (submission == ths.value){\n                responses[qnum]= submission;\n            } else {\n                responses[qnum]= ths.value + \"(\" + submission +\")\";\n            }\n            responsesContainer.setAttribute('data-responses', JSON.stringify(responses));\n            printResponses(responsesContainer);\n        }\n        // End code to preserve responses\n\n        if (typeof MathJax != 'undefined') {\n            var version = MathJax.version;\n            console.log('MathJax version', version);\n            if (version[0] == \"2\") {\n                MathJax.Hub.Queue([\"Typeset\", MathJax.Hub]);\n            } else if (version[0] == \"3\") {\n                MathJax.typeset([fb]);\n            }\n        } else {\n            console.log('MathJax not detected');\n        }\n        // After correct answer, if next JupyterQuiz question exists and has a text input, scroll by current question height\n        if (correct) {\n            // find the current question wrapper\n            var wrapper = ths.closest('.Quiz');\n            if (wrapper) {\n                var nextWrapper = wrapper.nextElementSibling;\n                if (nextWrapper && nextWrapper.classList.contains('Quiz')) {\n                    var nextInput = nextWrapper.querySelector('input.Input-text');\n                    if (nextInput) {\n                        var height = wrapper.getBoundingClientRect().height;\n                        console.log(height);\n                        nextInput.focus();\n                    }\n                }\n            }\n        }\n        return false;\n    }\n\n}\n// Object-oriented wrapper for numeric questions\nclass NumericQuestion extends Question {\n    constructor(qa, id, idx, opts, rootDiv) {\n        super(qa, id, idx, opts, rootDiv);\n    }\n    render() {\n        make_numeric(this.qa, this.outerqDiv, this.qDiv, this.aDiv, this.id);\n        this.wrapper.appendChild(this.fbDiv);\n    }\n}\nQuestion.register('numeric', NumericQuestion);\n\nfunction isValid(el, charC) {\n    //console.log(\"Input char: \", charC);\n    if (charC == 46) {\n        if (el.value.indexOf('.') === -1) {\n            return true;\n        } else if (el.value.indexOf('/') != -1) {\n            var parts = el.value.split('/');\n            if (parts[1].indexOf('.') === -1) {\n                return true;\n            }\n        }\n        else {\n            return false;\n        }\n    } else if (charC == 47) {\n        if (el.value.indexOf('/') === -1) {\n            if ((el.value != \"\") && (el.value != \".\")) {\n                return true;\n            } else {\n                return false;\n            }\n        } else {\n            return false;\n        }\n    } else if (charC == 45) {\n        var edex = el.value.indexOf('e');\n        if (edex == -1) {\n            edex = el.value.indexOf('E');\n        }\n\n        if (el.value == \"\") {\n            return true;\n        } else if (edex == (el.value.length - 1)) { // If just after e or E\n            return true;\n        } else {\n            return false;\n        }\n    } else if (charC == 101) { // \"e\"\n        if ((el.value.indexOf('e') === -1) && (el.value.indexOf('E') === -1) && (el.value.indexOf('/') == -1)) {\n            // Prev symbol must be digit or decimal point:\n            if (el.value.slice(-1).search(/\\d/) >= 0) {\n                return true;\n            } else if (el.value.slice(-1).search(/\\./) >= 0) {\n                return true;\n            } else {\n                return false;\n            }\n        } else {\n            return false;\n        }\n    } else {\n        if (charC > 31 && (charC < 48 || charC > 57))\n            return false;\n    }\n    return true;\n}\n\nfunction numeric_keypress(evnt) {\n    var charC = (evnt.which) ? evnt.which : evnt.keyCode;\n\n    if (charC == 13) {\n        check_numeric(this, evnt);\n    } else {\n        return isValid(this, charC);\n    }\n}\n\n\n\n\n\nfunction make_numeric(qa, outerqDiv, qDiv, aDiv, id) {\n\n\n\n    //console.log(answer);\n\n\n    outerqDiv.className = \"NumericQn\";\n    aDiv.style.display = 'block';\n\n    var lab = document.createElement(\"label\");\n    lab.className = \"InpLabel\";\n    lab.innerHTML = \"Type numeric answer here:\";\n    aDiv.append(lab);\n\n    var inp = document.createElement(\"input\");\n    inp.type = \"text\";\n    //inp.id=\"input-\"+id;\n    inp.id = id + \"-0\";\n    inp.className = \"Input-text\";\n    inp.setAttribute('data-answers', JSON.stringify(qa.answers));\n    if (\"precision\" in qa) {\n        inp.setAttribute('data-precision', qa.precision);\n    }\n    aDiv.append(inp);\n    //console.log(inp);\n\n    //inp.addEventListener(\"keypress\", check_numeric);\n    //inp.addEventListener(\"keypress\", numeric_keypress);\n    /*\n    inp.addEventListener(\"keypress\", function(event) {\n        return numeric_keypress(this, event);\n    }\n                        );\n                        */\n    //inp.onkeypress=\"return numeric_keypress(this, event)\";\n    inp.onkeypress = numeric_keypress;\n    inp.onpaste = event => false;\n\n    inp.addEventListener(\"focus\", function (event) {\n        this.value = \"\";\n        return false;\n    }\n    );\n\n\n}\n// Override show_questions to use object-oriented Question API\nfunction show_questions(json, container) {\n    // Accept container element or element ID\n    if (typeof container === 'string') {\n        container = document.getElementById(container);\n    }\n    if (!container) {\n        console.error('show_questions: invalid container', container);\n        return;\n    }\n\n    const shuffleQuestions = container.dataset.shufflequestions === 'True';\n    const shuffleAnswers = container.dataset.shuffleanswers === 'True';\n    const preserveResponses = container.dataset.preserveresponses === 'true';\n    const maxWidth = parseInt(container.dataset.maxwidth, 10) || 0;\n    let numQuestions = parseInt(container.dataset.numquestions, 10) || json.length;\n    if (numQuestions > json.length) numQuestions = json.length;\n\n    let questions = json;\n    if (shuffleQuestions || numQuestions < json.length) {\n        questions = getRandomSubarray(json, numQuestions);\n    }\n\n    questions.forEach((qa, index) => {\n        const id = makeid(8);\n        const options = {\n            shuffleAnswers: shuffleAnswers,\n            preserveResponses: preserveResponses,\n            maxWidth: maxWidth\n        };\n        Question.create(qa, id, index, options, container);\n    });\n\n    if (preserveResponses) {\n        const respDiv = document.createElement('div');\n        respDiv.id = 'responses' + container.id;\n        respDiv.className = 'JCResponses';\n        respDiv.dataset.responses = JSON.stringify([]);\n        respDiv.innerHTML = '<b>Select your answers and then follow the directions that will appear here.</b>';\n        container.appendChild(respDiv);\n    }\n\n    // Trigger MathJax typesetting if available\n    if (typeof MathJax != 'undefined') {\n        console.log(\"MathJax version\", MathJax.version);\n        var version = MathJax.version;\n        setTimeout(function(){\n            var version = MathJax.version;\n            console.log('After sleep, MathJax version', version);\n            if (version[0] == \"2\") {\n                MathJax.Hub.Queue([\"Typeset\", MathJax.Hub]);\n            } else if (version[0] == \"3\") {\n                if (MathJax.hasOwnProperty('typeset') ) {\n                    MathJax.typeset([container]);\n                } else {\n                    console.log('WARNING: Trying to force load MathJax 3');\n                    window.MathJax = {\n                        tex: {\n                            inlineMath: [['$', '$'], ['\\\\(', '\\\\)']]\n                        },\n                        svg: {\n                            fontCache: 'global'\n                        }\n                    };\n\n                    (function () {\n                        var script = document.createElement('script');\n                        script.src = 'https://cdn.jsdelivr.net/npm/mathjax@3/es5/tex-svg.js';\n                        script.async = true;\n                        document.head.appendChild(script);\n                    })();\n                }\n            }\n        }, 500);\nif (typeof version == 'undefined') {\n        } else\n        {\n            if (version[0] == \"2\") {\n                MathJax.Hub.Queue([\"Typeset\", MathJax.Hub]);\n            } else if (version[0] == \"3\") {\n                if (MathJax.hasOwnProperty('typeset') ) {\n                    MathJax.typeset([container]);\n                } else {\n                    console.log('WARNING: Trying to force load MathJax 3');\n                    window.MathJax = {\n                        tex: {\n                            inlineMath: [['$', '$'], ['\\\\(', '\\\\)']]\n                        },\n                        svg: {\n                            fontCache: 'global'\n                        }\n                    };\n\n                    (function () {\n                        var script = document.createElement('script');\n                        script.src = 'https://cdn.jsdelivr.net/npm/mathjax@3/es5/tex-svg.js';\n                        script.async = true;\n                        document.head.appendChild(script);\n                    })();\n                }\n            } else {\n                console.log(\"MathJax not found\");\n            }\n        }\n    }\n    // if (typeof MathJax !== 'undefined') {\n    //     const v = MathJax.version;\n    //     if (v[0] === '2') {\n    //         MathJax.Hub.Queue(['Typeset', MathJax.Hub]);\n    //     } else if (v[0] === '3') {\n    //         MathJax.typeset([container]);\n    //     }\n    // }\n\n    // Prevent link clicks from bubbling up\n    Array.from(container.getElementsByClassName('Link')).forEach(link => {\n        link.addEventListener('click', e => e.stopPropagation());\n    });\n}\nfunction levenshteinDistance(a, b) {\n    if (a.length === 0) return b.length;\n    if (b.length === 0) return a.length;\n\n    const matrix = Array(b.length + 1).fill(null).map(() => Array(a.length + 1).fill(null));\n\n    for (let i = 0; i <= a.length; i++) {\n        matrix[0][i] = i;\n    }\n\n    for (let j = 0; j <= b.length; j++) {\n        matrix[j][0] = j;\n    }\n\n    for (let j = 1; j <= b.length; j++) {\n        for (let i = 1; i <= a.length; i++) {\n            const cost = a[i - 1] === b[j - 1] ? 0 : 1;\n            matrix[j][i] = Math.min(\n                matrix[j - 1][i] + 1, // Deletion\n                matrix[j][i - 1] + 1, // Insertion\n                matrix[j - 1][i - 1] + cost // Substitution\n            );\n        }\n    }\n    return matrix[b.length][a.length];\n}\n// Object-oriented wrapper for string input questions\nclass StringQuestion extends Question {\n    constructor(qa, id, idx, opts, rootDiv) {\n        super(qa, id, idx, opts, rootDiv);\n    }\n    render() {\n        make_string(this.qa, this.outerqDiv, this.qDiv, this.aDiv, this.id);\n        this.wrapper.appendChild(this.fbDiv);\n    }\n}\nQuestion.register('string', StringQuestion);\n\nfunction check_string(ths, event) {\n    if (event.keyCode === 13) {\n        ths.blur();\n\n        var id = ths.id.split('-')[0];\n        var submission = ths.value.trim();\n        var fb = document.getElementById(\"fb\" + id);\n        fb.style.display = \"none\";\n        fb.innerHTML = \"Incorrect -- try again.\";\n\n        var answers = JSON.parse(ths.dataset.answers);\n        var defaultFB = \"Incorrect. Try again.\";\n        var correct;\n        var done = false;\n\n        // Handle default answer pattern: filter out and capture default feedback\n        var filteredAnswers = [];\n        answers.forEach(answer => {\n            if (answer.type === \"default\") {\n                defaultFB = answer.feedback;\n            } else {\n                filteredAnswers.push(answer);\n            }\n        });\n        answers = filteredAnswers;\n\n        answers.every(answer => {\n            correct = false;\n\n            let match = false;\n            if (answer.match_case) {\n                match = submission === answer.answer;\n            } else {\n                match = submission.toLowerCase() === answer.answer.toLowerCase();\n            }\n            console.log(submission);\n            console.log(answer.answer);\n            console.log(match);\n\n            if (match) {\n                if (\"feedback\" in answer) {\n                    fb.innerHTML = jaxify(answer.feedback);\n                } else {\n                    fb.innerHTML = jaxify(\"Correct\");\n                }\n                correct = answer.correct;\n                done = true;\n            } else if (answer.fuzzy_threshold) {\n                var max_length = Math.max(submission.length, answer.answer.length);\n                var ratio;\n                if (answer.match_case) {\n                    ratio = 1- (levenshteinDistance(submission, answer.answer) / max_length);\n                } else {\n                    ratio = 1- (levenshteinDistance(submission.toLowerCase(),\n                                                    answer.answer.toLowerCase()) / max_length);\n                }\n                if (ratio >= answer.fuzzy_threshold) {\n                    if (\"feedback\" in answer) {\n                        fb.innerHTML = jaxify(\"(Fuzzy) \" + answer.feedback);\n                    } else {\n                        fb.innerHTML = jaxify(\"Correct\");\n                    }\n                    correct = answer.correct;\n                    done = true;\n                }\n\n            }\n\n            if (done) {\n                return false;\n            } else {\n                return true;\n            }\n        });\n\n        if ((!done) && (defaultFB != \"\")) {\n            fb.innerHTML = jaxify(defaultFB);\n        }\n\n        fb.style.display = \"block\";\n        if (correct) {\n            ths.className = \"Input-text\";\n            ths.classList.add(\"correctButton\");\n            fb.className = \"Feedback\";\n            fb.classList.add(\"correct\");\n        } else {\n            ths.className = \"Input-text\";\n            ths.classList.add(\"incorrectButton\");\n            fb.className = \"Feedback\";\n            fb.classList.add(\"incorrect\");\n        }\n\n        var outerContainer = fb.parentElement.parentElement;\n        var responsesContainer = document.getElementById(\"responses\" + outerContainer.id);\n        if (responsesContainer) {\n            var qnum = document.getElementById(\"quizWrap\" + id).dataset.qnum;\n            var responses = JSON.parse(responsesContainer.dataset.responses);\n            responses[qnum] = submission;\n            responsesContainer.setAttribute('data-responses', JSON.stringify(responses));\n            printResponses(responsesContainer);\n        }\n\n        if (typeof MathJax != 'undefined') {\n            var version = MathJax.version;\n            if (version[0] == \"2\") {\n                MathJax.Hub.Queue([\"Typeset\", MathJax.Hub]);\n            } else if (version[0] == \"3\") {\n                MathJax.typeset([fb]);\n            }\n        } else {\n            console.log('MathJax not detected');\n        }\n        // After correct answer, if next JupyterQuiz question exists and has a text input, scroll by current question height\n        if (correct) {\n            var wrapper = ths.closest('.Quiz');\n            if (wrapper) {\n                var nextWrapper = wrapper.nextElementSibling;\n                if (nextWrapper && nextWrapper.classList.contains('Quiz')) {\n                    var nextInput = nextWrapper.querySelector('input.Input-text');\n                    if (nextInput) {\n                        var height = wrapper.getBoundingClientRect().height;\n                        nextInput.focus();\n                    }\n                }\n            }\n        }\n        return false;\n    }\n}\n\nfunction string_keypress(evnt) {\n    var charC = (evnt.which) ? evnt.which : evnt.keyCode;\n\n    if (charC == 13) {\n        check_string(this, evnt);\n    } \n}\n\n\nfunction make_string(qa, outerqDiv, qDiv, aDiv, id) {\n    outerqDiv.className = \"StringQn\";\n    aDiv.style.display = 'block';\n\n    var lab = document.createElement(\"label\");\n    lab.className = \"InpLabel\";\n    lab.innerHTML = \"Type your answer here:\";\n    aDiv.append(lab);\n\n    var inp = document.createElement(\"input\");\n    inp.type = \"text\";\n    inp.id = id + \"-0\";\n    inp.className = \"Input-text\";\n    inp.setAttribute('data-answers', JSON.stringify(qa.answers));\n    // Apply optional input width (approx. number of characters, in em units)\n    if (qa.input_width != null) {\n        inp.style['min-width'] = qa.input_width + 'em';\n    }\n    aDiv.append(inp);\n\n    inp.onkeypress = string_keypress;\n    inp.onpaste = event => false;\n\n    inp.addEventListener(\"focus\", function (event) {\n        this.value = \"\";\n        return false;\n    });\n}\n/*\n * Attempt to fetch questions JSON, with timeout and fallback to embedded data.\n */\n{\n  const controller = new AbortController();\n  const signal = controller.signal;\n  // Abort fetch after 5 seconds\n  setTimeout(() => controller.abort(), 5000);\n  fetch(\"https://raw.githubusercontent.com/PowerCyberTraining/powercybertraining.github.io/refs/heads/cui/pct/modules/04/questions/nonlinear-equations.json\", { signal })\n    .then(response => response.json())\n    .then(json => show_questions(json, qEDXQdGCiVQh))\n    .catch(err => {\n      console.log(\"Fetch error or timeout\", err);\n      show_questions(questionsqEDXQdGCiVQh, qEDXQdGCiVQh);\n    });\n}\n}\n",
      "text/plain": [
       "<IPython.core.display.Javascript object>"
      ]
     },
     "metadata": {},
     "output_type": "display_data"
    }
   ],
   "source": [
    "display_quiz(git_url + \"nonlinear-equations.json\", \n",
    "             colors=color_dict,  \n",
    "            )"
   ]
  }
 ],
 "metadata": {
  "kernelspec": {
   "display_name": "a",
   "language": "python",
   "name": "python3"
  },
  "language_info": {
   "codemirror_mode": {
    "name": "ipython",
    "version": 3
   },
   "file_extension": ".py",
   "mimetype": "text/x-python",
   "name": "python",
   "nbconvert_exporter": "python",
   "pygments_lexer": "ipython3",
   "version": "3.12.11"
  }
 },
 "nbformat": 4,
 "nbformat_minor": 4
}
